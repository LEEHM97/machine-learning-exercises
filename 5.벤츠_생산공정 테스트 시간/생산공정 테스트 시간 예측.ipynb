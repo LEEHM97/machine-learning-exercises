{
 "cells": [
  {
   "cell_type": "markdown",
   "id": "8f3119aa",
   "metadata": {
    "id": "8f3119aa"
   },
   "source": [
    "## 생산공정 테스트 시간 예측하기\n",
    "\n",
    "`(분류, 회귀 Task)`"
   ]
  },
  {
   "cell_type": "markdown",
   "id": "9f7610ea",
   "metadata": {
    "id": "9f7610ea"
   },
   "source": [
    "- ML project를 위해서 사용하는 템플릿 코드를 만듭니다.\n",
    "\n",
    "1. **필요한 라이브러리와 데이터를 불러옵니다.**\n",
    "\n",
    "\n",
    "2. **EDA를 수행합니다.** 이 때 EDA의 목적은 풀어야하는 문제를 위해서 수행됩니다.\n",
    "\n",
    "\n",
    "3. **전처리를 수행합니다.** 이 때 중요한건 **feature engineering**을 어떻게 하느냐 입니다.\n",
    "\n",
    "\n",
    "4. **데이터 분할을 합니다.** 이 때 train data와 test data 간의 분포 차이가 없는지 확인합니다.\n",
    "\n",
    "\n",
    "5. **학습을 진행합니다.** 어떤 모델을 사용하여 학습할지 정합니다. 성능이 잘 나오는 GBM을 추천합니다.\n",
    "\n",
    "\n",
    "6. **hyper-parameter tuning을 수행합니다.** 원하는 목표 성능이 나올 때 까지 진행합니다. 검증 단계를 통해 지속적으로 **overfitting이 되지 않게 주의**하세요.\n",
    "\n",
    "\n",
    "7. **최종 테스트를 진행합니다.** 데이터 분석 대회 포맷에 맞는 submission 파일을 만들어서 성능을 확인해보세요."
   ]
  },
  {
   "cell_type": "markdown",
   "id": "bd2f7530",
   "metadata": {
    "id": "bd2f7530"
   },
   "source": [
    "## 1. 라이브러리, 데이터 불러오기"
   ]
  },
  {
   "cell_type": "code",
   "execution_count": 150,
   "id": "125fc348",
   "metadata": {
    "ExecuteTime": {
     "end_time": "2022-05-31T02:55:43.533324Z",
     "start_time": "2022-05-31T02:55:43.529431Z"
    },
    "id": "125fc348"
   },
   "outputs": [],
   "source": [
    "# 데이터분석 4종 세트\n",
    "import numpy as np\n",
    "import pandas as pd\n",
    "import matplotlib.pyplot as plt\n",
    "import seaborn as sns\n",
    "\n",
    "# 모델들, 성능 평가\n",
    "# (저는 일반적으로 정형데이터로 머신러닝 분석할 때는 이 2개 모델은 그냥 돌려봅니다. 특히 RF가 테스트하기 좋습니다.)\n",
    "from sklearn.ensemble import RandomForestClassifier\n",
    "from sklearn.ensemble import RandomForestRegressor\n",
    "from lightgbm.sklearn import LGBMClassifier\n",
    "from lightgbm.sklearn import LGBMRegressor\n",
    "\n",
    "# 상관관계 분석, VIF : 다중공선성 제거\n",
    "from statsmodels.stats.outliers_influence import variance_inflation_factor\n",
    "\n",
    "from sklearn.metrics import mean_squared_error\n",
    "\n",
    "# KFold(CV), partial : optuna를 사용하기 위함\n",
    "from sklearn.model_selection import KFold\n",
    "from functools import partial\n",
    "\n",
    "# hyper-parameter tuning을 위한 라이브러리, optuna\n",
    "import optuna"
   ]
  },
  {
   "cell_type": "code",
   "execution_count": 131,
   "id": "0e4d49ce",
   "metadata": {
    "ExecuteTime": {
     "end_time": "2022-05-31T02:17:37.478558Z",
     "start_time": "2022-05-31T02:17:37.475639Z"
    },
    "id": "0e4d49ce"
   },
   "outputs": [],
   "source": [
    "# flag setting\n",
    "data_reducing = False ## memory reducing technique\n",
    "feature_reducing = False ## feature extraction (curse of dimensionality)"
   ]
  },
  {
   "cell_type": "code",
   "execution_count": 132,
   "id": "3615c24a",
   "metadata": {
    "ExecuteTime": {
     "end_time": "2022-05-31T02:17:38.094103Z",
     "start_time": "2022-05-31T02:17:37.975614Z"
    },
    "id": "3615c24a"
   },
   "outputs": [],
   "source": [
    "# 데이터를 불러옵니다.\n",
    "base_path = \"C:/Users/gmlkd/data/mercedes-benz-greener-manufacturing/\"\n",
    "train = pd.read_csv(base_path + \"train.csv\")\n",
    "test = pd.read_csv(base_path + \"test.csv\")"
   ]
  },
  {
   "cell_type": "markdown",
   "id": "c9c9acb8",
   "metadata": {
    "id": "c9c9acb8"
   },
   "source": [
    "## 2. EDA"
   ]
  },
  {
   "cell_type": "markdown",
   "id": "6fdf620b",
   "metadata": {
    "id": "6fdf620b"
   },
   "source": [
    "- 데이터에서 찾아야 하는 기초적인 내용들을 확인합니다.\n",
    "\n",
    "\n",
    "- class imbalance, target distribution, outlier, correlation을 확인합니다."
   ]
  },
  {
   "cell_type": "code",
   "execution_count": null,
   "id": "adb06474",
   "metadata": {
    "id": "adb06474"
   },
   "outputs": [],
   "source": [
    "## On your Own\n",
    "data.column.value_counts()\n",
    "sns.countplot()\n",
    "sns.histplot()\n",
    "..."
   ]
  },
  {
   "cell_type": "code",
   "execution_count": 4,
   "id": "7f16b680",
   "metadata": {
    "ExecuteTime": {
     "end_time": "2022-05-31T00:48:23.271631Z",
     "start_time": "2022-05-31T00:48:23.253138Z"
    },
    "scrolled": false
   },
   "outputs": [
    {
     "data": {
      "text/html": [
       "<div>\n",
       "<style scoped>\n",
       "    .dataframe tbody tr th:only-of-type {\n",
       "        vertical-align: middle;\n",
       "    }\n",
       "\n",
       "    .dataframe tbody tr th {\n",
       "        vertical-align: top;\n",
       "    }\n",
       "\n",
       "    .dataframe thead th {\n",
       "        text-align: right;\n",
       "    }\n",
       "</style>\n",
       "<table border=\"1\" class=\"dataframe\">\n",
       "  <thead>\n",
       "    <tr style=\"text-align: right;\">\n",
       "      <th></th>\n",
       "      <th>ID</th>\n",
       "      <th>y</th>\n",
       "      <th>X0</th>\n",
       "      <th>X1</th>\n",
       "      <th>X2</th>\n",
       "      <th>X3</th>\n",
       "      <th>X4</th>\n",
       "      <th>X5</th>\n",
       "      <th>X6</th>\n",
       "      <th>X8</th>\n",
       "      <th>...</th>\n",
       "      <th>X375</th>\n",
       "      <th>X376</th>\n",
       "      <th>X377</th>\n",
       "      <th>X378</th>\n",
       "      <th>X379</th>\n",
       "      <th>X380</th>\n",
       "      <th>X382</th>\n",
       "      <th>X383</th>\n",
       "      <th>X384</th>\n",
       "      <th>X385</th>\n",
       "    </tr>\n",
       "  </thead>\n",
       "  <tbody>\n",
       "    <tr>\n",
       "      <th>0</th>\n",
       "      <td>0</td>\n",
       "      <td>130.81</td>\n",
       "      <td>k</td>\n",
       "      <td>v</td>\n",
       "      <td>at</td>\n",
       "      <td>a</td>\n",
       "      <td>d</td>\n",
       "      <td>u</td>\n",
       "      <td>j</td>\n",
       "      <td>o</td>\n",
       "      <td>...</td>\n",
       "      <td>0</td>\n",
       "      <td>0</td>\n",
       "      <td>1</td>\n",
       "      <td>0</td>\n",
       "      <td>0</td>\n",
       "      <td>0</td>\n",
       "      <td>0</td>\n",
       "      <td>0</td>\n",
       "      <td>0</td>\n",
       "      <td>0</td>\n",
       "    </tr>\n",
       "    <tr>\n",
       "      <th>1</th>\n",
       "      <td>6</td>\n",
       "      <td>88.53</td>\n",
       "      <td>k</td>\n",
       "      <td>t</td>\n",
       "      <td>av</td>\n",
       "      <td>e</td>\n",
       "      <td>d</td>\n",
       "      <td>y</td>\n",
       "      <td>l</td>\n",
       "      <td>o</td>\n",
       "      <td>...</td>\n",
       "      <td>1</td>\n",
       "      <td>0</td>\n",
       "      <td>0</td>\n",
       "      <td>0</td>\n",
       "      <td>0</td>\n",
       "      <td>0</td>\n",
       "      <td>0</td>\n",
       "      <td>0</td>\n",
       "      <td>0</td>\n",
       "      <td>0</td>\n",
       "    </tr>\n",
       "    <tr>\n",
       "      <th>2</th>\n",
       "      <td>7</td>\n",
       "      <td>76.26</td>\n",
       "      <td>az</td>\n",
       "      <td>w</td>\n",
       "      <td>n</td>\n",
       "      <td>c</td>\n",
       "      <td>d</td>\n",
       "      <td>x</td>\n",
       "      <td>j</td>\n",
       "      <td>x</td>\n",
       "      <td>...</td>\n",
       "      <td>0</td>\n",
       "      <td>0</td>\n",
       "      <td>0</td>\n",
       "      <td>0</td>\n",
       "      <td>0</td>\n",
       "      <td>0</td>\n",
       "      <td>1</td>\n",
       "      <td>0</td>\n",
       "      <td>0</td>\n",
       "      <td>0</td>\n",
       "    </tr>\n",
       "    <tr>\n",
       "      <th>3</th>\n",
       "      <td>9</td>\n",
       "      <td>80.62</td>\n",
       "      <td>az</td>\n",
       "      <td>t</td>\n",
       "      <td>n</td>\n",
       "      <td>f</td>\n",
       "      <td>d</td>\n",
       "      <td>x</td>\n",
       "      <td>l</td>\n",
       "      <td>e</td>\n",
       "      <td>...</td>\n",
       "      <td>0</td>\n",
       "      <td>0</td>\n",
       "      <td>0</td>\n",
       "      <td>0</td>\n",
       "      <td>0</td>\n",
       "      <td>0</td>\n",
       "      <td>0</td>\n",
       "      <td>0</td>\n",
       "      <td>0</td>\n",
       "      <td>0</td>\n",
       "    </tr>\n",
       "    <tr>\n",
       "      <th>4</th>\n",
       "      <td>13</td>\n",
       "      <td>78.02</td>\n",
       "      <td>az</td>\n",
       "      <td>v</td>\n",
       "      <td>n</td>\n",
       "      <td>f</td>\n",
       "      <td>d</td>\n",
       "      <td>h</td>\n",
       "      <td>d</td>\n",
       "      <td>n</td>\n",
       "      <td>...</td>\n",
       "      <td>0</td>\n",
       "      <td>0</td>\n",
       "      <td>0</td>\n",
       "      <td>0</td>\n",
       "      <td>0</td>\n",
       "      <td>0</td>\n",
       "      <td>0</td>\n",
       "      <td>0</td>\n",
       "      <td>0</td>\n",
       "      <td>0</td>\n",
       "    </tr>\n",
       "    <tr>\n",
       "      <th>...</th>\n",
       "      <td>...</td>\n",
       "      <td>...</td>\n",
       "      <td>...</td>\n",
       "      <td>...</td>\n",
       "      <td>...</td>\n",
       "      <td>...</td>\n",
       "      <td>...</td>\n",
       "      <td>...</td>\n",
       "      <td>...</td>\n",
       "      <td>...</td>\n",
       "      <td>...</td>\n",
       "      <td>...</td>\n",
       "      <td>...</td>\n",
       "      <td>...</td>\n",
       "      <td>...</td>\n",
       "      <td>...</td>\n",
       "      <td>...</td>\n",
       "      <td>...</td>\n",
       "      <td>...</td>\n",
       "      <td>...</td>\n",
       "      <td>...</td>\n",
       "    </tr>\n",
       "    <tr>\n",
       "      <th>4204</th>\n",
       "      <td>8405</td>\n",
       "      <td>107.39</td>\n",
       "      <td>ak</td>\n",
       "      <td>s</td>\n",
       "      <td>as</td>\n",
       "      <td>c</td>\n",
       "      <td>d</td>\n",
       "      <td>aa</td>\n",
       "      <td>d</td>\n",
       "      <td>q</td>\n",
       "      <td>...</td>\n",
       "      <td>1</td>\n",
       "      <td>0</td>\n",
       "      <td>0</td>\n",
       "      <td>0</td>\n",
       "      <td>0</td>\n",
       "      <td>0</td>\n",
       "      <td>0</td>\n",
       "      <td>0</td>\n",
       "      <td>0</td>\n",
       "      <td>0</td>\n",
       "    </tr>\n",
       "    <tr>\n",
       "      <th>4205</th>\n",
       "      <td>8406</td>\n",
       "      <td>108.77</td>\n",
       "      <td>j</td>\n",
       "      <td>o</td>\n",
       "      <td>t</td>\n",
       "      <td>d</td>\n",
       "      <td>d</td>\n",
       "      <td>aa</td>\n",
       "      <td>h</td>\n",
       "      <td>h</td>\n",
       "      <td>...</td>\n",
       "      <td>0</td>\n",
       "      <td>1</td>\n",
       "      <td>0</td>\n",
       "      <td>0</td>\n",
       "      <td>0</td>\n",
       "      <td>0</td>\n",
       "      <td>0</td>\n",
       "      <td>0</td>\n",
       "      <td>0</td>\n",
       "      <td>0</td>\n",
       "    </tr>\n",
       "    <tr>\n",
       "      <th>4206</th>\n",
       "      <td>8412</td>\n",
       "      <td>109.22</td>\n",
       "      <td>ak</td>\n",
       "      <td>v</td>\n",
       "      <td>r</td>\n",
       "      <td>a</td>\n",
       "      <td>d</td>\n",
       "      <td>aa</td>\n",
       "      <td>g</td>\n",
       "      <td>e</td>\n",
       "      <td>...</td>\n",
       "      <td>0</td>\n",
       "      <td>0</td>\n",
       "      <td>1</td>\n",
       "      <td>0</td>\n",
       "      <td>0</td>\n",
       "      <td>0</td>\n",
       "      <td>0</td>\n",
       "      <td>0</td>\n",
       "      <td>0</td>\n",
       "      <td>0</td>\n",
       "    </tr>\n",
       "    <tr>\n",
       "      <th>4207</th>\n",
       "      <td>8415</td>\n",
       "      <td>87.48</td>\n",
       "      <td>al</td>\n",
       "      <td>r</td>\n",
       "      <td>e</td>\n",
       "      <td>f</td>\n",
       "      <td>d</td>\n",
       "      <td>aa</td>\n",
       "      <td>l</td>\n",
       "      <td>u</td>\n",
       "      <td>...</td>\n",
       "      <td>0</td>\n",
       "      <td>0</td>\n",
       "      <td>0</td>\n",
       "      <td>0</td>\n",
       "      <td>0</td>\n",
       "      <td>0</td>\n",
       "      <td>0</td>\n",
       "      <td>0</td>\n",
       "      <td>0</td>\n",
       "      <td>0</td>\n",
       "    </tr>\n",
       "    <tr>\n",
       "      <th>4208</th>\n",
       "      <td>8417</td>\n",
       "      <td>110.85</td>\n",
       "      <td>z</td>\n",
       "      <td>r</td>\n",
       "      <td>ae</td>\n",
       "      <td>c</td>\n",
       "      <td>d</td>\n",
       "      <td>aa</td>\n",
       "      <td>g</td>\n",
       "      <td>w</td>\n",
       "      <td>...</td>\n",
       "      <td>1</td>\n",
       "      <td>0</td>\n",
       "      <td>0</td>\n",
       "      <td>0</td>\n",
       "      <td>0</td>\n",
       "      <td>0</td>\n",
       "      <td>0</td>\n",
       "      <td>0</td>\n",
       "      <td>0</td>\n",
       "      <td>0</td>\n",
       "    </tr>\n",
       "  </tbody>\n",
       "</table>\n",
       "<p>4209 rows × 378 columns</p>\n",
       "</div>"
      ],
      "text/plain": [
       "        ID       y  X0 X1  X2 X3 X4  X5 X6 X8  ...  X375  X376  X377  X378  \\\n",
       "0        0  130.81   k  v  at  a  d   u  j  o  ...     0     0     1     0   \n",
       "1        6   88.53   k  t  av  e  d   y  l  o  ...     1     0     0     0   \n",
       "2        7   76.26  az  w   n  c  d   x  j  x  ...     0     0     0     0   \n",
       "3        9   80.62  az  t   n  f  d   x  l  e  ...     0     0     0     0   \n",
       "4       13   78.02  az  v   n  f  d   h  d  n  ...     0     0     0     0   \n",
       "...    ...     ...  .. ..  .. .. ..  .. .. ..  ...   ...   ...   ...   ...   \n",
       "4204  8405  107.39  ak  s  as  c  d  aa  d  q  ...     1     0     0     0   \n",
       "4205  8406  108.77   j  o   t  d  d  aa  h  h  ...     0     1     0     0   \n",
       "4206  8412  109.22  ak  v   r  a  d  aa  g  e  ...     0     0     1     0   \n",
       "4207  8415   87.48  al  r   e  f  d  aa  l  u  ...     0     0     0     0   \n",
       "4208  8417  110.85   z  r  ae  c  d  aa  g  w  ...     1     0     0     0   \n",
       "\n",
       "      X379  X380  X382  X383  X384  X385  \n",
       "0        0     0     0     0     0     0  \n",
       "1        0     0     0     0     0     0  \n",
       "2        0     0     1     0     0     0  \n",
       "3        0     0     0     0     0     0  \n",
       "4        0     0     0     0     0     0  \n",
       "...    ...   ...   ...   ...   ...   ...  \n",
       "4204     0     0     0     0     0     0  \n",
       "4205     0     0     0     0     0     0  \n",
       "4206     0     0     0     0     0     0  \n",
       "4207     0     0     0     0     0     0  \n",
       "4208     0     0     0     0     0     0  \n",
       "\n",
       "[4209 rows x 378 columns]"
      ]
     },
     "execution_count": 4,
     "metadata": {},
     "output_type": "execute_result"
    }
   ],
   "source": [
    "train"
   ]
  },
  {
   "cell_type": "code",
   "execution_count": 133,
   "id": "5fa6c8cd",
   "metadata": {
    "ExecuteTime": {
     "end_time": "2022-05-31T02:17:40.843805Z",
     "start_time": "2022-05-31T02:17:40.836018Z"
    }
   },
   "outputs": [
    {
     "name": "stdout",
     "output_type": "stream",
     "text": [
      "<class 'pandas.core.frame.DataFrame'>\n",
      "RangeIndex: 4209 entries, 0 to 4208\n",
      "Columns: 378 entries, ID to X385\n",
      "dtypes: float64(1), int64(369), object(8)\n",
      "memory usage: 12.1+ MB\n"
     ]
    }
   ],
   "source": [
    "# 378개 columns 중에 object dtype는 8개 (X0,1,2,3,4,5,6,8이 object)\n",
    "\n",
    "train.info()"
   ]
  },
  {
   "cell_type": "code",
   "execution_count": 36,
   "id": "807ed146",
   "metadata": {
    "ExecuteTime": {
     "end_time": "2022-05-31T00:56:45.847150Z",
     "start_time": "2022-05-31T00:56:45.226258Z"
    }
   },
   "outputs": [
    {
     "data": {
      "image/png": "[encoded data removed]",
      "text/plain": [
       "<Figure size 720x864 with 4 Axes>"
      ]
     },
     "metadata": {
      "needs_background": "light"
     },
     "output_type": "display_data"
    }
   ],
   "source": [
    "plt.figure(figsize=(10,12))\n",
    "plt.subplot(411)\n",
    "sns.histplot(data=train, x=train.X0.sort_values(), kde=True)\n",
    "plt.xticks(rotation=90)\n",
    "\n",
    "plt.subplot(412)\n",
    "sns.histplot(data=train, x=train.X1.sort_values(), kde=True)\n",
    "\n",
    "plt.subplot(413)\n",
    "sns.histplot(data=train, x=train.X2.sort_values(), kde=True)\n",
    "plt.xticks(rotation=90)\n",
    "\n",
    "plt.subplot(414)\n",
    "sns.histplot(data=train, x=train.X3.sort_values(), kde=True)\n",
    "plt.show()"
   ]
  },
  {
   "cell_type": "code",
   "execution_count": 38,
   "id": "83acb4c5",
   "metadata": {
    "ExecuteTime": {
     "end_time": "2022-05-31T00:57:27.672825Z",
     "start_time": "2022-05-31T00:57:27.166633Z"
    }
   },
   "outputs": [
    {
     "data": {
      "image/png": "[encoded data removed]",
      "text/plain": [
       "<Figure size 720x864 with 4 Axes>"
      ]
     },
     "metadata": {
      "needs_background": "light"
     },
     "output_type": "display_data"
    }
   ],
   "source": [
    "plt.figure(figsize=(10,12))\n",
    "plt.subplot(411)\n",
    "sns.histplot(data=train, x=train.X4.sort_values(), kde=True)\n",
    "\n",
    "plt.subplot(412)\n",
    "sns.histplot(data=train, x=train.X5.sort_values(), kde=True)\n",
    "\n",
    "plt.subplot(413)\n",
    "sns.histplot(data=train, x=train.X6.sort_values(), kde=True)\n",
    "\n",
    "plt.subplot(414)\n",
    "sns.histplot(data=train, x=train.X8.sort_values(), kde=True)\n",
    "plt.show()"
   ]
  },
  {
   "cell_type": "code",
   "execution_count": 40,
   "id": "491d1ee3",
   "metadata": {
    "ExecuteTime": {
     "end_time": "2022-05-31T00:58:45.524796Z",
     "start_time": "2022-05-31T00:58:45.519929Z"
    }
   },
   "outputs": [
    {
     "data": {
      "text/plain": [
       "d    4205\n",
       "a       2\n",
       "b       1\n",
       "c       1\n",
       "Name: X4, dtype: int64"
      ]
     },
     "execution_count": 40,
     "metadata": {},
     "output_type": "execute_result"
    }
   ],
   "source": [
    "train.X4.value_counts()"
   ]
  },
  {
   "cell_type": "code",
   "execution_count": 42,
   "id": "c9ea39a6",
   "metadata": {
    "ExecuteTime": {
     "end_time": "2022-05-31T01:01:07.183869Z",
     "start_time": "2022-05-31T01:01:07.009606Z"
    }
   },
   "outputs": [
    {
     "data": {
      "text/plain": [
       "<AxesSubplot:xlabel='y', ylabel='Count'>"
      ]
     },
     "execution_count": 42,
     "metadata": {},
     "output_type": "execute_result"
    },
    {
     "data": {
      "image/png": "[encoded data removed]",
      "text/plain": [
       "<Figure size 720x576 with 1 Axes>"
      ]
     },
     "metadata": {
      "needs_background": "light"
     },
     "output_type": "display_data"
    }
   ],
   "source": [
    "plt.figure(figsize=(10,8))\n",
    "sns.histplot(data=train, x=train.y, kde=True)"
   ]
  },
  {
   "cell_type": "code",
   "execution_count": 43,
   "id": "afb1f697",
   "metadata": {
    "ExecuteTime": {
     "end_time": "2022-05-31T01:01:32.266160Z",
     "start_time": "2022-05-31T01:01:32.260319Z"
    }
   },
   "outputs": [
    {
     "data": {
      "text/plain": [
       "count    4209.000000\n",
       "mean      100.669318\n",
       "std        12.679381\n",
       "min        72.110000\n",
       "25%        90.820000\n",
       "50%        99.150000\n",
       "75%       109.010000\n",
       "max       265.320000\n",
       "Name: y, dtype: float64"
      ]
     },
     "execution_count": 43,
     "metadata": {},
     "output_type": "execute_result"
    }
   ],
   "source": [
    "train.y.describe()"
   ]
  },
  {
   "cell_type": "code",
   "execution_count": 47,
   "id": "fc8edf08",
   "metadata": {
    "ExecuteTime": {
     "end_time": "2022-05-31T01:15:05.859571Z",
     "start_time": "2022-05-31T01:15:05.854705Z"
    }
   },
   "outputs": [
    {
     "data": {
      "text/plain": [
       "0    4209\n",
       "Name: X11, dtype: int64"
      ]
     },
     "execution_count": 47,
     "metadata": {},
     "output_type": "execute_result"
    }
   ],
   "source": [
    "# X11 삭제\n",
    "train.X11.value_counts()"
   ]
  },
  {
   "cell_type": "code",
   "execution_count": 49,
   "id": "6ebebe4c",
   "metadata": {
    "ExecuteTime": {
     "end_time": "2022-05-31T01:18:20.691344Z",
     "start_time": "2022-05-31T01:18:20.686477Z"
    }
   },
   "outputs": [
    {
     "data": {
      "text/plain": [
       "0    4209\n",
       "Name: X347, dtype: int64"
      ]
     },
     "execution_count": 49,
     "metadata": {},
     "output_type": "execute_result"
    }
   ],
   "source": [
    "# X347 삭제\n",
    "train.X347.value_counts()"
   ]
  },
  {
   "cell_type": "markdown",
   "id": "f2c602bd",
   "metadata": {
    "id": "f2c602bd"
   },
   "source": [
    "이런 식으로 여러가지 그래프를 그려가며, 데이터에 대한 인사이트를 얻습니다!"
   ]
  },
  {
   "cell_type": "markdown",
   "id": "9dbb8802",
   "metadata": {
    "id": "9dbb8802"
   },
   "source": [
    "### 3. 전처리"
   ]
  },
  {
   "cell_type": "markdown",
   "id": "b79a6f0a",
   "metadata": {
    "id": "b79a6f0a"
   },
   "source": [
    "#### 결측치 처리"
   ]
  },
  {
   "cell_type": "code",
   "execution_count": 134,
   "id": "bbafdcd0",
   "metadata": {
    "ExecuteTime": {
     "end_time": "2022-05-31T02:17:46.522548Z",
     "start_time": "2022-05-31T02:17:46.514761Z"
    },
    "id": "bbafdcd0"
   },
   "outputs": [
    {
     "data": {
      "text/plain": [
       "False"
      ]
     },
     "execution_count": 134,
     "metadata": {},
     "output_type": "execute_result"
    }
   ],
   "source": [
    "# 결측치가 있는 column\n",
    "\n",
    "train.isnull().values.any()\n",
    "# 결측치는 없다."
   ]
  },
  {
   "cell_type": "code",
   "execution_count": 135,
   "id": "c4d33e12",
   "metadata": {
    "ExecuteTime": {
     "end_time": "2022-05-31T02:17:49.186474Z",
     "start_time": "2022-05-31T02:17:48.364924Z"
    },
    "id": "c4d33e12",
    "scrolled": false
   },
   "outputs": [
    {
     "data": {
      "text/html": [
       "<div>\n",
       "<style scoped>\n",
       "    .dataframe tbody tr th:only-of-type {\n",
       "        vertical-align: middle;\n",
       "    }\n",
       "\n",
       "    .dataframe tbody tr th {\n",
       "        vertical-align: top;\n",
       "    }\n",
       "\n",
       "    .dataframe thead th {\n",
       "        text-align: right;\n",
       "    }\n",
       "</style>\n",
       "<table border=\"1\" class=\"dataframe\">\n",
       "  <thead>\n",
       "    <tr style=\"text-align: right;\">\n",
       "      <th></th>\n",
       "      <th>ID</th>\n",
       "      <th>y</th>\n",
       "      <th>X10</th>\n",
       "      <th>X11</th>\n",
       "      <th>X12</th>\n",
       "      <th>X13</th>\n",
       "      <th>X14</th>\n",
       "      <th>X15</th>\n",
       "      <th>X16</th>\n",
       "      <th>X17</th>\n",
       "      <th>...</th>\n",
       "      <th>X375</th>\n",
       "      <th>X376</th>\n",
       "      <th>X377</th>\n",
       "      <th>X378</th>\n",
       "      <th>X379</th>\n",
       "      <th>X380</th>\n",
       "      <th>X382</th>\n",
       "      <th>X383</th>\n",
       "      <th>X384</th>\n",
       "      <th>X385</th>\n",
       "    </tr>\n",
       "  </thead>\n",
       "  <tbody>\n",
       "    <tr>\n",
       "      <th>ID</th>\n",
       "      <td>1.000000</td>\n",
       "      <td>0.055108</td>\n",
       "      <td>0.001602</td>\n",
       "      <td>NaN</td>\n",
       "      <td>0.058988</td>\n",
       "      <td>0.031917</td>\n",
       "      <td>0.025438</td>\n",
       "      <td>0.002237</td>\n",
       "      <td>0.036480</td>\n",
       "      <td>0.038171</td>\n",
       "      <td>...</td>\n",
       "      <td>0.045229</td>\n",
       "      <td>0.080259</td>\n",
       "      <td>0.022965</td>\n",
       "      <td>0.030371</td>\n",
       "      <td>0.023382</td>\n",
       "      <td>0.013577</td>\n",
       "      <td>0.038171</td>\n",
       "      <td>0.009332</td>\n",
       "      <td>0.015355</td>\n",
       "      <td>0.029059</td>\n",
       "    </tr>\n",
       "    <tr>\n",
       "      <th>y</th>\n",
       "      <td>0.055108</td>\n",
       "      <td>1.000000</td>\n",
       "      <td>0.026985</td>\n",
       "      <td>NaN</td>\n",
       "      <td>0.089792</td>\n",
       "      <td>0.048276</td>\n",
       "      <td>0.193643</td>\n",
       "      <td>0.023116</td>\n",
       "      <td>0.048946</td>\n",
       "      <td>0.159815</td>\n",
       "      <td>...</td>\n",
       "      <td>0.029100</td>\n",
       "      <td>0.114005</td>\n",
       "      <td>0.061403</td>\n",
       "      <td>0.258679</td>\n",
       "      <td>0.067919</td>\n",
       "      <td>0.040932</td>\n",
       "      <td>0.159815</td>\n",
       "      <td>0.040291</td>\n",
       "      <td>0.004591</td>\n",
       "      <td>0.022280</td>\n",
       "    </tr>\n",
       "    <tr>\n",
       "      <th>X10</th>\n",
       "      <td>0.001602</td>\n",
       "      <td>0.026985</td>\n",
       "      <td>1.000000</td>\n",
       "      <td>NaN</td>\n",
       "      <td>0.033084</td>\n",
       "      <td>0.028806</td>\n",
       "      <td>0.100474</td>\n",
       "      <td>0.002532</td>\n",
       "      <td>0.005944</td>\n",
       "      <td>0.010164</td>\n",
       "      <td>...</td>\n",
       "      <td>0.165277</td>\n",
       "      <td>0.028618</td>\n",
       "      <td>0.074244</td>\n",
       "      <td>0.016870</td>\n",
       "      <td>0.011374</td>\n",
       "      <td>0.010479</td>\n",
       "      <td>0.010164</td>\n",
       "      <td>0.004740</td>\n",
       "      <td>0.002532</td>\n",
       "      <td>0.004387</td>\n",
       "    </tr>\n",
       "    <tr>\n",
       "      <th>X11</th>\n",
       "      <td>NaN</td>\n",
       "      <td>NaN</td>\n",
       "      <td>NaN</td>\n",
       "      <td>NaN</td>\n",
       "      <td>NaN</td>\n",
       "      <td>NaN</td>\n",
       "      <td>NaN</td>\n",
       "      <td>NaN</td>\n",
       "      <td>NaN</td>\n",
       "      <td>NaN</td>\n",
       "      <td>...</td>\n",
       "      <td>NaN</td>\n",
       "      <td>NaN</td>\n",
       "      <td>NaN</td>\n",
       "      <td>NaN</td>\n",
       "      <td>NaN</td>\n",
       "      <td>NaN</td>\n",
       "      <td>NaN</td>\n",
       "      <td>NaN</td>\n",
       "      <td>NaN</td>\n",
       "      <td>NaN</td>\n",
       "    </tr>\n",
       "    <tr>\n",
       "      <th>X12</th>\n",
       "      <td>0.058988</td>\n",
       "      <td>0.089792</td>\n",
       "      <td>0.033084</td>\n",
       "      <td>NaN</td>\n",
       "      <td>1.000000</td>\n",
       "      <td>0.214825</td>\n",
       "      <td>0.246513</td>\n",
       "      <td>0.006212</td>\n",
       "      <td>0.014584</td>\n",
       "      <td>0.024937</td>\n",
       "      <td>...</td>\n",
       "      <td>0.107864</td>\n",
       "      <td>0.070214</td>\n",
       "      <td>0.030134</td>\n",
       "      <td>0.016043</td>\n",
       "      <td>0.027907</td>\n",
       "      <td>0.005566</td>\n",
       "      <td>0.024937</td>\n",
       "      <td>0.011628</td>\n",
       "      <td>0.006212</td>\n",
       "      <td>0.010765</td>\n",
       "    </tr>\n",
       "    <tr>\n",
       "      <th>...</th>\n",
       "      <td>...</td>\n",
       "      <td>...</td>\n",
       "      <td>...</td>\n",
       "      <td>...</td>\n",
       "      <td>...</td>\n",
       "      <td>...</td>\n",
       "      <td>...</td>\n",
       "      <td>...</td>\n",
       "      <td>...</td>\n",
       "      <td>...</td>\n",
       "      <td>...</td>\n",
       "      <td>...</td>\n",
       "      <td>...</td>\n",
       "      <td>...</td>\n",
       "      <td>...</td>\n",
       "      <td>...</td>\n",
       "      <td>...</td>\n",
       "      <td>...</td>\n",
       "      <td>...</td>\n",
       "      <td>...</td>\n",
       "      <td>...</td>\n",
       "    </tr>\n",
       "    <tr>\n",
       "      <th>X380</th>\n",
       "      <td>0.013577</td>\n",
       "      <td>0.040932</td>\n",
       "      <td>0.010479</td>\n",
       "      <td>NaN</td>\n",
       "      <td>0.005566</td>\n",
       "      <td>0.023045</td>\n",
       "      <td>0.007743</td>\n",
       "      <td>0.001968</td>\n",
       "      <td>0.004619</td>\n",
       "      <td>0.007899</td>\n",
       "      <td>...</td>\n",
       "      <td>0.061741</td>\n",
       "      <td>0.022240</td>\n",
       "      <td>0.061168</td>\n",
       "      <td>0.013110</td>\n",
       "      <td>0.008839</td>\n",
       "      <td>1.000000</td>\n",
       "      <td>0.007899</td>\n",
       "      <td>0.003683</td>\n",
       "      <td>0.001968</td>\n",
       "      <td>0.003410</td>\n",
       "    </tr>\n",
       "    <tr>\n",
       "      <th>X382</th>\n",
       "      <td>0.038171</td>\n",
       "      <td>0.159815</td>\n",
       "      <td>0.010164</td>\n",
       "      <td>NaN</td>\n",
       "      <td>0.024937</td>\n",
       "      <td>0.021713</td>\n",
       "      <td>0.012713</td>\n",
       "      <td>0.001908</td>\n",
       "      <td>0.004480</td>\n",
       "      <td>1.000000</td>\n",
       "      <td>...</td>\n",
       "      <td>0.059883</td>\n",
       "      <td>0.021571</td>\n",
       "      <td>0.059327</td>\n",
       "      <td>0.012716</td>\n",
       "      <td>0.008573</td>\n",
       "      <td>0.007899</td>\n",
       "      <td>1.000000</td>\n",
       "      <td>0.003572</td>\n",
       "      <td>0.001908</td>\n",
       "      <td>0.003307</td>\n",
       "    </tr>\n",
       "    <tr>\n",
       "      <th>X383</th>\n",
       "      <td>0.009332</td>\n",
       "      <td>0.040291</td>\n",
       "      <td>0.004740</td>\n",
       "      <td>NaN</td>\n",
       "      <td>0.011628</td>\n",
       "      <td>0.010125</td>\n",
       "      <td>0.023604</td>\n",
       "      <td>0.000890</td>\n",
       "      <td>0.002089</td>\n",
       "      <td>0.003572</td>\n",
       "      <td>...</td>\n",
       "      <td>0.015413</td>\n",
       "      <td>0.010059</td>\n",
       "      <td>0.035107</td>\n",
       "      <td>0.005930</td>\n",
       "      <td>0.003998</td>\n",
       "      <td>0.003683</td>\n",
       "      <td>0.003572</td>\n",
       "      <td>1.000000</td>\n",
       "      <td>0.000890</td>\n",
       "      <td>0.001542</td>\n",
       "    </tr>\n",
       "    <tr>\n",
       "      <th>X384</th>\n",
       "      <td>0.015355</td>\n",
       "      <td>0.004591</td>\n",
       "      <td>0.002532</td>\n",
       "      <td>NaN</td>\n",
       "      <td>0.006212</td>\n",
       "      <td>0.041242</td>\n",
       "      <td>0.025199</td>\n",
       "      <td>0.000475</td>\n",
       "      <td>0.001116</td>\n",
       "      <td>0.001908</td>\n",
       "      <td>...</td>\n",
       "      <td>0.014917</td>\n",
       "      <td>0.005373</td>\n",
       "      <td>0.008694</td>\n",
       "      <td>0.003168</td>\n",
       "      <td>0.002136</td>\n",
       "      <td>0.001968</td>\n",
       "      <td>0.001908</td>\n",
       "      <td>0.000890</td>\n",
       "      <td>1.000000</td>\n",
       "      <td>0.000824</td>\n",
       "    </tr>\n",
       "    <tr>\n",
       "      <th>X385</th>\n",
       "      <td>0.029059</td>\n",
       "      <td>0.022280</td>\n",
       "      <td>0.004387</td>\n",
       "      <td>NaN</td>\n",
       "      <td>0.010765</td>\n",
       "      <td>0.009373</td>\n",
       "      <td>0.043667</td>\n",
       "      <td>0.000824</td>\n",
       "      <td>0.001934</td>\n",
       "      <td>0.003307</td>\n",
       "      <td>...</td>\n",
       "      <td>0.055225</td>\n",
       "      <td>0.009311</td>\n",
       "      <td>0.025610</td>\n",
       "      <td>0.005489</td>\n",
       "      <td>0.003701</td>\n",
       "      <td>0.003410</td>\n",
       "      <td>0.003307</td>\n",
       "      <td>0.001542</td>\n",
       "      <td>0.000824</td>\n",
       "      <td>1.000000</td>\n",
       "    </tr>\n",
       "  </tbody>\n",
       "</table>\n",
       "<p>370 rows × 370 columns</p>\n",
       "</div>"
      ],
      "text/plain": [
       "            ID         y       X10  X11       X12       X13       X14  \\\n",
       "ID    1.000000  0.055108  0.001602  NaN  0.058988  0.031917  0.025438   \n",
       "y     0.055108  1.000000  0.026985  NaN  0.089792  0.048276  0.193643   \n",
       "X10   0.001602  0.026985  1.000000  NaN  0.033084  0.028806  0.100474   \n",
       "X11        NaN       NaN       NaN  NaN       NaN       NaN       NaN   \n",
       "X12   0.058988  0.089792  0.033084  NaN  1.000000  0.214825  0.246513   \n",
       "...        ...       ...       ...  ...       ...       ...       ...   \n",
       "X380  0.013577  0.040932  0.010479  NaN  0.005566  0.023045  0.007743   \n",
       "X382  0.038171  0.159815  0.010164  NaN  0.024937  0.021713  0.012713   \n",
       "X383  0.009332  0.040291  0.004740  NaN  0.011628  0.010125  0.023604   \n",
       "X384  0.015355  0.004591  0.002532  NaN  0.006212  0.041242  0.025199   \n",
       "X385  0.029059  0.022280  0.004387  NaN  0.010765  0.009373  0.043667   \n",
       "\n",
       "           X15       X16       X17  ...      X375      X376      X377  \\\n",
       "ID    0.002237  0.036480  0.038171  ...  0.045229  0.080259  0.022965   \n",
       "y     0.023116  0.048946  0.159815  ...  0.029100  0.114005  0.061403   \n",
       "X10   0.002532  0.005944  0.010164  ...  0.165277  0.028618  0.074244   \n",
       "X11        NaN       NaN       NaN  ...       NaN       NaN       NaN   \n",
       "X12   0.006212  0.014584  0.024937  ...  0.107864  0.070214  0.030134   \n",
       "...        ...       ...       ...  ...       ...       ...       ...   \n",
       "X380  0.001968  0.004619  0.007899  ...  0.061741  0.022240  0.061168   \n",
       "X382  0.001908  0.004480  1.000000  ...  0.059883  0.021571  0.059327   \n",
       "X383  0.000890  0.002089  0.003572  ...  0.015413  0.010059  0.035107   \n",
       "X384  0.000475  0.001116  0.001908  ...  0.014917  0.005373  0.008694   \n",
       "X385  0.000824  0.001934  0.003307  ...  0.055225  0.009311  0.025610   \n",
       "\n",
       "          X378      X379      X380      X382      X383      X384      X385  \n",
       "ID    0.030371  0.023382  0.013577  0.038171  0.009332  0.015355  0.029059  \n",
       "y     0.258679  0.067919  0.040932  0.159815  0.040291  0.004591  0.022280  \n",
       "X10   0.016870  0.011374  0.010479  0.010164  0.004740  0.002532  0.004387  \n",
       "X11        NaN       NaN       NaN       NaN       NaN       NaN       NaN  \n",
       "X12   0.016043  0.027907  0.005566  0.024937  0.011628  0.006212  0.010765  \n",
       "...        ...       ...       ...       ...       ...       ...       ...  \n",
       "X380  0.013110  0.008839  1.000000  0.007899  0.003683  0.001968  0.003410  \n",
       "X382  0.012716  0.008573  0.007899  1.000000  0.003572  0.001908  0.003307  \n",
       "X383  0.005930  0.003998  0.003683  0.003572  1.000000  0.000890  0.001542  \n",
       "X384  0.003168  0.002136  0.001968  0.001908  0.000890  1.000000  0.000824  \n",
       "X385  0.005489  0.003701  0.003410  0.003307  0.001542  0.000824  1.000000  \n",
       "\n",
       "[370 rows x 370 columns]"
      ]
     },
     "execution_count": 135,
     "metadata": {},
     "output_type": "execute_result"
    }
   ],
   "source": [
    "# 중복정보가 있는 column 제거하기 위해 상관계수를 확인해봅니다.\n",
    "correlated_features = train.corr().abs()\n",
    "correlated_features"
   ]
  },
  {
   "cell_type": "code",
   "execution_count": 137,
   "id": "09d1edee",
   "metadata": {
    "ExecuteTime": {
     "end_time": "2022-05-31T02:20:35.900686Z",
     "start_time": "2022-05-31T02:20:35.893873Z"
    }
   },
   "outputs": [],
   "source": [
    "upper_tri = correlated_features.where(np.triu(np.ones(correlated_features.shape),k=1).astype(np.bool_))"
   ]
  },
  {
   "cell_type": "markdown",
   "id": "0b757dc0",
   "metadata": {
    "id": "0b757dc0"
   },
   "source": [
    "#### 다중공선성 처리"
   ]
  },
  {
   "cell_type": "code",
   "execution_count": 138,
   "id": "21c54b7c",
   "metadata": {
    "ExecuteTime": {
     "end_time": "2022-05-31T02:20:39.332452Z",
     "start_time": "2022-05-31T02:20:39.307145Z"
    }
   },
   "outputs": [
    {
     "name": "stdout",
     "output_type": "stream",
     "text": [
      "['X35', 'X37', 'X39', 'X54', 'X61', 'X66', 'X76', 'X84', 'X89', 'X90', 'X94', 'X98', 'X99', 'X101', 'X102', 'X111', 'X113', 'X118', 'X119', 'X120', 'X122', 'X126', 'X128', 'X129', 'X130', 'X132', 'X134', 'X136', 'X137', 'X140', 'X146', 'X147', 'X148', 'X150', 'X157', 'X158', 'X161', 'X162', 'X166', 'X170', 'X171', 'X172', 'X178', 'X179', 'X183', 'X186', 'X187', 'X191', 'X194', 'X198', 'X199', 'X202', 'X205', 'X213', 'X214', 'X215', 'X216', 'X217', 'X219', 'X222', 'X226', 'X227', 'X229', 'X232', 'X238', 'X239', 'X241', 'X242', 'X243', 'X244', 'X245', 'X246', 'X247', 'X248', 'X249', 'X250', 'X251', 'X253', 'X254', 'X261', 'X262', 'X263', 'X264', 'X265', 'X266', 'X267', 'X272', 'X276', 'X277', 'X279', 'X296', 'X299', 'X302', 'X304', 'X308', 'X311', 'X314', 'X317', 'X320', 'X321', 'X324', 'X325', 'X326', 'X328', 'X337', 'X346', 'X348', 'X349', 'X352', 'X356', 'X357', 'X358', 'X360', 'X362', 'X363', 'X364', 'X365', 'X367', 'X368', 'X370', 'X371', 'X373', 'X374', 'X376', 'X378', 'X379', 'X382', 'X385']\n"
     ]
    }
   ],
   "source": [
    "threshold = [column for column in upper_tri.columns if any(upper_tri[column] > 0.8)]\n",
    "print(threshold)"
   ]
  },
  {
   "cell_type": "code",
   "execution_count": 141,
   "id": "702d47e9",
   "metadata": {
    "ExecuteTime": {
     "end_time": "2022-05-31T02:23:15.046007Z",
     "start_time": "2022-05-31T02:23:15.040167Z"
    },
    "id": "702d47e9",
    "scrolled": true
   },
   "outputs": [],
   "source": [
    "# 상관계수가 threshold(e.g. 0.8)를 넘기는 feature들을 제거합니다.\n",
    "train = train.drop(threshold, axis=1)"
   ]
  },
  {
   "cell_type": "code",
   "execution_count": 142,
   "id": "bb52386e",
   "metadata": {
    "ExecuteTime": {
     "end_time": "2022-05-31T02:23:21.946886Z",
     "start_time": "2022-05-31T02:23:21.940072Z"
    }
   },
   "outputs": [
    {
     "name": "stdout",
     "output_type": "stream",
     "text": [
      "<class 'pandas.core.frame.DataFrame'>\n",
      "RangeIndex: 4209 entries, 0 to 4208\n",
      "Columns: 250 entries, ID to X384\n",
      "dtypes: float64(1), int64(241), object(8)\n",
      "memory usage: 8.0+ MB\n"
     ]
    }
   ],
   "source": [
    "train.info()"
   ]
  },
  {
   "cell_type": "markdown",
   "id": "JdO_MINum6pR",
   "metadata": {
    "id": "JdO_MINum6pR"
   },
   "source": [
    "#### Encoding Categorical Features"
   ]
  },
  {
   "cell_type": "code",
   "execution_count": 143,
   "id": "tNT9eZB0nAmq",
   "metadata": {
    "ExecuteTime": {
     "end_time": "2022-05-31T02:43:39.221752Z",
     "start_time": "2022-05-31T02:43:39.197418Z"
    },
    "id": "tNT9eZB0nAmq"
   },
   "outputs": [
    {
     "data": {
      "text/html": [
       "<div>\n",
       "<style scoped>\n",
       "    .dataframe tbody tr th:only-of-type {\n",
       "        vertical-align: middle;\n",
       "    }\n",
       "\n",
       "    .dataframe tbody tr th {\n",
       "        vertical-align: top;\n",
       "    }\n",
       "\n",
       "    .dataframe thead th {\n",
       "        text-align: right;\n",
       "    }\n",
       "</style>\n",
       "<table border=\"1\" class=\"dataframe\">\n",
       "  <thead>\n",
       "    <tr style=\"text-align: right;\">\n",
       "      <th></th>\n",
       "      <th>ID</th>\n",
       "      <th>y</th>\n",
       "      <th>X10</th>\n",
       "      <th>X11</th>\n",
       "      <th>X12</th>\n",
       "      <th>X13</th>\n",
       "      <th>X14</th>\n",
       "      <th>X15</th>\n",
       "      <th>X16</th>\n",
       "      <th>X17</th>\n",
       "      <th>...</th>\n",
       "      <th>X8_p</th>\n",
       "      <th>X8_q</th>\n",
       "      <th>X8_r</th>\n",
       "      <th>X8_s</th>\n",
       "      <th>X8_t</th>\n",
       "      <th>X8_u</th>\n",
       "      <th>X8_v</th>\n",
       "      <th>X8_w</th>\n",
       "      <th>X8_x</th>\n",
       "      <th>X8_y</th>\n",
       "    </tr>\n",
       "  </thead>\n",
       "  <tbody>\n",
       "    <tr>\n",
       "      <th>0</th>\n",
       "      <td>0</td>\n",
       "      <td>130.81</td>\n",
       "      <td>0</td>\n",
       "      <td>0</td>\n",
       "      <td>0</td>\n",
       "      <td>1</td>\n",
       "      <td>0</td>\n",
       "      <td>0</td>\n",
       "      <td>0</td>\n",
       "      <td>0</td>\n",
       "      <td>...</td>\n",
       "      <td>0</td>\n",
       "      <td>0</td>\n",
       "      <td>0</td>\n",
       "      <td>0</td>\n",
       "      <td>0</td>\n",
       "      <td>0</td>\n",
       "      <td>0</td>\n",
       "      <td>0</td>\n",
       "      <td>0</td>\n",
       "      <td>0</td>\n",
       "    </tr>\n",
       "    <tr>\n",
       "      <th>1</th>\n",
       "      <td>6</td>\n",
       "      <td>88.53</td>\n",
       "      <td>0</td>\n",
       "      <td>0</td>\n",
       "      <td>0</td>\n",
       "      <td>0</td>\n",
       "      <td>0</td>\n",
       "      <td>0</td>\n",
       "      <td>0</td>\n",
       "      <td>0</td>\n",
       "      <td>...</td>\n",
       "      <td>0</td>\n",
       "      <td>0</td>\n",
       "      <td>0</td>\n",
       "      <td>0</td>\n",
       "      <td>0</td>\n",
       "      <td>0</td>\n",
       "      <td>0</td>\n",
       "      <td>0</td>\n",
       "      <td>0</td>\n",
       "      <td>0</td>\n",
       "    </tr>\n",
       "    <tr>\n",
       "      <th>2</th>\n",
       "      <td>7</td>\n",
       "      <td>76.26</td>\n",
       "      <td>0</td>\n",
       "      <td>0</td>\n",
       "      <td>0</td>\n",
       "      <td>0</td>\n",
       "      <td>0</td>\n",
       "      <td>0</td>\n",
       "      <td>0</td>\n",
       "      <td>1</td>\n",
       "      <td>...</td>\n",
       "      <td>0</td>\n",
       "      <td>0</td>\n",
       "      <td>0</td>\n",
       "      <td>0</td>\n",
       "      <td>0</td>\n",
       "      <td>0</td>\n",
       "      <td>0</td>\n",
       "      <td>0</td>\n",
       "      <td>1</td>\n",
       "      <td>0</td>\n",
       "    </tr>\n",
       "    <tr>\n",
       "      <th>3</th>\n",
       "      <td>9</td>\n",
       "      <td>80.62</td>\n",
       "      <td>0</td>\n",
       "      <td>0</td>\n",
       "      <td>0</td>\n",
       "      <td>0</td>\n",
       "      <td>0</td>\n",
       "      <td>0</td>\n",
       "      <td>0</td>\n",
       "      <td>0</td>\n",
       "      <td>...</td>\n",
       "      <td>0</td>\n",
       "      <td>0</td>\n",
       "      <td>0</td>\n",
       "      <td>0</td>\n",
       "      <td>0</td>\n",
       "      <td>0</td>\n",
       "      <td>0</td>\n",
       "      <td>0</td>\n",
       "      <td>0</td>\n",
       "      <td>0</td>\n",
       "    </tr>\n",
       "    <tr>\n",
       "      <th>4</th>\n",
       "      <td>13</td>\n",
       "      <td>78.02</td>\n",
       "      <td>0</td>\n",
       "      <td>0</td>\n",
       "      <td>0</td>\n",
       "      <td>0</td>\n",
       "      <td>0</td>\n",
       "      <td>0</td>\n",
       "      <td>0</td>\n",
       "      <td>0</td>\n",
       "      <td>...</td>\n",
       "      <td>0</td>\n",
       "      <td>0</td>\n",
       "      <td>0</td>\n",
       "      <td>0</td>\n",
       "      <td>0</td>\n",
       "      <td>0</td>\n",
       "      <td>0</td>\n",
       "      <td>0</td>\n",
       "      <td>0</td>\n",
       "      <td>0</td>\n",
       "    </tr>\n",
       "    <tr>\n",
       "      <th>...</th>\n",
       "      <td>...</td>\n",
       "      <td>...</td>\n",
       "      <td>...</td>\n",
       "      <td>...</td>\n",
       "      <td>...</td>\n",
       "      <td>...</td>\n",
       "      <td>...</td>\n",
       "      <td>...</td>\n",
       "      <td>...</td>\n",
       "      <td>...</td>\n",
       "      <td>...</td>\n",
       "      <td>...</td>\n",
       "      <td>...</td>\n",
       "      <td>...</td>\n",
       "      <td>...</td>\n",
       "      <td>...</td>\n",
       "      <td>...</td>\n",
       "      <td>...</td>\n",
       "      <td>...</td>\n",
       "      <td>...</td>\n",
       "      <td>...</td>\n",
       "    </tr>\n",
       "    <tr>\n",
       "      <th>4204</th>\n",
       "      <td>8405</td>\n",
       "      <td>107.39</td>\n",
       "      <td>0</td>\n",
       "      <td>0</td>\n",
       "      <td>0</td>\n",
       "      <td>0</td>\n",
       "      <td>1</td>\n",
       "      <td>0</td>\n",
       "      <td>0</td>\n",
       "      <td>0</td>\n",
       "      <td>...</td>\n",
       "      <td>0</td>\n",
       "      <td>1</td>\n",
       "      <td>0</td>\n",
       "      <td>0</td>\n",
       "      <td>0</td>\n",
       "      <td>0</td>\n",
       "      <td>0</td>\n",
       "      <td>0</td>\n",
       "      <td>0</td>\n",
       "      <td>0</td>\n",
       "    </tr>\n",
       "    <tr>\n",
       "      <th>4205</th>\n",
       "      <td>8406</td>\n",
       "      <td>108.77</td>\n",
       "      <td>0</td>\n",
       "      <td>0</td>\n",
       "      <td>0</td>\n",
       "      <td>0</td>\n",
       "      <td>0</td>\n",
       "      <td>0</td>\n",
       "      <td>0</td>\n",
       "      <td>0</td>\n",
       "      <td>...</td>\n",
       "      <td>0</td>\n",
       "      <td>0</td>\n",
       "      <td>0</td>\n",
       "      <td>0</td>\n",
       "      <td>0</td>\n",
       "      <td>0</td>\n",
       "      <td>0</td>\n",
       "      <td>0</td>\n",
       "      <td>0</td>\n",
       "      <td>0</td>\n",
       "    </tr>\n",
       "    <tr>\n",
       "      <th>4206</th>\n",
       "      <td>8412</td>\n",
       "      <td>109.22</td>\n",
       "      <td>0</td>\n",
       "      <td>0</td>\n",
       "      <td>1</td>\n",
       "      <td>1</td>\n",
       "      <td>0</td>\n",
       "      <td>0</td>\n",
       "      <td>0</td>\n",
       "      <td>0</td>\n",
       "      <td>...</td>\n",
       "      <td>0</td>\n",
       "      <td>0</td>\n",
       "      <td>0</td>\n",
       "      <td>0</td>\n",
       "      <td>0</td>\n",
       "      <td>0</td>\n",
       "      <td>0</td>\n",
       "      <td>0</td>\n",
       "      <td>0</td>\n",
       "      <td>0</td>\n",
       "    </tr>\n",
       "    <tr>\n",
       "      <th>4207</th>\n",
       "      <td>8415</td>\n",
       "      <td>87.48</td>\n",
       "      <td>0</td>\n",
       "      <td>0</td>\n",
       "      <td>0</td>\n",
       "      <td>0</td>\n",
       "      <td>1</td>\n",
       "      <td>0</td>\n",
       "      <td>0</td>\n",
       "      <td>0</td>\n",
       "      <td>...</td>\n",
       "      <td>0</td>\n",
       "      <td>0</td>\n",
       "      <td>0</td>\n",
       "      <td>0</td>\n",
       "      <td>0</td>\n",
       "      <td>1</td>\n",
       "      <td>0</td>\n",
       "      <td>0</td>\n",
       "      <td>0</td>\n",
       "      <td>0</td>\n",
       "    </tr>\n",
       "    <tr>\n",
       "      <th>4208</th>\n",
       "      <td>8417</td>\n",
       "      <td>110.85</td>\n",
       "      <td>0</td>\n",
       "      <td>0</td>\n",
       "      <td>0</td>\n",
       "      <td>0</td>\n",
       "      <td>0</td>\n",
       "      <td>0</td>\n",
       "      <td>0</td>\n",
       "      <td>0</td>\n",
       "      <td>...</td>\n",
       "      <td>0</td>\n",
       "      <td>0</td>\n",
       "      <td>0</td>\n",
       "      <td>0</td>\n",
       "      <td>0</td>\n",
       "      <td>0</td>\n",
       "      <td>0</td>\n",
       "      <td>1</td>\n",
       "      <td>0</td>\n",
       "      <td>0</td>\n",
       "    </tr>\n",
       "  </tbody>\n",
       "</table>\n",
       "<p>4209 rows × 437 columns</p>\n",
       "</div>"
      ],
      "text/plain": [
       "        ID       y  X10  X11  X12  X13  X14  X15  X16  X17  ...  X8_p  X8_q  \\\n",
       "0        0  130.81    0    0    0    1    0    0    0    0  ...     0     0   \n",
       "1        6   88.53    0    0    0    0    0    0    0    0  ...     0     0   \n",
       "2        7   76.26    0    0    0    0    0    0    0    1  ...     0     0   \n",
       "3        9   80.62    0    0    0    0    0    0    0    0  ...     0     0   \n",
       "4       13   78.02    0    0    0    0    0    0    0    0  ...     0     0   \n",
       "...    ...     ...  ...  ...  ...  ...  ...  ...  ...  ...  ...   ...   ...   \n",
       "4204  8405  107.39    0    0    0    0    1    0    0    0  ...     0     1   \n",
       "4205  8406  108.77    0    0    0    0    0    0    0    0  ...     0     0   \n",
       "4206  8412  109.22    0    0    1    1    0    0    0    0  ...     0     0   \n",
       "4207  8415   87.48    0    0    0    0    1    0    0    0  ...     0     0   \n",
       "4208  8417  110.85    0    0    0    0    0    0    0    0  ...     0     0   \n",
       "\n",
       "      X8_r  X8_s  X8_t  X8_u  X8_v  X8_w  X8_x  X8_y  \n",
       "0        0     0     0     0     0     0     0     0  \n",
       "1        0     0     0     0     0     0     0     0  \n",
       "2        0     0     0     0     0     0     1     0  \n",
       "3        0     0     0     0     0     0     0     0  \n",
       "4        0     0     0     0     0     0     0     0  \n",
       "...    ...   ...   ...   ...   ...   ...   ...   ...  \n",
       "4204     0     0     0     0     0     0     0     0  \n",
       "4205     0     0     0     0     0     0     0     0  \n",
       "4206     0     0     0     0     0     0     0     0  \n",
       "4207     0     0     0     1     0     0     0     0  \n",
       "4208     0     0     0     0     0     1     0     0  \n",
       "\n",
       "[4209 rows x 437 columns]"
      ]
     },
     "execution_count": 143,
     "metadata": {},
     "output_type": "execute_result"
    }
   ],
   "source": [
    "# dtype이 object인 변수들 처리.\n",
    "train_OHE = pd.get_dummies(train, columns=['X0','X1','X2','X3','X4','X5','X6','X8'])\n",
    "train_OHE"
   ]
  },
  {
   "cell_type": "markdown",
   "id": "606493f0",
   "metadata": {
    "id": "606493f0"
   },
   "source": [
    "#### feature extraction\n",
    "\n",
    "- 차원의 저주를 해결하거나, 데이터의 feature 조합을 이용하는 새로운 feature를 생성할 때, PCA를 사용합니다.\n",
    "\n",
    "- 분석에 사용할 feature를 선택하는 과정도 포함합니다."
   ]
  },
  {
   "cell_type": "code",
   "execution_count": 144,
   "id": "4a137c94",
   "metadata": {
    "ExecuteTime": {
     "end_time": "2022-05-31T02:44:33.050379Z",
     "start_time": "2022-05-31T02:44:33.046487Z"
    },
    "id": "4a137c94"
   },
   "outputs": [],
   "source": [
    "# PCA 적용\n",
    "from sklearn.decomposition import PCA\n",
    "\n",
    "if feature_reducing:\n",
    "    pca = PCA(n_components=0.9) # PCA(n_components=6)\n",
    "    pca_data = pca.fit_transform(X)"
   ]
  },
  {
   "cell_type": "markdown",
   "id": "f497a2d8",
   "metadata": {
    "id": "f497a2d8"
   },
   "source": [
    "### 4. 학습 데이터 분할"
   ]
  },
  {
   "cell_type": "code",
   "execution_count": 145,
   "id": "47306aaf",
   "metadata": {
    "ExecuteTime": {
     "end_time": "2022-05-31T02:46:01.060354Z",
     "start_time": "2022-05-31T02:46:01.044781Z"
    },
    "id": "47306aaf"
   },
   "outputs": [],
   "source": [
    "# 첫번째 테스트용으로 사용하고, 실제 학습시에는 K-Fold CV를 사용합니다.\n",
    "# train : test = 8 : 2\n",
    "from sklearn.model_selection import train_test_split\n",
    "\n",
    "X = train_OHE.drop(columns='y')\n",
    "y = train_OHE.y\n",
    "\n",
    "X_train, X_test, y_train, y_test = train_test_split(X, y, test_size=0.2, random_state=0xC0FFEE)"
   ]
  },
  {
   "cell_type": "code",
   "execution_count": 146,
   "id": "67efd2ee",
   "metadata": {
    "ExecuteTime": {
     "end_time": "2022-05-31T02:46:01.665106Z",
     "start_time": "2022-05-31T02:46:01.661213Z"
    },
    "id": "67efd2ee"
   },
   "outputs": [
    {
     "name": "stdout",
     "output_type": "stream",
     "text": [
      "(3367, 436) (3367,) (842, 436) (842,)\n"
     ]
    }
   ],
   "source": [
    "print(X_train.shape, y_train.shape, X_test.shape, y_test.shape)"
   ]
  },
  {
   "cell_type": "markdown",
   "id": "58056e51",
   "metadata": {
    "id": "58056e51"
   },
   "source": [
    "### 5. 학습 및 평가"
   ]
  },
  {
   "cell_type": "code",
   "execution_count": 147,
   "id": "39fd2515",
   "metadata": {
    "ExecuteTime": {
     "end_time": "2022-05-31T02:46:08.802705Z",
     "start_time": "2022-05-31T02:46:08.798812Z"
    },
    "id": "39fd2515"
   },
   "outputs": [],
   "source": [
    "# 간단하게 LightGBM 테스트\n",
    "# 적당한 hyper-parameter 조합을 두었습니다. (항상 best는 아닙니다. 예시입니다.)\n",
    "\n",
    "param_grid = {\n",
    "    \"max_bin\" : 20,\n",
    "    \"learning_rate\" : 0.0025,\n",
    "    \"objective\" : \"regression\",\n",
    "    \"boosting_type\" : \"gbdt\",\n",
    "    \"metric\" : \"mae\",\n",
    "    \"sub_feature\" : 0.345,\n",
    "    \"bagging_fraction\" : 0.85,\n",
    "    \"bagging_freq\" : 40,\n",
    "    \"num_leaves\" : 512,\n",
    "    \"min_data\" : 500,\n",
    "    \"min_hessian\" : 0.05,\n",
    "    \"verbose\" : 2,\n",
    "    \"feature_fraction_seed\" : 2,\n",
    "    \"bagging_seed\" : 3\n",
    "}\n",
    "\n",
    "model = LGBMRegressor(**param_grid)"
   ]
  },
  {
   "cell_type": "code",
   "execution_count": 148,
   "id": "ddffa474",
   "metadata": {
    "ExecuteTime": {
     "end_time": "2022-05-31T02:46:15.080072Z",
     "start_time": "2022-05-31T02:46:15.013886Z"
    },
    "id": "ddffa474",
    "scrolled": true
   },
   "outputs": [
    {
     "name": "stdout",
     "output_type": "stream",
     "text": [
      "\n",
      "Fitting LightGBM...\n",
      "[LightGBM] [Warning] feature_fraction is set with colsample_bytree=1.0, will be overridden by sub_feature=0.345. Current value: feature_fraction=0.345\n",
      "[LightGBM] [Warning] min_data_in_leaf is set with min_child_samples=20, will be overridden by min_data=500. Current value: min_data_in_leaf=500\n",
      "[LightGBM] [Warning] min_sum_hessian_in_leaf is set with min_child_weight=0.001, will be overridden by min_hessian=0.05. Current value: min_sum_hessian_in_leaf=0.05\n",
      "[LightGBM] [Warning] bagging_fraction is set=0.85, subsample=1.0 will be ignored. Current value: bagging_fraction=0.85\n",
      "[LightGBM] [Warning] bagging_freq is set=40, subsample_freq=0 will be ignored. Current value: bagging_freq=40\n",
      "[LightGBM] [Warning] feature_fraction is set with colsample_bytree=1.0, will be overridden by sub_feature=0.345. Current value: feature_fraction=0.345\n",
      "[LightGBM] [Warning] min_data_in_leaf is set with min_child_samples=20, will be overridden by min_data=500. Current value: min_data_in_leaf=500\n",
      "[LightGBM] [Warning] min_sum_hessian_in_leaf is set with min_child_weight=0.001, will be overridden by min_hessian=0.05. Current value: min_sum_hessian_in_leaf=0.05\n",
      "[LightGBM] [Warning] bagging_fraction is set=0.85, subsample=1.0 will be ignored. Current value: bagging_fraction=0.85\n",
      "[LightGBM] [Warning] bagging_freq is set=40, subsample_freq=0 will be ignored. Current value: bagging_freq=40\n",
      "[LightGBM] [Debug] Dataset::GetMultiBinFromSparseFeatures: sparse rate 0.737197\n",
      "[LightGBM] [Debug] Dataset::GetMultiBinFromAllFeatures: sparse rate 0.567226\n",
      "[LightGBM] [Debug] init for col-wise cost 0.000712 seconds, init for row-wise cost 0.000886 seconds\n",
      "[LightGBM] [Warning] Auto-choosing row-wise multi-threading, the overhead of testing was 0.000823 seconds.\n",
      "You can set `force_row_wise=true` to remove the overhead.\n",
      "And if memory is not enough, you can set `force_col_wise=true`.\n",
      "[LightGBM] [Debug] Using Sparse Multi-Val Bin\n",
      "[LightGBM] [Info] Total Bins 122\n",
      "[LightGBM] [Info] Number of data points in the train set: 3367, number of used features: 52\n",
      "[LightGBM] [Debug] Use subset for bagging\n",
      "[LightGBM] [Info] Start training from score 100.638833\n",
      "[LightGBM] [Debug] Re-bagging, using 2876 data to train\n",
      "[LightGBM] [Warning] No further splits with positive gain, best gain: -inf\n",
      "[LightGBM] [Debug] Trained a tree with leaves = 4 and depth = 3\n",
      "[LightGBM] [Warning] No further splits with positive gain, best gain: -inf\n",
      "[LightGBM] [Debug] Trained a tree with leaves = 4 and depth = 2\n",
      "[LightGBM] [Warning] No further splits with positive gain, best gain: -inf\n",
      "[LightGBM] [Debug] Trained a tree with leaves = 4 and depth = 2\n",
      "[LightGBM] [Warning] No further splits with positive gain, best gain: -inf\n",
      "[LightGBM] [Debug] Trained a tree with leaves = 3 and depth = 2\n",
      "[LightGBM] [Warning] No further splits with positive gain, best gain: -inf\n",
      "[LightGBM] [Debug] Trained a tree with leaves = 4 and depth = 2\n",
      "[LightGBM] [Warning] No further splits with positive gain, best gain: -inf\n",
      "[LightGBM] [Debug] Trained a tree with leaves = 4 and depth = 2\n",
      "[LightGBM] [Warning] No further splits with positive gain, best gain: -inf\n",
      "[LightGBM] [Debug] Trained a tree with leaves = 4 and depth = 3\n",
      "[LightGBM] [Warning] No further splits with positive gain, best gain: -inf\n",
      "[LightGBM] [Debug] Trained a tree with leaves = 4 and depth = 3\n",
      "[LightGBM] [Warning] No further splits with positive gain, best gain: -inf\n",
      "[LightGBM] [Debug] Trained a tree with leaves = 4 and depth = 3\n",
      "[LightGBM] [Warning] No further splits with positive gain, best gain: -inf\n",
      "[LightGBM] [Debug] Trained a tree with leaves = 4 and depth = 3\n",
      "[LightGBM] [Warning] No further splits with positive gain, best gain: -inf\n",
      "[LightGBM] [Debug] Trained a tree with leaves = 4 and depth = 2\n",
      "[LightGBM] [Warning] No further splits with positive gain, best gain: -inf\n",
      "[LightGBM] [Debug] Trained a tree with leaves = 3 and depth = 2\n",
      "[LightGBM] [Warning] No further splits with positive gain, best gain: -inf\n",
      "[LightGBM] [Debug] Trained a tree with leaves = 4 and depth = 3\n",
      "[LightGBM] [Warning] No further splits with positive gain, best gain: -inf\n",
      "[LightGBM] [Debug] Trained a tree with leaves = 4 and depth = 3\n",
      "[LightGBM] [Warning] No further splits with positive gain, best gain: -inf\n",
      "[LightGBM] [Debug] Trained a tree with leaves = 4 and depth = 2\n",
      "[LightGBM] [Warning] No further splits with positive gain, best gain: -inf\n",
      "[LightGBM] [Debug] Trained a tree with leaves = 4 and depth = 2\n",
      "[LightGBM] [Warning] No further splits with positive gain, best gain: -inf\n",
      "[LightGBM] [Debug] Trained a tree with leaves = 4 and depth = 2\n",
      "[LightGBM] [Warning] No further splits with positive gain, best gain: -inf\n",
      "[LightGBM] [Debug] Trained a tree with leaves = 4 and depth = 2\n",
      "[LightGBM] [Warning] No further splits with positive gain, best gain: -inf\n",
      "[LightGBM] [Debug] Trained a tree with leaves = 3 and depth = 2\n",
      "[LightGBM] [Warning] No further splits with positive gain, best gain: -inf\n",
      "[LightGBM] [Debug] Trained a tree with leaves = 4 and depth = 3\n",
      "[LightGBM] [Warning] No further splits with positive gain, best gain: -inf\n",
      "[LightGBM] [Debug] Trained a tree with leaves = 5 and depth = 3\n",
      "[LightGBM] [Warning] No further splits with positive gain, best gain: -inf\n",
      "[LightGBM] [Debug] Trained a tree with leaves = 4 and depth = 3\n",
      "[LightGBM] [Warning] No further splits with positive gain, best gain: -inf\n",
      "[LightGBM] [Debug] Trained a tree with leaves = 4 and depth = 2\n",
      "[LightGBM] [Warning] No further splits with positive gain, best gain: -inf\n",
      "[LightGBM] [Debug] Trained a tree with leaves = 4 and depth = 2\n",
      "[LightGBM] [Warning] No further splits with positive gain, best gain: -inf\n",
      "[LightGBM] [Debug] Trained a tree with leaves = 4 and depth = 3\n",
      "[LightGBM] [Warning] No further splits with positive gain, best gain: -inf\n",
      "[LightGBM] [Debug] Trained a tree with leaves = 4 and depth = 2\n",
      "[LightGBM] [Warning] No further splits with positive gain, best gain: -inf\n",
      "[LightGBM] [Debug] Trained a tree with leaves = 4 and depth = 3\n",
      "[LightGBM] [Warning] No further splits with positive gain, best gain: -inf\n",
      "[LightGBM] [Debug] Trained a tree with leaves = 4 and depth = 2\n",
      "[LightGBM] [Warning] No further splits with positive gain, best gain: -inf\n",
      "[LightGBM] [Debug] Trained a tree with leaves = 4 and depth = 3\n",
      "[LightGBM] [Warning] No further splits with positive gain, best gain: -inf\n",
      "[LightGBM] [Debug] Trained a tree with leaves = 4 and depth = 2\n",
      "[LightGBM] [Warning] No further splits with positive gain, best gain: -inf\n",
      "[LightGBM] [Debug] Trained a tree with leaves = 4 and depth = 2\n",
      "[LightGBM] [Warning] No further splits with positive gain, best gain: -inf\n",
      "[LightGBM] [Debug] Trained a tree with leaves = 4 and depth = 3\n",
      "[LightGBM] [Warning] No further splits with positive gain, best gain: -inf\n",
      "[LightGBM] [Debug] Trained a tree with leaves = 4 and depth = 3\n",
      "[LightGBM] [Warning] No further splits with positive gain, best gain: -inf\n",
      "[LightGBM] [Debug] Trained a tree with leaves = 4 and depth = 2\n",
      "[LightGBM] [Warning] No further splits with positive gain, best gain: -inf\n",
      "[LightGBM] [Debug] Trained a tree with leaves = 5 and depth = 4\n",
      "[LightGBM] [Warning] No further splits with positive gain, best gain: -inf\n",
      "[LightGBM] [Debug] Trained a tree with leaves = 4 and depth = 2\n",
      "[LightGBM] [Warning] No further splits with positive gain, best gain: -inf\n",
      "[LightGBM] [Debug] Trained a tree with leaves = 4 and depth = 2\n",
      "[LightGBM] [Warning] No further splits with positive gain, best gain: -inf\n",
      "[LightGBM] [Debug] Trained a tree with leaves = 4 and depth = 3\n",
      "[LightGBM] [Warning] No further splits with positive gain, best gain: -inf\n",
      "[LightGBM] [Debug] Trained a tree with leaves = 5 and depth = 4\n",
      "[LightGBM] [Warning] No further splits with positive gain, best gain: -inf\n",
      "[LightGBM] [Debug] Trained a tree with leaves = 4 and depth = 3\n",
      "[LightGBM] [Debug] Re-bagging, using 2831 data to train\n",
      "[LightGBM] [Warning] No further splits with positive gain, best gain: -inf\n",
      "[LightGBM] [Debug] Trained a tree with leaves = 4 and depth = 2\n",
      "[LightGBM] [Warning] No further splits with positive gain, best gain: -inf\n",
      "[LightGBM] [Debug] Trained a tree with leaves = 4 and depth = 3\n",
      "[LightGBM] [Warning] No further splits with positive gain, best gain: -inf\n",
      "[LightGBM] [Debug] Trained a tree with leaves = 4 and depth = 2\n",
      "[LightGBM] [Warning] No further splits with positive gain, best gain: -inf\n",
      "[LightGBM] [Debug] Trained a tree with leaves = 4 and depth = 2\n",
      "[LightGBM] [Warning] No further splits with positive gain, best gain: -inf\n",
      "[LightGBM] [Debug] Trained a tree with leaves = 4 and depth = 3\n",
      "[LightGBM] [Warning] No further splits with positive gain, best gain: -inf\n",
      "[LightGBM] [Debug] Trained a tree with leaves = 4 and depth = 2\n",
      "[LightGBM] [Warning] No further splits with positive gain, best gain: -inf\n",
      "[LightGBM] [Debug] Trained a tree with leaves = 4 and depth = 3\n",
      "[LightGBM] [Warning] No further splits with positive gain, best gain: -inf\n",
      "[LightGBM] [Debug] Trained a tree with leaves = 4 and depth = 2\n",
      "[LightGBM] [Warning] No further splits with positive gain, best gain: -inf\n",
      "[LightGBM] [Debug] Trained a tree with leaves = 4 and depth = 2\n",
      "[LightGBM] [Warning] No further splits with positive gain, best gain: -inf\n",
      "[LightGBM] [Debug] Trained a tree with leaves = 4 and depth = 3\n",
      "[LightGBM] [Warning] No further splits with positive gain, best gain: -inf\n",
      "[LightGBM] [Debug] Trained a tree with leaves = 4 and depth = 2\n",
      "[LightGBM] [Warning] No further splits with positive gain, best gain: -inf\n",
      "[LightGBM] [Debug] Trained a tree with leaves = 4 and depth = 3\n",
      "[LightGBM] [Warning] No further splits with positive gain, best gain: -inf\n",
      "[LightGBM] [Debug] Trained a tree with leaves = 4 and depth = 3\n",
      "[LightGBM] [Warning] No further splits with positive gain, best gain: -inf\n",
      "[LightGBM] [Debug] Trained a tree with leaves = 4 and depth = 2\n",
      "[LightGBM] [Warning] No further splits with positive gain, best gain: -inf\n",
      "[LightGBM] [Debug] Trained a tree with leaves = 4 and depth = 3\n",
      "[LightGBM] [Warning] No further splits with positive gain, best gain: -inf\n",
      "[LightGBM] [Debug] Trained a tree with leaves = 4 and depth = 2\n",
      "[LightGBM] [Warning] No further splits with positive gain, best gain: -inf\n",
      "[LightGBM] [Debug] Trained a tree with leaves = 4 and depth = 3\n",
      "[LightGBM] [Warning] No further splits with positive gain, best gain: -inf\n",
      "[LightGBM] [Debug] Trained a tree with leaves = 4 and depth = 3\n",
      "[LightGBM] [Warning] No further splits with positive gain, best gain: -inf\n",
      "[LightGBM] [Debug] Trained a tree with leaves = 4 and depth = 3\n",
      "[LightGBM] [Warning] No further splits with positive gain, best gain: -inf\n",
      "[LightGBM] [Debug] Trained a tree with leaves = 4 and depth = 3\n",
      "[LightGBM] [Warning] No further splits with positive gain, best gain: -inf\n",
      "[LightGBM] [Debug] Trained a tree with leaves = 4 and depth = 2\n",
      "[LightGBM] [Warning] No further splits with positive gain, best gain: -inf\n",
      "[LightGBM] [Debug] Trained a tree with leaves = 4 and depth = 3\n",
      "[LightGBM] [Warning] No further splits with positive gain, best gain: -inf\n",
      "[LightGBM] [Debug] Trained a tree with leaves = 4 and depth = 2\n",
      "[LightGBM] [Warning] No further splits with positive gain, best gain: -inf\n",
      "[LightGBM] [Debug] Trained a tree with leaves = 4 and depth = 2\n",
      "[LightGBM] [Warning] No further splits with positive gain, best gain: -inf\n",
      "[LightGBM] [Debug] Trained a tree with leaves = 4 and depth = 2\n",
      "[LightGBM] [Warning] No further splits with positive gain, best gain: -inf\n",
      "[LightGBM] [Debug] Trained a tree with leaves = 4 and depth = 3\n",
      "[LightGBM] [Warning] No further splits with positive gain, best gain: -inf\n",
      "[LightGBM] [Debug] Trained a tree with leaves = 4 and depth = 3\n",
      "[LightGBM] [Warning] No further splits with positive gain, best gain: -inf\n",
      "[LightGBM] [Debug] Trained a tree with leaves = 4 and depth = 3\n",
      "[LightGBM] [Warning] No further splits with positive gain, best gain: -inf\n",
      "[LightGBM] [Debug] Trained a tree with leaves = 4 and depth = 2\n",
      "[LightGBM] [Warning] No further splits with positive gain, best gain: -inf\n",
      "[LightGBM] [Debug] Trained a tree with leaves = 4 and depth = 2\n",
      "[LightGBM] [Warning] No further splits with positive gain, best gain: -inf\n",
      "[LightGBM] [Debug] Trained a tree with leaves = 4 and depth = 3\n",
      "[LightGBM] [Warning] No further splits with positive gain, best gain: -inf\n",
      "[LightGBM] [Debug] Trained a tree with leaves = 4 and depth = 3\n",
      "[LightGBM] [Warning] No further splits with positive gain, best gain: -inf\n",
      "[LightGBM] [Debug] Trained a tree with leaves = 5 and depth = 4\n",
      "[LightGBM] [Warning] No further splits with positive gain, best gain: -inf\n",
      "[LightGBM] [Debug] Trained a tree with leaves = 4 and depth = 3\n",
      "[LightGBM] [Warning] No further splits with positive gain, best gain: -inf\n",
      "[LightGBM] [Debug] Trained a tree with leaves = 4 and depth = 2\n",
      "[LightGBM] [Warning] No further splits with positive gain, best gain: -inf\n",
      "[LightGBM] [Debug] Trained a tree with leaves = 4 and depth = 3\n",
      "[LightGBM] [Warning] No further splits with positive gain, best gain: -inf\n",
      "[LightGBM] [Debug] Trained a tree with leaves = 4 and depth = 2\n",
      "[LightGBM] [Warning] No further splits with positive gain, best gain: -inf\n",
      "[LightGBM] [Debug] Trained a tree with leaves = 4 and depth = 3\n",
      "[LightGBM] [Warning] No further splits with positive gain, best gain: -inf\n",
      "[LightGBM] [Debug] Trained a tree with leaves = 5 and depth = 4\n",
      "[LightGBM] [Warning] No further splits with positive gain, best gain: -inf\n",
      "[LightGBM] [Debug] Trained a tree with leaves = 4 and depth = 2\n",
      "[LightGBM] [Debug] Re-bagging, using 2881 data to train\n",
      "[LightGBM] [Warning] No further splits with positive gain, best gain: -inf\n",
      "[LightGBM] [Debug] Trained a tree with leaves = 4 and depth = 2\n",
      "[LightGBM] [Warning] No further splits with positive gain, best gain: -inf\n",
      "[LightGBM] [Debug] Trained a tree with leaves = 4 and depth = 3\n",
      "[LightGBM] [Warning] No further splits with positive gain, best gain: -inf\n",
      "[LightGBM] [Debug] Trained a tree with leaves = 4 and depth = 3\n",
      "[LightGBM] [Warning] No further splits with positive gain, best gain: -inf\n",
      "[LightGBM] [Debug] Trained a tree with leaves = 4 and depth = 3\n",
      "[LightGBM] [Warning] No further splits with positive gain, best gain: -inf\n",
      "[LightGBM] [Debug] Trained a tree with leaves = 4 and depth = 3\n",
      "[LightGBM] [Warning] No further splits with positive gain, best gain: -inf\n",
      "[LightGBM] [Debug] Trained a tree with leaves = 4 and depth = 3\n",
      "[LightGBM] [Warning] No further splits with positive gain, best gain: -inf\n",
      "[LightGBM] [Debug] Trained a tree with leaves = 4 and depth = 2\n",
      "[LightGBM] [Warning] No further splits with positive gain, best gain: -inf\n",
      "[LightGBM] [Debug] Trained a tree with leaves = 5 and depth = 4\n",
      "[LightGBM] [Warning] No further splits with positive gain, best gain: -inf\n",
      "[LightGBM] [Debug] Trained a tree with leaves = 4 and depth = 2\n",
      "[LightGBM] [Warning] No further splits with positive gain, best gain: -inf\n",
      "[LightGBM] [Debug] Trained a tree with leaves = 4 and depth = 3\n",
      "[LightGBM] [Warning] No further splits with positive gain, best gain: -inf\n",
      "[LightGBM] [Debug] Trained a tree with leaves = 4 and depth = 3\n",
      "[LightGBM] [Warning] No further splits with positive gain, best gain: -inf\n",
      "[LightGBM] [Debug] Trained a tree with leaves = 4 and depth = 2\n",
      "[LightGBM] [Warning] No further splits with positive gain, best gain: -inf\n",
      "[LightGBM] [Debug] Trained a tree with leaves = 5 and depth = 4\n",
      "[LightGBM] [Warning] No further splits with positive gain, best gain: -inf\n",
      "[LightGBM] [Debug] Trained a tree with leaves = 4 and depth = 2\n",
      "[LightGBM] [Warning] No further splits with positive gain, best gain: -inf\n",
      "[LightGBM] [Debug] Trained a tree with leaves = 4 and depth = 3\n",
      "[LightGBM] [Warning] No further splits with positive gain, best gain: -inf\n",
      "[LightGBM] [Debug] Trained a tree with leaves = 4 and depth = 3\n",
      "[LightGBM] [Warning] No further splits with positive gain, best gain: -inf\n",
      "[LightGBM] [Debug] Trained a tree with leaves = 4 and depth = 2\n",
      "[LightGBM] [Warning] No further splits with positive gain, best gain: -inf\n",
      "[LightGBM] [Debug] Trained a tree with leaves = 4 and depth = 2\n",
      "[LightGBM] [Warning] No further splits with positive gain, best gain: -inf\n",
      "[LightGBM] [Debug] Trained a tree with leaves = 4 and depth = 3\n",
      "[LightGBM] [Warning] No further splits with positive gain, best gain: -inf\n",
      "[LightGBM] [Debug] Trained a tree with leaves = 4 and depth = 3\n"
     ]
    },
    {
     "data": {
      "text/plain": [
       "LGBMRegressor(bagging_fraction=0.85, bagging_freq=40, bagging_seed=3,\n",
       "              feature_fraction_seed=2, learning_rate=0.0025, max_bin=20,\n",
       "              metric='mae', min_data=500, min_hessian=0.05, num_leaves=512,\n",
       "              objective='regression', sub_feature=0.345, verbose=2)"
      ]
     },
     "execution_count": 148,
     "metadata": {},
     "output_type": "execute_result"
    }
   ],
   "source": [
    "print(\"\\nFitting LightGBM...\")\n",
    "model.fit(X_train, y_train)"
   ]
  },
  {
   "cell_type": "code",
   "execution_count": 153,
   "id": "6c8b0259",
   "metadata": {
    "ExecuteTime": {
     "end_time": "2022-05-31T02:56:09.175225Z",
     "start_time": "2022-05-31T02:56:09.172303Z"
    },
    "id": "6c8b0259"
   },
   "outputs": [],
   "source": [
    "# metric은 그때마다 맞게 바꿔줘야 합니다.\n",
    "evaluation_metric = mean_squared_error"
   ]
  },
  {
   "cell_type": "code",
   "execution_count": 155,
   "id": "a6b39be5",
   "metadata": {
    "ExecuteTime": {
     "end_time": "2022-05-31T02:56:22.095727Z",
     "start_time": "2022-05-31T02:56:22.067502Z"
    },
    "id": "a6b39be5"
   },
   "outputs": [
    {
     "name": "stdout",
     "output_type": "stream",
     "text": [
      "Prediction\n",
      "Train Score : 149.5430\n",
      "Test Score : 135.4698\n"
     ]
    }
   ],
   "source": [
    "print(\"Prediction\")\n",
    "pred_train = model.predict(X_train)\n",
    "pred_test = model.predict(X_test)\n",
    "\n",
    "\n",
    "train_score = evaluation_metric(y_train, pred_train)\n",
    "test_score = evaluation_metric(y_test, pred_test)\n",
    "\n",
    "print(\"Train Score : %.4f\" % train_score)\n",
    "print(\"Test Score : %.4f\" % test_score)"
   ]
  },
  {
   "cell_type": "markdown",
   "id": "bc755b17",
   "metadata": {
    "id": "bc755b17"
   },
   "source": [
    "### 6. Hyper-parameter Tuning"
   ]
  },
  {
   "cell_type": "markdown",
   "id": "60070d0e",
   "metadata": {
    "id": "60070d0e"
   },
   "source": [
    "> GridSearchCV"
   ]
  },
  {
   "cell_type": "markdown",
   "id": "2bf886a9",
   "metadata": {
    "id": "2bf886a9"
   },
   "source": [
    "** LightGBM의 hyperparameter **\n",
    "\n",
    "[Official Documentation] https://lightgbm.readthedocs.io/en/latest/Parameters-Tuning.html \n",
    "\n",
    "[Blog 1] https://smecsm.tistory.com/133\n",
    "\n",
    "[Blog 2] https://towardsdatascience.com/kagglers-guide-to-lightgbm-hyperparameter-tuning-with-optuna-in-2021-ed048d9838b5\n",
    "\n",
    "[Blog 3] https://nurilee.com/2020/04/03/lightgbm-definition-parameter-tuning/"
   ]
  },
  {
   "cell_type": "code",
   "execution_count": 156,
   "id": "815dcbef",
   "metadata": {
    "ExecuteTime": {
     "end_time": "2022-05-31T02:57:07.025344Z",
     "start_time": "2022-05-31T02:56:47.014007Z"
    },
    "id": "815dcbef",
    "scrolled": true
   },
   "outputs": [
    {
     "name": "stdout",
     "output_type": "stream",
     "text": [
      "Fitting 5 folds for each of 162 candidates, totalling 810 fits\n",
      "[LightGBM] [Warning] feature_fraction is set with colsample_bytree=1.0, will be overridden by sub_feature=0.345. Current value: feature_fraction=0.345\n",
      "[LightGBM] [Warning] min_data_in_leaf is set with min_child_samples=20, will be overridden by min_data=500. Current value: min_data_in_leaf=500\n",
      "[LightGBM] [Warning] min_sum_hessian_in_leaf is set with min_child_weight=0.001, will be overridden by min_hessian=0.05. Current value: min_sum_hessian_in_leaf=0.05\n",
      "[LightGBM] [Warning] bagging_fraction is set=0.85, subsample=1.0 will be ignored. Current value: bagging_fraction=0.85\n",
      "[LightGBM] [Warning] bagging_freq is set=40, subsample_freq=0 will be ignored. Current value: bagging_freq=40\n",
      "Best Estimator :  LGBMRegressor(bagging_fraction=0.85, bagging_freq=40, bagging_seed=3,\n",
      "              feature_fraction_seed=2, learning_rate=0.003, max_bin=20,\n",
      "              max_depth=8, metric='mae', min_data=500, min_hessian=0.05,\n",
      "              n_estimators=500, num_leaves=256, objective='regression',\n",
      "              sub_feature=0.345, verbose=-1)\n"
     ]
    }
   ],
   "source": [
    "# GridSearchCV를 이용하여 가장 좋은 성능을 가지는 모델을 찾아봅시다. (이것은 첫번째엔 선택입니다.)\n",
    "# Lightgbm은 hyper-parameter의 영향을 많이 받기 때문에, 저는 보통 맨처음에 한번 정도는 가볍게 GCV를 해봅니다.\n",
    "# 성능 향상이 별로 없다면, lightgbm으로 돌린 대략적인 성능이 이 정도라고 생각하면 됩니다.\n",
    "# 만약 성능 향상이 크다면, 지금 데이터는 hyper-parameter tuning을 빡빡하게 하면 성능 향상이 많이 이끌어 낼 수 있습니다.\n",
    "\n",
    "from sklearn.model_selection import GridSearchCV\n",
    "\n",
    "param_grid = {\n",
    "    \"max_depth\" : [8, 16, None],\n",
    "    \"n_estimators\" : [100, 300, 500],\n",
    "    \"max_bin\" : [20],\n",
    "    \"learning_rate\" : [0.001, 0.0025, 0.003],\n",
    "    \"objective\" : [\"regression\"],\n",
    "    \"boosting_type\" : [\"gbdt\"],\n",
    "    \"metric\" : [\"mae\"],\n",
    "    \"sub_feature\" : [0.345],\n",
    "    \"bagging_fraction\" : [0.7, 0.75, 0.85],\n",
    "    \"bagging_freq\" : [40],\n",
    "    \"num_leaves\" : [256, 512],\n",
    "    \"min_data\" : [500],\n",
    "    \"verbose\" : [-1], # 필수\n",
    "    \"min_hessian\" : [0.05],\n",
    "    \"feature_fraction_seed\" : [2],\n",
    "    \"bagging_seed\" : [3]\n",
    "}\n",
    "\n",
    "\n",
    "gcv = GridSearchCV(estimator=model, param_grid=param_grid, cv=5,\n",
    "                  n_jobs=-1, verbose=1)\n",
    "\n",
    "gcv.fit(X_train, y_train)\n",
    "print(\"Best Estimator : \", gcv.best_estimator_)"
   ]
  },
  {
   "cell_type": "code",
   "execution_count": 158,
   "id": "9ec6ac14",
   "metadata": {
    "ExecuteTime": {
     "end_time": "2022-05-31T02:57:13.558260Z",
     "start_time": "2022-05-31T02:57:13.520301Z"
    },
    "id": "9ec6ac14"
   },
   "outputs": [
    {
     "name": "stdout",
     "output_type": "stream",
     "text": [
      "Prediction with Best Estimator\n",
      "Train MAE Score : 113.5652\n",
      "Test MAE Score : 103.9161\n"
     ]
    }
   ],
   "source": [
    "print(\"Prediction with Best Estimator\")\n",
    "gcv_pred_train = gcv.predict(X_train)\n",
    "gcv_pred_test = gcv.predict(X_test)\n",
    "\n",
    "gcv_train_score = evaluation_metric(y_train, gcv_pred_train)\n",
    "gcv_test_score = evaluation_metric(y_test, gcv_pred_test)\n",
    "\n",
    "print(\"Train MAE Score : %.4f\" % gcv_train_score)\n",
    "print(\"Test MAE Score : %.4f\" % gcv_test_score)"
   ]
  },
  {
   "cell_type": "code",
   "execution_count": 159,
   "id": "3b852da7",
   "metadata": {
    "ExecuteTime": {
     "end_time": "2022-05-31T02:57:30.252699Z",
     "start_time": "2022-05-31T02:57:30.247832Z"
    },
    "id": "3b852da7"
   },
   "outputs": [
    {
     "name": "stdout",
     "output_type": "stream",
     "text": [
      "Performance Gain\n",
      "in train :  35.977812352621086\n",
      "in test :  31.55374233105374\n"
     ]
    }
   ],
   "source": [
    "print(\"Performance Gain\") # 이걸로 성능 향상 확인.\n",
    "print(\"in train : \", (train_score - gcv_train_score))\n",
    "print(\"in test : \", (test_score - gcv_test_score))"
   ]
  },
  {
   "cell_type": "markdown",
   "id": "97e5302d",
   "metadata": {
    "id": "97e5302d"
   },
   "source": [
    "> optuna를 사용해봅시다 !"
   ]
  },
  {
   "cell_type": "code",
   "execution_count": 160,
   "id": "34ce4986",
   "metadata": {
    "ExecuteTime": {
     "end_time": "2022-05-31T02:57:34.667904Z",
     "start_time": "2022-05-31T02:57:34.663037Z"
    },
    "id": "34ce4986"
   },
   "outputs": [
    {
     "ename": "SyntaxError",
     "evalue": "invalid syntax (1570721830.py, line 3)",
     "output_type": "error",
     "traceback": [
      "\u001b[1;36m  Input \u001b[1;32mIn [160]\u001b[1;36m\u001b[0m\n\u001b[1;33m    n_estimators =\u001b[0m\n\u001b[1;37m                   ^\u001b[0m\n\u001b[1;31mSyntaxError\u001b[0m\u001b[1;31m:\u001b[0m invalid syntax\n"
     ]
    }
   ],
   "source": [
    "def optimizer(trial, X, y, K):\n",
    "    # 조절할 hyper-parameter 조합을 적어줍니다.\n",
    "    n_estimators = \n",
    "    max_depth = \n",
    "    max_features = \n",
    "    \n",
    "    \n",
    "    # 원하는 모델을 지정합니다, optuna는 시간이 오래걸리기 때문에 저는 보통 RF로 일단 테스트를 해본 뒤에 LGBM을 사용합니다.\n",
    "    model = RandomForestRegressor(n_estimators=n_estimators,\n",
    "                                 max_depth=max_depth,\n",
    "                                 max_features=max_features)\n",
    "    \n",
    "    \n",
    "    # K-Fold Cross validation을 구현합니다.\n",
    "    folds = KFold(n_splits=K)\n",
    "    losses = []\n",
    "    \n",
    "    for train_idx, val_idx in folds.split(X, y):\n",
    "        X_train = X.iloc[train_idx, :]\n",
    "        y_train = y.iloc[train_idx]\n",
    "        \n",
    "        X_val = X.iloc[val_idx, :]\n",
    "        y_val = y.iloc[val_idx]\n",
    "        \n",
    "        model.fit(X_train, y_train)\n",
    "        preds = model.predict(X_val)\n",
    "        loss = mean_absolute_error(y_val, preds)\n",
    "        losses.append(loss)\n",
    "    \n",
    "    \n",
    "    # K-Fold의 평균 loss값을 돌려줍니다.\n",
    "    return np.mean(losses)"
   ]
  },
  {
   "cell_type": "code",
   "execution_count": null,
   "id": "7150b210",
   "metadata": {
    "id": "7150b210",
    "scrolled": false
   },
   "outputs": [],
   "source": [
    "K = # Kfold 수\n",
    "opt_func = partial(optimizer, X=X_train, y=y_train, K)\n",
    "\n",
    "study = optuna.create_study(direction=\"minimize\") # 최소/최대 어느 방향의 최적값을 구할 건지.\n",
    "study.optimize(opt_func, n_trials=5)"
   ]
  },
  {
   "cell_type": "code",
   "execution_count": null,
   "id": "72d0a118",
   "metadata": {
    "id": "72d0a118"
   },
   "outputs": [],
   "source": [
    "# optuna가 시도했던 모든 실험 관련 데이터\n",
    "study.trials_dataframe()"
   ]
  },
  {
   "cell_type": "code",
   "execution_count": null,
   "id": "a805da05",
   "metadata": {
    "id": "a805da05"
   },
   "outputs": [],
   "source": [
    "print(\"Best Score: %.4f\" % study.best_value) # best score 출력\n",
    "print(\"Best params: \", study.best_trial.params) # best score일 때의 하이퍼파라미터들"
   ]
  },
  {
   "cell_type": "code",
   "execution_count": null,
   "id": "051ae1eb",
   "metadata": {
    "id": "051ae1eb"
   },
   "outputs": [],
   "source": [
    "# 실험 기록 시각화\n",
    "optuna.visualization.plot_optimization_history(study)"
   ]
  },
  {
   "cell_type": "code",
   "execution_count": null,
   "id": "efbf8f65",
   "metadata": {
    "id": "efbf8f65",
    "scrolled": false
   },
   "outputs": [],
   "source": [
    "# hyper-parameter들의 중요도\n",
    "optuna.visualization.plot_param_importances(study)"
   ]
  },
  {
   "cell_type": "markdown",
   "id": "24b360ec",
   "metadata": {
    "id": "24b360ec"
   },
   "source": [
    "### 7. 테스트 및 제출 파일 생성"
   ]
  },
  {
   "cell_type": "code",
   "execution_count": null,
   "id": "a0daf54e",
   "metadata": {
    "id": "a0daf54e"
   },
   "outputs": [],
   "source": [
    "model = RandomForestRegressor(n_estimators=study.best_trial.params[\"n_estimators\"],\n",
    "                                 max_depth=study.best_trial.params[\"max_depth\"],\n",
    "                                 max_features=study.best_trial.params[\"max_features\"])\n",
    "\n",
    "model.fit(X_train, y_train)\n",
    "preds = model.predict(X_test)\n",
    "preds"
   ]
  },
  {
   "cell_type": "code",
   "execution_count": null,
   "id": "dfa0db70",
   "metadata": {
    "id": "dfa0db70"
   },
   "outputs": [],
   "source": [
    "X_test # 원본 데이터랑 id가 맞는지 확인 해보기!"
   ]
  },
  {
   "cell_type": "code",
   "execution_count": null,
   "id": "8ff2070c",
   "metadata": {
    "id": "8ff2070c"
   },
   "outputs": [],
   "source": [
    "submission = pd.DataFrame() # submission을 생성합니다.\n",
    "submission"
   ]
  },
  {
   "cell_type": "code",
   "execution_count": null,
   "id": "55a2c13f",
   "metadata": {
    "id": "55a2c13f"
   },
   "outputs": [],
   "source": [
    "submission.reset_index(drop=True).to_csv(\"submission.csv\", index=False)"
   ]
  }
 ],
 "metadata": {
  "colab": {
   "collapsed_sections": [],
   "name": "Chapter.06 실전 머신러닝 프로젝트_Template Code.ipynb",
   "provenance": []
  },
  "kernelspec": {
   "display_name": "Python 3 (ipykernel)",
   "language": "python",
   "name": "python3"
  },
  "language_info": {
   "codemirror_mode": {
    "name": "ipython",
    "version": 3
   },
   "file_extension": ".py",
   "mimetype": "text/x-python",
   "name": "python",
   "nbconvert_exporter": "python",
   "pygments_lexer": "ipython3",
   "version": "3.8.13"
  },
  "toc": {
   "base_numbering": 1,
   "nav_menu": {},
   "number_sections": true,
   "sideBar": true,
   "skip_h1_title": false,
   "title_cell": "Table of Contents",
   "title_sidebar": "Contents",
   "toc_cell": false,
   "toc_position": {},
   "toc_section_display": true,
   "toc_window_display": false
  },
  "varInspector": {
   "cols": {
    "lenName": 16,
    "lenType": 16,
    "lenVar": 40
   },
   "kernels_config": {
    "python": {
     "delete_cmd_postfix": "",
     "delete_cmd_prefix": "del ",
     "library": "var_list.py",
     "varRefreshCmd": "print(var_dic_list())"
    },
    "r": {
     "delete_cmd_postfix": ") ",
     "delete_cmd_prefix": "rm(",
     "library": "var_list.r",
     "varRefreshCmd": "cat(var_dic_list()) "
    }
   },
   "types_to_exclude": [
    "module",
    "function",
    "builtin_function_or_method",
    "instance",
    "_Feature"
   ],
   "window_display": false
  }
 },
 "nbformat": 4,
 "nbformat_minor": 5
}
