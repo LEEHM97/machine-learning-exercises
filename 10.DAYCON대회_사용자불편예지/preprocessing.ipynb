{
 "cells": [
  {
   "cell_type": "markdown",
   "id": "a9f4b3d2",
   "metadata": {},
   "source": [
    "# 라이브러리 및 데이터 불러오기"
   ]
  },
  {
   "cell_type": "code",
   "execution_count": 42,
   "id": "0cdf5f92",
   "metadata": {
    "ExecuteTime": {
     "end_time": "2022-06-09T13:37:36.193991Z",
     "start_time": "2022-06-09T13:37:36.191080Z"
    }
   },
   "outputs": [],
   "source": [
    "import numpy as np\n",
    "import matplotlib.pyplot as plt\n",
    "import seaborn as sns\n",
    "import pandas as pd"
   ]
  },
  {
   "cell_type": "code",
   "execution_count": 43,
   "id": "b57d53f9",
   "metadata": {
    "ExecuteTime": {
     "end_time": "2022-06-09T13:37:48.854308Z",
     "start_time": "2022-06-09T13:37:36.194964Z"
    }
   },
   "outputs": [
    {
     "name": "stderr",
     "output_type": "stream",
     "text": [
      "C:\\Users\\gmlkd\\AppData\\Local\\Temp\\ipykernel_20968\\109563190.py:5: DtypeWarning: Columns (10,11,12) have mixed types. Specify dtype option on import or set low_memory=False.\n",
      "  train_quality = pd.read_csv(base_path+\"train_quality_data.csv\")\n",
      "C:\\Users\\gmlkd\\AppData\\Local\\Temp\\ipykernel_20968\\109563190.py:7: DtypeWarning: Columns (4,11,12) have mixed types. Specify dtype option on import or set low_memory=False.\n",
      "  test_quality = pd.read_csv(base_path+\"test_quality_data.csv\")\n"
     ]
    }
   ],
   "source": [
    "base_path = \"C:/Users/gmlkd/data/시스템 품질 변화로 인한 사용자 불편 예지 AI 경진대회_data/\"\n",
    "\n",
    "train_err = pd.read_csv(base_path+\"train_err_data.csv\")\n",
    "train_problem = pd.read_csv(base_path+\"train_problem_data.csv\")\n",
    "train_quality = pd.read_csv(base_path+\"train_quality_data.csv\")\n",
    "test_err = pd.read_csv(base_path+\"test_err_data.csv\")\n",
    "test_quality = pd.read_csv(base_path+\"test_quality_data.csv\")\n",
    "submission = pd.read_csv(base_path+\"sample_submission.csv\")"
   ]
  },
  {
   "cell_type": "code",
   "execution_count": 44,
   "id": "d7f640ff",
   "metadata": {
    "ExecuteTime": {
     "end_time": "2022-06-09T13:37:48.876695Z",
     "start_time": "2022-06-09T13:37:48.855282Z"
    }
   },
   "outputs": [
    {
     "data": {
      "text/html": [
       "<div>\n",
       "<style scoped>\n",
       "    .dataframe tbody tr th:only-of-type {\n",
       "        vertical-align: middle;\n",
       "    }\n",
       "\n",
       "    .dataframe tbody tr th {\n",
       "        vertical-align: top;\n",
       "    }\n",
       "\n",
       "    .dataframe thead th {\n",
       "        text-align: right;\n",
       "    }\n",
       "</style>\n",
       "<table border=\"1\" class=\"dataframe\">\n",
       "  <thead>\n",
       "    <tr style=\"text-align: right;\">\n",
       "      <th></th>\n",
       "      <th>user_id</th>\n",
       "      <th>time</th>\n",
       "      <th>model_nm</th>\n",
       "      <th>fwver</th>\n",
       "      <th>errtype</th>\n",
       "      <th>errcode</th>\n",
       "    </tr>\n",
       "  </thead>\n",
       "  <tbody>\n",
       "    <tr>\n",
       "      <th>0</th>\n",
       "      <td>10000</td>\n",
       "      <td>20201101025616</td>\n",
       "      <td>model_3</td>\n",
       "      <td>05.15.2138</td>\n",
       "      <td>15</td>\n",
       "      <td>1</td>\n",
       "    </tr>\n",
       "    <tr>\n",
       "      <th>1</th>\n",
       "      <td>10000</td>\n",
       "      <td>20201101030309</td>\n",
       "      <td>model_3</td>\n",
       "      <td>05.15.2138</td>\n",
       "      <td>12</td>\n",
       "      <td>1</td>\n",
       "    </tr>\n",
       "  </tbody>\n",
       "</table>\n",
       "</div>"
      ],
      "text/plain": [
       "   user_id            time model_nm       fwver  errtype errcode\n",
       "0    10000  20201101025616  model_3  05.15.2138       15       1\n",
       "1    10000  20201101030309  model_3  05.15.2138       12       1"
      ]
     },
     "metadata": {},
     "output_type": "display_data"
    },
    {
     "data": {
      "text/html": [
       "<div>\n",
       "<style scoped>\n",
       "    .dataframe tbody tr th:only-of-type {\n",
       "        vertical-align: middle;\n",
       "    }\n",
       "\n",
       "    .dataframe tbody tr th {\n",
       "        vertical-align: top;\n",
       "    }\n",
       "\n",
       "    .dataframe thead th {\n",
       "        text-align: right;\n",
       "    }\n",
       "</style>\n",
       "<table border=\"1\" class=\"dataframe\">\n",
       "  <thead>\n",
       "    <tr style=\"text-align: right;\">\n",
       "      <th></th>\n",
       "      <th>user_id</th>\n",
       "      <th>time</th>\n",
       "      <th>model_nm</th>\n",
       "      <th>fwver</th>\n",
       "      <th>errtype</th>\n",
       "      <th>errcode</th>\n",
       "    </tr>\n",
       "  </thead>\n",
       "  <tbody>\n",
       "    <tr>\n",
       "      <th>0</th>\n",
       "      <td>30000</td>\n",
       "      <td>20201101030227</td>\n",
       "      <td>model_1</td>\n",
       "      <td>04.16.3553</td>\n",
       "      <td>31</td>\n",
       "      <td>1</td>\n",
       "    </tr>\n",
       "    <tr>\n",
       "      <th>1</th>\n",
       "      <td>30000</td>\n",
       "      <td>20201101030227</td>\n",
       "      <td>model_1</td>\n",
       "      <td>04.16.3553</td>\n",
       "      <td>33</td>\n",
       "      <td>2</td>\n",
       "    </tr>\n",
       "  </tbody>\n",
       "</table>\n",
       "</div>"
      ],
      "text/plain": [
       "   user_id            time model_nm       fwver  errtype errcode\n",
       "0    30000  20201101030227  model_1  04.16.3553       31       1\n",
       "1    30000  20201101030227  model_1  04.16.3553       33       2"
      ]
     },
     "metadata": {},
     "output_type": "display_data"
    },
    {
     "data": {
      "text/html": [
       "<div>\n",
       "<style scoped>\n",
       "    .dataframe tbody tr th:only-of-type {\n",
       "        vertical-align: middle;\n",
       "    }\n",
       "\n",
       "    .dataframe tbody tr th {\n",
       "        vertical-align: top;\n",
       "    }\n",
       "\n",
       "    .dataframe thead th {\n",
       "        text-align: right;\n",
       "    }\n",
       "</style>\n",
       "<table border=\"1\" class=\"dataframe\">\n",
       "  <thead>\n",
       "    <tr style=\"text-align: right;\">\n",
       "      <th></th>\n",
       "      <th>time</th>\n",
       "      <th>user_id</th>\n",
       "      <th>fwver</th>\n",
       "      <th>quality_0</th>\n",
       "      <th>quality_1</th>\n",
       "      <th>quality_2</th>\n",
       "      <th>quality_3</th>\n",
       "      <th>quality_4</th>\n",
       "      <th>quality_5</th>\n",
       "      <th>quality_6</th>\n",
       "      <th>quality_7</th>\n",
       "      <th>quality_8</th>\n",
       "      <th>quality_9</th>\n",
       "      <th>quality_10</th>\n",
       "      <th>quality_11</th>\n",
       "      <th>quality_12</th>\n",
       "    </tr>\n",
       "  </thead>\n",
       "  <tbody>\n",
       "    <tr>\n",
       "      <th>0</th>\n",
       "      <td>20201129090000</td>\n",
       "      <td>10000</td>\n",
       "      <td>05.15.2138</td>\n",
       "      <td>0.0</td>\n",
       "      <td>0</td>\n",
       "      <td>0.0</td>\n",
       "      <td>0</td>\n",
       "      <td>0</td>\n",
       "      <td>0</td>\n",
       "      <td>0</td>\n",
       "      <td>0</td>\n",
       "      <td>0</td>\n",
       "      <td>0</td>\n",
       "      <td>4</td>\n",
       "      <td>0</td>\n",
       "      <td>0</td>\n",
       "    </tr>\n",
       "    <tr>\n",
       "      <th>1</th>\n",
       "      <td>20201129090000</td>\n",
       "      <td>10000</td>\n",
       "      <td>05.15.2138</td>\n",
       "      <td>0.0</td>\n",
       "      <td>0</td>\n",
       "      <td>0.0</td>\n",
       "      <td>0</td>\n",
       "      <td>0</td>\n",
       "      <td>0</td>\n",
       "      <td>0</td>\n",
       "      <td>0</td>\n",
       "      <td>0</td>\n",
       "      <td>0</td>\n",
       "      <td>4</td>\n",
       "      <td>0</td>\n",
       "      <td>0</td>\n",
       "    </tr>\n",
       "  </tbody>\n",
       "</table>\n",
       "</div>"
      ],
      "text/plain": [
       "             time  user_id       fwver  quality_0  quality_1  quality_2  \\\n",
       "0  20201129090000    10000  05.15.2138        0.0          0        0.0   \n",
       "1  20201129090000    10000  05.15.2138        0.0          0        0.0   \n",
       "\n",
       "   quality_3  quality_4 quality_5  quality_6 quality_7 quality_8 quality_9  \\\n",
       "0          0          0         0          0         0         0         0   \n",
       "1          0          0         0          0         0         0         0   \n",
       "\n",
       "  quality_10  quality_11  quality_12  \n",
       "0          4           0           0  \n",
       "1          4           0           0  "
      ]
     },
     "metadata": {},
     "output_type": "display_data"
    },
    {
     "data": {
      "text/html": [
       "<div>\n",
       "<style scoped>\n",
       "    .dataframe tbody tr th:only-of-type {\n",
       "        vertical-align: middle;\n",
       "    }\n",
       "\n",
       "    .dataframe tbody tr th {\n",
       "        vertical-align: top;\n",
       "    }\n",
       "\n",
       "    .dataframe thead th {\n",
       "        text-align: right;\n",
       "    }\n",
       "</style>\n",
       "<table border=\"1\" class=\"dataframe\">\n",
       "  <thead>\n",
       "    <tr style=\"text-align: right;\">\n",
       "      <th></th>\n",
       "      <th>time</th>\n",
       "      <th>user_id</th>\n",
       "      <th>fwver</th>\n",
       "      <th>quality_0</th>\n",
       "      <th>quality_1</th>\n",
       "      <th>quality_2</th>\n",
       "      <th>quality_3</th>\n",
       "      <th>quality_4</th>\n",
       "      <th>quality_5</th>\n",
       "      <th>quality_6</th>\n",
       "      <th>quality_7</th>\n",
       "      <th>quality_8</th>\n",
       "      <th>quality_9</th>\n",
       "      <th>quality_10</th>\n",
       "      <th>quality_11</th>\n",
       "      <th>quality_12</th>\n",
       "    </tr>\n",
       "  </thead>\n",
       "  <tbody>\n",
       "    <tr>\n",
       "      <th>0</th>\n",
       "      <td>20201128195000</td>\n",
       "      <td>30000</td>\n",
       "      <td>04.33.1261</td>\n",
       "      <td>0.0</td>\n",
       "      <td>0</td>\n",
       "      <td>0.0</td>\n",
       "      <td>0</td>\n",
       "      <td>0</td>\n",
       "      <td>0</td>\n",
       "      <td>0</td>\n",
       "      <td>5</td>\n",
       "      <td>0</td>\n",
       "      <td>0</td>\n",
       "      <td>2</td>\n",
       "      <td>0</td>\n",
       "      <td>0</td>\n",
       "    </tr>\n",
       "    <tr>\n",
       "      <th>1</th>\n",
       "      <td>20201128195000</td>\n",
       "      <td>30000</td>\n",
       "      <td>04.33.1261</td>\n",
       "      <td>0.0</td>\n",
       "      <td>0</td>\n",
       "      <td>0.0</td>\n",
       "      <td>0</td>\n",
       "      <td>0</td>\n",
       "      <td>0</td>\n",
       "      <td>0</td>\n",
       "      <td>5</td>\n",
       "      <td>0</td>\n",
       "      <td>0</td>\n",
       "      <td>2</td>\n",
       "      <td>0</td>\n",
       "      <td>0</td>\n",
       "    </tr>\n",
       "  </tbody>\n",
       "</table>\n",
       "</div>"
      ],
      "text/plain": [
       "             time  user_id       fwver  quality_0 quality_1  quality_2  \\\n",
       "0  20201128195000    30000  04.33.1261        0.0         0        0.0   \n",
       "1  20201128195000    30000  04.33.1261        0.0         0        0.0   \n",
       "\n",
       "   quality_3  quality_4 quality_5  quality_6 quality_7 quality_8 quality_9  \\\n",
       "0          0          0         0          0         5         0         0   \n",
       "1          0          0         0          0         5         0         0   \n",
       "\n",
       "  quality_10  quality_11  quality_12  \n",
       "0          2           0           0  \n",
       "1          2           0           0  "
      ]
     },
     "metadata": {},
     "output_type": "display_data"
    },
    {
     "data": {
      "text/html": [
       "<div>\n",
       "<style scoped>\n",
       "    .dataframe tbody tr th:only-of-type {\n",
       "        vertical-align: middle;\n",
       "    }\n",
       "\n",
       "    .dataframe tbody tr th {\n",
       "        vertical-align: top;\n",
       "    }\n",
       "\n",
       "    .dataframe thead th {\n",
       "        text-align: right;\n",
       "    }\n",
       "</style>\n",
       "<table border=\"1\" class=\"dataframe\">\n",
       "  <thead>\n",
       "    <tr style=\"text-align: right;\">\n",
       "      <th></th>\n",
       "      <th>user_id</th>\n",
       "      <th>time</th>\n",
       "    </tr>\n",
       "  </thead>\n",
       "  <tbody>\n",
       "    <tr>\n",
       "      <th>0</th>\n",
       "      <td>19224</td>\n",
       "      <td>20201102200000</td>\n",
       "    </tr>\n",
       "    <tr>\n",
       "      <th>1</th>\n",
       "      <td>23664</td>\n",
       "      <td>20201116140000</td>\n",
       "    </tr>\n",
       "  </tbody>\n",
       "</table>\n",
       "</div>"
      ],
      "text/plain": [
       "   user_id            time\n",
       "0    19224  20201102200000\n",
       "1    23664  20201116140000"
      ]
     },
     "metadata": {},
     "output_type": "display_data"
    }
   ],
   "source": [
    "display(train_err.head(2))\n",
    "display(test_err.head(2))\n",
    "display(train_quality.head(2))\n",
    "display(test_quality.head(2))\n",
    "display(train_problem.head(2))"
   ]
  },
  {
   "cell_type": "markdown",
   "id": "cb3cab76",
   "metadata": {},
   "source": [
    "# 데이터 전처리"
   ]
  },
  {
   "cell_type": "markdown",
   "id": "67a156e7",
   "metadata": {},
   "source": [
    "## 결측치 처리"
   ]
  },
  {
   "cell_type": "code",
   "execution_count": 45,
   "id": "0d03a579",
   "metadata": {
    "ExecuteTime": {
     "end_time": "2022-06-09T13:38:57.678630Z",
     "start_time": "2022-06-09T13:37:48.877668Z"
    }
   },
   "outputs": [],
   "source": [
    "# time column을 datetype으로 변경\n",
    "\n",
    "train_err['time'] = pd.to_datetime(train_err['time'], format='%Y%m%d%H%M%S')\n",
    "train_problem['time'] = pd.to_datetime(train_problem['time'], format='%Y%m%d%H%M%S')\n",
    "train_quality['time'] = pd.to_datetime(train_quality['time'], format='%Y%m%d%H%M%S')\n",
    "test_err['time'] = pd.to_datetime(test_err['time'], format='%Y%m%d%H%M%S')\n",
    "test_quality['time'] = pd.to_datetime(test_quality['time'], format='%Y%m%d%H%M%S')"
   ]
  },
  {
   "cell_type": "markdown",
   "id": "8ad623d9",
   "metadata": {},
   "source": [
    "### train_err"
   ]
  },
  {
   "cell_type": "code",
   "execution_count": 46,
   "id": "aa4e776f",
   "metadata": {
    "ExecuteTime": {
     "end_time": "2022-06-09T13:39:01.020457Z",
     "start_time": "2022-06-09T13:38:57.679603Z"
    }
   },
   "outputs": [
    {
     "data": {
      "text/plain": [
       "user_id     0\n",
       "time        0\n",
       "model_nm    0\n",
       "fwver       0\n",
       "errtype     0\n",
       "errcode     1\n",
       "dtype: int64"
      ]
     },
     "execution_count": 46,
     "metadata": {},
     "output_type": "execute_result"
    }
   ],
   "source": [
    "train_err.isnull().sum()"
   ]
  },
  {
   "cell_type": "code",
   "execution_count": 47,
   "id": "3dd8837c",
   "metadata": {
    "ExecuteTime": {
     "end_time": "2022-06-09T13:39:01.027270Z",
     "start_time": "2022-06-09T13:39:01.021430Z"
    }
   },
   "outputs": [
    {
     "data": {
      "text/html": [
       "<div>\n",
       "<style scoped>\n",
       "    .dataframe tbody tr th:only-of-type {\n",
       "        vertical-align: middle;\n",
       "    }\n",
       "\n",
       "    .dataframe tbody tr th {\n",
       "        vertical-align: top;\n",
       "    }\n",
       "\n",
       "    .dataframe thead th {\n",
       "        text-align: right;\n",
       "    }\n",
       "</style>\n",
       "<table border=\"1\" class=\"dataframe\">\n",
       "  <thead>\n",
       "    <tr style=\"text-align: right;\">\n",
       "      <th></th>\n",
       "      <th>user_id</th>\n",
       "      <th>time</th>\n",
       "      <th>model_nm</th>\n",
       "      <th>fwver</th>\n",
       "      <th>errtype</th>\n",
       "      <th>errcode</th>\n",
       "    </tr>\n",
       "  </thead>\n",
       "  <tbody>\n",
       "    <tr>\n",
       "      <th>3825742</th>\n",
       "      <td>13639</td>\n",
       "      <td>2020-11-21 17:40:58</td>\n",
       "      <td>model_2</td>\n",
       "      <td>04.33.1261</td>\n",
       "      <td>31</td>\n",
       "      <td>1</td>\n",
       "    </tr>\n",
       "    <tr>\n",
       "      <th>3825743</th>\n",
       "      <td>13639</td>\n",
       "      <td>2020-11-21 17:41:10</td>\n",
       "      <td>model_2</td>\n",
       "      <td>04.33.1261</td>\n",
       "      <td>31</td>\n",
       "      <td>0</td>\n",
       "    </tr>\n",
       "    <tr>\n",
       "      <th>3825744</th>\n",
       "      <td>13639</td>\n",
       "      <td>2020-11-21 19:17:18</td>\n",
       "      <td>model_2</td>\n",
       "      <td>04.33.1261</td>\n",
       "      <td>5</td>\n",
       "      <td>NaN</td>\n",
       "    </tr>\n",
       "    <tr>\n",
       "      <th>3825745</th>\n",
       "      <td>13639</td>\n",
       "      <td>2020-11-21 19:17:18</td>\n",
       "      <td>model_2</td>\n",
       "      <td>04.33.1261</td>\n",
       "      <td>5</td>\n",
       "      <td>40013</td>\n",
       "    </tr>\n",
       "    <tr>\n",
       "      <th>3825746</th>\n",
       "      <td>13639</td>\n",
       "      <td>2020-11-21 22:09:19</td>\n",
       "      <td>model_2</td>\n",
       "      <td>04.33.1261</td>\n",
       "      <td>15</td>\n",
       "      <td>1</td>\n",
       "    </tr>\n",
       "  </tbody>\n",
       "</table>\n",
       "</div>"
      ],
      "text/plain": [
       "         user_id                time model_nm       fwver  errtype errcode\n",
       "3825742    13639 2020-11-21 17:40:58  model_2  04.33.1261       31       1\n",
       "3825743    13639 2020-11-21 17:41:10  model_2  04.33.1261       31       0\n",
       "3825744    13639 2020-11-21 19:17:18  model_2  04.33.1261        5     NaN\n",
       "3825745    13639 2020-11-21 19:17:18  model_2  04.33.1261        5   40013\n",
       "3825746    13639 2020-11-21 22:09:19  model_2  04.33.1261       15       1"
      ]
     },
     "execution_count": 47,
     "metadata": {},
     "output_type": "execute_result"
    }
   ],
   "source": [
    "# errcode 40013일 때와 user_id, time, model_nm, fwver, errtype모두 같다\n",
    "train_err.iloc[3825742:3825747]"
   ]
  },
  {
   "cell_type": "code",
   "execution_count": 48,
   "id": "f551b938",
   "metadata": {
    "ExecuteTime": {
     "end_time": "2022-06-09T13:39:01.510264Z",
     "start_time": "2022-06-09T13:39:01.028243Z"
    }
   },
   "outputs": [],
   "source": [
    "# 따라서 같은 errcode일 것임을 유추하여 40013값을 넣어준다.\n",
    "train_err.errcode = train_err.errcode.fillna('40013')"
   ]
  },
  {
   "cell_type": "code",
   "execution_count": 49,
   "id": "9dedf6e0",
   "metadata": {
    "ExecuteTime": {
     "end_time": "2022-06-09T13:39:01.517077Z",
     "start_time": "2022-06-09T13:39:01.511237Z"
    }
   },
   "outputs": [
    {
     "name": "stdout",
     "output_type": "stream",
     "text": [
      "<class 'pandas.core.frame.DataFrame'>\n",
      "RangeIndex: 16554663 entries, 0 to 16554662\n",
      "Data columns (total 6 columns):\n",
      " #   Column    Dtype         \n",
      "---  ------    -----         \n",
      " 0   user_id   int64         \n",
      " 1   time      datetime64[ns]\n",
      " 2   model_nm  object        \n",
      " 3   fwver     object        \n",
      " 4   errtype   int64         \n",
      " 5   errcode   object        \n",
      "dtypes: datetime64[ns](1), int64(2), object(3)\n",
      "memory usage: 757.8+ MB\n"
     ]
    }
   ],
   "source": [
    "# model_nm, fwver, errcode encoding 필요\n",
    "\n",
    "train_err.info()"
   ]
  },
  {
   "cell_type": "markdown",
   "id": "4672961c",
   "metadata": {},
   "source": [
    "### train_quality"
   ]
  },
  {
   "cell_type": "code",
   "execution_count": 50,
   "id": "c53fae0b",
   "metadata": {
    "ExecuteTime": {
     "end_time": "2022-06-09T13:39:01.860515Z",
     "start_time": "2022-06-09T13:39:01.518050Z"
    }
   },
   "outputs": [
    {
     "data": {
      "text/plain": [
       "time               0\n",
       "user_id            0\n",
       "fwver          40080\n",
       "quality_0     144432\n",
       "quality_1          0\n",
       "quality_2      40113\n",
       "quality_3          0\n",
       "quality_4          0\n",
       "quality_5         20\n",
       "quality_6          0\n",
       "quality_7          0\n",
       "quality_8          0\n",
       "quality_9          0\n",
       "quality_10         0\n",
       "quality_11         0\n",
       "quality_12         0\n",
       "dtype: int64"
      ]
     },
     "execution_count": 50,
     "metadata": {},
     "output_type": "execute_result"
    }
   ],
   "source": [
    "train_quality.isnull().sum()"
   ]
  },
  {
   "cell_type": "code",
   "execution_count": 51,
   "id": "6b9e2d30",
   "metadata": {
    "ExecuteTime": {
     "end_time": "2022-06-09T13:39:01.864409Z",
     "start_time": "2022-06-09T13:39:01.861488Z"
    }
   },
   "outputs": [],
   "source": [
    "# 1. fwver 결측치\n",
    "\n",
    "# case1. fwver=non을 이상치로 판단하고 모두 지우기\n",
    "# case2. train_err에서 해당 user_id의 fwver값을 가져와 채우기"
   ]
  },
  {
   "cell_type": "code",
   "execution_count": 52,
   "id": "91cb7636",
   "metadata": {
    "ExecuteTime": {
     "end_time": "2022-06-09T13:39:02.295628Z",
     "start_time": "2022-06-09T13:39:01.864409Z"
    }
   },
   "outputs": [
    {
     "name": "stdout",
     "output_type": "stream",
     "text": [
      "<class 'pandas.core.frame.DataFrame'>\n",
      "Int64Index: 788544 entries, 0 to 828623\n",
      "Data columns (total 16 columns):\n",
      " #   Column      Non-Null Count   Dtype         \n",
      "---  ------      --------------   -----         \n",
      " 0   time        788544 non-null  datetime64[ns]\n",
      " 1   user_id     788544 non-null  int64         \n",
      " 2   fwver       788544 non-null  object        \n",
      " 3   quality_0   684192 non-null  float64       \n",
      " 4   quality_1   788544 non-null  int64         \n",
      " 5   quality_2   788511 non-null  float64       \n",
      " 6   quality_3   788544 non-null  int64         \n",
      " 7   quality_4   788544 non-null  int64         \n",
      " 8   quality_5   788524 non-null  object        \n",
      " 9   quality_6   788544 non-null  int64         \n",
      " 10  quality_7   788544 non-null  object        \n",
      " 11  quality_8   788544 non-null  object        \n",
      " 12  quality_9   788544 non-null  object        \n",
      " 13  quality_10  788544 non-null  object        \n",
      " 14  quality_11  788544 non-null  int64         \n",
      " 15  quality_12  788544 non-null  int64         \n",
      "dtypes: datetime64[ns](1), float64(2), int64(7), object(6)\n",
      "memory usage: 102.3+ MB\n"
     ]
    }
   ],
   "source": [
    "# train_err에는 fwver가 업그레이드 된 경우가 많이 있다.\n",
    "# 결측치 비율이 적고, 어떤 fwver에서 로그가 찍혔는지 알기 힘드므로 case1 선택\n",
    "\n",
    "fwver_null_index = train_quality[train_quality.fwver.isnull()].index\n",
    "\n",
    "train_quality = train_quality.drop(fwver_null_index, axis=0)\n",
    "train_quality.info()"
   ]
  },
  {
   "cell_type": "code",
   "execution_count": 53,
   "id": "3a0aa190",
   "metadata": {
    "ExecuteTime": {
     "end_time": "2022-06-09T13:39:02.352083Z",
     "start_time": "2022-06-09T13:39:02.296602Z"
    }
   },
   "outputs": [
    {
     "data": {
      "text/html": [
       "<div>\n",
       "<style scoped>\n",
       "    .dataframe tbody tr th:only-of-type {\n",
       "        vertical-align: middle;\n",
       "    }\n",
       "\n",
       "    .dataframe tbody tr th {\n",
       "        vertical-align: top;\n",
       "    }\n",
       "\n",
       "    .dataframe thead th {\n",
       "        text-align: right;\n",
       "    }\n",
       "</style>\n",
       "<table border=\"1\" class=\"dataframe\">\n",
       "  <thead>\n",
       "    <tr style=\"text-align: right;\">\n",
       "      <th></th>\n",
       "      <th>quality_0</th>\n",
       "      <th>quality_2</th>\n",
       "    </tr>\n",
       "  </thead>\n",
       "  <tbody>\n",
       "    <tr>\n",
       "      <th>count</th>\n",
       "      <td>684192.000000</td>\n",
       "      <td>788511.000000</td>\n",
       "    </tr>\n",
       "    <tr>\n",
       "      <th>mean</th>\n",
       "      <td>4.148701</td>\n",
       "      <td>4.751094</td>\n",
       "    </tr>\n",
       "    <tr>\n",
       "      <th>std</th>\n",
       "      <td>479.315029</td>\n",
       "      <td>586.252469</td>\n",
       "    </tr>\n",
       "    <tr>\n",
       "      <th>min</th>\n",
       "      <td>-1.000000</td>\n",
       "      <td>-1.000000</td>\n",
       "    </tr>\n",
       "    <tr>\n",
       "      <th>25%</th>\n",
       "      <td>0.000000</td>\n",
       "      <td>0.000000</td>\n",
       "    </tr>\n",
       "    <tr>\n",
       "      <th>50%</th>\n",
       "      <td>0.000000</td>\n",
       "      <td>0.000000</td>\n",
       "    </tr>\n",
       "    <tr>\n",
       "      <th>75%</th>\n",
       "      <td>0.000000</td>\n",
       "      <td>0.000000</td>\n",
       "    </tr>\n",
       "    <tr>\n",
       "      <th>max</th>\n",
       "      <td>157667.000000</td>\n",
       "      <td>191859.000000</td>\n",
       "    </tr>\n",
       "  </tbody>\n",
       "</table>\n",
       "</div>"
      ],
      "text/plain": [
       "           quality_0      quality_2\n",
       "count  684192.000000  788511.000000\n",
       "mean        4.148701       4.751094\n",
       "std       479.315029     586.252469\n",
       "min        -1.000000      -1.000000\n",
       "25%         0.000000       0.000000\n",
       "50%         0.000000       0.000000\n",
       "75%         0.000000       0.000000\n",
       "max    157667.000000  191859.000000"
      ]
     },
     "execution_count": 53,
     "metadata": {},
     "output_type": "execute_result"
    }
   ],
   "source": [
    "# 2. quality 결측치\n",
    "\n",
    "# case1. 최빈값 채우기\n",
    "# case2. 평균값 채우기\n",
    "\n",
    "train_quality[['quality_0', 'quality_2']].describe()"
   ]
  },
  {
   "cell_type": "code",
   "execution_count": 54,
   "id": "faffb905",
   "metadata": {
    "ExecuteTime": {
     "end_time": "2022-06-09T13:39:02.757962Z",
     "start_time": "2022-06-09T13:39:02.353055Z"
    }
   },
   "outputs": [],
   "source": [
    "# -1, 0 ,1에 데이터가 편향되어있고, max값과 차이가 많이 난다.\n",
    "# 따라서 case1. 최빈값으로 채우기 선택\n",
    "\n",
    "for i in train_quality.columns[3:]:\n",
    "    train_quality[i] = train_quality[i].fillna(train_quality[i].mode()[0])"
   ]
  },
  {
   "cell_type": "code",
   "execution_count": 55,
   "id": "580f3cf9",
   "metadata": {
    "ExecuteTime": {
     "end_time": "2022-06-09T13:39:03.091972Z",
     "start_time": "2022-06-09T13:39:02.758935Z"
    }
   },
   "outputs": [
    {
     "data": {
      "text/plain": [
       "time          0\n",
       "user_id       0\n",
       "fwver         0\n",
       "quality_0     0\n",
       "quality_1     0\n",
       "quality_2     0\n",
       "quality_3     0\n",
       "quality_4     0\n",
       "quality_5     0\n",
       "quality_6     0\n",
       "quality_7     0\n",
       "quality_8     0\n",
       "quality_9     0\n",
       "quality_10    0\n",
       "quality_11    0\n",
       "quality_12    0\n",
       "dtype: int64"
      ]
     },
     "execution_count": 55,
     "metadata": {},
     "output_type": "execute_result"
    }
   ],
   "source": [
    "train_quality.isnull().sum()"
   ]
  },
  {
   "cell_type": "markdown",
   "id": "6ae0eaf3",
   "metadata": {},
   "source": [
    "### test_err"
   ]
  },
  {
   "cell_type": "code",
   "execution_count": 56,
   "id": "b5ba0292",
   "metadata": {
    "ExecuteTime": {
     "end_time": "2022-06-09T13:39:06.434302Z",
     "start_time": "2022-06-09T13:39:03.092887Z"
    }
   },
   "outputs": [
    {
     "data": {
      "text/plain": [
       "user_id     0\n",
       "time        0\n",
       "model_nm    0\n",
       "fwver       0\n",
       "errtype     0\n",
       "errcode     4\n",
       "dtype: int64"
      ]
     },
     "execution_count": 56,
     "metadata": {},
     "output_type": "execute_result"
    }
   ],
   "source": [
    "test_err.isnull().sum()"
   ]
  },
  {
   "cell_type": "code",
   "execution_count": 57,
   "id": "fce74167",
   "metadata": {
    "ExecuteTime": {
     "end_time": "2022-06-09T13:39:06.451822Z",
     "start_time": "2022-06-09T13:39:06.435275Z"
    }
   },
   "outputs": [
    {
     "data": {
      "text/html": [
       "<div>\n",
       "<style scoped>\n",
       "    .dataframe tbody tr th:only-of-type {\n",
       "        vertical-align: middle;\n",
       "    }\n",
       "\n",
       "    .dataframe tbody tr th {\n",
       "        vertical-align: top;\n",
       "    }\n",
       "\n",
       "    .dataframe thead th {\n",
       "        text-align: right;\n",
       "    }\n",
       "</style>\n",
       "<table border=\"1\" class=\"dataframe\">\n",
       "  <thead>\n",
       "    <tr style=\"text-align: right;\">\n",
       "      <th></th>\n",
       "      <th>user_id</th>\n",
       "      <th>time</th>\n",
       "      <th>model_nm</th>\n",
       "      <th>fwver</th>\n",
       "      <th>errtype</th>\n",
       "      <th>errcode</th>\n",
       "    </tr>\n",
       "  </thead>\n",
       "  <tbody>\n",
       "    <tr>\n",
       "      <th>937965</th>\n",
       "      <td>30820</td>\n",
       "      <td>2020-11-15 03:59:00</td>\n",
       "      <td>model_2</td>\n",
       "      <td>04.33.1261</td>\n",
       "      <td>40</td>\n",
       "      <td>1</td>\n",
       "    </tr>\n",
       "    <tr>\n",
       "      <th>937966</th>\n",
       "      <td>30820</td>\n",
       "      <td>2020-11-15 03:59:02</td>\n",
       "      <td>model_2</td>\n",
       "      <td>04.33.1261</td>\n",
       "      <td>40</td>\n",
       "      <td>0</td>\n",
       "    </tr>\n",
       "    <tr>\n",
       "      <th>937967</th>\n",
       "      <td>30820</td>\n",
       "      <td>2020-11-15 04:43:17</td>\n",
       "      <td>model_2</td>\n",
       "      <td>04.33.1261</td>\n",
       "      <td>5</td>\n",
       "      <td>NaN</td>\n",
       "    </tr>\n",
       "    <tr>\n",
       "      <th>937968</th>\n",
       "      <td>30820</td>\n",
       "      <td>2020-11-15 04:43:17</td>\n",
       "      <td>model_2</td>\n",
       "      <td>04.33.1261</td>\n",
       "      <td>5</td>\n",
       "      <td>40053</td>\n",
       "    </tr>\n",
       "    <tr>\n",
       "      <th>937969</th>\n",
       "      <td>30820</td>\n",
       "      <td>2020-11-15 09:10:24</td>\n",
       "      <td>model_2</td>\n",
       "      <td>04.33.1261</td>\n",
       "      <td>15</td>\n",
       "      <td>1</td>\n",
       "    </tr>\n",
       "  </tbody>\n",
       "</table>\n",
       "</div>"
      ],
      "text/plain": [
       "        user_id                time model_nm       fwver  errtype errcode\n",
       "937965    30820 2020-11-15 03:59:00  model_2  04.33.1261       40       1\n",
       "937966    30820 2020-11-15 03:59:02  model_2  04.33.1261       40       0\n",
       "937967    30820 2020-11-15 04:43:17  model_2  04.33.1261        5     NaN\n",
       "937968    30820 2020-11-15 04:43:17  model_2  04.33.1261        5   40053\n",
       "937969    30820 2020-11-15 09:10:24  model_2  04.33.1261       15       1"
      ]
     },
     "metadata": {},
     "output_type": "display_data"
    },
    {
     "data": {
      "text/html": [
       "<div>\n",
       "<style scoped>\n",
       "    .dataframe tbody tr th:only-of-type {\n",
       "        vertical-align: middle;\n",
       "    }\n",
       "\n",
       "    .dataframe tbody tr th {\n",
       "        vertical-align: top;\n",
       "    }\n",
       "\n",
       "    .dataframe thead th {\n",
       "        text-align: right;\n",
       "    }\n",
       "</style>\n",
       "<table border=\"1\" class=\"dataframe\">\n",
       "  <thead>\n",
       "    <tr style=\"text-align: right;\">\n",
       "      <th></th>\n",
       "      <th>user_id</th>\n",
       "      <th>time</th>\n",
       "      <th>model_nm</th>\n",
       "      <th>fwver</th>\n",
       "      <th>errtype</th>\n",
       "      <th>errcode</th>\n",
       "    </tr>\n",
       "  </thead>\n",
       "  <tbody>\n",
       "    <tr>\n",
       "      <th>4038890</th>\n",
       "      <td>33681</td>\n",
       "      <td>2020-11-03 11:01:47</td>\n",
       "      <td>model_2</td>\n",
       "      <td>04.33.1185</td>\n",
       "      <td>14</td>\n",
       "      <td>14</td>\n",
       "    </tr>\n",
       "    <tr>\n",
       "      <th>4038891</th>\n",
       "      <td>33681</td>\n",
       "      <td>2020-11-03 11:02:59</td>\n",
       "      <td>model_2</td>\n",
       "      <td>04.33.1185</td>\n",
       "      <td>7</td>\n",
       "      <td>14</td>\n",
       "    </tr>\n",
       "    <tr>\n",
       "      <th>4038892</th>\n",
       "      <td>33681</td>\n",
       "      <td>2020-11-03 11:02:59</td>\n",
       "      <td>model_2</td>\n",
       "      <td>04.33.1185</td>\n",
       "      <td>5</td>\n",
       "      <td>NaN</td>\n",
       "    </tr>\n",
       "    <tr>\n",
       "      <th>4038893</th>\n",
       "      <td>33681</td>\n",
       "      <td>2020-11-03 11:02:59</td>\n",
       "      <td>model_2</td>\n",
       "      <td>04.33.1185</td>\n",
       "      <td>5</td>\n",
       "      <td>40053</td>\n",
       "    </tr>\n",
       "    <tr>\n",
       "      <th>4038894</th>\n",
       "      <td>33681</td>\n",
       "      <td>2020-11-03 11:03:00</td>\n",
       "      <td>model_2</td>\n",
       "      <td>04.33.1185</td>\n",
       "      <td>6</td>\n",
       "      <td>14</td>\n",
       "    </tr>\n",
       "  </tbody>\n",
       "</table>\n",
       "</div>"
      ],
      "text/plain": [
       "         user_id                time model_nm       fwver  errtype errcode\n",
       "4038890    33681 2020-11-03 11:01:47  model_2  04.33.1185       14      14\n",
       "4038891    33681 2020-11-03 11:02:59  model_2  04.33.1185        7      14\n",
       "4038892    33681 2020-11-03 11:02:59  model_2  04.33.1185        5     NaN\n",
       "4038893    33681 2020-11-03 11:02:59  model_2  04.33.1185        5   40053\n",
       "4038894    33681 2020-11-03 11:03:00  model_2  04.33.1185        6      14"
      ]
     },
     "metadata": {},
     "output_type": "display_data"
    },
    {
     "data": {
      "text/html": [
       "<div>\n",
       "<style scoped>\n",
       "    .dataframe tbody tr th:only-of-type {\n",
       "        vertical-align: middle;\n",
       "    }\n",
       "\n",
       "    .dataframe tbody tr th {\n",
       "        vertical-align: top;\n",
       "    }\n",
       "\n",
       "    .dataframe thead th {\n",
       "        text-align: right;\n",
       "    }\n",
       "</style>\n",
       "<table border=\"1\" class=\"dataframe\">\n",
       "  <thead>\n",
       "    <tr style=\"text-align: right;\">\n",
       "      <th></th>\n",
       "      <th>user_id</th>\n",
       "      <th>time</th>\n",
       "      <th>model_nm</th>\n",
       "      <th>fwver</th>\n",
       "      <th>errtype</th>\n",
       "      <th>errcode</th>\n",
       "    </tr>\n",
       "  </thead>\n",
       "  <tbody>\n",
       "    <tr>\n",
       "      <th>9486879</th>\n",
       "      <td>38991</td>\n",
       "      <td>2020-11-27 18:59:52</td>\n",
       "      <td>model_2</td>\n",
       "      <td>04.33.1261</td>\n",
       "      <td>5</td>\n",
       "      <td>B-A8002</td>\n",
       "    </tr>\n",
       "    <tr>\n",
       "      <th>9486880</th>\n",
       "      <td>38991</td>\n",
       "      <td>2020-11-27 21:38:38</td>\n",
       "      <td>model_2</td>\n",
       "      <td>04.33.1261</td>\n",
       "      <td>5</td>\n",
       "      <td>40053</td>\n",
       "    </tr>\n",
       "    <tr>\n",
       "      <th>9486881</th>\n",
       "      <td>38991</td>\n",
       "      <td>2020-11-27 21:38:38</td>\n",
       "      <td>model_2</td>\n",
       "      <td>04.33.1261</td>\n",
       "      <td>5</td>\n",
       "      <td>NaN</td>\n",
       "    </tr>\n",
       "    <tr>\n",
       "      <th>9486882</th>\n",
       "      <td>38991</td>\n",
       "      <td>2020-11-28 00:13:46</td>\n",
       "      <td>model_2</td>\n",
       "      <td>04.33.1261</td>\n",
       "      <td>26</td>\n",
       "      <td>1</td>\n",
       "    </tr>\n",
       "  </tbody>\n",
       "</table>\n",
       "</div>"
      ],
      "text/plain": [
       "         user_id                time model_nm       fwver  errtype  errcode\n",
       "9486879    38991 2020-11-27 18:59:52  model_2  04.33.1261        5  B-A8002\n",
       "9486880    38991 2020-11-27 21:38:38  model_2  04.33.1261        5    40053\n",
       "9486881    38991 2020-11-27 21:38:38  model_2  04.33.1261        5      NaN\n",
       "9486882    38991 2020-11-28 00:13:46  model_2  04.33.1261       26        1"
      ]
     },
     "metadata": {},
     "output_type": "display_data"
    },
    {
     "data": {
      "text/html": [
       "<div>\n",
       "<style scoped>\n",
       "    .dataframe tbody tr th:only-of-type {\n",
       "        vertical-align: middle;\n",
       "    }\n",
       "\n",
       "    .dataframe tbody tr th {\n",
       "        vertical-align: top;\n",
       "    }\n",
       "\n",
       "    .dataframe thead th {\n",
       "        text-align: right;\n",
       "    }\n",
       "</style>\n",
       "<table border=\"1\" class=\"dataframe\">\n",
       "  <thead>\n",
       "    <tr style=\"text-align: right;\">\n",
       "      <th></th>\n",
       "      <th>user_id</th>\n",
       "      <th>time</th>\n",
       "      <th>model_nm</th>\n",
       "      <th>fwver</th>\n",
       "      <th>errtype</th>\n",
       "      <th>errcode</th>\n",
       "    </tr>\n",
       "  </thead>\n",
       "  <tbody>\n",
       "    <tr>\n",
       "      <th>10425470</th>\n",
       "      <td>39894</td>\n",
       "      <td>2020-11-28 14:46:05</td>\n",
       "      <td>model_1</td>\n",
       "      <td>04.16.3553</td>\n",
       "      <td>20</td>\n",
       "      <td>1</td>\n",
       "    </tr>\n",
       "    <tr>\n",
       "      <th>10425471</th>\n",
       "      <td>39894</td>\n",
       "      <td>2020-11-28 14:46:21</td>\n",
       "      <td>model_1</td>\n",
       "      <td>04.16.3553</td>\n",
       "      <td>26</td>\n",
       "      <td>1</td>\n",
       "    </tr>\n",
       "    <tr>\n",
       "      <th>10425472</th>\n",
       "      <td>39894</td>\n",
       "      <td>2020-11-28 14:47:12</td>\n",
       "      <td>model_1</td>\n",
       "      <td>04.16.3553</td>\n",
       "      <td>5</td>\n",
       "      <td>-1010</td>\n",
       "    </tr>\n",
       "    <tr>\n",
       "      <th>10425473</th>\n",
       "      <td>39894</td>\n",
       "      <td>2020-11-28 14:47:12</td>\n",
       "      <td>model_1</td>\n",
       "      <td>04.16.3553</td>\n",
       "      <td>5</td>\n",
       "      <td>NaN</td>\n",
       "    </tr>\n",
       "    <tr>\n",
       "      <th>10425474</th>\n",
       "      <td>39894</td>\n",
       "      <td>2020-11-28 14:47:57</td>\n",
       "      <td>model_1</td>\n",
       "      <td>04.16.3553</td>\n",
       "      <td>32</td>\n",
       "      <td>80</td>\n",
       "    </tr>\n",
       "  </tbody>\n",
       "</table>\n",
       "</div>"
      ],
      "text/plain": [
       "          user_id                time model_nm       fwver  errtype errcode\n",
       "10425470    39894 2020-11-28 14:46:05  model_1  04.16.3553       20       1\n",
       "10425471    39894 2020-11-28 14:46:21  model_1  04.16.3553       26       1\n",
       "10425472    39894 2020-11-28 14:47:12  model_1  04.16.3553        5   -1010\n",
       "10425473    39894 2020-11-28 14:47:12  model_1  04.16.3553        5     NaN\n",
       "10425474    39894 2020-11-28 14:47:57  model_1  04.16.3553       32      80"
      ]
     },
     "metadata": {},
     "output_type": "display_data"
    }
   ],
   "source": [
    "display(test_err.iloc[937965:937970])\n",
    "display(test_err.iloc[4038890:4038895])\n",
    "display(test_err.iloc[9486879:9486883])\n",
    "display(test_err.iloc[10425470:10425475])"
   ]
  },
  {
   "cell_type": "code",
   "execution_count": 58,
   "id": "4c514a54",
   "metadata": {
    "ExecuteTime": {
     "end_time": "2022-06-09T13:39:06.455715Z",
     "start_time": "2022-06-09T13:39:06.452794Z"
    }
   },
   "outputs": [],
   "source": [
    "# 결측치 채우기\n",
    "test_err.iloc[937967, 5] = '40053'\n",
    "test_err.iloc[4038892, 5] = '40053'\n",
    "test_err.iloc[9486881, 5] = '40053'\n",
    "test_err.iloc[10425473, 5] = '-1010'"
   ]
  },
  {
   "cell_type": "code",
   "execution_count": 59,
   "id": "59c3dcfa",
   "metadata": {
    "ExecuteTime": {
     "end_time": "2022-06-09T13:39:09.772238Z",
     "start_time": "2022-06-09T13:39:06.455715Z"
    }
   },
   "outputs": [
    {
     "data": {
      "text/plain": [
       "user_id     0\n",
       "time        0\n",
       "model_nm    0\n",
       "fwver       0\n",
       "errtype     0\n",
       "errcode     0\n",
       "dtype: int64"
      ]
     },
     "execution_count": 59,
     "metadata": {},
     "output_type": "execute_result"
    }
   ],
   "source": [
    "test_err.isnull().sum()"
   ]
  },
  {
   "cell_type": "markdown",
   "id": "fd01a65a",
   "metadata": {},
   "source": [
    "### test_quality"
   ]
  },
  {
   "cell_type": "code",
   "execution_count": 60,
   "id": "19825ab5",
   "metadata": {
    "ExecuteTime": {
     "end_time": "2022-06-09T13:39:10.131397Z",
     "start_time": "2022-06-09T13:39:09.773211Z"
    }
   },
   "outputs": [
    {
     "data": {
      "text/plain": [
       "time               0\n",
       "user_id            0\n",
       "fwver          22764\n",
       "quality_0     106584\n",
       "quality_1         11\n",
       "quality_2      21115\n",
       "quality_3          0\n",
       "quality_4          0\n",
       "quality_5         44\n",
       "quality_6          0\n",
       "quality_7          0\n",
       "quality_8          0\n",
       "quality_9          0\n",
       "quality_10         0\n",
       "quality_11         0\n",
       "quality_12         0\n",
       "dtype: int64"
      ]
     },
     "execution_count": 60,
     "metadata": {},
     "output_type": "execute_result"
    }
   ],
   "source": [
    "test_quality.isnull().sum()"
   ]
  },
  {
   "cell_type": "code",
   "execution_count": 61,
   "id": "28f14106",
   "metadata": {
    "ExecuteTime": {
     "end_time": "2022-06-09T13:39:10.558236Z",
     "start_time": "2022-06-09T13:39:10.132371Z"
    }
   },
   "outputs": [
    {
     "name": "stdout",
     "output_type": "stream",
     "text": [
      "<class 'pandas.core.frame.DataFrame'>\n",
      "Int64Index: 725208 entries, 0 to 747971\n",
      "Data columns (total 16 columns):\n",
      " #   Column      Non-Null Count   Dtype         \n",
      "---  ------      --------------   -----         \n",
      " 0   time        725208 non-null  datetime64[ns]\n",
      " 1   user_id     725208 non-null  int64         \n",
      " 2   fwver       725208 non-null  object        \n",
      " 3   quality_0   639780 non-null  float64       \n",
      " 4   quality_1   725197 non-null  object        \n",
      " 5   quality_2   725177 non-null  float64       \n",
      " 6   quality_3   725208 non-null  int64         \n",
      " 7   quality_4   725208 non-null  int64         \n",
      " 8   quality_5   725164 non-null  object        \n",
      " 9   quality_6   725208 non-null  int64         \n",
      " 10  quality_7   725208 non-null  object        \n",
      " 11  quality_8   725208 non-null  object        \n",
      " 12  quality_9   725208 non-null  object        \n",
      " 13  quality_10  725208 non-null  object        \n",
      " 14  quality_11  725208 non-null  int64         \n",
      " 15  quality_12  725208 non-null  int64         \n",
      "dtypes: datetime64[ns](1), float64(2), int64(6), object(7)\n",
      "memory usage: 94.1+ MB\n"
     ]
    }
   ],
   "source": [
    "# fwver결측치 제거\n",
    "\n",
    "fwver_null_index = list(test_quality[test_quality.fwver.isnull()].index)\n",
    "\n",
    "test_quality = test_quality.drop(fwver_null_index, axis=0)\n",
    "test_quality.info()"
   ]
  },
  {
   "cell_type": "code",
   "execution_count": 62,
   "id": "b7d42d1d",
   "metadata": {
    "ExecuteTime": {
     "end_time": "2022-06-09T13:39:10.989716Z",
     "start_time": "2022-06-09T13:39:10.559210Z"
    }
   },
   "outputs": [],
   "source": [
    "# quality_0 ~ 12 최빈값으로 채우기\n",
    "\n",
    "for i in test_quality.columns[3:]:\n",
    "    test_quality[i] = test_quality[i].fillna(test_quality[i].mode()[0])"
   ]
  },
  {
   "cell_type": "code",
   "execution_count": 63,
   "id": "b05a4e7a",
   "metadata": {
    "ExecuteTime": {
     "end_time": "2022-06-09T13:39:11.343540Z",
     "start_time": "2022-06-09T13:39:10.990686Z"
    }
   },
   "outputs": [
    {
     "data": {
      "text/plain": [
       "time          0\n",
       "user_id       0\n",
       "fwver         0\n",
       "quality_0     0\n",
       "quality_1     0\n",
       "quality_2     0\n",
       "quality_3     0\n",
       "quality_4     0\n",
       "quality_5     0\n",
       "quality_6     0\n",
       "quality_7     0\n",
       "quality_8     0\n",
       "quality_9     0\n",
       "quality_10    0\n",
       "quality_11    0\n",
       "quality_12    0\n",
       "dtype: int64"
      ]
     },
     "execution_count": 63,
     "metadata": {},
     "output_type": "execute_result"
    }
   ],
   "source": [
    "test_quality.isnull().sum()"
   ]
  },
  {
   "cell_type": "markdown",
   "id": "12623029",
   "metadata": {},
   "source": [
    "### train_problem"
   ]
  },
  {
   "cell_type": "code",
   "execution_count": 64,
   "id": "97a6806b",
   "metadata": {
    "ExecuteTime": {
     "end_time": "2022-06-09T13:39:11.349377Z",
     "start_time": "2022-06-09T13:39:11.344510Z"
    }
   },
   "outputs": [
    {
     "data": {
      "text/plain": [
       "user_id    0\n",
       "time       0\n",
       "dtype: int64"
      ]
     },
     "execution_count": 64,
     "metadata": {},
     "output_type": "execute_result"
    }
   ],
   "source": [
    "train_problem.isnull().sum()"
   ]
  },
  {
   "cell_type": "markdown",
   "id": "bc20f563",
   "metadata": {},
   "source": [
    "### 각 dataframe 중복값 제거"
   ]
  },
  {
   "cell_type": "code",
   "execution_count": 65,
   "id": "a5b82b85",
   "metadata": {
    "ExecuteTime": {
     "end_time": "2022-06-09T13:39:22.231472Z",
     "start_time": "2022-06-09T13:39:11.350351Z"
    }
   },
   "outputs": [
    {
     "name": "stdout",
     "output_type": "stream",
     "text": [
      "(15368001, 6)\n",
      "(272452, 16)\n",
      "(15527221, 6)\n",
      "(237629, 16)\n"
     ]
    }
   ],
   "source": [
    "# train_err의 중복값 제거\n",
    "train_err = train_err.drop_duplicates(subset=None, keep='first')\n",
    "print(train_err.shape)\n",
    "\n",
    "# train_quality 중복값 제거\n",
    "train_quality = train_quality.drop_duplicates(subset=None, keep='first')\n",
    "print(train_quality.shape)\n",
    "\n",
    "# test_err 중복값 제거\n",
    "test_err = test_err.drop_duplicates(subset=None, keep='first')\n",
    "print(test_err.shape)\n",
    "\n",
    "# test_quality 중복값 제거)\n",
    "test_quality = test_quality.drop_duplicates(subset=None, keep='first')\n",
    "print(test_quality.shape)"
   ]
  },
  {
   "cell_type": "markdown",
   "id": "1877199c",
   "metadata": {},
   "source": [
    "## encoding"
   ]
  },
  {
   "cell_type": "markdown",
   "id": "985611db",
   "metadata": {},
   "source": [
    "### quality_0~12 String to Int"
   ]
  },
  {
   "cell_type": "code",
   "execution_count": 66,
   "id": "26845ca3",
   "metadata": {
    "ExecuteTime": {
     "end_time": "2022-06-09T13:39:22.236339Z",
     "start_time": "2022-06-09T13:39:22.232446Z"
    }
   },
   "outputs": [],
   "source": [
    "# train/test_quality에서 쉼표로 인해 string형이 된  data 변경\n",
    "\n",
    "def strToInt(x):\n",
    "    if type(x) == str:\n",
    "        x = x.replace(\",\", \"\")\n",
    "        x = int(x)\n",
    "        return x\n",
    "    else:\n",
    "        x = int(x)\n",
    "        return x"
   ]
  },
  {
   "cell_type": "code",
   "execution_count": 67,
   "id": "7228600b",
   "metadata": {
    "ExecuteTime": {
     "end_time": "2022-06-09T13:39:24.445420Z",
     "start_time": "2022-06-09T13:39:22.237312Z"
    }
   },
   "outputs": [],
   "source": [
    "# train_quality\n",
    "for i in train_quality.columns[3:]:\n",
    "    train_quality[i] = train_quality[i].apply(lambda x: strToInt(x))\n",
    "    \n",
    "# test_quality\n",
    "for i in test_quality.columns[3:]:\n",
    "    test_quality[i] = test_quality[i].apply(lambda x: strToInt(x))"
   ]
  },
  {
   "cell_type": "code",
   "execution_count": 68,
   "id": "79b8635f",
   "metadata": {
    "ExecuteTime": {
     "end_time": "2022-06-09T13:40:37.298387Z",
     "start_time": "2022-06-09T13:39:24.924804Z"
    }
   },
   "outputs": [],
   "source": [
    "# 결측치 처리 완료된 dataframe 저장\n",
    "new_path = './preprocessed data/'\n",
    "\n",
    "train_err.to_csv(new_path+'new_train_err.csv', index=False)\n",
    "train_quality.to_csv(new_path+'new_train_quality.csv', index=False)\n",
    "train_problem.to_csv(new_path+'new_train_problem.csv', index=False)\n",
    "test_err.to_csv(new_path+'new_test_err.csv', index=False)\n",
    "test_quality.to_csv(new_path+'new_test_quality.csv', index=False)"
   ]
  }
 ],
 "metadata": {
  "kernelspec": {
   "display_name": "Python 3 (ipykernel)",
   "language": "python",
   "name": "python3"
  },
  "language_info": {
   "codemirror_mode": {
    "name": "ipython",
    "version": 3
   },
   "file_extension": ".py",
   "mimetype": "text/x-python",
   "name": "python",
   "nbconvert_exporter": "python",
   "pygments_lexer": "ipython3",
   "version": "3.8.13"
  },
  "toc": {
   "base_numbering": 1,
   "nav_menu": {},
   "number_sections": true,
   "sideBar": true,
   "skip_h1_title": false,
   "title_cell": "Table of Contents",
   "title_sidebar": "Contents",
   "toc_cell": false,
   "toc_position": {},
   "toc_section_display": true,
   "toc_window_display": false
  },
  "varInspector": {
   "cols": {
    "lenName": 16,
    "lenType": 16,
    "lenVar": 40
   },
   "kernels_config": {
    "python": {
     "delete_cmd_postfix": "",
     "delete_cmd_prefix": "del ",
     "library": "var_list.py",
     "varRefreshCmd": "print(var_dic_list())"
    },
    "r": {
     "delete_cmd_postfix": ") ",
     "delete_cmd_prefix": "rm(",
     "library": "var_list.r",
     "varRefreshCmd": "cat(var_dic_list()) "
    }
   },
   "types_to_exclude": [
    "module",
    "function",
    "builtin_function_or_method",
    "instance",
    "_Feature"
   ],
   "window_display": false
  }
 },
 "nbformat": 4,
 "nbformat_minor": 5
}
