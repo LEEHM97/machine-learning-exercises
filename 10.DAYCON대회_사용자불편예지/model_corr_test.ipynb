{
 "cells": [
  {
   "cell_type": "markdown",
   "id": "adc25252",
   "metadata": {},
   "source": [
    "# column을 drop시킬 corr값(threshold)을 변경해가면서 테스트해본다."
   ]
  },
  {
   "cell_type": "code",
   "execution_count": 17,
   "id": "c9f3c7cf",
   "metadata": {
    "ExecuteTime": {
     "end_time": "2022-06-09T15:13:57.938619Z",
     "start_time": "2022-06-09T15:13:56.918550Z"
    }
   },
   "outputs": [],
   "source": [
    "import pandas as pd\n",
    "import numpy as np\n",
    "import datetime as dt\n",
    "import matplotlib.pyplot as plt\n",
    "from tqdm import tqdm\n",
    "import gc\n",
    "import random\n",
    "import lightgbm as lgb\n",
    "import re\n",
    "from sklearn.metrics import *\n",
    "from sklearn.model_selection import KFold\n",
    "import warnings\n",
    "warnings.filterwarnings(action='ignore')"
   ]
  },
  {
   "cell_type": "code",
   "execution_count": 18,
   "id": "934573a2",
   "metadata": {
    "ExecuteTime": {
     "end_time": "2022-06-09T15:50:34.129511Z",
     "start_time": "2022-06-09T15:50:02.094772Z"
    }
   },
   "outputs": [],
   "source": [
    "# base_path = './preprocessed data/'\n",
    "\n",
    "# train_err = pd.read_csv(base_path + 'new_train_err.csv', parse_dates=['time'])\n",
    "# train_quality = pd.read_csv(base_path + 'new_train_quality.csv')\n",
    "# train_problem = pd.read_csv(base_path + 'new_train_problem.csv', parse_dates=['time'])\n",
    "# test_err = pd.read_csv(base_path + 'new_test_err.csv', parse_dates=['time'])\n",
    "# test_quality = pd.read_csv(base_path + 'new_test_quality.csv', parse_dates=['time'])\n",
    "# submission = pd.read_csv(\"C:/Users/gmlkd/data/시스템 품질 변화로 인한 사용자 불편 예지 AI 경진대회_data/sample_submission.csv\")\n",
    "train = pd.read_csv('./training set/train_has_duplicate.csv')\n",
    "train_problem = pd.read_csv('./preprocessed data/new_train_problem.csv', parse_dates=['time'])"
   ]
  },
  {
   "cell_type": "markdown",
   "id": "4a07d35d",
   "metadata": {},
   "source": [
    "case1. threshold=0.8\n",
    "\n",
    "case2. threshold=0.9"
   ]
  },
  {
   "cell_type": "code",
   "execution_count": 20,
   "id": "91e4fc86",
   "metadata": {},
   "outputs": [],
   "source": [
    "# 중복정보가 있는 column 제거\n",
    "def remove_collinearity(X, threshold):\n",
    "    \"\"\"\n",
    "    X : feature matrix\n",
    "    threshold : 다중공선성을 제거할 column을 고르는 기준 값. [0, 1]\n",
    "    \"\"\"\n",
    "    \n",
    "    corr = X.corr()\n",
    "    candidate_cols = []\n",
    "    \n",
    "    for x in corr.iterrows():\n",
    "        idx, row = x[0], x[1] # decoupling tuple\n",
    "        if idx in candidate_cols:\n",
    "            continue\n",
    "        candidates = row[row > threshold].index[1:]\n",
    "\n",
    "        # 자기 자신을 제외하고 threshold를 넘는 column이 있다면 제거 할 column이다.\n",
    "        if len(candidates) != 0:\n",
    "            for col in candidates:\n",
    "                candidate_cols.append(col)           \n",
    "    \n",
    "    return candidate_cols"
   ]
  },
  {
   "cell_type": "code",
   "execution_count": 20,
   "id": "e19d0267",
   "metadata": {},
   "outputs": [
    {
     "name": "stdout",
     "output_type": "stream",
     "text": [
      "['errtype_4', 'errtype_num', 'errtype_weight', 'errcode_weight', 'fwver_04.22.1750', 'fwver_04.22.1778', 'fwver_04.16.3553', 'errtype_22', 'errtype_23', 'fwver_04.33.1185', 'fwver_04.33.1261', 'fwver_05.15.2138', 'errtype_4', 'fwver_03.11.1167', 'errtype_27', 'errtype_28', 'fwver_04.82.1684', 'fwver_04.82.1778', 'fwver_10', 'fwver_05.66.3237', 'fwver_04.73.2237', 'errtype_10', 'errtype_11', 'errtype_12', 'errtype_7', 'errtype_16', 'errtype_20', 'errtype_20', 'errtype_21', 'errtype_35', 'errtype_37', 'multiple_fwver', 'quality_2', 'quality_9', 'quality_10', 'quality_7']\n"
     ]
    },
    {
     "data": {
      "text/plain": [
       "70"
      ]
     },
     "execution_count": 20,
     "metadata": {},
     "output_type": "execute_result"
    }
   ],
   "source": [
    "# case0. threshold = 0.7\n",
    "# correlated_features = remove_collinearity(dfs, 0.7)\n",
    "# print(correlated_features)\n",
    "# dfs = dfs.drop(columns=correlated_features)\n",
    "# len(dfs.columns)"
   ]
  },
  {
   "cell_type": "code",
   "execution_count": 21,
   "id": "8e74ac0a",
   "metadata": {},
   "outputs": [
    {
     "name": "stdout",
     "output_type": "stream",
     "text": [
      "['errtype_num', 'errtype_weight', 'errcode_weight', 'fwver_04.22.1750', 'fwver_04.16.3553', 'fwver_04.33.1185', 'fwver_04.33.1261', 'fwver_05.15.2138', 'errtype_4', 'fwver_03.11.1167', 'errtype_27', 'errtype_28', 'fwver_04.82.1684', 'fwver_04.82.1778', 'fwver_10', 'fwver_05.66.3237', 'fwver_04.73.2237', 'errtype_7', 'errtype_11', 'errtype_12', 'errtype_16', 'errtype_21', 'errtype_23', 'errtype_37', 'multiple_fwver', 'quality_2', 'quality_9', 'quality_10', 'quality_7']\n"
     ]
    },
    {
     "data": {
      "text/plain": [
       "75"
      ]
     },
     "execution_count": 21,
     "metadata": {},
     "output_type": "execute_result"
    }
   ],
   "source": [
    "# case1. threshold = 0.8\n",
    "correlated_features = remove_collinearity(train, 0.8)\n",
    "print(correlated_features)\n",
    "train_case1 = train.drop(columns=correlated_features)\n",
    "len(train_case1.columns)"
   ]
  },
  {
   "cell_type": "code",
   "execution_count": 22,
   "id": "92f6aead",
   "metadata": {},
   "outputs": [
    {
     "name": "stdout",
     "output_type": "stream",
     "text": [
      "['errtype_num', 'errtype_weight', 'errcode_weight', 'fwver_04.22.1750', 'fwver_04.16.3553', 'fwver_04.33.1261', 'fwver_05.15.2138', 'errtype_4', 'fwver_03.11.1167', 'errtype_27', 'errtype_28', 'fwver_04.82.1684', 'fwver_10', 'fwver_05.66.3237', 'fwver_04.73.2237', 'errtype_7', 'errtype_11', 'errtype_12', 'errtype_16', 'errtype_21', 'errtype_23', 'errtype_37', 'quality_9', 'quality_9', 'quality_10', 'quality_7']\n"
     ]
    },
    {
     "data": {
      "text/plain": [
       "79"
      ]
     },
     "execution_count": 22,
     "metadata": {},
     "output_type": "execute_result"
    }
   ],
   "source": [
    "# case2. threshold = 0.9\n",
    "correlated_features = remove_collinearity(train, 0.9)\n",
    "print(correlated_features)\n",
    "train_case2 = train.drop(columns=correlated_features)\n",
    "len(train_case2.columns)"
   ]
  },
  {
   "cell_type": "code",
   "execution_count": null,
   "id": "c675e30d",
   "metadata": {},
   "outputs": [],
   "source": []
  }
 ],
 "metadata": {
  "kernelspec": {
   "display_name": "Python 3.8.13 ('usePycaret')",
   "language": "python",
   "name": "python3"
  },
  "language_info": {
   "codemirror_mode": {
    "name": "ipython",
    "version": 3
   },
   "file_extension": ".py",
   "mimetype": "text/x-python",
   "name": "python",
   "nbconvert_exporter": "python",
   "pygments_lexer": "ipython3",
   "version": "3.8.13"
  },
  "toc": {
   "base_numbering": 1,
   "nav_menu": {},
   "number_sections": true,
   "sideBar": true,
   "skip_h1_title": false,
   "title_cell": "Table of Contents",
   "title_sidebar": "Contents",
   "toc_cell": false,
   "toc_position": {},
   "toc_section_display": true,
   "toc_window_display": false
  },
  "varInspector": {
   "cols": {
    "lenName": 16,
    "lenType": 16,
    "lenVar": 40
   },
   "kernels_config": {
    "python": {
     "delete_cmd_postfix": "",
     "delete_cmd_prefix": "del ",
     "library": "var_list.py",
     "varRefreshCmd": "print(var_dic_list())"
    },
    "r": {
     "delete_cmd_postfix": ") ",
     "delete_cmd_prefix": "rm(",
     "library": "var_list.r",
     "varRefreshCmd": "cat(var_dic_list()) "
    }
   },
   "types_to_exclude": [
    "module",
    "function",
    "builtin_function_or_method",
    "instance",
    "_Feature"
   ],
   "window_display": false
  },
  "vscode": {
   "interpreter": {
    "hash": "f551284f943ec993c9f2b6bc5192b198ff308472b10c1e61741ce3da30dee4a2"
   }
  }
 },
 "nbformat": 4,
 "nbformat_minor": 5
}
