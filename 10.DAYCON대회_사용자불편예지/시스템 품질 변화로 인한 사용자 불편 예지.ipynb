{
 "cells": [
  {
   "cell_type": "markdown",
   "metadata": {},
   "source": [
    "## 1. 라이브러리 및 데이터 불러오기"
   ]
  },
  {
   "cell_type": "code",
   "execution_count": 3,
   "metadata": {
    "ExecuteTime": {
     "end_time": "2022-06-09T00:57:19.313563Z",
     "start_time": "2022-06-09T00:57:17.992918Z"
    }
   },
   "outputs": [],
   "source": [
    "# 분석에 필요한 라이브러리를 불러옵니다.\n",
    "import numpy as np\n",
    "import matplotlib.pyplot as plt\n",
    "import seaborn as sns\n",
    "import pandas as pd"
   ]
  },
  {
   "cell_type": "code",
   "execution_count": 2,
   "metadata": {
    "ExecuteTime": {
     "end_time": "2022-06-08T14:25:02.272040Z",
     "start_time": "2022-06-08T14:24:50.007025Z"
    }
   },
   "outputs": [
    {
     "name": "stderr",
     "output_type": "stream",
     "text": [
      "C:\\Users\\gmlkd\\AppData\\Local\\Temp\\ipykernel_1396\\2401973358.py:4: DtypeWarning: Columns (10,11,12) have mixed types. Specify dtype option on import or set low_memory=False.\n",
      "  train_quality = pd.read_csv(base_path+\"train_quality_data.csv\")\n",
      "C:\\Users\\gmlkd\\AppData\\Local\\Temp\\ipykernel_1396\\2401973358.py:6: DtypeWarning: Columns (4,11,12) have mixed types. Specify dtype option on import or set low_memory=False.\n",
      "  test_quality = pd.read_csv(base_path+\"test_quality_data.csv\")\n"
     ]
    }
   ],
   "source": [
    "# base_path = \"C:/Users/gmlkd/data/시스템 품질 변화로 인한 사용자 불편 예지 AI 경진대회_data/\"\n",
    "# train_err = pd.read_csv(base_path+\"train_err_data.csv\")\n",
    "# train_problem = pd.read_csv(base_path+\"train_problem_data.csv\")\n",
    "# train_quality = pd.read_csv(base_path+\"train_quality_data.csv\")\n",
    "# test_err = pd.read_csv(base_path+\"test_err_data.csv\")\n",
    "# test_quality = pd.read_csv(base_path+\"test_quality_data.csv\")\n",
    "# submission = pd.read_csv(base_path+\"sample_submission.csv\")"
   ]
  },
  {
   "cell_type": "code",
   "execution_count": 4,
   "metadata": {
    "ExecuteTime": {
     "end_time": "2022-06-09T00:57:50.240793Z",
     "start_time": "2022-06-09T00:57:19.945021Z"
    }
   },
   "outputs": [],
   "source": [
    "#결측치 처리 완료된 파일 불러오기\n",
    "\n",
    "train_err = pd.read_csv(\"new_train_err.csv\", parse_dates=['time'])\n",
    "train_problem = pd.read_csv(\"new_train_problem.csv\", parse_dates=['time'])\n",
    "train_quality = pd.read_csv(\"new_train_quality.csv\", parse_dates=['time'])\n",
    "test_err = pd.read_csv(\"new_test_err.csv\", parse_dates=['time'])\n",
    "test_quality = pd.read_csv(\"new_test_quality.csv\", parse_dates=['time'])\n",
    "submission = pd.read_csv(\"C:/Users/gmlkd/data/시스템 품질 변화로 인한 사용자 불편 예지 AI 경진대회_data/sample_submission.csv\")"
   ]
  },
  {
   "cell_type": "code",
   "execution_count": 4,
   "metadata": {
    "ExecuteTime": {
     "end_time": "2022-06-08T14:25:02.319713Z",
     "start_time": "2022-06-08T14:25:02.288851Z"
    }
   },
   "outputs": [
    {
     "data": {
      "text/html": [
       "<div>\n",
       "<style scoped>\n",
       "    .dataframe tbody tr th:only-of-type {\n",
       "        vertical-align: middle;\n",
       "    }\n",
       "\n",
       "    .dataframe tbody tr th {\n",
       "        vertical-align: top;\n",
       "    }\n",
       "\n",
       "    .dataframe thead th {\n",
       "        text-align: right;\n",
       "    }\n",
       "</style>\n",
       "<table border=\"1\" class=\"dataframe\">\n",
       "  <thead>\n",
       "    <tr style=\"text-align: right;\">\n",
       "      <th></th>\n",
       "      <th>user_id</th>\n",
       "      <th>time</th>\n",
       "      <th>model_nm</th>\n",
       "      <th>fwver</th>\n",
       "      <th>errtype</th>\n",
       "      <th>errcode</th>\n",
       "    </tr>\n",
       "  </thead>\n",
       "  <tbody>\n",
       "    <tr>\n",
       "      <th>0</th>\n",
       "      <td>10000</td>\n",
       "      <td>20201101025616</td>\n",
       "      <td>model_3</td>\n",
       "      <td>05.15.2138</td>\n",
       "      <td>15</td>\n",
       "      <td>1</td>\n",
       "    </tr>\n",
       "    <tr>\n",
       "      <th>1</th>\n",
       "      <td>10000</td>\n",
       "      <td>20201101030309</td>\n",
       "      <td>model_3</td>\n",
       "      <td>05.15.2138</td>\n",
       "      <td>12</td>\n",
       "      <td>1</td>\n",
       "    </tr>\n",
       "  </tbody>\n",
       "</table>\n",
       "</div>"
      ],
      "text/plain": [
       "   user_id            time model_nm       fwver  errtype errcode\n",
       "0    10000  20201101025616  model_3  05.15.2138       15       1\n",
       "1    10000  20201101030309  model_3  05.15.2138       12       1"
      ]
     },
     "metadata": {},
     "output_type": "display_data"
    },
    {
     "data": {
      "text/html": [
       "<div>\n",
       "<style scoped>\n",
       "    .dataframe tbody tr th:only-of-type {\n",
       "        vertical-align: middle;\n",
       "    }\n",
       "\n",
       "    .dataframe tbody tr th {\n",
       "        vertical-align: top;\n",
       "    }\n",
       "\n",
       "    .dataframe thead th {\n",
       "        text-align: right;\n",
       "    }\n",
       "</style>\n",
       "<table border=\"1\" class=\"dataframe\">\n",
       "  <thead>\n",
       "    <tr style=\"text-align: right;\">\n",
       "      <th></th>\n",
       "      <th>user_id</th>\n",
       "      <th>time</th>\n",
       "      <th>model_nm</th>\n",
       "      <th>fwver</th>\n",
       "      <th>errtype</th>\n",
       "      <th>errcode</th>\n",
       "    </tr>\n",
       "  </thead>\n",
       "  <tbody>\n",
       "    <tr>\n",
       "      <th>0</th>\n",
       "      <td>30000</td>\n",
       "      <td>20201101030227</td>\n",
       "      <td>model_1</td>\n",
       "      <td>04.16.3553</td>\n",
       "      <td>31</td>\n",
       "      <td>1</td>\n",
       "    </tr>\n",
       "    <tr>\n",
       "      <th>1</th>\n",
       "      <td>30000</td>\n",
       "      <td>20201101030227</td>\n",
       "      <td>model_1</td>\n",
       "      <td>04.16.3553</td>\n",
       "      <td>33</td>\n",
       "      <td>2</td>\n",
       "    </tr>\n",
       "  </tbody>\n",
       "</table>\n",
       "</div>"
      ],
      "text/plain": [
       "   user_id            time model_nm       fwver  errtype errcode\n",
       "0    30000  20201101030227  model_1  04.16.3553       31       1\n",
       "1    30000  20201101030227  model_1  04.16.3553       33       2"
      ]
     },
     "metadata": {},
     "output_type": "display_data"
    },
    {
     "data": {
      "text/html": [
       "<div>\n",
       "<style scoped>\n",
       "    .dataframe tbody tr th:only-of-type {\n",
       "        vertical-align: middle;\n",
       "    }\n",
       "\n",
       "    .dataframe tbody tr th {\n",
       "        vertical-align: top;\n",
       "    }\n",
       "\n",
       "    .dataframe thead th {\n",
       "        text-align: right;\n",
       "    }\n",
       "</style>\n",
       "<table border=\"1\" class=\"dataframe\">\n",
       "  <thead>\n",
       "    <tr style=\"text-align: right;\">\n",
       "      <th></th>\n",
       "      <th>time</th>\n",
       "      <th>user_id</th>\n",
       "      <th>fwver</th>\n",
       "      <th>quality_0</th>\n",
       "      <th>quality_1</th>\n",
       "      <th>quality_2</th>\n",
       "      <th>quality_3</th>\n",
       "      <th>quality_4</th>\n",
       "      <th>quality_5</th>\n",
       "      <th>quality_6</th>\n",
       "      <th>quality_7</th>\n",
       "      <th>quality_8</th>\n",
       "      <th>quality_9</th>\n",
       "      <th>quality_10</th>\n",
       "      <th>quality_11</th>\n",
       "      <th>quality_12</th>\n",
       "    </tr>\n",
       "  </thead>\n",
       "  <tbody>\n",
       "    <tr>\n",
       "      <th>0</th>\n",
       "      <td>20201129090000</td>\n",
       "      <td>10000</td>\n",
       "      <td>05.15.2138</td>\n",
       "      <td>0.0</td>\n",
       "      <td>0</td>\n",
       "      <td>0.0</td>\n",
       "      <td>0</td>\n",
       "      <td>0</td>\n",
       "      <td>0</td>\n",
       "      <td>0</td>\n",
       "      <td>0</td>\n",
       "      <td>0</td>\n",
       "      <td>0</td>\n",
       "      <td>4</td>\n",
       "      <td>0</td>\n",
       "      <td>0</td>\n",
       "    </tr>\n",
       "    <tr>\n",
       "      <th>1</th>\n",
       "      <td>20201129090000</td>\n",
       "      <td>10000</td>\n",
       "      <td>05.15.2138</td>\n",
       "      <td>0.0</td>\n",
       "      <td>0</td>\n",
       "      <td>0.0</td>\n",
       "      <td>0</td>\n",
       "      <td>0</td>\n",
       "      <td>0</td>\n",
       "      <td>0</td>\n",
       "      <td>0</td>\n",
       "      <td>0</td>\n",
       "      <td>0</td>\n",
       "      <td>4</td>\n",
       "      <td>0</td>\n",
       "      <td>0</td>\n",
       "    </tr>\n",
       "  </tbody>\n",
       "</table>\n",
       "</div>"
      ],
      "text/plain": [
       "             time  user_id       fwver  quality_0  quality_1  quality_2  \\\n",
       "0  20201129090000    10000  05.15.2138        0.0          0        0.0   \n",
       "1  20201129090000    10000  05.15.2138        0.0          0        0.0   \n",
       "\n",
       "   quality_3  quality_4 quality_5  quality_6 quality_7 quality_8 quality_9  \\\n",
       "0          0          0         0          0         0         0         0   \n",
       "1          0          0         0          0         0         0         0   \n",
       "\n",
       "  quality_10  quality_11  quality_12  \n",
       "0          4           0           0  \n",
       "1          4           0           0  "
      ]
     },
     "metadata": {},
     "output_type": "display_data"
    },
    {
     "data": {
      "text/html": [
       "<div>\n",
       "<style scoped>\n",
       "    .dataframe tbody tr th:only-of-type {\n",
       "        vertical-align: middle;\n",
       "    }\n",
       "\n",
       "    .dataframe tbody tr th {\n",
       "        vertical-align: top;\n",
       "    }\n",
       "\n",
       "    .dataframe thead th {\n",
       "        text-align: right;\n",
       "    }\n",
       "</style>\n",
       "<table border=\"1\" class=\"dataframe\">\n",
       "  <thead>\n",
       "    <tr style=\"text-align: right;\">\n",
       "      <th></th>\n",
       "      <th>time</th>\n",
       "      <th>user_id</th>\n",
       "      <th>fwver</th>\n",
       "      <th>quality_0</th>\n",
       "      <th>quality_1</th>\n",
       "      <th>quality_2</th>\n",
       "      <th>quality_3</th>\n",
       "      <th>quality_4</th>\n",
       "      <th>quality_5</th>\n",
       "      <th>quality_6</th>\n",
       "      <th>quality_7</th>\n",
       "      <th>quality_8</th>\n",
       "      <th>quality_9</th>\n",
       "      <th>quality_10</th>\n",
       "      <th>quality_11</th>\n",
       "      <th>quality_12</th>\n",
       "    </tr>\n",
       "  </thead>\n",
       "  <tbody>\n",
       "    <tr>\n",
       "      <th>0</th>\n",
       "      <td>20201128195000</td>\n",
       "      <td>30000</td>\n",
       "      <td>04.33.1261</td>\n",
       "      <td>0.0</td>\n",
       "      <td>0</td>\n",
       "      <td>0.0</td>\n",
       "      <td>0</td>\n",
       "      <td>0</td>\n",
       "      <td>0</td>\n",
       "      <td>0</td>\n",
       "      <td>5</td>\n",
       "      <td>0</td>\n",
       "      <td>0</td>\n",
       "      <td>2</td>\n",
       "      <td>0</td>\n",
       "      <td>0</td>\n",
       "    </tr>\n",
       "    <tr>\n",
       "      <th>1</th>\n",
       "      <td>20201128195000</td>\n",
       "      <td>30000</td>\n",
       "      <td>04.33.1261</td>\n",
       "      <td>0.0</td>\n",
       "      <td>0</td>\n",
       "      <td>0.0</td>\n",
       "      <td>0</td>\n",
       "      <td>0</td>\n",
       "      <td>0</td>\n",
       "      <td>0</td>\n",
       "      <td>5</td>\n",
       "      <td>0</td>\n",
       "      <td>0</td>\n",
       "      <td>2</td>\n",
       "      <td>0</td>\n",
       "      <td>0</td>\n",
       "    </tr>\n",
       "  </tbody>\n",
       "</table>\n",
       "</div>"
      ],
      "text/plain": [
       "             time  user_id       fwver  quality_0 quality_1  quality_2  \\\n",
       "0  20201128195000    30000  04.33.1261        0.0         0        0.0   \n",
       "1  20201128195000    30000  04.33.1261        0.0         0        0.0   \n",
       "\n",
       "   quality_3  quality_4 quality_5  quality_6 quality_7 quality_8 quality_9  \\\n",
       "0          0          0         0          0         5         0         0   \n",
       "1          0          0         0          0         5         0         0   \n",
       "\n",
       "  quality_10  quality_11  quality_12  \n",
       "0          2           0           0  \n",
       "1          2           0           0  "
      ]
     },
     "metadata": {},
     "output_type": "display_data"
    },
    {
     "data": {
      "text/html": [
       "<div>\n",
       "<style scoped>\n",
       "    .dataframe tbody tr th:only-of-type {\n",
       "        vertical-align: middle;\n",
       "    }\n",
       "\n",
       "    .dataframe tbody tr th {\n",
       "        vertical-align: top;\n",
       "    }\n",
       "\n",
       "    .dataframe thead th {\n",
       "        text-align: right;\n",
       "    }\n",
       "</style>\n",
       "<table border=\"1\" class=\"dataframe\">\n",
       "  <thead>\n",
       "    <tr style=\"text-align: right;\">\n",
       "      <th></th>\n",
       "      <th>user_id</th>\n",
       "      <th>time</th>\n",
       "    </tr>\n",
       "  </thead>\n",
       "  <tbody>\n",
       "    <tr>\n",
       "      <th>0</th>\n",
       "      <td>19224</td>\n",
       "      <td>20201102200000</td>\n",
       "    </tr>\n",
       "    <tr>\n",
       "      <th>1</th>\n",
       "      <td>23664</td>\n",
       "      <td>20201116140000</td>\n",
       "    </tr>\n",
       "  </tbody>\n",
       "</table>\n",
       "</div>"
      ],
      "text/plain": [
       "   user_id            time\n",
       "0    19224  20201102200000\n",
       "1    23664  20201116140000"
      ]
     },
     "metadata": {},
     "output_type": "display_data"
    }
   ],
   "source": [
    "display(train_err.head(2))\n",
    "display(test_err.head(2))\n",
    "display(train_quality.head(2))\n",
    "display(test_quality.head(2))\n",
    "display(train_problem.head(2))"
   ]
  },
  {
   "cell_type": "markdown",
   "metadata": {},
   "source": [
    "## 2. 데이터 전처리"
   ]
  },
  {
   "cell_type": "markdown",
   "metadata": {},
   "source": [
    "### 2-1. 결측치 처리"
   ]
  },
  {
   "cell_type": "code",
   "execution_count": 5,
   "metadata": {
    "ExecuteTime": {
     "end_time": "2022-06-08T14:26:10.193529Z",
     "start_time": "2022-06-08T14:25:02.320707Z"
    }
   },
   "outputs": [],
   "source": [
    "# time column을 datetype으로 변경\n",
    "\n",
    "train_err['time'] = pd.to_datetime(train_err['time'], format='%Y%m%d%H%M%S')\n",
    "train_problem['time'] = pd.to_datetime(train_problem['time'], format='%Y%m%d%H%M%S')\n",
    "train_quality['time'] = pd.to_datetime(train_quality['time'], format='%Y%m%d%H%M%S')\n",
    "test_err['time'] = pd.to_datetime(test_err['time'], format='%Y%m%d%H%M%S')\n",
    "test_quality['time'] = pd.to_datetime(test_quality['time'], format='%Y%m%d%H%M%S')"
   ]
  },
  {
   "cell_type": "markdown",
   "metadata": {},
   "source": [
    "#### train_err"
   ]
  },
  {
   "cell_type": "code",
   "execution_count": 6,
   "metadata": {
    "ExecuteTime": {
     "end_time": "2022-06-08T14:26:13.499038Z",
     "start_time": "2022-06-08T14:26:10.194530Z"
    }
   },
   "outputs": [
    {
     "data": {
      "text/plain": [
       "user_id     0\n",
       "time        0\n",
       "model_nm    0\n",
       "fwver       0\n",
       "errtype     0\n",
       "errcode     1\n",
       "dtype: int64"
      ]
     },
     "execution_count": 6,
     "metadata": {},
     "output_type": "execute_result"
    }
   ],
   "source": [
    "train_err.isnull().sum()"
   ]
  },
  {
   "cell_type": "code",
   "execution_count": 7,
   "metadata": {
    "ExecuteTime": {
     "end_time": "2022-06-08T14:26:13.862355Z",
     "start_time": "2022-06-08T14:26:13.500040Z"
    }
   },
   "outputs": [
    {
     "data": {
      "text/html": [
       "<div>\n",
       "<style scoped>\n",
       "    .dataframe tbody tr th:only-of-type {\n",
       "        vertical-align: middle;\n",
       "    }\n",
       "\n",
       "    .dataframe tbody tr th {\n",
       "        vertical-align: top;\n",
       "    }\n",
       "\n",
       "    .dataframe thead th {\n",
       "        text-align: right;\n",
       "    }\n",
       "</style>\n",
       "<table border=\"1\" class=\"dataframe\">\n",
       "  <thead>\n",
       "    <tr style=\"text-align: right;\">\n",
       "      <th></th>\n",
       "      <th>user_id</th>\n",
       "      <th>time</th>\n",
       "      <th>model_nm</th>\n",
       "      <th>fwver</th>\n",
       "      <th>errtype</th>\n",
       "      <th>errcode</th>\n",
       "    </tr>\n",
       "  </thead>\n",
       "  <tbody>\n",
       "    <tr>\n",
       "      <th>3825744</th>\n",
       "      <td>13639</td>\n",
       "      <td>2020-11-21 19:17:18</td>\n",
       "      <td>model_2</td>\n",
       "      <td>04.33.1261</td>\n",
       "      <td>5</td>\n",
       "      <td>NaN</td>\n",
       "    </tr>\n",
       "  </tbody>\n",
       "</table>\n",
       "</div>"
      ],
      "text/plain": [
       "         user_id                time model_nm       fwver  errtype errcode\n",
       "3825744    13639 2020-11-21 19:17:18  model_2  04.33.1261        5     NaN"
      ]
     },
     "execution_count": 7,
     "metadata": {},
     "output_type": "execute_result"
    }
   ],
   "source": [
    "train_err[train_err.errcode.isnull()]"
   ]
  },
  {
   "cell_type": "code",
   "execution_count": 8,
   "metadata": {
    "ExecuteTime": {
     "end_time": "2022-06-08T14:26:13.878306Z",
     "start_time": "2022-06-08T14:26:13.863354Z"
    }
   },
   "outputs": [
    {
     "data": {
      "text/html": [
       "<div>\n",
       "<style scoped>\n",
       "    .dataframe tbody tr th:only-of-type {\n",
       "        vertical-align: middle;\n",
       "    }\n",
       "\n",
       "    .dataframe tbody tr th {\n",
       "        vertical-align: top;\n",
       "    }\n",
       "\n",
       "    .dataframe thead th {\n",
       "        text-align: right;\n",
       "    }\n",
       "</style>\n",
       "<table border=\"1\" class=\"dataframe\">\n",
       "  <thead>\n",
       "    <tr style=\"text-align: right;\">\n",
       "      <th></th>\n",
       "      <th>user_id</th>\n",
       "      <th>time</th>\n",
       "      <th>model_nm</th>\n",
       "      <th>fwver</th>\n",
       "      <th>errtype</th>\n",
       "      <th>errcode</th>\n",
       "    </tr>\n",
       "  </thead>\n",
       "  <tbody>\n",
       "    <tr>\n",
       "      <th>3825742</th>\n",
       "      <td>13639</td>\n",
       "      <td>2020-11-21 17:40:58</td>\n",
       "      <td>model_2</td>\n",
       "      <td>04.33.1261</td>\n",
       "      <td>31</td>\n",
       "      <td>1</td>\n",
       "    </tr>\n",
       "    <tr>\n",
       "      <th>3825743</th>\n",
       "      <td>13639</td>\n",
       "      <td>2020-11-21 17:41:10</td>\n",
       "      <td>model_2</td>\n",
       "      <td>04.33.1261</td>\n",
       "      <td>31</td>\n",
       "      <td>0</td>\n",
       "    </tr>\n",
       "    <tr>\n",
       "      <th>3825744</th>\n",
       "      <td>13639</td>\n",
       "      <td>2020-11-21 19:17:18</td>\n",
       "      <td>model_2</td>\n",
       "      <td>04.33.1261</td>\n",
       "      <td>5</td>\n",
       "      <td>NaN</td>\n",
       "    </tr>\n",
       "    <tr>\n",
       "      <th>3825745</th>\n",
       "      <td>13639</td>\n",
       "      <td>2020-11-21 19:17:18</td>\n",
       "      <td>model_2</td>\n",
       "      <td>04.33.1261</td>\n",
       "      <td>5</td>\n",
       "      <td>40013</td>\n",
       "    </tr>\n",
       "    <tr>\n",
       "      <th>3825746</th>\n",
       "      <td>13639</td>\n",
       "      <td>2020-11-21 22:09:19</td>\n",
       "      <td>model_2</td>\n",
       "      <td>04.33.1261</td>\n",
       "      <td>15</td>\n",
       "      <td>1</td>\n",
       "    </tr>\n",
       "  </tbody>\n",
       "</table>\n",
       "</div>"
      ],
      "text/plain": [
       "         user_id                time model_nm       fwver  errtype errcode\n",
       "3825742    13639 2020-11-21 17:40:58  model_2  04.33.1261       31       1\n",
       "3825743    13639 2020-11-21 17:41:10  model_2  04.33.1261       31       0\n",
       "3825744    13639 2020-11-21 19:17:18  model_2  04.33.1261        5     NaN\n",
       "3825745    13639 2020-11-21 19:17:18  model_2  04.33.1261        5   40013\n",
       "3825746    13639 2020-11-21 22:09:19  model_2  04.33.1261       15       1"
      ]
     },
     "execution_count": 8,
     "metadata": {},
     "output_type": "execute_result"
    }
   ],
   "source": [
    "# errcode 40013일 때와 user_id, time, model_nm, fwver, errtype모두 같다\n",
    "train_err.iloc[3825742:3825747]"
   ]
  },
  {
   "cell_type": "code",
   "execution_count": 9,
   "metadata": {
    "ExecuteTime": {
     "end_time": "2022-06-08T14:26:14.366768Z",
     "start_time": "2022-06-08T14:26:13.879301Z"
    }
   },
   "outputs": [],
   "source": [
    "# 따라서 같은 errcode일 것임을 유추하여 40013값을 넣어준다.\n",
    "train_err.errcode = train_err.errcode.fillna('40013')"
   ]
  },
  {
   "cell_type": "code",
   "execution_count": 10,
   "metadata": {
    "ExecuteTime": {
     "end_time": "2022-06-08T14:26:17.688249Z",
     "start_time": "2022-06-08T14:26:14.367765Z"
    }
   },
   "outputs": [
    {
     "data": {
      "text/plain": [
       "user_id     0\n",
       "time        0\n",
       "model_nm    0\n",
       "fwver       0\n",
       "errtype     0\n",
       "errcode     0\n",
       "dtype: int64"
      ]
     },
     "execution_count": 10,
     "metadata": {},
     "output_type": "execute_result"
    }
   ],
   "source": [
    "train_err.isnull().sum()"
   ]
  },
  {
   "cell_type": "code",
   "execution_count": 11,
   "metadata": {
    "ExecuteTime": {
     "end_time": "2022-06-08T14:26:22.849996Z",
     "start_time": "2022-06-08T14:26:17.689368Z"
    }
   },
   "outputs": [
    {
     "name": "stdout",
     "output_type": "stream",
     "text": [
      "(16554663, 6)\n",
      "(15368001, 6)\n"
     ]
    }
   ],
   "source": [
    "# train_err의 중복값 제거\n",
    "\n",
    "print(train_err.shape)\n",
    "train_err = train_err.drop_duplicates(subset=None, keep='first')\n",
    "print(train_err.shape)"
   ]
  },
  {
   "cell_type": "code",
   "execution_count": 12,
   "metadata": {
    "ExecuteTime": {
     "end_time": "2022-06-08T14:26:22.865923Z",
     "start_time": "2022-06-08T14:26:22.850990Z"
    }
   },
   "outputs": [
    {
     "name": "stdout",
     "output_type": "stream",
     "text": [
      "<class 'pandas.core.frame.DataFrame'>\n",
      "Int64Index: 15368001 entries, 0 to 16554662\n",
      "Data columns (total 6 columns):\n",
      " #   Column    Dtype         \n",
      "---  ------    -----         \n",
      " 0   user_id   int64         \n",
      " 1   time      datetime64[ns]\n",
      " 2   model_nm  object        \n",
      " 3   fwver     object        \n",
      " 4   errtype   int64         \n",
      " 5   errcode   object        \n",
      "dtypes: datetime64[ns](1), int64(2), object(3)\n",
      "memory usage: 820.7+ MB\n"
     ]
    }
   ],
   "source": [
    "# model_nm, fwver, errcode encoding 필요\n",
    "\n",
    "train_err.info()"
   ]
  },
  {
   "cell_type": "markdown",
   "metadata": {},
   "source": [
    "#### train_quality"
   ]
  },
  {
   "cell_type": "code",
   "execution_count": 13,
   "metadata": {
    "ExecuteTime": {
     "end_time": "2022-06-08T14:26:23.214007Z",
     "start_time": "2022-06-08T14:26:22.866919Z"
    }
   },
   "outputs": [
    {
     "data": {
      "text/plain": [
       "time               0\n",
       "user_id            0\n",
       "fwver          40080\n",
       "quality_0     144432\n",
       "quality_1          0\n",
       "quality_2      40113\n",
       "quality_3          0\n",
       "quality_4          0\n",
       "quality_5         20\n",
       "quality_6          0\n",
       "quality_7          0\n",
       "quality_8          0\n",
       "quality_9          0\n",
       "quality_10         0\n",
       "quality_11         0\n",
       "quality_12         0\n",
       "dtype: int64"
      ]
     },
     "execution_count": 13,
     "metadata": {},
     "output_type": "execute_result"
    }
   ],
   "source": [
    "train_quality.isnull().sum()"
   ]
  },
  {
   "cell_type": "code",
   "execution_count": 14,
   "metadata": {
    "ExecuteTime": {
     "end_time": "2022-06-08T14:26:23.230028Z",
     "start_time": "2022-06-08T14:26:23.215003Z"
    },
    "scrolled": true
   },
   "outputs": [],
   "source": [
    "# 1. fwver 결측치\n",
    "\n",
    "# case1. fwver=non을 이상치로 판단하고 모두 지우기\n",
    "# case2. train_err에서 해당 user_id의 fwver값을 가져와 채우기"
   ]
  },
  {
   "cell_type": "code",
   "execution_count": 15,
   "metadata": {
    "ExecuteTime": {
     "end_time": "2022-06-08T14:26:23.641180Z",
     "start_time": "2022-06-08T14:26:23.231023Z"
    }
   },
   "outputs": [
    {
     "name": "stdout",
     "output_type": "stream",
     "text": [
      "<class 'pandas.core.frame.DataFrame'>\n",
      "Int64Index: 788544 entries, 0 to 828623\n",
      "Data columns (total 16 columns):\n",
      " #   Column      Non-Null Count   Dtype         \n",
      "---  ------      --------------   -----         \n",
      " 0   time        788544 non-null  datetime64[ns]\n",
      " 1   user_id     788544 non-null  int64         \n",
      " 2   fwver       788544 non-null  object        \n",
      " 3   quality_0   684192 non-null  float64       \n",
      " 4   quality_1   788544 non-null  int64         \n",
      " 5   quality_2   788511 non-null  float64       \n",
      " 6   quality_3   788544 non-null  int64         \n",
      " 7   quality_4   788544 non-null  int64         \n",
      " 8   quality_5   788524 non-null  object        \n",
      " 9   quality_6   788544 non-null  int64         \n",
      " 10  quality_7   788544 non-null  object        \n",
      " 11  quality_8   788544 non-null  object        \n",
      " 12  quality_9   788544 non-null  object        \n",
      " 13  quality_10  788544 non-null  object        \n",
      " 14  quality_11  788544 non-null  int64         \n",
      " 15  quality_12  788544 non-null  int64         \n",
      "dtypes: datetime64[ns](1), float64(2), int64(7), object(6)\n",
      "memory usage: 102.3+ MB\n"
     ]
    }
   ],
   "source": [
    "# train_err에는 fwver가 업그레이드 된 경우가 많이 있다.\n",
    "# 결측치 비율이 적고, 어떤 fwver에서 로그가 찍혔는지 알기 힘드므로 case1 선택\n",
    "\n",
    "fwver_null_index = train_quality[train_quality.fwver.isnull()].index\n",
    "\n",
    "train_quality = train_quality.drop(fwver_null_index, axis=0)\n",
    "train_quality.info()"
   ]
  },
  {
   "cell_type": "code",
   "execution_count": 16,
   "metadata": {
    "ExecuteTime": {
     "end_time": "2022-06-08T14:26:23.672455Z",
     "start_time": "2022-06-08T14:26:23.642173Z"
    },
    "scrolled": true
   },
   "outputs": [
    {
     "data": {
      "text/plain": [
       "count    684192.000000\n",
       "mean          4.148701\n",
       "std         479.315029\n",
       "min          -1.000000\n",
       "25%           0.000000\n",
       "50%           0.000000\n",
       "75%           0.000000\n",
       "max      157667.000000\n",
       "Name: quality_0, dtype: float64"
      ]
     },
     "execution_count": 16,
     "metadata": {},
     "output_type": "execute_result"
    }
   ],
   "source": [
    "# 2. quality 결측치\n",
    "\n",
    "# case1. 최빈값 채우기\n",
    "# case2. 평균값 채우기\n",
    "\n",
    "# quality_0\n",
    "train_quality.quality_0.describe()"
   ]
  },
  {
   "cell_type": "code",
   "execution_count": 17,
   "metadata": {
    "ExecuteTime": {
     "end_time": "2022-06-08T14:26:23.688447Z",
     "start_time": "2022-06-08T14:26:23.673392Z"
    },
    "scrolled": true
   },
   "outputs": [
    {
     "data": {
      "text/plain": [
       " 0.0       542790\n",
       "-1.0       130828\n",
       " 1.0         2097\n",
       " 2.0         1252\n",
       " 3.0          518\n",
       "            ...  \n",
       " 1113.0         1\n",
       " 1177.0         1\n",
       " 1186.0         1\n",
       " 946.0          1\n",
       " 2351.0         1\n",
       "Name: quality_0, Length: 753, dtype: int64"
      ]
     },
     "execution_count": 17,
     "metadata": {},
     "output_type": "execute_result"
    }
   ],
   "source": [
    "train_quality.quality_0.value_counts()"
   ]
  },
  {
   "cell_type": "code",
   "execution_count": 18,
   "metadata": {
    "ExecuteTime": {
     "end_time": "2022-06-08T14:26:23.720337Z",
     "start_time": "2022-06-08T14:26:23.689440Z"
    }
   },
   "outputs": [
    {
     "data": {
      "text/plain": [
       "count    788511.000000\n",
       "mean          4.751094\n",
       "std         586.252469\n",
       "min          -1.000000\n",
       "25%           0.000000\n",
       "50%           0.000000\n",
       "75%           0.000000\n",
       "max      191859.000000\n",
       "Name: quality_2, dtype: float64"
      ]
     },
     "execution_count": 18,
     "metadata": {},
     "output_type": "execute_result"
    }
   ],
   "source": [
    "# quality_2\n",
    "train_quality.quality_2.describe()"
   ]
  },
  {
   "cell_type": "code",
   "execution_count": 19,
   "metadata": {
    "ExecuteTime": {
     "end_time": "2022-06-08T14:26:23.735287Z",
     "start_time": "2022-06-08T14:26:23.721335Z"
    },
    "scrolled": true
   },
   "outputs": [
    {
     "data": {
      "text/plain": [
       " 0.0        632469\n",
       "-1.0        144392\n",
       " 1.0          2937\n",
       " 2.0          1073\n",
       " 3.0           580\n",
       "             ...  \n",
       " 872.0           1\n",
       " 11259.0         1\n",
       " 373.0           1\n",
       " 8278.0          1\n",
       " 2351.0          1\n",
       "Name: quality_2, Length: 798, dtype: int64"
      ]
     },
     "execution_count": 19,
     "metadata": {},
     "output_type": "execute_result"
    }
   ],
   "source": [
    "train_quality.quality_2.value_counts()"
   ]
  },
  {
   "cell_type": "code",
   "execution_count": 20,
   "metadata": {
    "ExecuteTime": {
     "end_time": "2022-06-08T14:26:23.767180Z",
     "start_time": "2022-06-08T14:26:23.736284Z"
    }
   },
   "outputs": [
    {
     "data": {
      "text/plain": [
       "0         402947\n",
       "-1        144391\n",
       "1          55206\n",
       "2          35399\n",
       "3          21118\n",
       "           ...  \n",
       "10,490         1\n",
       "10,821         1\n",
       "12,379         1\n",
       "14,523         1\n",
       "9,558          1\n",
       "Name: quality_5, Length: 4744, dtype: int64"
      ]
     },
     "execution_count": 20,
     "metadata": {},
     "output_type": "execute_result"
    }
   ],
   "source": [
    "# quality_5\n",
    "train_quality.quality_5.value_counts()\n",
    "\n",
    "# -1, 0 ,1에 데이터가 편향되어있고, max값과 차이가 많이 나므로 평균보단 최빈값으로?"
   ]
  },
  {
   "cell_type": "code",
   "execution_count": 21,
   "metadata": {
    "ExecuteTime": {
     "end_time": "2022-06-08T14:26:24.161995Z",
     "start_time": "2022-06-08T14:26:23.768177Z"
    }
   },
   "outputs": [],
   "source": [
    "# case1. 최빈값으로 채우기\n",
    "\n",
    "for i in train_quality.columns[3:]:\n",
    "    train_quality[i] = train_quality[i].fillna(train_quality[i].mode()[0])"
   ]
  },
  {
   "cell_type": "code",
   "execution_count": 22,
   "metadata": {
    "ExecuteTime": {
     "end_time": "2022-06-08T14:26:24.508850Z",
     "start_time": "2022-06-08T14:26:24.162945Z"
    },
    "scrolled": true
   },
   "outputs": [
    {
     "data": {
      "text/plain": [
       "time          0\n",
       "user_id       0\n",
       "fwver         0\n",
       "quality_0     0\n",
       "quality_1     0\n",
       "quality_2     0\n",
       "quality_3     0\n",
       "quality_4     0\n",
       "quality_5     0\n",
       "quality_6     0\n",
       "quality_7     0\n",
       "quality_8     0\n",
       "quality_9     0\n",
       "quality_10    0\n",
       "quality_11    0\n",
       "quality_12    0\n",
       "dtype: int64"
      ]
     },
     "execution_count": 22,
     "metadata": {},
     "output_type": "execute_result"
    }
   ],
   "source": [
    "train_quality.isnull().sum()"
   ]
  },
  {
   "cell_type": "code",
   "execution_count": 23,
   "metadata": {
    "ExecuteTime": {
     "end_time": "2022-06-08T14:26:24.880648Z",
     "start_time": "2022-06-08T14:26:24.509846Z"
    },
    "scrolled": true
   },
   "outputs": [
    {
     "name": "stdout",
     "output_type": "stream",
     "text": [
      "(788544, 16)\n",
      "(272452, 16)\n"
     ]
    }
   ],
   "source": [
    "# train_quality 중복값 제거\n",
    "\n",
    "print(train_quality.shape)\n",
    "train_quality = train_quality.drop_duplicates(subset=None, keep='first')\n",
    "print(train_quality.shape)"
   ]
  },
  {
   "cell_type": "markdown",
   "metadata": {},
   "source": [
    "#### test_err"
   ]
  },
  {
   "cell_type": "code",
   "execution_count": 24,
   "metadata": {
    "ExecuteTime": {
     "end_time": "2022-06-08T14:26:28.186711Z",
     "start_time": "2022-06-08T14:26:24.881603Z"
    }
   },
   "outputs": [
    {
     "data": {
      "text/plain": [
       "user_id     0\n",
       "time        0\n",
       "model_nm    0\n",
       "fwver       0\n",
       "errtype     0\n",
       "errcode     4\n",
       "dtype: int64"
      ]
     },
     "execution_count": 24,
     "metadata": {},
     "output_type": "execute_result"
    }
   ],
   "source": [
    "test_err.isnull().sum()"
   ]
  },
  {
   "cell_type": "code",
   "execution_count": 25,
   "metadata": {
    "ExecuteTime": {
     "end_time": "2022-06-08T14:26:28.534551Z",
     "start_time": "2022-06-08T14:26:28.187711Z"
    }
   },
   "outputs": [
    {
     "data": {
      "text/html": [
       "<div>\n",
       "<style scoped>\n",
       "    .dataframe tbody tr th:only-of-type {\n",
       "        vertical-align: middle;\n",
       "    }\n",
       "\n",
       "    .dataframe tbody tr th {\n",
       "        vertical-align: top;\n",
       "    }\n",
       "\n",
       "    .dataframe thead th {\n",
       "        text-align: right;\n",
       "    }\n",
       "</style>\n",
       "<table border=\"1\" class=\"dataframe\">\n",
       "  <thead>\n",
       "    <tr style=\"text-align: right;\">\n",
       "      <th></th>\n",
       "      <th>user_id</th>\n",
       "      <th>time</th>\n",
       "      <th>model_nm</th>\n",
       "      <th>fwver</th>\n",
       "      <th>errtype</th>\n",
       "      <th>errcode</th>\n",
       "    </tr>\n",
       "  </thead>\n",
       "  <tbody>\n",
       "    <tr>\n",
       "      <th>937967</th>\n",
       "      <td>30820</td>\n",
       "      <td>2020-11-15 04:43:17</td>\n",
       "      <td>model_2</td>\n",
       "      <td>04.33.1261</td>\n",
       "      <td>5</td>\n",
       "      <td>NaN</td>\n",
       "    </tr>\n",
       "    <tr>\n",
       "      <th>4038892</th>\n",
       "      <td>33681</td>\n",
       "      <td>2020-11-03 11:02:59</td>\n",
       "      <td>model_2</td>\n",
       "      <td>04.33.1185</td>\n",
       "      <td>5</td>\n",
       "      <td>NaN</td>\n",
       "    </tr>\n",
       "    <tr>\n",
       "      <th>9486881</th>\n",
       "      <td>38991</td>\n",
       "      <td>2020-11-27 21:38:38</td>\n",
       "      <td>model_2</td>\n",
       "      <td>04.33.1261</td>\n",
       "      <td>5</td>\n",
       "      <td>NaN</td>\n",
       "    </tr>\n",
       "    <tr>\n",
       "      <th>10425473</th>\n",
       "      <td>39894</td>\n",
       "      <td>2020-11-28 14:47:12</td>\n",
       "      <td>model_1</td>\n",
       "      <td>04.16.3553</td>\n",
       "      <td>5</td>\n",
       "      <td>NaN</td>\n",
       "    </tr>\n",
       "  </tbody>\n",
       "</table>\n",
       "</div>"
      ],
      "text/plain": [
       "          user_id                time model_nm       fwver  errtype errcode\n",
       "937967      30820 2020-11-15 04:43:17  model_2  04.33.1261        5     NaN\n",
       "4038892     33681 2020-11-03 11:02:59  model_2  04.33.1185        5     NaN\n",
       "9486881     38991 2020-11-27 21:38:38  model_2  04.33.1261        5     NaN\n",
       "10425473    39894 2020-11-28 14:47:12  model_1  04.16.3553        5     NaN"
      ]
     },
     "execution_count": 25,
     "metadata": {},
     "output_type": "execute_result"
    }
   ],
   "source": [
    "test_err[test_err.errcode.isnull()] "
   ]
  },
  {
   "cell_type": "code",
   "execution_count": 26,
   "metadata": {
    "ExecuteTime": {
     "end_time": "2022-06-08T14:26:28.550498Z",
     "start_time": "2022-06-08T14:26:28.535547Z"
    }
   },
   "outputs": [
    {
     "data": {
      "text/html": [
       "<div>\n",
       "<style scoped>\n",
       "    .dataframe tbody tr th:only-of-type {\n",
       "        vertical-align: middle;\n",
       "    }\n",
       "\n",
       "    .dataframe tbody tr th {\n",
       "        vertical-align: top;\n",
       "    }\n",
       "\n",
       "    .dataframe thead th {\n",
       "        text-align: right;\n",
       "    }\n",
       "</style>\n",
       "<table border=\"1\" class=\"dataframe\">\n",
       "  <thead>\n",
       "    <tr style=\"text-align: right;\">\n",
       "      <th></th>\n",
       "      <th>user_id</th>\n",
       "      <th>time</th>\n",
       "      <th>model_nm</th>\n",
       "      <th>fwver</th>\n",
       "      <th>errtype</th>\n",
       "      <th>errcode</th>\n",
       "    </tr>\n",
       "  </thead>\n",
       "  <tbody>\n",
       "    <tr>\n",
       "      <th>937965</th>\n",
       "      <td>30820</td>\n",
       "      <td>2020-11-15 03:59:00</td>\n",
       "      <td>model_2</td>\n",
       "      <td>04.33.1261</td>\n",
       "      <td>40</td>\n",
       "      <td>1</td>\n",
       "    </tr>\n",
       "    <tr>\n",
       "      <th>937966</th>\n",
       "      <td>30820</td>\n",
       "      <td>2020-11-15 03:59:02</td>\n",
       "      <td>model_2</td>\n",
       "      <td>04.33.1261</td>\n",
       "      <td>40</td>\n",
       "      <td>0</td>\n",
       "    </tr>\n",
       "    <tr>\n",
       "      <th>937967</th>\n",
       "      <td>30820</td>\n",
       "      <td>2020-11-15 04:43:17</td>\n",
       "      <td>model_2</td>\n",
       "      <td>04.33.1261</td>\n",
       "      <td>5</td>\n",
       "      <td>NaN</td>\n",
       "    </tr>\n",
       "    <tr>\n",
       "      <th>937968</th>\n",
       "      <td>30820</td>\n",
       "      <td>2020-11-15 04:43:17</td>\n",
       "      <td>model_2</td>\n",
       "      <td>04.33.1261</td>\n",
       "      <td>5</td>\n",
       "      <td>40053</td>\n",
       "    </tr>\n",
       "    <tr>\n",
       "      <th>937969</th>\n",
       "      <td>30820</td>\n",
       "      <td>2020-11-15 09:10:24</td>\n",
       "      <td>model_2</td>\n",
       "      <td>04.33.1261</td>\n",
       "      <td>15</td>\n",
       "      <td>1</td>\n",
       "    </tr>\n",
       "  </tbody>\n",
       "</table>\n",
       "</div>"
      ],
      "text/plain": [
       "        user_id                time model_nm       fwver  errtype errcode\n",
       "937965    30820 2020-11-15 03:59:00  model_2  04.33.1261       40       1\n",
       "937966    30820 2020-11-15 03:59:02  model_2  04.33.1261       40       0\n",
       "937967    30820 2020-11-15 04:43:17  model_2  04.33.1261        5     NaN\n",
       "937968    30820 2020-11-15 04:43:17  model_2  04.33.1261        5   40053\n",
       "937969    30820 2020-11-15 09:10:24  model_2  04.33.1261       15       1"
      ]
     },
     "execution_count": 26,
     "metadata": {},
     "output_type": "execute_result"
    }
   ],
   "source": [
    "# 40053으로 채우기\n",
    "test_err.iloc[937965:937970]"
   ]
  },
  {
   "cell_type": "code",
   "execution_count": 27,
   "metadata": {
    "ExecuteTime": {
     "end_time": "2022-06-08T14:26:28.566444Z",
     "start_time": "2022-06-08T14:26:28.551494Z"
    }
   },
   "outputs": [
    {
     "data": {
      "text/html": [
       "<div>\n",
       "<style scoped>\n",
       "    .dataframe tbody tr th:only-of-type {\n",
       "        vertical-align: middle;\n",
       "    }\n",
       "\n",
       "    .dataframe tbody tr th {\n",
       "        vertical-align: top;\n",
       "    }\n",
       "\n",
       "    .dataframe thead th {\n",
       "        text-align: right;\n",
       "    }\n",
       "</style>\n",
       "<table border=\"1\" class=\"dataframe\">\n",
       "  <thead>\n",
       "    <tr style=\"text-align: right;\">\n",
       "      <th></th>\n",
       "      <th>user_id</th>\n",
       "      <th>time</th>\n",
       "      <th>model_nm</th>\n",
       "      <th>fwver</th>\n",
       "      <th>errtype</th>\n",
       "      <th>errcode</th>\n",
       "    </tr>\n",
       "  </thead>\n",
       "  <tbody>\n",
       "    <tr>\n",
       "      <th>4038890</th>\n",
       "      <td>33681</td>\n",
       "      <td>2020-11-03 11:01:47</td>\n",
       "      <td>model_2</td>\n",
       "      <td>04.33.1185</td>\n",
       "      <td>14</td>\n",
       "      <td>14</td>\n",
       "    </tr>\n",
       "    <tr>\n",
       "      <th>4038891</th>\n",
       "      <td>33681</td>\n",
       "      <td>2020-11-03 11:02:59</td>\n",
       "      <td>model_2</td>\n",
       "      <td>04.33.1185</td>\n",
       "      <td>7</td>\n",
       "      <td>14</td>\n",
       "    </tr>\n",
       "    <tr>\n",
       "      <th>4038892</th>\n",
       "      <td>33681</td>\n",
       "      <td>2020-11-03 11:02:59</td>\n",
       "      <td>model_2</td>\n",
       "      <td>04.33.1185</td>\n",
       "      <td>5</td>\n",
       "      <td>NaN</td>\n",
       "    </tr>\n",
       "    <tr>\n",
       "      <th>4038893</th>\n",
       "      <td>33681</td>\n",
       "      <td>2020-11-03 11:02:59</td>\n",
       "      <td>model_2</td>\n",
       "      <td>04.33.1185</td>\n",
       "      <td>5</td>\n",
       "      <td>40053</td>\n",
       "    </tr>\n",
       "    <tr>\n",
       "      <th>4038894</th>\n",
       "      <td>33681</td>\n",
       "      <td>2020-11-03 11:03:00</td>\n",
       "      <td>model_2</td>\n",
       "      <td>04.33.1185</td>\n",
       "      <td>6</td>\n",
       "      <td>14</td>\n",
       "    </tr>\n",
       "  </tbody>\n",
       "</table>\n",
       "</div>"
      ],
      "text/plain": [
       "         user_id                time model_nm       fwver  errtype errcode\n",
       "4038890    33681 2020-11-03 11:01:47  model_2  04.33.1185       14      14\n",
       "4038891    33681 2020-11-03 11:02:59  model_2  04.33.1185        7      14\n",
       "4038892    33681 2020-11-03 11:02:59  model_2  04.33.1185        5     NaN\n",
       "4038893    33681 2020-11-03 11:02:59  model_2  04.33.1185        5   40053\n",
       "4038894    33681 2020-11-03 11:03:00  model_2  04.33.1185        6      14"
      ]
     },
     "execution_count": 27,
     "metadata": {},
     "output_type": "execute_result"
    }
   ],
   "source": [
    "# 40053으로 채우기\n",
    "test_err.iloc[4038890:4038895]"
   ]
  },
  {
   "cell_type": "code",
   "execution_count": 28,
   "metadata": {
    "ExecuteTime": {
     "end_time": "2022-06-08T14:26:28.582391Z",
     "start_time": "2022-06-08T14:26:28.570432Z"
    }
   },
   "outputs": [
    {
     "data": {
      "text/html": [
       "<div>\n",
       "<style scoped>\n",
       "    .dataframe tbody tr th:only-of-type {\n",
       "        vertical-align: middle;\n",
       "    }\n",
       "\n",
       "    .dataframe tbody tr th {\n",
       "        vertical-align: top;\n",
       "    }\n",
       "\n",
       "    .dataframe thead th {\n",
       "        text-align: right;\n",
       "    }\n",
       "</style>\n",
       "<table border=\"1\" class=\"dataframe\">\n",
       "  <thead>\n",
       "    <tr style=\"text-align: right;\">\n",
       "      <th></th>\n",
       "      <th>user_id</th>\n",
       "      <th>time</th>\n",
       "      <th>model_nm</th>\n",
       "      <th>fwver</th>\n",
       "      <th>errtype</th>\n",
       "      <th>errcode</th>\n",
       "    </tr>\n",
       "  </thead>\n",
       "  <tbody>\n",
       "    <tr>\n",
       "      <th>9486879</th>\n",
       "      <td>38991</td>\n",
       "      <td>2020-11-27 18:59:52</td>\n",
       "      <td>model_2</td>\n",
       "      <td>04.33.1261</td>\n",
       "      <td>5</td>\n",
       "      <td>B-A8002</td>\n",
       "    </tr>\n",
       "    <tr>\n",
       "      <th>9486880</th>\n",
       "      <td>38991</td>\n",
       "      <td>2020-11-27 21:38:38</td>\n",
       "      <td>model_2</td>\n",
       "      <td>04.33.1261</td>\n",
       "      <td>5</td>\n",
       "      <td>40053</td>\n",
       "    </tr>\n",
       "    <tr>\n",
       "      <th>9486881</th>\n",
       "      <td>38991</td>\n",
       "      <td>2020-11-27 21:38:38</td>\n",
       "      <td>model_2</td>\n",
       "      <td>04.33.1261</td>\n",
       "      <td>5</td>\n",
       "      <td>NaN</td>\n",
       "    </tr>\n",
       "    <tr>\n",
       "      <th>9486882</th>\n",
       "      <td>38991</td>\n",
       "      <td>2020-11-28 00:13:46</td>\n",
       "      <td>model_2</td>\n",
       "      <td>04.33.1261</td>\n",
       "      <td>26</td>\n",
       "      <td>1</td>\n",
       "    </tr>\n",
       "  </tbody>\n",
       "</table>\n",
       "</div>"
      ],
      "text/plain": [
       "         user_id                time model_nm       fwver  errtype  errcode\n",
       "9486879    38991 2020-11-27 18:59:52  model_2  04.33.1261        5  B-A8002\n",
       "9486880    38991 2020-11-27 21:38:38  model_2  04.33.1261        5    40053\n",
       "9486881    38991 2020-11-27 21:38:38  model_2  04.33.1261        5      NaN\n",
       "9486882    38991 2020-11-28 00:13:46  model_2  04.33.1261       26        1"
      ]
     },
     "execution_count": 28,
     "metadata": {},
     "output_type": "execute_result"
    }
   ],
   "source": [
    "# 40053으로 채우기\n",
    "test_err.iloc[9486879:9486883]"
   ]
  },
  {
   "cell_type": "code",
   "execution_count": 29,
   "metadata": {
    "ExecuteTime": {
     "end_time": "2022-06-08T14:26:28.598338Z",
     "start_time": "2022-06-08T14:26:28.583387Z"
    }
   },
   "outputs": [
    {
     "data": {
      "text/html": [
       "<div>\n",
       "<style scoped>\n",
       "    .dataframe tbody tr th:only-of-type {\n",
       "        vertical-align: middle;\n",
       "    }\n",
       "\n",
       "    .dataframe tbody tr th {\n",
       "        vertical-align: top;\n",
       "    }\n",
       "\n",
       "    .dataframe thead th {\n",
       "        text-align: right;\n",
       "    }\n",
       "</style>\n",
       "<table border=\"1\" class=\"dataframe\">\n",
       "  <thead>\n",
       "    <tr style=\"text-align: right;\">\n",
       "      <th></th>\n",
       "      <th>user_id</th>\n",
       "      <th>time</th>\n",
       "      <th>model_nm</th>\n",
       "      <th>fwver</th>\n",
       "      <th>errtype</th>\n",
       "      <th>errcode</th>\n",
       "    </tr>\n",
       "  </thead>\n",
       "  <tbody>\n",
       "    <tr>\n",
       "      <th>10425470</th>\n",
       "      <td>39894</td>\n",
       "      <td>2020-11-28 14:46:05</td>\n",
       "      <td>model_1</td>\n",
       "      <td>04.16.3553</td>\n",
       "      <td>20</td>\n",
       "      <td>1</td>\n",
       "    </tr>\n",
       "    <tr>\n",
       "      <th>10425471</th>\n",
       "      <td>39894</td>\n",
       "      <td>2020-11-28 14:46:21</td>\n",
       "      <td>model_1</td>\n",
       "      <td>04.16.3553</td>\n",
       "      <td>26</td>\n",
       "      <td>1</td>\n",
       "    </tr>\n",
       "    <tr>\n",
       "      <th>10425472</th>\n",
       "      <td>39894</td>\n",
       "      <td>2020-11-28 14:47:12</td>\n",
       "      <td>model_1</td>\n",
       "      <td>04.16.3553</td>\n",
       "      <td>5</td>\n",
       "      <td>-1010</td>\n",
       "    </tr>\n",
       "    <tr>\n",
       "      <th>10425473</th>\n",
       "      <td>39894</td>\n",
       "      <td>2020-11-28 14:47:12</td>\n",
       "      <td>model_1</td>\n",
       "      <td>04.16.3553</td>\n",
       "      <td>5</td>\n",
       "      <td>NaN</td>\n",
       "    </tr>\n",
       "    <tr>\n",
       "      <th>10425474</th>\n",
       "      <td>39894</td>\n",
       "      <td>2020-11-28 14:47:57</td>\n",
       "      <td>model_1</td>\n",
       "      <td>04.16.3553</td>\n",
       "      <td>32</td>\n",
       "      <td>80</td>\n",
       "    </tr>\n",
       "  </tbody>\n",
       "</table>\n",
       "</div>"
      ],
      "text/plain": [
       "          user_id                time model_nm       fwver  errtype errcode\n",
       "10425470    39894 2020-11-28 14:46:05  model_1  04.16.3553       20       1\n",
       "10425471    39894 2020-11-28 14:46:21  model_1  04.16.3553       26       1\n",
       "10425472    39894 2020-11-28 14:47:12  model_1  04.16.3553        5   -1010\n",
       "10425473    39894 2020-11-28 14:47:12  model_1  04.16.3553        5     NaN\n",
       "10425474    39894 2020-11-28 14:47:57  model_1  04.16.3553       32      80"
      ]
     },
     "execution_count": 29,
     "metadata": {},
     "output_type": "execute_result"
    }
   ],
   "source": [
    "# -1010으로 채우기\n",
    "test_err.iloc[10425470:10425475]"
   ]
  },
  {
   "cell_type": "code",
   "execution_count": 30,
   "metadata": {
    "ExecuteTime": {
     "end_time": "2022-06-08T14:26:28.614284Z",
     "start_time": "2022-06-08T14:26:28.599334Z"
    }
   },
   "outputs": [],
   "source": [
    "# 결측치 채우기\n",
    "test_err.iloc[937967, 5] = '40053'\n",
    "test_err.iloc[4038892, 5] = '40053'\n",
    "test_err.iloc[9486881, 5] = '40053'\n",
    "test_err.iloc[10425473, 5] = '-1010'"
   ]
  },
  {
   "cell_type": "code",
   "execution_count": 31,
   "metadata": {
    "ExecuteTime": {
     "end_time": "2022-06-08T14:26:31.999460Z",
     "start_time": "2022-06-08T14:26:28.615281Z"
    }
   },
   "outputs": [
    {
     "data": {
      "text/plain": [
       "user_id     0\n",
       "time        0\n",
       "model_nm    0\n",
       "fwver       0\n",
       "errtype     0\n",
       "errcode     0\n",
       "dtype: int64"
      ]
     },
     "execution_count": 31,
     "metadata": {},
     "output_type": "execute_result"
    }
   ],
   "source": [
    "test_err.isnull().sum()"
   ]
  },
  {
   "cell_type": "code",
   "execution_count": 32,
   "metadata": {
    "ExecuteTime": {
     "end_time": "2022-06-08T14:26:36.678504Z",
     "start_time": "2022-06-08T14:26:32.000455Z"
    }
   },
   "outputs": [
    {
     "name": "stdout",
     "output_type": "stream",
     "text": [
      "(16532648, 6)\n",
      "(15527221, 6)\n"
     ]
    }
   ],
   "source": [
    "# test_err 중복값 제거\n",
    "\n",
    "print(test_err.shape)\n",
    "test_err = test_err.drop_duplicates(subset=None, keep='first')\n",
    "print(test_err.shape)"
   ]
  },
  {
   "cell_type": "markdown",
   "metadata": {},
   "source": [
    "#### test_quality"
   ]
  },
  {
   "cell_type": "code",
   "execution_count": 33,
   "metadata": {
    "ExecuteTime": {
     "end_time": "2022-06-08T14:26:37.038113Z",
     "start_time": "2022-06-08T14:26:36.679503Z"
    }
   },
   "outputs": [
    {
     "data": {
      "text/plain": [
       "time               0\n",
       "user_id            0\n",
       "fwver          22764\n",
       "quality_0     106584\n",
       "quality_1         11\n",
       "quality_2      21115\n",
       "quality_3          0\n",
       "quality_4          0\n",
       "quality_5         44\n",
       "quality_6          0\n",
       "quality_7          0\n",
       "quality_8          0\n",
       "quality_9          0\n",
       "quality_10         0\n",
       "quality_11         0\n",
       "quality_12         0\n",
       "dtype: int64"
      ]
     },
     "execution_count": 33,
     "metadata": {},
     "output_type": "execute_result"
    }
   ],
   "source": [
    "test_quality.isnull().sum()"
   ]
  },
  {
   "cell_type": "code",
   "execution_count": 34,
   "metadata": {
    "ExecuteTime": {
     "end_time": "2022-06-08T14:26:37.473853Z",
     "start_time": "2022-06-08T14:26:37.039106Z"
    }
   },
   "outputs": [
    {
     "name": "stdout",
     "output_type": "stream",
     "text": [
      "<class 'pandas.core.frame.DataFrame'>\n",
      "Int64Index: 725208 entries, 0 to 747971\n",
      "Data columns (total 16 columns):\n",
      " #   Column      Non-Null Count   Dtype         \n",
      "---  ------      --------------   -----         \n",
      " 0   time        725208 non-null  datetime64[ns]\n",
      " 1   user_id     725208 non-null  int64         \n",
      " 2   fwver       725208 non-null  object        \n",
      " 3   quality_0   639780 non-null  float64       \n",
      " 4   quality_1   725197 non-null  object        \n",
      " 5   quality_2   725177 non-null  float64       \n",
      " 6   quality_3   725208 non-null  int64         \n",
      " 7   quality_4   725208 non-null  int64         \n",
      " 8   quality_5   725164 non-null  object        \n",
      " 9   quality_6   725208 non-null  int64         \n",
      " 10  quality_7   725208 non-null  object        \n",
      " 11  quality_8   725208 non-null  object        \n",
      " 12  quality_9   725208 non-null  object        \n",
      " 13  quality_10  725208 non-null  object        \n",
      " 14  quality_11  725208 non-null  int64         \n",
      " 15  quality_12  725208 non-null  int64         \n",
      "dtypes: datetime64[ns](1), float64(2), int64(6), object(7)\n",
      "memory usage: 94.1+ MB\n"
     ]
    }
   ],
   "source": [
    "# fwver결측치 제거\n",
    "\n",
    "fwver_null_index = list(test_quality[test_quality.fwver.isnull()].index)\n",
    "\n",
    "test_quality = test_quality.drop(fwver_null_index, axis=0)\n",
    "test_quality.info()"
   ]
  },
  {
   "cell_type": "code",
   "execution_count": 35,
   "metadata": {
    "ExecuteTime": {
     "end_time": "2022-06-08T14:26:37.896062Z",
     "start_time": "2022-06-08T14:26:37.474847Z"
    }
   },
   "outputs": [],
   "source": [
    "# quality_0 ~ 12 최빈값으로 채우기\n",
    "\n",
    "for i in test_quality.columns[3:]:\n",
    "    test_quality[i] = test_quality[i].fillna(test_quality[i].mode()[0])"
   ]
  },
  {
   "cell_type": "code",
   "execution_count": 36,
   "metadata": {
    "ExecuteTime": {
     "end_time": "2022-06-08T14:26:38.255854Z",
     "start_time": "2022-06-08T14:26:37.897054Z"
    },
    "scrolled": true
   },
   "outputs": [
    {
     "data": {
      "text/plain": [
       "time          0\n",
       "user_id       0\n",
       "fwver         0\n",
       "quality_0     0\n",
       "quality_1     0\n",
       "quality_2     0\n",
       "quality_3     0\n",
       "quality_4     0\n",
       "quality_5     0\n",
       "quality_6     0\n",
       "quality_7     0\n",
       "quality_8     0\n",
       "quality_9     0\n",
       "quality_10    0\n",
       "quality_11    0\n",
       "quality_12    0\n",
       "dtype: int64"
      ]
     },
     "execution_count": 36,
     "metadata": {},
     "output_type": "execute_result"
    }
   ],
   "source": [
    "test_quality.isnull().sum()"
   ]
  },
  {
   "cell_type": "code",
   "execution_count": 37,
   "metadata": {
    "ExecuteTime": {
     "end_time": "2022-06-08T14:26:38.635214Z",
     "start_time": "2022-06-08T14:26:38.256851Z"
    }
   },
   "outputs": [
    {
     "name": "stdout",
     "output_type": "stream",
     "text": [
      "(725208, 16)\n",
      "(237629, 16)\n"
     ]
    }
   ],
   "source": [
    "# test_quality 중복값 제거\n",
    "\n",
    "print(test_quality.shape)\n",
    "test_quality = test_quality.drop_duplicates(subset=None, keep='first')\n",
    "print(test_quality.shape)"
   ]
  },
  {
   "cell_type": "markdown",
   "metadata": {},
   "source": [
    "#### train_problem"
   ]
  },
  {
   "cell_type": "code",
   "execution_count": 38,
   "metadata": {
    "ExecuteTime": {
     "end_time": "2022-06-08T14:26:38.650618Z",
     "start_time": "2022-06-08T14:26:38.636211Z"
    }
   },
   "outputs": [
    {
     "data": {
      "text/plain": [
       "user_id    0\n",
       "time       0\n",
       "dtype: int64"
      ]
     },
     "execution_count": 38,
     "metadata": {},
     "output_type": "execute_result"
    }
   ],
   "source": [
    "train_problem.isnull().sum()"
   ]
  },
  {
   "cell_type": "markdown",
   "metadata": {},
   "source": [
    "### 2-2. encoding\n",
    "#### quality_0~12 String to Int"
   ]
  },
  {
   "cell_type": "code",
   "execution_count": 39,
   "metadata": {
    "ExecuteTime": {
     "end_time": "2022-06-08T14:26:38.666212Z",
     "start_time": "2022-06-08T14:26:38.651613Z"
    }
   },
   "outputs": [],
   "source": [
    "# train/test_quality에서 쉼표로 인해 string형이 된  data 변경\n",
    "\n",
    "def strToInt(x):\n",
    "    if type(x) == str:\n",
    "        x = x.replace(\",\", \"\")\n",
    "        x = int(x)\n",
    "        return x\n",
    "    else:\n",
    "        x = int(x)\n",
    "        return x"
   ]
  },
  {
   "cell_type": "code",
   "execution_count": 40,
   "metadata": {
    "ExecuteTime": {
     "end_time": "2022-06-08T14:26:40.850912Z",
     "start_time": "2022-06-08T14:26:38.667206Z"
    }
   },
   "outputs": [],
   "source": [
    "# train_quality\n",
    "for i in train_quality.columns[3:]:\n",
    "    train_quality[i] = train_quality[i].apply(lambda x: strToInt(x))\n",
    "    \n",
    "# test_quality\n",
    "for i in test_quality.columns[3:]:\n",
    "    test_quality[i] = test_quality[i].apply(lambda x: strToInt(x))"
   ]
  },
  {
   "cell_type": "code",
   "execution_count": 41,
   "metadata": {
    "ExecuteTime": {
     "end_time": "2022-06-08T14:26:40.896756Z",
     "start_time": "2022-06-08T14:26:40.851906Z"
    },
    "scrolled": true
   },
   "outputs": [
    {
     "name": "stdout",
     "output_type": "stream",
     "text": [
      "<class 'pandas.core.frame.DataFrame'>\n",
      "Int64Index: 272452 entries, 0 to 828623\n",
      "Data columns (total 16 columns):\n",
      " #   Column      Non-Null Count   Dtype         \n",
      "---  ------      --------------   -----         \n",
      " 0   time        272452 non-null  datetime64[ns]\n",
      " 1   user_id     272452 non-null  int64         \n",
      " 2   fwver       272452 non-null  object        \n",
      " 3   quality_0   272452 non-null  int64         \n",
      " 4   quality_1   272452 non-null  int64         \n",
      " 5   quality_2   272452 non-null  int64         \n",
      " 6   quality_3   272452 non-null  int64         \n",
      " 7   quality_4   272452 non-null  int64         \n",
      " 8   quality_5   272452 non-null  int64         \n",
      " 9   quality_6   272452 non-null  int64         \n",
      " 10  quality_7   272452 non-null  int64         \n",
      " 11  quality_8   272452 non-null  int64         \n",
      " 12  quality_9   272452 non-null  int64         \n",
      " 13  quality_10  272452 non-null  int64         \n",
      " 14  quality_11  272452 non-null  int64         \n",
      " 15  quality_12  272452 non-null  int64         \n",
      "dtypes: datetime64[ns](1), int64(14), object(1)\n",
      "memory usage: 35.3+ MB\n"
     ]
    }
   ],
   "source": [
    "train_quality.info()"
   ]
  },
  {
   "cell_type": "code",
   "execution_count": 42,
   "metadata": {
    "ExecuteTime": {
     "end_time": "2022-06-08T14:26:40.927673Z",
     "start_time": "2022-06-08T14:26:40.897753Z"
    },
    "scrolled": true
   },
   "outputs": [
    {
     "name": "stdout",
     "output_type": "stream",
     "text": [
      "<class 'pandas.core.frame.DataFrame'>\n",
      "Int64Index: 237629 entries, 0 to 747967\n",
      "Data columns (total 16 columns):\n",
      " #   Column      Non-Null Count   Dtype         \n",
      "---  ------      --------------   -----         \n",
      " 0   time        237629 non-null  datetime64[ns]\n",
      " 1   user_id     237629 non-null  int64         \n",
      " 2   fwver       237629 non-null  object        \n",
      " 3   quality_0   237629 non-null  int64         \n",
      " 4   quality_1   237629 non-null  int64         \n",
      " 5   quality_2   237629 non-null  int64         \n",
      " 6   quality_3   237629 non-null  int64         \n",
      " 7   quality_4   237629 non-null  int64         \n",
      " 8   quality_5   237629 non-null  int64         \n",
      " 9   quality_6   237629 non-null  int64         \n",
      " 10  quality_7   237629 non-null  int64         \n",
      " 11  quality_8   237629 non-null  int64         \n",
      " 12  quality_9   237629 non-null  int64         \n",
      " 13  quality_10  237629 non-null  int64         \n",
      " 14  quality_11  237629 non-null  int64         \n",
      " 15  quality_12  237629 non-null  int64         \n",
      "dtypes: datetime64[ns](1), int64(14), object(1)\n",
      "memory usage: 30.8+ MB\n"
     ]
    }
   ],
   "source": [
    "test_quality.info()"
   ]
  },
  {
   "cell_type": "code",
   "execution_count": 43,
   "metadata": {
    "ExecuteTime": {
     "end_time": "2022-06-08T14:27:51.098646Z",
     "start_time": "2022-06-08T14:26:40.928671Z"
    }
   },
   "outputs": [],
   "source": [
    "# 결측치 처리 완료된 dataframe 저장\n",
    "\n",
    "train_err.to_csv('new_train_err.csv', index=False)\n",
    "train_quality.to_csv('new_train_quality.csv', index=False)\n",
    "train_problem.to_csv('new_train_problem.csv', index=False)\n",
    "test_err.to_csv('new_test_err.csv', index=False)\n",
    "test_quality.to_csv('new_test_quality.csv', index=False)"
   ]
  },
  {
   "cell_type": "markdown",
   "metadata": {},
   "source": [
    "## 2-2. 데이터 분석"
   ]
  },
  {
   "cell_type": "code",
   "execution_count": 44,
   "metadata": {
    "ExecuteTime": {
     "end_time": "2022-06-08T14:27:51.113543Z",
     "start_time": "2022-06-08T14:27:51.099586Z"
    }
   },
   "outputs": [
    {
     "data": {
      "text/html": [
       "<div>\n",
       "<style scoped>\n",
       "    .dataframe tbody tr th:only-of-type {\n",
       "        vertical-align: middle;\n",
       "    }\n",
       "\n",
       "    .dataframe tbody tr th {\n",
       "        vertical-align: top;\n",
       "    }\n",
       "\n",
       "    .dataframe thead th {\n",
       "        text-align: right;\n",
       "    }\n",
       "</style>\n",
       "<table border=\"1\" class=\"dataframe\">\n",
       "  <thead>\n",
       "    <tr style=\"text-align: right;\">\n",
       "      <th></th>\n",
       "      <th>user_id</th>\n",
       "      <th>time</th>\n",
       "      <th>model_nm</th>\n",
       "      <th>fwver</th>\n",
       "      <th>errtype</th>\n",
       "      <th>errcode</th>\n",
       "    </tr>\n",
       "  </thead>\n",
       "  <tbody>\n",
       "    <tr>\n",
       "      <th>0</th>\n",
       "      <td>10000</td>\n",
       "      <td>2020-11-01 02:56:16</td>\n",
       "      <td>model_3</td>\n",
       "      <td>05.15.2138</td>\n",
       "      <td>15</td>\n",
       "      <td>1</td>\n",
       "    </tr>\n",
       "    <tr>\n",
       "      <th>1</th>\n",
       "      <td>10000</td>\n",
       "      <td>2020-11-01 03:03:09</td>\n",
       "      <td>model_3</td>\n",
       "      <td>05.15.2138</td>\n",
       "      <td>12</td>\n",
       "      <td>1</td>\n",
       "    </tr>\n",
       "    <tr>\n",
       "      <th>2</th>\n",
       "      <td>10000</td>\n",
       "      <td>2020-11-01 03:03:09</td>\n",
       "      <td>model_3</td>\n",
       "      <td>05.15.2138</td>\n",
       "      <td>11</td>\n",
       "      <td>1</td>\n",
       "    </tr>\n",
       "    <tr>\n",
       "      <th>3</th>\n",
       "      <td>10000</td>\n",
       "      <td>2020-11-01 05:05:14</td>\n",
       "      <td>model_3</td>\n",
       "      <td>05.15.2138</td>\n",
       "      <td>16</td>\n",
       "      <td>1</td>\n",
       "    </tr>\n",
       "    <tr>\n",
       "      <th>4</th>\n",
       "      <td>10000</td>\n",
       "      <td>2020-11-01 05:05:15</td>\n",
       "      <td>model_3</td>\n",
       "      <td>05.15.2138</td>\n",
       "      <td>4</td>\n",
       "      <td>0</td>\n",
       "    </tr>\n",
       "  </tbody>\n",
       "</table>\n",
       "</div>"
      ],
      "text/plain": [
       "   user_id                time model_nm       fwver  errtype errcode\n",
       "0    10000 2020-11-01 02:56:16  model_3  05.15.2138       15       1\n",
       "1    10000 2020-11-01 03:03:09  model_3  05.15.2138       12       1\n",
       "2    10000 2020-11-01 03:03:09  model_3  05.15.2138       11       1\n",
       "3    10000 2020-11-01 05:05:14  model_3  05.15.2138       16       1\n",
       "4    10000 2020-11-01 05:05:15  model_3  05.15.2138        4       0"
      ]
     },
     "execution_count": 44,
     "metadata": {},
     "output_type": "execute_result"
    }
   ],
   "source": [
    "train_err.head()"
   ]
  },
  {
   "cell_type": "markdown",
   "metadata": {},
   "source": [
    "### 시간대별 분석"
   ]
  },
  {
   "cell_type": "markdown",
   "metadata": {},
   "source": [
    "#### train_err"
   ]
  },
  {
   "cell_type": "code",
   "execution_count": 45,
   "metadata": {
    "ExecuteTime": {
     "end_time": "2022-06-08T14:27:51.539709Z",
     "start_time": "2022-06-08T14:27:51.114539Z"
    },
    "scrolled": true
   },
   "outputs": [
    {
     "data": {
      "text/plain": [
       "21    562283\n",
       "22    556151\n",
       "15    554778\n",
       "1     553561\n",
       "7     551177\n",
       "8     541958\n",
       "28    527480\n",
       "29    525630\n",
       "14    520291\n",
       "19    518417\n",
       "6     516747\n",
       "2     513572\n",
       "23    513511\n",
       "24    509559\n",
       "9     507302\n",
       "18    506377\n",
       "5     502597\n",
       "20    501508\n",
       "26    499517\n",
       "12    497408\n",
       "10    497012\n",
       "3     496842\n",
       "27    492887\n",
       "16    492638\n",
       "25    492618\n",
       "4     489363\n",
       "11    488927\n",
       "30    484872\n",
       "17    483993\n",
       "13    469020\n",
       "31         5\n",
       "Name: time, dtype: int64"
      ]
     },
     "execution_count": 45,
     "metadata": {},
     "output_type": "execute_result"
    }
   ],
   "source": [
    "# 일별 에러 발생\n",
    "\n",
    "# 비교적 주말에 에러가 많이 발생했다.\n",
    "train_err.time.dt.day.value_counts()"
   ]
  },
  {
   "cell_type": "code",
   "execution_count": 46,
   "metadata": {
    "ExecuteTime": {
     "end_time": "2022-06-08T14:27:51.928468Z",
     "start_time": "2022-06-08T14:27:51.540710Z"
    }
   },
   "outputs": [
    {
     "data": {
      "text/html": [
       "<div>\n",
       "<style scoped>\n",
       "    .dataframe tbody tr th:only-of-type {\n",
       "        vertical-align: middle;\n",
       "    }\n",
       "\n",
       "    .dataframe tbody tr th {\n",
       "        vertical-align: top;\n",
       "    }\n",
       "\n",
       "    .dataframe thead th {\n",
       "        text-align: right;\n",
       "    }\n",
       "</style>\n",
       "<table border=\"1\" class=\"dataframe\">\n",
       "  <thead>\n",
       "    <tr style=\"text-align: right;\">\n",
       "      <th></th>\n",
       "      <th>user_id</th>\n",
       "      <th>time</th>\n",
       "      <th>model_nm</th>\n",
       "      <th>fwver</th>\n",
       "      <th>errtype</th>\n",
       "      <th>errcode</th>\n",
       "    </tr>\n",
       "  </thead>\n",
       "  <tbody>\n",
       "    <tr>\n",
       "      <th>6409135</th>\n",
       "      <td>15801</td>\n",
       "      <td>2020-10-31 23:59:59</td>\n",
       "      <td>model_0</td>\n",
       "      <td>04.22.1750</td>\n",
       "      <td>16</td>\n",
       "      <td>1</td>\n",
       "    </tr>\n",
       "    <tr>\n",
       "      <th>9204586</th>\n",
       "      <td>18418</td>\n",
       "      <td>2020-10-31 23:59:59</td>\n",
       "      <td>model_0</td>\n",
       "      <td>04.22.1750</td>\n",
       "      <td>26</td>\n",
       "      <td>1</td>\n",
       "    </tr>\n",
       "    <tr>\n",
       "      <th>12134438</th>\n",
       "      <td>20974</td>\n",
       "      <td>2020-10-31 23:59:59</td>\n",
       "      <td>model_0</td>\n",
       "      <td>04.22.1750</td>\n",
       "      <td>26</td>\n",
       "      <td>1</td>\n",
       "    </tr>\n",
       "    <tr>\n",
       "      <th>13424899</th>\n",
       "      <td>22249</td>\n",
       "      <td>2020-10-31 23:59:59</td>\n",
       "      <td>model_0</td>\n",
       "      <td>04.22.1750</td>\n",
       "      <td>26</td>\n",
       "      <td>1</td>\n",
       "    </tr>\n",
       "    <tr>\n",
       "      <th>13585684</th>\n",
       "      <td>22385</td>\n",
       "      <td>2020-10-31 23:59:59</td>\n",
       "      <td>model_2</td>\n",
       "      <td>04.33.1185</td>\n",
       "      <td>26</td>\n",
       "      <td>1</td>\n",
       "    </tr>\n",
       "  </tbody>\n",
       "</table>\n",
       "</div>"
      ],
      "text/plain": [
       "          user_id                time model_nm       fwver  errtype errcode\n",
       "6409135     15801 2020-10-31 23:59:59  model_0  04.22.1750       16       1\n",
       "9204586     18418 2020-10-31 23:59:59  model_0  04.22.1750       26       1\n",
       "12134438    20974 2020-10-31 23:59:59  model_0  04.22.1750       26       1\n",
       "13424899    22249 2020-10-31 23:59:59  model_0  04.22.1750       26       1\n",
       "13585684    22385 2020-10-31 23:59:59  model_2  04.33.1185       26       1"
      ]
     },
     "execution_count": 46,
     "metadata": {},
     "output_type": "execute_result"
    }
   ],
   "source": [
    "# 11월 1일로 들어가도 될 것같다.\n",
    "train_err[train_err.time.dt.day == 31]"
   ]
  },
  {
   "cell_type": "code",
   "execution_count": 47,
   "metadata": {
    "ExecuteTime": {
     "end_time": "2022-06-08T14:27:53.505930Z",
     "start_time": "2022-06-08T14:27:51.929464Z"
    }
   },
   "outputs": [
    {
     "data": {
      "text/plain": [
       "<AxesSubplot:xlabel='time', ylabel='Count'>"
      ]
     },
     "execution_count": 47,
     "metadata": {},
     "output_type": "execute_result"
    },
    {
     "data": {
      "image/png": "[encoded data removed]",
      "text/plain": [
       "<Figure size 864x432 with 1 Axes>"
      ]
     },
     "metadata": {
      "needs_background": "light"
     },
     "output_type": "display_data"
    }
   ],
   "source": [
    "plt.figure(figsize=(12,6))\n",
    "sns.histplot(data=train_err, x=train_err.time.dt.day, bins=31)"
   ]
  },
  {
   "cell_type": "code",
   "execution_count": 48,
   "metadata": {
    "ExecuteTime": {
     "end_time": "2022-06-08T14:27:53.927372Z",
     "start_time": "2022-06-08T14:27:53.506924Z"
    },
    "scrolled": true
   },
   "outputs": [
    {
     "data": {
      "text/plain": [
       "19    824162\n",
       "20    792258\n",
       "21    791873\n",
       "18    783808\n",
       "22    729112\n",
       "17    713929\n",
       "8     677857\n",
       "0     658982\n",
       "2     648567\n",
       "16    647170\n",
       "3     645580\n",
       "4     643244\n",
       "9     637959\n",
       "23    622782\n",
       "7     618374\n",
       "13    603780\n",
       "15    600263\n",
       "12    592900\n",
       "10    592178\n",
       "14    581045\n",
       "11    575142\n",
       "5     519059\n",
       "6     444071\n",
       "1     423906\n",
       "Name: time, dtype: int64"
      ]
     },
     "execution_count": 48,
     "metadata": {},
     "output_type": "execute_result"
    }
   ],
   "source": [
    "# 시간대별 에러발생\n",
    "train_err.time.dt.hour.value_counts()"
   ]
  },
  {
   "cell_type": "code",
   "execution_count": 49,
   "metadata": {
    "ExecuteTime": {
     "end_time": "2022-06-08T14:27:54.958835Z",
     "start_time": "2022-06-08T14:27:53.928369Z"
    }
   },
   "outputs": [
    {
     "data": {
      "text/plain": [
       "<AxesSubplot:xlabel='time', ylabel='Count'>"
      ]
     },
     "execution_count": 49,
     "metadata": {},
     "output_type": "execute_result"
    },
    {
     "data": {
      "image/png": "[encoded data removed]",
      "text/plain": [
       "<Figure size 864x432 with 1 Axes>"
      ]
     },
     "metadata": {
      "needs_background": "light"
     },
     "output_type": "display_data"
    }
   ],
   "source": [
    "plt.figure(figsize=(12,6))\n",
    "sns.histplot(data=train_err, x=train_err.time.dt.hour, bins=24)"
   ]
  },
  {
   "cell_type": "markdown",
   "metadata": {},
   "source": [
    "#### train_problem "
   ]
  },
  {
   "cell_type": "code",
   "execution_count": 50,
   "metadata": {
    "ExecuteTime": {
     "end_time": "2022-06-08T14:27:54.974648Z",
     "start_time": "2022-06-08T14:27:54.959832Z"
    }
   },
   "outputs": [
    {
     "data": {
      "text/plain": [
       "0    1332\n",
       "2     868\n",
       "4     853\n",
       "1     809\n",
       "3     809\n",
       "5     431\n",
       "6     327\n",
       "Name: time, dtype: int64"
      ]
     },
     "execution_count": 50,
     "metadata": {},
     "output_type": "execute_result"
    }
   ],
   "source": [
    "# 요일별 불만 제기 수\n",
    "\n",
    "train_problem.time.dt.day_of_week.value_counts()"
   ]
  },
  {
   "cell_type": "code",
   "execution_count": 51,
   "metadata": {
    "ExecuteTime": {
     "end_time": "2022-06-08T14:27:55.053386Z",
     "start_time": "2022-06-08T14:27:54.975643Z"
    }
   },
   "outputs": [
    {
     "data": {
      "text/plain": [
       "<AxesSubplot:xlabel='time', ylabel='Count'>"
      ]
     },
     "execution_count": 51,
     "metadata": {},
     "output_type": "execute_result"
    },
    {
     "data": {
      "image/png": "[encoded data removed]",
      "text/plain": [
       "<Figure size 864x432 with 1 Axes>"
      ]
     },
     "metadata": {
      "needs_background": "light"
     },
     "output_type": "display_data"
    }
   ],
   "source": [
    "# 주말에 에러가 많이 발생하지만 불만 제기는 월요일이 가장 많다.\n",
    "# 주말에는 고객센터가 문을 열지 않을 것이라 생각했을 수 있다.\n",
    "\n",
    "plt.figure(figsize=(12,6))\n",
    "sns.histplot(data=train_problem, x=train_problem.time.dt.day_of_week, bins=7)"
   ]
  },
  {
   "cell_type": "code",
   "execution_count": 52,
   "metadata": {
    "ExecuteTime": {
     "end_time": "2022-06-08T14:27:55.068375Z",
     "start_time": "2022-06-08T14:27:55.054379Z"
    },
    "scrolled": true
   },
   "outputs": [
    {
     "data": {
      "text/plain": [
       "12    627\n",
       "11    600\n",
       "13    518\n",
       "19    507\n",
       "18    492\n",
       "15    489\n",
       "16    460\n",
       "17    432\n",
       "22    233\n",
       "20    233\n",
       "14    228\n",
       "21    204\n",
       "23    175\n",
       "0     108\n",
       "1      67\n",
       "2      15\n",
       "10     14\n",
       "9       8\n",
       "5       5\n",
       "8       5\n",
       "3       4\n",
       "4       3\n",
       "7       1\n",
       "6       1\n",
       "Name: time, dtype: int64"
      ]
     },
     "execution_count": 52,
     "metadata": {},
     "output_type": "execute_result"
    }
   ],
   "source": [
    "# 시간대별 불만 제기 수\n",
    "train_problem.time.dt.hour.value_counts()"
   ]
  },
  {
   "cell_type": "code",
   "execution_count": 53,
   "metadata": {
    "ExecuteTime": {
     "end_time": "2022-06-08T14:27:55.147109Z",
     "start_time": "2022-06-08T14:27:55.069370Z"
    }
   },
   "outputs": [
    {
     "data": {
      "text/plain": [
       "<AxesSubplot:xlabel='time', ylabel='Count'>"
      ]
     },
     "execution_count": 53,
     "metadata": {},
     "output_type": "execute_result"
    },
    {
     "data": {
      "image/png": "[encoded data removed]",
      "text/plain": [
       "<Figure size 864x432 with 1 Axes>"
      ]
     },
     "metadata": {
      "needs_background": "light"
     },
     "output_type": "display_data"
    }
   ],
   "source": [
    "plt.figure(figsize=(12,6))\n",
    "sns.histplot(data=train_problem, x=train_problem.time.dt.hour, bins=24)"
   ]
  },
  {
   "cell_type": "markdown",
   "metadata": {},
   "source": [
    "- 에러가 발생한 요일, 시간대는 큰 차이가 나지 않는다.\n",
    "- 하지만 불만을 제기한 요일과 시간대는 꽤 유의미한 차이가 난다.\n",
    "- 따라서 에러가 발생한 요일, 시간은 trian set에 넣어도 될 것 같다."
   ]
  },
  {
   "cell_type": "markdown",
   "metadata": {},
   "source": [
    "### model_nm 분석"
   ]
  },
  {
   "cell_type": "markdown",
   "metadata": {},
   "source": [
    "#### model_nm에 따른 불만율"
   ]
  },
  {
   "cell_type": "code",
   "execution_count": 54,
   "metadata": {
    "ExecuteTime": {
     "end_time": "2022-06-08T14:27:55.600262Z",
     "start_time": "2022-06-08T14:27:55.147109Z"
    }
   },
   "outputs": [
    {
     "data": {
      "text/plain": [
       "array(['model_3', 'model_2', 'model_0', 'model_1', 'model_7', 'model_4',\n",
       "       'model_5', 'model_8', 'model_6'], dtype=object)"
      ]
     },
     "execution_count": 54,
     "metadata": {},
     "output_type": "execute_result"
    }
   ],
   "source": [
    "train_err.model_nm.unique()"
   ]
  },
  {
   "cell_type": "code",
   "execution_count": 55,
   "metadata": {
    "ExecuteTime": {
     "end_time": "2022-06-08T14:27:55.615803Z",
     "start_time": "2022-06-08T14:27:55.601204Z"
    },
    "scrolled": false
   },
   "outputs": [],
   "source": [
    "problem_id_list = list(train_problem.user_id)"
   ]
  },
  {
   "cell_type": "code",
   "execution_count": 56,
   "metadata": {
    "ExecuteTime": {
     "end_time": "2022-06-08T14:27:55.631791Z",
     "start_time": "2022-06-08T14:27:55.616802Z"
    },
    "scrolled": true
   },
   "outputs": [
    {
     "data": {
      "text/plain": [
       "5429"
      ]
     },
     "execution_count": 56,
     "metadata": {},
     "output_type": "execute_result"
    }
   ],
   "source": [
    "len(problem_id_list)"
   ]
  },
  {
   "cell_type": "code",
   "execution_count": 57,
   "metadata": {
    "ExecuteTime": {
     "end_time": "2022-06-08T14:27:56.440881Z",
     "start_time": "2022-06-08T14:27:55.632784Z"
    },
    "scrolled": true
   },
   "outputs": [
    {
     "data": {
      "text/html": [
       "<div>\n",
       "<style scoped>\n",
       "    .dataframe tbody tr th:only-of-type {\n",
       "        vertical-align: middle;\n",
       "    }\n",
       "\n",
       "    .dataframe tbody tr th {\n",
       "        vertical-align: top;\n",
       "    }\n",
       "\n",
       "    .dataframe thead th {\n",
       "        text-align: right;\n",
       "    }\n",
       "</style>\n",
       "<table border=\"1\" class=\"dataframe\">\n",
       "  <thead>\n",
       "    <tr style=\"text-align: right;\">\n",
       "      <th></th>\n",
       "      <th>user_id</th>\n",
       "    </tr>\n",
       "    <tr>\n",
       "      <th>model_nm</th>\n",
       "      <th></th>\n",
       "    </tr>\n",
       "  </thead>\n",
       "  <tbody>\n",
       "    <tr>\n",
       "      <th>model_0</th>\n",
       "      <td>[10004, 10005, 10007, 10008, 10011, 10013, 100...</td>\n",
       "    </tr>\n",
       "    <tr>\n",
       "      <th>model_1</th>\n",
       "      <td>[10006, 10009, 10010, 10021, 10023, 10031, 100...</td>\n",
       "    </tr>\n",
       "    <tr>\n",
       "      <th>model_2</th>\n",
       "      <td>[10001, 10003, 10006, 10012, 10014, 10017, 100...</td>\n",
       "    </tr>\n",
       "    <tr>\n",
       "      <th>model_3</th>\n",
       "      <td>[10000, 10002, 10016, 10018, 10019, 10026, 100...</td>\n",
       "    </tr>\n",
       "    <tr>\n",
       "      <th>model_4</th>\n",
       "      <td>[10080, 10092, 10167, 10168, 10171, 10206, 102...</td>\n",
       "    </tr>\n",
       "    <tr>\n",
       "      <th>model_5</th>\n",
       "      <td>[10110, 10408, 10411, 10600, 10719, 11058, 119...</td>\n",
       "    </tr>\n",
       "    <tr>\n",
       "      <th>model_6</th>\n",
       "      <td>[10495, 10693, 11157, 11183, 11206, 11319, 114...</td>\n",
       "    </tr>\n",
       "    <tr>\n",
       "      <th>model_7</th>\n",
       "      <td>[10075, 10244, 10556, 10694, 10744, 10922, 111...</td>\n",
       "    </tr>\n",
       "    <tr>\n",
       "      <th>model_8</th>\n",
       "      <td>[10202, 10286, 10458, 10690, 11086, 11416, 114...</td>\n",
       "    </tr>\n",
       "  </tbody>\n",
       "</table>\n",
       "</div>"
      ],
      "text/plain": [
       "                                                    user_id\n",
       "model_nm                                                   \n",
       "model_0   [10004, 10005, 10007, 10008, 10011, 10013, 100...\n",
       "model_1   [10006, 10009, 10010, 10021, 10023, 10031, 100...\n",
       "model_2   [10001, 10003, 10006, 10012, 10014, 10017, 100...\n",
       "model_3   [10000, 10002, 10016, 10018, 10019, 10026, 100...\n",
       "model_4   [10080, 10092, 10167, 10168, 10171, 10206, 102...\n",
       "model_5   [10110, 10408, 10411, 10600, 10719, 11058, 119...\n",
       "model_6   [10495, 10693, 11157, 11183, 11206, 11319, 114...\n",
       "model_7   [10075, 10244, 10556, 10694, 10744, 10922, 111...\n",
       "model_8   [10202, 10286, 10458, 10690, 11086, 11416, 114..."
      ]
     },
     "execution_count": 57,
     "metadata": {},
     "output_type": "execute_result"
    }
   ],
   "source": [
    "id_model = train_err.groupby('model_nm')['user_id'].unique().to_frame()\n",
    "id_model"
   ]
  },
  {
   "cell_type": "code",
   "execution_count": 58,
   "metadata": {
    "ExecuteTime": {
     "end_time": "2022-06-08T14:27:56.456156Z",
     "start_time": "2022-06-08T14:27:56.441874Z"
    }
   },
   "outputs": [],
   "source": [
    "id_model['count'] = 0"
   ]
  },
  {
   "cell_type": "code",
   "execution_count": 59,
   "metadata": {
    "ExecuteTime": {
     "end_time": "2022-06-08T14:27:56.472147Z",
     "start_time": "2022-06-08T14:27:56.457155Z"
    }
   },
   "outputs": [
    {
     "data": {
      "text/plain": [
       "user_id    [10004, 10005, 10007, 10008, 10011, 10013, 100...\n",
       "count                                                      0\n",
       "Name: model_0, dtype: object"
      ]
     },
     "execution_count": 59,
     "metadata": {},
     "output_type": "execute_result"
    }
   ],
   "source": [
    "id_model.iloc[0]"
   ]
  },
  {
   "cell_type": "code",
   "execution_count": 60,
   "metadata": {
    "ExecuteTime": {
     "end_time": "2022-06-08T14:27:57.446221Z",
     "start_time": "2022-06-08T14:27:56.473144Z"
    }
   },
   "outputs": [],
   "source": [
    "for i in range(len(id_model.index)):\n",
    "    for j in problem_id_list:\n",
    "        if j in id_model.iloc[i, 0]:\n",
    "            id_model.iloc[i, 1] += 1"
   ]
  },
  {
   "cell_type": "code",
   "execution_count": 61,
   "metadata": {
    "ExecuteTime": {
     "end_time": "2022-06-08T14:27:57.462171Z",
     "start_time": "2022-06-08T14:27:57.447221Z"
    }
   },
   "outputs": [
    {
     "data": {
      "text/html": [
       "<div>\n",
       "<style scoped>\n",
       "    .dataframe tbody tr th:only-of-type {\n",
       "        vertical-align: middle;\n",
       "    }\n",
       "\n",
       "    .dataframe tbody tr th {\n",
       "        vertical-align: top;\n",
       "    }\n",
       "\n",
       "    .dataframe thead th {\n",
       "        text-align: right;\n",
       "    }\n",
       "</style>\n",
       "<table border=\"1\" class=\"dataframe\">\n",
       "  <thead>\n",
       "    <tr style=\"text-align: right;\">\n",
       "      <th></th>\n",
       "      <th>user_id</th>\n",
       "      <th>count</th>\n",
       "    </tr>\n",
       "    <tr>\n",
       "      <th>model_nm</th>\n",
       "      <th></th>\n",
       "      <th></th>\n",
       "    </tr>\n",
       "  </thead>\n",
       "  <tbody>\n",
       "    <tr>\n",
       "      <th>model_0</th>\n",
       "      <td>[10004, 10005, 10007, 10008, 10011, 10013, 100...</td>\n",
       "      <td>1769</td>\n",
       "    </tr>\n",
       "    <tr>\n",
       "      <th>model_1</th>\n",
       "      <td>[10006, 10009, 10010, 10021, 10023, 10031, 100...</td>\n",
       "      <td>1426</td>\n",
       "    </tr>\n",
       "    <tr>\n",
       "      <th>model_2</th>\n",
       "      <td>[10001, 10003, 10006, 10012, 10014, 10017, 100...</td>\n",
       "      <td>1918</td>\n",
       "    </tr>\n",
       "    <tr>\n",
       "      <th>model_3</th>\n",
       "      <td>[10000, 10002, 10016, 10018, 10019, 10026, 100...</td>\n",
       "      <td>789</td>\n",
       "    </tr>\n",
       "    <tr>\n",
       "      <th>model_4</th>\n",
       "      <td>[10080, 10092, 10167, 10168, 10171, 10206, 102...</td>\n",
       "      <td>153</td>\n",
       "    </tr>\n",
       "    <tr>\n",
       "      <th>model_5</th>\n",
       "      <td>[10110, 10408, 10411, 10600, 10719, 11058, 119...</td>\n",
       "      <td>23</td>\n",
       "    </tr>\n",
       "    <tr>\n",
       "      <th>model_6</th>\n",
       "      <td>[10495, 10693, 11157, 11183, 11206, 11319, 114...</td>\n",
       "      <td>10</td>\n",
       "    </tr>\n",
       "    <tr>\n",
       "      <th>model_7</th>\n",
       "      <td>[10075, 10244, 10556, 10694, 10744, 10922, 111...</td>\n",
       "      <td>36</td>\n",
       "    </tr>\n",
       "    <tr>\n",
       "      <th>model_8</th>\n",
       "      <td>[10202, 10286, 10458, 10690, 11086, 11416, 114...</td>\n",
       "      <td>25</td>\n",
       "    </tr>\n",
       "  </tbody>\n",
       "</table>\n",
       "</div>"
      ],
      "text/plain": [
       "                                                    user_id  count\n",
       "model_nm                                                          \n",
       "model_0   [10004, 10005, 10007, 10008, 10011, 10013, 100...   1769\n",
       "model_1   [10006, 10009, 10010, 10021, 10023, 10031, 100...   1426\n",
       "model_2   [10001, 10003, 10006, 10012, 10014, 10017, 100...   1918\n",
       "model_3   [10000, 10002, 10016, 10018, 10019, 10026, 100...    789\n",
       "model_4   [10080, 10092, 10167, 10168, 10171, 10206, 102...    153\n",
       "model_5   [10110, 10408, 10411, 10600, 10719, 11058, 119...     23\n",
       "model_6   [10495, 10693, 11157, 11183, 11206, 11319, 114...     10\n",
       "model_7   [10075, 10244, 10556, 10694, 10744, 10922, 111...     36\n",
       "model_8   [10202, 10286, 10458, 10690, 11086, 11416, 114...     25"
      ]
     },
     "execution_count": 61,
     "metadata": {},
     "output_type": "execute_result"
    }
   ],
   "source": [
    "id_model"
   ]
  },
  {
   "cell_type": "code",
   "execution_count": 62,
   "metadata": {
    "ExecuteTime": {
     "end_time": "2022-06-08T14:27:57.477445Z",
     "start_time": "2022-06-08T14:27:57.463168Z"
    }
   },
   "outputs": [
    {
     "data": {
      "text/plain": [
       "6149"
      ]
     },
     "execution_count": 62,
     "metadata": {},
     "output_type": "execute_result"
    }
   ],
   "source": [
    "count_sum = id_model['count'].values.sum()\n",
    "count_sum"
   ]
  },
  {
   "cell_type": "code",
   "execution_count": 63,
   "metadata": {
    "ExecuteTime": {
     "end_time": "2022-06-08T14:27:57.492399Z",
     "start_time": "2022-06-08T14:27:57.478445Z"
    }
   },
   "outputs": [
    {
     "data": {
      "text/html": [
       "<div>\n",
       "<style scoped>\n",
       "    .dataframe tbody tr th:only-of-type {\n",
       "        vertical-align: middle;\n",
       "    }\n",
       "\n",
       "    .dataframe tbody tr th {\n",
       "        vertical-align: top;\n",
       "    }\n",
       "\n",
       "    .dataframe thead th {\n",
       "        text-align: right;\n",
       "    }\n",
       "</style>\n",
       "<table border=\"1\" class=\"dataframe\">\n",
       "  <thead>\n",
       "    <tr style=\"text-align: right;\">\n",
       "      <th></th>\n",
       "      <th>user_id</th>\n",
       "      <th>count</th>\n",
       "      <th>problem_rate</th>\n",
       "    </tr>\n",
       "    <tr>\n",
       "      <th>model_nm</th>\n",
       "      <th></th>\n",
       "      <th></th>\n",
       "      <th></th>\n",
       "    </tr>\n",
       "  </thead>\n",
       "  <tbody>\n",
       "    <tr>\n",
       "      <th>model_0</th>\n",
       "      <td>[10004, 10005, 10007, 10008, 10011, 10013, 100...</td>\n",
       "      <td>1769</td>\n",
       "      <td>28.768906</td>\n",
       "    </tr>\n",
       "    <tr>\n",
       "      <th>model_1</th>\n",
       "      <td>[10006, 10009, 10010, 10021, 10023, 10031, 100...</td>\n",
       "      <td>1426</td>\n",
       "      <td>23.190763</td>\n",
       "    </tr>\n",
       "    <tr>\n",
       "      <th>model_2</th>\n",
       "      <td>[10001, 10003, 10006, 10012, 10014, 10017, 100...</td>\n",
       "      <td>1918</td>\n",
       "      <td>31.192064</td>\n",
       "    </tr>\n",
       "    <tr>\n",
       "      <th>model_3</th>\n",
       "      <td>[10000, 10002, 10016, 10018, 10019, 10026, 100...</td>\n",
       "      <td>789</td>\n",
       "      <td>12.831355</td>\n",
       "    </tr>\n",
       "    <tr>\n",
       "      <th>model_4</th>\n",
       "      <td>[10080, 10092, 10167, 10168, 10171, 10206, 102...</td>\n",
       "      <td>153</td>\n",
       "      <td>2.488209</td>\n",
       "    </tr>\n",
       "    <tr>\n",
       "      <th>model_5</th>\n",
       "      <td>[10110, 10408, 10411, 10600, 10719, 11058, 119...</td>\n",
       "      <td>23</td>\n",
       "      <td>0.374045</td>\n",
       "    </tr>\n",
       "    <tr>\n",
       "      <th>model_6</th>\n",
       "      <td>[10495, 10693, 11157, 11183, 11206, 11319, 114...</td>\n",
       "      <td>10</td>\n",
       "      <td>0.162628</td>\n",
       "    </tr>\n",
       "    <tr>\n",
       "      <th>model_7</th>\n",
       "      <td>[10075, 10244, 10556, 10694, 10744, 10922, 111...</td>\n",
       "      <td>36</td>\n",
       "      <td>0.585461</td>\n",
       "    </tr>\n",
       "    <tr>\n",
       "      <th>model_8</th>\n",
       "      <td>[10202, 10286, 10458, 10690, 11086, 11416, 114...</td>\n",
       "      <td>25</td>\n",
       "      <td>0.406570</td>\n",
       "    </tr>\n",
       "  </tbody>\n",
       "</table>\n",
       "</div>"
      ],
      "text/plain": [
       "                                                    user_id  count  \\\n",
       "model_nm                                                             \n",
       "model_0   [10004, 10005, 10007, 10008, 10011, 10013, 100...   1769   \n",
       "model_1   [10006, 10009, 10010, 10021, 10023, 10031, 100...   1426   \n",
       "model_2   [10001, 10003, 10006, 10012, 10014, 10017, 100...   1918   \n",
       "model_3   [10000, 10002, 10016, 10018, 10019, 10026, 100...    789   \n",
       "model_4   [10080, 10092, 10167, 10168, 10171, 10206, 102...    153   \n",
       "model_5   [10110, 10408, 10411, 10600, 10719, 11058, 119...     23   \n",
       "model_6   [10495, 10693, 11157, 11183, 11206, 11319, 114...     10   \n",
       "model_7   [10075, 10244, 10556, 10694, 10744, 10922, 111...     36   \n",
       "model_8   [10202, 10286, 10458, 10690, 11086, 11416, 114...     25   \n",
       "\n",
       "          problem_rate  \n",
       "model_nm                \n",
       "model_0      28.768906  \n",
       "model_1      23.190763  \n",
       "model_2      31.192064  \n",
       "model_3      12.831355  \n",
       "model_4       2.488209  \n",
       "model_5       0.374045  \n",
       "model_6       0.162628  \n",
       "model_7       0.585461  \n",
       "model_8       0.406570  "
      ]
     },
     "execution_count": 63,
     "metadata": {},
     "output_type": "execute_result"
    }
   ],
   "source": [
    "id_model['problem_rate'] = id_model['count'] / count_sum * 100\n",
    "id_model"
   ]
  },
  {
   "cell_type": "code",
   "execution_count": 64,
   "metadata": {
    "ExecuteTime": {
     "end_time": "2022-06-08T14:27:58.551706Z",
     "start_time": "2022-06-08T14:27:57.493395Z"
    }
   },
   "outputs": [],
   "source": [
    "id_model['error_rate'] = train_err.model_nm.value_counts().sort_index() / train_err.model_nm.value_counts().sum() * 100"
   ]
  },
  {
   "cell_type": "code",
   "execution_count": 65,
   "metadata": {
    "ExecuteTime": {
     "end_time": "2022-06-08T14:27:58.567649Z",
     "start_time": "2022-06-08T14:27:58.552699Z"
    }
   },
   "outputs": [
    {
     "data": {
      "text/html": [
       "<div>\n",
       "<style scoped>\n",
       "    .dataframe tbody tr th:only-of-type {\n",
       "        vertical-align: middle;\n",
       "    }\n",
       "\n",
       "    .dataframe tbody tr th {\n",
       "        vertical-align: top;\n",
       "    }\n",
       "\n",
       "    .dataframe thead th {\n",
       "        text-align: right;\n",
       "    }\n",
       "</style>\n",
       "<table border=\"1\" class=\"dataframe\">\n",
       "  <thead>\n",
       "    <tr style=\"text-align: right;\">\n",
       "      <th></th>\n",
       "      <th>user_id</th>\n",
       "      <th>count</th>\n",
       "      <th>problem_rate</th>\n",
       "      <th>error_rate</th>\n",
       "    </tr>\n",
       "    <tr>\n",
       "      <th>model_nm</th>\n",
       "      <th></th>\n",
       "      <th></th>\n",
       "      <th></th>\n",
       "      <th></th>\n",
       "    </tr>\n",
       "  </thead>\n",
       "  <tbody>\n",
       "    <tr>\n",
       "      <th>model_0</th>\n",
       "      <td>[10004, 10005, 10007, 10008, 10011, 10013, 100...</td>\n",
       "      <td>1769</td>\n",
       "      <td>28.768906</td>\n",
       "      <td>26.026404</td>\n",
       "    </tr>\n",
       "    <tr>\n",
       "      <th>model_1</th>\n",
       "      <td>[10006, 10009, 10010, 10021, 10023, 10031, 100...</td>\n",
       "      <td>1426</td>\n",
       "      <td>23.190763</td>\n",
       "      <td>34.416356</td>\n",
       "    </tr>\n",
       "    <tr>\n",
       "      <th>model_2</th>\n",
       "      <td>[10001, 10003, 10006, 10012, 10014, 10017, 100...</td>\n",
       "      <td>1918</td>\n",
       "      <td>31.192064</td>\n",
       "      <td>21.419331</td>\n",
       "    </tr>\n",
       "    <tr>\n",
       "      <th>model_3</th>\n",
       "      <td>[10000, 10002, 10016, 10018, 10019, 10026, 100...</td>\n",
       "      <td>789</td>\n",
       "      <td>12.831355</td>\n",
       "      <td>11.987284</td>\n",
       "    </tr>\n",
       "    <tr>\n",
       "      <th>model_4</th>\n",
       "      <td>[10080, 10092, 10167, 10168, 10171, 10206, 102...</td>\n",
       "      <td>153</td>\n",
       "      <td>2.488209</td>\n",
       "      <td>5.512259</td>\n",
       "    </tr>\n",
       "    <tr>\n",
       "      <th>model_5</th>\n",
       "      <td>[10110, 10408, 10411, 10600, 10719, 11058, 119...</td>\n",
       "      <td>23</td>\n",
       "      <td>0.374045</td>\n",
       "      <td>0.192302</td>\n",
       "    </tr>\n",
       "    <tr>\n",
       "      <th>model_6</th>\n",
       "      <td>[10495, 10693, 11157, 11183, 11206, 11319, 114...</td>\n",
       "      <td>10</td>\n",
       "      <td>0.162628</td>\n",
       "      <td>0.011114</td>\n",
       "    </tr>\n",
       "    <tr>\n",
       "      <th>model_7</th>\n",
       "      <td>[10075, 10244, 10556, 10694, 10744, 10922, 111...</td>\n",
       "      <td>36</td>\n",
       "      <td>0.585461</td>\n",
       "      <td>0.216300</td>\n",
       "    </tr>\n",
       "    <tr>\n",
       "      <th>model_8</th>\n",
       "      <td>[10202, 10286, 10458, 10690, 11086, 11416, 114...</td>\n",
       "      <td>25</td>\n",
       "      <td>0.406570</td>\n",
       "      <td>0.218649</td>\n",
       "    </tr>\n",
       "  </tbody>\n",
       "</table>\n",
       "</div>"
      ],
      "text/plain": [
       "                                                    user_id  count  \\\n",
       "model_nm                                                             \n",
       "model_0   [10004, 10005, 10007, 10008, 10011, 10013, 100...   1769   \n",
       "model_1   [10006, 10009, 10010, 10021, 10023, 10031, 100...   1426   \n",
       "model_2   [10001, 10003, 10006, 10012, 10014, 10017, 100...   1918   \n",
       "model_3   [10000, 10002, 10016, 10018, 10019, 10026, 100...    789   \n",
       "model_4   [10080, 10092, 10167, 10168, 10171, 10206, 102...    153   \n",
       "model_5   [10110, 10408, 10411, 10600, 10719, 11058, 119...     23   \n",
       "model_6   [10495, 10693, 11157, 11183, 11206, 11319, 114...     10   \n",
       "model_7   [10075, 10244, 10556, 10694, 10744, 10922, 111...     36   \n",
       "model_8   [10202, 10286, 10458, 10690, 11086, 11416, 114...     25   \n",
       "\n",
       "          problem_rate  error_rate  \n",
       "model_nm                            \n",
       "model_0      28.768906   26.026404  \n",
       "model_1      23.190763   34.416356  \n",
       "model_2      31.192064   21.419331  \n",
       "model_3      12.831355   11.987284  \n",
       "model_4       2.488209    5.512259  \n",
       "model_5       0.374045    0.192302  \n",
       "model_6       0.162628    0.011114  \n",
       "model_7       0.585461    0.216300  \n",
       "model_8       0.406570    0.218649  "
      ]
     },
     "execution_count": 65,
     "metadata": {},
     "output_type": "execute_result"
    }
   ],
   "source": [
    "id_model"
   ]
  },
  {
   "cell_type": "code",
   "execution_count": 66,
   "metadata": {
    "ExecuteTime": {
     "end_time": "2022-06-08T14:27:58.691560Z",
     "start_time": "2022-06-08T14:27:58.568646Z"
    }
   },
   "outputs": [
    {
     "data": {
      "image/png": "[encoded data removed]",
      "text/plain": [
       "<Figure size 864x864 with 2 Axes>"
      ]
     },
     "metadata": {},
     "output_type": "display_data"
    }
   ],
   "source": [
    "plt.figure(figsize=(12,12))\n",
    "plt.subplot(121)\n",
    "plt.title('에러가 나는 비율', fontsize=16)\n",
    "plt.pie(id_model['error_rate'], labels=id_model.index, autopct='%.2f%%', textprops={'fontsize':15})\n",
    "\n",
    "plt.subplot(122)\n",
    "plt.title('불만 제기되는 비율', fontsize=16)\n",
    "plt.pie(id_model['problem_rate'], labels=id_model.index, autopct='%.2f%%', textprops={'fontsize':15})\n",
    "plt.show()"
   ]
  },
  {
   "cell_type": "markdown",
   "metadata": {},
   "source": [
    "- 에러는 model_1  > model_0 > model_2 순서로 많지만\n",
    "- 해당 에러로 불만을 제기하는 사용자는 model_2 > model_0 > model_1 순서\n",
    "- 모델에 따라 불만 제기 확률 편차가 크기 때문에 model_nm은 유의미한 column"
   ]
  },
  {
   "cell_type": "markdown",
   "metadata": {},
   "source": [
    "#### model_nm 변경"
   ]
  },
  {
   "cell_type": "code",
   "execution_count": 102,
   "metadata": {
    "ExecuteTime": {
     "end_time": "2022-06-09T03:24:09.817836Z",
     "start_time": "2022-06-09T03:24:09.712715Z"
    }
   },
   "outputs": [],
   "source": [
    "change_model =  train_err[['user_id', 'model_nm']]"
   ]
  },
  {
   "cell_type": "code",
   "execution_count": 101,
   "metadata": {
    "ExecuteTime": {
     "end_time": "2022-06-09T03:24:05.079642Z",
     "start_time": "2022-06-09T03:24:05.073802Z"
    },
    "scrolled": true
   },
   "outputs": [],
   "source": [
    "change_model = change_model.drop_duplicates(subset=None, keep='first')"
   ]
  },
  {
   "cell_type": "code",
   "execution_count": 88,
   "metadata": {
    "ExecuteTime": {
     "end_time": "2022-06-09T03:16:02.315335Z",
     "start_time": "2022-06-09T03:16:02.311442Z"
    }
   },
   "outputs": [],
   "source": [
    "user_model_num = change_model.user_id.value_counts()\n",
    "user_has_2models = list(user_model_num.loc[user_model_num > 1].to_frame().index)"
   ]
  },
  {
   "cell_type": "code",
   "execution_count": 184,
   "metadata": {
    "ExecuteTime": {
     "end_time": "2022-06-09T05:33:04.668660Z",
     "start_time": "2022-06-09T05:33:04.663793Z"
    }
   },
   "outputs": [
    {
     "name": "stdout",
     "output_type": "stream",
     "text": [
      "모델이 변경되고 불만을 제기한 사람 91.4651493598862% \n"
     ]
    }
   ],
   "source": [
    "user_sum = len(user_has_2models)\n",
    "user_prob_sum = len(list(train_problem[train_problem['user_id'].isin(user_has_2models)].user_id.unique()))\n",
    "\n",
    "print(f\"모델이 변경되고 불만을 제기한 사람 {user_prob_sum/user_sum*100}% \")"
   ]
  },
  {
   "cell_type": "markdown",
   "metadata": {},
   "source": [
    "- model_nm 변경이 불만 제기에 많은 영향을 미친다"
   ]
  },
  {
   "cell_type": "markdown",
   "metadata": {},
   "source": [
    "#### model_nm - fwver"
   ]
  },
  {
   "cell_type": "code",
   "execution_count": 72,
   "metadata": {
    "ExecuteTime": {
     "end_time": "2022-06-09T03:10:30.552207Z",
     "start_time": "2022-06-09T03:10:29.253020Z"
    }
   },
   "outputs": [
    {
     "data": {
      "text/html": [
       "<div>\n",
       "<style scoped>\n",
       "    .dataframe tbody tr th:only-of-type {\n",
       "        vertical-align: middle;\n",
       "    }\n",
       "\n",
       "    .dataframe tbody tr th {\n",
       "        vertical-align: top;\n",
       "    }\n",
       "\n",
       "    .dataframe thead th {\n",
       "        text-align: right;\n",
       "    }\n",
       "</style>\n",
       "<table border=\"1\" class=\"dataframe\">\n",
       "  <thead>\n",
       "    <tr style=\"text-align: right;\">\n",
       "      <th></th>\n",
       "      <th>model_nm</th>\n",
       "      <th>fwver</th>\n",
       "    </tr>\n",
       "  </thead>\n",
       "  <tbody>\n",
       "    <tr>\n",
       "      <th>0</th>\n",
       "      <td>model_0</td>\n",
       "      <td>[04.22.1750, 04.22.1778, 04.22.1684, 04.22.166...</td>\n",
       "    </tr>\n",
       "    <tr>\n",
       "      <th>1</th>\n",
       "      <td>model_1</td>\n",
       "      <td>[04.16.3553, 04.16.3571, 04.16.3439, 04.16.356...</td>\n",
       "    </tr>\n",
       "    <tr>\n",
       "      <th>2</th>\n",
       "      <td>model_2</td>\n",
       "      <td>[04.33.1185, 04.33.1261, 04.33.1149, 04.33.117...</td>\n",
       "    </tr>\n",
       "    <tr>\n",
       "      <th>3</th>\n",
       "      <td>model_3</td>\n",
       "      <td>[05.15.2138, 05.15.2120, 05.15.2090, 05.15.310...</td>\n",
       "    </tr>\n",
       "    <tr>\n",
       "      <th>4</th>\n",
       "      <td>model_4</td>\n",
       "      <td>[03.11.1149, 03.11.1167, 03.11.1141]</td>\n",
       "    </tr>\n",
       "    <tr>\n",
       "      <th>5</th>\n",
       "      <td>model_5</td>\n",
       "      <td>[04.82.1684, 04.82.1778, 04.82.1730]</td>\n",
       "    </tr>\n",
       "    <tr>\n",
       "      <th>6</th>\n",
       "      <td>model_6</td>\n",
       "      <td>[10, 8.5.3]</td>\n",
       "    </tr>\n",
       "    <tr>\n",
       "      <th>7</th>\n",
       "      <td>model_7</td>\n",
       "      <td>[05.66.3237, 05.66.3571]</td>\n",
       "    </tr>\n",
       "    <tr>\n",
       "      <th>8</th>\n",
       "      <td>model_8</td>\n",
       "      <td>[04.73.2237, 04.73.2571]</td>\n",
       "    </tr>\n",
       "  </tbody>\n",
       "</table>\n",
       "</div>"
      ],
      "text/plain": [
       "  model_nm                                              fwver\n",
       "0  model_0  [04.22.1750, 04.22.1778, 04.22.1684, 04.22.166...\n",
       "1  model_1  [04.16.3553, 04.16.3571, 04.16.3439, 04.16.356...\n",
       "2  model_2  [04.33.1185, 04.33.1261, 04.33.1149, 04.33.117...\n",
       "3  model_3  [05.15.2138, 05.15.2120, 05.15.2090, 05.15.310...\n",
       "4  model_4               [03.11.1149, 03.11.1167, 03.11.1141]\n",
       "5  model_5               [04.82.1684, 04.82.1778, 04.82.1730]\n",
       "6  model_6                                        [10, 8.5.3]\n",
       "7  model_7                           [05.66.3237, 05.66.3571]\n",
       "8  model_8                           [04.73.2237, 04.73.2571]"
      ]
     },
     "execution_count": 72,
     "metadata": {},
     "output_type": "execute_result"
    }
   ],
   "source": [
    "model_fwver = train_err.groupby('model_nm')['fwver'].unique().to_frame().reset_index()\n",
    "model_fwver"
   ]
  },
  {
   "cell_type": "code",
   "execution_count": 27,
   "metadata": {
    "ExecuteTime": {
     "end_time": "2022-06-09T01:20:02.686991Z",
     "start_time": "2022-06-09T01:20:02.683097Z"
    }
   },
   "outputs": [
    {
     "name": "stdout",
     "output_type": "stream",
     "text": [
      "model_0 -> \n",
      " ['04.22.1442', '04.22.1656', '04.22.1666', '04.22.1684', '04.22.1750', '04.22.1778']\n",
      "model_1 -> \n",
      " ['04.16.2641', '04.16.3345', '04.16.3439', '04.16.3553', '04.16.3569', '04.16.3571']\n",
      "model_2 -> \n",
      " ['04.33.1095', '04.33.1125', '04.33.1149', '04.33.1171', '04.33.1185', '04.33.1261']\n",
      "model_3 -> \n",
      " ['05.15.2090', '05.15.2092', '05.15.2114', '05.15.2120', '05.15.2122', '05.15.2138', '05.15.3104']\n",
      "model_4 -> \n",
      " ['03.11.1141', '03.11.1149', '03.11.1167']\n",
      "model_5 -> \n",
      " ['04.82.1684', '04.82.1730', '04.82.1778']\n",
      "model_6 -> \n",
      " ['10', '8.5.3']\n",
      "model_7 -> \n",
      " ['05.66.3237', '05.66.3571']\n",
      "model_8 -> \n",
      " ['04.73.2237', '04.73.2571']\n"
     ]
    }
   ],
   "source": [
    "# model_6를 제외하고 모델별로 4번째까지 같은 펌웨어 번호를 사용한다.\n",
    "\n",
    "for nm in range(len(model_fwver.index)):\n",
    "    print(f\"{model_fwver.index[nm]} -> \\n {sorted(model_fwver.iloc[nm][0])}\")"
   ]
  },
  {
   "cell_type": "markdown",
   "metadata": {},
   "source": [
    "- model과 fwver은 관련성이 높다 -> fwver만 사용해도 될지?"
   ]
  },
  {
   "cell_type": "markdown",
   "metadata": {},
   "source": [
    "### fwver 분석"
   ]
  },
  {
   "cell_type": "markdown",
   "metadata": {},
   "source": [
    "#### fwver에 따른 불만율"
   ]
  },
  {
   "cell_type": "code",
   "execution_count": 114,
   "metadata": {
    "ExecuteTime": {
     "end_time": "2022-06-09T04:17:54.369314Z",
     "start_time": "2022-06-09T04:17:54.262210Z"
    }
   },
   "outputs": [],
   "source": [
    "fwver_df = train_err[['user_id', 'fwver']]"
   ]
  },
  {
   "cell_type": "code",
   "execution_count": 118,
   "metadata": {
    "ExecuteTime": {
     "end_time": "2022-06-09T04:19:47.564811Z",
     "start_time": "2022-06-09T04:19:46.781039Z"
    }
   },
   "outputs": [
    {
     "data": {
      "text/html": [
       "<div>\n",
       "<style scoped>\n",
       "    .dataframe tbody tr th:only-of-type {\n",
       "        vertical-align: middle;\n",
       "    }\n",
       "\n",
       "    .dataframe tbody tr th {\n",
       "        vertical-align: top;\n",
       "    }\n",
       "\n",
       "    .dataframe thead th {\n",
       "        text-align: right;\n",
       "    }\n",
       "</style>\n",
       "<table border=\"1\" class=\"dataframe\">\n",
       "  <thead>\n",
       "    <tr style=\"text-align: right;\">\n",
       "      <th></th>\n",
       "      <th>user_id</th>\n",
       "      <th>fwver</th>\n",
       "    </tr>\n",
       "  </thead>\n",
       "  <tbody>\n",
       "    <tr>\n",
       "      <th>0</th>\n",
       "      <td>10000</td>\n",
       "      <td>05.15.2138</td>\n",
       "    </tr>\n",
       "    <tr>\n",
       "      <th>316</th>\n",
       "      <td>10001</td>\n",
       "      <td>04.33.1185</td>\n",
       "    </tr>\n",
       "    <tr>\n",
       "      <th>684</th>\n",
       "      <td>10001</td>\n",
       "      <td>04.33.1261</td>\n",
       "    </tr>\n",
       "    <tr>\n",
       "      <th>2661</th>\n",
       "      <td>10002</td>\n",
       "      <td>05.15.2138</td>\n",
       "    </tr>\n",
       "    <tr>\n",
       "      <th>2966</th>\n",
       "      <td>10003</td>\n",
       "      <td>04.33.1185</td>\n",
       "    </tr>\n",
       "    <tr>\n",
       "      <th>...</th>\n",
       "      <td>...</td>\n",
       "      <td>...</td>\n",
       "    </tr>\n",
       "    <tr>\n",
       "      <th>15366473</th>\n",
       "      <td>24997</td>\n",
       "      <td>04.22.1750</td>\n",
       "    </tr>\n",
       "    <tr>\n",
       "      <th>15366933</th>\n",
       "      <td>24997</td>\n",
       "      <td>04.22.1778</td>\n",
       "    </tr>\n",
       "    <tr>\n",
       "      <th>15367291</th>\n",
       "      <td>24998</td>\n",
       "      <td>04.22.1750</td>\n",
       "    </tr>\n",
       "    <tr>\n",
       "      <th>15367299</th>\n",
       "      <td>24998</td>\n",
       "      <td>04.22.1778</td>\n",
       "    </tr>\n",
       "    <tr>\n",
       "      <th>15367435</th>\n",
       "      <td>24999</td>\n",
       "      <td>05.15.2138</td>\n",
       "    </tr>\n",
       "  </tbody>\n",
       "</table>\n",
       "<p>24062 rows × 2 columns</p>\n",
       "</div>"
      ],
      "text/plain": [
       "          user_id       fwver\n",
       "0           10000  05.15.2138\n",
       "316         10001  04.33.1185\n",
       "684         10001  04.33.1261\n",
       "2661        10002  05.15.2138\n",
       "2966        10003  04.33.1185\n",
       "...           ...         ...\n",
       "15366473    24997  04.22.1750\n",
       "15366933    24997  04.22.1778\n",
       "15367291    24998  04.22.1750\n",
       "15367299    24998  04.22.1778\n",
       "15367435    24999  05.15.2138\n",
       "\n",
       "[24062 rows x 2 columns]"
      ]
     },
     "execution_count": 118,
     "metadata": {},
     "output_type": "execute_result"
    }
   ],
   "source": [
    "fwver_df = fwver_df.drop_duplicates(subset=None, keep='first')"
   ]
  },
  {
   "cell_type": "code",
   "execution_count": 129,
   "metadata": {
    "ExecuteTime": {
     "end_time": "2022-06-09T04:23:53.533917Z",
     "start_time": "2022-06-09T04:23:53.513476Z"
    },
    "scrolled": true
   },
   "outputs": [
    {
     "data": {
      "text/html": [
       "<div>\n",
       "<style scoped>\n",
       "    .dataframe tbody tr th:only-of-type {\n",
       "        vertical-align: middle;\n",
       "    }\n",
       "\n",
       "    .dataframe tbody tr th {\n",
       "        vertical-align: top;\n",
       "    }\n",
       "\n",
       "    .dataframe thead th {\n",
       "        text-align: right;\n",
       "    }\n",
       "</style>\n",
       "<table border=\"1\" class=\"dataframe\">\n",
       "  <thead>\n",
       "    <tr style=\"text-align: right;\">\n",
       "      <th></th>\n",
       "      <th>fwver</th>\n",
       "      <th>user_id</th>\n",
       "    </tr>\n",
       "  </thead>\n",
       "  <tbody>\n",
       "    <tr>\n",
       "      <th>0</th>\n",
       "      <td>03.11.1141</td>\n",
       "      <td>[13383, 14319]</td>\n",
       "    </tr>\n",
       "    <tr>\n",
       "      <th>1</th>\n",
       "      <td>03.11.1149</td>\n",
       "      <td>[10080, 12659, 14956, 16535, 23098, 24175]</td>\n",
       "    </tr>\n",
       "    <tr>\n",
       "      <th>2</th>\n",
       "      <td>03.11.1167</td>\n",
       "      <td>[10092, 10167, 10168, 10171, 10206, 10207, 102...</td>\n",
       "    </tr>\n",
       "    <tr>\n",
       "      <th>3</th>\n",
       "      <td>04.16.2641</td>\n",
       "      <td>[21965]</td>\n",
       "    </tr>\n",
       "    <tr>\n",
       "      <th>4</th>\n",
       "      <td>04.16.3345</td>\n",
       "      <td>[23726, 23860]</td>\n",
       "    </tr>\n",
       "    <tr>\n",
       "      <th>5</th>\n",
       "      <td>04.16.3439</td>\n",
       "      <td>[14840, 15345, 15950, 16920, 20813, 21638]</td>\n",
       "    </tr>\n",
       "    <tr>\n",
       "      <th>6</th>\n",
       "      <td>04.16.3553</td>\n",
       "      <td>[10006, 10009, 10010, 10021, 10023, 10031, 100...</td>\n",
       "    </tr>\n",
       "    <tr>\n",
       "      <th>7</th>\n",
       "      <td>04.16.3569</td>\n",
       "      <td>[17036, 19373]</td>\n",
       "    </tr>\n",
       "    <tr>\n",
       "      <th>8</th>\n",
       "      <td>04.16.3571</td>\n",
       "      <td>[10023, 10050, 10082, 10102, 10119, 10133, 101...</td>\n",
       "    </tr>\n",
       "    <tr>\n",
       "      <th>9</th>\n",
       "      <td>04.22.1442</td>\n",
       "      <td>[14958, 23842]</td>\n",
       "    </tr>\n",
       "    <tr>\n",
       "      <th>10</th>\n",
       "      <td>04.22.1656</td>\n",
       "      <td>[19831]</td>\n",
       "    </tr>\n",
       "    <tr>\n",
       "      <th>11</th>\n",
       "      <td>04.22.1666</td>\n",
       "      <td>[13198, 19592]</td>\n",
       "    </tr>\n",
       "    <tr>\n",
       "      <th>12</th>\n",
       "      <td>04.22.1684</td>\n",
       "      <td>[10083, 10276, 11015, 11482, 11635, 11773, 122...</td>\n",
       "    </tr>\n",
       "    <tr>\n",
       "      <th>13</th>\n",
       "      <td>04.22.1750</td>\n",
       "      <td>[10004, 10005, 10007, 10008, 10011, 10013, 100...</td>\n",
       "    </tr>\n",
       "    <tr>\n",
       "      <th>14</th>\n",
       "      <td>04.22.1778</td>\n",
       "      <td>[10004, 10005, 10007, 10008, 10011, 10013, 100...</td>\n",
       "    </tr>\n",
       "    <tr>\n",
       "      <th>15</th>\n",
       "      <td>04.33.1095</td>\n",
       "      <td>[16260, 17752]</td>\n",
       "    </tr>\n",
       "    <tr>\n",
       "      <th>16</th>\n",
       "      <td>04.33.1125</td>\n",
       "      <td>[14347, 17287, 18382, 20863, 23931, 24818]</td>\n",
       "    </tr>\n",
       "    <tr>\n",
       "      <th>17</th>\n",
       "      <td>04.33.1149</td>\n",
       "      <td>[10017, 10031, 10055, 10173, 10284, 10373, 103...</td>\n",
       "    </tr>\n",
       "    <tr>\n",
       "      <th>18</th>\n",
       "      <td>04.33.1171</td>\n",
       "      <td>[10123, 22223, 22720, 23313]</td>\n",
       "    </tr>\n",
       "    <tr>\n",
       "      <th>19</th>\n",
       "      <td>04.33.1185</td>\n",
       "      <td>[10001, 10003, 10012, 10014, 10020, 10022, 100...</td>\n",
       "    </tr>\n",
       "    <tr>\n",
       "      <th>20</th>\n",
       "      <td>04.33.1261</td>\n",
       "      <td>[10001, 10003, 10006, 10012, 10014, 10017, 100...</td>\n",
       "    </tr>\n",
       "    <tr>\n",
       "      <th>21</th>\n",
       "      <td>04.73.2237</td>\n",
       "      <td>[10202, 10286, 10458, 10690, 11086, 11416, 114...</td>\n",
       "    </tr>\n",
       "    <tr>\n",
       "      <th>22</th>\n",
       "      <td>04.73.2571</td>\n",
       "      <td>[11086, 13445, 13669, 15949, 19077, 19555, 195...</td>\n",
       "    </tr>\n",
       "    <tr>\n",
       "      <th>23</th>\n",
       "      <td>04.82.1684</td>\n",
       "      <td>[10110, 10408, 10411, 10719, 11058, 11902, 120...</td>\n",
       "    </tr>\n",
       "    <tr>\n",
       "      <th>24</th>\n",
       "      <td>04.82.1730</td>\n",
       "      <td>[10600]</td>\n",
       "    </tr>\n",
       "    <tr>\n",
       "      <th>25</th>\n",
       "      <td>04.82.1778</td>\n",
       "      <td>[10110, 10408, 10411, 10600, 10719, 11058, 119...</td>\n",
       "    </tr>\n",
       "    <tr>\n",
       "      <th>26</th>\n",
       "      <td>05.15.2090</td>\n",
       "      <td>[18142]</td>\n",
       "    </tr>\n",
       "    <tr>\n",
       "      <th>27</th>\n",
       "      <td>05.15.2092</td>\n",
       "      <td>[24279]</td>\n",
       "    </tr>\n",
       "    <tr>\n",
       "      <th>28</th>\n",
       "      <td>05.15.2114</td>\n",
       "      <td>[23476]</td>\n",
       "    </tr>\n",
       "    <tr>\n",
       "      <th>29</th>\n",
       "      <td>05.15.2120</td>\n",
       "      <td>[13390, 15531, 15590, 17022, 17055, 17376, 199...</td>\n",
       "    </tr>\n",
       "    <tr>\n",
       "      <th>30</th>\n",
       "      <td>05.15.2122</td>\n",
       "      <td>[19278]</td>\n",
       "    </tr>\n",
       "    <tr>\n",
       "      <th>31</th>\n",
       "      <td>05.15.2138</td>\n",
       "      <td>[10000, 10002, 10016, 10018, 10019, 10026, 100...</td>\n",
       "    </tr>\n",
       "    <tr>\n",
       "      <th>32</th>\n",
       "      <td>05.15.3104</td>\n",
       "      <td>[19062, 20366, 22550]</td>\n",
       "    </tr>\n",
       "    <tr>\n",
       "      <th>33</th>\n",
       "      <td>05.66.3237</td>\n",
       "      <td>[10075, 10244, 10556, 10694, 10744, 10922, 111...</td>\n",
       "    </tr>\n",
       "    <tr>\n",
       "      <th>34</th>\n",
       "      <td>05.66.3571</td>\n",
       "      <td>[10075, 11149, 12047, 13991, 14861, 16333, 175...</td>\n",
       "    </tr>\n",
       "    <tr>\n",
       "      <th>35</th>\n",
       "      <td>10</td>\n",
       "      <td>[10495, 10693, 11183, 11206, 11319, 11479, 116...</td>\n",
       "    </tr>\n",
       "    <tr>\n",
       "      <th>36</th>\n",
       "      <td>8.5.3</td>\n",
       "      <td>[11157, 12166, 13525, 13784, 15236, 20432, 222...</td>\n",
       "    </tr>\n",
       "  </tbody>\n",
       "</table>\n",
       "</div>"
      ],
      "text/plain": [
       "         fwver                                            user_id\n",
       "0   03.11.1141                                     [13383, 14319]\n",
       "1   03.11.1149         [10080, 12659, 14956, 16535, 23098, 24175]\n",
       "2   03.11.1167  [10092, 10167, 10168, 10171, 10206, 10207, 102...\n",
       "3   04.16.2641                                            [21965]\n",
       "4   04.16.3345                                     [23726, 23860]\n",
       "5   04.16.3439         [14840, 15345, 15950, 16920, 20813, 21638]\n",
       "6   04.16.3553  [10006, 10009, 10010, 10021, 10023, 10031, 100...\n",
       "7   04.16.3569                                     [17036, 19373]\n",
       "8   04.16.3571  [10023, 10050, 10082, 10102, 10119, 10133, 101...\n",
       "9   04.22.1442                                     [14958, 23842]\n",
       "10  04.22.1656                                            [19831]\n",
       "11  04.22.1666                                     [13198, 19592]\n",
       "12  04.22.1684  [10083, 10276, 11015, 11482, 11635, 11773, 122...\n",
       "13  04.22.1750  [10004, 10005, 10007, 10008, 10011, 10013, 100...\n",
       "14  04.22.1778  [10004, 10005, 10007, 10008, 10011, 10013, 100...\n",
       "15  04.33.1095                                     [16260, 17752]\n",
       "16  04.33.1125         [14347, 17287, 18382, 20863, 23931, 24818]\n",
       "17  04.33.1149  [10017, 10031, 10055, 10173, 10284, 10373, 103...\n",
       "18  04.33.1171                       [10123, 22223, 22720, 23313]\n",
       "19  04.33.1185  [10001, 10003, 10012, 10014, 10020, 10022, 100...\n",
       "20  04.33.1261  [10001, 10003, 10006, 10012, 10014, 10017, 100...\n",
       "21  04.73.2237  [10202, 10286, 10458, 10690, 11086, 11416, 114...\n",
       "22  04.73.2571  [11086, 13445, 13669, 15949, 19077, 19555, 195...\n",
       "23  04.82.1684  [10110, 10408, 10411, 10719, 11058, 11902, 120...\n",
       "24  04.82.1730                                            [10600]\n",
       "25  04.82.1778  [10110, 10408, 10411, 10600, 10719, 11058, 119...\n",
       "26  05.15.2090                                            [18142]\n",
       "27  05.15.2092                                            [24279]\n",
       "28  05.15.2114                                            [23476]\n",
       "29  05.15.2120  [13390, 15531, 15590, 17022, 17055, 17376, 199...\n",
       "30  05.15.2122                                            [19278]\n",
       "31  05.15.2138  [10000, 10002, 10016, 10018, 10019, 10026, 100...\n",
       "32  05.15.3104                              [19062, 20366, 22550]\n",
       "33  05.66.3237  [10075, 10244, 10556, 10694, 10744, 10922, 111...\n",
       "34  05.66.3571  [10075, 11149, 12047, 13991, 14861, 16333, 175...\n",
       "35          10  [10495, 10693, 11183, 11206, 11319, 11479, 116...\n",
       "36       8.5.3  [11157, 12166, 13525, 13784, 15236, 20432, 222..."
      ]
     },
     "execution_count": 129,
     "metadata": {},
     "output_type": "execute_result"
    }
   ],
   "source": [
    "user_fwver = fwver_df.groupby('fwver')['user_id'].unique().to_frame().reset_index()"
   ]
  },
  {
   "cell_type": "code",
   "execution_count": 158,
   "metadata": {
    "ExecuteTime": {
     "end_time": "2022-06-09T04:34:54.631360Z",
     "start_time": "2022-06-09T04:34:54.444481Z"
    }
   },
   "outputs": [
    {
     "name": "stderr",
     "output_type": "stream",
     "text": [
      "C:\\Users\\gmlkd\\AppData\\Local\\Temp\\ipykernel_13560\\22580806.py:2: SettingWithCopyWarning: \n",
      "A value is trying to be set on a copy of a slice from a DataFrame\n",
      "\n",
      "See the caveats in the documentation: https://pandas.pydata.org/pandas-docs/stable/user_guide/indexing.html#returning-a-view-versus-a-copy\n",
      "  user_fwver['count'][i] = len(list(train_problem[train_problem['user_id'].isin(user_fwver.user_id[i])].user_id.unique()))\n"
     ]
    }
   ],
   "source": [
    "for i in range(37):\n",
    "    user_fwver['count'][i] = len(list(train_problem[train_problem['user_id'].isin(user_fwver.user_id[i])].user_id.unique()))\n"
   ]
  },
  {
   "cell_type": "code",
   "execution_count": 153,
   "metadata": {
    "ExecuteTime": {
     "end_time": "2022-06-09T04:33:42.934504Z",
     "start_time": "2022-06-09T04:33:42.930611Z"
    }
   },
   "outputs": [],
   "source": [
    "user_fwver['rate'] = 0"
   ]
  },
  {
   "cell_type": "code",
   "execution_count": 156,
   "metadata": {
    "ExecuteTime": {
     "end_time": "2022-06-09T04:34:34.908240Z",
     "start_time": "2022-06-09T04:34:34.904346Z"
    }
   },
   "outputs": [],
   "source": [
    "for i in range(37):\n",
    "        user_fwver['rate'][i] = round(user_fwver['count'][i]/len(user_fwver.user_id[i]) * 100, 2)"
   ]
  },
  {
   "cell_type": "code",
   "execution_count": 159,
   "metadata": {
    "ExecuteTime": {
     "end_time": "2022-06-09T04:34:57.259942Z",
     "start_time": "2022-06-09T04:34:57.240474Z"
    },
    "scrolled": true
   },
   "outputs": [
    {
     "data": {
      "text/html": [
       "<div>\n",
       "<style scoped>\n",
       "    .dataframe tbody tr th:only-of-type {\n",
       "        vertical-align: middle;\n",
       "    }\n",
       "\n",
       "    .dataframe tbody tr th {\n",
       "        vertical-align: top;\n",
       "    }\n",
       "\n",
       "    .dataframe thead th {\n",
       "        text-align: right;\n",
       "    }\n",
       "</style>\n",
       "<table border=\"1\" class=\"dataframe\">\n",
       "  <thead>\n",
       "    <tr style=\"text-align: right;\">\n",
       "      <th></th>\n",
       "      <th>fwver</th>\n",
       "      <th>user_id</th>\n",
       "      <th>count</th>\n",
       "      <th>rate</th>\n",
       "    </tr>\n",
       "  </thead>\n",
       "  <tbody>\n",
       "    <tr>\n",
       "      <th>0</th>\n",
       "      <td>03.11.1141</td>\n",
       "      <td>[13383, 14319]</td>\n",
       "      <td>1</td>\n",
       "      <td>50.00</td>\n",
       "    </tr>\n",
       "    <tr>\n",
       "      <th>1</th>\n",
       "      <td>03.11.1149</td>\n",
       "      <td>[10080, 12659, 14956, 16535, 23098, 24175]</td>\n",
       "      <td>0</td>\n",
       "      <td>0.00</td>\n",
       "    </tr>\n",
       "    <tr>\n",
       "      <th>2</th>\n",
       "      <td>03.11.1167</td>\n",
       "      <td>[10092, 10167, 10168, 10171, 10206, 10207, 102...</td>\n",
       "      <td>141</td>\n",
       "      <td>20.64</td>\n",
       "    </tr>\n",
       "    <tr>\n",
       "      <th>3</th>\n",
       "      <td>04.16.2641</td>\n",
       "      <td>[21965]</td>\n",
       "      <td>1</td>\n",
       "      <td>100.00</td>\n",
       "    </tr>\n",
       "    <tr>\n",
       "      <th>4</th>\n",
       "      <td>04.16.3345</td>\n",
       "      <td>[23726, 23860]</td>\n",
       "      <td>1</td>\n",
       "      <td>50.00</td>\n",
       "    </tr>\n",
       "    <tr>\n",
       "      <th>5</th>\n",
       "      <td>04.16.3439</td>\n",
       "      <td>[14840, 15345, 15950, 16920, 20813, 21638]</td>\n",
       "      <td>2</td>\n",
       "      <td>33.33</td>\n",
       "    </tr>\n",
       "    <tr>\n",
       "      <th>6</th>\n",
       "      <td>04.16.3553</td>\n",
       "      <td>[10006, 10009, 10010, 10021, 10023, 10031, 100...</td>\n",
       "      <td>1314</td>\n",
       "      <td>46.32</td>\n",
       "    </tr>\n",
       "    <tr>\n",
       "      <th>7</th>\n",
       "      <td>04.16.3569</td>\n",
       "      <td>[17036, 19373]</td>\n",
       "      <td>2</td>\n",
       "      <td>100.00</td>\n",
       "    </tr>\n",
       "    <tr>\n",
       "      <th>8</th>\n",
       "      <td>04.16.3571</td>\n",
       "      <td>[10023, 10050, 10082, 10102, 10119, 10133, 101...</td>\n",
       "      <td>295</td>\n",
       "      <td>58.76</td>\n",
       "    </tr>\n",
       "    <tr>\n",
       "      <th>9</th>\n",
       "      <td>04.22.1442</td>\n",
       "      <td>[14958, 23842]</td>\n",
       "      <td>1</td>\n",
       "      <td>50.00</td>\n",
       "    </tr>\n",
       "    <tr>\n",
       "      <th>10</th>\n",
       "      <td>04.22.1656</td>\n",
       "      <td>[19831]</td>\n",
       "      <td>1</td>\n",
       "      <td>100.00</td>\n",
       "    </tr>\n",
       "    <tr>\n",
       "      <th>11</th>\n",
       "      <td>04.22.1666</td>\n",
       "      <td>[13198, 19592]</td>\n",
       "      <td>0</td>\n",
       "      <td>0.00</td>\n",
       "    </tr>\n",
       "    <tr>\n",
       "      <th>12</th>\n",
       "      <td>04.22.1684</td>\n",
       "      <td>[10083, 10276, 11015, 11482, 11635, 11773, 122...</td>\n",
       "      <td>28</td>\n",
       "      <td>48.28</td>\n",
       "    </tr>\n",
       "    <tr>\n",
       "      <th>13</th>\n",
       "      <td>04.22.1750</td>\n",
       "      <td>[10004, 10005, 10007, 10008, 10011, 10013, 100...</td>\n",
       "      <td>1630</td>\n",
       "      <td>37.64</td>\n",
       "    </tr>\n",
       "    <tr>\n",
       "      <th>14</th>\n",
       "      <td>04.22.1778</td>\n",
       "      <td>[10004, 10005, 10007, 10008, 10011, 10013, 100...</td>\n",
       "      <td>1586</td>\n",
       "      <td>38.00</td>\n",
       "    </tr>\n",
       "    <tr>\n",
       "      <th>15</th>\n",
       "      <td>04.33.1095</td>\n",
       "      <td>[16260, 17752]</td>\n",
       "      <td>0</td>\n",
       "      <td>0.00</td>\n",
       "    </tr>\n",
       "    <tr>\n",
       "      <th>16</th>\n",
       "      <td>04.33.1125</td>\n",
       "      <td>[14347, 17287, 18382, 20863, 23931, 24818]</td>\n",
       "      <td>4</td>\n",
       "      <td>66.67</td>\n",
       "    </tr>\n",
       "    <tr>\n",
       "      <th>17</th>\n",
       "      <td>04.33.1149</td>\n",
       "      <td>[10017, 10031, 10055, 10173, 10284, 10373, 103...</td>\n",
       "      <td>112</td>\n",
       "      <td>70.00</td>\n",
       "    </tr>\n",
       "    <tr>\n",
       "      <th>18</th>\n",
       "      <td>04.33.1171</td>\n",
       "      <td>[10123, 22223, 22720, 23313]</td>\n",
       "      <td>1</td>\n",
       "      <td>25.00</td>\n",
       "    </tr>\n",
       "    <tr>\n",
       "      <th>19</th>\n",
       "      <td>04.33.1185</td>\n",
       "      <td>[10001, 10003, 10012, 10014, 10020, 10022, 100...</td>\n",
       "      <td>1128</td>\n",
       "      <td>32.83</td>\n",
       "    </tr>\n",
       "    <tr>\n",
       "      <th>20</th>\n",
       "      <td>04.33.1261</td>\n",
       "      <td>[10001, 10003, 10006, 10012, 10014, 10017, 100...</td>\n",
       "      <td>1739</td>\n",
       "      <td>39.11</td>\n",
       "    </tr>\n",
       "    <tr>\n",
       "      <th>21</th>\n",
       "      <td>04.73.2237</td>\n",
       "      <td>[10202, 10286, 10458, 10690, 11086, 11416, 114...</td>\n",
       "      <td>22</td>\n",
       "      <td>45.83</td>\n",
       "    </tr>\n",
       "    <tr>\n",
       "      <th>22</th>\n",
       "      <td>04.73.2571</td>\n",
       "      <td>[11086, 13445, 13669, 15949, 19077, 19555, 195...</td>\n",
       "      <td>8</td>\n",
       "      <td>66.67</td>\n",
       "    </tr>\n",
       "    <tr>\n",
       "      <th>23</th>\n",
       "      <td>04.82.1684</td>\n",
       "      <td>[10110, 10408, 10411, 10719, 11058, 11902, 120...</td>\n",
       "      <td>19</td>\n",
       "      <td>48.72</td>\n",
       "    </tr>\n",
       "    <tr>\n",
       "      <th>24</th>\n",
       "      <td>04.82.1730</td>\n",
       "      <td>[10600]</td>\n",
       "      <td>1</td>\n",
       "      <td>100.00</td>\n",
       "    </tr>\n",
       "    <tr>\n",
       "      <th>25</th>\n",
       "      <td>04.82.1778</td>\n",
       "      <td>[10110, 10408, 10411, 10600, 10719, 11058, 119...</td>\n",
       "      <td>20</td>\n",
       "      <td>50.00</td>\n",
       "    </tr>\n",
       "    <tr>\n",
       "      <th>26</th>\n",
       "      <td>05.15.2090</td>\n",
       "      <td>[18142]</td>\n",
       "      <td>0</td>\n",
       "      <td>0.00</td>\n",
       "    </tr>\n",
       "    <tr>\n",
       "      <th>27</th>\n",
       "      <td>05.15.2092</td>\n",
       "      <td>[24279]</td>\n",
       "      <td>1</td>\n",
       "      <td>100.00</td>\n",
       "    </tr>\n",
       "    <tr>\n",
       "      <th>28</th>\n",
       "      <td>05.15.2114</td>\n",
       "      <td>[23476]</td>\n",
       "      <td>0</td>\n",
       "      <td>0.00</td>\n",
       "    </tr>\n",
       "    <tr>\n",
       "      <th>29</th>\n",
       "      <td>05.15.2120</td>\n",
       "      <td>[13390, 15531, 15590, 17022, 17055, 17376, 199...</td>\n",
       "      <td>2</td>\n",
       "      <td>20.00</td>\n",
       "    </tr>\n",
       "    <tr>\n",
       "      <th>30</th>\n",
       "      <td>05.15.2122</td>\n",
       "      <td>[19278]</td>\n",
       "      <td>0</td>\n",
       "      <td>0.00</td>\n",
       "    </tr>\n",
       "    <tr>\n",
       "      <th>31</th>\n",
       "      <td>05.15.2138</td>\n",
       "      <td>[10000, 10002, 10016, 10018, 10019, 10026, 100...</td>\n",
       "      <td>720</td>\n",
       "      <td>23.23</td>\n",
       "    </tr>\n",
       "    <tr>\n",
       "      <th>32</th>\n",
       "      <td>05.15.3104</td>\n",
       "      <td>[19062, 20366, 22550]</td>\n",
       "      <td>1</td>\n",
       "      <td>33.33</td>\n",
       "    </tr>\n",
       "    <tr>\n",
       "      <th>33</th>\n",
       "      <td>05.66.3237</td>\n",
       "      <td>[10075, 10244, 10556, 10694, 10744, 10922, 111...</td>\n",
       "      <td>32</td>\n",
       "      <td>52.46</td>\n",
       "    </tr>\n",
       "    <tr>\n",
       "      <th>34</th>\n",
       "      <td>05.66.3571</td>\n",
       "      <td>[10075, 11149, 12047, 13991, 14861, 16333, 175...</td>\n",
       "      <td>8</td>\n",
       "      <td>53.33</td>\n",
       "    </tr>\n",
       "    <tr>\n",
       "      <th>35</th>\n",
       "      <td>10</td>\n",
       "      <td>[10495, 10693, 11183, 11206, 11319, 11479, 116...</td>\n",
       "      <td>9</td>\n",
       "      <td>15.52</td>\n",
       "    </tr>\n",
       "    <tr>\n",
       "      <th>36</th>\n",
       "      <td>8.5.3</td>\n",
       "      <td>[11157, 12166, 13525, 13784, 15236, 20432, 222...</td>\n",
       "      <td>0</td>\n",
       "      <td>0.00</td>\n",
       "    </tr>\n",
       "  </tbody>\n",
       "</table>\n",
       "</div>"
      ],
      "text/plain": [
       "         fwver                                            user_id  count  \\\n",
       "0   03.11.1141                                     [13383, 14319]      1   \n",
       "1   03.11.1149         [10080, 12659, 14956, 16535, 23098, 24175]      0   \n",
       "2   03.11.1167  [10092, 10167, 10168, 10171, 10206, 10207, 102...    141   \n",
       "3   04.16.2641                                            [21965]      1   \n",
       "4   04.16.3345                                     [23726, 23860]      1   \n",
       "5   04.16.3439         [14840, 15345, 15950, 16920, 20813, 21638]      2   \n",
       "6   04.16.3553  [10006, 10009, 10010, 10021, 10023, 10031, 100...   1314   \n",
       "7   04.16.3569                                     [17036, 19373]      2   \n",
       "8   04.16.3571  [10023, 10050, 10082, 10102, 10119, 10133, 101...    295   \n",
       "9   04.22.1442                                     [14958, 23842]      1   \n",
       "10  04.22.1656                                            [19831]      1   \n",
       "11  04.22.1666                                     [13198, 19592]      0   \n",
       "12  04.22.1684  [10083, 10276, 11015, 11482, 11635, 11773, 122...     28   \n",
       "13  04.22.1750  [10004, 10005, 10007, 10008, 10011, 10013, 100...   1630   \n",
       "14  04.22.1778  [10004, 10005, 10007, 10008, 10011, 10013, 100...   1586   \n",
       "15  04.33.1095                                     [16260, 17752]      0   \n",
       "16  04.33.1125         [14347, 17287, 18382, 20863, 23931, 24818]      4   \n",
       "17  04.33.1149  [10017, 10031, 10055, 10173, 10284, 10373, 103...    112   \n",
       "18  04.33.1171                       [10123, 22223, 22720, 23313]      1   \n",
       "19  04.33.1185  [10001, 10003, 10012, 10014, 10020, 10022, 100...   1128   \n",
       "20  04.33.1261  [10001, 10003, 10006, 10012, 10014, 10017, 100...   1739   \n",
       "21  04.73.2237  [10202, 10286, 10458, 10690, 11086, 11416, 114...     22   \n",
       "22  04.73.2571  [11086, 13445, 13669, 15949, 19077, 19555, 195...      8   \n",
       "23  04.82.1684  [10110, 10408, 10411, 10719, 11058, 11902, 120...     19   \n",
       "24  04.82.1730                                            [10600]      1   \n",
       "25  04.82.1778  [10110, 10408, 10411, 10600, 10719, 11058, 119...     20   \n",
       "26  05.15.2090                                            [18142]      0   \n",
       "27  05.15.2092                                            [24279]      1   \n",
       "28  05.15.2114                                            [23476]      0   \n",
       "29  05.15.2120  [13390, 15531, 15590, 17022, 17055, 17376, 199...      2   \n",
       "30  05.15.2122                                            [19278]      0   \n",
       "31  05.15.2138  [10000, 10002, 10016, 10018, 10019, 10026, 100...    720   \n",
       "32  05.15.3104                              [19062, 20366, 22550]      1   \n",
       "33  05.66.3237  [10075, 10244, 10556, 10694, 10744, 10922, 111...     32   \n",
       "34  05.66.3571  [10075, 11149, 12047, 13991, 14861, 16333, 175...      8   \n",
       "35          10  [10495, 10693, 11183, 11206, 11319, 11479, 116...      9   \n",
       "36       8.5.3  [11157, 12166, 13525, 13784, 15236, 20432, 222...      0   \n",
       "\n",
       "      rate  \n",
       "0    50.00  \n",
       "1     0.00  \n",
       "2    20.64  \n",
       "3   100.00  \n",
       "4    50.00  \n",
       "5    33.33  \n",
       "6    46.32  \n",
       "7   100.00  \n",
       "8    58.76  \n",
       "9    50.00  \n",
       "10  100.00  \n",
       "11    0.00  \n",
       "12   48.28  \n",
       "13   37.64  \n",
       "14   38.00  \n",
       "15    0.00  \n",
       "16   66.67  \n",
       "17   70.00  \n",
       "18   25.00  \n",
       "19   32.83  \n",
       "20   39.11  \n",
       "21   45.83  \n",
       "22   66.67  \n",
       "23   48.72  \n",
       "24  100.00  \n",
       "25   50.00  \n",
       "26    0.00  \n",
       "27  100.00  \n",
       "28    0.00  \n",
       "29   20.00  \n",
       "30    0.00  \n",
       "31   23.23  \n",
       "32   33.33  \n",
       "33   52.46  \n",
       "34   53.33  \n",
       "35   15.52  \n",
       "36    0.00  "
      ]
     },
     "execution_count": 159,
     "metadata": {},
     "output_type": "execute_result"
    }
   ],
   "source": [
    "user_fwver"
   ]
  },
  {
   "cell_type": "code",
   "execution_count": 176,
   "metadata": {
    "ExecuteTime": {
     "end_time": "2022-06-09T04:46:08.515208Z",
     "start_time": "2022-06-09T04:46:08.142382Z"
    }
   },
   "outputs": [
    {
     "data": {
      "text/plain": [
       "<AxesSubplot:xlabel='fwver', ylabel='rate'>"
      ]
     },
     "execution_count": 176,
     "metadata": {},
     "output_type": "execute_result"
    },
    {
     "data": {
      "image/png": "[encoded data removed]",
      "text/plain": [
       "<Figure size 1008x576 with 1 Axes>"
      ]
     },
     "metadata": {
      "needs_background": "light"
     },
     "output_type": "display_data"
    }
   ],
   "source": [
    "plt.figure(figsize=(14,8))\n",
    "plt.xticks(rotation=45)\n",
    "sns.barplot(data=user_fwver, x='fwver', y='rate', order=user_fwver.sort_values('rate').fwver)"
   ]
  },
  {
   "cell_type": "markdown",
   "metadata": {},
   "source": [
    "- fwver에 따라 불만율 차이가 많이 난다"
   ]
  },
  {
   "cell_type": "markdown",
   "metadata": {},
   "source": [
    "#### fwver업데이트"
   ]
  },
  {
   "cell_type": "code",
   "execution_count": 177,
   "metadata": {
    "ExecuteTime": {
     "end_time": "2022-06-09T05:26:33.931705Z",
     "start_time": "2022-06-09T05:26:33.924891Z"
    }
   },
   "outputs": [
    {
     "data": {
      "text/html": [
       "<div>\n",
       "<style scoped>\n",
       "    .dataframe tbody tr th:only-of-type {\n",
       "        vertical-align: middle;\n",
       "    }\n",
       "\n",
       "    .dataframe tbody tr th {\n",
       "        vertical-align: top;\n",
       "    }\n",
       "\n",
       "    .dataframe thead th {\n",
       "        text-align: right;\n",
       "    }\n",
       "</style>\n",
       "<table border=\"1\" class=\"dataframe\">\n",
       "  <thead>\n",
       "    <tr style=\"text-align: right;\">\n",
       "      <th></th>\n",
       "      <th>user_id</th>\n",
       "      <th>fwver</th>\n",
       "    </tr>\n",
       "  </thead>\n",
       "  <tbody>\n",
       "    <tr>\n",
       "      <th>0</th>\n",
       "      <td>10000</td>\n",
       "      <td>05.15.2138</td>\n",
       "    </tr>\n",
       "    <tr>\n",
       "      <th>316</th>\n",
       "      <td>10001</td>\n",
       "      <td>04.33.1185</td>\n",
       "    </tr>\n",
       "    <tr>\n",
       "      <th>684</th>\n",
       "      <td>10001</td>\n",
       "      <td>04.33.1261</td>\n",
       "    </tr>\n",
       "    <tr>\n",
       "      <th>2661</th>\n",
       "      <td>10002</td>\n",
       "      <td>05.15.2138</td>\n",
       "    </tr>\n",
       "    <tr>\n",
       "      <th>2966</th>\n",
       "      <td>10003</td>\n",
       "      <td>04.33.1185</td>\n",
       "    </tr>\n",
       "    <tr>\n",
       "      <th>...</th>\n",
       "      <td>...</td>\n",
       "      <td>...</td>\n",
       "    </tr>\n",
       "    <tr>\n",
       "      <th>15366473</th>\n",
       "      <td>24997</td>\n",
       "      <td>04.22.1750</td>\n",
       "    </tr>\n",
       "    <tr>\n",
       "      <th>15366933</th>\n",
       "      <td>24997</td>\n",
       "      <td>04.22.1778</td>\n",
       "    </tr>\n",
       "    <tr>\n",
       "      <th>15367291</th>\n",
       "      <td>24998</td>\n",
       "      <td>04.22.1750</td>\n",
       "    </tr>\n",
       "    <tr>\n",
       "      <th>15367299</th>\n",
       "      <td>24998</td>\n",
       "      <td>04.22.1778</td>\n",
       "    </tr>\n",
       "    <tr>\n",
       "      <th>15367435</th>\n",
       "      <td>24999</td>\n",
       "      <td>05.15.2138</td>\n",
       "    </tr>\n",
       "  </tbody>\n",
       "</table>\n",
       "<p>24062 rows × 2 columns</p>\n",
       "</div>"
      ],
      "text/plain": [
       "          user_id       fwver\n",
       "0           10000  05.15.2138\n",
       "316         10001  04.33.1185\n",
       "684         10001  04.33.1261\n",
       "2661        10002  05.15.2138\n",
       "2966        10003  04.33.1185\n",
       "...           ...         ...\n",
       "15366473    24997  04.22.1750\n",
       "15366933    24997  04.22.1778\n",
       "15367291    24998  04.22.1750\n",
       "15367299    24998  04.22.1778\n",
       "15367435    24999  05.15.2138\n",
       "\n",
       "[24062 rows x 2 columns]"
      ]
     },
     "execution_count": 177,
     "metadata": {},
     "output_type": "execute_result"
    }
   ],
   "source": [
    "# fwver이 바뀌는 user가 많다. \n",
    "# fwver이 변경되었을 때 불만 제기율 확인\n",
    "# fwver_df 사용\n",
    "fwver_df"
   ]
  },
  {
   "cell_type": "code",
   "execution_count": 182,
   "metadata": {
    "ExecuteTime": {
     "end_time": "2022-06-09T05:31:04.950496Z",
     "start_time": "2022-06-09T05:31:04.944656Z"
    }
   },
   "outputs": [],
   "source": [
    "user_fwver_num = fwver_df['user_id'].value_counts()\n",
    "user_has_2fwvers = list(user_sum.loc[user_sum>1].to_frame().index)"
   ]
  },
  {
   "cell_type": "code",
   "execution_count": 185,
   "metadata": {
    "ExecuteTime": {
     "end_time": "2022-06-09T05:33:13.006229Z",
     "start_time": "2022-06-09T05:33:13.000389Z"
    }
   },
   "outputs": [
    {
     "name": "stdout",
     "output_type": "stream",
     "text": [
      "fwver가 변경되고 불만을 제기한 사람 39.696969696969695% \n"
     ]
    }
   ],
   "source": [
    "user_sum = len(user_has_2fwvers)\n",
    "user_prob_sum =  len(list(train_problem[train_problem['user_id'].isin(user_has_2fwvers)].user_id.unique()))\n",
    "\n",
    "print(f\"fwver가 변경되고 불만을 제기한 사람 {user_prob_sum/user_sum*100}% \")"
   ]
  },
  {
   "cell_type": "markdown",
   "metadata": {},
   "source": [
    "- fwver이 변경되었을 때 변수가 유의미하게 작용한다."
   ]
  },
  {
   "cell_type": "markdown",
   "metadata": {},
   "source": [
    "### Quality 분석"
   ]
  },
  {
   "cell_type": "code",
   "execution_count": 192,
   "metadata": {
    "ExecuteTime": {
     "end_time": "2022-06-09T05:45:56.745851Z",
     "start_time": "2022-06-09T05:45:56.668956Z"
    }
   },
   "outputs": [
    {
     "data": {
      "text/html": [
       "<div>\n",
       "<style scoped>\n",
       "    .dataframe tbody tr th:only-of-type {\n",
       "        vertical-align: middle;\n",
       "    }\n",
       "\n",
       "    .dataframe tbody tr th {\n",
       "        vertical-align: top;\n",
       "    }\n",
       "\n",
       "    .dataframe thead th {\n",
       "        text-align: right;\n",
       "    }\n",
       "</style>\n",
       "<table border=\"1\" class=\"dataframe\">\n",
       "  <thead>\n",
       "    <tr style=\"text-align: right;\">\n",
       "      <th></th>\n",
       "      <th>user_id</th>\n",
       "      <th>quality_0</th>\n",
       "      <th>quality_1</th>\n",
       "      <th>quality_2</th>\n",
       "      <th>quality_3</th>\n",
       "      <th>quality_4</th>\n",
       "      <th>quality_5</th>\n",
       "      <th>quality_6</th>\n",
       "      <th>quality_7</th>\n",
       "      <th>quality_8</th>\n",
       "      <th>quality_9</th>\n",
       "      <th>quality_10</th>\n",
       "      <th>quality_11</th>\n",
       "      <th>quality_12</th>\n",
       "    </tr>\n",
       "  </thead>\n",
       "  <tbody>\n",
       "    <tr>\n",
       "      <th>count</th>\n",
       "      <td>272452.000000</td>\n",
       "      <td>272452.000000</td>\n",
       "      <td>272452.000000</td>\n",
       "      <td>272452.000000</td>\n",
       "      <td>272452.0</td>\n",
       "      <td>272452.0</td>\n",
       "      <td>272452.000000</td>\n",
       "      <td>272452.000000</td>\n",
       "      <td>272452.000000</td>\n",
       "      <td>272452.000000</td>\n",
       "      <td>272452.000000</td>\n",
       "      <td>2.724520e+05</td>\n",
       "      <td>272452.000000</td>\n",
       "      <td>272452.000000</td>\n",
       "    </tr>\n",
       "    <tr>\n",
       "      <th>mean</th>\n",
       "      <td>17559.687732</td>\n",
       "      <td>10.786660</td>\n",
       "      <td>-0.068684</td>\n",
       "      <td>14.158138</td>\n",
       "      <td>0.0</td>\n",
       "      <td>0.0</td>\n",
       "      <td>224.519387</td>\n",
       "      <td>3.069664</td>\n",
       "      <td>26.486376</td>\n",
       "      <td>0.177411</td>\n",
       "      <td>106.522925</td>\n",
       "      <td>1.828710e+03</td>\n",
       "      <td>-0.092328</td>\n",
       "      <td>0.038238</td>\n",
       "    </tr>\n",
       "    <tr>\n",
       "      <th>std</th>\n",
       "      <td>4389.671541</td>\n",
       "      <td>759.517259</td>\n",
       "      <td>0.796227</td>\n",
       "      <td>997.273716</td>\n",
       "      <td>0.0</td>\n",
       "      <td>0.0</td>\n",
       "      <td>3969.392409</td>\n",
       "      <td>34.457646</td>\n",
       "      <td>295.315129</td>\n",
       "      <td>6.319490</td>\n",
       "      <td>4576.446638</td>\n",
       "      <td>2.441835e+04</td>\n",
       "      <td>0.333191</td>\n",
       "      <td>0.296846</td>\n",
       "    </tr>\n",
       "    <tr>\n",
       "      <th>min</th>\n",
       "      <td>10000.000000</td>\n",
       "      <td>-1.000000</td>\n",
       "      <td>-1.000000</td>\n",
       "      <td>-1.000000</td>\n",
       "      <td>0.0</td>\n",
       "      <td>0.0</td>\n",
       "      <td>-1.000000</td>\n",
       "      <td>-1.000000</td>\n",
       "      <td>0.000000</td>\n",
       "      <td>0.000000</td>\n",
       "      <td>0.000000</td>\n",
       "      <td>0.000000e+00</td>\n",
       "      <td>-1.000000</td>\n",
       "      <td>0.000000</td>\n",
       "    </tr>\n",
       "    <tr>\n",
       "      <th>25%</th>\n",
       "      <td>13676.000000</td>\n",
       "      <td>0.000000</td>\n",
       "      <td>0.000000</td>\n",
       "      <td>0.000000</td>\n",
       "      <td>0.0</td>\n",
       "      <td>0.0</td>\n",
       "      <td>0.000000</td>\n",
       "      <td>0.000000</td>\n",
       "      <td>0.000000</td>\n",
       "      <td>0.000000</td>\n",
       "      <td>0.000000</td>\n",
       "      <td>4.000000e+00</td>\n",
       "      <td>0.000000</td>\n",
       "      <td>0.000000</td>\n",
       "    </tr>\n",
       "    <tr>\n",
       "      <th>50%</th>\n",
       "      <td>17488.000000</td>\n",
       "      <td>0.000000</td>\n",
       "      <td>0.000000</td>\n",
       "      <td>0.000000</td>\n",
       "      <td>0.0</td>\n",
       "      <td>0.0</td>\n",
       "      <td>2.000000</td>\n",
       "      <td>0.000000</td>\n",
       "      <td>0.000000</td>\n",
       "      <td>0.000000</td>\n",
       "      <td>0.000000</td>\n",
       "      <td>1.900000e+01</td>\n",
       "      <td>0.000000</td>\n",
       "      <td>0.000000</td>\n",
       "    </tr>\n",
       "    <tr>\n",
       "      <th>75%</th>\n",
       "      <td>21546.000000</td>\n",
       "      <td>0.000000</td>\n",
       "      <td>0.000000</td>\n",
       "      <td>0.000000</td>\n",
       "      <td>0.0</td>\n",
       "      <td>0.0</td>\n",
       "      <td>15.000000</td>\n",
       "      <td>0.000000</td>\n",
       "      <td>0.000000</td>\n",
       "      <td>0.000000</td>\n",
       "      <td>0.000000</td>\n",
       "      <td>2.020000e+02</td>\n",
       "      <td>0.000000</td>\n",
       "      <td>0.000000</td>\n",
       "    </tr>\n",
       "    <tr>\n",
       "      <th>max</th>\n",
       "      <td>24997.000000</td>\n",
       "      <td>157667.000000</td>\n",
       "      <td>171.000000</td>\n",
       "      <td>191859.000000</td>\n",
       "      <td>0.0</td>\n",
       "      <td>0.0</td>\n",
       "      <td>637385.000000</td>\n",
       "      <td>600.000000</td>\n",
       "      <td>7200.000000</td>\n",
       "      <td>1317.000000</td>\n",
       "      <td>397424.000000</td>\n",
       "      <td>1.910175e+06</td>\n",
       "      <td>14.000000</td>\n",
       "      <td>14.000000</td>\n",
       "    </tr>\n",
       "  </tbody>\n",
       "</table>\n",
       "</div>"
      ],
      "text/plain": [
       "             user_id      quality_0      quality_1      quality_2  quality_3  \\\n",
       "count  272452.000000  272452.000000  272452.000000  272452.000000   272452.0   \n",
       "mean    17559.687732      10.786660      -0.068684      14.158138        0.0   \n",
       "std      4389.671541     759.517259       0.796227     997.273716        0.0   \n",
       "min     10000.000000      -1.000000      -1.000000      -1.000000        0.0   \n",
       "25%     13676.000000       0.000000       0.000000       0.000000        0.0   \n",
       "50%     17488.000000       0.000000       0.000000       0.000000        0.0   \n",
       "75%     21546.000000       0.000000       0.000000       0.000000        0.0   \n",
       "max     24997.000000  157667.000000     171.000000  191859.000000        0.0   \n",
       "\n",
       "       quality_4      quality_5      quality_6      quality_7      quality_8  \\\n",
       "count   272452.0  272452.000000  272452.000000  272452.000000  272452.000000   \n",
       "mean         0.0     224.519387       3.069664      26.486376       0.177411   \n",
       "std          0.0    3969.392409      34.457646     295.315129       6.319490   \n",
       "min          0.0      -1.000000      -1.000000       0.000000       0.000000   \n",
       "25%          0.0       0.000000       0.000000       0.000000       0.000000   \n",
       "50%          0.0       2.000000       0.000000       0.000000       0.000000   \n",
       "75%          0.0      15.000000       0.000000       0.000000       0.000000   \n",
       "max          0.0  637385.000000     600.000000    7200.000000    1317.000000   \n",
       "\n",
       "           quality_9    quality_10     quality_11     quality_12  \n",
       "count  272452.000000  2.724520e+05  272452.000000  272452.000000  \n",
       "mean      106.522925  1.828710e+03      -0.092328       0.038238  \n",
       "std      4576.446638  2.441835e+04       0.333191       0.296846  \n",
       "min         0.000000  0.000000e+00      -1.000000       0.000000  \n",
       "25%         0.000000  4.000000e+00       0.000000       0.000000  \n",
       "50%         0.000000  1.900000e+01       0.000000       0.000000  \n",
       "75%         0.000000  2.020000e+02       0.000000       0.000000  \n",
       "max    397424.000000  1.910175e+06      14.000000      14.000000  "
      ]
     },
     "execution_count": 192,
     "metadata": {},
     "output_type": "execute_result"
    }
   ],
   "source": [
    "train_quality.describe()"
   ]
  },
  {
   "cell_type": "code",
   "execution_count": 199,
   "metadata": {
    "ExecuteTime": {
     "end_time": "2022-06-09T05:51:18.852808Z",
     "start_time": "2022-06-09T05:51:18.367391Z"
    }
   },
   "outputs": [
    {
     "data": {
      "text/plain": [
       "<AxesSubplot:>"
      ]
     },
     "execution_count": 199,
     "metadata": {},
     "output_type": "execute_result"
    },
    {
     "data": {
      "image/png": "[encoded data removed]",
      "text/plain": [
       "<Figure size 720x720 with 2 Axes>"
      ]
     },
     "metadata": {
      "needs_background": "light"
     },
     "output_type": "display_data"
    }
   ],
   "source": [
    "plt.figure(figsize=(10,10))\n",
    "sns.heatmap(train_quality.corr(), annot=True)"
   ]
  },
  {
   "cell_type": "markdown",
   "metadata": {},
   "source": [
    "## 2-3. 이상치 검출\n",
    "\n",
    "1) IQR(Inter-Quantile Range)\n",
    "\n",
    "\n",
    "2) Outlier Detection method (e.g. Isolation Forest)"
   ]
  },
  {
   "cell_type": "markdown",
   "metadata": {},
   "source": [
    "## 3. 예측 모델 구현"
   ]
  },
  {
   "cell_type": "code",
   "execution_count": 69,
   "metadata": {
    "ExecuteTime": {
     "end_time": "2022-06-08T14:27:59.733781Z",
     "start_time": "2022-06-08T14:27:59.719266Z"
    }
   },
   "outputs": [],
   "source": [
    "# 모델을 불러옵니다\n"
   ]
  },
  {
   "cell_type": "code",
   "execution_count": 70,
   "metadata": {
    "ExecuteTime": {
     "end_time": "2022-06-08T14:27:59.749769Z",
     "start_time": "2022-06-08T14:27:59.734782Z"
    }
   },
   "outputs": [],
   "source": [
    "# 학습에 필요한 데이터셋을 만듭니다\n"
   ]
  },
  {
   "cell_type": "code",
   "execution_count": 71,
   "metadata": {
    "ExecuteTime": {
     "end_time": "2022-06-08T14:27:59.764898Z",
     "start_time": "2022-06-08T14:27:59.750769Z"
    }
   },
   "outputs": [],
   "source": [
    "# 학습 및 모델 검증을 위해 KFold Cross Validation 기법을 사용합니다.\n"
   ]
  },
  {
   "cell_type": "code",
   "execution_count": 72,
   "metadata": {
    "ExecuteTime": {
     "end_time": "2022-06-08T14:27:59.780723Z",
     "start_time": "2022-06-08T14:27:59.765899Z"
    }
   },
   "outputs": [],
   "source": [
    "# training"
   ]
  },
  {
   "cell_type": "code",
   "execution_count": 73,
   "metadata": {
    "ExecuteTime": {
     "end_time": "2022-06-08T14:27:59.796460Z",
     "start_time": "2022-06-08T14:27:59.781720Z"
    }
   },
   "outputs": [],
   "source": [
    "# submission 파일 생성"
   ]
  }
 ],
 "metadata": {
  "interpreter": {
   "hash": "d03f6901b6a42dbe3cd1c26aed86af13911a401140e63ddc3b23a4d593814a4d"
  },
  "kernelspec": {
   "display_name": "Python 3 (ipykernel)",
   "language": "python",
   "name": "python3"
  },
  "language_info": {
   "codemirror_mode": {
    "name": "ipython",
    "version": 3
   },
   "file_extension": ".py",
   "mimetype": "text/x-python",
   "name": "python",
   "nbconvert_exporter": "python",
   "pygments_lexer": "ipython3",
   "version": "3.8.13"
  },
  "toc": {
   "base_numbering": 1,
   "nav_menu": {},
   "number_sections": true,
   "sideBar": true,
   "skip_h1_title": false,
   "title_cell": "Table of Contents",
   "title_sidebar": "Contents",
   "toc_cell": false,
   "toc_position": {
    "height": "calc(100% - 180px)",
    "left": "10px",
    "top": "150px",
    "width": "260px"
   },
   "toc_section_display": true,
   "toc_window_display": true
  },
  "varInspector": {
   "cols": {
    "lenName": 16,
    "lenType": 16,
    "lenVar": 40
   },
   "kernels_config": {
    "python": {
     "delete_cmd_postfix": "",
     "delete_cmd_prefix": "del ",
     "library": "var_list.py",
     "varRefreshCmd": "print(var_dic_list())"
    },
    "r": {
     "delete_cmd_postfix": ") ",
     "delete_cmd_prefix": "rm(",
     "library": "var_list.r",
     "varRefreshCmd": "cat(var_dic_list()) "
    }
   },
   "types_to_exclude": [
    "module",
    "function",
    "builtin_function_or_method",
    "instance",
    "_Feature"
   ],
   "window_display": false
  }
 },
 "nbformat": 4,
 "nbformat_minor": 4
}
