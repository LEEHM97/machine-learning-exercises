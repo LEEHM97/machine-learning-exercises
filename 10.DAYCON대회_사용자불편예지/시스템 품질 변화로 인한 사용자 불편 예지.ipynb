{
 "cells": [
  {
   "cell_type": "markdown",
   "metadata": {},
   "source": [
    "## 1. 라이브러리 및 데이터 불러오기"
   ]
  },
  {
   "cell_type": "code",
   "execution_count": 1,
   "metadata": {
    "ExecuteTime": {
     "end_time": "2022-06-08T01:01:08.811318Z",
     "start_time": "2022-06-08T01:01:07.836150Z"
    }
   },
   "outputs": [],
   "source": [
    "# 분석에 필요한 라이브러리를 불러옵니다.\n",
    "import numpy as np\n",
    "import matplotlib.pyplot as plt\n",
    "import seaborn as sns\n",
    "import pandas as pd"
   ]
  },
  {
   "cell_type": "code",
   "execution_count": 2,
   "metadata": {
    "ExecuteTime": {
     "end_time": "2022-06-08T01:01:21.067418Z",
     "start_time": "2022-06-08T01:01:08.844284Z"
    }
   },
   "outputs": [
    {
     "name": "stderr",
     "output_type": "stream",
     "text": [
      "C:\\Users\\gmlkd\\AppData\\Local\\Temp\\ipykernel_19856\\2401973358.py:4: DtypeWarning: Columns (10,11,12) have mixed types. Specify dtype option on import or set low_memory=False.\n",
      "  train_quality = pd.read_csv(base_path+\"train_quality_data.csv\")\n",
      "C:\\Users\\gmlkd\\AppData\\Local\\Temp\\ipykernel_19856\\2401973358.py:6: DtypeWarning: Columns (4,11,12) have mixed types. Specify dtype option on import or set low_memory=False.\n",
      "  test_quality = pd.read_csv(base_path+\"test_quality_data.csv\")\n"
     ]
    }
   ],
   "source": [
    "base_path = \"C:/Users/gmlkd/data/시스템 품질 변화로 인한 사용자 불편 예지 AI 경진대회_data/\"\n",
    "train_err = pd.read_csv(base_path+\"train_err_data.csv\")\n",
    "train_problem = pd.read_csv(base_path+\"train_problem_data.csv\")\n",
    "train_quality = pd.read_csv(base_path+\"train_quality_data.csv\")\n",
    "test_err = pd.read_csv(base_path+\"test_err_data.csv\")\n",
    "test_quality = pd.read_csv(base_path+\"test_quality_data.csv\")\n",
    "submission = pd.read_csv(base_path+\"sample_submission.csv\")"
   ]
  },
  {
   "cell_type": "code",
   "execution_count": 35,
   "metadata": {
    "ExecuteTime": {
     "end_time": "2022-06-07T01:55:09.980185Z",
     "start_time": "2022-06-07T01:55:09.953274Z"
    }
   },
   "outputs": [
    {
     "data": {
      "text/html": [
       "<div>\n",
       "<style scoped>\n",
       "    .dataframe tbody tr th:only-of-type {\n",
       "        vertical-align: middle;\n",
       "    }\n",
       "\n",
       "    .dataframe tbody tr th {\n",
       "        vertical-align: top;\n",
       "    }\n",
       "\n",
       "    .dataframe thead th {\n",
       "        text-align: right;\n",
       "    }\n",
       "</style>\n",
       "<table border=\"1\" class=\"dataframe\">\n",
       "  <thead>\n",
       "    <tr style=\"text-align: right;\">\n",
       "      <th></th>\n",
       "      <th>user_id</th>\n",
       "      <th>time</th>\n",
       "      <th>model_nm</th>\n",
       "      <th>fwver</th>\n",
       "      <th>errtype</th>\n",
       "      <th>errcode</th>\n",
       "    </tr>\n",
       "  </thead>\n",
       "  <tbody>\n",
       "    <tr>\n",
       "      <th>0</th>\n",
       "      <td>10000</td>\n",
       "      <td>20201101025616</td>\n",
       "      <td>model_3</td>\n",
       "      <td>05.15.2138</td>\n",
       "      <td>15</td>\n",
       "      <td>1</td>\n",
       "    </tr>\n",
       "    <tr>\n",
       "      <th>1</th>\n",
       "      <td>10000</td>\n",
       "      <td>20201101030309</td>\n",
       "      <td>model_3</td>\n",
       "      <td>05.15.2138</td>\n",
       "      <td>12</td>\n",
       "      <td>1</td>\n",
       "    </tr>\n",
       "  </tbody>\n",
       "</table>\n",
       "</div>"
      ],
      "text/plain": [
       "   user_id            time model_nm       fwver  errtype errcode\n",
       "0    10000  20201101025616  model_3  05.15.2138       15       1\n",
       "1    10000  20201101030309  model_3  05.15.2138       12       1"
      ]
     },
     "metadata": {},
     "output_type": "display_data"
    },
    {
     "data": {
      "text/html": [
       "<div>\n",
       "<style scoped>\n",
       "    .dataframe tbody tr th:only-of-type {\n",
       "        vertical-align: middle;\n",
       "    }\n",
       "\n",
       "    .dataframe tbody tr th {\n",
       "        vertical-align: top;\n",
       "    }\n",
       "\n",
       "    .dataframe thead th {\n",
       "        text-align: right;\n",
       "    }\n",
       "</style>\n",
       "<table border=\"1\" class=\"dataframe\">\n",
       "  <thead>\n",
       "    <tr style=\"text-align: right;\">\n",
       "      <th></th>\n",
       "      <th>user_id</th>\n",
       "      <th>time</th>\n",
       "      <th>model_nm</th>\n",
       "      <th>fwver</th>\n",
       "      <th>errtype</th>\n",
       "      <th>errcode</th>\n",
       "    </tr>\n",
       "  </thead>\n",
       "  <tbody>\n",
       "    <tr>\n",
       "      <th>0</th>\n",
       "      <td>30000</td>\n",
       "      <td>20201101030227</td>\n",
       "      <td>model_1</td>\n",
       "      <td>04.16.3553</td>\n",
       "      <td>31</td>\n",
       "      <td>1</td>\n",
       "    </tr>\n",
       "    <tr>\n",
       "      <th>1</th>\n",
       "      <td>30000</td>\n",
       "      <td>20201101030227</td>\n",
       "      <td>model_1</td>\n",
       "      <td>04.16.3553</td>\n",
       "      <td>33</td>\n",
       "      <td>2</td>\n",
       "    </tr>\n",
       "  </tbody>\n",
       "</table>\n",
       "</div>"
      ],
      "text/plain": [
       "   user_id            time model_nm       fwver  errtype errcode\n",
       "0    30000  20201101030227  model_1  04.16.3553       31       1\n",
       "1    30000  20201101030227  model_1  04.16.3553       33       2"
      ]
     },
     "metadata": {},
     "output_type": "display_data"
    },
    {
     "data": {
      "text/html": [
       "<div>\n",
       "<style scoped>\n",
       "    .dataframe tbody tr th:only-of-type {\n",
       "        vertical-align: middle;\n",
       "    }\n",
       "\n",
       "    .dataframe tbody tr th {\n",
       "        vertical-align: top;\n",
       "    }\n",
       "\n",
       "    .dataframe thead th {\n",
       "        text-align: right;\n",
       "    }\n",
       "</style>\n",
       "<table border=\"1\" class=\"dataframe\">\n",
       "  <thead>\n",
       "    <tr style=\"text-align: right;\">\n",
       "      <th></th>\n",
       "      <th>time</th>\n",
       "      <th>user_id</th>\n",
       "      <th>fwver</th>\n",
       "      <th>quality_0</th>\n",
       "      <th>quality_1</th>\n",
       "      <th>quality_2</th>\n",
       "      <th>quality_3</th>\n",
       "      <th>quality_4</th>\n",
       "      <th>quality_5</th>\n",
       "      <th>quality_6</th>\n",
       "      <th>quality_7</th>\n",
       "      <th>quality_8</th>\n",
       "      <th>quality_9</th>\n",
       "      <th>quality_10</th>\n",
       "      <th>quality_11</th>\n",
       "      <th>quality_12</th>\n",
       "    </tr>\n",
       "  </thead>\n",
       "  <tbody>\n",
       "    <tr>\n",
       "      <th>0</th>\n",
       "      <td>20201129090000</td>\n",
       "      <td>10000</td>\n",
       "      <td>05.15.2138</td>\n",
       "      <td>0.0</td>\n",
       "      <td>0</td>\n",
       "      <td>0.0</td>\n",
       "      <td>0</td>\n",
       "      <td>0</td>\n",
       "      <td>0</td>\n",
       "      <td>0</td>\n",
       "      <td>0</td>\n",
       "      <td>0</td>\n",
       "      <td>0</td>\n",
       "      <td>4</td>\n",
       "      <td>0</td>\n",
       "      <td>0</td>\n",
       "    </tr>\n",
       "    <tr>\n",
       "      <th>1</th>\n",
       "      <td>20201129090000</td>\n",
       "      <td>10000</td>\n",
       "      <td>05.15.2138</td>\n",
       "      <td>0.0</td>\n",
       "      <td>0</td>\n",
       "      <td>0.0</td>\n",
       "      <td>0</td>\n",
       "      <td>0</td>\n",
       "      <td>0</td>\n",
       "      <td>0</td>\n",
       "      <td>0</td>\n",
       "      <td>0</td>\n",
       "      <td>0</td>\n",
       "      <td>4</td>\n",
       "      <td>0</td>\n",
       "      <td>0</td>\n",
       "    </tr>\n",
       "  </tbody>\n",
       "</table>\n",
       "</div>"
      ],
      "text/plain": [
       "             time  user_id       fwver  quality_0  quality_1  quality_2  \\\n",
       "0  20201129090000    10000  05.15.2138        0.0          0        0.0   \n",
       "1  20201129090000    10000  05.15.2138        0.0          0        0.0   \n",
       "\n",
       "   quality_3  quality_4 quality_5  quality_6 quality_7 quality_8 quality_9  \\\n",
       "0          0          0         0          0         0         0         0   \n",
       "1          0          0         0          0         0         0         0   \n",
       "\n",
       "  quality_10  quality_11  quality_12  \n",
       "0          4           0           0  \n",
       "1          4           0           0  "
      ]
     },
     "metadata": {},
     "output_type": "display_data"
    },
    {
     "data": {
      "text/html": [
       "<div>\n",
       "<style scoped>\n",
       "    .dataframe tbody tr th:only-of-type {\n",
       "        vertical-align: middle;\n",
       "    }\n",
       "\n",
       "    .dataframe tbody tr th {\n",
       "        vertical-align: top;\n",
       "    }\n",
       "\n",
       "    .dataframe thead th {\n",
       "        text-align: right;\n",
       "    }\n",
       "</style>\n",
       "<table border=\"1\" class=\"dataframe\">\n",
       "  <thead>\n",
       "    <tr style=\"text-align: right;\">\n",
       "      <th></th>\n",
       "      <th>time</th>\n",
       "      <th>user_id</th>\n",
       "      <th>fwver</th>\n",
       "      <th>quality_0</th>\n",
       "      <th>quality_1</th>\n",
       "      <th>quality_2</th>\n",
       "      <th>quality_3</th>\n",
       "      <th>quality_4</th>\n",
       "      <th>quality_5</th>\n",
       "      <th>quality_6</th>\n",
       "      <th>quality_7</th>\n",
       "      <th>quality_8</th>\n",
       "      <th>quality_9</th>\n",
       "      <th>quality_10</th>\n",
       "      <th>quality_11</th>\n",
       "      <th>quality_12</th>\n",
       "    </tr>\n",
       "  </thead>\n",
       "  <tbody>\n",
       "    <tr>\n",
       "      <th>0</th>\n",
       "      <td>20201128195000</td>\n",
       "      <td>30000</td>\n",
       "      <td>04.33.1261</td>\n",
       "      <td>0.0</td>\n",
       "      <td>0</td>\n",
       "      <td>0.0</td>\n",
       "      <td>0</td>\n",
       "      <td>0</td>\n",
       "      <td>0</td>\n",
       "      <td>0</td>\n",
       "      <td>5</td>\n",
       "      <td>0</td>\n",
       "      <td>0</td>\n",
       "      <td>2</td>\n",
       "      <td>0</td>\n",
       "      <td>0</td>\n",
       "    </tr>\n",
       "    <tr>\n",
       "      <th>1</th>\n",
       "      <td>20201128195000</td>\n",
       "      <td>30000</td>\n",
       "      <td>04.33.1261</td>\n",
       "      <td>0.0</td>\n",
       "      <td>0</td>\n",
       "      <td>0.0</td>\n",
       "      <td>0</td>\n",
       "      <td>0</td>\n",
       "      <td>0</td>\n",
       "      <td>0</td>\n",
       "      <td>5</td>\n",
       "      <td>0</td>\n",
       "      <td>0</td>\n",
       "      <td>2</td>\n",
       "      <td>0</td>\n",
       "      <td>0</td>\n",
       "    </tr>\n",
       "  </tbody>\n",
       "</table>\n",
       "</div>"
      ],
      "text/plain": [
       "             time  user_id       fwver  quality_0 quality_1  quality_2  \\\n",
       "0  20201128195000    30000  04.33.1261        0.0         0        0.0   \n",
       "1  20201128195000    30000  04.33.1261        0.0         0        0.0   \n",
       "\n",
       "   quality_3  quality_4 quality_5  quality_6 quality_7 quality_8 quality_9  \\\n",
       "0          0          0         0          0         5         0         0   \n",
       "1          0          0         0          0         5         0         0   \n",
       "\n",
       "  quality_10  quality_11  quality_12  \n",
       "0          2           0           0  \n",
       "1          2           0           0  "
      ]
     },
     "metadata": {},
     "output_type": "display_data"
    },
    {
     "data": {
      "text/html": [
       "<div>\n",
       "<style scoped>\n",
       "    .dataframe tbody tr th:only-of-type {\n",
       "        vertical-align: middle;\n",
       "    }\n",
       "\n",
       "    .dataframe tbody tr th {\n",
       "        vertical-align: top;\n",
       "    }\n",
       "\n",
       "    .dataframe thead th {\n",
       "        text-align: right;\n",
       "    }\n",
       "</style>\n",
       "<table border=\"1\" class=\"dataframe\">\n",
       "  <thead>\n",
       "    <tr style=\"text-align: right;\">\n",
       "      <th></th>\n",
       "      <th>user_id</th>\n",
       "      <th>time</th>\n",
       "    </tr>\n",
       "  </thead>\n",
       "  <tbody>\n",
       "    <tr>\n",
       "      <th>0</th>\n",
       "      <td>19224</td>\n",
       "      <td>20201102200000</td>\n",
       "    </tr>\n",
       "    <tr>\n",
       "      <th>1</th>\n",
       "      <td>23664</td>\n",
       "      <td>20201116140000</td>\n",
       "    </tr>\n",
       "  </tbody>\n",
       "</table>\n",
       "</div>"
      ],
      "text/plain": [
       "   user_id            time\n",
       "0    19224  20201102200000\n",
       "1    23664  20201116140000"
      ]
     },
     "metadata": {},
     "output_type": "display_data"
    }
   ],
   "source": [
    "display(train_err.head(2))\n",
    "display(test_err.head(2))\n",
    "display(train_quality.head(2))\n",
    "display(test_quality.head(2))\n",
    "display(train_problem.head(2))"
   ]
  },
  {
   "cell_type": "code",
   "execution_count": 14,
   "metadata": {
    "ExecuteTime": {
     "end_time": "2022-06-07T01:31:00.193559Z",
     "start_time": "2022-06-07T01:31:00.185586Z"
    },
    "scrolled": true
   },
   "outputs": [
    {
     "name": "stdout",
     "output_type": "stream",
     "text": [
      "<class 'pandas.core.frame.DataFrame'>\n",
      "RangeIndex: 16554663 entries, 0 to 16554662\n",
      "Data columns (total 6 columns):\n",
      " #   Column    Dtype \n",
      "---  ------    ----- \n",
      " 0   user_id   int64 \n",
      " 1   time      int64 \n",
      " 2   model_nm  object\n",
      " 3   fwver     object\n",
      " 4   errtype   int64 \n",
      " 5   errcode   object\n",
      "dtypes: int64(3), object(3)\n",
      "memory usage: 757.8+ MB\n"
     ]
    }
   ],
   "source": [
    "train_err.info()"
   ]
  },
  {
   "cell_type": "code",
   "execution_count": 21,
   "metadata": {
    "ExecuteTime": {
     "end_time": "2022-06-07T01:34:46.221247Z",
     "start_time": "2022-06-07T01:34:46.203307Z"
    }
   },
   "outputs": [
    {
     "name": "stdout",
     "output_type": "stream",
     "text": [
      "<class 'pandas.core.frame.DataFrame'>\n",
      "RangeIndex: 5429 entries, 0 to 5428\n",
      "Data columns (total 2 columns):\n",
      " #   Column   Non-Null Count  Dtype\n",
      "---  ------   --------------  -----\n",
      " 0   user_id  5429 non-null   int64\n",
      " 1   time     5429 non-null   int64\n",
      "dtypes: int64(2)\n",
      "memory usage: 85.0 KB\n"
     ]
    }
   ],
   "source": [
    "train_problem.info()"
   ]
  },
  {
   "cell_type": "code",
   "execution_count": 36,
   "metadata": {
    "ExecuteTime": {
     "end_time": "2022-06-07T01:56:19.863232Z",
     "start_time": "2022-06-07T01:56:19.505388Z"
    }
   },
   "outputs": [
    {
     "name": "stdout",
     "output_type": "stream",
     "text": [
      "<class 'pandas.core.frame.DataFrame'>\n",
      "RangeIndex: 828624 entries, 0 to 828623\n",
      "Data columns (total 16 columns):\n",
      " #   Column      Non-Null Count   Dtype  \n",
      "---  ------      --------------   -----  \n",
      " 0   time        828624 non-null  int64  \n",
      " 1   user_id     828624 non-null  int64  \n",
      " 2   fwver       788544 non-null  object \n",
      " 3   quality_0   684192 non-null  float64\n",
      " 4   quality_1   828624 non-null  int64  \n",
      " 5   quality_2   788511 non-null  float64\n",
      " 6   quality_3   828624 non-null  int64  \n",
      " 7   quality_4   828624 non-null  int64  \n",
      " 8   quality_5   828604 non-null  object \n",
      " 9   quality_6   828624 non-null  int64  \n",
      " 10  quality_7   828624 non-null  object \n",
      " 11  quality_8   828624 non-null  object \n",
      " 12  quality_9   828624 non-null  object \n",
      " 13  quality_10  828624 non-null  object \n",
      " 14  quality_11  828624 non-null  int64  \n",
      " 15  quality_12  828624 non-null  int64  \n",
      "dtypes: float64(2), int64(8), object(6)\n",
      "memory usage: 101.2+ MB\n"
     ]
    }
   ],
   "source": [
    "train_quality.info()"
   ]
  },
  {
   "cell_type": "code",
   "execution_count": 37,
   "metadata": {
    "ExecuteTime": {
     "end_time": "2022-06-07T01:56:28.849221Z",
     "start_time": "2022-06-07T01:56:28.484763Z"
    }
   },
   "outputs": [
    {
     "name": "stdout",
     "output_type": "stream",
     "text": [
      "<class 'pandas.core.frame.DataFrame'>\n",
      "RangeIndex: 747972 entries, 0 to 747971\n",
      "Data columns (total 16 columns):\n",
      " #   Column      Non-Null Count   Dtype  \n",
      "---  ------      --------------   -----  \n",
      " 0   time        747972 non-null  int64  \n",
      " 1   user_id     747972 non-null  int64  \n",
      " 2   fwver       725208 non-null  object \n",
      " 3   quality_0   641388 non-null  float64\n",
      " 4   quality_1   747961 non-null  object \n",
      " 5   quality_2   726857 non-null  float64\n",
      " 6   quality_3   747972 non-null  int64  \n",
      " 7   quality_4   747972 non-null  int64  \n",
      " 8   quality_5   747928 non-null  object \n",
      " 9   quality_6   747972 non-null  int64  \n",
      " 10  quality_7   747972 non-null  object \n",
      " 11  quality_8   747972 non-null  object \n",
      " 12  quality_9   747972 non-null  object \n",
      " 13  quality_10  747972 non-null  object \n",
      " 14  quality_11  747972 non-null  int64  \n",
      " 15  quality_12  747972 non-null  int64  \n",
      "dtypes: float64(2), int64(7), object(7)\n",
      "memory usage: 91.3+ MB\n"
     ]
    }
   ],
   "source": [
    "test_quality.info()"
   ]
  },
  {
   "cell_type": "markdown",
   "metadata": {},
   "source": [
    "## 2. 데이터 전처리"
   ]
  },
  {
   "cell_type": "markdown",
   "metadata": {},
   "source": [
    "### 2-1. 결측치 처리"
   ]
  },
  {
   "cell_type": "code",
   "execution_count": 3,
   "metadata": {
    "ExecuteTime": {
     "end_time": "2022-06-08T01:03:15.688525Z",
     "start_time": "2022-06-08T01:02:07.840718Z"
    }
   },
   "outputs": [],
   "source": [
    "# time column을 datetype으로 변경\n",
    "\n",
    "train_err['time'] = pd.to_datetime(train_err['time'], format='%Y%m%d%H%M%S')\n",
    "train_problem['time'] = pd.to_datetime(train_problem['time'], format='%Y%m%d%H%M%S')\n",
    "train_quality['time'] = pd.to_datetime(train_quality['time'], format='%Y%m%d%H%M%S')\n",
    "test_err['time'] = pd.to_datetime(test_err['time'], format='%Y%m%d%H%M%S')\n",
    "test_quality['time'] = pd.to_datetime(test_quality['time'], format='%Y%m%d%H%M%S')"
   ]
  },
  {
   "cell_type": "code",
   "execution_count": 5,
   "metadata": {
    "ExecuteTime": {
     "end_time": "2022-06-07T08:02:13.608867Z",
     "start_time": "2022-06-07T08:02:10.243904Z"
    }
   },
   "outputs": [
    {
     "data": {
      "text/plain": [
       "user_id     0\n",
       "time        0\n",
       "model_nm    0\n",
       "fwver       0\n",
       "errtype     0\n",
       "errcode     1\n",
       "dtype: int64"
      ]
     },
     "execution_count": 5,
     "metadata": {},
     "output_type": "execute_result"
    }
   ],
   "source": [
    "# train_err\n",
    "train_err.isnull().sum()"
   ]
  },
  {
   "cell_type": "code",
   "execution_count": 4,
   "metadata": {
    "ExecuteTime": {
     "end_time": "2022-06-07T11:27:07.217010Z",
     "start_time": "2022-06-07T11:27:06.867584Z"
    }
   },
   "outputs": [
    {
     "data": {
      "text/html": [
       "<div>\n",
       "<style scoped>\n",
       "    .dataframe tbody tr th:only-of-type {\n",
       "        vertical-align: middle;\n",
       "    }\n",
       "\n",
       "    .dataframe tbody tr th {\n",
       "        vertical-align: top;\n",
       "    }\n",
       "\n",
       "    .dataframe thead th {\n",
       "        text-align: right;\n",
       "    }\n",
       "</style>\n",
       "<table border=\"1\" class=\"dataframe\">\n",
       "  <thead>\n",
       "    <tr style=\"text-align: right;\">\n",
       "      <th></th>\n",
       "      <th>user_id</th>\n",
       "      <th>time</th>\n",
       "      <th>model_nm</th>\n",
       "      <th>fwver</th>\n",
       "      <th>errtype</th>\n",
       "      <th>errcode</th>\n",
       "    </tr>\n",
       "  </thead>\n",
       "  <tbody>\n",
       "    <tr>\n",
       "      <th>3825744</th>\n",
       "      <td>13639</td>\n",
       "      <td>2020-11-21 19:17:18</td>\n",
       "      <td>model_2</td>\n",
       "      <td>04.33.1261</td>\n",
       "      <td>5</td>\n",
       "      <td>NaN</td>\n",
       "    </tr>\n",
       "  </tbody>\n",
       "</table>\n",
       "</div>"
      ],
      "text/plain": [
       "         user_id                time model_nm       fwver  errtype errcode\n",
       "3825744    13639 2020-11-21 19:17:18  model_2  04.33.1261        5     NaN"
      ]
     },
     "execution_count": 4,
     "metadata": {},
     "output_type": "execute_result"
    }
   ],
   "source": [
    "train_err[train_err.errcode.isnull()]"
   ]
  },
  {
   "cell_type": "code",
   "execution_count": 63,
   "metadata": {
    "ExecuteTime": {
     "end_time": "2022-06-07T12:22:45.646830Z",
     "start_time": "2022-06-07T12:22:45.640018Z"
    }
   },
   "outputs": [
    {
     "data": {
      "text/html": [
       "<div>\n",
       "<style scoped>\n",
       "    .dataframe tbody tr th:only-of-type {\n",
       "        vertical-align: middle;\n",
       "    }\n",
       "\n",
       "    .dataframe tbody tr th {\n",
       "        vertical-align: top;\n",
       "    }\n",
       "\n",
       "    .dataframe thead th {\n",
       "        text-align: right;\n",
       "    }\n",
       "</style>\n",
       "<table border=\"1\" class=\"dataframe\">\n",
       "  <thead>\n",
       "    <tr style=\"text-align: right;\">\n",
       "      <th></th>\n",
       "      <th>user_id</th>\n",
       "      <th>time</th>\n",
       "      <th>model_nm</th>\n",
       "      <th>fwver</th>\n",
       "      <th>errtype</th>\n",
       "      <th>errcode</th>\n",
       "    </tr>\n",
       "  </thead>\n",
       "  <tbody>\n",
       "    <tr>\n",
       "      <th>3825742</th>\n",
       "      <td>13639</td>\n",
       "      <td>2020-11-21 17:40:58</td>\n",
       "      <td>model_2</td>\n",
       "      <td>04.33.1261</td>\n",
       "      <td>31</td>\n",
       "      <td>1</td>\n",
       "    </tr>\n",
       "    <tr>\n",
       "      <th>3825743</th>\n",
       "      <td>13639</td>\n",
       "      <td>2020-11-21 17:41:10</td>\n",
       "      <td>model_2</td>\n",
       "      <td>04.33.1261</td>\n",
       "      <td>31</td>\n",
       "      <td>0</td>\n",
       "    </tr>\n",
       "    <tr>\n",
       "      <th>3825744</th>\n",
       "      <td>13639</td>\n",
       "      <td>2020-11-21 19:17:18</td>\n",
       "      <td>model_2</td>\n",
       "      <td>04.33.1261</td>\n",
       "      <td>5</td>\n",
       "      <td>NaN</td>\n",
       "    </tr>\n",
       "    <tr>\n",
       "      <th>3825745</th>\n",
       "      <td>13639</td>\n",
       "      <td>2020-11-21 19:17:18</td>\n",
       "      <td>model_2</td>\n",
       "      <td>04.33.1261</td>\n",
       "      <td>5</td>\n",
       "      <td>40013</td>\n",
       "    </tr>\n",
       "    <tr>\n",
       "      <th>3825746</th>\n",
       "      <td>13639</td>\n",
       "      <td>2020-11-21 22:09:19</td>\n",
       "      <td>model_2</td>\n",
       "      <td>04.33.1261</td>\n",
       "      <td>15</td>\n",
       "      <td>1</td>\n",
       "    </tr>\n",
       "  </tbody>\n",
       "</table>\n",
       "</div>"
      ],
      "text/plain": [
       "         user_id                time model_nm       fwver  errtype errcode\n",
       "3825742    13639 2020-11-21 17:40:58  model_2  04.33.1261       31       1\n",
       "3825743    13639 2020-11-21 17:41:10  model_2  04.33.1261       31       0\n",
       "3825744    13639 2020-11-21 19:17:18  model_2  04.33.1261        5     NaN\n",
       "3825745    13639 2020-11-21 19:17:18  model_2  04.33.1261        5   40013\n",
       "3825746    13639 2020-11-21 22:09:19  model_2  04.33.1261       15       1"
      ]
     },
     "execution_count": 63,
     "metadata": {},
     "output_type": "execute_result"
    }
   ],
   "source": [
    "# errcode 40013일 때와 user_id, time, model_nm, fwver, errtype모두 같다\n",
    "train_err.iloc[3825742:3825747]"
   ]
  },
  {
   "cell_type": "code",
   "execution_count": 4,
   "metadata": {
    "ExecuteTime": {
     "end_time": "2022-06-08T01:03:24.355263Z",
     "start_time": "2022-06-08T01:03:23.834616Z"
    }
   },
   "outputs": [],
   "source": [
    "# 따라서 같은 errcode일 것임을 유추하여 40013값을 넣어준다.\n",
    "train_err.errcode = train_err.errcode.fillna('40013')"
   ]
  },
  {
   "cell_type": "code",
   "execution_count": 5,
   "metadata": {
    "ExecuteTime": {
     "end_time": "2022-06-08T01:03:29.298843Z",
     "start_time": "2022-06-08T01:03:26.009926Z"
    }
   },
   "outputs": [
    {
     "data": {
      "text/plain": [
       "user_id     0\n",
       "time        0\n",
       "model_nm    0\n",
       "fwver       0\n",
       "errtype     0\n",
       "errcode     0\n",
       "dtype: int64"
      ]
     },
     "execution_count": 5,
     "metadata": {},
     "output_type": "execute_result"
    }
   ],
   "source": [
    "# train_problem\n",
    "train_err.isnull().sum()"
   ]
  },
  {
   "cell_type": "code",
   "execution_count": 83,
   "metadata": {
    "ExecuteTime": {
     "end_time": "2022-06-07T14:46:13.277985Z",
     "start_time": "2022-06-07T14:46:13.271172Z"
    }
   },
   "outputs": [
    {
     "name": "stdout",
     "output_type": "stream",
     "text": [
      "<class 'pandas.core.frame.DataFrame'>\n",
      "RangeIndex: 16554663 entries, 0 to 16554662\n",
      "Data columns (total 6 columns):\n",
      " #   Column    Dtype         \n",
      "---  ------    -----         \n",
      " 0   user_id   int64         \n",
      " 1   time      datetime64[ns]\n",
      " 2   model_nm  object        \n",
      " 3   fwver     object        \n",
      " 4   errtype   int64         \n",
      " 5   errcode   object        \n",
      "dtypes: datetime64[ns](1), int64(2), object(3)\n",
      "memory usage: 757.8+ MB\n"
     ]
    }
   ],
   "source": [
    "# model_nm, fwver, errcode encoding 필요\n",
    "\n",
    "train_err.info()"
   ]
  },
  {
   "cell_type": "code",
   "execution_count": 20,
   "metadata": {
    "ExecuteTime": {
     "end_time": "2022-06-07T08:07:27.009906Z",
     "start_time": "2022-06-07T08:07:26.655938Z"
    },
    "scrolled": true
   },
   "outputs": [
    {
     "data": {
      "text/plain": [
       "time               0\n",
       "user_id            0\n",
       "fwver          40080\n",
       "quality_0     144432\n",
       "quality_1          0\n",
       "quality_2      40113\n",
       "quality_3          0\n",
       "quality_4          0\n",
       "quality_5         20\n",
       "quality_6          0\n",
       "quality_7          0\n",
       "quality_8          0\n",
       "quality_9          0\n",
       "quality_10         0\n",
       "quality_11         0\n",
       "quality_12         0\n",
       "dtype: int64"
      ]
     },
     "execution_count": 20,
     "metadata": {},
     "output_type": "execute_result"
    }
   ],
   "source": [
    "# train_quality\n",
    "train_quality.isnull().sum()"
   ]
  },
  {
   "cell_type": "code",
   "execution_count": 37,
   "metadata": {
    "ExecuteTime": {
     "end_time": "2022-06-08T01:41:26.735079Z",
     "start_time": "2022-06-08T01:41:26.728102Z"
    },
    "scrolled": true
   },
   "outputs": [],
   "source": [
    "# 1. fwver 결측치\n",
    "\n",
    "# case1. fwver=non을 이상치로 판단하고 모두 지우기\n",
    "# case2. train_err에서 해당 user_id의 fwver값을 가져와 채우기"
   ]
  },
  {
   "cell_type": "code",
   "execution_count": 36,
   "metadata": {
    "ExecuteTime": {
     "end_time": "2022-06-08T01:40:08.127740Z",
     "start_time": "2022-06-08T01:40:07.982193Z"
    }
   },
   "outputs": [
    {
     "name": "stdout",
     "output_type": "stream",
     "text": [
      "<class 'pandas.core.frame.DataFrame'>\n",
      "Int64Index: 788544 entries, 0 to 828623\n",
      "Data columns (total 16 columns):\n",
      " #   Column      Non-Null Count   Dtype         \n",
      "---  ------      --------------   -----         \n",
      " 0   time        788544 non-null  datetime64[ns]\n",
      " 1   user_id     788544 non-null  int64         \n",
      " 2   fwver       788544 non-null  object        \n",
      " 3   quality_0   788544 non-null  int64         \n",
      " 4   quality_1   788544 non-null  int64         \n",
      " 5   quality_2   788544 non-null  int64         \n",
      " 6   quality_3   788544 non-null  int64         \n",
      " 7   quality_4   788544 non-null  int64         \n",
      " 8   quality_5   788544 non-null  int64         \n",
      " 9   quality_6   788544 non-null  int64         \n",
      " 10  quality_7   788544 non-null  int64         \n",
      " 11  quality_8   788544 non-null  int64         \n",
      " 12  quality_9   788544 non-null  int64         \n",
      " 13  quality_10  788544 non-null  int64         \n",
      " 14  quality_11  788544 non-null  int64         \n",
      " 15  quality_12  788544 non-null  int64         \n",
      "dtypes: datetime64[ns](1), int64(14), object(1)\n",
      "memory usage: 102.3+ MB\n"
     ]
    }
   ],
   "source": [
    "# train_err에는 fwver가 업그레이드 된 경우가 많이 있다.\n",
    "# 결측치 비율이 적고, 어떤 fwver에서 로그가 찍혔는지 알기 힘드므로 drop\n",
    "\n",
    "fwver_null_index = list(train_quality[train_quality.fwver.isnull()].index)\n",
    "\n",
    "train_quality = train_quality.drop(fwver_null_index, axis=0)\n",
    "train_quality.info()"
   ]
  },
  {
   "cell_type": "code",
   "execution_count": 11,
   "metadata": {
    "ExecuteTime": {
     "end_time": "2022-06-07T11:33:14.749333Z",
     "start_time": "2022-06-07T11:33:14.717213Z"
    },
    "scrolled": true
   },
   "outputs": [
    {
     "data": {
      "text/plain": [
       "count    684192.000000\n",
       "mean          4.148701\n",
       "std         479.315029\n",
       "min          -1.000000\n",
       "25%           0.000000\n",
       "50%           0.000000\n",
       "75%           0.000000\n",
       "max      157667.000000\n",
       "Name: quality_0, dtype: float64"
      ]
     },
     "execution_count": 11,
     "metadata": {},
     "output_type": "execute_result"
    }
   ],
   "source": [
    "# quality 결측치\n",
    "\n",
    "# case1. 최빈값 채우기\n",
    "# case2. 평균값 채우기\n",
    "\n",
    "# quality_0\n",
    "train_quality.quality_0.describe()"
   ]
  },
  {
   "cell_type": "code",
   "execution_count": 14,
   "metadata": {
    "ExecuteTime": {
     "end_time": "2022-06-07T11:35:06.357314Z",
     "start_time": "2022-06-07T11:35:06.345634Z"
    },
    "scrolled": true
   },
   "outputs": [
    {
     "data": {
      "text/plain": [
       " 0.0       542790\n",
       "-1.0       130828\n",
       " 1.0         2097\n",
       " 2.0         1252\n",
       " 3.0          518\n",
       "            ...  \n",
       " 1113.0         1\n",
       " 1177.0         1\n",
       " 1186.0         1\n",
       " 946.0          1\n",
       " 2351.0         1\n",
       "Name: quality_0, Length: 753, dtype: int64"
      ]
     },
     "execution_count": 14,
     "metadata": {},
     "output_type": "execute_result"
    }
   ],
   "source": [
    "train_quality.quality_0.value_counts()"
   ]
  },
  {
   "cell_type": "code",
   "execution_count": 18,
   "metadata": {
    "ExecuteTime": {
     "end_time": "2022-06-07T11:41:53.964839Z",
     "start_time": "2022-06-07T11:41:53.933692Z"
    }
   },
   "outputs": [
    {
     "data": {
      "text/plain": [
       "count    788511.000000\n",
       "mean          4.751094\n",
       "std         586.252469\n",
       "min          -1.000000\n",
       "25%           0.000000\n",
       "50%           0.000000\n",
       "75%           0.000000\n",
       "max      191859.000000\n",
       "Name: quality_2, dtype: float64"
      ]
     },
     "execution_count": 18,
     "metadata": {},
     "output_type": "execute_result"
    }
   ],
   "source": [
    "# quality_2\n",
    "train_quality.quality_2.describe()"
   ]
  },
  {
   "cell_type": "code",
   "execution_count": 17,
   "metadata": {
    "ExecuteTime": {
     "end_time": "2022-06-07T11:41:16.108964Z",
     "start_time": "2022-06-07T11:41:16.098257Z"
    },
    "scrolled": true
   },
   "outputs": [
    {
     "data": {
      "text/plain": [
       " 0.0        632469\n",
       "-1.0        144392\n",
       " 1.0          2937\n",
       " 2.0          1073\n",
       " 3.0           580\n",
       "             ...  \n",
       " 872.0           1\n",
       " 11259.0         1\n",
       " 373.0           1\n",
       " 8278.0          1\n",
       " 2351.0          1\n",
       "Name: quality_2, Length: 798, dtype: int64"
      ]
     },
     "execution_count": 17,
     "metadata": {},
     "output_type": "execute_result"
    }
   ],
   "source": [
    "train_quality.quality_2.value_counts()"
   ]
  },
  {
   "cell_type": "code",
   "execution_count": 20,
   "metadata": {
    "ExecuteTime": {
     "end_time": "2022-06-07T11:42:56.883384Z",
     "start_time": "2022-06-07T11:42:56.853212Z"
    }
   },
   "outputs": [
    {
     "data": {
      "text/plain": [
       "0         428096\n",
       "-1        153354\n",
       "1          56171\n",
       "2          35978\n",
       "3          21596\n",
       "           ...  \n",
       "10,490         1\n",
       "10,821         1\n",
       "12,379         1\n",
       "14,523         1\n",
       "9,558          1\n",
       "Name: quality_5, Length: 4744, dtype: int64"
      ]
     },
     "execution_count": 20,
     "metadata": {},
     "output_type": "execute_result"
    }
   ],
   "source": [
    "# quality_5\n",
    "train_quality.quality_5.value_counts()\n",
    "\n",
    "# -1, 0 ,1에 데이터가 편향되어있고, max값과 차이가 많이 나므로 평균보단 최빈값으로?"
   ]
  },
  {
   "cell_type": "code",
   "execution_count": 8,
   "metadata": {
    "ExecuteTime": {
     "end_time": "2022-06-08T01:06:19.935785Z",
     "start_time": "2022-06-08T01:06:19.499568Z"
    }
   },
   "outputs": [],
   "source": [
    "# case1. 최빈값으로 채우기\n",
    "\n",
    "for i in train_quality.columns[3:]:\n",
    "    train_quality[i] = train_quality[i].fillna(train_quality[i].mode()[0])"
   ]
  },
  {
   "cell_type": "code",
   "execution_count": 9,
   "metadata": {
    "ExecuteTime": {
     "end_time": "2022-06-08T01:06:21.615069Z",
     "start_time": "2022-06-08T01:06:21.261134Z"
    },
    "scrolled": true
   },
   "outputs": [
    {
     "data": {
      "text/plain": [
       "time              0\n",
       "user_id           0\n",
       "fwver         40080\n",
       "quality_0         0\n",
       "quality_1         0\n",
       "quality_2         0\n",
       "quality_3         0\n",
       "quality_4         0\n",
       "quality_5         0\n",
       "quality_6         0\n",
       "quality_7         0\n",
       "quality_8         0\n",
       "quality_9         0\n",
       "quality_10        0\n",
       "quality_11        0\n",
       "quality_12        0\n",
       "dtype: int64"
      ]
     },
     "execution_count": 9,
     "metadata": {},
     "output_type": "execute_result"
    }
   ],
   "source": [
    "train_quality.isnull().sum()"
   ]
  },
  {
   "cell_type": "code",
   "execution_count": 71,
   "metadata": {
    "ExecuteTime": {
     "end_time": "2022-06-07T12:23:42.753320Z",
     "start_time": "2022-06-07T12:23:39.347577Z"
    }
   },
   "outputs": [
    {
     "data": {
      "text/plain": [
       "user_id     0\n",
       "time        0\n",
       "model_nm    0\n",
       "fwver       0\n",
       "errtype     0\n",
       "errcode     4\n",
       "dtype: int64"
      ]
     },
     "execution_count": 71,
     "metadata": {},
     "output_type": "execute_result"
    }
   ],
   "source": [
    "# test_err 결측치\n",
    "test_err.isnull().sum()"
   ]
  },
  {
   "cell_type": "code",
   "execution_count": 34,
   "metadata": {
    "ExecuteTime": {
     "end_time": "2022-06-07T12:08:47.709982Z",
     "start_time": "2022-06-07T12:08:47.369214Z"
    }
   },
   "outputs": [
    {
     "data": {
      "text/html": [
       "<div>\n",
       "<style scoped>\n",
       "    .dataframe tbody tr th:only-of-type {\n",
       "        vertical-align: middle;\n",
       "    }\n",
       "\n",
       "    .dataframe tbody tr th {\n",
       "        vertical-align: top;\n",
       "    }\n",
       "\n",
       "    .dataframe thead th {\n",
       "        text-align: right;\n",
       "    }\n",
       "</style>\n",
       "<table border=\"1\" class=\"dataframe\">\n",
       "  <thead>\n",
       "    <tr style=\"text-align: right;\">\n",
       "      <th></th>\n",
       "      <th>user_id</th>\n",
       "      <th>time</th>\n",
       "      <th>model_nm</th>\n",
       "      <th>fwver</th>\n",
       "      <th>errtype</th>\n",
       "      <th>errcode</th>\n",
       "    </tr>\n",
       "  </thead>\n",
       "  <tbody>\n",
       "    <tr>\n",
       "      <th>937967</th>\n",
       "      <td>30820</td>\n",
       "      <td>2020-11-15 04:43:17</td>\n",
       "      <td>model_2</td>\n",
       "      <td>04.33.1261</td>\n",
       "      <td>5</td>\n",
       "      <td>NaN</td>\n",
       "    </tr>\n",
       "    <tr>\n",
       "      <th>4038892</th>\n",
       "      <td>33681</td>\n",
       "      <td>2020-11-03 11:02:59</td>\n",
       "      <td>model_2</td>\n",
       "      <td>04.33.1185</td>\n",
       "      <td>5</td>\n",
       "      <td>NaN</td>\n",
       "    </tr>\n",
       "    <tr>\n",
       "      <th>9486881</th>\n",
       "      <td>38991</td>\n",
       "      <td>2020-11-27 21:38:38</td>\n",
       "      <td>model_2</td>\n",
       "      <td>04.33.1261</td>\n",
       "      <td>5</td>\n",
       "      <td>NaN</td>\n",
       "    </tr>\n",
       "    <tr>\n",
       "      <th>10425473</th>\n",
       "      <td>39894</td>\n",
       "      <td>2020-11-28 14:47:12</td>\n",
       "      <td>model_1</td>\n",
       "      <td>04.16.3553</td>\n",
       "      <td>5</td>\n",
       "      <td>NaN</td>\n",
       "    </tr>\n",
       "  </tbody>\n",
       "</table>\n",
       "</div>"
      ],
      "text/plain": [
       "          user_id                time model_nm       fwver  errtype errcode\n",
       "937967      30820 2020-11-15 04:43:17  model_2  04.33.1261        5     NaN\n",
       "4038892     33681 2020-11-03 11:02:59  model_2  04.33.1185        5     NaN\n",
       "9486881     38991 2020-11-27 21:38:38  model_2  04.33.1261        5     NaN\n",
       "10425473    39894 2020-11-28 14:47:12  model_1  04.16.3553        5     NaN"
      ]
     },
     "execution_count": 34,
     "metadata": {},
     "output_type": "execute_result"
    }
   ],
   "source": [
    "test_err[test_err.errcode.isnull()] "
   ]
  },
  {
   "cell_type": "code",
   "execution_count": 37,
   "metadata": {
    "ExecuteTime": {
     "end_time": "2022-06-07T12:10:02.067140Z",
     "start_time": "2022-06-07T12:10:02.059353Z"
    }
   },
   "outputs": [
    {
     "data": {
      "text/html": [
       "<div>\n",
       "<style scoped>\n",
       "    .dataframe tbody tr th:only-of-type {\n",
       "        vertical-align: middle;\n",
       "    }\n",
       "\n",
       "    .dataframe tbody tr th {\n",
       "        vertical-align: top;\n",
       "    }\n",
       "\n",
       "    .dataframe thead th {\n",
       "        text-align: right;\n",
       "    }\n",
       "</style>\n",
       "<table border=\"1\" class=\"dataframe\">\n",
       "  <thead>\n",
       "    <tr style=\"text-align: right;\">\n",
       "      <th></th>\n",
       "      <th>user_id</th>\n",
       "      <th>time</th>\n",
       "      <th>model_nm</th>\n",
       "      <th>fwver</th>\n",
       "      <th>errtype</th>\n",
       "      <th>errcode</th>\n",
       "    </tr>\n",
       "  </thead>\n",
       "  <tbody>\n",
       "    <tr>\n",
       "      <th>937965</th>\n",
       "      <td>30820</td>\n",
       "      <td>2020-11-15 03:59:00</td>\n",
       "      <td>model_2</td>\n",
       "      <td>04.33.1261</td>\n",
       "      <td>40</td>\n",
       "      <td>1</td>\n",
       "    </tr>\n",
       "    <tr>\n",
       "      <th>937966</th>\n",
       "      <td>30820</td>\n",
       "      <td>2020-11-15 03:59:02</td>\n",
       "      <td>model_2</td>\n",
       "      <td>04.33.1261</td>\n",
       "      <td>40</td>\n",
       "      <td>0</td>\n",
       "    </tr>\n",
       "    <tr>\n",
       "      <th>937967</th>\n",
       "      <td>30820</td>\n",
       "      <td>2020-11-15 04:43:17</td>\n",
       "      <td>model_2</td>\n",
       "      <td>04.33.1261</td>\n",
       "      <td>5</td>\n",
       "      <td>NaN</td>\n",
       "    </tr>\n",
       "    <tr>\n",
       "      <th>937968</th>\n",
       "      <td>30820</td>\n",
       "      <td>2020-11-15 04:43:17</td>\n",
       "      <td>model_2</td>\n",
       "      <td>04.33.1261</td>\n",
       "      <td>5</td>\n",
       "      <td>40053</td>\n",
       "    </tr>\n",
       "    <tr>\n",
       "      <th>937969</th>\n",
       "      <td>30820</td>\n",
       "      <td>2020-11-15 09:10:24</td>\n",
       "      <td>model_2</td>\n",
       "      <td>04.33.1261</td>\n",
       "      <td>15</td>\n",
       "      <td>1</td>\n",
       "    </tr>\n",
       "  </tbody>\n",
       "</table>\n",
       "</div>"
      ],
      "text/plain": [
       "        user_id                time model_nm       fwver  errtype errcode\n",
       "937965    30820 2020-11-15 03:59:00  model_2  04.33.1261       40       1\n",
       "937966    30820 2020-11-15 03:59:02  model_2  04.33.1261       40       0\n",
       "937967    30820 2020-11-15 04:43:17  model_2  04.33.1261        5     NaN\n",
       "937968    30820 2020-11-15 04:43:17  model_2  04.33.1261        5   40053\n",
       "937969    30820 2020-11-15 09:10:24  model_2  04.33.1261       15       1"
      ]
     },
     "execution_count": 37,
     "metadata": {},
     "output_type": "execute_result"
    }
   ],
   "source": [
    "# 40053으로 채우기\n",
    "test_err.iloc[937965:937970]"
   ]
  },
  {
   "cell_type": "code",
   "execution_count": 38,
   "metadata": {
    "ExecuteTime": {
     "end_time": "2022-06-07T12:10:19.714267Z",
     "start_time": "2022-06-07T12:10:19.707453Z"
    }
   },
   "outputs": [
    {
     "data": {
      "text/html": [
       "<div>\n",
       "<style scoped>\n",
       "    .dataframe tbody tr th:only-of-type {\n",
       "        vertical-align: middle;\n",
       "    }\n",
       "\n",
       "    .dataframe tbody tr th {\n",
       "        vertical-align: top;\n",
       "    }\n",
       "\n",
       "    .dataframe thead th {\n",
       "        text-align: right;\n",
       "    }\n",
       "</style>\n",
       "<table border=\"1\" class=\"dataframe\">\n",
       "  <thead>\n",
       "    <tr style=\"text-align: right;\">\n",
       "      <th></th>\n",
       "      <th>user_id</th>\n",
       "      <th>time</th>\n",
       "      <th>model_nm</th>\n",
       "      <th>fwver</th>\n",
       "      <th>errtype</th>\n",
       "      <th>errcode</th>\n",
       "    </tr>\n",
       "  </thead>\n",
       "  <tbody>\n",
       "    <tr>\n",
       "      <th>4038890</th>\n",
       "      <td>33681</td>\n",
       "      <td>2020-11-03 11:01:47</td>\n",
       "      <td>model_2</td>\n",
       "      <td>04.33.1185</td>\n",
       "      <td>14</td>\n",
       "      <td>14</td>\n",
       "    </tr>\n",
       "    <tr>\n",
       "      <th>4038891</th>\n",
       "      <td>33681</td>\n",
       "      <td>2020-11-03 11:02:59</td>\n",
       "      <td>model_2</td>\n",
       "      <td>04.33.1185</td>\n",
       "      <td>7</td>\n",
       "      <td>14</td>\n",
       "    </tr>\n",
       "    <tr>\n",
       "      <th>4038892</th>\n",
       "      <td>33681</td>\n",
       "      <td>2020-11-03 11:02:59</td>\n",
       "      <td>model_2</td>\n",
       "      <td>04.33.1185</td>\n",
       "      <td>5</td>\n",
       "      <td>NaN</td>\n",
       "    </tr>\n",
       "    <tr>\n",
       "      <th>4038893</th>\n",
       "      <td>33681</td>\n",
       "      <td>2020-11-03 11:02:59</td>\n",
       "      <td>model_2</td>\n",
       "      <td>04.33.1185</td>\n",
       "      <td>5</td>\n",
       "      <td>40053</td>\n",
       "    </tr>\n",
       "    <tr>\n",
       "      <th>4038894</th>\n",
       "      <td>33681</td>\n",
       "      <td>2020-11-03 11:03:00</td>\n",
       "      <td>model_2</td>\n",
       "      <td>04.33.1185</td>\n",
       "      <td>6</td>\n",
       "      <td>14</td>\n",
       "    </tr>\n",
       "  </tbody>\n",
       "</table>\n",
       "</div>"
      ],
      "text/plain": [
       "         user_id                time model_nm       fwver  errtype errcode\n",
       "4038890    33681 2020-11-03 11:01:47  model_2  04.33.1185       14      14\n",
       "4038891    33681 2020-11-03 11:02:59  model_2  04.33.1185        7      14\n",
       "4038892    33681 2020-11-03 11:02:59  model_2  04.33.1185        5     NaN\n",
       "4038893    33681 2020-11-03 11:02:59  model_2  04.33.1185        5   40053\n",
       "4038894    33681 2020-11-03 11:03:00  model_2  04.33.1185        6      14"
      ]
     },
     "execution_count": 38,
     "metadata": {},
     "output_type": "execute_result"
    }
   ],
   "source": [
    "# 40053으로 채우기\n",
    "test_err.iloc[4038890:4038895]"
   ]
  },
  {
   "cell_type": "code",
   "execution_count": 40,
   "metadata": {
    "ExecuteTime": {
     "end_time": "2022-06-07T12:11:06.273272Z",
     "start_time": "2022-06-07T12:11:06.267432Z"
    }
   },
   "outputs": [
    {
     "data": {
      "text/html": [
       "<div>\n",
       "<style scoped>\n",
       "    .dataframe tbody tr th:only-of-type {\n",
       "        vertical-align: middle;\n",
       "    }\n",
       "\n",
       "    .dataframe tbody tr th {\n",
       "        vertical-align: top;\n",
       "    }\n",
       "\n",
       "    .dataframe thead th {\n",
       "        text-align: right;\n",
       "    }\n",
       "</style>\n",
       "<table border=\"1\" class=\"dataframe\">\n",
       "  <thead>\n",
       "    <tr style=\"text-align: right;\">\n",
       "      <th></th>\n",
       "      <th>user_id</th>\n",
       "      <th>time</th>\n",
       "      <th>model_nm</th>\n",
       "      <th>fwver</th>\n",
       "      <th>errtype</th>\n",
       "      <th>errcode</th>\n",
       "    </tr>\n",
       "  </thead>\n",
       "  <tbody>\n",
       "    <tr>\n",
       "      <th>9486879</th>\n",
       "      <td>38991</td>\n",
       "      <td>2020-11-27 18:59:52</td>\n",
       "      <td>model_2</td>\n",
       "      <td>04.33.1261</td>\n",
       "      <td>5</td>\n",
       "      <td>B-A8002</td>\n",
       "    </tr>\n",
       "    <tr>\n",
       "      <th>9486880</th>\n",
       "      <td>38991</td>\n",
       "      <td>2020-11-27 21:38:38</td>\n",
       "      <td>model_2</td>\n",
       "      <td>04.33.1261</td>\n",
       "      <td>5</td>\n",
       "      <td>40053</td>\n",
       "    </tr>\n",
       "    <tr>\n",
       "      <th>9486881</th>\n",
       "      <td>38991</td>\n",
       "      <td>2020-11-27 21:38:38</td>\n",
       "      <td>model_2</td>\n",
       "      <td>04.33.1261</td>\n",
       "      <td>5</td>\n",
       "      <td>NaN</td>\n",
       "    </tr>\n",
       "    <tr>\n",
       "      <th>9486882</th>\n",
       "      <td>38991</td>\n",
       "      <td>2020-11-28 00:13:46</td>\n",
       "      <td>model_2</td>\n",
       "      <td>04.33.1261</td>\n",
       "      <td>26</td>\n",
       "      <td>1</td>\n",
       "    </tr>\n",
       "  </tbody>\n",
       "</table>\n",
       "</div>"
      ],
      "text/plain": [
       "         user_id                time model_nm       fwver  errtype  errcode\n",
       "9486879    38991 2020-11-27 18:59:52  model_2  04.33.1261        5  B-A8002\n",
       "9486880    38991 2020-11-27 21:38:38  model_2  04.33.1261        5    40053\n",
       "9486881    38991 2020-11-27 21:38:38  model_2  04.33.1261        5      NaN\n",
       "9486882    38991 2020-11-28 00:13:46  model_2  04.33.1261       26        1"
      ]
     },
     "execution_count": 40,
     "metadata": {},
     "output_type": "execute_result"
    }
   ],
   "source": [
    "# 40053으로 채우기\n",
    "test_err.iloc[9486879:9486883]"
   ]
  },
  {
   "cell_type": "code",
   "execution_count": 41,
   "metadata": {
    "ExecuteTime": {
     "end_time": "2022-06-07T12:11:14.867426Z",
     "start_time": "2022-06-07T12:11:14.860613Z"
    }
   },
   "outputs": [
    {
     "data": {
      "text/html": [
       "<div>\n",
       "<style scoped>\n",
       "    .dataframe tbody tr th:only-of-type {\n",
       "        vertical-align: middle;\n",
       "    }\n",
       "\n",
       "    .dataframe tbody tr th {\n",
       "        vertical-align: top;\n",
       "    }\n",
       "\n",
       "    .dataframe thead th {\n",
       "        text-align: right;\n",
       "    }\n",
       "</style>\n",
       "<table border=\"1\" class=\"dataframe\">\n",
       "  <thead>\n",
       "    <tr style=\"text-align: right;\">\n",
       "      <th></th>\n",
       "      <th>user_id</th>\n",
       "      <th>time</th>\n",
       "      <th>model_nm</th>\n",
       "      <th>fwver</th>\n",
       "      <th>errtype</th>\n",
       "      <th>errcode</th>\n",
       "    </tr>\n",
       "  </thead>\n",
       "  <tbody>\n",
       "    <tr>\n",
       "      <th>10425470</th>\n",
       "      <td>39894</td>\n",
       "      <td>2020-11-28 14:46:05</td>\n",
       "      <td>model_1</td>\n",
       "      <td>04.16.3553</td>\n",
       "      <td>20</td>\n",
       "      <td>1</td>\n",
       "    </tr>\n",
       "    <tr>\n",
       "      <th>10425471</th>\n",
       "      <td>39894</td>\n",
       "      <td>2020-11-28 14:46:21</td>\n",
       "      <td>model_1</td>\n",
       "      <td>04.16.3553</td>\n",
       "      <td>26</td>\n",
       "      <td>1</td>\n",
       "    </tr>\n",
       "    <tr>\n",
       "      <th>10425472</th>\n",
       "      <td>39894</td>\n",
       "      <td>2020-11-28 14:47:12</td>\n",
       "      <td>model_1</td>\n",
       "      <td>04.16.3553</td>\n",
       "      <td>5</td>\n",
       "      <td>-1010</td>\n",
       "    </tr>\n",
       "    <tr>\n",
       "      <th>10425473</th>\n",
       "      <td>39894</td>\n",
       "      <td>2020-11-28 14:47:12</td>\n",
       "      <td>model_1</td>\n",
       "      <td>04.16.3553</td>\n",
       "      <td>5</td>\n",
       "      <td>NaN</td>\n",
       "    </tr>\n",
       "    <tr>\n",
       "      <th>10425474</th>\n",
       "      <td>39894</td>\n",
       "      <td>2020-11-28 14:47:57</td>\n",
       "      <td>model_1</td>\n",
       "      <td>04.16.3553</td>\n",
       "      <td>32</td>\n",
       "      <td>80</td>\n",
       "    </tr>\n",
       "  </tbody>\n",
       "</table>\n",
       "</div>"
      ],
      "text/plain": [
       "          user_id                time model_nm       fwver  errtype errcode\n",
       "10425470    39894 2020-11-28 14:46:05  model_1  04.16.3553       20       1\n",
       "10425471    39894 2020-11-28 14:46:21  model_1  04.16.3553       26       1\n",
       "10425472    39894 2020-11-28 14:47:12  model_1  04.16.3553        5   -1010\n",
       "10425473    39894 2020-11-28 14:47:12  model_1  04.16.3553        5     NaN\n",
       "10425474    39894 2020-11-28 14:47:57  model_1  04.16.3553       32      80"
      ]
     },
     "execution_count": 41,
     "metadata": {},
     "output_type": "execute_result"
    }
   ],
   "source": [
    "# -1010으로 채우기\n",
    "test_err.iloc[10425470:10425475]"
   ]
  },
  {
   "cell_type": "code",
   "execution_count": 10,
   "metadata": {
    "ExecuteTime": {
     "end_time": "2022-06-08T01:06:28.393241Z",
     "start_time": "2022-06-08T01:06:28.377294Z"
    }
   },
   "outputs": [],
   "source": [
    "# 결측치 채우기\n",
    "test_err.iloc[937967, 5] = '40053'\n",
    "test_err.iloc[4038892, 5] = '40053'\n",
    "test_err.iloc[9486881, 5] = '40053'\n",
    "test_err.iloc[10425473, 5] = '-1010'"
   ]
  },
  {
   "cell_type": "code",
   "execution_count": 11,
   "metadata": {
    "ExecuteTime": {
     "end_time": "2022-06-08T01:06:32.678532Z",
     "start_time": "2022-06-08T01:06:29.408442Z"
    }
   },
   "outputs": [
    {
     "data": {
      "text/plain": [
       "user_id     0\n",
       "time        0\n",
       "model_nm    0\n",
       "fwver       0\n",
       "errtype     0\n",
       "errcode     0\n",
       "dtype: int64"
      ]
     },
     "execution_count": 11,
     "metadata": {},
     "output_type": "execute_result"
    }
   ],
   "source": [
    "test_err.isnull().sum()"
   ]
  },
  {
   "cell_type": "code",
   "execution_count": 74,
   "metadata": {
    "ExecuteTime": {
     "end_time": "2022-06-07T12:23:59.170939Z",
     "start_time": "2022-06-07T12:23:58.799464Z"
    }
   },
   "outputs": [
    {
     "data": {
      "text/plain": [
       "time               0\n",
       "user_id            0\n",
       "fwver          22764\n",
       "quality_0     106584\n",
       "quality_1         11\n",
       "quality_2      21115\n",
       "quality_3          0\n",
       "quality_4          0\n",
       "quality_5         44\n",
       "quality_6          0\n",
       "quality_7          0\n",
       "quality_8          0\n",
       "quality_9          0\n",
       "quality_10         0\n",
       "quality_11         0\n",
       "quality_12         0\n",
       "dtype: int64"
      ]
     },
     "execution_count": 74,
     "metadata": {},
     "output_type": "execute_result"
    }
   ],
   "source": [
    "# test_quality\n",
    "test_quality.isnull().sum()"
   ]
  },
  {
   "cell_type": "code",
   "execution_count": 12,
   "metadata": {
    "ExecuteTime": {
     "end_time": "2022-06-08T01:06:38.450438Z",
     "start_time": "2022-06-08T01:06:38.006873Z"
    }
   },
   "outputs": [],
   "source": [
    "for i in test_quality.columns[3:]:\n",
    "    test_quality[i] = test_quality[i].fillna(test_quality[i].mode()[0])"
   ]
  },
  {
   "cell_type": "code",
   "execution_count": 13,
   "metadata": {
    "ExecuteTime": {
     "end_time": "2022-06-08T01:06:39.674926Z",
     "start_time": "2022-06-08T01:06:39.317261Z"
    },
    "scrolled": true
   },
   "outputs": [
    {
     "data": {
      "text/plain": [
       "time              0\n",
       "user_id           0\n",
       "fwver         22764\n",
       "quality_0         0\n",
       "quality_1         0\n",
       "quality_2         0\n",
       "quality_3         0\n",
       "quality_4         0\n",
       "quality_5         0\n",
       "quality_6         0\n",
       "quality_7         0\n",
       "quality_8         0\n",
       "quality_9         0\n",
       "quality_10        0\n",
       "quality_11        0\n",
       "quality_12        0\n",
       "dtype: int64"
      ]
     },
     "execution_count": 13,
     "metadata": {},
     "output_type": "execute_result"
    }
   ],
   "source": [
    "test_quality.isnull().sum()"
   ]
  },
  {
   "cell_type": "code",
   "execution_count": 14,
   "metadata": {
    "ExecuteTime": {
     "end_time": "2022-06-08T01:06:41.444603Z",
     "start_time": "2022-06-08T01:06:41.433640Z"
    }
   },
   "outputs": [],
   "source": [
    "# train/test_quality에서 쉼표로 인해 string형이 된  data 변경\n",
    "\n",
    "def strToInt(x):\n",
    "    if type(x) == str:\n",
    "        x = x.replace(\",\", \"\")\n",
    "        x = int(x)\n",
    "        return x\n",
    "    else:\n",
    "        x = int(x)\n",
    "        return x"
   ]
  },
  {
   "cell_type": "code",
   "execution_count": 15,
   "metadata": {
    "ExecuteTime": {
     "end_time": "2022-06-08T01:06:48.506625Z",
     "start_time": "2022-06-08T01:06:41.969439Z"
    }
   },
   "outputs": [],
   "source": [
    "# train_quality\n",
    "for i in train_quality.columns[3:]:\n",
    "    train_quality[i] = train_quality[i].apply(lambda x: strToInt(x))\n",
    "    \n",
    "# test_quality\n",
    "for i in test_quality.columns[3:]:\n",
    "    test_quality[i] = test_quality[i].apply(lambda x: strToInt(x))"
   ]
  },
  {
   "cell_type": "code",
   "execution_count": 16,
   "metadata": {
    "ExecuteTime": {
     "end_time": "2022-06-08T01:08:21.809001Z",
     "start_time": "2022-06-08T01:08:21.716338Z"
    },
    "scrolled": true
   },
   "outputs": [
    {
     "name": "stdout",
     "output_type": "stream",
     "text": [
      "<class 'pandas.core.frame.DataFrame'>\n",
      "RangeIndex: 828624 entries, 0 to 828623\n",
      "Data columns (total 16 columns):\n",
      " #   Column      Non-Null Count   Dtype         \n",
      "---  ------      --------------   -----         \n",
      " 0   time        828624 non-null  datetime64[ns]\n",
      " 1   user_id     828624 non-null  int64         \n",
      " 2   fwver       788544 non-null  object        \n",
      " 3   quality_0   828624 non-null  int64         \n",
      " 4   quality_1   828624 non-null  int64         \n",
      " 5   quality_2   828624 non-null  int64         \n",
      " 6   quality_3   828624 non-null  int64         \n",
      " 7   quality_4   828624 non-null  int64         \n",
      " 8   quality_5   828624 non-null  int64         \n",
      " 9   quality_6   828624 non-null  int64         \n",
      " 10  quality_7   828624 non-null  int64         \n",
      " 11  quality_8   828624 non-null  int64         \n",
      " 12  quality_9   828624 non-null  int64         \n",
      " 13  quality_10  828624 non-null  int64         \n",
      " 14  quality_11  828624 non-null  int64         \n",
      " 15  quality_12  828624 non-null  int64         \n",
      "dtypes: datetime64[ns](1), int64(14), object(1)\n",
      "memory usage: 101.2+ MB\n"
     ]
    }
   ],
   "source": [
    "train_quality.info()"
   ]
  },
  {
   "cell_type": "code",
   "execution_count": 17,
   "metadata": {
    "ExecuteTime": {
     "end_time": "2022-06-08T01:08:24.544888Z",
     "start_time": "2022-06-08T01:08:24.460338Z"
    },
    "scrolled": true
   },
   "outputs": [
    {
     "name": "stdout",
     "output_type": "stream",
     "text": [
      "<class 'pandas.core.frame.DataFrame'>\n",
      "RangeIndex: 747972 entries, 0 to 747971\n",
      "Data columns (total 16 columns):\n",
      " #   Column      Non-Null Count   Dtype         \n",
      "---  ------      --------------   -----         \n",
      " 0   time        747972 non-null  datetime64[ns]\n",
      " 1   user_id     747972 non-null  int64         \n",
      " 2   fwver       725208 non-null  object        \n",
      " 3   quality_0   747972 non-null  int64         \n",
      " 4   quality_1   747972 non-null  int64         \n",
      " 5   quality_2   747972 non-null  int64         \n",
      " 6   quality_3   747972 non-null  int64         \n",
      " 7   quality_4   747972 non-null  int64         \n",
      " 8   quality_5   747972 non-null  int64         \n",
      " 9   quality_6   747972 non-null  int64         \n",
      " 10  quality_7   747972 non-null  int64         \n",
      " 11  quality_8   747972 non-null  int64         \n",
      " 12  quality_9   747972 non-null  int64         \n",
      " 13  quality_10  747972 non-null  int64         \n",
      " 14  quality_11  747972 non-null  int64         \n",
      " 15  quality_12  747972 non-null  int64         \n",
      "dtypes: datetime64[ns](1), int64(14), object(1)\n",
      "memory usage: 91.3+ MB\n"
     ]
    }
   ],
   "source": [
    "test_quality.info()"
   ]
  },
  {
   "cell_type": "markdown",
   "metadata": {},
   "source": [
    "### 2-2. 상관관계 분석"
   ]
  },
  {
   "cell_type": "code",
   "execution_count": null,
   "metadata": {},
   "outputs": [],
   "source": [
    "# 피처간 비슷한 변수들이 있는지 확인하기 위해 상관관계 분석을 수행합니다.\n"
   ]
  },
  {
   "cell_type": "code",
   "execution_count": null,
   "metadata": {},
   "outputs": [],
   "source": [
    "# heatmap\n"
   ]
  },
  {
   "cell_type": "code",
   "execution_count": null,
   "metadata": {},
   "outputs": [],
   "source": [
    "# 피처간 비슷한 변수들이 있는지 확인하기 위해 상관관계 분석을 수행합니다.\n",
    "corr = []\n",
    "for num in range(1,61):\n",
    "    df = train[train.num==num]\n",
    "    num_corr = df.corr()['target']\n",
    "    num_corr = num_corr.drop(['num','nelec_cool_flag','solar_flag','target'])\n",
    "    corr.append(num_corr)\n",
    "corr_df = pd.concat(corr, axis=1).T\n",
    "corr_df.index = list(range(1,61))\n",
    "\n",
    "# 시각화\n",
    "f, ax = plt.subplots(figsize=(20,8))\n",
    "plt.title(\"Correlation between features and target\", fontsize=15)\n",
    "sns.heatmap(corr_df.T, cmap=sns.diverging_palette(240,10,as_cmap=True), ax=ax)\n",
    "plt.xlabel('Building(num)')\n",
    "plt.show()"
   ]
  },
  {
   "cell_type": "markdown",
   "metadata": {},
   "source": [
    "### 2-3. 이상치 검출\n",
    "\n",
    "1) IQR(Inter-Quantile Range)\n",
    "\n",
    "\n",
    "2) Outlier Detection method (e.g. Isolation Forest)"
   ]
  },
  {
   "cell_type": "markdown",
   "metadata": {},
   "source": [
    "### IQR "
   ]
  },
  {
   "cell_type": "code",
   "execution_count": null,
   "metadata": {},
   "outputs": [],
   "source": [
    "# 데이터 중에 전체 데이터의 패턴을 벗어나는 데이터가 있는지 확인합니다.\n",
    "def get_outlier(data, column, weight=1.5):\n",
    "    \n",
    "\n",
    "    \n",
    "    \n",
    "    print(\"IQR은 %.2f이다.\" % IQR)\n",
    "    print(f\"lower_bound는 {lower_bound:.2f}이다.\") # f-string\n",
    "    print(\"upper_bound는 {:.2f}이다.\".format(upper_bound))\n",
    "    \n",
    "\n",
    "    return outlier_idx"
   ]
  },
  {
   "cell_type": "code",
   "execution_count": null,
   "metadata": {},
   "outputs": [],
   "source": [
    "selected_col = input(\"Which column ? \")\n",
    "outlier_idx = get_outlier(train, selected_col)\n",
    "train.loc[outlier_idx, :]"
   ]
  },
  {
   "cell_type": "code",
   "execution_count": null,
   "metadata": {},
   "outputs": [],
   "source": [
    "# outlier detection\n",
    "# anomaly detection\n",
    "\n",
    "train.drop(outlier_idx)"
   ]
  },
  {
   "cell_type": "markdown",
   "metadata": {},
   "source": [
    "### Isolation Forest (ML Model)"
   ]
  },
  {
   "cell_type": "code",
   "execution_count": null,
   "metadata": {},
   "outputs": [],
   "source": [
    "from sklearn.ensemble import IsolationForest\n",
    "\n",
    "X = train.drop(columns=[\"num\", \"date_time\", \"target\"])\n",
    "\n",
    "model = "
   ]
  },
  {
   "cell_type": "code",
   "execution_count": null,
   "metadata": {},
   "outputs": [],
   "source": [
    "# IsolationForest로 판단한 outlier들을 제거합니다\n"
   ]
  },
  {
   "cell_type": "markdown",
   "metadata": {},
   "source": [
    "## 3. 예측 모델 구현"
   ]
  },
  {
   "cell_type": "code",
   "execution_count": null,
   "metadata": {},
   "outputs": [],
   "source": [
    "# 모델을 불러옵니다\n"
   ]
  },
  {
   "cell_type": "code",
   "execution_count": null,
   "metadata": {},
   "outputs": [],
   "source": [
    "# 학습에 필요한 데이터셋을 만듭니다\n"
   ]
  },
  {
   "cell_type": "code",
   "execution_count": null,
   "metadata": {},
   "outputs": [],
   "source": [
    "# 학습 및 모델 검증을 위해 KFold Cross Validation 기법을 사용합니다.\n"
   ]
  },
  {
   "cell_type": "code",
   "execution_count": null,
   "metadata": {},
   "outputs": [],
   "source": [
    "# training"
   ]
  },
  {
   "cell_type": "code",
   "execution_count": null,
   "metadata": {},
   "outputs": [],
   "source": [
    "# submission 파일 생성"
   ]
  }
 ],
 "metadata": {
  "kernelspec": {
   "display_name": "Python 3 (ipykernel)",
   "language": "python",
   "name": "python3"
  },
  "language_info": {
   "codemirror_mode": {
    "name": "ipython",
    "version": 3
   },
   "file_extension": ".py",
   "mimetype": "text/x-python",
   "name": "python",
   "nbconvert_exporter": "python",
   "pygments_lexer": "ipython3",
   "version": "3.8.13"
  },
  "toc": {
   "base_numbering": 1,
   "nav_menu": {},
   "number_sections": true,
   "sideBar": true,
   "skip_h1_title": false,
   "title_cell": "Table of Contents",
   "title_sidebar": "Contents",
   "toc_cell": false,
   "toc_position": {},
   "toc_section_display": true,
   "toc_window_display": false
  },
  "varInspector": {
   "cols": {
    "lenName": 16,
    "lenType": 16,
    "lenVar": 40
   },
   "kernels_config": {
    "python": {
     "delete_cmd_postfix": "",
     "delete_cmd_prefix": "del ",
     "library": "var_list.py",
     "varRefreshCmd": "print(var_dic_list())"
    },
    "r": {
     "delete_cmd_postfix": ") ",
     "delete_cmd_prefix": "rm(",
     "library": "var_list.r",
     "varRefreshCmd": "cat(var_dic_list()) "
    }
   },
   "types_to_exclude": [
    "module",
    "function",
    "builtin_function_or_method",
    "instance",
    "_Feature"
   ],
   "window_display": false
  }
 },
 "nbformat": 4,
 "nbformat_minor": 4
}
