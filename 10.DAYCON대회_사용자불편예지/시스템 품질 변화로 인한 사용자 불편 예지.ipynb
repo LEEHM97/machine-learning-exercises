{
 "cells": [
  {
   "cell_type": "markdown",
   "metadata": {},
   "source": [
    "## 1. 라이브러리 및 데이터 불러오기"
   ]
  },
  {
   "cell_type": "code",
   "execution_count": 1,
   "metadata": {
    "ExecuteTime": {
     "end_time": "2022-06-08T03:57:07.467278Z",
     "start_time": "2022-06-08T03:57:02.962178Z"
    }
   },
   "outputs": [],
   "source": [
    "# 분석에 필요한 라이브러리를 불러옵니다.\n",
    "import numpy as np\n",
    "import matplotlib.pyplot as plt\n",
    "import seaborn as sns\n",
    "import pandas as pd"
   ]
  },
  {
   "cell_type": "code",
   "execution_count": 115,
   "metadata": {
    "ExecuteTime": {
     "end_time": "2022-06-08T04:33:52.745407Z",
     "start_time": "2022-06-08T04:33:40.450525Z"
    }
   },
   "outputs": [
    {
     "name": "stderr",
     "output_type": "stream",
     "text": [
      "C:\\Users\\gmlkd\\AppData\\Local\\Temp\\ipykernel_12148\\2401973358.py:4: DtypeWarning: Columns (10,11,12) have mixed types. Specify dtype option on import or set low_memory=False.\n",
      "  train_quality = pd.read_csv(base_path+\"train_quality_data.csv\")\n",
      "C:\\Users\\gmlkd\\AppData\\Local\\Temp\\ipykernel_12148\\2401973358.py:6: DtypeWarning: Columns (4,11,12) have mixed types. Specify dtype option on import or set low_memory=False.\n",
      "  test_quality = pd.read_csv(base_path+\"test_quality_data.csv\")\n"
     ]
    }
   ],
   "source": [
    "# base_path = \"C:/Users/gmlkd/data/시스템 품질 변화로 인한 사용자 불편 예지 AI 경진대회_data/\"\n",
    "# train_err = pd.read_csv(base_path+\"train_err_data.csv\")\n",
    "# train_problem = pd.read_csv(base_path+\"train_problem_data.csv\")\n",
    "# train_quality = pd.read_csv(base_path+\"train_quality_data.csv\")\n",
    "# test_err = pd.read_csv(base_path+\"test_err_data.csv\")\n",
    "# test_quality = pd.read_csv(base_path+\"test_quality_data.csv\")\n",
    "# submission = pd.read_csv(base_path+\"sample_submission.csv\")"
   ]
  },
  {
   "cell_type": "code",
   "execution_count": 133,
   "metadata": {
    "ExecuteTime": {
     "end_time": "2022-06-08T04:44:27.626392Z",
     "start_time": "2022-06-08T04:43:55.641296Z"
    }
   },
   "outputs": [],
   "source": [
    "# 결측치 처리 완료된 파일 불러오기\n",
    "\n",
    "train_err = pd.read_csv(\"new_train_err.csv\", parse_dates=['time'])\n",
    "train_problem = pd.read_csv(\"new_train_problem.csv\", parse_dates=['time'])\n",
    "train_quality = pd.read_csv(\"new_train_quality.csv\", parse_dates=['time'])\n",
    "test_err = pd.read_csv(\"new_test_err.csv\", parse_dates=['time'])\n",
    "test_quality = pd.read_csv(\"new_test_quality.csv\", parse_dates=['time'])\n",
    "submission = pd.read_csv(\"C:/Users/gmlkd/data/시스템 품질 변화로 인한 사용자 불편 예지 AI 경진대회_data/sample_submission.csv\")"
   ]
  },
  {
   "cell_type": "code",
   "execution_count": 3,
   "metadata": {
    "ExecuteTime": {
     "end_time": "2022-06-08T03:57:19.684500Z",
     "start_time": "2022-06-08T03:57:19.639536Z"
    }
   },
   "outputs": [
    {
     "data": {
      "text/html": [
       "<div>\n",
       "<style scoped>\n",
       "    .dataframe tbody tr th:only-of-type {\n",
       "        vertical-align: middle;\n",
       "    }\n",
       "\n",
       "    .dataframe tbody tr th {\n",
       "        vertical-align: top;\n",
       "    }\n",
       "\n",
       "    .dataframe thead th {\n",
       "        text-align: right;\n",
       "    }\n",
       "</style>\n",
       "<table border=\"1\" class=\"dataframe\">\n",
       "  <thead>\n",
       "    <tr style=\"text-align: right;\">\n",
       "      <th></th>\n",
       "      <th>user_id</th>\n",
       "      <th>time</th>\n",
       "      <th>model_nm</th>\n",
       "      <th>fwver</th>\n",
       "      <th>errtype</th>\n",
       "      <th>errcode</th>\n",
       "    </tr>\n",
       "  </thead>\n",
       "  <tbody>\n",
       "    <tr>\n",
       "      <th>0</th>\n",
       "      <td>10000</td>\n",
       "      <td>20201101025616</td>\n",
       "      <td>model_3</td>\n",
       "      <td>05.15.2138</td>\n",
       "      <td>15</td>\n",
       "      <td>1</td>\n",
       "    </tr>\n",
       "    <tr>\n",
       "      <th>1</th>\n",
       "      <td>10000</td>\n",
       "      <td>20201101030309</td>\n",
       "      <td>model_3</td>\n",
       "      <td>05.15.2138</td>\n",
       "      <td>12</td>\n",
       "      <td>1</td>\n",
       "    </tr>\n",
       "  </tbody>\n",
       "</table>\n",
       "</div>"
      ],
      "text/plain": [
       "   user_id            time model_nm       fwver  errtype errcode\n",
       "0    10000  20201101025616  model_3  05.15.2138       15       1\n",
       "1    10000  20201101030309  model_3  05.15.2138       12       1"
      ]
     },
     "metadata": {},
     "output_type": "display_data"
    },
    {
     "data": {
      "text/html": [
       "<div>\n",
       "<style scoped>\n",
       "    .dataframe tbody tr th:only-of-type {\n",
       "        vertical-align: middle;\n",
       "    }\n",
       "\n",
       "    .dataframe tbody tr th {\n",
       "        vertical-align: top;\n",
       "    }\n",
       "\n",
       "    .dataframe thead th {\n",
       "        text-align: right;\n",
       "    }\n",
       "</style>\n",
       "<table border=\"1\" class=\"dataframe\">\n",
       "  <thead>\n",
       "    <tr style=\"text-align: right;\">\n",
       "      <th></th>\n",
       "      <th>user_id</th>\n",
       "      <th>time</th>\n",
       "      <th>model_nm</th>\n",
       "      <th>fwver</th>\n",
       "      <th>errtype</th>\n",
       "      <th>errcode</th>\n",
       "    </tr>\n",
       "  </thead>\n",
       "  <tbody>\n",
       "    <tr>\n",
       "      <th>0</th>\n",
       "      <td>30000</td>\n",
       "      <td>20201101030227</td>\n",
       "      <td>model_1</td>\n",
       "      <td>04.16.3553</td>\n",
       "      <td>31</td>\n",
       "      <td>1</td>\n",
       "    </tr>\n",
       "    <tr>\n",
       "      <th>1</th>\n",
       "      <td>30000</td>\n",
       "      <td>20201101030227</td>\n",
       "      <td>model_1</td>\n",
       "      <td>04.16.3553</td>\n",
       "      <td>33</td>\n",
       "      <td>2</td>\n",
       "    </tr>\n",
       "  </tbody>\n",
       "</table>\n",
       "</div>"
      ],
      "text/plain": [
       "   user_id            time model_nm       fwver  errtype errcode\n",
       "0    30000  20201101030227  model_1  04.16.3553       31       1\n",
       "1    30000  20201101030227  model_1  04.16.3553       33       2"
      ]
     },
     "metadata": {},
     "output_type": "display_data"
    },
    {
     "data": {
      "text/html": [
       "<div>\n",
       "<style scoped>\n",
       "    .dataframe tbody tr th:only-of-type {\n",
       "        vertical-align: middle;\n",
       "    }\n",
       "\n",
       "    .dataframe tbody tr th {\n",
       "        vertical-align: top;\n",
       "    }\n",
       "\n",
       "    .dataframe thead th {\n",
       "        text-align: right;\n",
       "    }\n",
       "</style>\n",
       "<table border=\"1\" class=\"dataframe\">\n",
       "  <thead>\n",
       "    <tr style=\"text-align: right;\">\n",
       "      <th></th>\n",
       "      <th>time</th>\n",
       "      <th>user_id</th>\n",
       "      <th>fwver</th>\n",
       "      <th>quality_0</th>\n",
       "      <th>quality_1</th>\n",
       "      <th>quality_2</th>\n",
       "      <th>quality_3</th>\n",
       "      <th>quality_4</th>\n",
       "      <th>quality_5</th>\n",
       "      <th>quality_6</th>\n",
       "      <th>quality_7</th>\n",
       "      <th>quality_8</th>\n",
       "      <th>quality_9</th>\n",
       "      <th>quality_10</th>\n",
       "      <th>quality_11</th>\n",
       "      <th>quality_12</th>\n",
       "    </tr>\n",
       "  </thead>\n",
       "  <tbody>\n",
       "    <tr>\n",
       "      <th>0</th>\n",
       "      <td>20201129090000</td>\n",
       "      <td>10000</td>\n",
       "      <td>05.15.2138</td>\n",
       "      <td>0.0</td>\n",
       "      <td>0</td>\n",
       "      <td>0.0</td>\n",
       "      <td>0</td>\n",
       "      <td>0</td>\n",
       "      <td>0</td>\n",
       "      <td>0</td>\n",
       "      <td>0</td>\n",
       "      <td>0</td>\n",
       "      <td>0</td>\n",
       "      <td>4</td>\n",
       "      <td>0</td>\n",
       "      <td>0</td>\n",
       "    </tr>\n",
       "    <tr>\n",
       "      <th>1</th>\n",
       "      <td>20201129090000</td>\n",
       "      <td>10000</td>\n",
       "      <td>05.15.2138</td>\n",
       "      <td>0.0</td>\n",
       "      <td>0</td>\n",
       "      <td>0.0</td>\n",
       "      <td>0</td>\n",
       "      <td>0</td>\n",
       "      <td>0</td>\n",
       "      <td>0</td>\n",
       "      <td>0</td>\n",
       "      <td>0</td>\n",
       "      <td>0</td>\n",
       "      <td>4</td>\n",
       "      <td>0</td>\n",
       "      <td>0</td>\n",
       "    </tr>\n",
       "  </tbody>\n",
       "</table>\n",
       "</div>"
      ],
      "text/plain": [
       "             time  user_id       fwver  quality_0  quality_1  quality_2  \\\n",
       "0  20201129090000    10000  05.15.2138        0.0          0        0.0   \n",
       "1  20201129090000    10000  05.15.2138        0.0          0        0.0   \n",
       "\n",
       "   quality_3  quality_4 quality_5  quality_6 quality_7 quality_8 quality_9  \\\n",
       "0          0          0         0          0         0         0         0   \n",
       "1          0          0         0          0         0         0         0   \n",
       "\n",
       "  quality_10  quality_11  quality_12  \n",
       "0          4           0           0  \n",
       "1          4           0           0  "
      ]
     },
     "metadata": {},
     "output_type": "display_data"
    },
    {
     "data": {
      "text/html": [
       "<div>\n",
       "<style scoped>\n",
       "    .dataframe tbody tr th:only-of-type {\n",
       "        vertical-align: middle;\n",
       "    }\n",
       "\n",
       "    .dataframe tbody tr th {\n",
       "        vertical-align: top;\n",
       "    }\n",
       "\n",
       "    .dataframe thead th {\n",
       "        text-align: right;\n",
       "    }\n",
       "</style>\n",
       "<table border=\"1\" class=\"dataframe\">\n",
       "  <thead>\n",
       "    <tr style=\"text-align: right;\">\n",
       "      <th></th>\n",
       "      <th>time</th>\n",
       "      <th>user_id</th>\n",
       "      <th>fwver</th>\n",
       "      <th>quality_0</th>\n",
       "      <th>quality_1</th>\n",
       "      <th>quality_2</th>\n",
       "      <th>quality_3</th>\n",
       "      <th>quality_4</th>\n",
       "      <th>quality_5</th>\n",
       "      <th>quality_6</th>\n",
       "      <th>quality_7</th>\n",
       "      <th>quality_8</th>\n",
       "      <th>quality_9</th>\n",
       "      <th>quality_10</th>\n",
       "      <th>quality_11</th>\n",
       "      <th>quality_12</th>\n",
       "    </tr>\n",
       "  </thead>\n",
       "  <tbody>\n",
       "    <tr>\n",
       "      <th>0</th>\n",
       "      <td>20201128195000</td>\n",
       "      <td>30000</td>\n",
       "      <td>04.33.1261</td>\n",
       "      <td>0.0</td>\n",
       "      <td>0</td>\n",
       "      <td>0.0</td>\n",
       "      <td>0</td>\n",
       "      <td>0</td>\n",
       "      <td>0</td>\n",
       "      <td>0</td>\n",
       "      <td>5</td>\n",
       "      <td>0</td>\n",
       "      <td>0</td>\n",
       "      <td>2</td>\n",
       "      <td>0</td>\n",
       "      <td>0</td>\n",
       "    </tr>\n",
       "    <tr>\n",
       "      <th>1</th>\n",
       "      <td>20201128195000</td>\n",
       "      <td>30000</td>\n",
       "      <td>04.33.1261</td>\n",
       "      <td>0.0</td>\n",
       "      <td>0</td>\n",
       "      <td>0.0</td>\n",
       "      <td>0</td>\n",
       "      <td>0</td>\n",
       "      <td>0</td>\n",
       "      <td>0</td>\n",
       "      <td>5</td>\n",
       "      <td>0</td>\n",
       "      <td>0</td>\n",
       "      <td>2</td>\n",
       "      <td>0</td>\n",
       "      <td>0</td>\n",
       "    </tr>\n",
       "  </tbody>\n",
       "</table>\n",
       "</div>"
      ],
      "text/plain": [
       "             time  user_id       fwver  quality_0 quality_1  quality_2  \\\n",
       "0  20201128195000    30000  04.33.1261        0.0         0        0.0   \n",
       "1  20201128195000    30000  04.33.1261        0.0         0        0.0   \n",
       "\n",
       "   quality_3  quality_4 quality_5  quality_6 quality_7 quality_8 quality_9  \\\n",
       "0          0          0         0          0         5         0         0   \n",
       "1          0          0         0          0         5         0         0   \n",
       "\n",
       "  quality_10  quality_11  quality_12  \n",
       "0          2           0           0  \n",
       "1          2           0           0  "
      ]
     },
     "metadata": {},
     "output_type": "display_data"
    },
    {
     "data": {
      "text/html": [
       "<div>\n",
       "<style scoped>\n",
       "    .dataframe tbody tr th:only-of-type {\n",
       "        vertical-align: middle;\n",
       "    }\n",
       "\n",
       "    .dataframe tbody tr th {\n",
       "        vertical-align: top;\n",
       "    }\n",
       "\n",
       "    .dataframe thead th {\n",
       "        text-align: right;\n",
       "    }\n",
       "</style>\n",
       "<table border=\"1\" class=\"dataframe\">\n",
       "  <thead>\n",
       "    <tr style=\"text-align: right;\">\n",
       "      <th></th>\n",
       "      <th>user_id</th>\n",
       "      <th>time</th>\n",
       "    </tr>\n",
       "  </thead>\n",
       "  <tbody>\n",
       "    <tr>\n",
       "      <th>0</th>\n",
       "      <td>19224</td>\n",
       "      <td>20201102200000</td>\n",
       "    </tr>\n",
       "    <tr>\n",
       "      <th>1</th>\n",
       "      <td>23664</td>\n",
       "      <td>20201116140000</td>\n",
       "    </tr>\n",
       "  </tbody>\n",
       "</table>\n",
       "</div>"
      ],
      "text/plain": [
       "   user_id            time\n",
       "0    19224  20201102200000\n",
       "1    23664  20201116140000"
      ]
     },
     "metadata": {},
     "output_type": "display_data"
    }
   ],
   "source": [
    "display(train_err.head(2))\n",
    "display(test_err.head(2))\n",
    "display(train_quality.head(2))\n",
    "display(test_quality.head(2))\n",
    "display(train_problem.head(2))"
   ]
  },
  {
   "cell_type": "code",
   "execution_count": 4,
   "metadata": {
    "ExecuteTime": {
     "end_time": "2022-06-08T03:57:19.700547Z",
     "start_time": "2022-06-08T03:57:19.685505Z"
    },
    "scrolled": true
   },
   "outputs": [
    {
     "name": "stdout",
     "output_type": "stream",
     "text": [
      "<class 'pandas.core.frame.DataFrame'>\n",
      "RangeIndex: 16554663 entries, 0 to 16554662\n",
      "Data columns (total 6 columns):\n",
      " #   Column    Dtype \n",
      "---  ------    ----- \n",
      " 0   user_id   int64 \n",
      " 1   time      int64 \n",
      " 2   model_nm  object\n",
      " 3   fwver     object\n",
      " 4   errtype   int64 \n",
      " 5   errcode   object\n",
      "dtypes: int64(3), object(3)\n",
      "memory usage: 757.8+ MB\n"
     ]
    }
   ],
   "source": [
    "train_err.info()"
   ]
  },
  {
   "cell_type": "code",
   "execution_count": 5,
   "metadata": {
    "ExecuteTime": {
     "end_time": "2022-06-08T03:57:19.716494Z",
     "start_time": "2022-06-08T03:57:19.701544Z"
    }
   },
   "outputs": [
    {
     "name": "stdout",
     "output_type": "stream",
     "text": [
      "<class 'pandas.core.frame.DataFrame'>\n",
      "RangeIndex: 5429 entries, 0 to 5428\n",
      "Data columns (total 2 columns):\n",
      " #   Column   Non-Null Count  Dtype\n",
      "---  ------   --------------  -----\n",
      " 0   user_id  5429 non-null   int64\n",
      " 1   time     5429 non-null   int64\n",
      "dtypes: int64(2)\n",
      "memory usage: 85.0 KB\n"
     ]
    }
   ],
   "source": [
    "train_problem.info()"
   ]
  },
  {
   "cell_type": "code",
   "execution_count": 6,
   "metadata": {
    "ExecuteTime": {
     "end_time": "2022-06-08T03:57:20.063334Z",
     "start_time": "2022-06-08T03:57:19.717492Z"
    },
    "scrolled": true
   },
   "outputs": [
    {
     "name": "stdout",
     "output_type": "stream",
     "text": [
      "<class 'pandas.core.frame.DataFrame'>\n",
      "RangeIndex: 828624 entries, 0 to 828623\n",
      "Data columns (total 16 columns):\n",
      " #   Column      Non-Null Count   Dtype  \n",
      "---  ------      --------------   -----  \n",
      " 0   time        828624 non-null  int64  \n",
      " 1   user_id     828624 non-null  int64  \n",
      " 2   fwver       788544 non-null  object \n",
      " 3   quality_0   684192 non-null  float64\n",
      " 4   quality_1   828624 non-null  int64  \n",
      " 5   quality_2   788511 non-null  float64\n",
      " 6   quality_3   828624 non-null  int64  \n",
      " 7   quality_4   828624 non-null  int64  \n",
      " 8   quality_5   828604 non-null  object \n",
      " 9   quality_6   828624 non-null  int64  \n",
      " 10  quality_7   828624 non-null  object \n",
      " 11  quality_8   828624 non-null  object \n",
      " 12  quality_9   828624 non-null  object \n",
      " 13  quality_10  828624 non-null  object \n",
      " 14  quality_11  828624 non-null  int64  \n",
      " 15  quality_12  828624 non-null  int64  \n",
      "dtypes: float64(2), int64(8), object(6)\n",
      "memory usage: 101.2+ MB\n"
     ]
    }
   ],
   "source": [
    "train_quality.info()"
   ]
  },
  {
   "cell_type": "code",
   "execution_count": 7,
   "metadata": {
    "ExecuteTime": {
     "end_time": "2022-06-08T03:57:20.426208Z",
     "start_time": "2022-06-08T03:57:20.064332Z"
    },
    "scrolled": true
   },
   "outputs": [
    {
     "name": "stdout",
     "output_type": "stream",
     "text": [
      "<class 'pandas.core.frame.DataFrame'>\n",
      "RangeIndex: 747972 entries, 0 to 747971\n",
      "Data columns (total 16 columns):\n",
      " #   Column      Non-Null Count   Dtype  \n",
      "---  ------      --------------   -----  \n",
      " 0   time        747972 non-null  int64  \n",
      " 1   user_id     747972 non-null  int64  \n",
      " 2   fwver       725208 non-null  object \n",
      " 3   quality_0   641388 non-null  float64\n",
      " 4   quality_1   747961 non-null  object \n",
      " 5   quality_2   726857 non-null  float64\n",
      " 6   quality_3   747972 non-null  int64  \n",
      " 7   quality_4   747972 non-null  int64  \n",
      " 8   quality_5   747928 non-null  object \n",
      " 9   quality_6   747972 non-null  int64  \n",
      " 10  quality_7   747972 non-null  object \n",
      " 11  quality_8   747972 non-null  object \n",
      " 12  quality_9   747972 non-null  object \n",
      " 13  quality_10  747972 non-null  object \n",
      " 14  quality_11  747972 non-null  int64  \n",
      " 15  quality_12  747972 non-null  int64  \n",
      "dtypes: float64(2), int64(7), object(7)\n",
      "memory usage: 91.3+ MB\n"
     ]
    }
   ],
   "source": [
    "test_quality.info()"
   ]
  },
  {
   "cell_type": "markdown",
   "metadata": {},
   "source": [
    "## 2. 데이터 전처리"
   ]
  },
  {
   "cell_type": "markdown",
   "metadata": {},
   "source": [
    "### 2-1. 결측치 처리"
   ]
  },
  {
   "cell_type": "code",
   "execution_count": 68,
   "metadata": {
    "ExecuteTime": {
     "end_time": "2022-06-08T04:24:47.982066Z",
     "start_time": "2022-06-08T04:23:40.046657Z"
    }
   },
   "outputs": [],
   "source": [
    "# time column을 datetype으로 변경\n",
    "\n",
    "train_err['time'] = pd.to_datetime(train_err['time'], format='%Y%m%d%H%M%S')\n",
    "train_problem['time'] = pd.to_datetime(train_problem['time'], format='%Y%m%d%H%M%S')\n",
    "train_quality['time'] = pd.to_datetime(train_quality['time'], format='%Y%m%d%H%M%S')\n",
    "test_err['time'] = pd.to_datetime(test_err['time'], format='%Y%m%d%H%M%S')\n",
    "test_quality['time'] = pd.to_datetime(test_quality['time'], format='%Y%m%d%H%M%S')"
   ]
  },
  {
   "cell_type": "markdown",
   "metadata": {},
   "source": [
    "#### train_err"
   ]
  },
  {
   "cell_type": "code",
   "execution_count": 69,
   "metadata": {
    "ExecuteTime": {
     "end_time": "2022-06-08T04:24:51.653889Z",
     "start_time": "2022-06-08T04:24:48.353806Z"
    }
   },
   "outputs": [
    {
     "data": {
      "text/plain": [
       "user_id     0\n",
       "time        0\n",
       "model_nm    0\n",
       "fwver       0\n",
       "errtype     0\n",
       "errcode     1\n",
       "dtype: int64"
      ]
     },
     "execution_count": 69,
     "metadata": {},
     "output_type": "execute_result"
    }
   ],
   "source": [
    "train_err.isnull().sum()"
   ]
  },
  {
   "cell_type": "code",
   "execution_count": 70,
   "metadata": {
    "ExecuteTime": {
     "end_time": "2022-06-08T04:24:52.376839Z",
     "start_time": "2022-06-08T04:24:52.029999Z"
    }
   },
   "outputs": [
    {
     "data": {
      "text/html": [
       "<div>\n",
       "<style scoped>\n",
       "    .dataframe tbody tr th:only-of-type {\n",
       "        vertical-align: middle;\n",
       "    }\n",
       "\n",
       "    .dataframe tbody tr th {\n",
       "        vertical-align: top;\n",
       "    }\n",
       "\n",
       "    .dataframe thead th {\n",
       "        text-align: right;\n",
       "    }\n",
       "</style>\n",
       "<table border=\"1\" class=\"dataframe\">\n",
       "  <thead>\n",
       "    <tr style=\"text-align: right;\">\n",
       "      <th></th>\n",
       "      <th>user_id</th>\n",
       "      <th>time</th>\n",
       "      <th>model_nm</th>\n",
       "      <th>fwver</th>\n",
       "      <th>errtype</th>\n",
       "      <th>errcode</th>\n",
       "    </tr>\n",
       "  </thead>\n",
       "  <tbody>\n",
       "    <tr>\n",
       "      <th>3825744</th>\n",
       "      <td>13639</td>\n",
       "      <td>2020-11-21 19:17:18</td>\n",
       "      <td>model_2</td>\n",
       "      <td>04.33.1261</td>\n",
       "      <td>5</td>\n",
       "      <td>NaN</td>\n",
       "    </tr>\n",
       "  </tbody>\n",
       "</table>\n",
       "</div>"
      ],
      "text/plain": [
       "         user_id                time model_nm       fwver  errtype errcode\n",
       "3825744    13639 2020-11-21 19:17:18  model_2  04.33.1261        5     NaN"
      ]
     },
     "execution_count": 70,
     "metadata": {},
     "output_type": "execute_result"
    }
   ],
   "source": [
    "train_err[train_err.errcode.isnull()]"
   ]
  },
  {
   "cell_type": "code",
   "execution_count": 71,
   "metadata": {
    "ExecuteTime": {
     "end_time": "2022-06-08T04:24:52.769403Z",
     "start_time": "2022-06-08T04:24:52.755451Z"
    }
   },
   "outputs": [
    {
     "data": {
      "text/html": [
       "<div>\n",
       "<style scoped>\n",
       "    .dataframe tbody tr th:only-of-type {\n",
       "        vertical-align: middle;\n",
       "    }\n",
       "\n",
       "    .dataframe tbody tr th {\n",
       "        vertical-align: top;\n",
       "    }\n",
       "\n",
       "    .dataframe thead th {\n",
       "        text-align: right;\n",
       "    }\n",
       "</style>\n",
       "<table border=\"1\" class=\"dataframe\">\n",
       "  <thead>\n",
       "    <tr style=\"text-align: right;\">\n",
       "      <th></th>\n",
       "      <th>user_id</th>\n",
       "      <th>time</th>\n",
       "      <th>model_nm</th>\n",
       "      <th>fwver</th>\n",
       "      <th>errtype</th>\n",
       "      <th>errcode</th>\n",
       "    </tr>\n",
       "  </thead>\n",
       "  <tbody>\n",
       "    <tr>\n",
       "      <th>3825742</th>\n",
       "      <td>13639</td>\n",
       "      <td>2020-11-21 17:40:58</td>\n",
       "      <td>model_2</td>\n",
       "      <td>04.33.1261</td>\n",
       "      <td>31</td>\n",
       "      <td>1</td>\n",
       "    </tr>\n",
       "    <tr>\n",
       "      <th>3825743</th>\n",
       "      <td>13639</td>\n",
       "      <td>2020-11-21 17:41:10</td>\n",
       "      <td>model_2</td>\n",
       "      <td>04.33.1261</td>\n",
       "      <td>31</td>\n",
       "      <td>0</td>\n",
       "    </tr>\n",
       "    <tr>\n",
       "      <th>3825744</th>\n",
       "      <td>13639</td>\n",
       "      <td>2020-11-21 19:17:18</td>\n",
       "      <td>model_2</td>\n",
       "      <td>04.33.1261</td>\n",
       "      <td>5</td>\n",
       "      <td>NaN</td>\n",
       "    </tr>\n",
       "    <tr>\n",
       "      <th>3825745</th>\n",
       "      <td>13639</td>\n",
       "      <td>2020-11-21 19:17:18</td>\n",
       "      <td>model_2</td>\n",
       "      <td>04.33.1261</td>\n",
       "      <td>5</td>\n",
       "      <td>40013</td>\n",
       "    </tr>\n",
       "    <tr>\n",
       "      <th>3825746</th>\n",
       "      <td>13639</td>\n",
       "      <td>2020-11-21 22:09:19</td>\n",
       "      <td>model_2</td>\n",
       "      <td>04.33.1261</td>\n",
       "      <td>15</td>\n",
       "      <td>1</td>\n",
       "    </tr>\n",
       "  </tbody>\n",
       "</table>\n",
       "</div>"
      ],
      "text/plain": [
       "         user_id                time model_nm       fwver  errtype errcode\n",
       "3825742    13639 2020-11-21 17:40:58  model_2  04.33.1261       31       1\n",
       "3825743    13639 2020-11-21 17:41:10  model_2  04.33.1261       31       0\n",
       "3825744    13639 2020-11-21 19:17:18  model_2  04.33.1261        5     NaN\n",
       "3825745    13639 2020-11-21 19:17:18  model_2  04.33.1261        5   40013\n",
       "3825746    13639 2020-11-21 22:09:19  model_2  04.33.1261       15       1"
      ]
     },
     "execution_count": 71,
     "metadata": {},
     "output_type": "execute_result"
    }
   ],
   "source": [
    "# errcode 40013일 때와 user_id, time, model_nm, fwver, errtype모두 같다\n",
    "train_err.iloc[3825742:3825747]"
   ]
  },
  {
   "cell_type": "code",
   "execution_count": 72,
   "metadata": {
    "ExecuteTime": {
     "end_time": "2022-06-08T04:24:53.645199Z",
     "start_time": "2022-06-08T04:24:53.145089Z"
    }
   },
   "outputs": [],
   "source": [
    "# 따라서 같은 errcode일 것임을 유추하여 40013값을 넣어준다.\n",
    "train_err.errcode = train_err.errcode.fillna('40013')"
   ]
  },
  {
   "cell_type": "code",
   "execution_count": 73,
   "metadata": {
    "ExecuteTime": {
     "end_time": "2022-06-08T04:24:57.371528Z",
     "start_time": "2022-06-08T04:24:54.019668Z"
    }
   },
   "outputs": [
    {
     "data": {
      "text/plain": [
       "user_id     0\n",
       "time        0\n",
       "model_nm    0\n",
       "fwver       0\n",
       "errtype     0\n",
       "errcode     0\n",
       "dtype: int64"
      ]
     },
     "execution_count": 73,
     "metadata": {},
     "output_type": "execute_result"
    }
   ],
   "source": [
    "train_err.isnull().sum()"
   ]
  },
  {
   "cell_type": "code",
   "execution_count": 74,
   "metadata": {
    "ExecuteTime": {
     "end_time": "2022-06-08T04:25:03.276038Z",
     "start_time": "2022-06-08T04:24:57.752465Z"
    }
   },
   "outputs": [
    {
     "name": "stdout",
     "output_type": "stream",
     "text": [
      "(16554663, 6)\n",
      "(15368001, 6)\n"
     ]
    }
   ],
   "source": [
    "# train_err의 중복값 제거\n",
    "\n",
    "print(train_err.shape)\n",
    "train_err = train_err.drop_duplicates(subset=None, keep='first')\n",
    "print(train_err.shape)"
   ]
  },
  {
   "cell_type": "code",
   "execution_count": 75,
   "metadata": {
    "ExecuteTime": {
     "end_time": "2022-06-08T04:25:03.670415Z",
     "start_time": "2022-06-08T04:25:03.655465Z"
    }
   },
   "outputs": [
    {
     "name": "stdout",
     "output_type": "stream",
     "text": [
      "<class 'pandas.core.frame.DataFrame'>\n",
      "Int64Index: 15368001 entries, 0 to 16554662\n",
      "Data columns (total 6 columns):\n",
      " #   Column    Dtype         \n",
      "---  ------    -----         \n",
      " 0   user_id   int64         \n",
      " 1   time      datetime64[ns]\n",
      " 2   model_nm  object        \n",
      " 3   fwver     object        \n",
      " 4   errtype   int64         \n",
      " 5   errcode   object        \n",
      "dtypes: datetime64[ns](1), int64(2), object(3)\n",
      "memory usage: 820.7+ MB\n"
     ]
    }
   ],
   "source": [
    "# model_nm, fwver, errcode encoding 필요\n",
    "\n",
    "train_err.info()"
   ]
  },
  {
   "cell_type": "markdown",
   "metadata": {},
   "source": [
    "#### train_quality"
   ]
  },
  {
   "cell_type": "code",
   "execution_count": 76,
   "metadata": {
    "ExecuteTime": {
     "end_time": "2022-06-08T04:25:04.167107Z",
     "start_time": "2022-06-08T04:25:04.043470Z"
    }
   },
   "outputs": [
    {
     "data": {
      "text/plain": [
       "time          0\n",
       "user_id       0\n",
       "fwver         0\n",
       "quality_0     0\n",
       "quality_1     0\n",
       "quality_2     0\n",
       "quality_3     0\n",
       "quality_4     0\n",
       "quality_5     0\n",
       "quality_6     0\n",
       "quality_7     0\n",
       "quality_8     0\n",
       "quality_9     0\n",
       "quality_10    0\n",
       "quality_11    0\n",
       "quality_12    0\n",
       "dtype: int64"
      ]
     },
     "execution_count": 76,
     "metadata": {},
     "output_type": "execute_result"
    }
   ],
   "source": [
    "train_quality.isnull().sum()"
   ]
  },
  {
   "cell_type": "code",
   "execution_count": 77,
   "metadata": {
    "ExecuteTime": {
     "end_time": "2022-06-08T04:25:04.558297Z",
     "start_time": "2022-06-08T04:25:04.543301Z"
    },
    "scrolled": true
   },
   "outputs": [],
   "source": [
    "# 1. fwver 결측치\n",
    "\n",
    "# case1. fwver=non을 이상치로 판단하고 모두 지우기\n",
    "# case2. train_err에서 해당 user_id의 fwver값을 가져와 채우기"
   ]
  },
  {
   "cell_type": "code",
   "execution_count": 116,
   "metadata": {
    "ExecuteTime": {
     "end_time": "2022-06-08T04:33:55.872063Z",
     "start_time": "2022-06-08T04:33:55.458308Z"
    }
   },
   "outputs": [
    {
     "name": "stdout",
     "output_type": "stream",
     "text": [
      "<class 'pandas.core.frame.DataFrame'>\n",
      "Int64Index: 788544 entries, 0 to 828623\n",
      "Data columns (total 16 columns):\n",
      " #   Column      Non-Null Count   Dtype  \n",
      "---  ------      --------------   -----  \n",
      " 0   time        788544 non-null  int64  \n",
      " 1   user_id     788544 non-null  int64  \n",
      " 2   fwver       788544 non-null  object \n",
      " 3   quality_0   684192 non-null  float64\n",
      " 4   quality_1   788544 non-null  int64  \n",
      " 5   quality_2   788511 non-null  float64\n",
      " 6   quality_3   788544 non-null  int64  \n",
      " 7   quality_4   788544 non-null  int64  \n",
      " 8   quality_5   788524 non-null  object \n",
      " 9   quality_6   788544 non-null  int64  \n",
      " 10  quality_7   788544 non-null  object \n",
      " 11  quality_8   788544 non-null  object \n",
      " 12  quality_9   788544 non-null  object \n",
      " 13  quality_10  788544 non-null  object \n",
      " 14  quality_11  788544 non-null  int64  \n",
      " 15  quality_12  788544 non-null  int64  \n",
      "dtypes: float64(2), int64(8), object(6)\n",
      "memory usage: 102.3+ MB\n"
     ]
    }
   ],
   "source": [
    "# train_err에는 fwver가 업그레이드 된 경우가 많이 있다.\n",
    "# 결측치 비율이 적고, 어떤 fwver에서 로그가 찍혔는지 알기 힘드므로 case1 선택\n",
    "\n",
    "fwver_null_index = train_quality[train_quality.fwver.isnull()].index\n",
    "\n",
    "train_quality = train_quality.drop(fwver_null_index, axis=0)\n",
    "train_quality.info()"
   ]
  },
  {
   "cell_type": "code",
   "execution_count": 79,
   "metadata": {
    "ExecuteTime": {
     "end_time": "2022-06-08T04:25:05.494640Z",
     "start_time": "2022-06-08T04:25:05.479683Z"
    },
    "scrolled": true
   },
   "outputs": [
    {
     "data": {
      "text/plain": [
       "count    272452.000000\n",
       "mean         10.786660\n",
       "std         759.517259\n",
       "min          -1.000000\n",
       "25%           0.000000\n",
       "50%           0.000000\n",
       "75%           0.000000\n",
       "max      157667.000000\n",
       "Name: quality_0, dtype: float64"
      ]
     },
     "execution_count": 79,
     "metadata": {},
     "output_type": "execute_result"
    }
   ],
   "source": [
    "# 2. quality 결측치\n",
    "\n",
    "# case1. 최빈값 채우기\n",
    "# case2. 평균값 채우기\n",
    "\n",
    "# quality_0\n",
    "train_quality.quality_0.describe()"
   ]
  },
  {
   "cell_type": "code",
   "execution_count": 80,
   "metadata": {
    "ExecuteTime": {
     "end_time": "2022-06-08T04:25:05.888560Z",
     "start_time": "2022-06-08T04:25:05.873592Z"
    },
    "scrolled": true
   },
   "outputs": [
    {
     "data": {
      "text/plain": [
       " 0.0       237666\n",
       "-1.0        25363\n",
       " 1.0         1522\n",
       " 2.0         1073\n",
       " 3.0          438\n",
       "            ...  \n",
       " 1113.0         1\n",
       " 1177.0         1\n",
       " 1186.0         1\n",
       " 946.0          1\n",
       " 2351.0         1\n",
       "Name: quality_0, Length: 753, dtype: int64"
      ]
     },
     "execution_count": 80,
     "metadata": {},
     "output_type": "execute_result"
    }
   ],
   "source": [
    "train_quality.quality_0.value_counts()"
   ]
  },
  {
   "cell_type": "code",
   "execution_count": 81,
   "metadata": {
    "ExecuteTime": {
     "end_time": "2022-06-08T04:25:06.275671Z",
     "start_time": "2022-06-08T04:25:06.260721Z"
    }
   },
   "outputs": [
    {
     "data": {
      "text/plain": [
       "count    272452.000000\n",
       "mean         14.158138\n",
       "std         997.273716\n",
       "min          -1.000000\n",
       "25%           0.000000\n",
       "50%           0.000000\n",
       "75%           0.000000\n",
       "max      191859.000000\n",
       "Name: quality_2, dtype: float64"
      ]
     },
     "execution_count": 81,
     "metadata": {},
     "output_type": "execute_result"
    }
   ],
   "source": [
    "# quality_2\n",
    "train_quality.quality_2.describe()"
   ]
  },
  {
   "cell_type": "code",
   "execution_count": 82,
   "metadata": {
    "ExecuteTime": {
     "end_time": "2022-06-08T04:25:06.663489Z",
     "start_time": "2022-06-08T04:25:06.648521Z"
    },
    "scrolled": true
   },
   "outputs": [
    {
     "data": {
      "text/plain": [
       " 0.0        233943\n",
       "-1.0         28073\n",
       " 1.0          2296\n",
       " 2.0           900\n",
       " 3.0           500\n",
       "             ...  \n",
       " 872.0           1\n",
       " 11259.0         1\n",
       " 373.0           1\n",
       " 8278.0          1\n",
       " 2351.0          1\n",
       "Name: quality_2, Length: 798, dtype: int64"
      ]
     },
     "execution_count": 82,
     "metadata": {},
     "output_type": "execute_result"
    }
   ],
   "source": [
    "train_quality.quality_2.value_counts()"
   ]
  },
  {
   "cell_type": "code",
   "execution_count": 83,
   "metadata": {
    "ExecuteTime": {
     "end_time": "2022-06-08T04:25:07.065937Z",
     "start_time": "2022-06-08T04:25:07.037032Z"
    }
   },
   "outputs": [
    {
     "data": {
      "text/plain": [
       "0         61044\n",
       "1         29633\n",
       "-1        28072\n",
       "2         25140\n",
       "3         16692\n",
       "          ...  \n",
       "8,415         1\n",
       "9,812         1\n",
       "10,490        1\n",
       "10,821        1\n",
       "9,558         1\n",
       "Name: quality_5, Length: 4744, dtype: int64"
      ]
     },
     "execution_count": 83,
     "metadata": {},
     "output_type": "execute_result"
    }
   ],
   "source": [
    "# quality_5\n",
    "train_quality.quality_5.value_counts()\n",
    "\n",
    "# -1, 0 ,1에 데이터가 편향되어있고, max값과 차이가 많이 나므로 평균보단 최빈값으로?"
   ]
  },
  {
   "cell_type": "code",
   "execution_count": 117,
   "metadata": {
    "ExecuteTime": {
     "end_time": "2022-06-08T04:34:00.630169Z",
     "start_time": "2022-06-08T04:34:00.217430Z"
    }
   },
   "outputs": [],
   "source": [
    "# case1. 최빈값으로 채우기\n",
    "\n",
    "for i in train_quality.columns[3:]:\n",
    "    train_quality[i] = train_quality[i].fillna(train_quality[i].mode()[0])"
   ]
  },
  {
   "cell_type": "code",
   "execution_count": 118,
   "metadata": {
    "ExecuteTime": {
     "end_time": "2022-06-08T04:34:02.839783Z",
     "start_time": "2022-06-08T04:34:02.510884Z"
    },
    "scrolled": true
   },
   "outputs": [
    {
     "data": {
      "text/plain": [
       "time          0\n",
       "user_id       0\n",
       "fwver         0\n",
       "quality_0     0\n",
       "quality_1     0\n",
       "quality_2     0\n",
       "quality_3     0\n",
       "quality_4     0\n",
       "quality_5     0\n",
       "quality_6     0\n",
       "quality_7     0\n",
       "quality_8     0\n",
       "quality_9     0\n",
       "quality_10    0\n",
       "quality_11    0\n",
       "quality_12    0\n",
       "dtype: int64"
      ]
     },
     "execution_count": 118,
     "metadata": {},
     "output_type": "execute_result"
    }
   ],
   "source": [
    "train_quality.isnull().sum()"
   ]
  },
  {
   "cell_type": "code",
   "execution_count": 119,
   "metadata": {
    "ExecuteTime": {
     "end_time": "2022-06-08T04:34:04.466134Z",
     "start_time": "2022-06-08T04:34:04.090391Z"
    },
    "scrolled": true
   },
   "outputs": [
    {
     "name": "stdout",
     "output_type": "stream",
     "text": [
      "(788544, 16)\n",
      "(272452, 16)\n"
     ]
    }
   ],
   "source": [
    "# train_quality 중복값 제거\n",
    "\n",
    "print(train_quality.shape)\n",
    "train_quality = train_quality.drop_duplicates(subset=None, keep='first')\n",
    "print(train_quality.shape)"
   ]
  },
  {
   "cell_type": "markdown",
   "metadata": {},
   "source": [
    "#### test_err"
   ]
  },
  {
   "cell_type": "code",
   "execution_count": 87,
   "metadata": {
    "ExecuteTime": {
     "end_time": "2022-06-08T04:25:12.441275Z",
     "start_time": "2022-06-08T04:25:09.035666Z"
    }
   },
   "outputs": [
    {
     "data": {
      "text/plain": [
       "user_id     0\n",
       "time        0\n",
       "model_nm    0\n",
       "fwver       0\n",
       "errtype     0\n",
       "errcode     4\n",
       "dtype: int64"
      ]
     },
     "execution_count": 87,
     "metadata": {},
     "output_type": "execute_result"
    }
   ],
   "source": [
    "test_err.isnull().sum()"
   ]
  },
  {
   "cell_type": "code",
   "execution_count": 88,
   "metadata": {
    "ExecuteTime": {
     "end_time": "2022-06-08T04:25:13.176165Z",
     "start_time": "2022-06-08T04:25:12.814376Z"
    }
   },
   "outputs": [
    {
     "data": {
      "text/html": [
       "<div>\n",
       "<style scoped>\n",
       "    .dataframe tbody tr th:only-of-type {\n",
       "        vertical-align: middle;\n",
       "    }\n",
       "\n",
       "    .dataframe tbody tr th {\n",
       "        vertical-align: top;\n",
       "    }\n",
       "\n",
       "    .dataframe thead th {\n",
       "        text-align: right;\n",
       "    }\n",
       "</style>\n",
       "<table border=\"1\" class=\"dataframe\">\n",
       "  <thead>\n",
       "    <tr style=\"text-align: right;\">\n",
       "      <th></th>\n",
       "      <th>user_id</th>\n",
       "      <th>time</th>\n",
       "      <th>model_nm</th>\n",
       "      <th>fwver</th>\n",
       "      <th>errtype</th>\n",
       "      <th>errcode</th>\n",
       "    </tr>\n",
       "  </thead>\n",
       "  <tbody>\n",
       "    <tr>\n",
       "      <th>937967</th>\n",
       "      <td>30820</td>\n",
       "      <td>2020-11-15 04:43:17</td>\n",
       "      <td>model_2</td>\n",
       "      <td>04.33.1261</td>\n",
       "      <td>5</td>\n",
       "      <td>NaN</td>\n",
       "    </tr>\n",
       "    <tr>\n",
       "      <th>4038892</th>\n",
       "      <td>33681</td>\n",
       "      <td>2020-11-03 11:02:59</td>\n",
       "      <td>model_2</td>\n",
       "      <td>04.33.1185</td>\n",
       "      <td>5</td>\n",
       "      <td>NaN</td>\n",
       "    </tr>\n",
       "    <tr>\n",
       "      <th>9486881</th>\n",
       "      <td>38991</td>\n",
       "      <td>2020-11-27 21:38:38</td>\n",
       "      <td>model_2</td>\n",
       "      <td>04.33.1261</td>\n",
       "      <td>5</td>\n",
       "      <td>NaN</td>\n",
       "    </tr>\n",
       "    <tr>\n",
       "      <th>10425473</th>\n",
       "      <td>39894</td>\n",
       "      <td>2020-11-28 14:47:12</td>\n",
       "      <td>model_1</td>\n",
       "      <td>04.16.3553</td>\n",
       "      <td>5</td>\n",
       "      <td>NaN</td>\n",
       "    </tr>\n",
       "  </tbody>\n",
       "</table>\n",
       "</div>"
      ],
      "text/plain": [
       "          user_id                time model_nm       fwver  errtype errcode\n",
       "937967      30820 2020-11-15 04:43:17  model_2  04.33.1261        5     NaN\n",
       "4038892     33681 2020-11-03 11:02:59  model_2  04.33.1185        5     NaN\n",
       "9486881     38991 2020-11-27 21:38:38  model_2  04.33.1261        5     NaN\n",
       "10425473    39894 2020-11-28 14:47:12  model_1  04.16.3553        5     NaN"
      ]
     },
     "execution_count": 88,
     "metadata": {},
     "output_type": "execute_result"
    }
   ],
   "source": [
    "test_err[test_err.errcode.isnull()] "
   ]
  },
  {
   "cell_type": "code",
   "execution_count": 89,
   "metadata": {
    "ExecuteTime": {
     "end_time": "2022-06-08T04:25:13.571261Z",
     "start_time": "2022-06-08T04:25:13.556312Z"
    }
   },
   "outputs": [
    {
     "data": {
      "text/html": [
       "<div>\n",
       "<style scoped>\n",
       "    .dataframe tbody tr th:only-of-type {\n",
       "        vertical-align: middle;\n",
       "    }\n",
       "\n",
       "    .dataframe tbody tr th {\n",
       "        vertical-align: top;\n",
       "    }\n",
       "\n",
       "    .dataframe thead th {\n",
       "        text-align: right;\n",
       "    }\n",
       "</style>\n",
       "<table border=\"1\" class=\"dataframe\">\n",
       "  <thead>\n",
       "    <tr style=\"text-align: right;\">\n",
       "      <th></th>\n",
       "      <th>user_id</th>\n",
       "      <th>time</th>\n",
       "      <th>model_nm</th>\n",
       "      <th>fwver</th>\n",
       "      <th>errtype</th>\n",
       "      <th>errcode</th>\n",
       "    </tr>\n",
       "  </thead>\n",
       "  <tbody>\n",
       "    <tr>\n",
       "      <th>937965</th>\n",
       "      <td>30820</td>\n",
       "      <td>2020-11-15 03:59:00</td>\n",
       "      <td>model_2</td>\n",
       "      <td>04.33.1261</td>\n",
       "      <td>40</td>\n",
       "      <td>1</td>\n",
       "    </tr>\n",
       "    <tr>\n",
       "      <th>937966</th>\n",
       "      <td>30820</td>\n",
       "      <td>2020-11-15 03:59:02</td>\n",
       "      <td>model_2</td>\n",
       "      <td>04.33.1261</td>\n",
       "      <td>40</td>\n",
       "      <td>0</td>\n",
       "    </tr>\n",
       "    <tr>\n",
       "      <th>937967</th>\n",
       "      <td>30820</td>\n",
       "      <td>2020-11-15 04:43:17</td>\n",
       "      <td>model_2</td>\n",
       "      <td>04.33.1261</td>\n",
       "      <td>5</td>\n",
       "      <td>NaN</td>\n",
       "    </tr>\n",
       "    <tr>\n",
       "      <th>937968</th>\n",
       "      <td>30820</td>\n",
       "      <td>2020-11-15 04:43:17</td>\n",
       "      <td>model_2</td>\n",
       "      <td>04.33.1261</td>\n",
       "      <td>5</td>\n",
       "      <td>40053</td>\n",
       "    </tr>\n",
       "    <tr>\n",
       "      <th>937969</th>\n",
       "      <td>30820</td>\n",
       "      <td>2020-11-15 09:10:24</td>\n",
       "      <td>model_2</td>\n",
       "      <td>04.33.1261</td>\n",
       "      <td>15</td>\n",
       "      <td>1</td>\n",
       "    </tr>\n",
       "  </tbody>\n",
       "</table>\n",
       "</div>"
      ],
      "text/plain": [
       "        user_id                time model_nm       fwver  errtype errcode\n",
       "937965    30820 2020-11-15 03:59:00  model_2  04.33.1261       40       1\n",
       "937966    30820 2020-11-15 03:59:02  model_2  04.33.1261       40       0\n",
       "937967    30820 2020-11-15 04:43:17  model_2  04.33.1261        5     NaN\n",
       "937968    30820 2020-11-15 04:43:17  model_2  04.33.1261        5   40053\n",
       "937969    30820 2020-11-15 09:10:24  model_2  04.33.1261       15       1"
      ]
     },
     "execution_count": 89,
     "metadata": {},
     "output_type": "execute_result"
    }
   ],
   "source": [
    "# 40053으로 채우기\n",
    "test_err.iloc[937965:937970]"
   ]
  },
  {
   "cell_type": "code",
   "execution_count": 90,
   "metadata": {
    "ExecuteTime": {
     "end_time": "2022-06-08T04:25:13.961057Z",
     "start_time": "2022-06-08T04:25:13.947105Z"
    }
   },
   "outputs": [
    {
     "data": {
      "text/html": [
       "<div>\n",
       "<style scoped>\n",
       "    .dataframe tbody tr th:only-of-type {\n",
       "        vertical-align: middle;\n",
       "    }\n",
       "\n",
       "    .dataframe tbody tr th {\n",
       "        vertical-align: top;\n",
       "    }\n",
       "\n",
       "    .dataframe thead th {\n",
       "        text-align: right;\n",
       "    }\n",
       "</style>\n",
       "<table border=\"1\" class=\"dataframe\">\n",
       "  <thead>\n",
       "    <tr style=\"text-align: right;\">\n",
       "      <th></th>\n",
       "      <th>user_id</th>\n",
       "      <th>time</th>\n",
       "      <th>model_nm</th>\n",
       "      <th>fwver</th>\n",
       "      <th>errtype</th>\n",
       "      <th>errcode</th>\n",
       "    </tr>\n",
       "  </thead>\n",
       "  <tbody>\n",
       "    <tr>\n",
       "      <th>4038890</th>\n",
       "      <td>33681</td>\n",
       "      <td>2020-11-03 11:01:47</td>\n",
       "      <td>model_2</td>\n",
       "      <td>04.33.1185</td>\n",
       "      <td>14</td>\n",
       "      <td>14</td>\n",
       "    </tr>\n",
       "    <tr>\n",
       "      <th>4038891</th>\n",
       "      <td>33681</td>\n",
       "      <td>2020-11-03 11:02:59</td>\n",
       "      <td>model_2</td>\n",
       "      <td>04.33.1185</td>\n",
       "      <td>7</td>\n",
       "      <td>14</td>\n",
       "    </tr>\n",
       "    <tr>\n",
       "      <th>4038892</th>\n",
       "      <td>33681</td>\n",
       "      <td>2020-11-03 11:02:59</td>\n",
       "      <td>model_2</td>\n",
       "      <td>04.33.1185</td>\n",
       "      <td>5</td>\n",
       "      <td>NaN</td>\n",
       "    </tr>\n",
       "    <tr>\n",
       "      <th>4038893</th>\n",
       "      <td>33681</td>\n",
       "      <td>2020-11-03 11:02:59</td>\n",
       "      <td>model_2</td>\n",
       "      <td>04.33.1185</td>\n",
       "      <td>5</td>\n",
       "      <td>40053</td>\n",
       "    </tr>\n",
       "    <tr>\n",
       "      <th>4038894</th>\n",
       "      <td>33681</td>\n",
       "      <td>2020-11-03 11:03:00</td>\n",
       "      <td>model_2</td>\n",
       "      <td>04.33.1185</td>\n",
       "      <td>6</td>\n",
       "      <td>14</td>\n",
       "    </tr>\n",
       "  </tbody>\n",
       "</table>\n",
       "</div>"
      ],
      "text/plain": [
       "         user_id                time model_nm       fwver  errtype errcode\n",
       "4038890    33681 2020-11-03 11:01:47  model_2  04.33.1185       14      14\n",
       "4038891    33681 2020-11-03 11:02:59  model_2  04.33.1185        7      14\n",
       "4038892    33681 2020-11-03 11:02:59  model_2  04.33.1185        5     NaN\n",
       "4038893    33681 2020-11-03 11:02:59  model_2  04.33.1185        5   40053\n",
       "4038894    33681 2020-11-03 11:03:00  model_2  04.33.1185        6      14"
      ]
     },
     "execution_count": 90,
     "metadata": {},
     "output_type": "execute_result"
    }
   ],
   "source": [
    "# 40053으로 채우기\n",
    "test_err.iloc[4038890:4038895]"
   ]
  },
  {
   "cell_type": "code",
   "execution_count": 91,
   "metadata": {
    "ExecuteTime": {
     "end_time": "2022-06-08T04:25:14.348761Z",
     "start_time": "2022-06-08T04:25:14.333792Z"
    }
   },
   "outputs": [
    {
     "data": {
      "text/html": [
       "<div>\n",
       "<style scoped>\n",
       "    .dataframe tbody tr th:only-of-type {\n",
       "        vertical-align: middle;\n",
       "    }\n",
       "\n",
       "    .dataframe tbody tr th {\n",
       "        vertical-align: top;\n",
       "    }\n",
       "\n",
       "    .dataframe thead th {\n",
       "        text-align: right;\n",
       "    }\n",
       "</style>\n",
       "<table border=\"1\" class=\"dataframe\">\n",
       "  <thead>\n",
       "    <tr style=\"text-align: right;\">\n",
       "      <th></th>\n",
       "      <th>user_id</th>\n",
       "      <th>time</th>\n",
       "      <th>model_nm</th>\n",
       "      <th>fwver</th>\n",
       "      <th>errtype</th>\n",
       "      <th>errcode</th>\n",
       "    </tr>\n",
       "  </thead>\n",
       "  <tbody>\n",
       "    <tr>\n",
       "      <th>9486879</th>\n",
       "      <td>38991</td>\n",
       "      <td>2020-11-27 18:59:52</td>\n",
       "      <td>model_2</td>\n",
       "      <td>04.33.1261</td>\n",
       "      <td>5</td>\n",
       "      <td>B-A8002</td>\n",
       "    </tr>\n",
       "    <tr>\n",
       "      <th>9486880</th>\n",
       "      <td>38991</td>\n",
       "      <td>2020-11-27 21:38:38</td>\n",
       "      <td>model_2</td>\n",
       "      <td>04.33.1261</td>\n",
       "      <td>5</td>\n",
       "      <td>40053</td>\n",
       "    </tr>\n",
       "    <tr>\n",
       "      <th>9486881</th>\n",
       "      <td>38991</td>\n",
       "      <td>2020-11-27 21:38:38</td>\n",
       "      <td>model_2</td>\n",
       "      <td>04.33.1261</td>\n",
       "      <td>5</td>\n",
       "      <td>NaN</td>\n",
       "    </tr>\n",
       "    <tr>\n",
       "      <th>9486882</th>\n",
       "      <td>38991</td>\n",
       "      <td>2020-11-28 00:13:46</td>\n",
       "      <td>model_2</td>\n",
       "      <td>04.33.1261</td>\n",
       "      <td>26</td>\n",
       "      <td>1</td>\n",
       "    </tr>\n",
       "  </tbody>\n",
       "</table>\n",
       "</div>"
      ],
      "text/plain": [
       "         user_id                time model_nm       fwver  errtype  errcode\n",
       "9486879    38991 2020-11-27 18:59:52  model_2  04.33.1261        5  B-A8002\n",
       "9486880    38991 2020-11-27 21:38:38  model_2  04.33.1261        5    40053\n",
       "9486881    38991 2020-11-27 21:38:38  model_2  04.33.1261        5      NaN\n",
       "9486882    38991 2020-11-28 00:13:46  model_2  04.33.1261       26        1"
      ]
     },
     "execution_count": 91,
     "metadata": {},
     "output_type": "execute_result"
    }
   ],
   "source": [
    "# 40053으로 채우기\n",
    "test_err.iloc[9486879:9486883]"
   ]
  },
  {
   "cell_type": "code",
   "execution_count": 92,
   "metadata": {
    "ExecuteTime": {
     "end_time": "2022-06-08T04:25:14.740165Z",
     "start_time": "2022-06-08T04:25:14.725215Z"
    }
   },
   "outputs": [
    {
     "data": {
      "text/html": [
       "<div>\n",
       "<style scoped>\n",
       "    .dataframe tbody tr th:only-of-type {\n",
       "        vertical-align: middle;\n",
       "    }\n",
       "\n",
       "    .dataframe tbody tr th {\n",
       "        vertical-align: top;\n",
       "    }\n",
       "\n",
       "    .dataframe thead th {\n",
       "        text-align: right;\n",
       "    }\n",
       "</style>\n",
       "<table border=\"1\" class=\"dataframe\">\n",
       "  <thead>\n",
       "    <tr style=\"text-align: right;\">\n",
       "      <th></th>\n",
       "      <th>user_id</th>\n",
       "      <th>time</th>\n",
       "      <th>model_nm</th>\n",
       "      <th>fwver</th>\n",
       "      <th>errtype</th>\n",
       "      <th>errcode</th>\n",
       "    </tr>\n",
       "  </thead>\n",
       "  <tbody>\n",
       "    <tr>\n",
       "      <th>10425470</th>\n",
       "      <td>39894</td>\n",
       "      <td>2020-11-28 14:46:05</td>\n",
       "      <td>model_1</td>\n",
       "      <td>04.16.3553</td>\n",
       "      <td>20</td>\n",
       "      <td>1</td>\n",
       "    </tr>\n",
       "    <tr>\n",
       "      <th>10425471</th>\n",
       "      <td>39894</td>\n",
       "      <td>2020-11-28 14:46:21</td>\n",
       "      <td>model_1</td>\n",
       "      <td>04.16.3553</td>\n",
       "      <td>26</td>\n",
       "      <td>1</td>\n",
       "    </tr>\n",
       "    <tr>\n",
       "      <th>10425472</th>\n",
       "      <td>39894</td>\n",
       "      <td>2020-11-28 14:47:12</td>\n",
       "      <td>model_1</td>\n",
       "      <td>04.16.3553</td>\n",
       "      <td>5</td>\n",
       "      <td>-1010</td>\n",
       "    </tr>\n",
       "    <tr>\n",
       "      <th>10425473</th>\n",
       "      <td>39894</td>\n",
       "      <td>2020-11-28 14:47:12</td>\n",
       "      <td>model_1</td>\n",
       "      <td>04.16.3553</td>\n",
       "      <td>5</td>\n",
       "      <td>NaN</td>\n",
       "    </tr>\n",
       "    <tr>\n",
       "      <th>10425474</th>\n",
       "      <td>39894</td>\n",
       "      <td>2020-11-28 14:47:57</td>\n",
       "      <td>model_1</td>\n",
       "      <td>04.16.3553</td>\n",
       "      <td>32</td>\n",
       "      <td>80</td>\n",
       "    </tr>\n",
       "  </tbody>\n",
       "</table>\n",
       "</div>"
      ],
      "text/plain": [
       "          user_id                time model_nm       fwver  errtype errcode\n",
       "10425470    39894 2020-11-28 14:46:05  model_1  04.16.3553       20       1\n",
       "10425471    39894 2020-11-28 14:46:21  model_1  04.16.3553       26       1\n",
       "10425472    39894 2020-11-28 14:47:12  model_1  04.16.3553        5   -1010\n",
       "10425473    39894 2020-11-28 14:47:12  model_1  04.16.3553        5     NaN\n",
       "10425474    39894 2020-11-28 14:47:57  model_1  04.16.3553       32      80"
      ]
     },
     "execution_count": 92,
     "metadata": {},
     "output_type": "execute_result"
    }
   ],
   "source": [
    "# -1010으로 채우기\n",
    "test_err.iloc[10425470:10425475]"
   ]
  },
  {
   "cell_type": "code",
   "execution_count": 93,
   "metadata": {
    "ExecuteTime": {
     "end_time": "2022-06-08T04:25:15.133830Z",
     "start_time": "2022-06-08T04:25:15.118827Z"
    }
   },
   "outputs": [],
   "source": [
    "# 결측치 채우기\n",
    "test_err.iloc[937967, 5] = '40053'\n",
    "test_err.iloc[4038892, 5] = '40053'\n",
    "test_err.iloc[9486881, 5] = '40053'\n",
    "test_err.iloc[10425473, 5] = '-1010'"
   ]
  },
  {
   "cell_type": "code",
   "execution_count": 94,
   "metadata": {
    "ExecuteTime": {
     "end_time": "2022-06-08T04:25:18.832011Z",
     "start_time": "2022-06-08T04:25:15.514028Z"
    }
   },
   "outputs": [
    {
     "data": {
      "text/plain": [
       "user_id     0\n",
       "time        0\n",
       "model_nm    0\n",
       "fwver       0\n",
       "errtype     0\n",
       "errcode     0\n",
       "dtype: int64"
      ]
     },
     "execution_count": 94,
     "metadata": {},
     "output_type": "execute_result"
    }
   ],
   "source": [
    "test_err.isnull().sum()"
   ]
  },
  {
   "cell_type": "code",
   "execution_count": 95,
   "metadata": {
    "ExecuteTime": {
     "end_time": "2022-06-08T04:25:24.284107Z",
     "start_time": "2022-06-08T04:25:19.209726Z"
    }
   },
   "outputs": [
    {
     "name": "stdout",
     "output_type": "stream",
     "text": [
      "(16532648, 6)\n",
      "(15527221, 6)\n"
     ]
    }
   ],
   "source": [
    "# test_err 중복값 제거\n",
    "\n",
    "print(test_err.shape)\n",
    "test_err = test_err.drop_duplicates(subset=None, keep='first')\n",
    "print(test_err.shape)"
   ]
  },
  {
   "cell_type": "markdown",
   "metadata": {},
   "source": [
    "#### test_quality"
   ]
  },
  {
   "cell_type": "code",
   "execution_count": 96,
   "metadata": {
    "ExecuteTime": {
     "end_time": "2022-06-08T04:25:25.020187Z",
     "start_time": "2022-06-08T04:25:24.660362Z"
    }
   },
   "outputs": [
    {
     "data": {
      "text/plain": [
       "time               0\n",
       "user_id            0\n",
       "fwver          22764\n",
       "quality_0     106584\n",
       "quality_1         11\n",
       "quality_2      21115\n",
       "quality_3          0\n",
       "quality_4          0\n",
       "quality_5         44\n",
       "quality_6          0\n",
       "quality_7          0\n",
       "quality_8          0\n",
       "quality_9          0\n",
       "quality_10         0\n",
       "quality_11         0\n",
       "quality_12         0\n",
       "dtype: int64"
      ]
     },
     "execution_count": 96,
     "metadata": {},
     "output_type": "execute_result"
    }
   ],
   "source": [
    "test_quality.isnull().sum()"
   ]
  },
  {
   "cell_type": "code",
   "execution_count": 97,
   "metadata": {
    "ExecuteTime": {
     "end_time": "2022-06-08T04:25:25.822364Z",
     "start_time": "2022-06-08T04:25:25.397422Z"
    }
   },
   "outputs": [
    {
     "name": "stdout",
     "output_type": "stream",
     "text": [
      "<class 'pandas.core.frame.DataFrame'>\n",
      "Int64Index: 725208 entries, 0 to 747971\n",
      "Data columns (total 16 columns):\n",
      " #   Column      Non-Null Count   Dtype         \n",
      "---  ------      --------------   -----         \n",
      " 0   time        725208 non-null  datetime64[ns]\n",
      " 1   user_id     725208 non-null  int64         \n",
      " 2   fwver       725208 non-null  object        \n",
      " 3   quality_0   639780 non-null  float64       \n",
      " 4   quality_1   725197 non-null  object        \n",
      " 5   quality_2   725177 non-null  float64       \n",
      " 6   quality_3   725208 non-null  int64         \n",
      " 7   quality_4   725208 non-null  int64         \n",
      " 8   quality_5   725164 non-null  object        \n",
      " 9   quality_6   725208 non-null  int64         \n",
      " 10  quality_7   725208 non-null  object        \n",
      " 11  quality_8   725208 non-null  object        \n",
      " 12  quality_9   725208 non-null  object        \n",
      " 13  quality_10  725208 non-null  object        \n",
      " 14  quality_11  725208 non-null  int64         \n",
      " 15  quality_12  725208 non-null  int64         \n",
      "dtypes: datetime64[ns](1), float64(2), int64(6), object(7)\n",
      "memory usage: 94.1+ MB\n"
     ]
    }
   ],
   "source": [
    "# fwver결측치 제거\n",
    "\n",
    "fwver_null_index = list(test_quality[test_quality.fwver.isnull()].index)\n",
    "\n",
    "test_quality = test_quality.drop(fwver_null_index, axis=0)\n",
    "test_quality.info()"
   ]
  },
  {
   "cell_type": "code",
   "execution_count": 98,
   "metadata": {
    "ExecuteTime": {
     "end_time": "2022-06-08T04:25:26.625994Z",
     "start_time": "2022-06-08T04:25:26.203059Z"
    }
   },
   "outputs": [],
   "source": [
    "# quality_0 ~ 12 최빈값으로 채우기\n",
    "\n",
    "for i in test_quality.columns[3:]:\n",
    "    test_quality[i] = test_quality[i].fillna(test_quality[i].mode()[0])"
   ]
  },
  {
   "cell_type": "code",
   "execution_count": 99,
   "metadata": {
    "ExecuteTime": {
     "end_time": "2022-06-08T04:25:27.361567Z",
     "start_time": "2022-06-08T04:25:27.001424Z"
    },
    "scrolled": true
   },
   "outputs": [
    {
     "data": {
      "text/plain": [
       "time          0\n",
       "user_id       0\n",
       "fwver         0\n",
       "quality_0     0\n",
       "quality_1     0\n",
       "quality_2     0\n",
       "quality_3     0\n",
       "quality_4     0\n",
       "quality_5     0\n",
       "quality_6     0\n",
       "quality_7     0\n",
       "quality_8     0\n",
       "quality_9     0\n",
       "quality_10    0\n",
       "quality_11    0\n",
       "quality_12    0\n",
       "dtype: int64"
      ]
     },
     "execution_count": 99,
     "metadata": {},
     "output_type": "execute_result"
    }
   ],
   "source": [
    "test_quality.isnull().sum()"
   ]
  },
  {
   "cell_type": "code",
   "execution_count": 100,
   "metadata": {
    "ExecuteTime": {
     "end_time": "2022-06-08T04:25:28.110403Z",
     "start_time": "2022-06-08T04:25:27.734700Z"
    }
   },
   "outputs": [
    {
     "name": "stdout",
     "output_type": "stream",
     "text": [
      "(725208, 16)\n",
      "(237629, 16)\n"
     ]
    }
   ],
   "source": [
    "# test_quality 중복값 제거\n",
    "\n",
    "print(test_quality.shape)\n",
    "test_quality = test_quality.drop_duplicates(subset=None, keep='first')\n",
    "print(test_quality.shape)"
   ]
  },
  {
   "cell_type": "markdown",
   "metadata": {},
   "source": [
    "#### train_problem"
   ]
  },
  {
   "cell_type": "code",
   "execution_count": 101,
   "metadata": {
    "ExecuteTime": {
     "end_time": "2022-06-08T04:25:28.504872Z",
     "start_time": "2022-06-08T04:25:28.489889Z"
    }
   },
   "outputs": [
    {
     "data": {
      "text/plain": [
       "user_id    0\n",
       "time       0\n",
       "dtype: int64"
      ]
     },
     "execution_count": 101,
     "metadata": {},
     "output_type": "execute_result"
    }
   ],
   "source": [
    "train_problem.isnull().sum()"
   ]
  },
  {
   "cell_type": "markdown",
   "metadata": {},
   "source": [
    "### 2-2. encoding\n",
    "#### quality_0~12 String to Int"
   ]
  },
  {
   "cell_type": "code",
   "execution_count": 102,
   "metadata": {
    "ExecuteTime": {
     "end_time": "2022-06-08T04:25:28.893573Z",
     "start_time": "2022-06-08T04:25:28.878646Z"
    }
   },
   "outputs": [],
   "source": [
    "# train/test_quality에서 쉼표로 인해 string형이 된  data 변경\n",
    "\n",
    "def strToInt(x):\n",
    "    if type(x) == str:\n",
    "        x = x.replace(\",\", \"\")\n",
    "        x = int(x)\n",
    "        return x\n",
    "    else:\n",
    "        x = int(x)\n",
    "        return x"
   ]
  },
  {
   "cell_type": "code",
   "execution_count": 103,
   "metadata": {
    "ExecuteTime": {
     "end_time": "2022-06-08T04:25:31.443295Z",
     "start_time": "2022-06-08T04:25:29.271562Z"
    }
   },
   "outputs": [],
   "source": [
    "# train_quality\n",
    "for i in train_quality.columns[3:]:\n",
    "    train_quality[i] = train_quality[i].apply(lambda x: strToInt(x))\n",
    "    \n",
    "# test_quality\n",
    "for i in test_quality.columns[3:]:\n",
    "    test_quality[i] = test_quality[i].apply(lambda x: strToInt(x))"
   ]
  },
  {
   "cell_type": "code",
   "execution_count": 104,
   "metadata": {
    "ExecuteTime": {
     "end_time": "2022-06-08T04:25:31.869759Z",
     "start_time": "2022-06-08T04:25:31.823866Z"
    },
    "scrolled": true
   },
   "outputs": [
    {
     "name": "stdout",
     "output_type": "stream",
     "text": [
      "<class 'pandas.core.frame.DataFrame'>\n",
      "Int64Index: 272452 entries, 0 to 828623\n",
      "Data columns (total 16 columns):\n",
      " #   Column      Non-Null Count   Dtype         \n",
      "---  ------      --------------   -----         \n",
      " 0   time        272452 non-null  datetime64[ns]\n",
      " 1   user_id     272452 non-null  int64         \n",
      " 2   fwver       272452 non-null  object        \n",
      " 3   quality_0   272452 non-null  int64         \n",
      " 4   quality_1   272452 non-null  int64         \n",
      " 5   quality_2   272452 non-null  int64         \n",
      " 6   quality_3   272452 non-null  int64         \n",
      " 7   quality_4   272452 non-null  int64         \n",
      " 8   quality_5   272452 non-null  int64         \n",
      " 9   quality_6   272452 non-null  int64         \n",
      " 10  quality_7   272452 non-null  int64         \n",
      " 11  quality_8   272452 non-null  int64         \n",
      " 12  quality_9   272452 non-null  int64         \n",
      " 13  quality_10  272452 non-null  int64         \n",
      " 14  quality_11  272452 non-null  int64         \n",
      " 15  quality_12  272452 non-null  int64         \n",
      "dtypes: datetime64[ns](1), int64(14), object(1)\n",
      "memory usage: 35.3+ MB\n"
     ]
    }
   ],
   "source": [
    "train_quality.info()"
   ]
  },
  {
   "cell_type": "code",
   "execution_count": 105,
   "metadata": {
    "ExecuteTime": {
     "end_time": "2022-06-08T04:25:32.276108Z",
     "start_time": "2022-06-08T04:25:32.246309Z"
    },
    "scrolled": true
   },
   "outputs": [
    {
     "name": "stdout",
     "output_type": "stream",
     "text": [
      "<class 'pandas.core.frame.DataFrame'>\n",
      "Int64Index: 237629 entries, 0 to 747967\n",
      "Data columns (total 16 columns):\n",
      " #   Column      Non-Null Count   Dtype         \n",
      "---  ------      --------------   -----         \n",
      " 0   time        237629 non-null  datetime64[ns]\n",
      " 1   user_id     237629 non-null  int64         \n",
      " 2   fwver       237629 non-null  object        \n",
      " 3   quality_0   237629 non-null  int64         \n",
      " 4   quality_1   237629 non-null  int64         \n",
      " 5   quality_2   237629 non-null  int64         \n",
      " 6   quality_3   237629 non-null  int64         \n",
      " 7   quality_4   237629 non-null  int64         \n",
      " 8   quality_5   237629 non-null  int64         \n",
      " 9   quality_6   237629 non-null  int64         \n",
      " 10  quality_7   237629 non-null  int64         \n",
      " 11  quality_8   237629 non-null  int64         \n",
      " 12  quality_9   237629 non-null  int64         \n",
      " 13  quality_10  237629 non-null  int64         \n",
      " 14  quality_11  237629 non-null  int64         \n",
      " 15  quality_12  237629 non-null  int64         \n",
      "dtypes: datetime64[ns](1), int64(14), object(1)\n",
      "memory usage: 30.8+ MB\n"
     ]
    }
   ],
   "source": [
    "test_quality.info()"
   ]
  },
  {
   "cell_type": "code",
   "execution_count": 108,
   "metadata": {
    "ExecuteTime": {
     "end_time": "2022-06-08T04:28:00.692176Z",
     "start_time": "2022-06-08T04:26:51.448743Z"
    }
   },
   "outputs": [],
   "source": [
    "# 결측치 처리 완료된 dataframe 저장\n",
    "\n",
    "# train_err.to_csv('new_train_err.csv', index=False)\n",
    "# train_quality.to_csv('new_train_quality.csv', index=False)\n",
    "# train_problem.to_csv('new_train_problem.csv', index=False)\n",
    "# test_err.to_csv('new_test_err.csv', index=False)\n",
    "# test_quality.to_csv('new_test_quality.csv', index=False)"
   ]
  },
  {
   "cell_type": "markdown",
   "metadata": {},
   "source": [
    "## 2-2. 데이터 분석"
   ]
  },
  {
   "cell_type": "code",
   "execution_count": 106,
   "metadata": {
    "ExecuteTime": {
     "end_time": "2022-06-08T04:25:32.665470Z",
     "start_time": "2022-06-08T04:25:32.651498Z"
    }
   },
   "outputs": [
    {
     "data": {
      "text/html": [
       "<div>\n",
       "<style scoped>\n",
       "    .dataframe tbody tr th:only-of-type {\n",
       "        vertical-align: middle;\n",
       "    }\n",
       "\n",
       "    .dataframe tbody tr th {\n",
       "        vertical-align: top;\n",
       "    }\n",
       "\n",
       "    .dataframe thead th {\n",
       "        text-align: right;\n",
       "    }\n",
       "</style>\n",
       "<table border=\"1\" class=\"dataframe\">\n",
       "  <thead>\n",
       "    <tr style=\"text-align: right;\">\n",
       "      <th></th>\n",
       "      <th>user_id</th>\n",
       "      <th>time</th>\n",
       "      <th>model_nm</th>\n",
       "      <th>fwver</th>\n",
       "      <th>errtype</th>\n",
       "      <th>errcode</th>\n",
       "    </tr>\n",
       "  </thead>\n",
       "  <tbody>\n",
       "    <tr>\n",
       "      <th>0</th>\n",
       "      <td>10000</td>\n",
       "      <td>2020-11-01 02:56:16</td>\n",
       "      <td>model_3</td>\n",
       "      <td>05.15.2138</td>\n",
       "      <td>15</td>\n",
       "      <td>1</td>\n",
       "    </tr>\n",
       "    <tr>\n",
       "      <th>1</th>\n",
       "      <td>10000</td>\n",
       "      <td>2020-11-01 03:03:09</td>\n",
       "      <td>model_3</td>\n",
       "      <td>05.15.2138</td>\n",
       "      <td>12</td>\n",
       "      <td>1</td>\n",
       "    </tr>\n",
       "    <tr>\n",
       "      <th>2</th>\n",
       "      <td>10000</td>\n",
       "      <td>2020-11-01 03:03:09</td>\n",
       "      <td>model_3</td>\n",
       "      <td>05.15.2138</td>\n",
       "      <td>11</td>\n",
       "      <td>1</td>\n",
       "    </tr>\n",
       "    <tr>\n",
       "      <th>3</th>\n",
       "      <td>10000</td>\n",
       "      <td>2020-11-01 05:05:14</td>\n",
       "      <td>model_3</td>\n",
       "      <td>05.15.2138</td>\n",
       "      <td>16</td>\n",
       "      <td>1</td>\n",
       "    </tr>\n",
       "    <tr>\n",
       "      <th>4</th>\n",
       "      <td>10000</td>\n",
       "      <td>2020-11-01 05:05:15</td>\n",
       "      <td>model_3</td>\n",
       "      <td>05.15.2138</td>\n",
       "      <td>4</td>\n",
       "      <td>0</td>\n",
       "    </tr>\n",
       "  </tbody>\n",
       "</table>\n",
       "</div>"
      ],
      "text/plain": [
       "   user_id                time model_nm       fwver  errtype errcode\n",
       "0    10000 2020-11-01 02:56:16  model_3  05.15.2138       15       1\n",
       "1    10000 2020-11-01 03:03:09  model_3  05.15.2138       12       1\n",
       "2    10000 2020-11-01 03:03:09  model_3  05.15.2138       11       1\n",
       "3    10000 2020-11-01 05:05:14  model_3  05.15.2138       16       1\n",
       "4    10000 2020-11-01 05:05:15  model_3  05.15.2138        4       0"
      ]
     },
     "execution_count": 106,
     "metadata": {},
     "output_type": "execute_result"
    }
   ],
   "source": [
    "train_err.head()"
   ]
  },
  {
   "cell_type": "markdown",
   "metadata": {},
   "source": [
    "### 시간대별 분석"
   ]
  },
  {
   "cell_type": "markdown",
   "metadata": {},
   "source": [
    "#### train_err"
   ]
  },
  {
   "cell_type": "code",
   "execution_count": 134,
   "metadata": {
    "ExecuteTime": {
     "end_time": "2022-06-08T04:44:35.236521Z",
     "start_time": "2022-06-08T04:44:34.810035Z"
    },
    "scrolled": true
   },
   "outputs": [
    {
     "data": {
      "text/plain": [
       "21    562283\n",
       "22    556151\n",
       "15    554778\n",
       "1     553561\n",
       "7     551177\n",
       "8     541958\n",
       "28    527480\n",
       "29    525630\n",
       "14    520291\n",
       "19    518417\n",
       "6     516747\n",
       "2     513572\n",
       "23    513511\n",
       "24    509559\n",
       "9     507302\n",
       "18    506377\n",
       "5     502597\n",
       "20    501508\n",
       "26    499517\n",
       "12    497408\n",
       "10    497012\n",
       "3     496842\n",
       "27    492887\n",
       "16    492638\n",
       "25    492618\n",
       "4     489363\n",
       "11    488927\n",
       "30    484872\n",
       "17    483993\n",
       "13    469020\n",
       "31         5\n",
       "Name: time, dtype: int64"
      ]
     },
     "execution_count": 134,
     "metadata": {},
     "output_type": "execute_result"
    }
   ],
   "source": [
    "# 일별 에러 발생\n",
    "\n",
    "# 비교적 주말에 에러가 많이 발생했다.\n",
    "train_err.time.dt.day.value_counts()"
   ]
  },
  {
   "cell_type": "code",
   "execution_count": 135,
   "metadata": {
    "ExecuteTime": {
     "end_time": "2022-06-08T04:44:39.453410Z",
     "start_time": "2022-06-08T04:44:39.042765Z"
    }
   },
   "outputs": [
    {
     "data": {
      "text/html": [
       "<div>\n",
       "<style scoped>\n",
       "    .dataframe tbody tr th:only-of-type {\n",
       "        vertical-align: middle;\n",
       "    }\n",
       "\n",
       "    .dataframe tbody tr th {\n",
       "        vertical-align: top;\n",
       "    }\n",
       "\n",
       "    .dataframe thead th {\n",
       "        text-align: right;\n",
       "    }\n",
       "</style>\n",
       "<table border=\"1\" class=\"dataframe\">\n",
       "  <thead>\n",
       "    <tr style=\"text-align: right;\">\n",
       "      <th></th>\n",
       "      <th>user_id</th>\n",
       "      <th>time</th>\n",
       "      <th>model_nm</th>\n",
       "      <th>fwver</th>\n",
       "      <th>errtype</th>\n",
       "      <th>errcode</th>\n",
       "    </tr>\n",
       "  </thead>\n",
       "  <tbody>\n",
       "    <tr>\n",
       "      <th>5892567</th>\n",
       "      <td>15801</td>\n",
       "      <td>2020-10-31 23:59:59</td>\n",
       "      <td>model_0</td>\n",
       "      <td>04.22.1750</td>\n",
       "      <td>16</td>\n",
       "      <td>1</td>\n",
       "    </tr>\n",
       "    <tr>\n",
       "      <th>8533535</th>\n",
       "      <td>18418</td>\n",
       "      <td>2020-10-31 23:59:59</td>\n",
       "      <td>model_0</td>\n",
       "      <td>04.22.1750</td>\n",
       "      <td>26</td>\n",
       "      <td>1</td>\n",
       "    </tr>\n",
       "    <tr>\n",
       "      <th>11304925</th>\n",
       "      <td>20974</td>\n",
       "      <td>2020-10-31 23:59:59</td>\n",
       "      <td>model_0</td>\n",
       "      <td>04.22.1750</td>\n",
       "      <td>26</td>\n",
       "      <td>1</td>\n",
       "    </tr>\n",
       "    <tr>\n",
       "      <th>12545032</th>\n",
       "      <td>22249</td>\n",
       "      <td>2020-10-31 23:59:59</td>\n",
       "      <td>model_0</td>\n",
       "      <td>04.22.1750</td>\n",
       "      <td>26</td>\n",
       "      <td>1</td>\n",
       "    </tr>\n",
       "    <tr>\n",
       "      <th>12698894</th>\n",
       "      <td>22385</td>\n",
       "      <td>2020-10-31 23:59:59</td>\n",
       "      <td>model_2</td>\n",
       "      <td>04.33.1185</td>\n",
       "      <td>26</td>\n",
       "      <td>1</td>\n",
       "    </tr>\n",
       "  </tbody>\n",
       "</table>\n",
       "</div>"
      ],
      "text/plain": [
       "          user_id                time model_nm       fwver  errtype errcode\n",
       "5892567     15801 2020-10-31 23:59:59  model_0  04.22.1750       16       1\n",
       "8533535     18418 2020-10-31 23:59:59  model_0  04.22.1750       26       1\n",
       "11304925    20974 2020-10-31 23:59:59  model_0  04.22.1750       26       1\n",
       "12545032    22249 2020-10-31 23:59:59  model_0  04.22.1750       26       1\n",
       "12698894    22385 2020-10-31 23:59:59  model_2  04.33.1185       26       1"
      ]
     },
     "execution_count": 135,
     "metadata": {},
     "output_type": "execute_result"
    }
   ],
   "source": [
    "# 11월 1일로 들어가도 될 것같다.\n",
    "train_err[train_err.time.dt.day == 31]"
   ]
  },
  {
   "cell_type": "code",
   "execution_count": 159,
   "metadata": {
    "ExecuteTime": {
     "end_time": "2022-06-08T05:31:42.024912Z",
     "start_time": "2022-06-08T05:31:40.974426Z"
    }
   },
   "outputs": [
    {
     "data": {
      "text/plain": [
       "<AxesSubplot:xlabel='time', ylabel='Count'>"
      ]
     },
     "execution_count": 159,
     "metadata": {},
     "output_type": "execute_result"
    },
    {
     "data": {
      "image/png": "[encoded data removed]",
      "text/plain": [
       "<Figure size 864x432 with 1 Axes>"
      ]
     },
     "metadata": {
      "needs_background": "light"
     },
     "output_type": "display_data"
    }
   ],
   "source": [
    "plt.figure(figsize=(12,6))\n",
    "sns.histplot(data=train_err, x=train_err.time.dt.day, bins=31)"
   ]
  },
  {
   "cell_type": "code",
   "execution_count": 151,
   "metadata": {
    "ExecuteTime": {
     "end_time": "2022-06-08T05:29:30.723694Z",
     "start_time": "2022-06-08T05:29:30.302054Z"
    },
    "scrolled": true
   },
   "outputs": [
    {
     "data": {
      "text/plain": [
       "19    824162\n",
       "20    792258\n",
       "21    791873\n",
       "18    783808\n",
       "22    729112\n",
       "17    713929\n",
       "8     677857\n",
       "0     658982\n",
       "2     648567\n",
       "16    647170\n",
       "3     645580\n",
       "4     643244\n",
       "9     637959\n",
       "23    622782\n",
       "7     618374\n",
       "13    603780\n",
       "15    600263\n",
       "12    592900\n",
       "10    592178\n",
       "14    581045\n",
       "11    575142\n",
       "5     519059\n",
       "6     444071\n",
       "1     423906\n",
       "Name: time, dtype: int64"
      ]
     },
     "execution_count": 151,
     "metadata": {},
     "output_type": "execute_result"
    }
   ],
   "source": [
    "# 시간대별 에러발생\n",
    "train_err.time.dt.hour.value_counts()"
   ]
  },
  {
   "cell_type": "code",
   "execution_count": 157,
   "metadata": {
    "ExecuteTime": {
     "end_time": "2022-06-08T05:31:03.715458Z",
     "start_time": "2022-06-08T05:31:02.575269Z"
    }
   },
   "outputs": [
    {
     "data": {
      "text/plain": [
       "<AxesSubplot:xlabel='time', ylabel='Count'>"
      ]
     },
     "execution_count": 157,
     "metadata": {},
     "output_type": "execute_result"
    },
    {
     "data": {
      "image/png": "[encoded data removed]",
      "text/plain": [
       "<Figure size 864x432 with 1 Axes>"
      ]
     },
     "metadata": {
      "needs_background": "light"
     },
     "output_type": "display_data"
    }
   ],
   "source": [
    "plt.figure(figsize=(12,6))\n",
    "sns.histplot(data=train_err, x=train_err.time.dt.hour, bins=24)"
   ]
  },
  {
   "cell_type": "markdown",
   "metadata": {},
   "source": [
    "#### train_problem "
   ]
  },
  {
   "cell_type": "code",
   "execution_count": 161,
   "metadata": {
    "ExecuteTime": {
     "end_time": "2022-06-08T05:34:37.324055Z",
     "start_time": "2022-06-08T05:34:37.313091Z"
    }
   },
   "outputs": [
    {
     "data": {
      "text/plain": [
       "0    1332\n",
       "2     868\n",
       "4     853\n",
       "1     809\n",
       "3     809\n",
       "5     431\n",
       "6     327\n",
       "Name: time, dtype: int64"
      ]
     },
     "execution_count": 161,
     "metadata": {},
     "output_type": "execute_result"
    }
   ],
   "source": [
    "# 요일별 불만 제기 수\n",
    "\n",
    "train_problem.time.dt.day_of_week.value_counts()"
   ]
  },
  {
   "cell_type": "code",
   "execution_count": 164,
   "metadata": {
    "ExecuteTime": {
     "end_time": "2022-06-08T05:36:00.308787Z",
     "start_time": "2022-06-08T05:36:00.223260Z"
    }
   },
   "outputs": [
    {
     "data": {
      "text/plain": [
       "<AxesSubplot:xlabel='time', ylabel='Count'>"
      ]
     },
     "execution_count": 164,
     "metadata": {},
     "output_type": "execute_result"
    },
    {
     "data": {
      "image/png": "[encoded data removed]",
      "text/plain": [
       "<Figure size 864x432 with 1 Axes>"
      ]
     },
     "metadata": {
      "needs_background": "light"
     },
     "output_type": "display_data"
    }
   ],
   "source": [
    "# 주말에 에러가 많이 발생하지만 불만 제기는 월요일이 가장 많다.\n",
    "# 주말에는 고객센터가 문을 열지 않을 것이라 생각했을 수 있다.\n",
    "\n",
    "plt.figure(figsize=(12,6))\n",
    "sns.histplot(data=train_problem, x=train_problem.time.dt.day_of_week, bins=7)"
   ]
  },
  {
   "cell_type": "code",
   "execution_count": 165,
   "metadata": {
    "ExecuteTime": {
     "end_time": "2022-06-08T05:37:50.151442Z",
     "start_time": "2022-06-08T05:37:50.133503Z"
    }
   },
   "outputs": [
    {
     "data": {
      "text/plain": [
       "12    627\n",
       "11    600\n",
       "13    518\n",
       "19    507\n",
       "18    492\n",
       "15    489\n",
       "16    460\n",
       "17    432\n",
       "22    233\n",
       "20    233\n",
       "14    228\n",
       "21    204\n",
       "23    175\n",
       "0     108\n",
       "1      67\n",
       "2      15\n",
       "10     14\n",
       "9       8\n",
       "5       5\n",
       "8       5\n",
       "3       4\n",
       "4       3\n",
       "7       1\n",
       "6       1\n",
       "Name: time, dtype: int64"
      ]
     },
     "execution_count": 165,
     "metadata": {},
     "output_type": "execute_result"
    }
   ],
   "source": [
    "# 시간대별 불만 제기 수\n",
    "train_problem.time.dt.hour.value_counts()"
   ]
  },
  {
   "cell_type": "code",
   "execution_count": 166,
   "metadata": {
    "ExecuteTime": {
     "end_time": "2022-06-08T05:38:13.401429Z",
     "start_time": "2022-06-08T05:38:13.304710Z"
    }
   },
   "outputs": [
    {
     "data": {
      "text/plain": [
       "<AxesSubplot:xlabel='time', ylabel='Count'>"
      ]
     },
     "execution_count": 166,
     "metadata": {},
     "output_type": "execute_result"
    },
    {
     "data": {
      "image/png": "[encoded data removed]",
      "text/plain": [
       "<Figure size 864x432 with 1 Axes>"
      ]
     },
     "metadata": {
      "needs_background": "light"
     },
     "output_type": "display_data"
    }
   ],
   "source": [
    "plt.figure(figsize=(12,6))\n",
    "sns.histplot(data=train_problem, x=train_problem.time.dt.hour, bins=24)"
   ]
  },
  {
   "cell_type": "markdown",
   "metadata": {},
   "source": [
    "- 에러가 발생한 요일, 시간대는 큰 차이가 나지 않는다.\n",
    "- 하지만 불만을 제기한 요일과 시간대는 꽤 유의미한 차이가 난다.\n",
    "- 따라서 에러가 발생한 요일, 시간은 trian set에 넣어도 될 것 같다."
   ]
  },
  {
   "cell_type": "markdown",
   "metadata": {},
   "source": [
    "### 모델 번호 분석"
   ]
  },
  {
   "cell_type": "code",
   "execution_count": 171,
   "metadata": {
    "ExecuteTime": {
     "end_time": "2022-06-08T05:43:47.455438Z",
     "start_time": "2022-06-08T05:43:47.011171Z"
    }
   },
   "outputs": [
    {
     "data": {
      "text/plain": [
       "array(['model_3', 'model_2', 'model_0', 'model_1', 'model_7', 'model_4',\n",
       "       'model_5', 'model_8', 'model_6'], dtype=object)"
      ]
     },
     "execution_count": 171,
     "metadata": {},
     "output_type": "execute_result"
    }
   ],
   "source": [
    "train_err.model_nm.unique()"
   ]
  },
  {
   "cell_type": "code",
   "execution_count": 254,
   "metadata": {
    "ExecuteTime": {
     "end_time": "2022-06-08T09:20:10.468532Z",
     "start_time": "2022-06-08T09:20:10.462552Z"
    },
    "scrolled": false
   },
   "outputs": [],
   "source": [
    "problem_id_list = list(train_problem.user_id)"
   ]
  },
  {
   "cell_type": "code",
   "execution_count": 324,
   "metadata": {
    "ExecuteTime": {
     "end_time": "2022-06-08T09:46:23.420070Z",
     "start_time": "2022-06-08T09:46:23.407114Z"
    },
    "scrolled": true
   },
   "outputs": [
    {
     "data": {
      "text/plain": [
       "5429"
      ]
     },
     "execution_count": 324,
     "metadata": {},
     "output_type": "execute_result"
    }
   ],
   "source": [
    "len(problem_id_list)"
   ]
  },
  {
   "cell_type": "code",
   "execution_count": 317,
   "metadata": {
    "ExecuteTime": {
     "end_time": "2022-06-08T09:45:20.928592Z",
     "start_time": "2022-06-08T09:45:20.135246Z"
    },
    "scrolled": true
   },
   "outputs": [
    {
     "data": {
      "text/html": [
       "<div>\n",
       "<style scoped>\n",
       "    .dataframe tbody tr th:only-of-type {\n",
       "        vertical-align: middle;\n",
       "    }\n",
       "\n",
       "    .dataframe tbody tr th {\n",
       "        vertical-align: top;\n",
       "    }\n",
       "\n",
       "    .dataframe thead th {\n",
       "        text-align: right;\n",
       "    }\n",
       "</style>\n",
       "<table border=\"1\" class=\"dataframe\">\n",
       "  <thead>\n",
       "    <tr style=\"text-align: right;\">\n",
       "      <th></th>\n",
       "      <th>user_id</th>\n",
       "    </tr>\n",
       "    <tr>\n",
       "      <th>model_nm</th>\n",
       "      <th></th>\n",
       "    </tr>\n",
       "  </thead>\n",
       "  <tbody>\n",
       "    <tr>\n",
       "      <th>model_0</th>\n",
       "      <td>[10004, 10005, 10007, 10008, 10011, 10013, 100...</td>\n",
       "    </tr>\n",
       "    <tr>\n",
       "      <th>model_1</th>\n",
       "      <td>[10006, 10009, 10010, 10021, 10023, 10031, 100...</td>\n",
       "    </tr>\n",
       "    <tr>\n",
       "      <th>model_2</th>\n",
       "      <td>[10001, 10003, 10006, 10012, 10014, 10017, 100...</td>\n",
       "    </tr>\n",
       "    <tr>\n",
       "      <th>model_3</th>\n",
       "      <td>[10000, 10002, 10016, 10018, 10019, 10026, 100...</td>\n",
       "    </tr>\n",
       "    <tr>\n",
       "      <th>model_4</th>\n",
       "      <td>[10080, 10092, 10167, 10168, 10171, 10206, 102...</td>\n",
       "    </tr>\n",
       "    <tr>\n",
       "      <th>model_5</th>\n",
       "      <td>[10110, 10408, 10411, 10600, 10719, 11058, 119...</td>\n",
       "    </tr>\n",
       "    <tr>\n",
       "      <th>model_6</th>\n",
       "      <td>[10495, 10693, 11157, 11183, 11206, 11319, 114...</td>\n",
       "    </tr>\n",
       "    <tr>\n",
       "      <th>model_7</th>\n",
       "      <td>[10075, 10244, 10556, 10694, 10744, 10922, 111...</td>\n",
       "    </tr>\n",
       "    <tr>\n",
       "      <th>model_8</th>\n",
       "      <td>[10202, 10286, 10458, 10690, 11086, 11416, 114...</td>\n",
       "    </tr>\n",
       "  </tbody>\n",
       "</table>\n",
       "</div>"
      ],
      "text/plain": [
       "                                                    user_id\n",
       "model_nm                                                   \n",
       "model_0   [10004, 10005, 10007, 10008, 10011, 10013, 100...\n",
       "model_1   [10006, 10009, 10010, 10021, 10023, 10031, 100...\n",
       "model_2   [10001, 10003, 10006, 10012, 10014, 10017, 100...\n",
       "model_3   [10000, 10002, 10016, 10018, 10019, 10026, 100...\n",
       "model_4   [10080, 10092, 10167, 10168, 10171, 10206, 102...\n",
       "model_5   [10110, 10408, 10411, 10600, 10719, 11058, 119...\n",
       "model_6   [10495, 10693, 11157, 11183, 11206, 11319, 114...\n",
       "model_7   [10075, 10244, 10556, 10694, 10744, 10922, 111...\n",
       "model_8   [10202, 10286, 10458, 10690, 11086, 11416, 114..."
      ]
     },
     "execution_count": 317,
     "metadata": {},
     "output_type": "execute_result"
    }
   ],
   "source": [
    "id_model = train_err.groupby('model_nm')['user_id'].unique().to_frame()\n",
    "id_model"
   ]
  },
  {
   "cell_type": "code",
   "execution_count": 318,
   "metadata": {
    "ExecuteTime": {
     "end_time": "2022-06-08T09:45:22.363165Z",
     "start_time": "2022-06-08T09:45:22.348216Z"
    }
   },
   "outputs": [],
   "source": [
    "id_model['count'] = 0"
   ]
  },
  {
   "cell_type": "code",
   "execution_count": 319,
   "metadata": {
    "ExecuteTime": {
     "end_time": "2022-06-08T09:45:22.772883Z",
     "start_time": "2022-06-08T09:45:22.757930Z"
    }
   },
   "outputs": [
    {
     "data": {
      "text/plain": [
       "user_id    [10004, 10005, 10007, 10008, 10011, 10013, 100...\n",
       "count                                                      0\n",
       "Name: model_0, dtype: object"
      ]
     },
     "execution_count": 319,
     "metadata": {},
     "output_type": "execute_result"
    }
   ],
   "source": [
    "id_model.iloc[0]"
   ]
  },
  {
   "cell_type": "code",
   "execution_count": 320,
   "metadata": {
    "ExecuteTime": {
     "end_time": "2022-06-08T09:45:25.490129Z",
     "start_time": "2022-06-08T09:45:24.524452Z"
    }
   },
   "outputs": [],
   "source": [
    "for i in range(len(id_model.index)):\n",
    "    for j in problem_id_list:\n",
    "        if j in id_model.iloc[i, 0]:\n",
    "            id_model.iloc[i, 1] += 1"
   ]
  },
  {
   "cell_type": "code",
   "execution_count": 321,
   "metadata": {
    "ExecuteTime": {
     "end_time": "2022-06-08T09:45:26.049172Z",
     "start_time": "2022-06-08T09:45:26.028242Z"
    }
   },
   "outputs": [
    {
     "data": {
      "text/html": [
       "<div>\n",
       "<style scoped>\n",
       "    .dataframe tbody tr th:only-of-type {\n",
       "        vertical-align: middle;\n",
       "    }\n",
       "\n",
       "    .dataframe tbody tr th {\n",
       "        vertical-align: top;\n",
       "    }\n",
       "\n",
       "    .dataframe thead th {\n",
       "        text-align: right;\n",
       "    }\n",
       "</style>\n",
       "<table border=\"1\" class=\"dataframe\">\n",
       "  <thead>\n",
       "    <tr style=\"text-align: right;\">\n",
       "      <th></th>\n",
       "      <th>user_id</th>\n",
       "      <th>count</th>\n",
       "    </tr>\n",
       "    <tr>\n",
       "      <th>model_nm</th>\n",
       "      <th></th>\n",
       "      <th></th>\n",
       "    </tr>\n",
       "  </thead>\n",
       "  <tbody>\n",
       "    <tr>\n",
       "      <th>model_0</th>\n",
       "      <td>[10004, 10005, 10007, 10008, 10011, 10013, 100...</td>\n",
       "      <td>1769</td>\n",
       "    </tr>\n",
       "    <tr>\n",
       "      <th>model_1</th>\n",
       "      <td>[10006, 10009, 10010, 10021, 10023, 10031, 100...</td>\n",
       "      <td>1426</td>\n",
       "    </tr>\n",
       "    <tr>\n",
       "      <th>model_2</th>\n",
       "      <td>[10001, 10003, 10006, 10012, 10014, 10017, 100...</td>\n",
       "      <td>1918</td>\n",
       "    </tr>\n",
       "    <tr>\n",
       "      <th>model_3</th>\n",
       "      <td>[10000, 10002, 10016, 10018, 10019, 10026, 100...</td>\n",
       "      <td>789</td>\n",
       "    </tr>\n",
       "    <tr>\n",
       "      <th>model_4</th>\n",
       "      <td>[10080, 10092, 10167, 10168, 10171, 10206, 102...</td>\n",
       "      <td>153</td>\n",
       "    </tr>\n",
       "    <tr>\n",
       "      <th>model_5</th>\n",
       "      <td>[10110, 10408, 10411, 10600, 10719, 11058, 119...</td>\n",
       "      <td>23</td>\n",
       "    </tr>\n",
       "    <tr>\n",
       "      <th>model_6</th>\n",
       "      <td>[10495, 10693, 11157, 11183, 11206, 11319, 114...</td>\n",
       "      <td>10</td>\n",
       "    </tr>\n",
       "    <tr>\n",
       "      <th>model_7</th>\n",
       "      <td>[10075, 10244, 10556, 10694, 10744, 10922, 111...</td>\n",
       "      <td>36</td>\n",
       "    </tr>\n",
       "    <tr>\n",
       "      <th>model_8</th>\n",
       "      <td>[10202, 10286, 10458, 10690, 11086, 11416, 114...</td>\n",
       "      <td>25</td>\n",
       "    </tr>\n",
       "  </tbody>\n",
       "</table>\n",
       "</div>"
      ],
      "text/plain": [
       "                                                    user_id  count\n",
       "model_nm                                                          \n",
       "model_0   [10004, 10005, 10007, 10008, 10011, 10013, 100...   1769\n",
       "model_1   [10006, 10009, 10010, 10021, 10023, 10031, 100...   1426\n",
       "model_2   [10001, 10003, 10006, 10012, 10014, 10017, 100...   1918\n",
       "model_3   [10000, 10002, 10016, 10018, 10019, 10026, 100...    789\n",
       "model_4   [10080, 10092, 10167, 10168, 10171, 10206, 102...    153\n",
       "model_5   [10110, 10408, 10411, 10600, 10719, 11058, 119...     23\n",
       "model_6   [10495, 10693, 11157, 11183, 11206, 11319, 114...     10\n",
       "model_7   [10075, 10244, 10556, 10694, 10744, 10922, 111...     36\n",
       "model_8   [10202, 10286, 10458, 10690, 11086, 11416, 114...     25"
      ]
     },
     "execution_count": 321,
     "metadata": {},
     "output_type": "execute_result"
    }
   ],
   "source": [
    "id_model"
   ]
  },
  {
   "cell_type": "code",
   "execution_count": 323,
   "metadata": {
    "ExecuteTime": {
     "end_time": "2022-06-08T09:45:46.572799Z",
     "start_time": "2022-06-08T09:45:46.565823Z"
    }
   },
   "outputs": [
    {
     "data": {
      "text/plain": [
       "6149"
      ]
     },
     "execution_count": 323,
     "metadata": {},
     "output_type": "execute_result"
    }
   ],
   "source": [
    "id_model['count'].values.sum()"
   ]
  },
  {
   "cell_type": "code",
   "execution_count": 175,
   "metadata": {
    "ExecuteTime": {
     "end_time": "2022-06-08T05:51:07.944142Z",
     "start_time": "2022-06-08T05:51:07.413121Z"
    },
    "scrolled": true
   },
   "outputs": [
    {
     "data": {
      "text/plain": [
       "model_1    5289106\n",
       "model_0    3999738\n",
       "model_2    3291723\n",
       "model_3    1842206\n",
       "model_4     847124\n",
       "model_8      33602\n",
       "model_7      33241\n",
       "model_5      29553\n",
       "model_6       1708\n",
       "Name: model_nm, dtype: int64"
      ]
     },
     "execution_count": 175,
     "metadata": {},
     "output_type": "execute_result"
    }
   ],
   "source": [
    "train_err.model_nm.value_counts()"
   ]
  },
  {
   "cell_type": "code",
   "execution_count": 184,
   "metadata": {
    "ExecuteTime": {
     "end_time": "2022-06-08T06:55:01.318044Z",
     "start_time": "2022-06-08T06:54:51.014418Z"
    }
   },
   "outputs": [
    {
     "data": {
      "text/plain": [
       "<AxesSubplot:xlabel='model_nm', ylabel='count'>"
      ]
     },
     "execution_count": 184,
     "metadata": {},
     "output_type": "execute_result"
    },
    {
     "data": {
      "image/png": "[encoded data removed]",
      "text/plain": [
       "<Figure size 864x432 with 1 Axes>"
      ]
     },
     "metadata": {
      "needs_background": "light"
     },
     "output_type": "display_data"
    }
   ],
   "source": [
    "plt.figure(figsize=(12,6))\n",
    "sns.countplot(data=train_err.model_nm, x=train_err.model_nm, order=train_err.model_nm.value_counts().index)"
   ]
  },
  {
   "cell_type": "markdown",
   "metadata": {},
   "source": [
    "- model에 따른 에러율 차이가 크기 때문에 중요한 column이다."
   ]
  },
  {
   "cell_type": "markdown",
   "metadata": {},
   "source": [
    "### fwver 분석"
   ]
  },
  {
   "cell_type": "code",
   "execution_count": 188,
   "metadata": {
    "ExecuteTime": {
     "end_time": "2022-06-08T07:01:18.998644Z",
     "start_time": "2022-06-08T07:01:18.487686Z"
    }
   },
   "outputs": [
    {
     "name": "stdout",
     "output_type": "stream",
     "text": [
      "['03.11.1141', '03.11.1149', '03.11.1167', '04.16.2641', '04.16.3345', '04.16.3439', '04.16.3553', '04.16.3569', '04.16.3571', '04.22.1442', '04.22.1656', '04.22.1666', '04.22.1684', '04.22.1750', '04.22.1778', '04.33.1095', '04.33.1125', '04.33.1149', '04.33.1171', '04.33.1185', '04.33.1261', '04.73.2237', '04.73.2571', '04.82.1684', '04.82.1730', '04.82.1778', '05.15.2090', '05.15.2092', '05.15.2114', '05.15.2120', '05.15.2122', '05.15.2138', '05.15.3104', '05.66.3237', '05.66.3571', '10', '8.5.3']\n"
     ]
    }
   ],
   "source": [
    "print(sorted(train_err.fwver.unique()))"
   ]
  },
  {
   "cell_type": "code",
   "execution_count": 186,
   "metadata": {
    "ExecuteTime": {
     "end_time": "2022-06-08T06:59:35.496585Z",
     "start_time": "2022-06-08T06:59:35.003935Z"
    }
   },
   "outputs": [
    {
     "data": {
      "text/plain": [
       "04.16.3553    5145420\n",
       "04.22.1750    2748374\n",
       "04.33.1261    2375757\n",
       "05.15.2138    1841272\n",
       "04.22.1778    1243732\n",
       "04.33.1185     911660\n",
       "03.11.1167     845808\n",
       "04.16.3571     142173\n",
       "04.73.2237      31480\n",
       "05.66.3237      30062\n",
       "04.82.1684      21499\n",
       "04.82.1778       7976\n",
       "04.22.1684       5073\n",
       "05.66.3571       3179\n",
       "04.33.1149       2988\n",
       "04.22.1442       2517\n",
       "04.73.2571       2122\n",
       "10               1501\n",
       "03.11.1149       1299\n",
       "04.16.3569        977\n",
       "04.33.1095        858\n",
       "05.15.2120        701\n",
       "04.33.1125        402\n",
       "04.16.2641        293\n",
       "8.5.3             207\n",
       "05.15.3104        171\n",
       "04.16.3439        142\n",
       "04.16.3345        101\n",
       "04.82.1730         78\n",
       "04.33.1171         58\n",
       "04.22.1656         37\n",
       "05.15.2122         23\n",
       "05.15.2092         18\n",
       "03.11.1141         17\n",
       "05.15.2090         12\n",
       "05.15.2114          9\n",
       "04.22.1666          5\n",
       "Name: fwver, dtype: int64"
      ]
     },
     "execution_count": 186,
     "metadata": {},
     "output_type": "execute_result"
    }
   ],
   "source": [
    "train_err.fwver.value_counts()\n"
   ]
  },
  {
   "cell_type": "markdown",
   "metadata": {},
   "source": [
    "## 2-3. 이상치 검출\n",
    "\n",
    "1) IQR(Inter-Quantile Range)\n",
    "\n",
    "\n",
    "2) Outlier Detection method (e.g. Isolation Forest)"
   ]
  },
  {
   "cell_type": "markdown",
   "metadata": {},
   "source": [
    "## 3. 예측 모델 구현"
   ]
  },
  {
   "cell_type": "code",
   "execution_count": 48,
   "metadata": {
    "ExecuteTime": {
     "end_time": "2022-06-08T03:58:57.010813Z",
     "start_time": "2022-06-08T03:58:56.996844Z"
    }
   },
   "outputs": [],
   "source": [
    "# 모델을 불러옵니다\n"
   ]
  },
  {
   "cell_type": "code",
   "execution_count": 49,
   "metadata": {
    "ExecuteTime": {
     "end_time": "2022-06-08T03:58:57.026799Z",
     "start_time": "2022-06-08T03:58:57.011810Z"
    }
   },
   "outputs": [],
   "source": [
    "# 학습에 필요한 데이터셋을 만듭니다\n"
   ]
  },
  {
   "cell_type": "code",
   "execution_count": 50,
   "metadata": {
    "ExecuteTime": {
     "end_time": "2022-06-08T03:58:57.042683Z",
     "start_time": "2022-06-08T03:58:57.027796Z"
    }
   },
   "outputs": [],
   "source": [
    "# 학습 및 모델 검증을 위해 KFold Cross Validation 기법을 사용합니다.\n"
   ]
  },
  {
   "cell_type": "code",
   "execution_count": 51,
   "metadata": {
    "ExecuteTime": {
     "end_time": "2022-06-08T03:58:57.090657Z",
     "start_time": "2022-06-08T03:58:57.075574Z"
    }
   },
   "outputs": [],
   "source": [
    "# training"
   ]
  },
  {
   "cell_type": "code",
   "execution_count": 52,
   "metadata": {
    "ExecuteTime": {
     "end_time": "2022-06-08T03:58:57.105945Z",
     "start_time": "2022-06-08T03:58:57.091652Z"
    }
   },
   "outputs": [],
   "source": [
    "# submission 파일 생성"
   ]
  }
 ],
 "metadata": {
  "kernelspec": {
   "display_name": "Python 3 (ipykernel)",
   "language": "python",
   "name": "python3"
  },
  "language_info": {
   "codemirror_mode": {
    "name": "ipython",
    "version": 3
   },
   "file_extension": ".py",
   "mimetype": "text/x-python",
   "name": "python",
   "nbconvert_exporter": "python",
   "pygments_lexer": "ipython3",
   "version": "3.8.13"
  },
  "toc": {
   "base_numbering": 1,
   "nav_menu": {},
   "number_sections": true,
   "sideBar": true,
   "skip_h1_title": false,
   "title_cell": "Table of Contents",
   "title_sidebar": "Contents",
   "toc_cell": false,
   "toc_position": {
    "height": "calc(100% - 180px)",
    "left": "10px",
    "top": "150px",
    "width": "260px"
   },
   "toc_section_display": true,
   "toc_window_display": false
  },
  "varInspector": {
   "cols": {
    "lenName": 16,
    "lenType": 16,
    "lenVar": 40
   },
   "kernels_config": {
    "python": {
     "delete_cmd_postfix": "",
     "delete_cmd_prefix": "del ",
     "library": "var_list.py",
     "varRefreshCmd": "print(var_dic_list())"
    },
    "r": {
     "delete_cmd_postfix": ") ",
     "delete_cmd_prefix": "rm(",
     "library": "var_list.r",
     "varRefreshCmd": "cat(var_dic_list()) "
    }
   },
   "types_to_exclude": [
    "module",
    "function",
    "builtin_function_or_method",
    "instance",
    "_Feature"
   ],
   "window_display": false
  }
 },
 "nbformat": 4,
 "nbformat_minor": 4
}
