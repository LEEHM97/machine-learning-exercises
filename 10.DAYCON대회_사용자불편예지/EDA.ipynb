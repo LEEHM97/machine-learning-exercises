{
 "cells": [
  {
   "cell_type": "markdown",
   "metadata": {},
   "source": [
    "# 데이터 불러오기"
   ]
  },
  {
   "cell_type": "code",
   "execution_count": 1,
   "metadata": {
    "ExecuteTime": {
     "end_time": "2022-06-11T02:49:23.461406Z",
     "start_time": "2022-06-11T02:49:19.310928Z"
    }
   },
   "outputs": [],
   "source": [
    "import pandas as pd\n",
    "import numpy as np\n",
    "import matplotlib.pyplot as plt\n",
    "import seaborn as sns\n",
    "import warnings\n",
    "warnings.filterwarnings(action='ignore')"
   ]
  },
  {
   "cell_type": "code",
   "execution_count": 2,
   "metadata": {
    "ExecuteTime": {
     "end_time": "2022-06-11T02:50:21.988290Z",
     "start_time": "2022-06-11T02:49:23.496416Z"
    }
   },
   "outputs": [],
   "source": [
    "base_path = './preprocessed data/'\n",
    "\n",
    "train_err = pd.read_csv(base_path + 'new_train_err.csv', parse_dates=['time'])\n",
    "train_quality = pd.read_csv(base_path + 'new_train_quality.csv', parse_dates=['time'])\n",
    "train_problem = pd.read_csv(base_path + 'new_train_problem.csv', parse_dates=['time'])\n",
    "test_err = pd.read_csv(base_path + 'new_test_err.csv', parse_dates=['time'])\n",
    "test_quality = pd.read_csv(base_path + 'new_test_quality.csv', parse_dates=['time'])\n",
    "submission = pd.read_csv(\"C:/Users/gmlkd/data/시스템 품질 변화로 인한 사용자 불편 예지 AI 경진대회_data/sample_submission.csv\")"
   ]
  },
  {
   "cell_type": "markdown",
   "metadata": {},
   "source": [
    "# 데이터 분석"
   ]
  },
  {
   "cell_type": "code",
   "execution_count": 3,
   "metadata": {
    "ExecuteTime": {
     "end_time": "2022-06-11T02:51:07.127453Z",
     "start_time": "2022-06-11T02:51:07.105301Z"
    },
    "scrolled": true
   },
   "outputs": [
    {
     "data": {
      "text/html": [
       "<div>\n",
       "<style scoped>\n",
       "    .dataframe tbody tr th:only-of-type {\n",
       "        vertical-align: middle;\n",
       "    }\n",
       "\n",
       "    .dataframe tbody tr th {\n",
       "        vertical-align: top;\n",
       "    }\n",
       "\n",
       "    .dataframe thead th {\n",
       "        text-align: right;\n",
       "    }\n",
       "</style>\n",
       "<table border=\"1\" class=\"dataframe\">\n",
       "  <thead>\n",
       "    <tr style=\"text-align: right;\">\n",
       "      <th></th>\n",
       "      <th>user_id</th>\n",
       "      <th>time</th>\n",
       "      <th>model_nm</th>\n",
       "      <th>fwver</th>\n",
       "      <th>errtype</th>\n",
       "      <th>errcode</th>\n",
       "    </tr>\n",
       "  </thead>\n",
       "  <tbody>\n",
       "    <tr>\n",
       "      <th>0</th>\n",
       "      <td>10000</td>\n",
       "      <td>2020-11-01 02:56:16</td>\n",
       "      <td>model_3</td>\n",
       "      <td>05.15.2138</td>\n",
       "      <td>15</td>\n",
       "      <td>1</td>\n",
       "    </tr>\n",
       "    <tr>\n",
       "      <th>1</th>\n",
       "      <td>10000</td>\n",
       "      <td>2020-11-01 03:03:09</td>\n",
       "      <td>model_3</td>\n",
       "      <td>05.15.2138</td>\n",
       "      <td>12</td>\n",
       "      <td>1</td>\n",
       "    </tr>\n",
       "    <tr>\n",
       "      <th>2</th>\n",
       "      <td>10000</td>\n",
       "      <td>2020-11-01 03:03:09</td>\n",
       "      <td>model_3</td>\n",
       "      <td>05.15.2138</td>\n",
       "      <td>11</td>\n",
       "      <td>1</td>\n",
       "    </tr>\n",
       "    <tr>\n",
       "      <th>3</th>\n",
       "      <td>10000</td>\n",
       "      <td>2020-11-01 05:05:14</td>\n",
       "      <td>model_3</td>\n",
       "      <td>05.15.2138</td>\n",
       "      <td>16</td>\n",
       "      <td>1</td>\n",
       "    </tr>\n",
       "    <tr>\n",
       "      <th>4</th>\n",
       "      <td>10000</td>\n",
       "      <td>2020-11-01 05:05:15</td>\n",
       "      <td>model_3</td>\n",
       "      <td>05.15.2138</td>\n",
       "      <td>4</td>\n",
       "      <td>0</td>\n",
       "    </tr>\n",
       "  </tbody>\n",
       "</table>\n",
       "</div>"
      ],
      "text/plain": [
       "   user_id                time model_nm       fwver  errtype errcode\n",
       "0    10000 2020-11-01 02:56:16  model_3  05.15.2138       15       1\n",
       "1    10000 2020-11-01 03:03:09  model_3  05.15.2138       12       1\n",
       "2    10000 2020-11-01 03:03:09  model_3  05.15.2138       11       1\n",
       "3    10000 2020-11-01 05:05:14  model_3  05.15.2138       16       1\n",
       "4    10000 2020-11-01 05:05:15  model_3  05.15.2138        4       0"
      ]
     },
     "execution_count": 3,
     "metadata": {},
     "output_type": "execute_result"
    }
   ],
   "source": [
    "train_err.head()"
   ]
  },
  {
   "cell_type": "markdown",
   "metadata": {},
   "source": [
    "## 시간대별 분석"
   ]
  },
  {
   "cell_type": "markdown",
   "metadata": {},
   "source": [
    "### train_err"
   ]
  },
  {
   "cell_type": "code",
   "execution_count": 4,
   "metadata": {
    "ExecuteTime": {
     "end_time": "2022-06-11T02:51:16.941065Z",
     "start_time": "2022-06-11T02:51:16.229589Z"
    },
    "scrolled": true
   },
   "outputs": [
    {
     "data": {
      "text/plain": [
       "21    562283\n",
       "22    556151\n",
       "15    554778\n",
       "1     553561\n",
       "7     551177\n",
       "8     541958\n",
       "28    527480\n",
       "29    525630\n",
       "14    520291\n",
       "19    518417\n",
       "6     516747\n",
       "2     513572\n",
       "23    513511\n",
       "24    509559\n",
       "9     507302\n",
       "18    506377\n",
       "5     502597\n",
       "20    501508\n",
       "26    499517\n",
       "12    497408\n",
       "10    497012\n",
       "3     496842\n",
       "27    492887\n",
       "16    492638\n",
       "25    492618\n",
       "4     489363\n",
       "11    488927\n",
       "30    484872\n",
       "17    483993\n",
       "13    469020\n",
       "31         5\n",
       "Name: time, dtype: int64"
      ]
     },
     "execution_count": 4,
     "metadata": {},
     "output_type": "execute_result"
    }
   ],
   "source": [
    "# 일별 에러 발생\n",
    "\n",
    "# 비교적 주말에 에러가 많이 발생했다.\n",
    "train_err.time.dt.day.value_counts()"
   ]
  },
  {
   "cell_type": "code",
   "execution_count": 5,
   "metadata": {
    "ExecuteTime": {
     "end_time": "2022-06-11T02:51:23.618793Z",
     "start_time": "2022-06-11T02:51:22.831776Z"
    }
   },
   "outputs": [
    {
     "data": {
      "text/html": [
       "<div>\n",
       "<style scoped>\n",
       "    .dataframe tbody tr th:only-of-type {\n",
       "        vertical-align: middle;\n",
       "    }\n",
       "\n",
       "    .dataframe tbody tr th {\n",
       "        vertical-align: top;\n",
       "    }\n",
       "\n",
       "    .dataframe thead th {\n",
       "        text-align: right;\n",
       "    }\n",
       "</style>\n",
       "<table border=\"1\" class=\"dataframe\">\n",
       "  <thead>\n",
       "    <tr style=\"text-align: right;\">\n",
       "      <th></th>\n",
       "      <th>user_id</th>\n",
       "      <th>time</th>\n",
       "      <th>model_nm</th>\n",
       "      <th>fwver</th>\n",
       "      <th>errtype</th>\n",
       "      <th>errcode</th>\n",
       "    </tr>\n",
       "  </thead>\n",
       "  <tbody>\n",
       "    <tr>\n",
       "      <th>5892567</th>\n",
       "      <td>15801</td>\n",
       "      <td>2020-10-31 23:59:59</td>\n",
       "      <td>model_0</td>\n",
       "      <td>04.22.1750</td>\n",
       "      <td>16</td>\n",
       "      <td>1</td>\n",
       "    </tr>\n",
       "    <tr>\n",
       "      <th>8533535</th>\n",
       "      <td>18418</td>\n",
       "      <td>2020-10-31 23:59:59</td>\n",
       "      <td>model_0</td>\n",
       "      <td>04.22.1750</td>\n",
       "      <td>26</td>\n",
       "      <td>1</td>\n",
       "    </tr>\n",
       "    <tr>\n",
       "      <th>11304925</th>\n",
       "      <td>20974</td>\n",
       "      <td>2020-10-31 23:59:59</td>\n",
       "      <td>model_0</td>\n",
       "      <td>04.22.1750</td>\n",
       "      <td>26</td>\n",
       "      <td>1</td>\n",
       "    </tr>\n",
       "    <tr>\n",
       "      <th>12545032</th>\n",
       "      <td>22249</td>\n",
       "      <td>2020-10-31 23:59:59</td>\n",
       "      <td>model_0</td>\n",
       "      <td>04.22.1750</td>\n",
       "      <td>26</td>\n",
       "      <td>1</td>\n",
       "    </tr>\n",
       "    <tr>\n",
       "      <th>12698894</th>\n",
       "      <td>22385</td>\n",
       "      <td>2020-10-31 23:59:59</td>\n",
       "      <td>model_2</td>\n",
       "      <td>04.33.1185</td>\n",
       "      <td>26</td>\n",
       "      <td>1</td>\n",
       "    </tr>\n",
       "  </tbody>\n",
       "</table>\n",
       "</div>"
      ],
      "text/plain": [
       "          user_id                time model_nm       fwver  errtype errcode\n",
       "5892567     15801 2020-10-31 23:59:59  model_0  04.22.1750       16       1\n",
       "8533535     18418 2020-10-31 23:59:59  model_0  04.22.1750       26       1\n",
       "11304925    20974 2020-10-31 23:59:59  model_0  04.22.1750       26       1\n",
       "12545032    22249 2020-10-31 23:59:59  model_0  04.22.1750       26       1\n",
       "12698894    22385 2020-10-31 23:59:59  model_2  04.33.1185       26       1"
      ]
     },
     "execution_count": 5,
     "metadata": {},
     "output_type": "execute_result"
    }
   ],
   "source": [
    "# 11월 1일로 들어가도 될 것같다.\n",
    "train_err[train_err.time.dt.day == 31]"
   ]
  },
  {
   "cell_type": "code",
   "execution_count": 6,
   "metadata": {
    "ExecuteTime": {
     "end_time": "2022-06-11T02:51:36.817569Z",
     "start_time": "2022-06-11T02:51:34.767524Z"
    }
   },
   "outputs": [
    {
     "data": {
      "text/plain": [
       "<AxesSubplot:xlabel='time', ylabel='Count'>"
      ]
     },
     "execution_count": 6,
     "metadata": {},
     "output_type": "execute_result"
    },
    {
     "data": {
      "image/png": "[encoded data removed]",
      "text/plain": [
       "<Figure size 864x432 with 1 Axes>"
      ]
     },
     "metadata": {
      "needs_background": "light"
     },
     "output_type": "display_data"
    }
   ],
   "source": [
    "plt.figure(figsize=(12,6))\n",
    "sns.histplot(data=train_err, x=train_err.time.dt.day, bins=31)"
   ]
  },
  {
   "cell_type": "code",
   "execution_count": 7,
   "metadata": {
    "ExecuteTime": {
     "end_time": "2022-06-11T02:51:39.963588Z",
     "start_time": "2022-06-11T02:51:39.249583Z"
    },
    "scrolled": true
   },
   "outputs": [
    {
     "data": {
      "text/plain": [
       "19    824162\n",
       "20    792258\n",
       "21    791873\n",
       "18    783808\n",
       "22    729112\n",
       "17    713929\n",
       "8     677857\n",
       "0     658982\n",
       "2     648567\n",
       "16    647170\n",
       "3     645580\n",
       "4     643244\n",
       "9     637959\n",
       "23    622782\n",
       "7     618374\n",
       "13    603780\n",
       "15    600263\n",
       "12    592900\n",
       "10    592178\n",
       "14    581045\n",
       "11    575142\n",
       "5     519059\n",
       "6     444071\n",
       "1     423906\n",
       "Name: time, dtype: int64"
      ]
     },
     "execution_count": 7,
     "metadata": {},
     "output_type": "execute_result"
    }
   ],
   "source": [
    "# 시간대별 에러발생\n",
    "train_err.time.dt.hour.value_counts()"
   ]
  },
  {
   "cell_type": "code",
   "execution_count": 10,
   "metadata": {
    "ExecuteTime": {
     "end_time": "2022-06-10T01:09:01.717497Z",
     "start_time": "2022-06-10T01:09:00.717840Z"
    }
   },
   "outputs": [
    {
     "data": {
      "text/plain": [
       "<AxesSubplot:xlabel='time', ylabel='Count'>"
      ]
     },
     "execution_count": 10,
     "metadata": {},
     "output_type": "execute_result"
    },
    {
     "data": {
      "image/png": "[encoded data removed]",
      "text/plain": [
       "<Figure size 864x432 with 1 Axes>"
      ]
     },
     "metadata": {
      "needs_background": "light"
     },
     "output_type": "display_data"
    }
   ],
   "source": [
    "plt.figure(figsize=(12,6))\n",
    "sns.histplot(data=train_err, x=train_err.time.dt.hour, bins=24)"
   ]
  },
  {
   "cell_type": "markdown",
   "metadata": {},
   "source": [
    "### train_problem "
   ]
  },
  {
   "cell_type": "code",
   "execution_count": 11,
   "metadata": {
    "ExecuteTime": {
     "end_time": "2022-06-10T01:09:01.733201Z",
     "start_time": "2022-06-10T01:09:01.720488Z"
    }
   },
   "outputs": [
    {
     "data": {
      "text/plain": [
       "0    1332\n",
       "2     868\n",
       "4     853\n",
       "1     809\n",
       "3     809\n",
       "5     431\n",
       "6     327\n",
       "Name: time, dtype: int64"
      ]
     },
     "execution_count": 11,
     "metadata": {},
     "output_type": "execute_result"
    }
   ],
   "source": [
    "# 요일별 불만 제기 수\n",
    "\n",
    "train_problem.time.dt.day_of_week.value_counts()"
   ]
  },
  {
   "cell_type": "code",
   "execution_count": 12,
   "metadata": {
    "ExecuteTime": {
     "end_time": "2022-06-10T01:09:01.812991Z",
     "start_time": "2022-06-10T01:09:01.734202Z"
    }
   },
   "outputs": [
    {
     "data": {
      "text/plain": [
       "<AxesSubplot:xlabel='time', ylabel='Count'>"
      ]
     },
     "execution_count": 12,
     "metadata": {},
     "output_type": "execute_result"
    },
    {
     "data": {
      "image/png": "[encoded data removed]",
      "text/plain": [
       "<Figure size 864x432 with 1 Axes>"
      ]
     },
     "metadata": {
      "needs_background": "light"
     },
     "output_type": "display_data"
    }
   ],
   "source": [
    "# 주말에 에러가 많이 발생하지만 불만 제기는 월요일이 가장 많다.\n",
    "# 주말에는 고객센터가 문을 열지 않을 것이라 생각했을 수 있다.\n",
    "\n",
    "plt.figure(figsize=(12,6))\n",
    "sns.histplot(data=train_problem, x=train_problem.time.dt.day_of_week, bins=7)"
   ]
  },
  {
   "cell_type": "code",
   "execution_count": 13,
   "metadata": {
    "ExecuteTime": {
     "end_time": "2022-06-10T01:09:01.828934Z",
     "start_time": "2022-06-10T01:09:01.813985Z"
    },
    "scrolled": true
   },
   "outputs": [
    {
     "data": {
      "text/plain": [
       "12    627\n",
       "11    600\n",
       "13    518\n",
       "19    507\n",
       "18    492\n",
       "15    489\n",
       "16    460\n",
       "17    432\n",
       "22    233\n",
       "20    233\n",
       "14    228\n",
       "21    204\n",
       "23    175\n",
       "0     108\n",
       "1      67\n",
       "2      15\n",
       "10     14\n",
       "9       8\n",
       "5       5\n",
       "8       5\n",
       "3       4\n",
       "4       3\n",
       "7       1\n",
       "6       1\n",
       "Name: time, dtype: int64"
      ]
     },
     "execution_count": 13,
     "metadata": {},
     "output_type": "execute_result"
    }
   ],
   "source": [
    "# 시간대별 불만 제기 수\n",
    "train_problem.time.dt.hour.value_counts()"
   ]
  },
  {
   "cell_type": "code",
   "execution_count": 14,
   "metadata": {
    "ExecuteTime": {
     "end_time": "2022-06-10T01:09:01.908667Z",
     "start_time": "2022-06-10T01:09:01.829931Z"
    }
   },
   "outputs": [
    {
     "data": {
      "text/plain": [
       "<AxesSubplot:xlabel='time', ylabel='Count'>"
      ]
     },
     "execution_count": 14,
     "metadata": {},
     "output_type": "execute_result"
    },
    {
     "data": {
      "image/png": "[encoded data removed]",
      "text/plain": [
       "<Figure size 864x432 with 1 Axes>"
      ]
     },
     "metadata": {
      "needs_background": "light"
     },
     "output_type": "display_data"
    }
   ],
   "source": [
    "plt.figure(figsize=(12,6))\n",
    "sns.histplot(data=train_problem, x=train_problem.time.dt.hour, bins=24)"
   ]
  },
  {
   "cell_type": "markdown",
   "metadata": {},
   "source": [
    "- 에러가 발생한 요일, 시간대는 큰 차이가 나지 않는다.\n",
    "- 하지만 불만을 제기한 요일과 시간대는 꽤 유의미한 차이가 난다.\n",
    "- 따라서 에러가 발생한 요일, 시간은 trian set에 넣어도 될 것 같다."
   ]
  },
  {
   "cell_type": "markdown",
   "metadata": {},
   "source": [
    "## model_nm 분석"
   ]
  },
  {
   "cell_type": "markdown",
   "metadata": {},
   "source": [
    "### model_nm에 따른 불만율"
   ]
  },
  {
   "cell_type": "code",
   "execution_count": 15,
   "metadata": {
    "ExecuteTime": {
     "end_time": "2022-06-10T01:09:02.353180Z",
     "start_time": "2022-06-10T01:09:01.909664Z"
    }
   },
   "outputs": [
    {
     "data": {
      "text/plain": [
       "array(['model_3', 'model_2', 'model_0', 'model_1', 'model_7', 'model_4',\n",
       "       'model_5', 'model_8', 'model_6'], dtype=object)"
      ]
     },
     "execution_count": 15,
     "metadata": {},
     "output_type": "execute_result"
    }
   ],
   "source": [
    "train_err.model_nm.unique()"
   ]
  },
  {
   "cell_type": "code",
   "execution_count": 16,
   "metadata": {
    "ExecuteTime": {
     "end_time": "2022-06-10T01:09:02.369170Z",
     "start_time": "2022-06-10T01:09:02.353180Z"
    },
    "scrolled": false
   },
   "outputs": [],
   "source": [
    "problem_id_list = list(train_problem.user_id)"
   ]
  },
  {
   "cell_type": "code",
   "execution_count": 17,
   "metadata": {
    "ExecuteTime": {
     "end_time": "2022-06-10T01:09:02.385164Z",
     "start_time": "2022-06-10T01:09:02.370166Z"
    },
    "scrolled": true
   },
   "outputs": [
    {
     "data": {
      "text/plain": [
       "5429"
      ]
     },
     "execution_count": 17,
     "metadata": {},
     "output_type": "execute_result"
    }
   ],
   "source": [
    "len(problem_id_list)"
   ]
  },
  {
   "cell_type": "code",
   "execution_count": 18,
   "metadata": {
    "ExecuteTime": {
     "end_time": "2022-06-10T01:09:03.168243Z",
     "start_time": "2022-06-10T01:09:02.386161Z"
    },
    "scrolled": true
   },
   "outputs": [
    {
     "data": {
      "text/html": [
       "<div>\n",
       "<style scoped>\n",
       "    .dataframe tbody tr th:only-of-type {\n",
       "        vertical-align: middle;\n",
       "    }\n",
       "\n",
       "    .dataframe tbody tr th {\n",
       "        vertical-align: top;\n",
       "    }\n",
       "\n",
       "    .dataframe thead th {\n",
       "        text-align: right;\n",
       "    }\n",
       "</style>\n",
       "<table border=\"1\" class=\"dataframe\">\n",
       "  <thead>\n",
       "    <tr style=\"text-align: right;\">\n",
       "      <th></th>\n",
       "      <th>user_id</th>\n",
       "    </tr>\n",
       "    <tr>\n",
       "      <th>model_nm</th>\n",
       "      <th></th>\n",
       "    </tr>\n",
       "  </thead>\n",
       "  <tbody>\n",
       "    <tr>\n",
       "      <th>model_0</th>\n",
       "      <td>[10004, 10005, 10007, 10008, 10011, 10013, 100...</td>\n",
       "    </tr>\n",
       "    <tr>\n",
       "      <th>model_1</th>\n",
       "      <td>[10006, 10009, 10010, 10021, 10023, 10031, 100...</td>\n",
       "    </tr>\n",
       "    <tr>\n",
       "      <th>model_2</th>\n",
       "      <td>[10001, 10003, 10006, 10012, 10014, 10017, 100...</td>\n",
       "    </tr>\n",
       "    <tr>\n",
       "      <th>model_3</th>\n",
       "      <td>[10000, 10002, 10016, 10018, 10019, 10026, 100...</td>\n",
       "    </tr>\n",
       "    <tr>\n",
       "      <th>model_4</th>\n",
       "      <td>[10080, 10092, 10167, 10168, 10171, 10206, 102...</td>\n",
       "    </tr>\n",
       "    <tr>\n",
       "      <th>model_5</th>\n",
       "      <td>[10110, 10408, 10411, 10600, 10719, 11058, 119...</td>\n",
       "    </tr>\n",
       "    <tr>\n",
       "      <th>model_6</th>\n",
       "      <td>[10495, 10693, 11157, 11183, 11206, 11319, 114...</td>\n",
       "    </tr>\n",
       "    <tr>\n",
       "      <th>model_7</th>\n",
       "      <td>[10075, 10244, 10556, 10694, 10744, 10922, 111...</td>\n",
       "    </tr>\n",
       "    <tr>\n",
       "      <th>model_8</th>\n",
       "      <td>[10202, 10286, 10458, 10690, 11086, 11416, 114...</td>\n",
       "    </tr>\n",
       "  </tbody>\n",
       "</table>\n",
       "</div>"
      ],
      "text/plain": [
       "                                                    user_id\n",
       "model_nm                                                   \n",
       "model_0   [10004, 10005, 10007, 10008, 10011, 10013, 100...\n",
       "model_1   [10006, 10009, 10010, 10021, 10023, 10031, 100...\n",
       "model_2   [10001, 10003, 10006, 10012, 10014, 10017, 100...\n",
       "model_3   [10000, 10002, 10016, 10018, 10019, 10026, 100...\n",
       "model_4   [10080, 10092, 10167, 10168, 10171, 10206, 102...\n",
       "model_5   [10110, 10408, 10411, 10600, 10719, 11058, 119...\n",
       "model_6   [10495, 10693, 11157, 11183, 11206, 11319, 114...\n",
       "model_7   [10075, 10244, 10556, 10694, 10744, 10922, 111...\n",
       "model_8   [10202, 10286, 10458, 10690, 11086, 11416, 114..."
      ]
     },
     "execution_count": 18,
     "metadata": {},
     "output_type": "execute_result"
    }
   ],
   "source": [
    "id_model = train_err.groupby('model_nm')['user_id'].unique().to_frame()\n",
    "id_model"
   ]
  },
  {
   "cell_type": "code",
   "execution_count": 19,
   "metadata": {
    "ExecuteTime": {
     "end_time": "2022-06-10T01:09:03.183245Z",
     "start_time": "2022-06-10T01:09:03.169205Z"
    }
   },
   "outputs": [],
   "source": [
    "id_model['count'] = 0"
   ]
  },
  {
   "cell_type": "code",
   "execution_count": 20,
   "metadata": {
    "ExecuteTime": {
     "end_time": "2022-06-10T01:09:03.198851Z",
     "start_time": "2022-06-10T01:09:03.184247Z"
    }
   },
   "outputs": [
    {
     "data": {
      "text/plain": [
       "user_id    [10004, 10005, 10007, 10008, 10011, 10013, 100...\n",
       "count                                                      0\n",
       "Name: model_0, dtype: object"
      ]
     },
     "execution_count": 20,
     "metadata": {},
     "output_type": "execute_result"
    }
   ],
   "source": [
    "id_model.iloc[0]"
   ]
  },
  {
   "cell_type": "code",
   "execution_count": 21,
   "metadata": {
    "ExecuteTime": {
     "end_time": "2022-06-10T01:09:04.125912Z",
     "start_time": "2022-06-10T01:09:03.199891Z"
    }
   },
   "outputs": [],
   "source": [
    "for i in range(len(id_model.index)):\n",
    "    for j in problem_id_list:\n",
    "        if j in id_model.iloc[i, 0]:\n",
    "            id_model.iloc[i, 1] += 1"
   ]
  },
  {
   "cell_type": "code",
   "execution_count": 22,
   "metadata": {
    "ExecuteTime": {
     "end_time": "2022-06-10T01:09:04.141801Z",
     "start_time": "2022-06-10T01:09:04.126848Z"
    }
   },
   "outputs": [
    {
     "data": {
      "text/html": [
       "<div>\n",
       "<style scoped>\n",
       "    .dataframe tbody tr th:only-of-type {\n",
       "        vertical-align: middle;\n",
       "    }\n",
       "\n",
       "    .dataframe tbody tr th {\n",
       "        vertical-align: top;\n",
       "    }\n",
       "\n",
       "    .dataframe thead th {\n",
       "        text-align: right;\n",
       "    }\n",
       "</style>\n",
       "<table border=\"1\" class=\"dataframe\">\n",
       "  <thead>\n",
       "    <tr style=\"text-align: right;\">\n",
       "      <th></th>\n",
       "      <th>user_id</th>\n",
       "      <th>count</th>\n",
       "    </tr>\n",
       "    <tr>\n",
       "      <th>model_nm</th>\n",
       "      <th></th>\n",
       "      <th></th>\n",
       "    </tr>\n",
       "  </thead>\n",
       "  <tbody>\n",
       "    <tr>\n",
       "      <th>model_0</th>\n",
       "      <td>[10004, 10005, 10007, 10008, 10011, 10013, 100...</td>\n",
       "      <td>1769</td>\n",
       "    </tr>\n",
       "    <tr>\n",
       "      <th>model_1</th>\n",
       "      <td>[10006, 10009, 10010, 10021, 10023, 10031, 100...</td>\n",
       "      <td>1426</td>\n",
       "    </tr>\n",
       "    <tr>\n",
       "      <th>model_2</th>\n",
       "      <td>[10001, 10003, 10006, 10012, 10014, 10017, 100...</td>\n",
       "      <td>1918</td>\n",
       "    </tr>\n",
       "    <tr>\n",
       "      <th>model_3</th>\n",
       "      <td>[10000, 10002, 10016, 10018, 10019, 10026, 100...</td>\n",
       "      <td>789</td>\n",
       "    </tr>\n",
       "    <tr>\n",
       "      <th>model_4</th>\n",
       "      <td>[10080, 10092, 10167, 10168, 10171, 10206, 102...</td>\n",
       "      <td>153</td>\n",
       "    </tr>\n",
       "    <tr>\n",
       "      <th>model_5</th>\n",
       "      <td>[10110, 10408, 10411, 10600, 10719, 11058, 119...</td>\n",
       "      <td>23</td>\n",
       "    </tr>\n",
       "    <tr>\n",
       "      <th>model_6</th>\n",
       "      <td>[10495, 10693, 11157, 11183, 11206, 11319, 114...</td>\n",
       "      <td>10</td>\n",
       "    </tr>\n",
       "    <tr>\n",
       "      <th>model_7</th>\n",
       "      <td>[10075, 10244, 10556, 10694, 10744, 10922, 111...</td>\n",
       "      <td>36</td>\n",
       "    </tr>\n",
       "    <tr>\n",
       "      <th>model_8</th>\n",
       "      <td>[10202, 10286, 10458, 10690, 11086, 11416, 114...</td>\n",
       "      <td>25</td>\n",
       "    </tr>\n",
       "  </tbody>\n",
       "</table>\n",
       "</div>"
      ],
      "text/plain": [
       "                                                    user_id  count\n",
       "model_nm                                                          \n",
       "model_0   [10004, 10005, 10007, 10008, 10011, 10013, 100...   1769\n",
       "model_1   [10006, 10009, 10010, 10021, 10023, 10031, 100...   1426\n",
       "model_2   [10001, 10003, 10006, 10012, 10014, 10017, 100...   1918\n",
       "model_3   [10000, 10002, 10016, 10018, 10019, 10026, 100...    789\n",
       "model_4   [10080, 10092, 10167, 10168, 10171, 10206, 102...    153\n",
       "model_5   [10110, 10408, 10411, 10600, 10719, 11058, 119...     23\n",
       "model_6   [10495, 10693, 11157, 11183, 11206, 11319, 114...     10\n",
       "model_7   [10075, 10244, 10556, 10694, 10744, 10922, 111...     36\n",
       "model_8   [10202, 10286, 10458, 10690, 11086, 11416, 114...     25"
      ]
     },
     "execution_count": 22,
     "metadata": {},
     "output_type": "execute_result"
    }
   ],
   "source": [
    "id_model"
   ]
  },
  {
   "cell_type": "code",
   "execution_count": 23,
   "metadata": {
    "ExecuteTime": {
     "end_time": "2022-06-10T01:09:04.157748Z",
     "start_time": "2022-06-10T01:09:04.142798Z"
    }
   },
   "outputs": [
    {
     "data": {
      "text/plain": [
       "6149"
      ]
     },
     "execution_count": 23,
     "metadata": {},
     "output_type": "execute_result"
    }
   ],
   "source": [
    "count_sum = id_model['count'].values.sum()\n",
    "count_sum"
   ]
  },
  {
   "cell_type": "code",
   "execution_count": 24,
   "metadata": {
    "ExecuteTime": {
     "end_time": "2022-06-10T01:09:04.173694Z",
     "start_time": "2022-06-10T01:09:04.158744Z"
    }
   },
   "outputs": [
    {
     "data": {
      "text/html": [
       "<div>\n",
       "<style scoped>\n",
       "    .dataframe tbody tr th:only-of-type {\n",
       "        vertical-align: middle;\n",
       "    }\n",
       "\n",
       "    .dataframe tbody tr th {\n",
       "        vertical-align: top;\n",
       "    }\n",
       "\n",
       "    .dataframe thead th {\n",
       "        text-align: right;\n",
       "    }\n",
       "</style>\n",
       "<table border=\"1\" class=\"dataframe\">\n",
       "  <thead>\n",
       "    <tr style=\"text-align: right;\">\n",
       "      <th></th>\n",
       "      <th>user_id</th>\n",
       "      <th>count</th>\n",
       "      <th>problem_rate</th>\n",
       "    </tr>\n",
       "    <tr>\n",
       "      <th>model_nm</th>\n",
       "      <th></th>\n",
       "      <th></th>\n",
       "      <th></th>\n",
       "    </tr>\n",
       "  </thead>\n",
       "  <tbody>\n",
       "    <tr>\n",
       "      <th>model_0</th>\n",
       "      <td>[10004, 10005, 10007, 10008, 10011, 10013, 100...</td>\n",
       "      <td>1769</td>\n",
       "      <td>28.768906</td>\n",
       "    </tr>\n",
       "    <tr>\n",
       "      <th>model_1</th>\n",
       "      <td>[10006, 10009, 10010, 10021, 10023, 10031, 100...</td>\n",
       "      <td>1426</td>\n",
       "      <td>23.190763</td>\n",
       "    </tr>\n",
       "    <tr>\n",
       "      <th>model_2</th>\n",
       "      <td>[10001, 10003, 10006, 10012, 10014, 10017, 100...</td>\n",
       "      <td>1918</td>\n",
       "      <td>31.192064</td>\n",
       "    </tr>\n",
       "    <tr>\n",
       "      <th>model_3</th>\n",
       "      <td>[10000, 10002, 10016, 10018, 10019, 10026, 100...</td>\n",
       "      <td>789</td>\n",
       "      <td>12.831355</td>\n",
       "    </tr>\n",
       "    <tr>\n",
       "      <th>model_4</th>\n",
       "      <td>[10080, 10092, 10167, 10168, 10171, 10206, 102...</td>\n",
       "      <td>153</td>\n",
       "      <td>2.488209</td>\n",
       "    </tr>\n",
       "    <tr>\n",
       "      <th>model_5</th>\n",
       "      <td>[10110, 10408, 10411, 10600, 10719, 11058, 119...</td>\n",
       "      <td>23</td>\n",
       "      <td>0.374045</td>\n",
       "    </tr>\n",
       "    <tr>\n",
       "      <th>model_6</th>\n",
       "      <td>[10495, 10693, 11157, 11183, 11206, 11319, 114...</td>\n",
       "      <td>10</td>\n",
       "      <td>0.162628</td>\n",
       "    </tr>\n",
       "    <tr>\n",
       "      <th>model_7</th>\n",
       "      <td>[10075, 10244, 10556, 10694, 10744, 10922, 111...</td>\n",
       "      <td>36</td>\n",
       "      <td>0.585461</td>\n",
       "    </tr>\n",
       "    <tr>\n",
       "      <th>model_8</th>\n",
       "      <td>[10202, 10286, 10458, 10690, 11086, 11416, 114...</td>\n",
       "      <td>25</td>\n",
       "      <td>0.406570</td>\n",
       "    </tr>\n",
       "  </tbody>\n",
       "</table>\n",
       "</div>"
      ],
      "text/plain": [
       "                                                    user_id  count  \\\n",
       "model_nm                                                             \n",
       "model_0   [10004, 10005, 10007, 10008, 10011, 10013, 100...   1769   \n",
       "model_1   [10006, 10009, 10010, 10021, 10023, 10031, 100...   1426   \n",
       "model_2   [10001, 10003, 10006, 10012, 10014, 10017, 100...   1918   \n",
       "model_3   [10000, 10002, 10016, 10018, 10019, 10026, 100...    789   \n",
       "model_4   [10080, 10092, 10167, 10168, 10171, 10206, 102...    153   \n",
       "model_5   [10110, 10408, 10411, 10600, 10719, 11058, 119...     23   \n",
       "model_6   [10495, 10693, 11157, 11183, 11206, 11319, 114...     10   \n",
       "model_7   [10075, 10244, 10556, 10694, 10744, 10922, 111...     36   \n",
       "model_8   [10202, 10286, 10458, 10690, 11086, 11416, 114...     25   \n",
       "\n",
       "          problem_rate  \n",
       "model_nm                \n",
       "model_0      28.768906  \n",
       "model_1      23.190763  \n",
       "model_2      31.192064  \n",
       "model_3      12.831355  \n",
       "model_4       2.488209  \n",
       "model_5       0.374045  \n",
       "model_6       0.162628  \n",
       "model_7       0.585461  \n",
       "model_8       0.406570  "
      ]
     },
     "execution_count": 24,
     "metadata": {},
     "output_type": "execute_result"
    }
   ],
   "source": [
    "id_model['problem_rate'] = id_model['count'] / count_sum * 100\n",
    "id_model"
   ]
  },
  {
   "cell_type": "code",
   "execution_count": 25,
   "metadata": {
    "ExecuteTime": {
     "end_time": "2022-06-10T01:09:05.191109Z",
     "start_time": "2022-06-10T01:09:04.174691Z"
    }
   },
   "outputs": [],
   "source": [
    "id_model['error_rate'] = train_err.model_nm.value_counts().sort_index() / train_err.model_nm.value_counts().sum() * 100"
   ]
  },
  {
   "cell_type": "code",
   "execution_count": 26,
   "metadata": {
    "ExecuteTime": {
     "end_time": "2022-06-10T01:09:05.207005Z",
     "start_time": "2022-06-10T01:09:05.192093Z"
    }
   },
   "outputs": [
    {
     "data": {
      "text/html": [
       "<div>\n",
       "<style scoped>\n",
       "    .dataframe tbody tr th:only-of-type {\n",
       "        vertical-align: middle;\n",
       "    }\n",
       "\n",
       "    .dataframe tbody tr th {\n",
       "        vertical-align: top;\n",
       "    }\n",
       "\n",
       "    .dataframe thead th {\n",
       "        text-align: right;\n",
       "    }\n",
       "</style>\n",
       "<table border=\"1\" class=\"dataframe\">\n",
       "  <thead>\n",
       "    <tr style=\"text-align: right;\">\n",
       "      <th></th>\n",
       "      <th>user_id</th>\n",
       "      <th>count</th>\n",
       "      <th>problem_rate</th>\n",
       "      <th>error_rate</th>\n",
       "    </tr>\n",
       "    <tr>\n",
       "      <th>model_nm</th>\n",
       "      <th></th>\n",
       "      <th></th>\n",
       "      <th></th>\n",
       "      <th></th>\n",
       "    </tr>\n",
       "  </thead>\n",
       "  <tbody>\n",
       "    <tr>\n",
       "      <th>model_0</th>\n",
       "      <td>[10004, 10005, 10007, 10008, 10011, 10013, 100...</td>\n",
       "      <td>1769</td>\n",
       "      <td>28.768906</td>\n",
       "      <td>26.026404</td>\n",
       "    </tr>\n",
       "    <tr>\n",
       "      <th>model_1</th>\n",
       "      <td>[10006, 10009, 10010, 10021, 10023, 10031, 100...</td>\n",
       "      <td>1426</td>\n",
       "      <td>23.190763</td>\n",
       "      <td>34.416356</td>\n",
       "    </tr>\n",
       "    <tr>\n",
       "      <th>model_2</th>\n",
       "      <td>[10001, 10003, 10006, 10012, 10014, 10017, 100...</td>\n",
       "      <td>1918</td>\n",
       "      <td>31.192064</td>\n",
       "      <td>21.419331</td>\n",
       "    </tr>\n",
       "    <tr>\n",
       "      <th>model_3</th>\n",
       "      <td>[10000, 10002, 10016, 10018, 10019, 10026, 100...</td>\n",
       "      <td>789</td>\n",
       "      <td>12.831355</td>\n",
       "      <td>11.987284</td>\n",
       "    </tr>\n",
       "    <tr>\n",
       "      <th>model_4</th>\n",
       "      <td>[10080, 10092, 10167, 10168, 10171, 10206, 102...</td>\n",
       "      <td>153</td>\n",
       "      <td>2.488209</td>\n",
       "      <td>5.512259</td>\n",
       "    </tr>\n",
       "    <tr>\n",
       "      <th>model_5</th>\n",
       "      <td>[10110, 10408, 10411, 10600, 10719, 11058, 119...</td>\n",
       "      <td>23</td>\n",
       "      <td>0.374045</td>\n",
       "      <td>0.192302</td>\n",
       "    </tr>\n",
       "    <tr>\n",
       "      <th>model_6</th>\n",
       "      <td>[10495, 10693, 11157, 11183, 11206, 11319, 114...</td>\n",
       "      <td>10</td>\n",
       "      <td>0.162628</td>\n",
       "      <td>0.011114</td>\n",
       "    </tr>\n",
       "    <tr>\n",
       "      <th>model_7</th>\n",
       "      <td>[10075, 10244, 10556, 10694, 10744, 10922, 111...</td>\n",
       "      <td>36</td>\n",
       "      <td>0.585461</td>\n",
       "      <td>0.216300</td>\n",
       "    </tr>\n",
       "    <tr>\n",
       "      <th>model_8</th>\n",
       "      <td>[10202, 10286, 10458, 10690, 11086, 11416, 114...</td>\n",
       "      <td>25</td>\n",
       "      <td>0.406570</td>\n",
       "      <td>0.218649</td>\n",
       "    </tr>\n",
       "  </tbody>\n",
       "</table>\n",
       "</div>"
      ],
      "text/plain": [
       "                                                    user_id  count  \\\n",
       "model_nm                                                             \n",
       "model_0   [10004, 10005, 10007, 10008, 10011, 10013, 100...   1769   \n",
       "model_1   [10006, 10009, 10010, 10021, 10023, 10031, 100...   1426   \n",
       "model_2   [10001, 10003, 10006, 10012, 10014, 10017, 100...   1918   \n",
       "model_3   [10000, 10002, 10016, 10018, 10019, 10026, 100...    789   \n",
       "model_4   [10080, 10092, 10167, 10168, 10171, 10206, 102...    153   \n",
       "model_5   [10110, 10408, 10411, 10600, 10719, 11058, 119...     23   \n",
       "model_6   [10495, 10693, 11157, 11183, 11206, 11319, 114...     10   \n",
       "model_7   [10075, 10244, 10556, 10694, 10744, 10922, 111...     36   \n",
       "model_8   [10202, 10286, 10458, 10690, 11086, 11416, 114...     25   \n",
       "\n",
       "          problem_rate  error_rate  \n",
       "model_nm                            \n",
       "model_0      28.768906   26.026404  \n",
       "model_1      23.190763   34.416356  \n",
       "model_2      31.192064   21.419331  \n",
       "model_3      12.831355   11.987284  \n",
       "model_4       2.488209    5.512259  \n",
       "model_5       0.374045    0.192302  \n",
       "model_6       0.162628    0.011114  \n",
       "model_7       0.585461    0.216300  \n",
       "model_8       0.406570    0.218649  "
      ]
     },
     "execution_count": 26,
     "metadata": {},
     "output_type": "execute_result"
    }
   ],
   "source": [
    "id_model"
   ]
  },
  {
   "cell_type": "code",
   "execution_count": 27,
   "metadata": {
    "ExecuteTime": {
     "end_time": "2022-06-10T01:09:05.347744Z",
     "start_time": "2022-06-10T01:09:05.208003Z"
    }
   },
   "outputs": [
    {
     "data": {
      "image/png": "[encoded data removed]",
      "text/plain": [
       "<Figure size 864x864 with 2 Axes>"
      ]
     },
     "metadata": {},
     "output_type": "display_data"
    }
   ],
   "source": [
    "plt.figure(figsize=(12,12))\n",
    "plt.subplot(121)\n",
    "plt.title('에러가 나는 비율', fontsize=16)\n",
    "plt.pie(id_model['error_rate'], labels=id_model.index, autopct='%.2f%%', textprops={'fontsize':15})\n",
    "\n",
    "plt.subplot(122)\n",
    "plt.title('불만 제기되는 비율', fontsize=16)\n",
    "plt.pie(id_model['problem_rate'], labels=id_model.index, autopct='%.2f%%', textprops={'fontsize':15})\n",
    "plt.show()"
   ]
  },
  {
   "cell_type": "markdown",
   "metadata": {},
   "source": [
    "- 에러는 model_1  > model_0 > model_2 순서로 많지만\n",
    "- 해당 에러로 불만을 제기하는 사용자는 model_2 > model_0 > model_1 순서\n",
    "- 모델에 따라 불만 제기 확률 편차가 크기 때문에 model_nm은 유의미한 column"
   ]
  },
  {
   "cell_type": "markdown",
   "metadata": {},
   "source": [
    "### model_nm 변경"
   ]
  },
  {
   "cell_type": "code",
   "execution_count": 28,
   "metadata": {
    "ExecuteTime": {
     "end_time": "2022-06-10T01:09:05.440613Z",
     "start_time": "2022-06-10T01:09:05.348709Z"
    }
   },
   "outputs": [],
   "source": [
    "change_model =  train_err[['user_id', 'model_nm']]"
   ]
  },
  {
   "cell_type": "code",
   "execution_count": 29,
   "metadata": {
    "ExecuteTime": {
     "end_time": "2022-06-10T01:09:06.153422Z",
     "start_time": "2022-06-10T01:09:05.441613Z"
    },
    "scrolled": true
   },
   "outputs": [],
   "source": [
    "change_model = change_model.drop_duplicates(subset=None, keep='first')"
   ]
  },
  {
   "cell_type": "code",
   "execution_count": 30,
   "metadata": {
    "ExecuteTime": {
     "end_time": "2022-06-10T01:09:06.169302Z",
     "start_time": "2022-06-10T01:09:06.153748Z"
    }
   },
   "outputs": [],
   "source": [
    "user_model_num = change_model.user_id.value_counts()\n",
    "user_has_2models = list(user_model_num.loc[user_model_num > 1].to_frame().index)"
   ]
  },
  {
   "cell_type": "code",
   "execution_count": 31,
   "metadata": {
    "ExecuteTime": {
     "end_time": "2022-06-10T01:09:06.184252Z",
     "start_time": "2022-06-10T01:09:06.170299Z"
    }
   },
   "outputs": [
    {
     "name": "stdout",
     "output_type": "stream",
     "text": [
      "모델이 변경되고 불만을 제기한 사람 91.4651493598862% \n"
     ]
    }
   ],
   "source": [
    "user_sum = len(user_has_2models)\n",
    "user_prob_sum = len(list(train_problem[train_problem['user_id'].isin(user_has_2models)].user_id.unique()))\n",
    "\n",
    "print(f\"모델이 변경되고 불만을 제기한 사람 {user_prob_sum/user_sum*100}% \")"
   ]
  },
  {
   "cell_type": "markdown",
   "metadata": {},
   "source": [
    "- model_nm 변경이 불만 제기에 많은 영향을 미친다"
   ]
  },
  {
   "cell_type": "markdown",
   "metadata": {},
   "source": [
    "### model_nm - fwver"
   ]
  },
  {
   "cell_type": "code",
   "execution_count": 32,
   "metadata": {
    "ExecuteTime": {
     "end_time": "2022-06-10T01:09:07.433488Z",
     "start_time": "2022-06-10T01:09:06.185249Z"
    }
   },
   "outputs": [
    {
     "data": {
      "text/html": [
       "<div>\n",
       "<style scoped>\n",
       "    .dataframe tbody tr th:only-of-type {\n",
       "        vertical-align: middle;\n",
       "    }\n",
       "\n",
       "    .dataframe tbody tr th {\n",
       "        vertical-align: top;\n",
       "    }\n",
       "\n",
       "    .dataframe thead th {\n",
       "        text-align: right;\n",
       "    }\n",
       "</style>\n",
       "<table border=\"1\" class=\"dataframe\">\n",
       "  <thead>\n",
       "    <tr style=\"text-align: right;\">\n",
       "      <th></th>\n",
       "      <th>model_nm</th>\n",
       "      <th>fwver</th>\n",
       "    </tr>\n",
       "  </thead>\n",
       "  <tbody>\n",
       "    <tr>\n",
       "      <th>0</th>\n",
       "      <td>model_0</td>\n",
       "      <td>[04.22.1750, 04.22.1778, 04.22.1684, 04.22.166...</td>\n",
       "    </tr>\n",
       "    <tr>\n",
       "      <th>1</th>\n",
       "      <td>model_1</td>\n",
       "      <td>[04.16.3553, 04.16.3571, 04.16.3439, 04.16.356...</td>\n",
       "    </tr>\n",
       "    <tr>\n",
       "      <th>2</th>\n",
       "      <td>model_2</td>\n",
       "      <td>[04.33.1185, 04.33.1261, 04.33.1149, 04.33.117...</td>\n",
       "    </tr>\n",
       "    <tr>\n",
       "      <th>3</th>\n",
       "      <td>model_3</td>\n",
       "      <td>[05.15.2138, 05.15.2120, 05.15.2090, 05.15.310...</td>\n",
       "    </tr>\n",
       "    <tr>\n",
       "      <th>4</th>\n",
       "      <td>model_4</td>\n",
       "      <td>[03.11.1149, 03.11.1167, 03.11.1141]</td>\n",
       "    </tr>\n",
       "    <tr>\n",
       "      <th>5</th>\n",
       "      <td>model_5</td>\n",
       "      <td>[04.82.1684, 04.82.1778, 04.82.1730]</td>\n",
       "    </tr>\n",
       "    <tr>\n",
       "      <th>6</th>\n",
       "      <td>model_6</td>\n",
       "      <td>[10, 8.5.3]</td>\n",
       "    </tr>\n",
       "    <tr>\n",
       "      <th>7</th>\n",
       "      <td>model_7</td>\n",
       "      <td>[05.66.3237, 05.66.3571]</td>\n",
       "    </tr>\n",
       "    <tr>\n",
       "      <th>8</th>\n",
       "      <td>model_8</td>\n",
       "      <td>[04.73.2237, 04.73.2571]</td>\n",
       "    </tr>\n",
       "  </tbody>\n",
       "</table>\n",
       "</div>"
      ],
      "text/plain": [
       "  model_nm                                              fwver\n",
       "0  model_0  [04.22.1750, 04.22.1778, 04.22.1684, 04.22.166...\n",
       "1  model_1  [04.16.3553, 04.16.3571, 04.16.3439, 04.16.356...\n",
       "2  model_2  [04.33.1185, 04.33.1261, 04.33.1149, 04.33.117...\n",
       "3  model_3  [05.15.2138, 05.15.2120, 05.15.2090, 05.15.310...\n",
       "4  model_4               [03.11.1149, 03.11.1167, 03.11.1141]\n",
       "5  model_5               [04.82.1684, 04.82.1778, 04.82.1730]\n",
       "6  model_6                                        [10, 8.5.3]\n",
       "7  model_7                           [05.66.3237, 05.66.3571]\n",
       "8  model_8                           [04.73.2237, 04.73.2571]"
      ]
     },
     "execution_count": 32,
     "metadata": {},
     "output_type": "execute_result"
    }
   ],
   "source": [
    "model_fwver = train_err.groupby('model_nm')['fwver'].unique().to_frame().reset_index()\n",
    "model_fwver"
   ]
  },
  {
   "cell_type": "code",
   "execution_count": 63,
   "metadata": {
    "ExecuteTime": {
     "end_time": "2022-06-10T01:10:27.865571Z",
     "start_time": "2022-06-10T01:10:27.848628Z"
    }
   },
   "outputs": [
    {
     "data": {
      "text/plain": [
       "array(['04.22.1750', '04.22.1778', '04.22.1684', '04.22.1666',\n",
       "       '04.22.1442', '04.22.1656'], dtype=object)"
      ]
     },
     "execution_count": 63,
     "metadata": {},
     "output_type": "execute_result"
    }
   ],
   "source": [
    "model_fwver['fwver'][0]"
   ]
  },
  {
   "cell_type": "code",
   "execution_count": 64,
   "metadata": {
    "ExecuteTime": {
     "end_time": "2022-06-10T01:10:45.219047Z",
     "start_time": "2022-06-10T01:10:45.210076Z"
    }
   },
   "outputs": [
    {
     "name": "stdout",
     "output_type": "stream",
     "text": [
      "model_0 -> \n",
      " ['04.22.1442', '04.22.1656', '04.22.1666', '04.22.1684', '04.22.1750', '04.22.1778']\n",
      "model_1 -> \n",
      " ['04.16.2641', '04.16.3345', '04.16.3439', '04.16.3553', '04.16.3569', '04.16.3571']\n",
      "model_2 -> \n",
      " ['04.33.1095', '04.33.1125', '04.33.1149', '04.33.1171', '04.33.1185', '04.33.1261']\n",
      "model_3 -> \n",
      " ['05.15.2090', '05.15.2092', '05.15.2114', '05.15.2120', '05.15.2122', '05.15.2138', '05.15.3104']\n",
      "model_4 -> \n",
      " ['03.11.1141', '03.11.1149', '03.11.1167']\n",
      "model_5 -> \n",
      " ['04.82.1684', '04.82.1730', '04.82.1778']\n",
      "model_6 -> \n",
      " ['10', '8.5.3']\n",
      "model_7 -> \n",
      " ['05.66.3237', '05.66.3571']\n",
      "model_8 -> \n",
      " ['04.73.2237', '04.73.2571']\n"
     ]
    }
   ],
   "source": [
    "# model_6를 제외하고 모델별로 4번째까지 같은 펌웨어 번호를 사용한다.\n",
    "\n",
    "for nm in range(len(model_fwver.index)):\n",
    "    print(f\"{model_fwver.model_nm[nm]} -> \\n {sorted(model_fwver['fwver'][nm])}\")"
   ]
  },
  {
   "cell_type": "markdown",
   "metadata": {},
   "source": [
    "## fwver 분석"
   ]
  },
  {
   "cell_type": "markdown",
   "metadata": {},
   "source": [
    "### fwver에 따른 불만율"
   ]
  },
  {
   "cell_type": "code",
   "execution_count": 34,
   "metadata": {
    "ExecuteTime": {
     "end_time": "2022-06-10T01:09:07.543380Z",
     "start_time": "2022-06-10T01:09:07.450431Z"
    }
   },
   "outputs": [],
   "source": [
    "fwver_df = train_err[['user_id', 'fwver']]"
   ]
  },
  {
   "cell_type": "code",
   "execution_count": 35,
   "metadata": {
    "ExecuteTime": {
     "end_time": "2022-06-10T01:09:08.292911Z",
     "start_time": "2022-06-10T01:09:07.546372Z"
    }
   },
   "outputs": [],
   "source": [
    "fwver_df = fwver_df.drop_duplicates(subset=None, keep='first')"
   ]
  },
  {
   "cell_type": "code",
   "execution_count": 36,
   "metadata": {
    "ExecuteTime": {
     "end_time": "2022-06-10T01:09:08.308388Z",
     "start_time": "2022-06-10T01:09:08.293397Z"
    },
    "scrolled": true
   },
   "outputs": [],
   "source": [
    "user_fwver = fwver_df.groupby('fwver')['user_id'].unique().to_frame().reset_index()"
   ]
  },
  {
   "cell_type": "code",
   "execution_count": 37,
   "metadata": {
    "ExecuteTime": {
     "end_time": "2022-06-10T01:09:08.323905Z",
     "start_time": "2022-06-10T01:09:08.309388Z"
    }
   },
   "outputs": [],
   "source": [
    "user_fwver['count'] = 0"
   ]
  },
  {
   "cell_type": "code",
   "execution_count": 38,
   "metadata": {
    "ExecuteTime": {
     "end_time": "2022-06-10T01:09:08.762128Z",
     "start_time": "2022-06-10T01:09:08.324377Z"
    }
   },
   "outputs": [],
   "source": [
    "for i in range(37):\n",
    "    user_fwver['count'][i] = len(list(train_problem[train_problem['user_id'].isin(user_fwver.user_id[i])].user_id.unique()))\n"
   ]
  },
  {
   "cell_type": "code",
   "execution_count": 39,
   "metadata": {
    "ExecuteTime": {
     "end_time": "2022-06-10T01:09:08.778021Z",
     "start_time": "2022-06-10T01:09:08.763108Z"
    }
   },
   "outputs": [],
   "source": [
    "user_fwver['rate'] = 0"
   ]
  },
  {
   "cell_type": "code",
   "execution_count": 40,
   "metadata": {
    "ExecuteTime": {
     "end_time": "2022-06-10T01:09:08.823006Z",
     "start_time": "2022-06-10T01:09:08.780013Z"
    }
   },
   "outputs": [],
   "source": [
    "for i in range(37):\n",
    "        user_fwver['rate'][i] = round(user_fwver['count'][i]/len(user_fwver.user_id[i]) * 100, 2)"
   ]
  },
  {
   "cell_type": "code",
   "execution_count": 41,
   "metadata": {
    "ExecuteTime": {
     "end_time": "2022-06-10T01:09:08.854956Z",
     "start_time": "2022-06-10T01:09:08.823957Z"
    },
    "scrolled": true
   },
   "outputs": [
    {
     "data": {
      "text/html": [
       "<div>\n",
       "<style scoped>\n",
       "    .dataframe tbody tr th:only-of-type {\n",
       "        vertical-align: middle;\n",
       "    }\n",
       "\n",
       "    .dataframe tbody tr th {\n",
       "        vertical-align: top;\n",
       "    }\n",
       "\n",
       "    .dataframe thead th {\n",
       "        text-align: right;\n",
       "    }\n",
       "</style>\n",
       "<table border=\"1\" class=\"dataframe\">\n",
       "  <thead>\n",
       "    <tr style=\"text-align: right;\">\n",
       "      <th></th>\n",
       "      <th>fwver</th>\n",
       "      <th>user_id</th>\n",
       "      <th>count</th>\n",
       "      <th>rate</th>\n",
       "    </tr>\n",
       "  </thead>\n",
       "  <tbody>\n",
       "    <tr>\n",
       "      <th>0</th>\n",
       "      <td>03.11.1141</td>\n",
       "      <td>[13383, 14319]</td>\n",
       "      <td>1</td>\n",
       "      <td>50.00</td>\n",
       "    </tr>\n",
       "    <tr>\n",
       "      <th>1</th>\n",
       "      <td>03.11.1149</td>\n",
       "      <td>[10080, 12659, 14956, 16535, 23098, 24175]</td>\n",
       "      <td>0</td>\n",
       "      <td>0.00</td>\n",
       "    </tr>\n",
       "    <tr>\n",
       "      <th>2</th>\n",
       "      <td>03.11.1167</td>\n",
       "      <td>[10092, 10167, 10168, 10171, 10206, 10207, 102...</td>\n",
       "      <td>141</td>\n",
       "      <td>20.64</td>\n",
       "    </tr>\n",
       "    <tr>\n",
       "      <th>3</th>\n",
       "      <td>04.16.2641</td>\n",
       "      <td>[21965]</td>\n",
       "      <td>1</td>\n",
       "      <td>100.00</td>\n",
       "    </tr>\n",
       "    <tr>\n",
       "      <th>4</th>\n",
       "      <td>04.16.3345</td>\n",
       "      <td>[23726, 23860]</td>\n",
       "      <td>1</td>\n",
       "      <td>50.00</td>\n",
       "    </tr>\n",
       "    <tr>\n",
       "      <th>5</th>\n",
       "      <td>04.16.3439</td>\n",
       "      <td>[14840, 15345, 15950, 16920, 20813, 21638]</td>\n",
       "      <td>2</td>\n",
       "      <td>33.33</td>\n",
       "    </tr>\n",
       "    <tr>\n",
       "      <th>6</th>\n",
       "      <td>04.16.3553</td>\n",
       "      <td>[10006, 10009, 10010, 10021, 10023, 10031, 100...</td>\n",
       "      <td>1314</td>\n",
       "      <td>46.32</td>\n",
       "    </tr>\n",
       "    <tr>\n",
       "      <th>7</th>\n",
       "      <td>04.16.3569</td>\n",
       "      <td>[17036, 19373]</td>\n",
       "      <td>2</td>\n",
       "      <td>100.00</td>\n",
       "    </tr>\n",
       "    <tr>\n",
       "      <th>8</th>\n",
       "      <td>04.16.3571</td>\n",
       "      <td>[10023, 10050, 10082, 10102, 10119, 10133, 101...</td>\n",
       "      <td>295</td>\n",
       "      <td>58.76</td>\n",
       "    </tr>\n",
       "    <tr>\n",
       "      <th>9</th>\n",
       "      <td>04.22.1442</td>\n",
       "      <td>[14958, 23842]</td>\n",
       "      <td>1</td>\n",
       "      <td>50.00</td>\n",
       "    </tr>\n",
       "    <tr>\n",
       "      <th>10</th>\n",
       "      <td>04.22.1656</td>\n",
       "      <td>[19831]</td>\n",
       "      <td>1</td>\n",
       "      <td>100.00</td>\n",
       "    </tr>\n",
       "    <tr>\n",
       "      <th>11</th>\n",
       "      <td>04.22.1666</td>\n",
       "      <td>[13198, 19592]</td>\n",
       "      <td>0</td>\n",
       "      <td>0.00</td>\n",
       "    </tr>\n",
       "    <tr>\n",
       "      <th>12</th>\n",
       "      <td>04.22.1684</td>\n",
       "      <td>[10083, 10276, 11015, 11482, 11635, 11773, 122...</td>\n",
       "      <td>28</td>\n",
       "      <td>48.28</td>\n",
       "    </tr>\n",
       "    <tr>\n",
       "      <th>13</th>\n",
       "      <td>04.22.1750</td>\n",
       "      <td>[10004, 10005, 10007, 10008, 10011, 10013, 100...</td>\n",
       "      <td>1630</td>\n",
       "      <td>37.64</td>\n",
       "    </tr>\n",
       "    <tr>\n",
       "      <th>14</th>\n",
       "      <td>04.22.1778</td>\n",
       "      <td>[10004, 10005, 10007, 10008, 10011, 10013, 100...</td>\n",
       "      <td>1586</td>\n",
       "      <td>38.00</td>\n",
       "    </tr>\n",
       "    <tr>\n",
       "      <th>15</th>\n",
       "      <td>04.33.1095</td>\n",
       "      <td>[16260, 17752]</td>\n",
       "      <td>0</td>\n",
       "      <td>0.00</td>\n",
       "    </tr>\n",
       "    <tr>\n",
       "      <th>16</th>\n",
       "      <td>04.33.1125</td>\n",
       "      <td>[14347, 17287, 18382, 20863, 23931, 24818]</td>\n",
       "      <td>4</td>\n",
       "      <td>66.67</td>\n",
       "    </tr>\n",
       "    <tr>\n",
       "      <th>17</th>\n",
       "      <td>04.33.1149</td>\n",
       "      <td>[10017, 10031, 10055, 10173, 10284, 10373, 103...</td>\n",
       "      <td>112</td>\n",
       "      <td>70.00</td>\n",
       "    </tr>\n",
       "    <tr>\n",
       "      <th>18</th>\n",
       "      <td>04.33.1171</td>\n",
       "      <td>[10123, 22223, 22720, 23313]</td>\n",
       "      <td>1</td>\n",
       "      <td>25.00</td>\n",
       "    </tr>\n",
       "    <tr>\n",
       "      <th>19</th>\n",
       "      <td>04.33.1185</td>\n",
       "      <td>[10001, 10003, 10012, 10014, 10020, 10022, 100...</td>\n",
       "      <td>1128</td>\n",
       "      <td>32.83</td>\n",
       "    </tr>\n",
       "    <tr>\n",
       "      <th>20</th>\n",
       "      <td>04.33.1261</td>\n",
       "      <td>[10001, 10003, 10006, 10012, 10014, 10017, 100...</td>\n",
       "      <td>1739</td>\n",
       "      <td>39.11</td>\n",
       "    </tr>\n",
       "    <tr>\n",
       "      <th>21</th>\n",
       "      <td>04.73.2237</td>\n",
       "      <td>[10202, 10286, 10458, 10690, 11086, 11416, 114...</td>\n",
       "      <td>22</td>\n",
       "      <td>45.83</td>\n",
       "    </tr>\n",
       "    <tr>\n",
       "      <th>22</th>\n",
       "      <td>04.73.2571</td>\n",
       "      <td>[11086, 13445, 13669, 15949, 19077, 19555, 195...</td>\n",
       "      <td>8</td>\n",
       "      <td>66.67</td>\n",
       "    </tr>\n",
       "    <tr>\n",
       "      <th>23</th>\n",
       "      <td>04.82.1684</td>\n",
       "      <td>[10110, 10408, 10411, 10719, 11058, 11902, 120...</td>\n",
       "      <td>19</td>\n",
       "      <td>48.72</td>\n",
       "    </tr>\n",
       "    <tr>\n",
       "      <th>24</th>\n",
       "      <td>04.82.1730</td>\n",
       "      <td>[10600]</td>\n",
       "      <td>1</td>\n",
       "      <td>100.00</td>\n",
       "    </tr>\n",
       "    <tr>\n",
       "      <th>25</th>\n",
       "      <td>04.82.1778</td>\n",
       "      <td>[10110, 10408, 10411, 10600, 10719, 11058, 119...</td>\n",
       "      <td>20</td>\n",
       "      <td>50.00</td>\n",
       "    </tr>\n",
       "    <tr>\n",
       "      <th>26</th>\n",
       "      <td>05.15.2090</td>\n",
       "      <td>[18142]</td>\n",
       "      <td>0</td>\n",
       "      <td>0.00</td>\n",
       "    </tr>\n",
       "    <tr>\n",
       "      <th>27</th>\n",
       "      <td>05.15.2092</td>\n",
       "      <td>[24279]</td>\n",
       "      <td>1</td>\n",
       "      <td>100.00</td>\n",
       "    </tr>\n",
       "    <tr>\n",
       "      <th>28</th>\n",
       "      <td>05.15.2114</td>\n",
       "      <td>[23476]</td>\n",
       "      <td>0</td>\n",
       "      <td>0.00</td>\n",
       "    </tr>\n",
       "    <tr>\n",
       "      <th>29</th>\n",
       "      <td>05.15.2120</td>\n",
       "      <td>[13390, 15531, 15590, 17022, 17055, 17376, 199...</td>\n",
       "      <td>2</td>\n",
       "      <td>20.00</td>\n",
       "    </tr>\n",
       "    <tr>\n",
       "      <th>30</th>\n",
       "      <td>05.15.2122</td>\n",
       "      <td>[19278]</td>\n",
       "      <td>0</td>\n",
       "      <td>0.00</td>\n",
       "    </tr>\n",
       "    <tr>\n",
       "      <th>31</th>\n",
       "      <td>05.15.2138</td>\n",
       "      <td>[10000, 10002, 10016, 10018, 10019, 10026, 100...</td>\n",
       "      <td>720</td>\n",
       "      <td>23.23</td>\n",
       "    </tr>\n",
       "    <tr>\n",
       "      <th>32</th>\n",
       "      <td>05.15.3104</td>\n",
       "      <td>[19062, 20366, 22550]</td>\n",
       "      <td>1</td>\n",
       "      <td>33.33</td>\n",
       "    </tr>\n",
       "    <tr>\n",
       "      <th>33</th>\n",
       "      <td>05.66.3237</td>\n",
       "      <td>[10075, 10244, 10556, 10694, 10744, 10922, 111...</td>\n",
       "      <td>32</td>\n",
       "      <td>52.46</td>\n",
       "    </tr>\n",
       "    <tr>\n",
       "      <th>34</th>\n",
       "      <td>05.66.3571</td>\n",
       "      <td>[10075, 11149, 12047, 13991, 14861, 16333, 175...</td>\n",
       "      <td>8</td>\n",
       "      <td>53.33</td>\n",
       "    </tr>\n",
       "    <tr>\n",
       "      <th>35</th>\n",
       "      <td>10</td>\n",
       "      <td>[10495, 10693, 11183, 11206, 11319, 11479, 116...</td>\n",
       "      <td>9</td>\n",
       "      <td>15.52</td>\n",
       "    </tr>\n",
       "    <tr>\n",
       "      <th>36</th>\n",
       "      <td>8.5.3</td>\n",
       "      <td>[11157, 12166, 13525, 13784, 15236, 20432, 222...</td>\n",
       "      <td>0</td>\n",
       "      <td>0.00</td>\n",
       "    </tr>\n",
       "  </tbody>\n",
       "</table>\n",
       "</div>"
      ],
      "text/plain": [
       "         fwver                                            user_id  count  \\\n",
       "0   03.11.1141                                     [13383, 14319]      1   \n",
       "1   03.11.1149         [10080, 12659, 14956, 16535, 23098, 24175]      0   \n",
       "2   03.11.1167  [10092, 10167, 10168, 10171, 10206, 10207, 102...    141   \n",
       "3   04.16.2641                                            [21965]      1   \n",
       "4   04.16.3345                                     [23726, 23860]      1   \n",
       "5   04.16.3439         [14840, 15345, 15950, 16920, 20813, 21638]      2   \n",
       "6   04.16.3553  [10006, 10009, 10010, 10021, 10023, 10031, 100...   1314   \n",
       "7   04.16.3569                                     [17036, 19373]      2   \n",
       "8   04.16.3571  [10023, 10050, 10082, 10102, 10119, 10133, 101...    295   \n",
       "9   04.22.1442                                     [14958, 23842]      1   \n",
       "10  04.22.1656                                            [19831]      1   \n",
       "11  04.22.1666                                     [13198, 19592]      0   \n",
       "12  04.22.1684  [10083, 10276, 11015, 11482, 11635, 11773, 122...     28   \n",
       "13  04.22.1750  [10004, 10005, 10007, 10008, 10011, 10013, 100...   1630   \n",
       "14  04.22.1778  [10004, 10005, 10007, 10008, 10011, 10013, 100...   1586   \n",
       "15  04.33.1095                                     [16260, 17752]      0   \n",
       "16  04.33.1125         [14347, 17287, 18382, 20863, 23931, 24818]      4   \n",
       "17  04.33.1149  [10017, 10031, 10055, 10173, 10284, 10373, 103...    112   \n",
       "18  04.33.1171                       [10123, 22223, 22720, 23313]      1   \n",
       "19  04.33.1185  [10001, 10003, 10012, 10014, 10020, 10022, 100...   1128   \n",
       "20  04.33.1261  [10001, 10003, 10006, 10012, 10014, 10017, 100...   1739   \n",
       "21  04.73.2237  [10202, 10286, 10458, 10690, 11086, 11416, 114...     22   \n",
       "22  04.73.2571  [11086, 13445, 13669, 15949, 19077, 19555, 195...      8   \n",
       "23  04.82.1684  [10110, 10408, 10411, 10719, 11058, 11902, 120...     19   \n",
       "24  04.82.1730                                            [10600]      1   \n",
       "25  04.82.1778  [10110, 10408, 10411, 10600, 10719, 11058, 119...     20   \n",
       "26  05.15.2090                                            [18142]      0   \n",
       "27  05.15.2092                                            [24279]      1   \n",
       "28  05.15.2114                                            [23476]      0   \n",
       "29  05.15.2120  [13390, 15531, 15590, 17022, 17055, 17376, 199...      2   \n",
       "30  05.15.2122                                            [19278]      0   \n",
       "31  05.15.2138  [10000, 10002, 10016, 10018, 10019, 10026, 100...    720   \n",
       "32  05.15.3104                              [19062, 20366, 22550]      1   \n",
       "33  05.66.3237  [10075, 10244, 10556, 10694, 10744, 10922, 111...     32   \n",
       "34  05.66.3571  [10075, 11149, 12047, 13991, 14861, 16333, 175...      8   \n",
       "35          10  [10495, 10693, 11183, 11206, 11319, 11479, 116...      9   \n",
       "36       8.5.3  [11157, 12166, 13525, 13784, 15236, 20432, 222...      0   \n",
       "\n",
       "      rate  \n",
       "0    50.00  \n",
       "1     0.00  \n",
       "2    20.64  \n",
       "3   100.00  \n",
       "4    50.00  \n",
       "5    33.33  \n",
       "6    46.32  \n",
       "7   100.00  \n",
       "8    58.76  \n",
       "9    50.00  \n",
       "10  100.00  \n",
       "11    0.00  \n",
       "12   48.28  \n",
       "13   37.64  \n",
       "14   38.00  \n",
       "15    0.00  \n",
       "16   66.67  \n",
       "17   70.00  \n",
       "18   25.00  \n",
       "19   32.83  \n",
       "20   39.11  \n",
       "21   45.83  \n",
       "22   66.67  \n",
       "23   48.72  \n",
       "24  100.00  \n",
       "25   50.00  \n",
       "26    0.00  \n",
       "27  100.00  \n",
       "28    0.00  \n",
       "29   20.00  \n",
       "30    0.00  \n",
       "31   23.23  \n",
       "32   33.33  \n",
       "33   52.46  \n",
       "34   53.33  \n",
       "35   15.52  \n",
       "36    0.00  "
      ]
     },
     "execution_count": 41,
     "metadata": {},
     "output_type": "execute_result"
    }
   ],
   "source": [
    "user_fwver"
   ]
  },
  {
   "cell_type": "code",
   "execution_count": 42,
   "metadata": {
    "ExecuteTime": {
     "end_time": "2022-06-10T01:09:09.027571Z",
     "start_time": "2022-06-10T01:09:08.855953Z"
    }
   },
   "outputs": [
    {
     "data": {
      "text/plain": [
       "<AxesSubplot:xlabel='fwver', ylabel='rate'>"
      ]
     },
     "execution_count": 42,
     "metadata": {},
     "output_type": "execute_result"
    },
    {
     "data": {
      "image/png": "[encoded data removed]",
      "text/plain": [
       "<Figure size 1008x576 with 1 Axes>"
      ]
     },
     "metadata": {
      "needs_background": "light"
     },
     "output_type": "display_data"
    }
   ],
   "source": [
    "# fwver별 불만 제기율\n",
    "\n",
    "plt.figure(figsize=(14,8))\n",
    "plt.xticks(rotation=45)\n",
    "sns.barplot(data=user_fwver, x='fwver', y='rate', order=user_fwver.sort_values('rate').fwver)"
   ]
  },
  {
   "cell_type": "markdown",
   "metadata": {},
   "source": [
    "- fwver에 따라 불만율 차이가 많이 난다"
   ]
  },
  {
   "cell_type": "markdown",
   "metadata": {},
   "source": [
    "### fwver업데이트"
   ]
  },
  {
   "cell_type": "code",
   "execution_count": 43,
   "metadata": {
    "ExecuteTime": {
     "end_time": "2022-06-10T01:09:09.042470Z",
     "start_time": "2022-06-10T01:09:09.028516Z"
    }
   },
   "outputs": [
    {
     "data": {
      "text/html": [
       "<div>\n",
       "<style scoped>\n",
       "    .dataframe tbody tr th:only-of-type {\n",
       "        vertical-align: middle;\n",
       "    }\n",
       "\n",
       "    .dataframe tbody tr th {\n",
       "        vertical-align: top;\n",
       "    }\n",
       "\n",
       "    .dataframe thead th {\n",
       "        text-align: right;\n",
       "    }\n",
       "</style>\n",
       "<table border=\"1\" class=\"dataframe\">\n",
       "  <thead>\n",
       "    <tr style=\"text-align: right;\">\n",
       "      <th></th>\n",
       "      <th>user_id</th>\n",
       "      <th>fwver</th>\n",
       "    </tr>\n",
       "  </thead>\n",
       "  <tbody>\n",
       "    <tr>\n",
       "      <th>0</th>\n",
       "      <td>10000</td>\n",
       "      <td>05.15.2138</td>\n",
       "    </tr>\n",
       "    <tr>\n",
       "      <th>316</th>\n",
       "      <td>10001</td>\n",
       "      <td>04.33.1185</td>\n",
       "    </tr>\n",
       "    <tr>\n",
       "      <th>684</th>\n",
       "      <td>10001</td>\n",
       "      <td>04.33.1261</td>\n",
       "    </tr>\n",
       "    <tr>\n",
       "      <th>2661</th>\n",
       "      <td>10002</td>\n",
       "      <td>05.15.2138</td>\n",
       "    </tr>\n",
       "    <tr>\n",
       "      <th>2966</th>\n",
       "      <td>10003</td>\n",
       "      <td>04.33.1185</td>\n",
       "    </tr>\n",
       "    <tr>\n",
       "      <th>...</th>\n",
       "      <td>...</td>\n",
       "      <td>...</td>\n",
       "    </tr>\n",
       "    <tr>\n",
       "      <th>15366473</th>\n",
       "      <td>24997</td>\n",
       "      <td>04.22.1750</td>\n",
       "    </tr>\n",
       "    <tr>\n",
       "      <th>15366933</th>\n",
       "      <td>24997</td>\n",
       "      <td>04.22.1778</td>\n",
       "    </tr>\n",
       "    <tr>\n",
       "      <th>15367291</th>\n",
       "      <td>24998</td>\n",
       "      <td>04.22.1750</td>\n",
       "    </tr>\n",
       "    <tr>\n",
       "      <th>15367299</th>\n",
       "      <td>24998</td>\n",
       "      <td>04.22.1778</td>\n",
       "    </tr>\n",
       "    <tr>\n",
       "      <th>15367435</th>\n",
       "      <td>24999</td>\n",
       "      <td>05.15.2138</td>\n",
       "    </tr>\n",
       "  </tbody>\n",
       "</table>\n",
       "<p>24062 rows × 2 columns</p>\n",
       "</div>"
      ],
      "text/plain": [
       "          user_id       fwver\n",
       "0           10000  05.15.2138\n",
       "316         10001  04.33.1185\n",
       "684         10001  04.33.1261\n",
       "2661        10002  05.15.2138\n",
       "2966        10003  04.33.1185\n",
       "...           ...         ...\n",
       "15366473    24997  04.22.1750\n",
       "15366933    24997  04.22.1778\n",
       "15367291    24998  04.22.1750\n",
       "15367299    24998  04.22.1778\n",
       "15367435    24999  05.15.2138\n",
       "\n",
       "[24062 rows x 2 columns]"
      ]
     },
     "execution_count": 43,
     "metadata": {},
     "output_type": "execute_result"
    }
   ],
   "source": [
    "# fwver이 바뀌는 user가 많다. \n",
    "# fwver이 변경되었을 때 불만 제기율 확인\n",
    "# fwver_df 사용\n",
    "fwver_df"
   ]
  },
  {
   "cell_type": "code",
   "execution_count": 44,
   "metadata": {
    "ExecuteTime": {
     "end_time": "2022-06-10T01:09:09.057439Z",
     "start_time": "2022-06-10T01:09:09.043466Z"
    }
   },
   "outputs": [],
   "source": [
    "user_fwver_num = fwver_df['user_id'].value_counts()\n",
    "user_has_2fwvers = list(user_fwver_num.loc[user_fwver_num>1].to_frame().index)"
   ]
  },
  {
   "cell_type": "code",
   "execution_count": 45,
   "metadata": {
    "ExecuteTime": {
     "end_time": "2022-06-10T01:09:09.073389Z",
     "start_time": "2022-06-10T01:09:09.058438Z"
    }
   },
   "outputs": [
    {
     "name": "stdout",
     "output_type": "stream",
     "text": [
      "fwver가 변경되고 불만을 제기한 사람 39.696969696969695% \n"
     ]
    }
   ],
   "source": [
    "user_sum = len(user_has_2fwvers)\n",
    "user_prob_sum = len(list(train_problem[train_problem['user_id'].isin(user_has_2fwvers)].user_id.unique()))\n",
    "\n",
    "print(f\"fwver가 변경되고 불만을 제기한 사람 {user_prob_sum/user_sum*100}% \")"
   ]
  },
  {
   "cell_type": "markdown",
   "metadata": {},
   "source": [
    "- fwver이 변경되었을 때 변수가 유의미하게 작용한다."
   ]
  },
  {
   "cell_type": "markdown",
   "metadata": {},
   "source": [
    "## errtype 분석"
   ]
  },
  {
   "cell_type": "code",
   "execution_count": 46,
   "metadata": {
    "ExecuteTime": {
     "end_time": "2022-06-10T01:09:09.964511Z",
     "start_time": "2022-06-10T01:09:09.074385Z"
    },
    "scrolled": true
   },
   "outputs": [
    {
     "data": {
      "image/png": "[encoded data removed]",
      "text/plain": [
       "<Figure size 864x432 with 1 Axes>"
      ]
     },
     "metadata": {
      "needs_background": "light"
     },
     "output_type": "display_data"
    }
   ],
   "source": [
    "# errtype별 에러율 차이가 난다.\n",
    "plt.figure(figsize=(12,6))\n",
    "sns.countplot(data=train_err, x='errtype')\n",
    "plt.show()"
   ]
  },
  {
   "cell_type": "markdown",
   "metadata": {},
   "source": [
    "### errtype에 따른 불만제기"
   ]
  },
  {
   "cell_type": "code",
   "execution_count": 47,
   "metadata": {
    "ExecuteTime": {
     "end_time": "2022-06-10T01:09:10.027269Z",
     "start_time": "2022-06-10T01:09:09.965473Z"
    }
   },
   "outputs": [
    {
     "data": {
      "text/html": [
       "<div>\n",
       "<style scoped>\n",
       "    .dataframe tbody tr th:only-of-type {\n",
       "        vertical-align: middle;\n",
       "    }\n",
       "\n",
       "    .dataframe tbody tr th {\n",
       "        vertical-align: top;\n",
       "    }\n",
       "\n",
       "    .dataframe thead th {\n",
       "        text-align: right;\n",
       "    }\n",
       "</style>\n",
       "<table border=\"1\" class=\"dataframe\">\n",
       "  <thead>\n",
       "    <tr style=\"text-align: right;\">\n",
       "      <th></th>\n",
       "      <th>user_id</th>\n",
       "      <th>errtype</th>\n",
       "    </tr>\n",
       "  </thead>\n",
       "  <tbody>\n",
       "    <tr>\n",
       "      <th>0</th>\n",
       "      <td>10000</td>\n",
       "      <td>15</td>\n",
       "    </tr>\n",
       "    <tr>\n",
       "      <th>1</th>\n",
       "      <td>10000</td>\n",
       "      <td>12</td>\n",
       "    </tr>\n",
       "    <tr>\n",
       "      <th>2</th>\n",
       "      <td>10000</td>\n",
       "      <td>11</td>\n",
       "    </tr>\n",
       "    <tr>\n",
       "      <th>3</th>\n",
       "      <td>10000</td>\n",
       "      <td>16</td>\n",
       "    </tr>\n",
       "    <tr>\n",
       "      <th>4</th>\n",
       "      <td>10000</td>\n",
       "      <td>4</td>\n",
       "    </tr>\n",
       "    <tr>\n",
       "      <th>...</th>\n",
       "      <td>...</td>\n",
       "      <td>...</td>\n",
       "    </tr>\n",
       "    <tr>\n",
       "      <th>15367996</th>\n",
       "      <td>24999</td>\n",
       "      <td>15</td>\n",
       "    </tr>\n",
       "    <tr>\n",
       "      <th>15367997</th>\n",
       "      <td>24999</td>\n",
       "      <td>16</td>\n",
       "    </tr>\n",
       "    <tr>\n",
       "      <th>15367998</th>\n",
       "      <td>24999</td>\n",
       "      <td>4</td>\n",
       "    </tr>\n",
       "    <tr>\n",
       "      <th>15367999</th>\n",
       "      <td>24999</td>\n",
       "      <td>4</td>\n",
       "    </tr>\n",
       "    <tr>\n",
       "      <th>15368000</th>\n",
       "      <td>24999</td>\n",
       "      <td>15</td>\n",
       "    </tr>\n",
       "  </tbody>\n",
       "</table>\n",
       "<p>15368001 rows × 2 columns</p>\n",
       "</div>"
      ],
      "text/plain": [
       "          user_id  errtype\n",
       "0           10000       15\n",
       "1           10000       12\n",
       "2           10000       11\n",
       "3           10000       16\n",
       "4           10000        4\n",
       "...           ...      ...\n",
       "15367996    24999       15\n",
       "15367997    24999       16\n",
       "15367998    24999        4\n",
       "15367999    24999        4\n",
       "15368000    24999       15\n",
       "\n",
       "[15368001 rows x 2 columns]"
      ]
     },
     "execution_count": 47,
     "metadata": {},
     "output_type": "execute_result"
    }
   ],
   "source": [
    "errtype_df = train_err[['user_id', 'errtype']]\n",
    "errtype_df"
   ]
  },
  {
   "cell_type": "code",
   "execution_count": 48,
   "metadata": {
    "ExecuteTime": {
     "end_time": "2022-06-10T01:09:10.357166Z",
     "start_time": "2022-06-10T01:09:10.028263Z"
    }
   },
   "outputs": [
    {
     "data": {
      "text/html": [
       "<div>\n",
       "<style scoped>\n",
       "    .dataframe tbody tr th:only-of-type {\n",
       "        vertical-align: middle;\n",
       "    }\n",
       "\n",
       "    .dataframe tbody tr th {\n",
       "        vertical-align: top;\n",
       "    }\n",
       "\n",
       "    .dataframe thead th {\n",
       "        text-align: right;\n",
       "    }\n",
       "</style>\n",
       "<table border=\"1\" class=\"dataframe\">\n",
       "  <thead>\n",
       "    <tr style=\"text-align: right;\">\n",
       "      <th></th>\n",
       "      <th>user_id</th>\n",
       "      <th>errtype</th>\n",
       "    </tr>\n",
       "  </thead>\n",
       "  <tbody>\n",
       "    <tr>\n",
       "      <th>0</th>\n",
       "      <td>10000</td>\n",
       "      <td>15</td>\n",
       "    </tr>\n",
       "    <tr>\n",
       "      <th>1</th>\n",
       "      <td>10000</td>\n",
       "      <td>12</td>\n",
       "    </tr>\n",
       "    <tr>\n",
       "      <th>2</th>\n",
       "      <td>10000</td>\n",
       "      <td>11</td>\n",
       "    </tr>\n",
       "    <tr>\n",
       "      <th>3</th>\n",
       "      <td>10000</td>\n",
       "      <td>16</td>\n",
       "    </tr>\n",
       "    <tr>\n",
       "      <th>4</th>\n",
       "      <td>10000</td>\n",
       "      <td>4</td>\n",
       "    </tr>\n",
       "    <tr>\n",
       "      <th>...</th>\n",
       "      <td>...</td>\n",
       "      <td>...</td>\n",
       "    </tr>\n",
       "    <tr>\n",
       "      <th>15367477</th>\n",
       "      <td>24999</td>\n",
       "      <td>13</td>\n",
       "    </tr>\n",
       "    <tr>\n",
       "      <th>15367479</th>\n",
       "      <td>24999</td>\n",
       "      <td>3</td>\n",
       "    </tr>\n",
       "    <tr>\n",
       "      <th>15367480</th>\n",
       "      <td>24999</td>\n",
       "      <td>7</td>\n",
       "    </tr>\n",
       "    <tr>\n",
       "      <th>15367481</th>\n",
       "      <td>24999</td>\n",
       "      <td>6</td>\n",
       "    </tr>\n",
       "    <tr>\n",
       "      <th>15367482</th>\n",
       "      <td>24999</td>\n",
       "      <td>14</td>\n",
       "    </tr>\n",
       "  </tbody>\n",
       "</table>\n",
       "<p>231039 rows × 2 columns</p>\n",
       "</div>"
      ],
      "text/plain": [
       "          user_id  errtype\n",
       "0           10000       15\n",
       "1           10000       12\n",
       "2           10000       11\n",
       "3           10000       16\n",
       "4           10000        4\n",
       "...           ...      ...\n",
       "15367477    24999       13\n",
       "15367479    24999        3\n",
       "15367480    24999        7\n",
       "15367481    24999        6\n",
       "15367482    24999       14\n",
       "\n",
       "[231039 rows x 2 columns]"
      ]
     },
     "execution_count": 48,
     "metadata": {},
     "output_type": "execute_result"
    }
   ],
   "source": [
    "errtype_df = errtype_df.drop_duplicates(subset=None, keep='first')\n",
    "errtype_df"
   ]
  },
  {
   "cell_type": "code",
   "execution_count": 49,
   "metadata": {
    "ExecuteTime": {
     "end_time": "2022-06-10T01:09:10.372113Z",
     "start_time": "2022-06-10T01:09:10.358159Z"
    }
   },
   "outputs": [],
   "source": [
    "user_errtype = errtype_df.groupby('errtype')['user_id'].unique().to_frame().reset_index()\n",
    "user_errtype['count'] = 0\n",
    "user_errtype['rate'] = 0"
   ]
  },
  {
   "cell_type": "code",
   "execution_count": 50,
   "metadata": {
    "ExecuteTime": {
     "end_time": "2022-06-10T01:09:10.575583Z",
     "start_time": "2022-06-10T01:09:10.372113Z"
    },
    "scrolled": true
   },
   "outputs": [],
   "source": [
    "for i in range(41):\n",
    "    user_errtype['count'][i] = len(list(train_problem[train_problem['user_id'].isin(user_errtype.user_id[i])].user_id.unique()))"
   ]
  },
  {
   "cell_type": "code",
   "execution_count": 51,
   "metadata": {
    "ExecuteTime": {
     "end_time": "2022-06-10T01:09:10.591127Z",
     "start_time": "2022-06-10T01:09:10.576127Z"
    },
    "scrolled": true
   },
   "outputs": [],
   "source": [
    "for i in range(41):\n",
    "        user_errtype['rate'][i] = round(user_errtype['count'][i]/len(user_errtype.user_id[i]) * 100, 2)"
   ]
  },
  {
   "cell_type": "code",
   "execution_count": 52,
   "metadata": {
    "ExecuteTime": {
     "end_time": "2022-06-10T01:09:10.622972Z",
     "start_time": "2022-06-10T01:09:10.592076Z"
    },
    "scrolled": true
   },
   "outputs": [
    {
     "data": {
      "text/html": [
       "<div>\n",
       "<style scoped>\n",
       "    .dataframe tbody tr th:only-of-type {\n",
       "        vertical-align: middle;\n",
       "    }\n",
       "\n",
       "    .dataframe tbody tr th {\n",
       "        vertical-align: top;\n",
       "    }\n",
       "\n",
       "    .dataframe thead th {\n",
       "        text-align: right;\n",
       "    }\n",
       "</style>\n",
       "<table border=\"1\" class=\"dataframe\">\n",
       "  <thead>\n",
       "    <tr style=\"text-align: right;\">\n",
       "      <th></th>\n",
       "      <th>errtype</th>\n",
       "      <th>user_id</th>\n",
       "      <th>count</th>\n",
       "      <th>rate</th>\n",
       "    </tr>\n",
       "  </thead>\n",
       "  <tbody>\n",
       "    <tr>\n",
       "      <th>0</th>\n",
       "      <td>1</td>\n",
       "      <td>[10080, 10092, 10167, 10168, 10171, 10206, 102...</td>\n",
       "      <td>242</td>\n",
       "      <td>25.47</td>\n",
       "    </tr>\n",
       "    <tr>\n",
       "      <th>1</th>\n",
       "      <td>2</td>\n",
       "      <td>[10025, 10134, 10226, 10233, 10292, 10306, 103...</td>\n",
       "      <td>168</td>\n",
       "      <td>43.08</td>\n",
       "    </tr>\n",
       "    <tr>\n",
       "      <th>2</th>\n",
       "      <td>3</td>\n",
       "      <td>[10000, 10002, 10019, 10035, 10049, 10088, 101...</td>\n",
       "      <td>465</td>\n",
       "      <td>27.70</td>\n",
       "    </tr>\n",
       "    <tr>\n",
       "      <th>3</th>\n",
       "      <td>4</td>\n",
       "      <td>[10000, 10002, 10004, 10005, 10006, 10010, 100...</td>\n",
       "      <td>2298</td>\n",
       "      <td>33.40</td>\n",
       "    </tr>\n",
       "    <tr>\n",
       "      <th>4</th>\n",
       "      <td>5</td>\n",
       "      <td>[10001, 10002, 10003, 10005, 10006, 10009, 100...</td>\n",
       "      <td>4028</td>\n",
       "      <td>36.58</td>\n",
       "    </tr>\n",
       "    <tr>\n",
       "      <th>5</th>\n",
       "      <td>6</td>\n",
       "      <td>[10000, 10001, 10002, 10003, 10004, 10006, 100...</td>\n",
       "      <td>2662</td>\n",
       "      <td>41.16</td>\n",
       "    </tr>\n",
       "    <tr>\n",
       "      <th>6</th>\n",
       "      <td>7</td>\n",
       "      <td>[10000, 10001, 10002, 10003, 10004, 10005, 100...</td>\n",
       "      <td>3093</td>\n",
       "      <td>40.44</td>\n",
       "    </tr>\n",
       "    <tr>\n",
       "      <th>7</th>\n",
       "      <td>8</td>\n",
       "      <td>[10548, 10640, 10974, 11096, 11129, 11330, 116...</td>\n",
       "      <td>13</td>\n",
       "      <td>20.31</td>\n",
       "    </tr>\n",
       "    <tr>\n",
       "      <th>8</th>\n",
       "      <td>9</td>\n",
       "      <td>[10172, 10233, 10983, 11050, 11221, 12354, 126...</td>\n",
       "      <td>38</td>\n",
       "      <td>60.32</td>\n",
       "    </tr>\n",
       "    <tr>\n",
       "      <th>9</th>\n",
       "      <td>10</td>\n",
       "      <td>[10000, 10002, 10005, 10013, 10014, 10020, 100...</td>\n",
       "      <td>1134</td>\n",
       "      <td>48.05</td>\n",
       "    </tr>\n",
       "    <tr>\n",
       "      <th>10</th>\n",
       "      <td>11</td>\n",
       "      <td>[10000, 10001, 10002, 10003, 10004, 10005, 100...</td>\n",
       "      <td>4971</td>\n",
       "      <td>33.66</td>\n",
       "    </tr>\n",
       "    <tr>\n",
       "      <th>11</th>\n",
       "      <td>12</td>\n",
       "      <td>[10000, 10001, 10002, 10003, 10004, 10005, 100...</td>\n",
       "      <td>4974</td>\n",
       "      <td>33.61</td>\n",
       "    </tr>\n",
       "    <tr>\n",
       "      <th>12</th>\n",
       "      <td>13</td>\n",
       "      <td>[10000, 10001, 10002, 10004, 10013, 10014, 100...</td>\n",
       "      <td>1667</td>\n",
       "      <td>44.92</td>\n",
       "    </tr>\n",
       "    <tr>\n",
       "      <th>13</th>\n",
       "      <td>14</td>\n",
       "      <td>[10000, 10001, 10002, 10004, 10005, 10006, 100...</td>\n",
       "      <td>3224</td>\n",
       "      <td>40.86</td>\n",
       "    </tr>\n",
       "    <tr>\n",
       "      <th>14</th>\n",
       "      <td>15</td>\n",
       "      <td>[10000, 10001, 10002, 10003, 10004, 10005, 100...</td>\n",
       "      <td>4978</td>\n",
       "      <td>34.22</td>\n",
       "    </tr>\n",
       "    <tr>\n",
       "      <th>15</th>\n",
       "      <td>16</td>\n",
       "      <td>[10000, 10001, 10002, 10003, 10004, 10005, 100...</td>\n",
       "      <td>4977</td>\n",
       "      <td>34.49</td>\n",
       "    </tr>\n",
       "    <tr>\n",
       "      <th>16</th>\n",
       "      <td>17</td>\n",
       "      <td>[10003, 10006, 10009, 10010, 10011, 10012, 100...</td>\n",
       "      <td>2498</td>\n",
       "      <td>43.47</td>\n",
       "    </tr>\n",
       "    <tr>\n",
       "      <th>17</th>\n",
       "      <td>18</td>\n",
       "      <td>[10001, 10014, 10067, 10079, 10093, 10102, 101...</td>\n",
       "      <td>1521</td>\n",
       "      <td>86.03</td>\n",
       "    </tr>\n",
       "    <tr>\n",
       "      <th>18</th>\n",
       "      <td>19</td>\n",
       "      <td>[10001, 10055, 10102, 10119, 10133, 10140, 101...</td>\n",
       "      <td>346</td>\n",
       "      <td>82.58</td>\n",
       "    </tr>\n",
       "    <tr>\n",
       "      <th>19</th>\n",
       "      <td>20</td>\n",
       "      <td>[10001, 10014, 10067, 10079, 10093, 10102, 101...</td>\n",
       "      <td>1333</td>\n",
       "      <td>86.22</td>\n",
       "    </tr>\n",
       "    <tr>\n",
       "      <th>20</th>\n",
       "      <td>21</td>\n",
       "      <td>[10001, 10055, 10102, 10119, 10133, 10140, 101...</td>\n",
       "      <td>316</td>\n",
       "      <td>82.94</td>\n",
       "    </tr>\n",
       "    <tr>\n",
       "      <th>21</th>\n",
       "      <td>22</td>\n",
       "      <td>[10001, 10003, 10004, 10005, 10007, 10008, 100...</td>\n",
       "      <td>3975</td>\n",
       "      <td>38.66</td>\n",
       "    </tr>\n",
       "    <tr>\n",
       "      <th>22</th>\n",
       "      <td>23</td>\n",
       "      <td>[10001, 10003, 10004, 10005, 10007, 10008, 100...</td>\n",
       "      <td>3920</td>\n",
       "      <td>39.02</td>\n",
       "    </tr>\n",
       "    <tr>\n",
       "      <th>23</th>\n",
       "      <td>24</td>\n",
       "      <td>[10001, 10002, 10005, 10013, 10023, 10027, 100...</td>\n",
       "      <td>1166</td>\n",
       "      <td>46.29</td>\n",
       "    </tr>\n",
       "    <tr>\n",
       "      <th>24</th>\n",
       "      <td>25</td>\n",
       "      <td>[10001, 10107, 10119, 10160, 10208, 10209, 102...</td>\n",
       "      <td>360</td>\n",
       "      <td>85.71</td>\n",
       "    </tr>\n",
       "    <tr>\n",
       "      <th>25</th>\n",
       "      <td>26</td>\n",
       "      <td>[10000, 10001, 10002, 10003, 10004, 10005, 100...</td>\n",
       "      <td>4632</td>\n",
       "      <td>35.56</td>\n",
       "    </tr>\n",
       "    <tr>\n",
       "      <th>26</th>\n",
       "      <td>27</td>\n",
       "      <td>[10000, 10002, 10005, 10019, 10032, 10047, 100...</td>\n",
       "      <td>958</td>\n",
       "      <td>42.26</td>\n",
       "    </tr>\n",
       "    <tr>\n",
       "      <th>27</th>\n",
       "      <td>28</td>\n",
       "      <td>[10000, 10002, 10005, 10019, 10032, 10047, 100...</td>\n",
       "      <td>959</td>\n",
       "      <td>42.15</td>\n",
       "    </tr>\n",
       "    <tr>\n",
       "      <th>28</th>\n",
       "      <td>30</td>\n",
       "      <td>[10016, 10170, 10426, 10435, 10455, 10492, 105...</td>\n",
       "      <td>260</td>\n",
       "      <td>69.33</td>\n",
       "    </tr>\n",
       "    <tr>\n",
       "      <th>29</th>\n",
       "      <td>31</td>\n",
       "      <td>[10001, 10003, 10004, 10005, 10006, 10009, 100...</td>\n",
       "      <td>4153</td>\n",
       "      <td>37.44</td>\n",
       "    </tr>\n",
       "    <tr>\n",
       "      <th>30</th>\n",
       "      <td>32</td>\n",
       "      <td>[10009, 10010, 10021, 10023, 10031, 10032, 100...</td>\n",
       "      <td>927</td>\n",
       "      <td>47.96</td>\n",
       "    </tr>\n",
       "    <tr>\n",
       "      <th>31</th>\n",
       "      <td>33</td>\n",
       "      <td>[10001, 10003, 10004, 10005, 10006, 10007, 100...</td>\n",
       "      <td>4138</td>\n",
       "      <td>37.37</td>\n",
       "    </tr>\n",
       "    <tr>\n",
       "      <th>32</th>\n",
       "      <td>34</td>\n",
       "      <td>[10001, 10005, 10006, 10009, 10013, 10023, 100...</td>\n",
       "      <td>1963</td>\n",
       "      <td>52.59</td>\n",
       "    </tr>\n",
       "    <tr>\n",
       "      <th>33</th>\n",
       "      <td>35</td>\n",
       "      <td>[10005, 10006, 10025, 10032, 10046, 10047, 100...</td>\n",
       "      <td>1186</td>\n",
       "      <td>58.17</td>\n",
       "    </tr>\n",
       "    <tr>\n",
       "      <th>34</th>\n",
       "      <td>36</td>\n",
       "      <td>[10001, 10003, 10004, 10005, 10006, 10007, 100...</td>\n",
       "      <td>3262</td>\n",
       "      <td>38.67</td>\n",
       "    </tr>\n",
       "    <tr>\n",
       "      <th>35</th>\n",
       "      <td>37</td>\n",
       "      <td>[10001, 10003, 10004, 10005, 10006, 10007, 100...</td>\n",
       "      <td>3259</td>\n",
       "      <td>38.64</td>\n",
       "    </tr>\n",
       "    <tr>\n",
       "      <th>36</th>\n",
       "      <td>38</td>\n",
       "      <td>[10003, 10023, 10025, 10074, 10079, 10087, 100...</td>\n",
       "      <td>927</td>\n",
       "      <td>50.88</td>\n",
       "    </tr>\n",
       "    <tr>\n",
       "      <th>37</th>\n",
       "      <td>39</td>\n",
       "      <td>[10005, 10039, 10055, 10067, 10087, 10098, 101...</td>\n",
       "      <td>405</td>\n",
       "      <td>52.87</td>\n",
       "    </tr>\n",
       "    <tr>\n",
       "      <th>38</th>\n",
       "      <td>40</td>\n",
       "      <td>[10001, 10003, 10004, 10005, 10006, 10009, 100...</td>\n",
       "      <td>4052</td>\n",
       "      <td>38.73</td>\n",
       "    </tr>\n",
       "    <tr>\n",
       "      <th>39</th>\n",
       "      <td>41</td>\n",
       "      <td>[10001, 10003, 10005, 10009, 10010, 10012, 100...</td>\n",
       "      <td>2596</td>\n",
       "      <td>42.27</td>\n",
       "    </tr>\n",
       "    <tr>\n",
       "      <th>40</th>\n",
       "      <td>42</td>\n",
       "      <td>[10001, 10004, 10005, 10007, 10008, 10011, 100...</td>\n",
       "      <td>2490</td>\n",
       "      <td>39.02</td>\n",
       "    </tr>\n",
       "  </tbody>\n",
       "</table>\n",
       "</div>"
      ],
      "text/plain": [
       "    errtype                                            user_id  count   rate\n",
       "0         1  [10080, 10092, 10167, 10168, 10171, 10206, 102...    242  25.47\n",
       "1         2  [10025, 10134, 10226, 10233, 10292, 10306, 103...    168  43.08\n",
       "2         3  [10000, 10002, 10019, 10035, 10049, 10088, 101...    465  27.70\n",
       "3         4  [10000, 10002, 10004, 10005, 10006, 10010, 100...   2298  33.40\n",
       "4         5  [10001, 10002, 10003, 10005, 10006, 10009, 100...   4028  36.58\n",
       "5         6  [10000, 10001, 10002, 10003, 10004, 10006, 100...   2662  41.16\n",
       "6         7  [10000, 10001, 10002, 10003, 10004, 10005, 100...   3093  40.44\n",
       "7         8  [10548, 10640, 10974, 11096, 11129, 11330, 116...     13  20.31\n",
       "8         9  [10172, 10233, 10983, 11050, 11221, 12354, 126...     38  60.32\n",
       "9        10  [10000, 10002, 10005, 10013, 10014, 10020, 100...   1134  48.05\n",
       "10       11  [10000, 10001, 10002, 10003, 10004, 10005, 100...   4971  33.66\n",
       "11       12  [10000, 10001, 10002, 10003, 10004, 10005, 100...   4974  33.61\n",
       "12       13  [10000, 10001, 10002, 10004, 10013, 10014, 100...   1667  44.92\n",
       "13       14  [10000, 10001, 10002, 10004, 10005, 10006, 100...   3224  40.86\n",
       "14       15  [10000, 10001, 10002, 10003, 10004, 10005, 100...   4978  34.22\n",
       "15       16  [10000, 10001, 10002, 10003, 10004, 10005, 100...   4977  34.49\n",
       "16       17  [10003, 10006, 10009, 10010, 10011, 10012, 100...   2498  43.47\n",
       "17       18  [10001, 10014, 10067, 10079, 10093, 10102, 101...   1521  86.03\n",
       "18       19  [10001, 10055, 10102, 10119, 10133, 10140, 101...    346  82.58\n",
       "19       20  [10001, 10014, 10067, 10079, 10093, 10102, 101...   1333  86.22\n",
       "20       21  [10001, 10055, 10102, 10119, 10133, 10140, 101...    316  82.94\n",
       "21       22  [10001, 10003, 10004, 10005, 10007, 10008, 100...   3975  38.66\n",
       "22       23  [10001, 10003, 10004, 10005, 10007, 10008, 100...   3920  39.02\n",
       "23       24  [10001, 10002, 10005, 10013, 10023, 10027, 100...   1166  46.29\n",
       "24       25  [10001, 10107, 10119, 10160, 10208, 10209, 102...    360  85.71\n",
       "25       26  [10000, 10001, 10002, 10003, 10004, 10005, 100...   4632  35.56\n",
       "26       27  [10000, 10002, 10005, 10019, 10032, 10047, 100...    958  42.26\n",
       "27       28  [10000, 10002, 10005, 10019, 10032, 10047, 100...    959  42.15\n",
       "28       30  [10016, 10170, 10426, 10435, 10455, 10492, 105...    260  69.33\n",
       "29       31  [10001, 10003, 10004, 10005, 10006, 10009, 100...   4153  37.44\n",
       "30       32  [10009, 10010, 10021, 10023, 10031, 10032, 100...    927  47.96\n",
       "31       33  [10001, 10003, 10004, 10005, 10006, 10007, 100...   4138  37.37\n",
       "32       34  [10001, 10005, 10006, 10009, 10013, 10023, 100...   1963  52.59\n",
       "33       35  [10005, 10006, 10025, 10032, 10046, 10047, 100...   1186  58.17\n",
       "34       36  [10001, 10003, 10004, 10005, 10006, 10007, 100...   3262  38.67\n",
       "35       37  [10001, 10003, 10004, 10005, 10006, 10007, 100...   3259  38.64\n",
       "36       38  [10003, 10023, 10025, 10074, 10079, 10087, 100...    927  50.88\n",
       "37       39  [10005, 10039, 10055, 10067, 10087, 10098, 101...    405  52.87\n",
       "38       40  [10001, 10003, 10004, 10005, 10006, 10009, 100...   4052  38.73\n",
       "39       41  [10001, 10003, 10005, 10009, 10010, 10012, 100...   2596  42.27\n",
       "40       42  [10001, 10004, 10005, 10007, 10008, 10011, 100...   2490  39.02"
      ]
     },
     "execution_count": 52,
     "metadata": {},
     "output_type": "execute_result"
    }
   ],
   "source": [
    "user_errtype"
   ]
  },
  {
   "cell_type": "code",
   "execution_count": 53,
   "metadata": {
    "ExecuteTime": {
     "end_time": "2022-06-10T01:09:10.793402Z",
     "start_time": "2022-06-10T01:09:10.623969Z"
    }
   },
   "outputs": [
    {
     "data": {
      "text/plain": [
       "<AxesSubplot:xlabel='errtype', ylabel='rate'>"
      ]
     },
     "execution_count": 53,
     "metadata": {},
     "output_type": "execute_result"
    },
    {
     "data": {
      "image/png": "[encoded data removed]",
      "text/plain": [
       "<Figure size 1008x576 with 1 Axes>"
      ]
     },
     "metadata": {
      "needs_background": "light"
     },
     "output_type": "display_data"
    }
   ],
   "source": [
    "# errtype별 불만 제기율\n",
    "\n",
    "plt.figure(figsize=(14,8))\n",
    "sns.barplot(data=user_errtype, x='errtype', y='rate', order=user_errtype.sort_values('rate').errtype)"
   ]
  },
  {
   "cell_type": "markdown",
   "metadata": {
    "ExecuteTime": {
     "end_time": "2022-06-09T14:11:36.432550Z",
     "start_time": "2022-06-09T14:11:36.408216Z"
    }
   },
   "source": [
    "### errtype의 개수에 따른 불만율"
   ]
  },
  {
   "cell_type": "code",
   "execution_count": 54,
   "metadata": {
    "ExecuteTime": {
     "end_time": "2022-06-10T01:09:10.857192Z",
     "start_time": "2022-06-10T01:09:10.794399Z"
    }
   },
   "outputs": [
    {
     "data": {
      "text/html": [
       "<div>\n",
       "<style scoped>\n",
       "    .dataframe tbody tr th:only-of-type {\n",
       "        vertical-align: middle;\n",
       "    }\n",
       "\n",
       "    .dataframe tbody tr th {\n",
       "        vertical-align: top;\n",
       "    }\n",
       "\n",
       "    .dataframe thead th {\n",
       "        text-align: right;\n",
       "    }\n",
       "</style>\n",
       "<table border=\"1\" class=\"dataframe\">\n",
       "  <thead>\n",
       "    <tr style=\"text-align: right;\">\n",
       "      <th></th>\n",
       "      <th>user_id</th>\n",
       "      <th>errtype</th>\n",
       "    </tr>\n",
       "  </thead>\n",
       "  <tbody>\n",
       "    <tr>\n",
       "      <th>0</th>\n",
       "      <td>10000</td>\n",
       "      <td>15</td>\n",
       "    </tr>\n",
       "    <tr>\n",
       "      <th>1</th>\n",
       "      <td>10000</td>\n",
       "      <td>12</td>\n",
       "    </tr>\n",
       "    <tr>\n",
       "      <th>2</th>\n",
       "      <td>10000</td>\n",
       "      <td>11</td>\n",
       "    </tr>\n",
       "    <tr>\n",
       "      <th>3</th>\n",
       "      <td>10000</td>\n",
       "      <td>16</td>\n",
       "    </tr>\n",
       "    <tr>\n",
       "      <th>4</th>\n",
       "      <td>10000</td>\n",
       "      <td>4</td>\n",
       "    </tr>\n",
       "    <tr>\n",
       "      <th>...</th>\n",
       "      <td>...</td>\n",
       "      <td>...</td>\n",
       "    </tr>\n",
       "    <tr>\n",
       "      <th>15367996</th>\n",
       "      <td>24999</td>\n",
       "      <td>15</td>\n",
       "    </tr>\n",
       "    <tr>\n",
       "      <th>15367997</th>\n",
       "      <td>24999</td>\n",
       "      <td>16</td>\n",
       "    </tr>\n",
       "    <tr>\n",
       "      <th>15367998</th>\n",
       "      <td>24999</td>\n",
       "      <td>4</td>\n",
       "    </tr>\n",
       "    <tr>\n",
       "      <th>15367999</th>\n",
       "      <td>24999</td>\n",
       "      <td>4</td>\n",
       "    </tr>\n",
       "    <tr>\n",
       "      <th>15368000</th>\n",
       "      <td>24999</td>\n",
       "      <td>15</td>\n",
       "    </tr>\n",
       "  </tbody>\n",
       "</table>\n",
       "<p>15368001 rows × 2 columns</p>\n",
       "</div>"
      ],
      "text/plain": [
       "          user_id  errtype\n",
       "0           10000       15\n",
       "1           10000       12\n",
       "2           10000       11\n",
       "3           10000       16\n",
       "4           10000        4\n",
       "...           ...      ...\n",
       "15367996    24999       15\n",
       "15367997    24999       16\n",
       "15367998    24999        4\n",
       "15367999    24999        4\n",
       "15368000    24999       15\n",
       "\n",
       "[15368001 rows x 2 columns]"
      ]
     },
     "execution_count": 54,
     "metadata": {},
     "output_type": "execute_result"
    }
   ],
   "source": [
    "errtype_df = train_err[['user_id', 'errtype']]\n",
    "errtype_df"
   ]
  },
  {
   "cell_type": "code",
   "execution_count": 55,
   "metadata": {
    "ExecuteTime": {
     "end_time": "2022-06-10T01:09:10.933972Z",
     "start_time": "2022-06-10T01:09:10.858186Z"
    },
    "scrolled": false
   },
   "outputs": [
    {
     "data": {
      "text/html": [
       "<div>\n",
       "<style scoped>\n",
       "    .dataframe tbody tr th:only-of-type {\n",
       "        vertical-align: middle;\n",
       "    }\n",
       "\n",
       "    .dataframe tbody tr th {\n",
       "        vertical-align: top;\n",
       "    }\n",
       "\n",
       "    .dataframe thead th {\n",
       "        text-align: right;\n",
       "    }\n",
       "</style>\n",
       "<table border=\"1\" class=\"dataframe\">\n",
       "  <thead>\n",
       "    <tr style=\"text-align: right;\">\n",
       "      <th></th>\n",
       "      <th>count</th>\n",
       "    </tr>\n",
       "  </thead>\n",
       "  <tbody>\n",
       "    <tr>\n",
       "      <th>10000</th>\n",
       "      <td>316</td>\n",
       "    </tr>\n",
       "    <tr>\n",
       "      <th>10001</th>\n",
       "      <td>2345</td>\n",
       "    </tr>\n",
       "    <tr>\n",
       "      <th>10002</th>\n",
       "      <td>305</td>\n",
       "    </tr>\n",
       "    <tr>\n",
       "      <th>10003</th>\n",
       "      <td>297</td>\n",
       "    </tr>\n",
       "    <tr>\n",
       "      <th>10004</th>\n",
       "      <td>777</td>\n",
       "    </tr>\n",
       "    <tr>\n",
       "      <th>...</th>\n",
       "      <td>...</td>\n",
       "    </tr>\n",
       "    <tr>\n",
       "      <th>24995</th>\n",
       "      <td>191</td>\n",
       "    </tr>\n",
       "    <tr>\n",
       "      <th>24996</th>\n",
       "      <td>4</td>\n",
       "    </tr>\n",
       "    <tr>\n",
       "      <th>24997</th>\n",
       "      <td>818</td>\n",
       "    </tr>\n",
       "    <tr>\n",
       "      <th>24998</th>\n",
       "      <td>144</td>\n",
       "    </tr>\n",
       "    <tr>\n",
       "      <th>24999</th>\n",
       "      <td>566</td>\n",
       "    </tr>\n",
       "  </tbody>\n",
       "</table>\n",
       "<p>15000 rows × 1 columns</p>\n",
       "</div>"
      ],
      "text/plain": [
       "       count\n",
       "10000    316\n",
       "10001   2345\n",
       "10002    305\n",
       "10003    297\n",
       "10004    777\n",
       "...      ...\n",
       "24995    191\n",
       "24996      4\n",
       "24997    818\n",
       "24998    144\n",
       "24999    566\n",
       "\n",
       "[15000 rows x 1 columns]"
      ]
     },
     "execution_count": 55,
     "metadata": {},
     "output_type": "execute_result"
    }
   ],
   "source": [
    "user_errtype_df = errtype_df.user_id.value_counts(sort=False).to_frame(name='count')\n",
    "user_errtype_df"
   ]
  },
  {
   "cell_type": "code",
   "execution_count": 56,
   "metadata": {
    "ExecuteTime": {
     "end_time": "2022-06-10T01:09:10.949918Z",
     "start_time": "2022-06-10T01:09:10.934968Z"
    },
    "scrolled": true
   },
   "outputs": [],
   "source": [
    "problem_user = sorted(list(train_problem.user_id.unique()))"
   ]
  },
  {
   "cell_type": "code",
   "execution_count": 57,
   "metadata": {
    "ExecuteTime": {
     "end_time": "2022-06-10T01:09:16.930389Z",
     "start_time": "2022-06-10T01:09:10.950915Z"
    },
    "scrolled": true
   },
   "outputs": [],
   "source": [
    "user_prob_sum = 0\n",
    "user_not_prob_sum = 0\n",
    "\n",
    "for i in list(user_errtype_df.index):\n",
    "    if i in problem_user:\n",
    "        user_prob_sum += user_errtype_df.loc[i, 'count']\n",
    "    else:\n",
    "        user_not_prob_sum += user_errtype_df.loc[i, 'count']"
   ]
  },
  {
   "cell_type": "code",
   "execution_count": 58,
   "metadata": {
    "ExecuteTime": {
     "end_time": "2022-06-10T01:09:16.945535Z",
     "start_time": "2022-06-10T01:09:16.931418Z"
    }
   },
   "outputs": [
    {
     "data": {
      "text/plain": [
       "(6912950, 8455051)"
      ]
     },
     "execution_count": 58,
     "metadata": {},
     "output_type": "execute_result"
    }
   ],
   "source": [
    "user_prob_sum, user_not_prob_sum"
   ]
  },
  {
   "cell_type": "code",
   "execution_count": 59,
   "metadata": {
    "ExecuteTime": {
     "end_time": "2022-06-10T01:09:16.961451Z",
     "start_time": "2022-06-10T01:09:16.946520Z"
    }
   },
   "outputs": [
    {
     "name": "stdout",
     "output_type": "stream",
     "text": [
      "불만을 제기한 사람들의 평균 errtype수는 1382.59\n",
      "불만을 제기하지 않은 사람들의 평균 errtype수는 845.5051\n"
     ]
    }
   ],
   "source": [
    "print(f\"불만을 제기한 사람들의 평균 errtype수는 {user_prob_sum/len(problem_user)}\")\n",
    "print(f\"불만을 제기하지 않은 사람들의 평균 errtype수는 {user_not_prob_sum/(15000-len(problem_user))}\")"
   ]
  },
  {
   "cell_type": "markdown",
   "metadata": {},
   "source": [
    "- errtype의 수가 많을 수록 불만을 제기할 확률이 높다."
   ]
  },
  {
   "cell_type": "markdown",
   "metadata": {},
   "source": [
    "## errcode 분석"
   ]
  },
  {
   "cell_type": "markdown",
   "metadata": {},
   "source": [
    "### errcode에 따른 불만율"
   ]
  },
  {
   "cell_type": "code",
   "execution_count": 68,
   "metadata": {
    "ExecuteTime": {
     "end_time": "2022-06-10T01:13:08.145319Z",
     "start_time": "2022-06-10T01:13:07.708420Z"
    }
   },
   "outputs": [
    {
     "data": {
      "text/plain": [
       "2805"
      ]
     },
     "execution_count": 68,
     "metadata": {},
     "output_type": "execute_result"
    }
   ],
   "source": [
    "len(train_err.errcode.unique())"
   ]
  },
  {
   "cell_type": "code",
   "execution_count": 72,
   "metadata": {
    "ExecuteTime": {
     "end_time": "2022-06-10T01:57:38.182508Z",
     "start_time": "2022-06-10T01:57:37.278528Z"
    },
    "scrolled": false
   },
   "outputs": [
    {
     "data": {
      "text/html": [
       "<div>\n",
       "<style scoped>\n",
       "    .dataframe tbody tr th:only-of-type {\n",
       "        vertical-align: middle;\n",
       "    }\n",
       "\n",
       "    .dataframe tbody tr th {\n",
       "        vertical-align: top;\n",
       "    }\n",
       "\n",
       "    .dataframe thead th {\n",
       "        text-align: right;\n",
       "    }\n",
       "</style>\n",
       "<table border=\"1\" class=\"dataframe\">\n",
       "  <thead>\n",
       "    <tr style=\"text-align: right;\">\n",
       "      <th></th>\n",
       "      <th>errcode</th>\n",
       "      <th>user_id</th>\n",
       "    </tr>\n",
       "  </thead>\n",
       "  <tbody>\n",
       "    <tr>\n",
       "      <th>0</th>\n",
       "      <td>-269</td>\n",
       "      <td>[10050, 10404, 13065, 14345, 14906, 15764, 162...</td>\n",
       "    </tr>\n",
       "    <tr>\n",
       "      <th>1</th>\n",
       "      <td>-270</td>\n",
       "      <td>[16754, 17291, 18412, 19457, 20935, 21567, 216...</td>\n",
       "    </tr>\n",
       "    <tr>\n",
       "      <th>2</th>\n",
       "      <td>0</td>\n",
       "      <td>[10000, 10001, 10002, 10003, 10004, 10005, 100...</td>\n",
       "    </tr>\n",
       "    <tr>\n",
       "      <th>3</th>\n",
       "      <td>0001</td>\n",
       "      <td>[19201, 24489]</td>\n",
       "    </tr>\n",
       "    <tr>\n",
       "      <th>4</th>\n",
       "      <td>1</td>\n",
       "      <td>[10000, 10001, 10002, 10003, 10004, 10005, 100...</td>\n",
       "    </tr>\n",
       "    <tr>\n",
       "      <th>...</th>\n",
       "      <td>...</td>\n",
       "      <td>...</td>\n",
       "    </tr>\n",
       "    <tr>\n",
       "      <th>2800</th>\n",
       "      <td>connectionterminated by local host</td>\n",
       "      <td>[10009, 10021, 10023, 10038, 10039, 10042, 100...</td>\n",
       "    </tr>\n",
       "    <tr>\n",
       "      <th>2801</th>\n",
       "      <td>http</td>\n",
       "      <td>[22428]</td>\n",
       "    </tr>\n",
       "    <tr>\n",
       "      <th>2802</th>\n",
       "      <td>scanning timeout</td>\n",
       "      <td>[10107, 10208, 10249, 10300, 10349, 10450, 106...</td>\n",
       "    </tr>\n",
       "    <tr>\n",
       "      <th>2803</th>\n",
       "      <td>standby</td>\n",
       "      <td>[10001, 10004, 10005, 10007, 10008, 10011, 100...</td>\n",
       "    </tr>\n",
       "    <tr>\n",
       "      <th>2804</th>\n",
       "      <td>terminate by peer user</td>\n",
       "      <td>[10004, 10005, 10031, 10038, 10055, 10067, 100...</td>\n",
       "    </tr>\n",
       "  </tbody>\n",
       "</table>\n",
       "<p>2805 rows × 2 columns</p>\n",
       "</div>"
      ],
      "text/plain": [
       "                                 errcode  \\\n",
       "0                                   -269   \n",
       "1                                   -270   \n",
       "2                                      0   \n",
       "3                                   0001   \n",
       "4                                      1   \n",
       "...                                  ...   \n",
       "2800  connectionterminated by local host   \n",
       "2801                                http   \n",
       "2802                    scanning timeout   \n",
       "2803                             standby   \n",
       "2804              terminate by peer user   \n",
       "\n",
       "                                                user_id  \n",
       "0     [10050, 10404, 13065, 14345, 14906, 15764, 162...  \n",
       "1     [16754, 17291, 18412, 19457, 20935, 21567, 216...  \n",
       "2     [10000, 10001, 10002, 10003, 10004, 10005, 100...  \n",
       "3                                        [19201, 24489]  \n",
       "4     [10000, 10001, 10002, 10003, 10004, 10005, 100...  \n",
       "...                                                 ...  \n",
       "2800  [10009, 10021, 10023, 10038, 10039, 10042, 100...  \n",
       "2801                                            [22428]  \n",
       "2802  [10107, 10208, 10249, 10300, 10349, 10450, 106...  \n",
       "2803  [10001, 10004, 10005, 10007, 10008, 10011, 100...  \n",
       "2804  [10004, 10005, 10031, 10038, 10055, 10067, 100...  \n",
       "\n",
       "[2805 rows x 2 columns]"
      ]
     },
     "execution_count": 72,
     "metadata": {},
     "output_type": "execute_result"
    }
   ],
   "source": [
    "errcode_df = train_err.groupby('errcode')['user_id'].unique().to_frame().reset_index()\n",
    "errcode_df"
   ]
  },
  {
   "cell_type": "code",
   "execution_count": 73,
   "metadata": {
    "ExecuteTime": {
     "end_time": "2022-06-10T01:58:34.331821Z",
     "start_time": "2022-06-10T01:58:34.313881Z"
    }
   },
   "outputs": [],
   "source": [
    "errcode_df['count'] = 0\n",
    "errcode_df['rate'] = 0"
   ]
  },
  {
   "cell_type": "code",
   "execution_count": 74,
   "metadata": {
    "ExecuteTime": {
     "end_time": "2022-06-10T01:59:36.668708Z",
     "start_time": "2022-06-10T01:59:23.942666Z"
    }
   },
   "outputs": [],
   "source": [
    "for i in range(2805):\n",
    "    errcode_df['count'][i] = len(list(train_problem[train_problem['user_id'].isin(errcode_df['user_id'][i])].user_id.unique()))"
   ]
  },
  {
   "cell_type": "code",
   "execution_count": 76,
   "metadata": {
    "ExecuteTime": {
     "end_time": "2022-06-10T02:02:53.973901Z",
     "start_time": "2022-06-10T02:02:53.910048Z"
    }
   },
   "outputs": [],
   "source": [
    "for i in range(2805):\n",
    "    errcode_df['rate'][i] = round(errcode_df['count'][i]/len(errcode_df['user_id'][i]) * 100, 2)"
   ]
  },
  {
   "cell_type": "code",
   "execution_count": 79,
   "metadata": {
    "ExecuteTime": {
     "end_time": "2022-06-10T02:05:16.785959Z",
     "start_time": "2022-06-10T02:05:16.760046Z"
    },
    "scrolled": true
   },
   "outputs": [
    {
     "data": {
      "text/html": [
       "<div>\n",
       "<style scoped>\n",
       "    .dataframe tbody tr th:only-of-type {\n",
       "        vertical-align: middle;\n",
       "    }\n",
       "\n",
       "    .dataframe tbody tr th {\n",
       "        vertical-align: top;\n",
       "    }\n",
       "\n",
       "    .dataframe thead th {\n",
       "        text-align: right;\n",
       "    }\n",
       "</style>\n",
       "<table border=\"1\" class=\"dataframe\">\n",
       "  <thead>\n",
       "    <tr style=\"text-align: right;\">\n",
       "      <th></th>\n",
       "      <th>errcode</th>\n",
       "      <th>user_id</th>\n",
       "      <th>count</th>\n",
       "      <th>rate</th>\n",
       "    </tr>\n",
       "  </thead>\n",
       "  <tbody>\n",
       "    <tr>\n",
       "      <th>51</th>\n",
       "      <td>106</td>\n",
       "      <td>[10123, 10827, 14839, 15429, 15602, 15698, 179...</td>\n",
       "      <td>8</td>\n",
       "      <td>72.73</td>\n",
       "    </tr>\n",
       "    <tr>\n",
       "      <th>383</th>\n",
       "      <td>3013</td>\n",
       "      <td>[10439, 10917, 13701, 17466, 18195]</td>\n",
       "      <td>4</td>\n",
       "      <td>80.00</td>\n",
       "    </tr>\n",
       "    <tr>\n",
       "      <th>389</th>\n",
       "      <td>3019</td>\n",
       "      <td>[10827, 12706, 21096, 21145]</td>\n",
       "      <td>3</td>\n",
       "      <td>75.00</td>\n",
       "    </tr>\n",
       "    <tr>\n",
       "      <th>414</th>\n",
       "      <td>3043</td>\n",
       "      <td>[10728, 14418, 18889, 19777, 21843, 22837]</td>\n",
       "      <td>5</td>\n",
       "      <td>83.33</td>\n",
       "    </tr>\n",
       "    <tr>\n",
       "      <th>419</th>\n",
       "      <td>3048</td>\n",
       "      <td>[19874, 19931, 21096, 23946]</td>\n",
       "      <td>3</td>\n",
       "      <td>75.00</td>\n",
       "    </tr>\n",
       "    <tr>\n",
       "      <th>427</th>\n",
       "      <td>3055</td>\n",
       "      <td>[21897, 22091, 22529, 24407]</td>\n",
       "      <td>3</td>\n",
       "      <td>75.00</td>\n",
       "    </tr>\n",
       "    <tr>\n",
       "      <th>428</th>\n",
       "      <td>3056</td>\n",
       "      <td>[10301, 14109, 15804, 19160, 19755, 20146, 211...</td>\n",
       "      <td>7</td>\n",
       "      <td>77.78</td>\n",
       "    </tr>\n",
       "    <tr>\n",
       "      <th>432</th>\n",
       "      <td>3060</td>\n",
       "      <td>[11968, 12813, 20999, 21897]</td>\n",
       "      <td>3</td>\n",
       "      <td>75.00</td>\n",
       "    </tr>\n",
       "    <tr>\n",
       "      <th>445</th>\n",
       "      <td>3073</td>\n",
       "      <td>[14203, 15917, 17190, 21096, 24204, 24779]</td>\n",
       "      <td>5</td>\n",
       "      <td>83.33</td>\n",
       "    </tr>\n",
       "    <tr>\n",
       "      <th>460</th>\n",
       "      <td>3088</td>\n",
       "      <td>[11664, 18867, 24413, 24854]</td>\n",
       "      <td>3</td>\n",
       "      <td>75.00</td>\n",
       "    </tr>\n",
       "    <tr>\n",
       "      <th>461</th>\n",
       "      <td>3089</td>\n",
       "      <td>[10383, 10632, 11792, 17483, 21874, 23889, 24004]</td>\n",
       "      <td>5</td>\n",
       "      <td>71.43</td>\n",
       "    </tr>\n",
       "    <tr>\n",
       "      <th>468</th>\n",
       "      <td>3096</td>\n",
       "      <td>[10728, 13371, 17300, 18508, 20698]</td>\n",
       "      <td>4</td>\n",
       "      <td>80.00</td>\n",
       "    </tr>\n",
       "    <tr>\n",
       "      <th>493</th>\n",
       "      <td>3121</td>\n",
       "      <td>[10301, 12501, 14289, 14540, 21897]</td>\n",
       "      <td>4</td>\n",
       "      <td>80.00</td>\n",
       "    </tr>\n",
       "    <tr>\n",
       "      <th>498</th>\n",
       "      <td>3126</td>\n",
       "      <td>[12779, 14242, 15982, 17277, 18715]</td>\n",
       "      <td>4</td>\n",
       "      <td>80.00</td>\n",
       "    </tr>\n",
       "    <tr>\n",
       "      <th>500</th>\n",
       "      <td>3128</td>\n",
       "      <td>[12703, 12813, 14959, 15370, 15375, 15453, 214...</td>\n",
       "      <td>6</td>\n",
       "      <td>75.00</td>\n",
       "    </tr>\n",
       "    <tr>\n",
       "      <th>501</th>\n",
       "      <td>3129</td>\n",
       "      <td>[12360, 15400, 16588, 22946, 23780]</td>\n",
       "      <td>4</td>\n",
       "      <td>80.00</td>\n",
       "    </tr>\n",
       "    <tr>\n",
       "      <th>557</th>\n",
       "      <td>3182</td>\n",
       "      <td>[13340, 16365, 19604, 20001]</td>\n",
       "      <td>3</td>\n",
       "      <td>75.00</td>\n",
       "    </tr>\n",
       "    <tr>\n",
       "      <th>567</th>\n",
       "      <td>3192</td>\n",
       "      <td>[16616, 17904, 19617, 20146]</td>\n",
       "      <td>3</td>\n",
       "      <td>75.00</td>\n",
       "    </tr>\n",
       "    <tr>\n",
       "      <th>580</th>\n",
       "      <td>3206</td>\n",
       "      <td>[10389, 10851, 14540, 19655, 21443, 21639]</td>\n",
       "      <td>5</td>\n",
       "      <td>83.33</td>\n",
       "    </tr>\n",
       "    <tr>\n",
       "      <th>592</th>\n",
       "      <td>3221</td>\n",
       "      <td>[11522, 13147, 17265, 17307, 24075]</td>\n",
       "      <td>4</td>\n",
       "      <td>80.00</td>\n",
       "    </tr>\n",
       "    <tr>\n",
       "      <th>596</th>\n",
       "      <td>3224</td>\n",
       "      <td>[10450, 11086, 13615, 15983]</td>\n",
       "      <td>3</td>\n",
       "      <td>75.00</td>\n",
       "    </tr>\n",
       "    <tr>\n",
       "      <th>598</th>\n",
       "      <td>3226</td>\n",
       "      <td>[12190, 17455, 18953, 21096]</td>\n",
       "      <td>3</td>\n",
       "      <td>75.00</td>\n",
       "    </tr>\n",
       "    <tr>\n",
       "      <th>601</th>\n",
       "      <td>3229</td>\n",
       "      <td>[13147, 16999, 22851, 24120]</td>\n",
       "      <td>3</td>\n",
       "      <td>75.00</td>\n",
       "    </tr>\n",
       "    <tr>\n",
       "      <th>609</th>\n",
       "      <td>3238</td>\n",
       "      <td>[10728, 13615, 16005, 20698, 24407]</td>\n",
       "      <td>4</td>\n",
       "      <td>80.00</td>\n",
       "    </tr>\n",
       "    <tr>\n",
       "      <th>612</th>\n",
       "      <td>3241</td>\n",
       "      <td>[14203, 17218, 19972, 21470]</td>\n",
       "      <td>3</td>\n",
       "      <td>75.00</td>\n",
       "    </tr>\n",
       "    <tr>\n",
       "      <th>628</th>\n",
       "      <td>3258</td>\n",
       "      <td>[18800, 22946, 23529, 23978, 24737]</td>\n",
       "      <td>4</td>\n",
       "      <td>80.00</td>\n",
       "    </tr>\n",
       "    <tr>\n",
       "      <th>632</th>\n",
       "      <td>3262</td>\n",
       "      <td>[15161, 15596, 19416, 22697, 22946, 24210, 24695]</td>\n",
       "      <td>5</td>\n",
       "      <td>71.43</td>\n",
       "    </tr>\n",
       "    <tr>\n",
       "      <th>648</th>\n",
       "      <td>3278</td>\n",
       "      <td>[16008, 21037, 21083, 21096]</td>\n",
       "      <td>3</td>\n",
       "      <td>75.00</td>\n",
       "    </tr>\n",
       "    <tr>\n",
       "      <th>656</th>\n",
       "      <td>3286</td>\n",
       "      <td>[21785, 24033, 24407, 24555]</td>\n",
       "      <td>3</td>\n",
       "      <td>75.00</td>\n",
       "    </tr>\n",
       "    <tr>\n",
       "      <th>668</th>\n",
       "      <td>3299</td>\n",
       "      <td>[13410, 18485, 19476, 23694, 23889]</td>\n",
       "      <td>4</td>\n",
       "      <td>80.00</td>\n",
       "    </tr>\n",
       "    <tr>\n",
       "      <th>671</th>\n",
       "      <td>3302</td>\n",
       "      <td>[12738, 15929, 21874, 22473]</td>\n",
       "      <td>3</td>\n",
       "      <td>75.00</td>\n",
       "    </tr>\n",
       "    <tr>\n",
       "      <th>678</th>\n",
       "      <td>3309</td>\n",
       "      <td>[10845, 11306, 11899, 20176]</td>\n",
       "      <td>3</td>\n",
       "      <td>75.00</td>\n",
       "    </tr>\n",
       "    <tr>\n",
       "      <th>683</th>\n",
       "      <td>3314</td>\n",
       "      <td>[11394, 12474, 18681, 20257]</td>\n",
       "      <td>3</td>\n",
       "      <td>75.00</td>\n",
       "    </tr>\n",
       "    <tr>\n",
       "      <th>694</th>\n",
       "      <td>3325</td>\n",
       "      <td>[16616, 16663, 16924, 19022, 21096, 21536, 233...</td>\n",
       "      <td>6</td>\n",
       "      <td>75.00</td>\n",
       "    </tr>\n",
       "    <tr>\n",
       "      <th>698</th>\n",
       "      <td>3329</td>\n",
       "      <td>[10481, 11001, 15779, 16436]</td>\n",
       "      <td>3</td>\n",
       "      <td>75.00</td>\n",
       "    </tr>\n",
       "    <tr>\n",
       "      <th>727</th>\n",
       "      <td>3364</td>\n",
       "      <td>[20698, 21072, 21100, 24075]</td>\n",
       "      <td>3</td>\n",
       "      <td>75.00</td>\n",
       "    </tr>\n",
       "    <tr>\n",
       "      <th>756</th>\n",
       "      <td>3394</td>\n",
       "      <td>[16609, 19889, 20789, 23694]</td>\n",
       "      <td>3</td>\n",
       "      <td>75.00</td>\n",
       "    </tr>\n",
       "    <tr>\n",
       "      <th>771</th>\n",
       "      <td>3410</td>\n",
       "      <td>[20530, 21424, 24125, 24748, 24909]</td>\n",
       "      <td>4</td>\n",
       "      <td>80.00</td>\n",
       "    </tr>\n",
       "    <tr>\n",
       "      <th>837</th>\n",
       "      <td>3485</td>\n",
       "      <td>[13410, 14193, 16257, 23584]</td>\n",
       "      <td>3</td>\n",
       "      <td>75.00</td>\n",
       "    </tr>\n",
       "    <tr>\n",
       "      <th>851</th>\n",
       "      <td>3499</td>\n",
       "      <td>[13398, 17703, 20555, 23331]</td>\n",
       "      <td>3</td>\n",
       "      <td>75.00</td>\n",
       "    </tr>\n",
       "    <tr>\n",
       "      <th>944</th>\n",
       "      <td>3599</td>\n",
       "      <td>[16457, 17513, 22307, 24096]</td>\n",
       "      <td>3</td>\n",
       "      <td>75.00</td>\n",
       "    </tr>\n",
       "    <tr>\n",
       "      <th>969</th>\n",
       "      <td>3630</td>\n",
       "      <td>[10164, 14980, 15048, 16588, 17455]</td>\n",
       "      <td>4</td>\n",
       "      <td>80.00</td>\n",
       "    </tr>\n",
       "    <tr>\n",
       "      <th>976</th>\n",
       "      <td>3638</td>\n",
       "      <td>[15020, 18752, 19889, 21146]</td>\n",
       "      <td>3</td>\n",
       "      <td>75.00</td>\n",
       "    </tr>\n",
       "    <tr>\n",
       "      <th>986</th>\n",
       "      <td>3648</td>\n",
       "      <td>[13776, 14497, 18394, 21536, 23969]</td>\n",
       "      <td>4</td>\n",
       "      <td>80.00</td>\n",
       "    </tr>\n",
       "    <tr>\n",
       "      <th>1779</th>\n",
       "      <td>5570</td>\n",
       "      <td>[11015, 14642, 16282, 21956]</td>\n",
       "      <td>3</td>\n",
       "      <td>75.00</td>\n",
       "    </tr>\n",
       "    <tr>\n",
       "      <th>1903</th>\n",
       "      <td>5715</td>\n",
       "      <td>[13719, 15760, 16309, 19449]</td>\n",
       "      <td>3</td>\n",
       "      <td>75.00</td>\n",
       "    </tr>\n",
       "    <tr>\n",
       "      <th>1973</th>\n",
       "      <td>5791</td>\n",
       "      <td>[14777, 15596, 18046, 18592]</td>\n",
       "      <td>3</td>\n",
       "      <td>75.00</td>\n",
       "    </tr>\n",
       "    <tr>\n",
       "      <th>1982</th>\n",
       "      <td>5799</td>\n",
       "      <td>[12249, 14193, 22823, 24207]</td>\n",
       "      <td>3</td>\n",
       "      <td>75.00</td>\n",
       "    </tr>\n",
       "    <tr>\n",
       "      <th>1985</th>\n",
       "      <td>5803</td>\n",
       "      <td>[10452, 15560, 16661, 23403]</td>\n",
       "      <td>3</td>\n",
       "      <td>75.00</td>\n",
       "    </tr>\n",
       "    <tr>\n",
       "      <th>1989</th>\n",
       "      <td>5808</td>\n",
       "      <td>[12703, 14981, 15539, 21956]</td>\n",
       "      <td>3</td>\n",
       "      <td>75.00</td>\n",
       "    </tr>\n",
       "    <tr>\n",
       "      <th>2000</th>\n",
       "      <td>5820</td>\n",
       "      <td>[11301, 12521, 15232, 18859, 20653, 21096]</td>\n",
       "      <td>5</td>\n",
       "      <td>83.33</td>\n",
       "    </tr>\n",
       "    <tr>\n",
       "      <th>2092</th>\n",
       "      <td>5932</td>\n",
       "      <td>[10968, 12742, 15280, 19750, 23755]</td>\n",
       "      <td>4</td>\n",
       "      <td>80.00</td>\n",
       "    </tr>\n",
       "    <tr>\n",
       "      <th>2739</th>\n",
       "      <td>E-59902</td>\n",
       "      <td>[11489, 13474, 14925, 22685]</td>\n",
       "      <td>3</td>\n",
       "      <td>75.00</td>\n",
       "    </tr>\n",
       "    <tr>\n",
       "      <th>2751</th>\n",
       "      <td>L2CAP connection cancelled</td>\n",
       "      <td>[13782, 14488, 16284, 19851, 21148]</td>\n",
       "      <td>4</td>\n",
       "      <td>80.00</td>\n",
       "    </tr>\n",
       "    <tr>\n",
       "      <th>2794</th>\n",
       "      <td>Y-00005</td>\n",
       "      <td>[13118, 13204, 14777, 18580, 22970]</td>\n",
       "      <td>4</td>\n",
       "      <td>80.00</td>\n",
       "    </tr>\n",
       "    <tr>\n",
       "      <th>2802</th>\n",
       "      <td>scanning timeout</td>\n",
       "      <td>[10107, 10208, 10249, 10300, 10349, 10450, 106...</td>\n",
       "      <td>94</td>\n",
       "      <td>81.03</td>\n",
       "    </tr>\n",
       "    <tr>\n",
       "      <th>2804</th>\n",
       "      <td>terminate by peer user</td>\n",
       "      <td>[10004, 10005, 10031, 10038, 10055, 10067, 100...</td>\n",
       "      <td>911</td>\n",
       "      <td>74.37</td>\n",
       "    </tr>\n",
       "  </tbody>\n",
       "</table>\n",
       "</div>"
      ],
      "text/plain": [
       "                         errcode  \\\n",
       "51                           106   \n",
       "383                         3013   \n",
       "389                         3019   \n",
       "414                         3043   \n",
       "419                         3048   \n",
       "427                         3055   \n",
       "428                         3056   \n",
       "432                         3060   \n",
       "445                         3073   \n",
       "460                         3088   \n",
       "461                         3089   \n",
       "468                         3096   \n",
       "493                         3121   \n",
       "498                         3126   \n",
       "500                         3128   \n",
       "501                         3129   \n",
       "557                         3182   \n",
       "567                         3192   \n",
       "580                         3206   \n",
       "592                         3221   \n",
       "596                         3224   \n",
       "598                         3226   \n",
       "601                         3229   \n",
       "609                         3238   \n",
       "612                         3241   \n",
       "628                         3258   \n",
       "632                         3262   \n",
       "648                         3278   \n",
       "656                         3286   \n",
       "668                         3299   \n",
       "671                         3302   \n",
       "678                         3309   \n",
       "683                         3314   \n",
       "694                         3325   \n",
       "698                         3329   \n",
       "727                         3364   \n",
       "756                         3394   \n",
       "771                         3410   \n",
       "837                         3485   \n",
       "851                         3499   \n",
       "944                         3599   \n",
       "969                         3630   \n",
       "976                         3638   \n",
       "986                         3648   \n",
       "1779                        5570   \n",
       "1903                        5715   \n",
       "1973                        5791   \n",
       "1982                        5799   \n",
       "1985                        5803   \n",
       "1989                        5808   \n",
       "2000                        5820   \n",
       "2092                        5932   \n",
       "2739                     E-59902   \n",
       "2751  L2CAP connection cancelled   \n",
       "2794                     Y-00005   \n",
       "2802            scanning timeout   \n",
       "2804      terminate by peer user   \n",
       "\n",
       "                                                user_id  count   rate  \n",
       "51    [10123, 10827, 14839, 15429, 15602, 15698, 179...      8  72.73  \n",
       "383                 [10439, 10917, 13701, 17466, 18195]      4  80.00  \n",
       "389                        [10827, 12706, 21096, 21145]      3  75.00  \n",
       "414          [10728, 14418, 18889, 19777, 21843, 22837]      5  83.33  \n",
       "419                        [19874, 19931, 21096, 23946]      3  75.00  \n",
       "427                        [21897, 22091, 22529, 24407]      3  75.00  \n",
       "428   [10301, 14109, 15804, 19160, 19755, 20146, 211...      7  77.78  \n",
       "432                        [11968, 12813, 20999, 21897]      3  75.00  \n",
       "445          [14203, 15917, 17190, 21096, 24204, 24779]      5  83.33  \n",
       "460                        [11664, 18867, 24413, 24854]      3  75.00  \n",
       "461   [10383, 10632, 11792, 17483, 21874, 23889, 24004]      5  71.43  \n",
       "468                 [10728, 13371, 17300, 18508, 20698]      4  80.00  \n",
       "493                 [10301, 12501, 14289, 14540, 21897]      4  80.00  \n",
       "498                 [12779, 14242, 15982, 17277, 18715]      4  80.00  \n",
       "500   [12703, 12813, 14959, 15370, 15375, 15453, 214...      6  75.00  \n",
       "501                 [12360, 15400, 16588, 22946, 23780]      4  80.00  \n",
       "557                        [13340, 16365, 19604, 20001]      3  75.00  \n",
       "567                        [16616, 17904, 19617, 20146]      3  75.00  \n",
       "580          [10389, 10851, 14540, 19655, 21443, 21639]      5  83.33  \n",
       "592                 [11522, 13147, 17265, 17307, 24075]      4  80.00  \n",
       "596                        [10450, 11086, 13615, 15983]      3  75.00  \n",
       "598                        [12190, 17455, 18953, 21096]      3  75.00  \n",
       "601                        [13147, 16999, 22851, 24120]      3  75.00  \n",
       "609                 [10728, 13615, 16005, 20698, 24407]      4  80.00  \n",
       "612                        [14203, 17218, 19972, 21470]      3  75.00  \n",
       "628                 [18800, 22946, 23529, 23978, 24737]      4  80.00  \n",
       "632   [15161, 15596, 19416, 22697, 22946, 24210, 24695]      5  71.43  \n",
       "648                        [16008, 21037, 21083, 21096]      3  75.00  \n",
       "656                        [21785, 24033, 24407, 24555]      3  75.00  \n",
       "668                 [13410, 18485, 19476, 23694, 23889]      4  80.00  \n",
       "671                        [12738, 15929, 21874, 22473]      3  75.00  \n",
       "678                        [10845, 11306, 11899, 20176]      3  75.00  \n",
       "683                        [11394, 12474, 18681, 20257]      3  75.00  \n",
       "694   [16616, 16663, 16924, 19022, 21096, 21536, 233...      6  75.00  \n",
       "698                        [10481, 11001, 15779, 16436]      3  75.00  \n",
       "727                        [20698, 21072, 21100, 24075]      3  75.00  \n",
       "756                        [16609, 19889, 20789, 23694]      3  75.00  \n",
       "771                 [20530, 21424, 24125, 24748, 24909]      4  80.00  \n",
       "837                        [13410, 14193, 16257, 23584]      3  75.00  \n",
       "851                        [13398, 17703, 20555, 23331]      3  75.00  \n",
       "944                        [16457, 17513, 22307, 24096]      3  75.00  \n",
       "969                 [10164, 14980, 15048, 16588, 17455]      4  80.00  \n",
       "976                        [15020, 18752, 19889, 21146]      3  75.00  \n",
       "986                 [13776, 14497, 18394, 21536, 23969]      4  80.00  \n",
       "1779                       [11015, 14642, 16282, 21956]      3  75.00  \n",
       "1903                       [13719, 15760, 16309, 19449]      3  75.00  \n",
       "1973                       [14777, 15596, 18046, 18592]      3  75.00  \n",
       "1982                       [12249, 14193, 22823, 24207]      3  75.00  \n",
       "1985                       [10452, 15560, 16661, 23403]      3  75.00  \n",
       "1989                       [12703, 14981, 15539, 21956]      3  75.00  \n",
       "2000         [11301, 12521, 15232, 18859, 20653, 21096]      5  83.33  \n",
       "2092                [10968, 12742, 15280, 19750, 23755]      4  80.00  \n",
       "2739                       [11489, 13474, 14925, 22685]      3  75.00  \n",
       "2751                [13782, 14488, 16284, 19851, 21148]      4  80.00  \n",
       "2794                [13118, 13204, 14777, 18580, 22970]      4  80.00  \n",
       "2802  [10107, 10208, 10249, 10300, 10349, 10450, 106...     94  81.03  \n",
       "2804  [10004, 10005, 10031, 10038, 10055, 10067, 100...    911  74.37  "
      ]
     },
     "execution_count": 79,
     "metadata": {},
     "output_type": "execute_result"
    }
   ],
   "source": [
    "errcode_df[(errcode_df['rate']>70) & (errcode_df['rate']<100) ]"
   ]
  },
  {
   "cell_type": "code",
   "execution_count": 160,
   "metadata": {
    "ExecuteTime": {
     "end_time": "2022-06-10T06:35:06.616721Z",
     "start_time": "2022-06-10T06:35:06.602769Z"
    }
   },
   "outputs": [
    {
     "data": {
      "text/html": [
       "<div>\n",
       "<style scoped>\n",
       "    .dataframe tbody tr th:only-of-type {\n",
       "        vertical-align: middle;\n",
       "    }\n",
       "\n",
       "    .dataframe tbody tr th {\n",
       "        vertical-align: top;\n",
       "    }\n",
       "\n",
       "    .dataframe thead th {\n",
       "        text-align: right;\n",
       "    }\n",
       "</style>\n",
       "<table border=\"1\" class=\"dataframe\">\n",
       "  <thead>\n",
       "    <tr style=\"text-align: right;\">\n",
       "      <th></th>\n",
       "      <th>user_id</th>\n",
       "      <th>time</th>\n",
       "    </tr>\n",
       "  </thead>\n",
       "  <tbody>\n",
       "    <tr>\n",
       "      <th>1116</th>\n",
       "      <td>10001</td>\n",
       "      <td>2020-11-13 19:00:00</td>\n",
       "    </tr>\n",
       "    <tr>\n",
       "      <th>492</th>\n",
       "      <td>10004</td>\n",
       "      <td>2020-11-04 12:00:00</td>\n",
       "    </tr>\n",
       "    <tr>\n",
       "      <th>3857</th>\n",
       "      <td>10005</td>\n",
       "      <td>2020-11-13 12:00:00</td>\n",
       "    </tr>\n",
       "    <tr>\n",
       "      <th>3826</th>\n",
       "      <td>10006</td>\n",
       "      <td>2020-11-10 18:00:00</td>\n",
       "    </tr>\n",
       "    <tr>\n",
       "      <th>414</th>\n",
       "      <td>10006</td>\n",
       "      <td>2020-11-10 17:00:00</td>\n",
       "    </tr>\n",
       "    <tr>\n",
       "      <th>...</th>\n",
       "      <td>...</td>\n",
       "      <td>...</td>\n",
       "    </tr>\n",
       "    <tr>\n",
       "      <th>3870</th>\n",
       "      <td>24983</td>\n",
       "      <td>2020-11-23 23:00:00</td>\n",
       "    </tr>\n",
       "    <tr>\n",
       "      <th>2378</th>\n",
       "      <td>24984</td>\n",
       "      <td>2020-11-30 15:00:00</td>\n",
       "    </tr>\n",
       "    <tr>\n",
       "      <th>3829</th>\n",
       "      <td>24990</td>\n",
       "      <td>2020-11-21 17:00:00</td>\n",
       "    </tr>\n",
       "    <tr>\n",
       "      <th>2799</th>\n",
       "      <td>24997</td>\n",
       "      <td>2020-11-15 15:00:00</td>\n",
       "    </tr>\n",
       "    <tr>\n",
       "      <th>4306</th>\n",
       "      <td>24998</td>\n",
       "      <td>2020-11-10 21:00:00</td>\n",
       "    </tr>\n",
       "  </tbody>\n",
       "</table>\n",
       "<p>5429 rows × 2 columns</p>\n",
       "</div>"
      ],
      "text/plain": [
       "      user_id                time\n",
       "1116    10001 2020-11-13 19:00:00\n",
       "492     10004 2020-11-04 12:00:00\n",
       "3857    10005 2020-11-13 12:00:00\n",
       "3826    10006 2020-11-10 18:00:00\n",
       "414     10006 2020-11-10 17:00:00\n",
       "...       ...                 ...\n",
       "3870    24983 2020-11-23 23:00:00\n",
       "2378    24984 2020-11-30 15:00:00\n",
       "3829    24990 2020-11-21 17:00:00\n",
       "2799    24997 2020-11-15 15:00:00\n",
       "4306    24998 2020-11-10 21:00:00\n",
       "\n",
       "[5429 rows x 2 columns]"
      ]
     },
     "execution_count": 160,
     "metadata": {},
     "output_type": "execute_result"
    }
   ],
   "source": [
    "train_problem.sort_values('user_id')"
   ]
  },
  {
   "cell_type": "code",
   "execution_count": 158,
   "metadata": {
    "ExecuteTime": {
     "end_time": "2022-06-10T06:31:58.362644Z",
     "start_time": "2022-06-10T06:31:58.340717Z"
    }
   },
   "outputs": [
    {
     "data": {
      "text/html": [
       "<div>\n",
       "<style scoped>\n",
       "    .dataframe tbody tr th:only-of-type {\n",
       "        vertical-align: middle;\n",
       "    }\n",
       "\n",
       "    .dataframe tbody tr th {\n",
       "        vertical-align: top;\n",
       "    }\n",
       "\n",
       "    .dataframe thead th {\n",
       "        text-align: right;\n",
       "    }\n",
       "</style>\n",
       "<table border=\"1\" class=\"dataframe\">\n",
       "  <thead>\n",
       "    <tr style=\"text-align: right;\">\n",
       "      <th></th>\n",
       "      <th>user_id</th>\n",
       "      <th>time</th>\n",
       "      <th>model_nm</th>\n",
       "      <th>fwver</th>\n",
       "      <th>errtype</th>\n",
       "      <th>errcode</th>\n",
       "    </tr>\n",
       "  </thead>\n",
       "  <tbody>\n",
       "    <tr>\n",
       "      <th>0</th>\n",
       "      <td>10000</td>\n",
       "      <td>2020-11-01 02:56:16</td>\n",
       "      <td>model_3</td>\n",
       "      <td>05.15.2138</td>\n",
       "      <td>15</td>\n",
       "      <td>1</td>\n",
       "    </tr>\n",
       "    <tr>\n",
       "      <th>1</th>\n",
       "      <td>10000</td>\n",
       "      <td>2020-11-01 03:03:09</td>\n",
       "      <td>model_3</td>\n",
       "      <td>05.15.2138</td>\n",
       "      <td>12</td>\n",
       "      <td>1</td>\n",
       "    </tr>\n",
       "    <tr>\n",
       "      <th>2</th>\n",
       "      <td>10000</td>\n",
       "      <td>2020-11-01 03:03:09</td>\n",
       "      <td>model_3</td>\n",
       "      <td>05.15.2138</td>\n",
       "      <td>11</td>\n",
       "      <td>1</td>\n",
       "    </tr>\n",
       "    <tr>\n",
       "      <th>3</th>\n",
       "      <td>10000</td>\n",
       "      <td>2020-11-01 05:05:14</td>\n",
       "      <td>model_3</td>\n",
       "      <td>05.15.2138</td>\n",
       "      <td>16</td>\n",
       "      <td>1</td>\n",
       "    </tr>\n",
       "    <tr>\n",
       "      <th>4</th>\n",
       "      <td>10000</td>\n",
       "      <td>2020-11-01 05:05:15</td>\n",
       "      <td>model_3</td>\n",
       "      <td>05.15.2138</td>\n",
       "      <td>4</td>\n",
       "      <td>0</td>\n",
       "    </tr>\n",
       "    <tr>\n",
       "      <th>...</th>\n",
       "      <td>...</td>\n",
       "      <td>...</td>\n",
       "      <td>...</td>\n",
       "      <td>...</td>\n",
       "      <td>...</td>\n",
       "      <td>...</td>\n",
       "    </tr>\n",
       "    <tr>\n",
       "      <th>15367996</th>\n",
       "      <td>24999</td>\n",
       "      <td>2020-11-30 16:30:51</td>\n",
       "      <td>model_3</td>\n",
       "      <td>05.15.2138</td>\n",
       "      <td>15</td>\n",
       "      <td>1</td>\n",
       "    </tr>\n",
       "    <tr>\n",
       "      <th>15367997</th>\n",
       "      <td>24999</td>\n",
       "      <td>2020-11-30 17:26:25</td>\n",
       "      <td>model_3</td>\n",
       "      <td>05.15.2138</td>\n",
       "      <td>16</td>\n",
       "      <td>1</td>\n",
       "    </tr>\n",
       "    <tr>\n",
       "      <th>15367998</th>\n",
       "      <td>24999</td>\n",
       "      <td>2020-11-30 17:26:25</td>\n",
       "      <td>model_3</td>\n",
       "      <td>05.15.2138</td>\n",
       "      <td>4</td>\n",
       "      <td>0</td>\n",
       "    </tr>\n",
       "    <tr>\n",
       "      <th>15367999</th>\n",
       "      <td>24999</td>\n",
       "      <td>2020-11-30 17:26:31</td>\n",
       "      <td>model_3</td>\n",
       "      <td>05.15.2138</td>\n",
       "      <td>4</td>\n",
       "      <td>0</td>\n",
       "    </tr>\n",
       "    <tr>\n",
       "      <th>15368000</th>\n",
       "      <td>24999</td>\n",
       "      <td>2020-11-30 21:06:25</td>\n",
       "      <td>model_3</td>\n",
       "      <td>05.15.2138</td>\n",
       "      <td>15</td>\n",
       "      <td>1</td>\n",
       "    </tr>\n",
       "  </tbody>\n",
       "</table>\n",
       "<p>15368001 rows × 6 columns</p>\n",
       "</div>"
      ],
      "text/plain": [
       "          user_id                time model_nm       fwver  errtype errcode\n",
       "0           10000 2020-11-01 02:56:16  model_3  05.15.2138       15       1\n",
       "1           10000 2020-11-01 03:03:09  model_3  05.15.2138       12       1\n",
       "2           10000 2020-11-01 03:03:09  model_3  05.15.2138       11       1\n",
       "3           10000 2020-11-01 05:05:14  model_3  05.15.2138       16       1\n",
       "4           10000 2020-11-01 05:05:15  model_3  05.15.2138        4       0\n",
       "...           ...                 ...      ...         ...      ...     ...\n",
       "15367996    24999 2020-11-30 16:30:51  model_3  05.15.2138       15       1\n",
       "15367997    24999 2020-11-30 17:26:25  model_3  05.15.2138       16       1\n",
       "15367998    24999 2020-11-30 17:26:25  model_3  05.15.2138        4       0\n",
       "15367999    24999 2020-11-30 17:26:31  model_3  05.15.2138        4       0\n",
       "15368000    24999 2020-11-30 21:06:25  model_3  05.15.2138       15       1\n",
       "\n",
       "[15368001 rows x 6 columns]"
      ]
     },
     "execution_count": 158,
     "metadata": {},
     "output_type": "execute_result"
    }
   ],
   "source": [
    "train_err"
   ]
  },
  {
   "cell_type": "markdown",
   "metadata": {},
   "source": [
    "## Quality 분석"
   ]
  },
  {
   "cell_type": "code",
   "execution_count": 129,
   "metadata": {
    "ExecuteTime": {
     "end_time": "2022-06-10T05:04:58.529427Z",
     "start_time": "2022-06-10T05:04:58.437296Z"
    }
   },
   "outputs": [
    {
     "data": {
      "text/html": [
       "<div>\n",
       "<style scoped>\n",
       "    .dataframe tbody tr th:only-of-type {\n",
       "        vertical-align: middle;\n",
       "    }\n",
       "\n",
       "    .dataframe tbody tr th {\n",
       "        vertical-align: top;\n",
       "    }\n",
       "\n",
       "    .dataframe thead th {\n",
       "        text-align: right;\n",
       "    }\n",
       "</style>\n",
       "<table border=\"1\" class=\"dataframe\">\n",
       "  <thead>\n",
       "    <tr style=\"text-align: right;\">\n",
       "      <th></th>\n",
       "      <th>user_id</th>\n",
       "      <th>quality_0</th>\n",
       "      <th>quality_1</th>\n",
       "      <th>quality_2</th>\n",
       "      <th>quality_3</th>\n",
       "      <th>quality_4</th>\n",
       "      <th>quality_5</th>\n",
       "      <th>quality_6</th>\n",
       "      <th>quality_7</th>\n",
       "      <th>quality_8</th>\n",
       "      <th>quality_9</th>\n",
       "      <th>quality_10</th>\n",
       "      <th>quality_11</th>\n",
       "      <th>quality_12</th>\n",
       "    </tr>\n",
       "  </thead>\n",
       "  <tbody>\n",
       "    <tr>\n",
       "      <th>count</th>\n",
       "      <td>272452.000000</td>\n",
       "      <td>272452.000000</td>\n",
       "      <td>272452.000000</td>\n",
       "      <td>272452.000000</td>\n",
       "      <td>272452.0</td>\n",
       "      <td>272452.0</td>\n",
       "      <td>272452.000000</td>\n",
       "      <td>272452.000000</td>\n",
       "      <td>272452.000000</td>\n",
       "      <td>272452.000000</td>\n",
       "      <td>272452.000000</td>\n",
       "      <td>2.724520e+05</td>\n",
       "      <td>272452.000000</td>\n",
       "      <td>272452.000000</td>\n",
       "    </tr>\n",
       "    <tr>\n",
       "      <th>mean</th>\n",
       "      <td>17559.687732</td>\n",
       "      <td>10.786660</td>\n",
       "      <td>-0.068684</td>\n",
       "      <td>14.158138</td>\n",
       "      <td>0.0</td>\n",
       "      <td>0.0</td>\n",
       "      <td>224.519387</td>\n",
       "      <td>3.069664</td>\n",
       "      <td>26.486376</td>\n",
       "      <td>0.177411</td>\n",
       "      <td>106.522925</td>\n",
       "      <td>1.828710e+03</td>\n",
       "      <td>-0.092328</td>\n",
       "      <td>0.038238</td>\n",
       "    </tr>\n",
       "    <tr>\n",
       "      <th>std</th>\n",
       "      <td>4389.671541</td>\n",
       "      <td>759.517259</td>\n",
       "      <td>0.796227</td>\n",
       "      <td>997.273716</td>\n",
       "      <td>0.0</td>\n",
       "      <td>0.0</td>\n",
       "      <td>3969.392409</td>\n",
       "      <td>34.457646</td>\n",
       "      <td>295.315129</td>\n",
       "      <td>6.319490</td>\n",
       "      <td>4576.446638</td>\n",
       "      <td>2.441835e+04</td>\n",
       "      <td>0.333191</td>\n",
       "      <td>0.296846</td>\n",
       "    </tr>\n",
       "    <tr>\n",
       "      <th>min</th>\n",
       "      <td>10000.000000</td>\n",
       "      <td>-1.000000</td>\n",
       "      <td>-1.000000</td>\n",
       "      <td>-1.000000</td>\n",
       "      <td>0.0</td>\n",
       "      <td>0.0</td>\n",
       "      <td>-1.000000</td>\n",
       "      <td>-1.000000</td>\n",
       "      <td>0.000000</td>\n",
       "      <td>0.000000</td>\n",
       "      <td>0.000000</td>\n",
       "      <td>0.000000e+00</td>\n",
       "      <td>-1.000000</td>\n",
       "      <td>0.000000</td>\n",
       "    </tr>\n",
       "    <tr>\n",
       "      <th>25%</th>\n",
       "      <td>13676.000000</td>\n",
       "      <td>0.000000</td>\n",
       "      <td>0.000000</td>\n",
       "      <td>0.000000</td>\n",
       "      <td>0.0</td>\n",
       "      <td>0.0</td>\n",
       "      <td>0.000000</td>\n",
       "      <td>0.000000</td>\n",
       "      <td>0.000000</td>\n",
       "      <td>0.000000</td>\n",
       "      <td>0.000000</td>\n",
       "      <td>4.000000e+00</td>\n",
       "      <td>0.000000</td>\n",
       "      <td>0.000000</td>\n",
       "    </tr>\n",
       "    <tr>\n",
       "      <th>50%</th>\n",
       "      <td>17488.000000</td>\n",
       "      <td>0.000000</td>\n",
       "      <td>0.000000</td>\n",
       "      <td>0.000000</td>\n",
       "      <td>0.0</td>\n",
       "      <td>0.0</td>\n",
       "      <td>2.000000</td>\n",
       "      <td>0.000000</td>\n",
       "      <td>0.000000</td>\n",
       "      <td>0.000000</td>\n",
       "      <td>0.000000</td>\n",
       "      <td>1.900000e+01</td>\n",
       "      <td>0.000000</td>\n",
       "      <td>0.000000</td>\n",
       "    </tr>\n",
       "    <tr>\n",
       "      <th>75%</th>\n",
       "      <td>21546.000000</td>\n",
       "      <td>0.000000</td>\n",
       "      <td>0.000000</td>\n",
       "      <td>0.000000</td>\n",
       "      <td>0.0</td>\n",
       "      <td>0.0</td>\n",
       "      <td>15.000000</td>\n",
       "      <td>0.000000</td>\n",
       "      <td>0.000000</td>\n",
       "      <td>0.000000</td>\n",
       "      <td>0.000000</td>\n",
       "      <td>2.020000e+02</td>\n",
       "      <td>0.000000</td>\n",
       "      <td>0.000000</td>\n",
       "    </tr>\n",
       "    <tr>\n",
       "      <th>max</th>\n",
       "      <td>24997.000000</td>\n",
       "      <td>157667.000000</td>\n",
       "      <td>171.000000</td>\n",
       "      <td>191859.000000</td>\n",
       "      <td>0.0</td>\n",
       "      <td>0.0</td>\n",
       "      <td>637385.000000</td>\n",
       "      <td>600.000000</td>\n",
       "      <td>7200.000000</td>\n",
       "      <td>1317.000000</td>\n",
       "      <td>397424.000000</td>\n",
       "      <td>1.910175e+06</td>\n",
       "      <td>14.000000</td>\n",
       "      <td>14.000000</td>\n",
       "    </tr>\n",
       "  </tbody>\n",
       "</table>\n",
       "</div>"
      ],
      "text/plain": [
       "             user_id      quality_0      quality_1      quality_2  quality_3  \\\n",
       "count  272452.000000  272452.000000  272452.000000  272452.000000   272452.0   \n",
       "mean    17559.687732      10.786660      -0.068684      14.158138        0.0   \n",
       "std      4389.671541     759.517259       0.796227     997.273716        0.0   \n",
       "min     10000.000000      -1.000000      -1.000000      -1.000000        0.0   \n",
       "25%     13676.000000       0.000000       0.000000       0.000000        0.0   \n",
       "50%     17488.000000       0.000000       0.000000       0.000000        0.0   \n",
       "75%     21546.000000       0.000000       0.000000       0.000000        0.0   \n",
       "max     24997.000000  157667.000000     171.000000  191859.000000        0.0   \n",
       "\n",
       "       quality_4      quality_5      quality_6      quality_7      quality_8  \\\n",
       "count   272452.0  272452.000000  272452.000000  272452.000000  272452.000000   \n",
       "mean         0.0     224.519387       3.069664      26.486376       0.177411   \n",
       "std          0.0    3969.392409      34.457646     295.315129       6.319490   \n",
       "min          0.0      -1.000000      -1.000000       0.000000       0.000000   \n",
       "25%          0.0       0.000000       0.000000       0.000000       0.000000   \n",
       "50%          0.0       2.000000       0.000000       0.000000       0.000000   \n",
       "75%          0.0      15.000000       0.000000       0.000000       0.000000   \n",
       "max          0.0  637385.000000     600.000000    7200.000000    1317.000000   \n",
       "\n",
       "           quality_9    quality_10     quality_11     quality_12  \n",
       "count  272452.000000  2.724520e+05  272452.000000  272452.000000  \n",
       "mean      106.522925  1.828710e+03      -0.092328       0.038238  \n",
       "std      4576.446638  2.441835e+04       0.333191       0.296846  \n",
       "min         0.000000  0.000000e+00      -1.000000       0.000000  \n",
       "25%         0.000000  4.000000e+00       0.000000       0.000000  \n",
       "50%         0.000000  1.900000e+01       0.000000       0.000000  \n",
       "75%         0.000000  2.020000e+02       0.000000       0.000000  \n",
       "max    397424.000000  1.910175e+06      14.000000      14.000000  "
      ]
     },
     "execution_count": 129,
     "metadata": {},
     "output_type": "execute_result"
    }
   ],
   "source": [
    "train_quality.describe()"
   ]
  },
  {
   "cell_type": "code",
   "execution_count": 9,
   "metadata": {
    "ExecuteTime": {
     "end_time": "2022-06-11T03:03:43.640898Z",
     "start_time": "2022-06-11T03:03:43.608907Z"
    }
   },
   "outputs": [],
   "source": [
    "# 모두 0인 quality_3, 4는 drop\n",
    "train_quality.drop(columns=['quality_3', 'quality_4'], inplace=True)"
   ]
  },
  {
   "cell_type": "code",
   "execution_count": 10,
   "metadata": {
    "ExecuteTime": {
     "end_time": "2022-06-11T03:03:48.796906Z",
     "start_time": "2022-06-11T03:03:48.777903Z"
    }
   },
   "outputs": [
    {
     "data": {
      "text/plain": [
       "8224"
      ]
     },
     "execution_count": 10,
     "metadata": {},
     "output_type": "execute_result"
    }
   ],
   "source": [
    "# 절반정도 user는 train_quality에 존재하지 않는다.\n",
    "len(train_quality.user_id.unique())"
   ]
  },
  {
   "cell_type": "markdown",
   "metadata": {},
   "source": [
    "### 불만을 제기한 user와 quality데이터의 관계"
   ]
  },
  {
   "cell_type": "code",
   "execution_count": 132,
   "metadata": {
    "ExecuteTime": {
     "end_time": "2022-06-10T05:05:06.463618Z",
     "start_time": "2022-06-10T05:05:06.455645Z"
    }
   },
   "outputs": [],
   "source": [
    "# 대부분 불만을 제기한 user의 quality데이터가 수집된건지 확인\n",
    "quality_user = list(train_quality.user_id.unique())\n",
    "problem_user = list(train_problem.user_id.unique())"
   ]
  },
  {
   "cell_type": "code",
   "execution_count": 133,
   "metadata": {
    "ExecuteTime": {
     "end_time": "2022-06-10T05:05:07.492703Z",
     "start_time": "2022-06-10T05:05:07.483733Z"
    }
   },
   "outputs": [
    {
     "data": {
      "text/plain": [
       "(8224, 5000)"
      ]
     },
     "execution_count": 133,
     "metadata": {},
     "output_type": "execute_result"
    }
   ],
   "source": [
    "len(quality_user), len(problem_user)"
   ]
  },
  {
   "cell_type": "code",
   "execution_count": 134,
   "metadata": {
    "ExecuteTime": {
     "end_time": "2022-06-10T05:05:09.459462Z",
     "start_time": "2022-06-10T05:05:09.172129Z"
    }
   },
   "outputs": [
    {
     "name": "stdout",
     "output_type": "stream",
     "text": [
      "불만을 제기한 사람 중 quality 데이터에도 있는 경우 : 38.4%\n"
     ]
    }
   ],
   "source": [
    "cnt = 0\n",
    "for i in problem_user:\n",
    "    if i in quality_user:\n",
    "        cnt += 1\n",
    "print(f\"불만을 제기한 사람 중 quality 데이터에도 있는 경우 : {round(cnt/len(quality_user)*100, 2)}%\")\n",
    "\n",
    "# 생각보다 연관성이 높진 않다."
   ]
  },
  {
   "cell_type": "markdown",
   "metadata": {},
   "source": [
    "### -1값을 갖는 quality\n",
    "quality 데이터를 보면 범위가 [0 ~ ∞] 또는 [-∞ ~ ∞] 가 아니라 [-1 ~ ∞]이다. \n",
    "\n",
    "-1은 퀄리티의 오류값일 수 있으므로 확인"
   ]
  },
  {
   "cell_type": "code",
   "execution_count": 135,
   "metadata": {
    "ExecuteTime": {
     "end_time": "2022-06-10T05:05:11.064035Z",
     "start_time": "2022-06-10T05:05:11.039119Z"
    }
   },
   "outputs": [
    {
     "data": {
      "text/html": [
       "<div>\n",
       "<style scoped>\n",
       "    .dataframe tbody tr th:only-of-type {\n",
       "        vertical-align: middle;\n",
       "    }\n",
       "\n",
       "    .dataframe tbody tr th {\n",
       "        vertical-align: top;\n",
       "    }\n",
       "\n",
       "    .dataframe thead th {\n",
       "        text-align: right;\n",
       "    }\n",
       "</style>\n",
       "<table border=\"1\" class=\"dataframe\">\n",
       "  <thead>\n",
       "    <tr style=\"text-align: right;\">\n",
       "      <th></th>\n",
       "      <th>user_id</th>\n",
       "      <th>quality_0</th>\n",
       "    </tr>\n",
       "  </thead>\n",
       "  <tbody>\n",
       "    <tr>\n",
       "      <th>0</th>\n",
       "      <td>10002</td>\n",
       "      <td>1</td>\n",
       "    </tr>\n",
       "    <tr>\n",
       "      <th>1</th>\n",
       "      <td>10004</td>\n",
       "      <td>1</td>\n",
       "    </tr>\n",
       "    <tr>\n",
       "      <th>2</th>\n",
       "      <td>10005</td>\n",
       "      <td>1</td>\n",
       "    </tr>\n",
       "    <tr>\n",
       "      <th>3</th>\n",
       "      <td>10010</td>\n",
       "      <td>1</td>\n",
       "    </tr>\n",
       "    <tr>\n",
       "      <th>4</th>\n",
       "      <td>10013</td>\n",
       "      <td>7</td>\n",
       "    </tr>\n",
       "    <tr>\n",
       "      <th>...</th>\n",
       "      <td>...</td>\n",
       "      <td>...</td>\n",
       "    </tr>\n",
       "    <tr>\n",
       "      <th>5562</th>\n",
       "      <td>24986</td>\n",
       "      <td>5</td>\n",
       "    </tr>\n",
       "    <tr>\n",
       "      <th>5563</th>\n",
       "      <td>24992</td>\n",
       "      <td>2</td>\n",
       "    </tr>\n",
       "    <tr>\n",
       "      <th>5564</th>\n",
       "      <td>24993</td>\n",
       "      <td>2</td>\n",
       "    </tr>\n",
       "    <tr>\n",
       "      <th>5565</th>\n",
       "      <td>24995</td>\n",
       "      <td>2</td>\n",
       "    </tr>\n",
       "    <tr>\n",
       "      <th>5566</th>\n",
       "      <td>24997</td>\n",
       "      <td>1</td>\n",
       "    </tr>\n",
       "  </tbody>\n",
       "</table>\n",
       "<p>5567 rows × 2 columns</p>\n",
       "</div>"
      ],
      "text/plain": [
       "      user_id  quality_0\n",
       "0       10002          1\n",
       "1       10004          1\n",
       "2       10005          1\n",
       "3       10010          1\n",
       "4       10013          7\n",
       "...       ...        ...\n",
       "5562    24986          5\n",
       "5563    24992          2\n",
       "5564    24993          2\n",
       "5565    24995          2\n",
       "5566    24997          1\n",
       "\n",
       "[5567 rows x 2 columns]"
      ]
     },
     "execution_count": 135,
     "metadata": {},
     "output_type": "execute_result"
    }
   ],
   "source": [
    "has_minus_user = train_quality[train_quality.quality_0 == -1].groupby('user_id')['quality_0'].count().to_frame().reset_index()\n",
    "has_minus_user"
   ]
  },
  {
   "cell_type": "code",
   "execution_count": 136,
   "metadata": {
    "ExecuteTime": {
     "end_time": "2022-06-10T05:05:12.561661Z",
     "start_time": "2022-06-10T05:05:12.544718Z"
    }
   },
   "outputs": [
    {
     "data": {
      "text/html": [
       "<div>\n",
       "<style scoped>\n",
       "    .dataframe tbody tr th:only-of-type {\n",
       "        vertical-align: middle;\n",
       "    }\n",
       "\n",
       "    .dataframe tbody tr th {\n",
       "        vertical-align: top;\n",
       "    }\n",
       "\n",
       "    .dataframe thead th {\n",
       "        text-align: right;\n",
       "    }\n",
       "</style>\n",
       "<table border=\"1\" class=\"dataframe\">\n",
       "  <thead>\n",
       "    <tr style=\"text-align: right;\">\n",
       "      <th></th>\n",
       "      <th>user_id</th>\n",
       "      <th>quality_0</th>\n",
       "    </tr>\n",
       "  </thead>\n",
       "  <tbody>\n",
       "    <tr>\n",
       "      <th>1750</th>\n",
       "      <td>14701</td>\n",
       "      <td>171</td>\n",
       "    </tr>\n",
       "    <tr>\n",
       "      <th>2028</th>\n",
       "      <td>15475</td>\n",
       "      <td>157</td>\n",
       "    </tr>\n",
       "    <tr>\n",
       "      <th>4310</th>\n",
       "      <td>21641</td>\n",
       "      <td>153</td>\n",
       "    </tr>\n",
       "    <tr>\n",
       "      <th>452</th>\n",
       "      <td>11252</td>\n",
       "      <td>144</td>\n",
       "    </tr>\n",
       "    <tr>\n",
       "      <th>2260</th>\n",
       "      <td>16101</td>\n",
       "      <td>142</td>\n",
       "    </tr>\n",
       "    <tr>\n",
       "      <th>...</th>\n",
       "      <td>...</td>\n",
       "      <td>...</td>\n",
       "    </tr>\n",
       "    <tr>\n",
       "      <th>3082</th>\n",
       "      <td>18393</td>\n",
       "      <td>42</td>\n",
       "    </tr>\n",
       "    <tr>\n",
       "      <th>2808</th>\n",
       "      <td>17641</td>\n",
       "      <td>42</td>\n",
       "    </tr>\n",
       "    <tr>\n",
       "      <th>1142</th>\n",
       "      <td>13117</td>\n",
       "      <td>40</td>\n",
       "    </tr>\n",
       "    <tr>\n",
       "      <th>499</th>\n",
       "      <td>11399</td>\n",
       "      <td>40</td>\n",
       "    </tr>\n",
       "    <tr>\n",
       "      <th>3315</th>\n",
       "      <td>18967</td>\n",
       "      <td>40</td>\n",
       "    </tr>\n",
       "  </tbody>\n",
       "</table>\n",
       "<p>100 rows × 2 columns</p>\n",
       "</div>"
      ],
      "text/plain": [
       "      user_id  quality_0\n",
       "1750    14701        171\n",
       "2028    15475        157\n",
       "4310    21641        153\n",
       "452     11252        144\n",
       "2260    16101        142\n",
       "...       ...        ...\n",
       "3082    18393         42\n",
       "2808    17641         42\n",
       "1142    13117         40\n",
       "499     11399         40\n",
       "3315    18967         40\n",
       "\n",
       "[100 rows x 2 columns]"
      ]
     },
     "execution_count": 136,
     "metadata": {},
     "output_type": "execute_result"
    }
   ],
   "source": [
    "has_minus_user = has_minus_user.sort_values(ascending=False, by='quality_0')\n",
    "has_minus_user.head(100)"
   ]
  },
  {
   "cell_type": "code",
   "execution_count": 137,
   "metadata": {
    "ExecuteTime": {
     "end_time": "2022-06-10T05:05:14.023506Z",
     "start_time": "2022-06-10T05:05:14.013539Z"
    }
   },
   "outputs": [
    {
     "data": {
      "text/plain": [
       "1750    14701\n",
       "2028    15475\n",
       "4310    21641\n",
       "452     11252\n",
       "2260    16101\n",
       "        ...  \n",
       "3082    18393\n",
       "2808    17641\n",
       "1142    13117\n",
       "499     11399\n",
       "3315    18967\n",
       "Name: user_id, Length: 100, dtype: int64"
      ]
     },
     "execution_count": 137,
     "metadata": {},
     "output_type": "execute_result"
    }
   ],
   "source": [
    "has_minus_user[:100]['user_id']"
   ]
  },
  {
   "cell_type": "code",
   "execution_count": 161,
   "metadata": {
    "ExecuteTime": {
     "end_time": "2022-06-10T07:37:13.359440Z",
     "start_time": "2022-06-10T07:37:13.349475Z"
    }
   },
   "outputs": [
    {
     "name": "stdout",
     "output_type": "stream",
     "text": [
      "상위 100명중 불만을 제기한 사람: 71.0%\n",
      "상위 500명중 불만을 제기한 사람: 61.4%\n",
      "전체 유저 중 불만을 제기한 사람: 41.67415124842824%\n"
     ]
    }
   ],
   "source": [
    "# 상위 100명\n",
    "problem_user = len(train_problem[train_problem['user_id'].isin(has_minus_user[:100]['user_id'])].user_id.unique())\n",
    "print(f\"상위 100명중 불만을 제기한 사람: {problem_user/100 * 100}%\")\n",
    "\n",
    "# 상위 500명\n",
    "problem_user = len(train_problem[train_problem['user_id'].isin(has_minus_user[:500]['user_id'])].user_id.unique())\n",
    "print(f\"상위 500명중 불만을 제기한 사람: {problem_user/500 * 100}%\")\n",
    "\n",
    "# 전체 유저 수\n",
    "problem_user = len(train_problem[train_problem['user_id'].isin(has_minus_user['user_id'])].user_id.unique())\n",
    "print(f\"전체 유저 중 불만을 제기한 사람: {problem_user/5567 * 100}%\")"
   ]
  },
  {
   "cell_type": "markdown",
   "metadata": {},
   "source": [
    "- '-1'이라는 퀄리티 값을 많이 가질수록 불만제기율이 높다.\n",
    "- 다른 값들에 대해서도 확인하면서 더블 체킹을 해준다"
   ]
  },
  {
   "cell_type": "code",
   "execution_count": 185,
   "metadata": {
    "ExecuteTime": {
     "end_time": "2022-06-10T07:55:57.813849Z",
     "start_time": "2022-06-10T07:55:57.799896Z"
    }
   },
   "outputs": [
    {
     "name": "stdout",
     "output_type": "stream",
     "text": [
      "상위 100명중 불만을 제기한 사람: 61.0%\n",
      "상위 500명중 불만을 제기한 사람: 56.2%\n",
      "전체 유저 중 불만을 제기한 사람: 53.36225596529284%\n"
     ]
    }
   ],
   "source": [
    "# 1값을 갖는 유저들\n",
    "has_1_user = train_quality[train_quality.quality_1 == 1].groupby('user_id')['quality_1'].count().to_frame().reset_index()\n",
    "has_1_user = has_1_user.sort_values(ascending=False, by='quality_1')\n",
    "\n",
    "\n",
    "# 상위 100명\n",
    "problem_user = len(train_problem[train_problem['user_id'].isin(has_1_user[:100]['user_id'])].user_id.unique())\n",
    "print(f\"상위 100명중 불만을 제기한 사람: {problem_user/100 * 100}%\")\n",
    "\n",
    "# 상위 500명\n",
    "problem_user = len(train_problem[train_problem['user_id'].isin(has_1_user[:500]['user_id'])].user_id.unique())\n",
    "print(f\"상위 500명중 불만을 제기한 사람: {problem_user/500 * 100}%\")\n",
    "\n",
    "# 전체 유저 수\n",
    "problem_user = len(train_problem[train_problem['user_id'].isin(has_1_user['user_id'])].user_id.unique())\n",
    "print(f\"전체 유저 중 불만을 제기한 사람: {problem_user/len(has_1_user.index) * 100}%\")"
   ]
  },
  {
   "cell_type": "code",
   "execution_count": 188,
   "metadata": {
    "ExecuteTime": {
     "end_time": "2022-06-10T07:57:03.292242Z",
     "start_time": "2022-06-10T07:57:03.268328Z"
    }
   },
   "outputs": [
    {
     "name": "stdout",
     "output_type": "stream",
     "text": [
      "상위 100명중 불만을 제기한 사람: 67.0%\n",
      "상위 500명중 불만을 제기한 사람: 56.99999999999999%\n",
      "전체 유저 중 불만을 제기한 사람: 38.39698370226222%\n"
     ]
    }
   ],
   "source": [
    "# 0값을 갖는 유저들\n",
    "has_0_user = train_quality[train_quality.quality_0 == 0].groupby('user_id')['quality_0'].count().to_frame().reset_index()\n",
    "has_0_user = has_0_user.sort_values(ascending=False, by='quality_0')\n",
    "\n",
    "\n",
    "# 상위 100명\n",
    "problem_user = len(train_problem[train_problem['user_id'].isin(has_0_user[:100]['user_id'])].user_id.unique())\n",
    "print(f\"상위 100명중 불만을 제기한 사람: {problem_user/100 * 100}%\")\n",
    "\n",
    "# 상위 500명\n",
    "problem_user = len(train_problem[train_problem['user_id'].isin(has_0_user[:500]['user_id'])].user_id.unique())\n",
    "print(f\"상위 500명중 불만을 제기한 사람: {problem_user/500 * 100}%\")\n",
    "\n",
    "\n",
    "# 전체 유저 수\n",
    "problem_user = len(train_problem[train_problem['user_id'].isin(has_0_user['user_id'])].user_id.unique())\n",
    "print(f\"전체 유저 중 불만을 제기한 사람: {problem_user/len(has_0_user.index) * 100}%\")"
   ]
  },
  {
   "cell_type": "markdown",
   "metadata": {},
   "source": [
    "- -1 뿐만 아니라 다른 값에 대해서도 비슷한 양상이 보이므로 -1에대한 feature를 따로 만들기에는 적합하지 않다."
   ]
  },
  {
   "cell_type": "markdown",
   "metadata": {},
   "source": [
    "### quality의 합에 따른 불만 제기율"
   ]
  },
  {
   "cell_type": "code",
   "execution_count": 31,
   "metadata": {
    "ExecuteTime": {
     "end_time": "2022-06-11T03:52:44.141094Z",
     "start_time": "2022-06-11T03:52:43.781660Z"
    }
   },
   "outputs": [
    {
     "data": {
      "text/html": [
       "<div>\n",
       "<style scoped>\n",
       "    .dataframe tbody tr th:only-of-type {\n",
       "        vertical-align: middle;\n",
       "    }\n",
       "\n",
       "    .dataframe tbody tr th {\n",
       "        vertical-align: top;\n",
       "    }\n",
       "\n",
       "    .dataframe thead th {\n",
       "        text-align: right;\n",
       "    }\n",
       "</style>\n",
       "<table border=\"1\" class=\"dataframe\">\n",
       "  <thead>\n",
       "    <tr style=\"text-align: right;\">\n",
       "      <th></th>\n",
       "      <th>user_id</th>\n",
       "      <th>quality_0</th>\n",
       "      <th>quality_1</th>\n",
       "      <th>quality_2</th>\n",
       "      <th>quality_5</th>\n",
       "      <th>quality_6</th>\n",
       "      <th>quality_7</th>\n",
       "      <th>quality_8</th>\n",
       "      <th>quality_9</th>\n",
       "      <th>quality_10</th>\n",
       "      <th>quality_11</th>\n",
       "      <th>quality_12</th>\n",
       "    </tr>\n",
       "  </thead>\n",
       "  <tbody>\n",
       "    <tr>\n",
       "      <th>0</th>\n",
       "      <td>10000</td>\n",
       "      <td>0.0</td>\n",
       "      <td>0.0</td>\n",
       "      <td>0.0</td>\n",
       "      <td>12.0</td>\n",
       "      <td>0.0</td>\n",
       "      <td>0.0</td>\n",
       "      <td>0.0</td>\n",
       "      <td>0.0</td>\n",
       "      <td>24.0</td>\n",
       "      <td>0.0</td>\n",
       "      <td>0.0</td>\n",
       "    </tr>\n",
       "    <tr>\n",
       "      <th>1</th>\n",
       "      <td>10001</td>\n",
       "      <td>0.0</td>\n",
       "      <td>0.0</td>\n",
       "      <td>0.0</td>\n",
       "      <td>0.0</td>\n",
       "      <td>0.0</td>\n",
       "      <td>0.0</td>\n",
       "      <td>0.0</td>\n",
       "      <td>0.0</td>\n",
       "      <td>0.0</td>\n",
       "      <td>0.0</td>\n",
       "      <td>0.0</td>\n",
       "    </tr>\n",
       "    <tr>\n",
       "      <th>2</th>\n",
       "      <td>10002</td>\n",
       "      <td>1.0</td>\n",
       "      <td>-1.0</td>\n",
       "      <td>0.0</td>\n",
       "      <td>30.0</td>\n",
       "      <td>45.0</td>\n",
       "      <td>96.0</td>\n",
       "      <td>0.0</td>\n",
       "      <td>2.0</td>\n",
       "      <td>95.0</td>\n",
       "      <td>-1.0</td>\n",
       "      <td>0.0</td>\n",
       "    </tr>\n",
       "    <tr>\n",
       "      <th>3</th>\n",
       "      <td>10003</td>\n",
       "      <td>0.0</td>\n",
       "      <td>0.0</td>\n",
       "      <td>0.0</td>\n",
       "      <td>0.0</td>\n",
       "      <td>0.0</td>\n",
       "      <td>0.0</td>\n",
       "      <td>0.0</td>\n",
       "      <td>0.0</td>\n",
       "      <td>0.0</td>\n",
       "      <td>0.0</td>\n",
       "      <td>0.0</td>\n",
       "    </tr>\n",
       "    <tr>\n",
       "      <th>4</th>\n",
       "      <td>10004</td>\n",
       "      <td>-1.0</td>\n",
       "      <td>-1.0</td>\n",
       "      <td>-1.0</td>\n",
       "      <td>3.0</td>\n",
       "      <td>86.0</td>\n",
       "      <td>174.0</td>\n",
       "      <td>0.0</td>\n",
       "      <td>0.0</td>\n",
       "      <td>14.0</td>\n",
       "      <td>-1.0</td>\n",
       "      <td>0.0</td>\n",
       "    </tr>\n",
       "    <tr>\n",
       "      <th>...</th>\n",
       "      <td>...</td>\n",
       "      <td>...</td>\n",
       "      <td>...</td>\n",
       "      <td>...</td>\n",
       "      <td>...</td>\n",
       "      <td>...</td>\n",
       "      <td>...</td>\n",
       "      <td>...</td>\n",
       "      <td>...</td>\n",
       "      <td>...</td>\n",
       "      <td>...</td>\n",
       "      <td>...</td>\n",
       "    </tr>\n",
       "    <tr>\n",
       "      <th>14995</th>\n",
       "      <td>24995</td>\n",
       "      <td>-2.0</td>\n",
       "      <td>-2.0</td>\n",
       "      <td>-2.0</td>\n",
       "      <td>3.0</td>\n",
       "      <td>-2.0</td>\n",
       "      <td>0.0</td>\n",
       "      <td>0.0</td>\n",
       "      <td>0.0</td>\n",
       "      <td>15.0</td>\n",
       "      <td>-2.0</td>\n",
       "      <td>0.0</td>\n",
       "    </tr>\n",
       "    <tr>\n",
       "      <th>14996</th>\n",
       "      <td>24996</td>\n",
       "      <td>0.0</td>\n",
       "      <td>0.0</td>\n",
       "      <td>0.0</td>\n",
       "      <td>0.0</td>\n",
       "      <td>0.0</td>\n",
       "      <td>0.0</td>\n",
       "      <td>0.0</td>\n",
       "      <td>0.0</td>\n",
       "      <td>0.0</td>\n",
       "      <td>0.0</td>\n",
       "      <td>0.0</td>\n",
       "    </tr>\n",
       "    <tr>\n",
       "      <th>14997</th>\n",
       "      <td>24997</td>\n",
       "      <td>-1.0</td>\n",
       "      <td>-1.0</td>\n",
       "      <td>-1.0</td>\n",
       "      <td>16.0</td>\n",
       "      <td>-1.0</td>\n",
       "      <td>0.0</td>\n",
       "      <td>0.0</td>\n",
       "      <td>0.0</td>\n",
       "      <td>91.0</td>\n",
       "      <td>-1.0</td>\n",
       "      <td>0.0</td>\n",
       "    </tr>\n",
       "    <tr>\n",
       "      <th>14998</th>\n",
       "      <td>24998</td>\n",
       "      <td>0.0</td>\n",
       "      <td>0.0</td>\n",
       "      <td>0.0</td>\n",
       "      <td>0.0</td>\n",
       "      <td>0.0</td>\n",
       "      <td>0.0</td>\n",
       "      <td>0.0</td>\n",
       "      <td>0.0</td>\n",
       "      <td>0.0</td>\n",
       "      <td>0.0</td>\n",
       "      <td>0.0</td>\n",
       "    </tr>\n",
       "    <tr>\n",
       "      <th>14999</th>\n",
       "      <td>24999</td>\n",
       "      <td>0.0</td>\n",
       "      <td>0.0</td>\n",
       "      <td>0.0</td>\n",
       "      <td>0.0</td>\n",
       "      <td>0.0</td>\n",
       "      <td>0.0</td>\n",
       "      <td>0.0</td>\n",
       "      <td>0.0</td>\n",
       "      <td>0.0</td>\n",
       "      <td>0.0</td>\n",
       "      <td>0.0</td>\n",
       "    </tr>\n",
       "  </tbody>\n",
       "</table>\n",
       "<p>15000 rows × 12 columns</p>\n",
       "</div>"
      ],
      "text/plain": [
       "       user_id  quality_0  quality_1  quality_2  quality_5  quality_6  \\\n",
       "0        10000        0.0        0.0        0.0       12.0        0.0   \n",
       "1        10001        0.0        0.0        0.0        0.0        0.0   \n",
       "2        10002        1.0       -1.0        0.0       30.0       45.0   \n",
       "3        10003        0.0        0.0        0.0        0.0        0.0   \n",
       "4        10004       -1.0       -1.0       -1.0        3.0       86.0   \n",
       "...        ...        ...        ...        ...        ...        ...   \n",
       "14995    24995       -2.0       -2.0       -2.0        3.0       -2.0   \n",
       "14996    24996        0.0        0.0        0.0        0.0        0.0   \n",
       "14997    24997       -1.0       -1.0       -1.0       16.0       -1.0   \n",
       "14998    24998        0.0        0.0        0.0        0.0        0.0   \n",
       "14999    24999        0.0        0.0        0.0        0.0        0.0   \n",
       "\n",
       "       quality_7  quality_8  quality_9  quality_10  quality_11  quality_12  \n",
       "0            0.0        0.0        0.0        24.0         0.0         0.0  \n",
       "1            0.0        0.0        0.0         0.0         0.0         0.0  \n",
       "2           96.0        0.0        2.0        95.0        -1.0         0.0  \n",
       "3            0.0        0.0        0.0         0.0         0.0         0.0  \n",
       "4          174.0        0.0        0.0        14.0        -1.0         0.0  \n",
       "...          ...        ...        ...         ...         ...         ...  \n",
       "14995        0.0        0.0        0.0        15.0        -2.0         0.0  \n",
       "14996        0.0        0.0        0.0         0.0         0.0         0.0  \n",
       "14997        0.0        0.0        0.0        91.0        -1.0         0.0  \n",
       "14998        0.0        0.0        0.0         0.0         0.0         0.0  \n",
       "14999        0.0        0.0        0.0         0.0         0.0         0.0  \n",
       "\n",
       "[15000 rows x 12 columns]"
      ]
     },
     "execution_count": 31,
     "metadata": {},
     "output_type": "execute_result"
    }
   ],
   "source": [
    "# 모든 유저의 quality를 더해주는 dataframe 생성\n",
    "\n",
    "quality_sum = pd.DataFrame({'user_id': np.arange(10000, 25000)})\n",
    "\n",
    "for i in train_quality.columns[3:]:\n",
    "    quality_group_df = train_quality.groupby('user_id')[i].sum().to_frame().reset_index()\n",
    "    quality_sum = pd.merge(quality_sum, quality_group_df, how='left', on='user_id')\n",
    "    quality_sum = quality_sum.fillna(0)\n",
    "quality_sum"
   ]
  },
  {
   "cell_type": "code",
   "execution_count": 22,
   "metadata": {
    "ExecuteTime": {
     "end_time": "2022-06-11T03:28:58.534704Z",
     "start_time": "2022-06-11T03:28:55.459984Z"
    }
   },
   "outputs": [
    {
     "data": {
      "text/plain": [
       "<AxesSubplot:>"
      ]
     },
     "execution_count": 22,
     "metadata": {},
     "output_type": "execute_result"
    },
    {
     "data": {
      "image/png": "[encoded data removed]",
      "text/plain": [
       "<Figure size 864x1080 with 4 Axes>"
      ]
     },
     "metadata": {
      "needs_background": "light"
     },
     "output_type": "display_data"
    }
   ],
   "source": [
    "plt.figure(figsize=(12,15))\n",
    "plt.subplot(2,1,1)\n",
    "sns.heatmap(abs(quality_sum.corr()), annot=True)\n",
    "\n",
    "plt.subplot(2,1,2)\n",
    "sns.heatmap(abs(train_quality.corr()), annot=True)"
   ]
  },
  {
   "cell_type": "code",
   "execution_count": 26,
   "metadata": {
    "ExecuteTime": {
     "end_time": "2022-06-11T03:46:45.557851Z",
     "start_time": "2022-06-11T03:46:45.531828Z"
    }
   },
   "outputs": [],
   "source": [
    "# 중복정보가 있는 column 제거\n",
    "def remove_collinearity(X, threshold):\n",
    "    \"\"\"\n",
    "    X : feature matrix\n",
    "    threshold : 다중공선성을 제거할 column을 고르는 기준 값. [0, 1]\n",
    "    \"\"\"\n",
    "    \n",
    "    corr = X.corr()\n",
    "    candidate_cols = []\n",
    "    \n",
    "    for x in corr.iterrows():\n",
    "        idx, row = x[0], x[1] # decoupling tuple\n",
    "        # 해당 row는 이미 처리가 되어서 볼 필요가 없다.\n",
    "        if idx in candidate_cols:\n",
    "            continue\n",
    "        #print(row[row > 0.7].index[1:])\n",
    "        candidates = row[row > threshold].index[1:]\n",
    "\n",
    "        # 자기 자신을 제외하고 threshold를 넘는 column이 있다면,\n",
    "        if len(candidates) != 0:\n",
    "            for col in candidates:\n",
    "                candidate_cols.append(col)           \n",
    "    \n",
    "    return candidate_cols"
   ]
  },
  {
   "cell_type": "code",
   "execution_count": 32,
   "metadata": {
    "ExecuteTime": {
     "end_time": "2022-06-11T03:52:57.003366Z",
     "start_time": "2022-06-11T03:52:56.978374Z"
    }
   },
   "outputs": [
    {
     "name": "stdout",
     "output_type": "stream",
     "text": [
      "['quality_2', 'quality_9', 'quality_10', 'quality_7']\n"
     ]
    },
    {
     "data": {
      "text/plain": [
       "Index(['user_id', 'quality_0', 'quality_1', 'quality_5', 'quality_6',\n",
       "       'quality_8', 'quality_11', 'quality_12'],\n",
       "      dtype='object')"
      ]
     },
     "execution_count": 32,
     "metadata": {},
     "output_type": "execute_result"
    }
   ],
   "source": [
    "correlated_features = remove_collinearity(quality_sum, 0.7)\n",
    "print(correlated_features)\n",
    "quality_sum = quality_sum.drop(columns=correlated_features)\n",
    "quality_sum.columns"
   ]
  },
  {
   "cell_type": "code",
   "execution_count": 37,
   "metadata": {
    "ExecuteTime": {
     "end_time": "2022-06-11T03:55:30.221463Z",
     "start_time": "2022-06-11T03:55:30.198471Z"
    }
   },
   "outputs": [
    {
     "data": {
      "text/plain": [
       "['quality_0',\n",
       " 'quality_1',\n",
       " 'quality_5',\n",
       " 'quality_6',\n",
       " 'quality_8',\n",
       " 'quality_11',\n",
       " 'quality_12']"
      ]
     },
     "execution_count": 37,
     "metadata": {},
     "output_type": "execute_result"
    }
   ],
   "source": [
    "list(quality_sum.columns[1:])"
   ]
  },
  {
   "cell_type": "code",
   "execution_count": 57,
   "metadata": {
    "ExecuteTime": {
     "end_time": "2022-06-11T05:29:19.381466Z",
     "start_time": "2022-06-11T05:29:19.329442Z"
    }
   },
   "outputs": [
    {
     "data": {
      "text/html": [
       "<div>\n",
       "<style scoped>\n",
       "    .dataframe tbody tr th:only-of-type {\n",
       "        vertical-align: middle;\n",
       "    }\n",
       "\n",
       "    .dataframe tbody tr th {\n",
       "        vertical-align: top;\n",
       "    }\n",
       "\n",
       "    .dataframe thead th {\n",
       "        text-align: right;\n",
       "    }\n",
       "</style>\n",
       "<table border=\"1\" class=\"dataframe\">\n",
       "  <thead>\n",
       "    <tr style=\"text-align: right;\">\n",
       "      <th></th>\n",
       "      <th>quality_0</th>\n",
       "      <th>user_id</th>\n",
       "    </tr>\n",
       "  </thead>\n",
       "  <tbody>\n",
       "    <tr>\n",
       "      <th>0</th>\n",
       "      <td>-157.0</td>\n",
       "      <td>[15475]</td>\n",
       "    </tr>\n",
       "    <tr>\n",
       "      <th>1</th>\n",
       "      <td>-153.0</td>\n",
       "      <td>[21641]</td>\n",
       "    </tr>\n",
       "    <tr>\n",
       "      <th>2</th>\n",
       "      <td>-144.0</td>\n",
       "      <td>[11252]</td>\n",
       "    </tr>\n",
       "    <tr>\n",
       "      <th>3</th>\n",
       "      <td>-142.0</td>\n",
       "      <td>[16101, 23927]</td>\n",
       "    </tr>\n",
       "    <tr>\n",
       "      <th>4</th>\n",
       "      <td>-139.0</td>\n",
       "      <td>[16147]</td>\n",
       "    </tr>\n",
       "    <tr>\n",
       "      <th>...</th>\n",
       "      <td>...</td>\n",
       "      <td>...</td>\n",
       "    </tr>\n",
       "    <tr>\n",
       "      <th>167</th>\n",
       "      <td>175306.0</td>\n",
       "      <td>[20204]</td>\n",
       "    </tr>\n",
       "    <tr>\n",
       "      <th>168</th>\n",
       "      <td>185198.0</td>\n",
       "      <td>[24489]</td>\n",
       "    </tr>\n",
       "    <tr>\n",
       "      <th>169</th>\n",
       "      <td>397420.0</td>\n",
       "      <td>[24496]</td>\n",
       "    </tr>\n",
       "    <tr>\n",
       "      <th>170</th>\n",
       "      <td>416301.0</td>\n",
       "      <td>[13186]</td>\n",
       "    </tr>\n",
       "    <tr>\n",
       "      <th>171</th>\n",
       "      <td>784967.0</td>\n",
       "      <td>[24073]</td>\n",
       "    </tr>\n",
       "  </tbody>\n",
       "</table>\n",
       "<p>172 rows × 2 columns</p>\n",
       "</div>"
      ],
      "text/plain": [
       "     quality_0         user_id\n",
       "0       -157.0         [15475]\n",
       "1       -153.0         [21641]\n",
       "2       -144.0         [11252]\n",
       "3       -142.0  [16101, 23927]\n",
       "4       -139.0         [16147]\n",
       "..         ...             ...\n",
       "167   175306.0         [20204]\n",
       "168   185198.0         [24489]\n",
       "169   397420.0         [24496]\n",
       "170   416301.0         [13186]\n",
       "171   784967.0         [24073]\n",
       "\n",
       "[172 rows x 2 columns]"
      ]
     },
     "execution_count": 57,
     "metadata": {},
     "output_type": "execute_result"
    }
   ],
   "source": [
    "quality_0_user = quality_sum.groupby('quality_0')['user_id'].unique().to_frame().reset_index()\n",
    "quality_0_user"
   ]
  },
  {
   "cell_type": "code",
   "execution_count": 58,
   "metadata": {
    "ExecuteTime": {
     "end_time": "2022-06-11T05:33:24.416692Z",
     "start_time": "2022-06-11T05:33:24.407714Z"
    }
   },
   "outputs": [],
   "source": [
    "quality_0_user['counts'] = 0\n",
    "quality_0_user['rate'] = 0"
   ]
  },
  {
   "cell_type": "code",
   "execution_count": 61,
   "metadata": {
    "ExecuteTime": {
     "end_time": "2022-06-11T05:34:44.313935Z",
     "start_time": "2022-06-11T05:34:40.398719Z"
    }
   },
   "outputs": [],
   "source": [
    "for i in range(len(quality_0_user.index)):\n",
    "    quality_0_user['counts'][i] = len(list(train_problem[train_problem['user_id'].isin(quality_0_user['user_id'][i])].user_id.unique()))"
   ]
  },
  {
   "cell_type": "code",
   "execution_count": 90,
   "metadata": {
    "ExecuteTime": {
     "end_time": "2022-06-11T05:42:23.405042Z",
     "start_time": "2022-06-11T05:42:23.368015Z"
    }
   },
   "outputs": [
    {
     "data": {
      "text/html": [
       "<div>\n",
       "<style scoped>\n",
       "    .dataframe tbody tr th:only-of-type {\n",
       "        vertical-align: middle;\n",
       "    }\n",
       "\n",
       "    .dataframe tbody tr th {\n",
       "        vertical-align: top;\n",
       "    }\n",
       "\n",
       "    .dataframe thead th {\n",
       "        text-align: right;\n",
       "    }\n",
       "</style>\n",
       "<table border=\"1\" class=\"dataframe\">\n",
       "  <thead>\n",
       "    <tr style=\"text-align: right;\">\n",
       "      <th></th>\n",
       "      <th>quality_0</th>\n",
       "      <th>user_id</th>\n",
       "      <th>counts</th>\n",
       "      <th>rate</th>\n",
       "    </tr>\n",
       "  </thead>\n",
       "  <tbody>\n",
       "    <tr>\n",
       "      <th>0</th>\n",
       "      <td>-157.0</td>\n",
       "      <td>[15475]</td>\n",
       "      <td>1</td>\n",
       "      <td>100.0</td>\n",
       "    </tr>\n",
       "    <tr>\n",
       "      <th>1</th>\n",
       "      <td>-153.0</td>\n",
       "      <td>[21641]</td>\n",
       "      <td>1</td>\n",
       "      <td>100.0</td>\n",
       "    </tr>\n",
       "    <tr>\n",
       "      <th>2</th>\n",
       "      <td>-144.0</td>\n",
       "      <td>[11252]</td>\n",
       "      <td>1</td>\n",
       "      <td>100.0</td>\n",
       "    </tr>\n",
       "    <tr>\n",
       "      <th>3</th>\n",
       "      <td>-142.0</td>\n",
       "      <td>[16101, 23927]</td>\n",
       "      <td>1</td>\n",
       "      <td>50.0</td>\n",
       "    </tr>\n",
       "    <tr>\n",
       "      <th>4</th>\n",
       "      <td>-139.0</td>\n",
       "      <td>[16147]</td>\n",
       "      <td>1</td>\n",
       "      <td>100.0</td>\n",
       "    </tr>\n",
       "    <tr>\n",
       "      <th>...</th>\n",
       "      <td>...</td>\n",
       "      <td>...</td>\n",
       "      <td>...</td>\n",
       "      <td>...</td>\n",
       "    </tr>\n",
       "    <tr>\n",
       "      <th>167</th>\n",
       "      <td>175306.0</td>\n",
       "      <td>[20204]</td>\n",
       "      <td>1</td>\n",
       "      <td>100.0</td>\n",
       "    </tr>\n",
       "    <tr>\n",
       "      <th>168</th>\n",
       "      <td>185198.0</td>\n",
       "      <td>[24489]</td>\n",
       "      <td>0</td>\n",
       "      <td>0.0</td>\n",
       "    </tr>\n",
       "    <tr>\n",
       "      <th>169</th>\n",
       "      <td>397420.0</td>\n",
       "      <td>[24496]</td>\n",
       "      <td>0</td>\n",
       "      <td>0.0</td>\n",
       "    </tr>\n",
       "    <tr>\n",
       "      <th>170</th>\n",
       "      <td>416301.0</td>\n",
       "      <td>[13186]</td>\n",
       "      <td>1</td>\n",
       "      <td>100.0</td>\n",
       "    </tr>\n",
       "    <tr>\n",
       "      <th>171</th>\n",
       "      <td>784967.0</td>\n",
       "      <td>[24073]</td>\n",
       "      <td>0</td>\n",
       "      <td>0.0</td>\n",
       "    </tr>\n",
       "  </tbody>\n",
       "</table>\n",
       "<p>172 rows × 4 columns</p>\n",
       "</div>"
      ],
      "text/plain": [
       "     quality_0         user_id  counts   rate\n",
       "0       -157.0         [15475]       1  100.0\n",
       "1       -153.0         [21641]       1  100.0\n",
       "2       -144.0         [11252]       1  100.0\n",
       "3       -142.0  [16101, 23927]       1   50.0\n",
       "4       -139.0         [16147]       1  100.0\n",
       "..         ...             ...     ...    ...\n",
       "167   175306.0         [20204]       1  100.0\n",
       "168   185198.0         [24489]       0    0.0\n",
       "169   397420.0         [24496]       0    0.0\n",
       "170   416301.0         [13186]       1  100.0\n",
       "171   784967.0         [24073]       0    0.0\n",
       "\n",
       "[172 rows x 4 columns]"
      ]
     },
     "execution_count": 90,
     "metadata": {},
     "output_type": "execute_result"
    }
   ],
   "source": [
    "quality_0_user['rate'] = quality_0_user['counts'].values / quality_0_user['user_id'].str.len().values * 100\n",
    "quality_0_user"
   ]
  },
  {
   "cell_type": "code",
   "execution_count": 114,
   "metadata": {
    "ExecuteTime": {
     "end_time": "2022-06-11T05:53:32.204301Z",
     "start_time": "2022-06-11T05:53:29.244946Z"
    }
   },
   "outputs": [
    {
     "data": {
      "image/png": "[encoded data removed]",
      "text/plain": [
       "<Figure size 864x432 with 1 Axes>"
      ]
     },
     "metadata": {
      "needs_background": "light"
     },
     "output_type": "display_data"
    }
   ],
   "source": [
    "plt.figure(figsize=(12,6))\n",
    "plt.xticks(rotation=90)\n",
    "sns.barplot(data=quality_0_user, x='quality_0', y='rate')\n",
    "plt.show()"
   ]
  },
  {
   "cell_type": "code",
   "execution_count": 115,
   "metadata": {
    "ExecuteTime": {
     "end_time": "2022-06-11T05:56:36.250955Z",
     "start_time": "2022-06-11T05:56:33.039706Z"
    }
   },
   "outputs": [],
   "source": [
    "# quality_1에서 같은 방식으로 분석\n",
    "quality_1_user = quality_sum.groupby('quality_1')['user_id'].unique().to_frame().reset_index()\n",
    "quality_1_user['counts'] = 0\n",
    "quality_1_user['rate'] = 0\n",
    "\n",
    "for i in range(len(quality_1_user.index)):\n",
    "    quality_1_user['counts'][i] = len(list(train_problem[train_problem['user_id'].isin(quality_1_user['user_id'][i])].user_id.unique()))\n",
    "    \n",
    "quality_1_user['rate'] = quality_1_user['counts'].values / quality_1_user['user_id'].str.len().values * 100"
   ]
  },
  {
   "cell_type": "code",
   "execution_count": 121,
   "metadata": {
    "ExecuteTime": {
     "end_time": "2022-06-11T05:59:22.746106Z",
     "start_time": "2022-06-11T05:59:19.971960Z"
    }
   },
   "outputs": [
    {
     "data": {
      "image/png": "[encoded data removed]",
      "text/plain": [
       "<Figure size 1080x432 with 1 Axes>"
      ]
     },
     "metadata": {
      "needs_background": "light"
     },
     "output_type": "display_data"
    }
   ],
   "source": [
    "plt.figure(figsize=(15,6))\n",
    "plt.xticks(rotation=90)\n",
    "sns.barplot(data=quality_1_user, x='quality_1', y='rate')\n",
    "plt.show()"
   ]
  },
  {
   "cell_type": "code",
   "execution_count": 118,
   "metadata": {
    "ExecuteTime": {
     "end_time": "2022-06-11T05:58:18.683602Z",
     "start_time": "2022-06-11T05:57:58.877283Z"
    }
   },
   "outputs": [],
   "source": [
    "# quality_1에서 같은 방식으로 분석\n",
    "quality_5_user = quality_sum.groupby('quality_5')['user_id'].unique().to_frame().reset_index()\n",
    "quality_5_user['counts'] = 0\n",
    "quality_5_user['rate'] = 0\n",
    "\n",
    "for i in range(len(quality_5_user.index)):\n",
    "    quality_5_user['counts'][i] = len(list(train_problem[train_problem['user_id'].isin(quality_5_user['user_id'][i])].user_id.unique()))\n",
    "    \n",
    "quality_5_user['rate'] = quality_5_user['counts'].values / quality_5_user['user_id'].str.len().values * 100"
   ]
  },
  {
   "cell_type": "code",
   "execution_count": 134,
   "metadata": {
    "ExecuteTime": {
     "end_time": "2022-06-11T06:06:39.491486Z",
     "start_time": "2022-06-11T06:06:31.440973Z"
    }
   },
   "outputs": [
    {
     "data": {
      "image/png": "[encoded data removed]",
      "text/plain": [
       "<Figure size 1080x432 with 1 Axes>"
      ]
     },
     "metadata": {
      "needs_background": "light"
     },
     "output_type": "display_data"
    }
   ],
   "source": [
    "plt.figure(figsize=(15,6))\n",
    "plt.xticks(rotation=90)\n",
    "sns.barplot(data=quality_5_user[quality_5_user.quality_5 < 1000], x='quality_5', y='rate')\n",
    "plt.show()"
   ]
  },
  {
   "cell_type": "code",
   "execution_count": 135,
   "metadata": {
    "ExecuteTime": {
     "end_time": "2022-06-11T06:07:54.774853Z",
     "start_time": "2022-06-11T06:07:43.951242Z"
    }
   },
   "outputs": [],
   "source": [
    "# quality_1에서 같은 방식으로 분석\n",
    "quality_6_user = quality_sum.groupby('quality_6')['user_id'].unique().to_frame().reset_index()\n",
    "quality_6_user['counts'] = 0\n",
    "quality_6_user['rate'] = 0\n",
    "\n",
    "for i in range(len(quality_6_user.index)):\n",
    "    quality_6_user['counts'][i] = len(list(train_problem[train_problem['user_id'].isin(quality_6_user['user_id'][i])].user_id.unique()))\n",
    "    \n",
    "quality_6_user['rate'] = quality_6_user['counts'].values / quality_6_user['user_id'].str.len().values * 100"
   ]
  },
  {
   "cell_type": "code",
   "execution_count": 136,
   "metadata": {
    "ExecuteTime": {
     "end_time": "2022-06-11T06:08:17.915776Z",
     "start_time": "2022-06-11T06:08:09.377714Z"
    }
   },
   "outputs": [
    {
     "data": {
      "image/png": "[encoded data removed]",
      "text/plain": [
       "<Figure size 1080x432 with 1 Axes>"
      ]
     },
     "metadata": {
      "needs_background": "light"
     },
     "output_type": "display_data"
    }
   ],
   "source": [
    "plt.figure(figsize=(15,6))\n",
    "plt.xticks(rotation=90)\n",
    "sns.barplot(data=quality_6_user, x='quality_6', y='rate')\n",
    "plt.show()"
   ]
  },
  {
   "cell_type": "code",
   "execution_count": 137,
   "metadata": {
    "ExecuteTime": {
     "end_time": "2022-06-11T06:13:42.215674Z",
     "start_time": "2022-06-11T06:13:38.982565Z"
    }
   },
   "outputs": [],
   "source": [
    "# quality_8에서 같은 방식으로 분석\n",
    "quality_8_user = quality_sum.groupby('quality_8')['user_id'].unique().to_frame().reset_index()\n",
    "quality_8_user['counts'] = 0\n",
    "quality_8_user['rate'] = 0\n",
    "\n",
    "for i in range(len(quality_8_user.index)):\n",
    "    quality_8_user['counts'][i] = len(list(train_problem[train_problem['user_id'].isin(quality_8_user['user_id'][i])].user_id.unique()))\n",
    "    \n",
    "quality_8_user['rate'] = quality_8_user['counts'].values / quality_8_user['user_id'].str.len().values * 100"
   ]
  },
  {
   "cell_type": "code",
   "execution_count": 138,
   "metadata": {
    "ExecuteTime": {
     "end_time": "2022-06-11T06:13:56.364214Z",
     "start_time": "2022-06-11T06:13:52.854686Z"
    }
   },
   "outputs": [
    {
     "data": {
      "image/png": "[encoded data removed]",
      "text/plain": [
       "<Figure size 1080x432 with 1 Axes>"
      ]
     },
     "metadata": {
      "needs_background": "light"
     },
     "output_type": "display_data"
    }
   ],
   "source": [
    "plt.figure(figsize=(15,6))\n",
    "plt.xticks(rotation=90)\n",
    "sns.barplot(data=quality_8_user, x='quality_8', y='rate')\n",
    "plt.show()"
   ]
  },
  {
   "cell_type": "code",
   "execution_count": 139,
   "metadata": {
    "ExecuteTime": {
     "end_time": "2022-06-11T06:15:23.780674Z",
     "start_time": "2022-06-11T06:15:18.818456Z"
    }
   },
   "outputs": [
    {
     "data": {
      "image/png": "[encoded data removed]",
      "text/plain": [
       "<Figure size 1080x432 with 1 Axes>"
      ]
     },
     "metadata": {
      "needs_background": "light"
     },
     "output_type": "display_data"
    }
   ],
   "source": [
    "# quality_8에서 같은 방식으로 분석\n",
    "quality_11_user = quality_sum.groupby('quality_11')['user_id'].unique().to_frame().reset_index()\n",
    "quality_11_user['counts'] = 0\n",
    "quality_11_user['rate'] = 0\n",
    "\n",
    "for i in range(len(quality_11_user.index)):\n",
    "    quality_11_user['counts'][i] = len(list(train_problem[train_problem['user_id'].isin(quality_11_user['user_id'][i])].user_id.unique()))\n",
    "    \n",
    "quality_11_user['rate'] = quality_11_user['counts'].values / quality_11_user['user_id'].str.len().values * 100\n",
    "\n",
    "plt.figure(figsize=(15,6))\n",
    "plt.xticks(rotation=90)\n",
    "sns.barplot(data=quality_11_user, x='quality_11', y='rate')\n",
    "plt.show()"
   ]
  },
  {
   "cell_type": "code",
   "execution_count": 140,
   "metadata": {
    "ExecuteTime": {
     "end_time": "2022-06-11T06:16:12.697988Z",
     "start_time": "2022-06-11T06:16:09.181720Z"
    }
   },
   "outputs": [
    {
     "data": {
      "image/png": "[encoded data removed]",
      "text/plain": [
       "<Figure size 1080x432 with 1 Axes>"
      ]
     },
     "metadata": {
      "needs_background": "light"
     },
     "output_type": "display_data"
    }
   ],
   "source": [
    "# quality_8에서 같은 방식으로 분석\n",
    "quality_12_user = quality_sum.groupby('quality_12')['user_id'].unique().to_frame().reset_index()\n",
    "quality_12_user['counts'] = 0\n",
    "quality_12_user['rate'] = 0\n",
    "\n",
    "for i in range(len(quality_12_user.index)):\n",
    "    quality_12_user['counts'][i] = len(list(train_problem[train_problem['user_id'].isin(quality_12_user['user_id'][i])].user_id.unique()))\n",
    "    \n",
    "quality_12_user['rate'] = quality_12_user['counts'].values / quality_12_user['user_id'].str.len().values * 100\n",
    "\n",
    "plt.figure(figsize=(15,6))\n",
    "plt.xticks(rotation=90)\n",
    "sns.barplot(data=quality_12_user, x='quality_12', y='rate')\n",
    "plt.show()"
   ]
  }
 ],
 "metadata": {
  "interpreter": {
   "hash": "d03f6901b6a42dbe3cd1c26aed86af13911a401140e63ddc3b23a4d593814a4d"
  },
  "kernelspec": {
   "display_name": "Python 3 (ipykernel)",
   "language": "python",
   "name": "python3"
  },
  "language_info": {
   "codemirror_mode": {
    "name": "ipython",
    "version": 3
   },
   "file_extension": ".py",
   "mimetype": "text/x-python",
   "name": "python",
   "nbconvert_exporter": "python",
   "pygments_lexer": "ipython3",
   "version": "3.8.13"
  },
  "toc": {
   "base_numbering": 1,
   "nav_menu": {},
   "number_sections": true,
   "sideBar": true,
   "skip_h1_title": false,
   "title_cell": "Table of Contents",
   "title_sidebar": "Contents",
   "toc_cell": false,
   "toc_position": {
    "height": "calc(100% - 180px)",
    "left": "10px",
    "top": "150px",
    "width": "260px"
   },
   "toc_section_display": true,
   "toc_window_display": false
  },
  "varInspector": {
   "cols": {
    "lenName": 16,
    "lenType": 16,
    "lenVar": 40
   },
   "kernels_config": {
    "python": {
     "delete_cmd_postfix": "",
     "delete_cmd_prefix": "del ",
     "library": "var_list.py",
     "varRefreshCmd": "print(var_dic_list())"
    },
    "r": {
     "delete_cmd_postfix": ") ",
     "delete_cmd_prefix": "rm(",
     "library": "var_list.r",
     "varRefreshCmd": "cat(var_dic_list()) "
    }
   },
   "types_to_exclude": [
    "module",
    "function",
    "builtin_function_or_method",
    "instance",
    "_Feature"
   ],
   "window_display": false
  }
 },
 "nbformat": 4,
 "nbformat_minor": 4
}
