{
 "cells": [
  {
   "cell_type": "markdown",
   "metadata": {},
   "source": [
    "# 데이터 불러오기"
   ]
  },
  {
   "cell_type": "code",
   "execution_count": 8,
   "metadata": {
    "ExecuteTime": {
     "end_time": "2022-06-09T13:48:20.657257Z",
     "start_time": "2022-06-09T13:48:20.653364Z"
    }
   },
   "outputs": [],
   "source": [
    "import pandas as pd\n",
    "import numpy as np\n",
    "import matplotlib.pyplot as plt\n",
    "import seaborn as sns"
   ]
  },
  {
   "cell_type": "code",
   "execution_count": 9,
   "metadata": {
    "ExecuteTime": {
     "end_time": "2022-06-09T13:48:52.955323Z",
     "start_time": "2022-06-09T13:48:20.658231Z"
    }
   },
   "outputs": [],
   "source": [
    "base_path = './preprocessed data/'\n",
    "\n",
    "train_err = pd.read_csv(base_path + 'new_train_err.csv', parse_dates=['time'])\n",
    "train_quality = pd.read_csv(base_path + 'new_train_quality.csv', parse_dates=['time'])\n",
    "train_problem = pd.read_csv(base_path + 'new_train_problem.csv', parse_dates=['time'])\n",
    "test_err = pd.read_csv(base_path + 'new_test_err.csv', parse_dates=['time'])\n",
    "test_quality = pd.read_csv(base_path + 'new_test_quality.csv', parse_dates=['time'])\n",
    "submission = pd.read_csv(\"C:/Users/gmlkd/data/시스템 품질 변화로 인한 사용자 불편 예지 AI 경진대회_data/sample_submission.csv\")"
   ]
  },
  {
   "cell_type": "markdown",
   "metadata": {},
   "source": [
    "## 데이터 분석"
   ]
  },
  {
   "cell_type": "code",
   "execution_count": 10,
   "metadata": {
    "ExecuteTime": {
     "end_time": "2022-06-09T13:48:52.964085Z",
     "start_time": "2022-06-09T13:48:52.956297Z"
    },
    "scrolled": true
   },
   "outputs": [
    {
     "data": {
      "text/html": [
       "<div>\n",
       "<style scoped>\n",
       "    .dataframe tbody tr th:only-of-type {\n",
       "        vertical-align: middle;\n",
       "    }\n",
       "\n",
       "    .dataframe tbody tr th {\n",
       "        vertical-align: top;\n",
       "    }\n",
       "\n",
       "    .dataframe thead th {\n",
       "        text-align: right;\n",
       "    }\n",
       "</style>\n",
       "<table border=\"1\" class=\"dataframe\">\n",
       "  <thead>\n",
       "    <tr style=\"text-align: right;\">\n",
       "      <th></th>\n",
       "      <th>user_id</th>\n",
       "      <th>time</th>\n",
       "      <th>model_nm</th>\n",
       "      <th>fwver</th>\n",
       "      <th>errtype</th>\n",
       "      <th>errcode</th>\n",
       "    </tr>\n",
       "  </thead>\n",
       "  <tbody>\n",
       "    <tr>\n",
       "      <th>0</th>\n",
       "      <td>10000</td>\n",
       "      <td>2020-11-01 02:56:16</td>\n",
       "      <td>model_3</td>\n",
       "      <td>05.15.2138</td>\n",
       "      <td>15</td>\n",
       "      <td>1</td>\n",
       "    </tr>\n",
       "    <tr>\n",
       "      <th>1</th>\n",
       "      <td>10000</td>\n",
       "      <td>2020-11-01 03:03:09</td>\n",
       "      <td>model_3</td>\n",
       "      <td>05.15.2138</td>\n",
       "      <td>12</td>\n",
       "      <td>1</td>\n",
       "    </tr>\n",
       "    <tr>\n",
       "      <th>2</th>\n",
       "      <td>10000</td>\n",
       "      <td>2020-11-01 03:03:09</td>\n",
       "      <td>model_3</td>\n",
       "      <td>05.15.2138</td>\n",
       "      <td>11</td>\n",
       "      <td>1</td>\n",
       "    </tr>\n",
       "    <tr>\n",
       "      <th>3</th>\n",
       "      <td>10000</td>\n",
       "      <td>2020-11-01 05:05:14</td>\n",
       "      <td>model_3</td>\n",
       "      <td>05.15.2138</td>\n",
       "      <td>16</td>\n",
       "      <td>1</td>\n",
       "    </tr>\n",
       "    <tr>\n",
       "      <th>4</th>\n",
       "      <td>10000</td>\n",
       "      <td>2020-11-01 05:05:15</td>\n",
       "      <td>model_3</td>\n",
       "      <td>05.15.2138</td>\n",
       "      <td>4</td>\n",
       "      <td>0</td>\n",
       "    </tr>\n",
       "  </tbody>\n",
       "</table>\n",
       "</div>"
      ],
      "text/plain": [
       "   user_id                time model_nm       fwver  errtype errcode\n",
       "0    10000 2020-11-01 02:56:16  model_3  05.15.2138       15       1\n",
       "1    10000 2020-11-01 03:03:09  model_3  05.15.2138       12       1\n",
       "2    10000 2020-11-01 03:03:09  model_3  05.15.2138       11       1\n",
       "3    10000 2020-11-01 05:05:14  model_3  05.15.2138       16       1\n",
       "4    10000 2020-11-01 05:05:15  model_3  05.15.2138        4       0"
      ]
     },
     "execution_count": 10,
     "metadata": {},
     "output_type": "execute_result"
    }
   ],
   "source": [
    "train_err.head()"
   ]
  },
  {
   "cell_type": "markdown",
   "metadata": {},
   "source": [
    "### 시간대별 분석"
   ]
  },
  {
   "cell_type": "markdown",
   "metadata": {},
   "source": [
    "#### train_err"
   ]
  },
  {
   "cell_type": "code",
   "execution_count": 11,
   "metadata": {
    "ExecuteTime": {
     "end_time": "2022-06-09T13:48:53.390403Z",
     "start_time": "2022-06-09T13:48:52.966031Z"
    },
    "scrolled": true
   },
   "outputs": [
    {
     "data": {
      "text/plain": [
       "21    562283\n",
       "22    556151\n",
       "15    554778\n",
       "1     553561\n",
       "7     551177\n",
       "8     541958\n",
       "28    527480\n",
       "29    525630\n",
       "14    520291\n",
       "19    518417\n",
       "6     516747\n",
       "2     513572\n",
       "23    513511\n",
       "24    509559\n",
       "9     507302\n",
       "18    506377\n",
       "5     502597\n",
       "20    501508\n",
       "26    499517\n",
       "12    497408\n",
       "10    497012\n",
       "3     496842\n",
       "27    492887\n",
       "16    492638\n",
       "25    492618\n",
       "4     489363\n",
       "11    488927\n",
       "30    484872\n",
       "17    483993\n",
       "13    469020\n",
       "31         5\n",
       "Name: time, dtype: int64"
      ]
     },
     "execution_count": 11,
     "metadata": {},
     "output_type": "execute_result"
    }
   ],
   "source": [
    "# 일별 에러 발생\n",
    "\n",
    "# 비교적 주말에 에러가 많이 발생했다.\n",
    "train_err.time.dt.day.value_counts()"
   ]
  },
  {
   "cell_type": "code",
   "execution_count": 12,
   "metadata": {
    "ExecuteTime": {
     "end_time": "2022-06-09T13:48:53.790993Z",
     "start_time": "2022-06-09T13:48:53.391377Z"
    }
   },
   "outputs": [
    {
     "data": {
      "text/html": [
       "<div>\n",
       "<style scoped>\n",
       "    .dataframe tbody tr th:only-of-type {\n",
       "        vertical-align: middle;\n",
       "    }\n",
       "\n",
       "    .dataframe tbody tr th {\n",
       "        vertical-align: top;\n",
       "    }\n",
       "\n",
       "    .dataframe thead th {\n",
       "        text-align: right;\n",
       "    }\n",
       "</style>\n",
       "<table border=\"1\" class=\"dataframe\">\n",
       "  <thead>\n",
       "    <tr style=\"text-align: right;\">\n",
       "      <th></th>\n",
       "      <th>user_id</th>\n",
       "      <th>time</th>\n",
       "      <th>model_nm</th>\n",
       "      <th>fwver</th>\n",
       "      <th>errtype</th>\n",
       "      <th>errcode</th>\n",
       "    </tr>\n",
       "  </thead>\n",
       "  <tbody>\n",
       "    <tr>\n",
       "      <th>5892567</th>\n",
       "      <td>15801</td>\n",
       "      <td>2020-10-31 23:59:59</td>\n",
       "      <td>model_0</td>\n",
       "      <td>04.22.1750</td>\n",
       "      <td>16</td>\n",
       "      <td>1</td>\n",
       "    </tr>\n",
       "    <tr>\n",
       "      <th>8533535</th>\n",
       "      <td>18418</td>\n",
       "      <td>2020-10-31 23:59:59</td>\n",
       "      <td>model_0</td>\n",
       "      <td>04.22.1750</td>\n",
       "      <td>26</td>\n",
       "      <td>1</td>\n",
       "    </tr>\n",
       "    <tr>\n",
       "      <th>11304925</th>\n",
       "      <td>20974</td>\n",
       "      <td>2020-10-31 23:59:59</td>\n",
       "      <td>model_0</td>\n",
       "      <td>04.22.1750</td>\n",
       "      <td>26</td>\n",
       "      <td>1</td>\n",
       "    </tr>\n",
       "    <tr>\n",
       "      <th>12545032</th>\n",
       "      <td>22249</td>\n",
       "      <td>2020-10-31 23:59:59</td>\n",
       "      <td>model_0</td>\n",
       "      <td>04.22.1750</td>\n",
       "      <td>26</td>\n",
       "      <td>1</td>\n",
       "    </tr>\n",
       "    <tr>\n",
       "      <th>12698894</th>\n",
       "      <td>22385</td>\n",
       "      <td>2020-10-31 23:59:59</td>\n",
       "      <td>model_2</td>\n",
       "      <td>04.33.1185</td>\n",
       "      <td>26</td>\n",
       "      <td>1</td>\n",
       "    </tr>\n",
       "  </tbody>\n",
       "</table>\n",
       "</div>"
      ],
      "text/plain": [
       "          user_id                time model_nm       fwver  errtype errcode\n",
       "5892567     15801 2020-10-31 23:59:59  model_0  04.22.1750       16       1\n",
       "8533535     18418 2020-10-31 23:59:59  model_0  04.22.1750       26       1\n",
       "11304925    20974 2020-10-31 23:59:59  model_0  04.22.1750       26       1\n",
       "12545032    22249 2020-10-31 23:59:59  model_0  04.22.1750       26       1\n",
       "12698894    22385 2020-10-31 23:59:59  model_2  04.33.1185       26       1"
      ]
     },
     "execution_count": 12,
     "metadata": {},
     "output_type": "execute_result"
    }
   ],
   "source": [
    "# 11월 1일로 들어가도 될 것같다.\n",
    "train_err[train_err.time.dt.day == 31]"
   ]
  },
  {
   "cell_type": "code",
   "execution_count": 13,
   "metadata": {
    "ExecuteTime": {
     "end_time": "2022-06-09T13:48:54.934732Z",
     "start_time": "2022-06-09T13:48:53.791965Z"
    }
   },
   "outputs": [
    {
     "data": {
      "text/plain": [
       "<AxesSubplot:xlabel='time', ylabel='Count'>"
      ]
     },
     "execution_count": 13,
     "metadata": {},
     "output_type": "execute_result"
    },
    {
     "data": {
      "image/png": "[encoded data removed]",
      "text/plain": [
       "<Figure size 864x432 with 1 Axes>"
      ]
     },
     "metadata": {
      "needs_background": "light"
     },
     "output_type": "display_data"
    }
   ],
   "source": [
    "plt.figure(figsize=(12,6))\n",
    "sns.histplot(data=train_err, x=train_err.time.dt.day, bins=31)"
   ]
  },
  {
   "cell_type": "code",
   "execution_count": 14,
   "metadata": {
    "ExecuteTime": {
     "end_time": "2022-06-09T13:48:55.355764Z",
     "start_time": "2022-06-09T13:48:54.935704Z"
    },
    "scrolled": true
   },
   "outputs": [
    {
     "data": {
      "text/plain": [
       "19    824162\n",
       "20    792258\n",
       "21    791873\n",
       "18    783808\n",
       "22    729112\n",
       "17    713929\n",
       "8     677857\n",
       "0     658982\n",
       "2     648567\n",
       "16    647170\n",
       "3     645580\n",
       "4     643244\n",
       "9     637959\n",
       "23    622782\n",
       "7     618374\n",
       "13    603780\n",
       "15    600263\n",
       "12    592900\n",
       "10    592178\n",
       "14    581045\n",
       "11    575142\n",
       "5     519059\n",
       "6     444071\n",
       "1     423906\n",
       "Name: time, dtype: int64"
      ]
     },
     "execution_count": 14,
     "metadata": {},
     "output_type": "execute_result"
    }
   ],
   "source": [
    "# 시간대별 에러발생\n",
    "train_err.time.dt.hour.value_counts()"
   ]
  },
  {
   "cell_type": "code",
   "execution_count": 15,
   "metadata": {
    "ExecuteTime": {
     "end_time": "2022-06-09T13:48:56.425290Z",
     "start_time": "2022-06-09T13:48:55.356738Z"
    }
   },
   "outputs": [
    {
     "data": {
      "text/plain": [
       "<AxesSubplot:xlabel='time', ylabel='Count'>"
      ]
     },
     "execution_count": 15,
     "metadata": {},
     "output_type": "execute_result"
    },
    {
     "data": {
      "image/png": "[encoded data removed]",
      "text/plain": [
       "<Figure size 864x432 with 1 Axes>"
      ]
     },
     "metadata": {
      "needs_background": "light"
     },
     "output_type": "display_data"
    }
   ],
   "source": [
    "plt.figure(figsize=(12,6))\n",
    "sns.histplot(data=train_err, x=train_err.time.dt.hour, bins=24)"
   ]
  },
  {
   "cell_type": "markdown",
   "metadata": {},
   "source": [
    "#### train_problem "
   ]
  },
  {
   "cell_type": "code",
   "execution_count": 16,
   "metadata": {
    "ExecuteTime": {
     "end_time": "2022-06-09T13:48:56.431732Z",
     "start_time": "2022-06-09T13:48:56.426263Z"
    }
   },
   "outputs": [
    {
     "data": {
      "text/plain": [
       "0    1332\n",
       "2     868\n",
       "4     853\n",
       "1     809\n",
       "3     809\n",
       "5     431\n",
       "6     327\n",
       "Name: time, dtype: int64"
      ]
     },
     "execution_count": 16,
     "metadata": {},
     "output_type": "execute_result"
    }
   ],
   "source": [
    "# 요일별 불만 제기 수\n",
    "\n",
    "train_problem.time.dt.day_of_week.value_counts()"
   ]
  },
  {
   "cell_type": "code",
   "execution_count": 17,
   "metadata": {
    "ExecuteTime": {
     "end_time": "2022-06-09T13:48:56.508629Z",
     "start_time": "2022-06-09T13:48:56.432706Z"
    }
   },
   "outputs": [
    {
     "data": {
      "text/plain": [
       "<AxesSubplot:xlabel='time', ylabel='Count'>"
      ]
     },
     "execution_count": 17,
     "metadata": {},
     "output_type": "execute_result"
    },
    {
     "data": {
      "image/png": "[encoded data removed]",
      "text/plain": [
       "<Figure size 864x432 with 1 Axes>"
      ]
     },
     "metadata": {
      "needs_background": "light"
     },
     "output_type": "display_data"
    }
   ],
   "source": [
    "# 주말에 에러가 많이 발생하지만 불만 제기는 월요일이 가장 많다.\n",
    "# 주말에는 고객센터가 문을 열지 않을 것이라 생각했을 수 있다.\n",
    "\n",
    "plt.figure(figsize=(12,6))\n",
    "sns.histplot(data=train_problem, x=train_problem.time.dt.day_of_week, bins=7)"
   ]
  },
  {
   "cell_type": "code",
   "execution_count": 18,
   "metadata": {
    "ExecuteTime": {
     "end_time": "2022-06-09T13:48:56.514466Z",
     "start_time": "2022-06-09T13:48:56.509599Z"
    },
    "scrolled": true
   },
   "outputs": [
    {
     "data": {
      "text/plain": [
       "12    627\n",
       "11    600\n",
       "13    518\n",
       "19    507\n",
       "18    492\n",
       "15    489\n",
       "16    460\n",
       "17    432\n",
       "22    233\n",
       "20    233\n",
       "14    228\n",
       "21    204\n",
       "23    175\n",
       "0     108\n",
       "1      67\n",
       "2      15\n",
       "10     14\n",
       "9       8\n",
       "5       5\n",
       "8       5\n",
       "3       4\n",
       "4       3\n",
       "7       1\n",
       "6       1\n",
       "Name: time, dtype: int64"
      ]
     },
     "execution_count": 18,
     "metadata": {},
     "output_type": "execute_result"
    }
   ],
   "source": [
    "# 시간대별 불만 제기 수\n",
    "train_problem.time.dt.hour.value_counts()"
   ]
  },
  {
   "cell_type": "code",
   "execution_count": 19,
   "metadata": {
    "ExecuteTime": {
     "end_time": "2022-06-09T13:48:56.599145Z",
     "start_time": "2022-06-09T13:48:56.515439Z"
    }
   },
   "outputs": [
    {
     "data": {
      "text/plain": [
       "<AxesSubplot:xlabel='time', ylabel='Count'>"
      ]
     },
     "execution_count": 19,
     "metadata": {},
     "output_type": "execute_result"
    },
    {
     "data": {
      "image/png": "[encoded data removed]",
      "text/plain": [
       "<Figure size 864x432 with 1 Axes>"
      ]
     },
     "metadata": {
      "needs_background": "light"
     },
     "output_type": "display_data"
    }
   ],
   "source": [
    "plt.figure(figsize=(12,6))\n",
    "sns.histplot(data=train_problem, x=train_problem.time.dt.hour, bins=24)"
   ]
  },
  {
   "cell_type": "markdown",
   "metadata": {},
   "source": [
    "- 에러가 발생한 요일, 시간대는 큰 차이가 나지 않는다.\n",
    "- 하지만 불만을 제기한 요일과 시간대는 꽤 유의미한 차이가 난다.\n",
    "- 따라서 에러가 발생한 요일, 시간은 trian set에 넣어도 될 것 같다."
   ]
  },
  {
   "cell_type": "markdown",
   "metadata": {},
   "source": [
    "### model_nm 분석"
   ]
  },
  {
   "cell_type": "markdown",
   "metadata": {},
   "source": [
    "#### model_nm에 따른 불만율"
   ]
  },
  {
   "cell_type": "code",
   "execution_count": 20,
   "metadata": {
    "ExecuteTime": {
     "end_time": "2022-06-09T13:48:57.066348Z",
     "start_time": "2022-06-09T13:48:56.600119Z"
    }
   },
   "outputs": [
    {
     "data": {
      "text/plain": [
       "array(['model_3', 'model_2', 'model_0', 'model_1', 'model_7', 'model_4',\n",
       "       'model_5', 'model_8', 'model_6'], dtype=object)"
      ]
     },
     "execution_count": 20,
     "metadata": {},
     "output_type": "execute_result"
    }
   ],
   "source": [
    "train_err.model_nm.unique()"
   ]
  },
  {
   "cell_type": "code",
   "execution_count": 21,
   "metadata": {
    "ExecuteTime": {
     "end_time": "2022-06-09T13:48:57.071215Z",
     "start_time": "2022-06-09T13:48:57.067322Z"
    },
    "scrolled": false
   },
   "outputs": [],
   "source": [
    "problem_id_list = list(train_problem.user_id)"
   ]
  },
  {
   "cell_type": "code",
   "execution_count": 22,
   "metadata": {
    "ExecuteTime": {
     "end_time": "2022-06-09T13:48:57.079001Z",
     "start_time": "2022-06-09T13:48:57.072188Z"
    },
    "scrolled": true
   },
   "outputs": [
    {
     "data": {
      "text/plain": [
       "5429"
      ]
     },
     "execution_count": 22,
     "metadata": {},
     "output_type": "execute_result"
    }
   ],
   "source": [
    "len(problem_id_list)"
   ]
  },
  {
   "cell_type": "code",
   "execution_count": 23,
   "metadata": {
    "ExecuteTime": {
     "end_time": "2022-06-09T13:48:57.883977Z",
     "start_time": "2022-06-09T13:48:57.079975Z"
    },
    "scrolled": true
   },
   "outputs": [
    {
     "data": {
      "text/html": [
       "<div>\n",
       "<style scoped>\n",
       "    .dataframe tbody tr th:only-of-type {\n",
       "        vertical-align: middle;\n",
       "    }\n",
       "\n",
       "    .dataframe tbody tr th {\n",
       "        vertical-align: top;\n",
       "    }\n",
       "\n",
       "    .dataframe thead th {\n",
       "        text-align: right;\n",
       "    }\n",
       "</style>\n",
       "<table border=\"1\" class=\"dataframe\">\n",
       "  <thead>\n",
       "    <tr style=\"text-align: right;\">\n",
       "      <th></th>\n",
       "      <th>user_id</th>\n",
       "    </tr>\n",
       "    <tr>\n",
       "      <th>model_nm</th>\n",
       "      <th></th>\n",
       "    </tr>\n",
       "  </thead>\n",
       "  <tbody>\n",
       "    <tr>\n",
       "      <th>model_0</th>\n",
       "      <td>[10004, 10005, 10007, 10008, 10011, 10013, 100...</td>\n",
       "    </tr>\n",
       "    <tr>\n",
       "      <th>model_1</th>\n",
       "      <td>[10006, 10009, 10010, 10021, 10023, 10031, 100...</td>\n",
       "    </tr>\n",
       "    <tr>\n",
       "      <th>model_2</th>\n",
       "      <td>[10001, 10003, 10006, 10012, 10014, 10017, 100...</td>\n",
       "    </tr>\n",
       "    <tr>\n",
       "      <th>model_3</th>\n",
       "      <td>[10000, 10002, 10016, 10018, 10019, 10026, 100...</td>\n",
       "    </tr>\n",
       "    <tr>\n",
       "      <th>model_4</th>\n",
       "      <td>[10080, 10092, 10167, 10168, 10171, 10206, 102...</td>\n",
       "    </tr>\n",
       "    <tr>\n",
       "      <th>model_5</th>\n",
       "      <td>[10110, 10408, 10411, 10600, 10719, 11058, 119...</td>\n",
       "    </tr>\n",
       "    <tr>\n",
       "      <th>model_6</th>\n",
       "      <td>[10495, 10693, 11157, 11183, 11206, 11319, 114...</td>\n",
       "    </tr>\n",
       "    <tr>\n",
       "      <th>model_7</th>\n",
       "      <td>[10075, 10244, 10556, 10694, 10744, 10922, 111...</td>\n",
       "    </tr>\n",
       "    <tr>\n",
       "      <th>model_8</th>\n",
       "      <td>[10202, 10286, 10458, 10690, 11086, 11416, 114...</td>\n",
       "    </tr>\n",
       "  </tbody>\n",
       "</table>\n",
       "</div>"
      ],
      "text/plain": [
       "                                                    user_id\n",
       "model_nm                                                   \n",
       "model_0   [10004, 10005, 10007, 10008, 10011, 10013, 100...\n",
       "model_1   [10006, 10009, 10010, 10021, 10023, 10031, 100...\n",
       "model_2   [10001, 10003, 10006, 10012, 10014, 10017, 100...\n",
       "model_3   [10000, 10002, 10016, 10018, 10019, 10026, 100...\n",
       "model_4   [10080, 10092, 10167, 10168, 10171, 10206, 102...\n",
       "model_5   [10110, 10408, 10411, 10600, 10719, 11058, 119...\n",
       "model_6   [10495, 10693, 11157, 11183, 11206, 11319, 114...\n",
       "model_7   [10075, 10244, 10556, 10694, 10744, 10922, 111...\n",
       "model_8   [10202, 10286, 10458, 10690, 11086, 11416, 114..."
      ]
     },
     "execution_count": 23,
     "metadata": {},
     "output_type": "execute_result"
    }
   ],
   "source": [
    "id_model = train_err.groupby('model_nm')['user_id'].unique().to_frame()\n",
    "id_model"
   ]
  },
  {
   "cell_type": "code",
   "execution_count": 24,
   "metadata": {
    "ExecuteTime": {
     "end_time": "2022-06-09T13:48:57.887870Z",
     "start_time": "2022-06-09T13:48:57.884950Z"
    }
   },
   "outputs": [],
   "source": [
    "id_model['count'] = 0"
   ]
  },
  {
   "cell_type": "code",
   "execution_count": 25,
   "metadata": {
    "ExecuteTime": {
     "end_time": "2022-06-09T13:48:57.897135Z",
     "start_time": "2022-06-09T13:48:57.887870Z"
    }
   },
   "outputs": [
    {
     "data": {
      "text/plain": [
       "user_id    [10004, 10005, 10007, 10008, 10011, 10013, 100...\n",
       "count                                                      0\n",
       "Name: model_0, dtype: object"
      ]
     },
     "execution_count": 25,
     "metadata": {},
     "output_type": "execute_result"
    }
   ],
   "source": [
    "id_model.iloc[0]"
   ]
  },
  {
   "cell_type": "code",
   "execution_count": 26,
   "metadata": {
    "ExecuteTime": {
     "end_time": "2022-06-09T13:48:58.861552Z",
     "start_time": "2022-06-09T13:48:57.898108Z"
    }
   },
   "outputs": [],
   "source": [
    "for i in range(len(id_model.index)):\n",
    "    for j in problem_id_list:\n",
    "        if j in id_model.iloc[i, 0]:\n",
    "            id_model.iloc[i, 1] += 1"
   ]
  },
  {
   "cell_type": "code",
   "execution_count": 27,
   "metadata": {
    "ExecuteTime": {
     "end_time": "2022-06-09T13:48:58.872256Z",
     "start_time": "2022-06-09T13:48:58.862523Z"
    }
   },
   "outputs": [
    {
     "data": {
      "text/html": [
       "<div>\n",
       "<style scoped>\n",
       "    .dataframe tbody tr th:only-of-type {\n",
       "        vertical-align: middle;\n",
       "    }\n",
       "\n",
       "    .dataframe tbody tr th {\n",
       "        vertical-align: top;\n",
       "    }\n",
       "\n",
       "    .dataframe thead th {\n",
       "        text-align: right;\n",
       "    }\n",
       "</style>\n",
       "<table border=\"1\" class=\"dataframe\">\n",
       "  <thead>\n",
       "    <tr style=\"text-align: right;\">\n",
       "      <th></th>\n",
       "      <th>user_id</th>\n",
       "      <th>count</th>\n",
       "    </tr>\n",
       "    <tr>\n",
       "      <th>model_nm</th>\n",
       "      <th></th>\n",
       "      <th></th>\n",
       "    </tr>\n",
       "  </thead>\n",
       "  <tbody>\n",
       "    <tr>\n",
       "      <th>model_0</th>\n",
       "      <td>[10004, 10005, 10007, 10008, 10011, 10013, 100...</td>\n",
       "      <td>1769</td>\n",
       "    </tr>\n",
       "    <tr>\n",
       "      <th>model_1</th>\n",
       "      <td>[10006, 10009, 10010, 10021, 10023, 10031, 100...</td>\n",
       "      <td>1426</td>\n",
       "    </tr>\n",
       "    <tr>\n",
       "      <th>model_2</th>\n",
       "      <td>[10001, 10003, 10006, 10012, 10014, 10017, 100...</td>\n",
       "      <td>1918</td>\n",
       "    </tr>\n",
       "    <tr>\n",
       "      <th>model_3</th>\n",
       "      <td>[10000, 10002, 10016, 10018, 10019, 10026, 100...</td>\n",
       "      <td>789</td>\n",
       "    </tr>\n",
       "    <tr>\n",
       "      <th>model_4</th>\n",
       "      <td>[10080, 10092, 10167, 10168, 10171, 10206, 102...</td>\n",
       "      <td>153</td>\n",
       "    </tr>\n",
       "    <tr>\n",
       "      <th>model_5</th>\n",
       "      <td>[10110, 10408, 10411, 10600, 10719, 11058, 119...</td>\n",
       "      <td>23</td>\n",
       "    </tr>\n",
       "    <tr>\n",
       "      <th>model_6</th>\n",
       "      <td>[10495, 10693, 11157, 11183, 11206, 11319, 114...</td>\n",
       "      <td>10</td>\n",
       "    </tr>\n",
       "    <tr>\n",
       "      <th>model_7</th>\n",
       "      <td>[10075, 10244, 10556, 10694, 10744, 10922, 111...</td>\n",
       "      <td>36</td>\n",
       "    </tr>\n",
       "    <tr>\n",
       "      <th>model_8</th>\n",
       "      <td>[10202, 10286, 10458, 10690, 11086, 11416, 114...</td>\n",
       "      <td>25</td>\n",
       "    </tr>\n",
       "  </tbody>\n",
       "</table>\n",
       "</div>"
      ],
      "text/plain": [
       "                                                    user_id  count\n",
       "model_nm                                                          \n",
       "model_0   [10004, 10005, 10007, 10008, 10011, 10013, 100...   1769\n",
       "model_1   [10006, 10009, 10010, 10021, 10023, 10031, 100...   1426\n",
       "model_2   [10001, 10003, 10006, 10012, 10014, 10017, 100...   1918\n",
       "model_3   [10000, 10002, 10016, 10018, 10019, 10026, 100...    789\n",
       "model_4   [10080, 10092, 10167, 10168, 10171, 10206, 102...    153\n",
       "model_5   [10110, 10408, 10411, 10600, 10719, 11058, 119...     23\n",
       "model_6   [10495, 10693, 11157, 11183, 11206, 11319, 114...     10\n",
       "model_7   [10075, 10244, 10556, 10694, 10744, 10922, 111...     36\n",
       "model_8   [10202, 10286, 10458, 10690, 11086, 11416, 114...     25"
      ]
     },
     "execution_count": 27,
     "metadata": {},
     "output_type": "execute_result"
    }
   ],
   "source": [
    "id_model"
   ]
  },
  {
   "cell_type": "code",
   "execution_count": 28,
   "metadata": {
    "ExecuteTime": {
     "end_time": "2022-06-09T13:48:58.879070Z",
     "start_time": "2022-06-09T13:48:58.873229Z"
    }
   },
   "outputs": [
    {
     "data": {
      "text/plain": [
       "6149"
      ]
     },
     "execution_count": 28,
     "metadata": {},
     "output_type": "execute_result"
    }
   ],
   "source": [
    "count_sum = id_model['count'].values.sum()\n",
    "count_sum"
   ]
  },
  {
   "cell_type": "code",
   "execution_count": 29,
   "metadata": {
    "ExecuteTime": {
     "end_time": "2022-06-09T13:48:58.894471Z",
     "start_time": "2022-06-09T13:48:58.880043Z"
    }
   },
   "outputs": [
    {
     "data": {
      "text/html": [
       "<div>\n",
       "<style scoped>\n",
       "    .dataframe tbody tr th:only-of-type {\n",
       "        vertical-align: middle;\n",
       "    }\n",
       "\n",
       "    .dataframe tbody tr th {\n",
       "        vertical-align: top;\n",
       "    }\n",
       "\n",
       "    .dataframe thead th {\n",
       "        text-align: right;\n",
       "    }\n",
       "</style>\n",
       "<table border=\"1\" class=\"dataframe\">\n",
       "  <thead>\n",
       "    <tr style=\"text-align: right;\">\n",
       "      <th></th>\n",
       "      <th>user_id</th>\n",
       "      <th>count</th>\n",
       "      <th>problem_rate</th>\n",
       "    </tr>\n",
       "    <tr>\n",
       "      <th>model_nm</th>\n",
       "      <th></th>\n",
       "      <th></th>\n",
       "      <th></th>\n",
       "    </tr>\n",
       "  </thead>\n",
       "  <tbody>\n",
       "    <tr>\n",
       "      <th>model_0</th>\n",
       "      <td>[10004, 10005, 10007, 10008, 10011, 10013, 100...</td>\n",
       "      <td>1769</td>\n",
       "      <td>28.768906</td>\n",
       "    </tr>\n",
       "    <tr>\n",
       "      <th>model_1</th>\n",
       "      <td>[10006, 10009, 10010, 10021, 10023, 10031, 100...</td>\n",
       "      <td>1426</td>\n",
       "      <td>23.190763</td>\n",
       "    </tr>\n",
       "    <tr>\n",
       "      <th>model_2</th>\n",
       "      <td>[10001, 10003, 10006, 10012, 10014, 10017, 100...</td>\n",
       "      <td>1918</td>\n",
       "      <td>31.192064</td>\n",
       "    </tr>\n",
       "    <tr>\n",
       "      <th>model_3</th>\n",
       "      <td>[10000, 10002, 10016, 10018, 10019, 10026, 100...</td>\n",
       "      <td>789</td>\n",
       "      <td>12.831355</td>\n",
       "    </tr>\n",
       "    <tr>\n",
       "      <th>model_4</th>\n",
       "      <td>[10080, 10092, 10167, 10168, 10171, 10206, 102...</td>\n",
       "      <td>153</td>\n",
       "      <td>2.488209</td>\n",
       "    </tr>\n",
       "    <tr>\n",
       "      <th>model_5</th>\n",
       "      <td>[10110, 10408, 10411, 10600, 10719, 11058, 119...</td>\n",
       "      <td>23</td>\n",
       "      <td>0.374045</td>\n",
       "    </tr>\n",
       "    <tr>\n",
       "      <th>model_6</th>\n",
       "      <td>[10495, 10693, 11157, 11183, 11206, 11319, 114...</td>\n",
       "      <td>10</td>\n",
       "      <td>0.162628</td>\n",
       "    </tr>\n",
       "    <tr>\n",
       "      <th>model_7</th>\n",
       "      <td>[10075, 10244, 10556, 10694, 10744, 10922, 111...</td>\n",
       "      <td>36</td>\n",
       "      <td>0.585461</td>\n",
       "    </tr>\n",
       "    <tr>\n",
       "      <th>model_8</th>\n",
       "      <td>[10202, 10286, 10458, 10690, 11086, 11416, 114...</td>\n",
       "      <td>25</td>\n",
       "      <td>0.406570</td>\n",
       "    </tr>\n",
       "  </tbody>\n",
       "</table>\n",
       "</div>"
      ],
      "text/plain": [
       "                                                    user_id  count  \\\n",
       "model_nm                                                             \n",
       "model_0   [10004, 10005, 10007, 10008, 10011, 10013, 100...   1769   \n",
       "model_1   [10006, 10009, 10010, 10021, 10023, 10031, 100...   1426   \n",
       "model_2   [10001, 10003, 10006, 10012, 10014, 10017, 100...   1918   \n",
       "model_3   [10000, 10002, 10016, 10018, 10019, 10026, 100...    789   \n",
       "model_4   [10080, 10092, 10167, 10168, 10171, 10206, 102...    153   \n",
       "model_5   [10110, 10408, 10411, 10600, 10719, 11058, 119...     23   \n",
       "model_6   [10495, 10693, 11157, 11183, 11206, 11319, 114...     10   \n",
       "model_7   [10075, 10244, 10556, 10694, 10744, 10922, 111...     36   \n",
       "model_8   [10202, 10286, 10458, 10690, 11086, 11416, 114...     25   \n",
       "\n",
       "          problem_rate  \n",
       "model_nm                \n",
       "model_0      28.768906  \n",
       "model_1      23.190763  \n",
       "model_2      31.192064  \n",
       "model_3      12.831355  \n",
       "model_4       2.488209  \n",
       "model_5       0.374045  \n",
       "model_6       0.162628  \n",
       "model_7       0.585461  \n",
       "model_8       0.406570  "
      ]
     },
     "execution_count": 29,
     "metadata": {},
     "output_type": "execute_result"
    }
   ],
   "source": [
    "id_model['problem_rate'] = id_model['count'] / count_sum * 100\n",
    "id_model"
   ]
  },
  {
   "cell_type": "code",
   "execution_count": 30,
   "metadata": {
    "ExecuteTime": {
     "end_time": "2022-06-09T13:48:59.966439Z",
     "start_time": "2022-06-09T13:48:58.895444Z"
    }
   },
   "outputs": [],
   "source": [
    "id_model['error_rate'] = train_err.model_nm.value_counts().sort_index() / train_err.model_nm.value_counts().sum() * 100"
   ]
  },
  {
   "cell_type": "code",
   "execution_count": 31,
   "metadata": {
    "ExecuteTime": {
     "end_time": "2022-06-09T13:48:59.977145Z",
     "start_time": "2022-06-09T13:48:59.966439Z"
    }
   },
   "outputs": [
    {
     "data": {
      "text/html": [
       "<div>\n",
       "<style scoped>\n",
       "    .dataframe tbody tr th:only-of-type {\n",
       "        vertical-align: middle;\n",
       "    }\n",
       "\n",
       "    .dataframe tbody tr th {\n",
       "        vertical-align: top;\n",
       "    }\n",
       "\n",
       "    .dataframe thead th {\n",
       "        text-align: right;\n",
       "    }\n",
       "</style>\n",
       "<table border=\"1\" class=\"dataframe\">\n",
       "  <thead>\n",
       "    <tr style=\"text-align: right;\">\n",
       "      <th></th>\n",
       "      <th>user_id</th>\n",
       "      <th>count</th>\n",
       "      <th>problem_rate</th>\n",
       "      <th>error_rate</th>\n",
       "    </tr>\n",
       "    <tr>\n",
       "      <th>model_nm</th>\n",
       "      <th></th>\n",
       "      <th></th>\n",
       "      <th></th>\n",
       "      <th></th>\n",
       "    </tr>\n",
       "  </thead>\n",
       "  <tbody>\n",
       "    <tr>\n",
       "      <th>model_0</th>\n",
       "      <td>[10004, 10005, 10007, 10008, 10011, 10013, 100...</td>\n",
       "      <td>1769</td>\n",
       "      <td>28.768906</td>\n",
       "      <td>26.026404</td>\n",
       "    </tr>\n",
       "    <tr>\n",
       "      <th>model_1</th>\n",
       "      <td>[10006, 10009, 10010, 10021, 10023, 10031, 100...</td>\n",
       "      <td>1426</td>\n",
       "      <td>23.190763</td>\n",
       "      <td>34.416356</td>\n",
       "    </tr>\n",
       "    <tr>\n",
       "      <th>model_2</th>\n",
       "      <td>[10001, 10003, 10006, 10012, 10014, 10017, 100...</td>\n",
       "      <td>1918</td>\n",
       "      <td>31.192064</td>\n",
       "      <td>21.419331</td>\n",
       "    </tr>\n",
       "    <tr>\n",
       "      <th>model_3</th>\n",
       "      <td>[10000, 10002, 10016, 10018, 10019, 10026, 100...</td>\n",
       "      <td>789</td>\n",
       "      <td>12.831355</td>\n",
       "      <td>11.987284</td>\n",
       "    </tr>\n",
       "    <tr>\n",
       "      <th>model_4</th>\n",
       "      <td>[10080, 10092, 10167, 10168, 10171, 10206, 102...</td>\n",
       "      <td>153</td>\n",
       "      <td>2.488209</td>\n",
       "      <td>5.512259</td>\n",
       "    </tr>\n",
       "    <tr>\n",
       "      <th>model_5</th>\n",
       "      <td>[10110, 10408, 10411, 10600, 10719, 11058, 119...</td>\n",
       "      <td>23</td>\n",
       "      <td>0.374045</td>\n",
       "      <td>0.192302</td>\n",
       "    </tr>\n",
       "    <tr>\n",
       "      <th>model_6</th>\n",
       "      <td>[10495, 10693, 11157, 11183, 11206, 11319, 114...</td>\n",
       "      <td>10</td>\n",
       "      <td>0.162628</td>\n",
       "      <td>0.011114</td>\n",
       "    </tr>\n",
       "    <tr>\n",
       "      <th>model_7</th>\n",
       "      <td>[10075, 10244, 10556, 10694, 10744, 10922, 111...</td>\n",
       "      <td>36</td>\n",
       "      <td>0.585461</td>\n",
       "      <td>0.216300</td>\n",
       "    </tr>\n",
       "    <tr>\n",
       "      <th>model_8</th>\n",
       "      <td>[10202, 10286, 10458, 10690, 11086, 11416, 114...</td>\n",
       "      <td>25</td>\n",
       "      <td>0.406570</td>\n",
       "      <td>0.218649</td>\n",
       "    </tr>\n",
       "  </tbody>\n",
       "</table>\n",
       "</div>"
      ],
      "text/plain": [
       "                                                    user_id  count  \\\n",
       "model_nm                                                             \n",
       "model_0   [10004, 10005, 10007, 10008, 10011, 10013, 100...   1769   \n",
       "model_1   [10006, 10009, 10010, 10021, 10023, 10031, 100...   1426   \n",
       "model_2   [10001, 10003, 10006, 10012, 10014, 10017, 100...   1918   \n",
       "model_3   [10000, 10002, 10016, 10018, 10019, 10026, 100...    789   \n",
       "model_4   [10080, 10092, 10167, 10168, 10171, 10206, 102...    153   \n",
       "model_5   [10110, 10408, 10411, 10600, 10719, 11058, 119...     23   \n",
       "model_6   [10495, 10693, 11157, 11183, 11206, 11319, 114...     10   \n",
       "model_7   [10075, 10244, 10556, 10694, 10744, 10922, 111...     36   \n",
       "model_8   [10202, 10286, 10458, 10690, 11086, 11416, 114...     25   \n",
       "\n",
       "          problem_rate  error_rate  \n",
       "model_nm                            \n",
       "model_0      28.768906   26.026404  \n",
       "model_1      23.190763   34.416356  \n",
       "model_2      31.192064   21.419331  \n",
       "model_3      12.831355   11.987284  \n",
       "model_4       2.488209    5.512259  \n",
       "model_5       0.374045    0.192302  \n",
       "model_6       0.162628    0.011114  \n",
       "model_7       0.585461    0.216300  \n",
       "model_8       0.406570    0.218649  "
      ]
     },
     "execution_count": 31,
     "metadata": {},
     "output_type": "execute_result"
    }
   ],
   "source": [
    "id_model"
   ]
  },
  {
   "cell_type": "code",
   "execution_count": 32,
   "metadata": {
    "ExecuteTime": {
     "end_time": "2022-06-09T13:49:00.114386Z",
     "start_time": "2022-06-09T13:48:59.978118Z"
    }
   },
   "outputs": [
    {
     "data": {
      "image/png": "[encoded data removed]",
      "text/plain": [
       "<Figure size 864x864 with 2 Axes>"
      ]
     },
     "metadata": {},
     "output_type": "display_data"
    }
   ],
   "source": [
    "plt.figure(figsize=(12,12))\n",
    "plt.subplot(121)\n",
    "plt.title('에러가 나는 비율', fontsize=16)\n",
    "plt.pie(id_model['error_rate'], labels=id_model.index, autopct='%.2f%%', textprops={'fontsize':15})\n",
    "\n",
    "plt.subplot(122)\n",
    "plt.title('불만 제기되는 비율', fontsize=16)\n",
    "plt.pie(id_model['problem_rate'], labels=id_model.index, autopct='%.2f%%', textprops={'fontsize':15})\n",
    "plt.show()"
   ]
  },
  {
   "cell_type": "markdown",
   "metadata": {},
   "source": [
    "- 에러는 model_1  > model_0 > model_2 순서로 많지만\n",
    "- 해당 에러로 불만을 제기하는 사용자는 model_2 > model_0 > model_1 순서\n",
    "- 모델에 따라 불만 제기 확률 편차가 크기 때문에 model_nm은 유의미한 column"
   ]
  },
  {
   "cell_type": "markdown",
   "metadata": {},
   "source": [
    "#### model_nm 변경"
   ]
  },
  {
   "cell_type": "code",
   "execution_count": 33,
   "metadata": {
    "ExecuteTime": {
     "end_time": "2022-06-09T13:49:00.203938Z",
     "start_time": "2022-06-09T13:49:00.115359Z"
    }
   },
   "outputs": [],
   "source": [
    "change_model =  train_err[['user_id', 'model_nm']]"
   ]
  },
  {
   "cell_type": "code",
   "execution_count": 34,
   "metadata": {
    "ExecuteTime": {
     "end_time": "2022-06-09T13:49:00.961695Z",
     "start_time": "2022-06-09T13:49:00.204905Z"
    },
    "scrolled": true
   },
   "outputs": [],
   "source": [
    "change_model = change_model.drop_duplicates(subset=None, keep='first')"
   ]
  },
  {
   "cell_type": "code",
   "execution_count": 35,
   "metadata": {
    "ExecuteTime": {
     "end_time": "2022-06-09T13:49:00.969482Z",
     "start_time": "2022-06-09T13:49:00.963642Z"
    }
   },
   "outputs": [],
   "source": [
    "user_model_num = change_model.user_id.value_counts()\n",
    "user_has_2models = list(user_model_num.loc[user_model_num > 1].to_frame().index)"
   ]
  },
  {
   "cell_type": "code",
   "execution_count": 36,
   "metadata": {
    "ExecuteTime": {
     "end_time": "2022-06-09T13:49:00.976295Z",
     "start_time": "2022-06-09T13:49:00.969482Z"
    }
   },
   "outputs": [
    {
     "name": "stdout",
     "output_type": "stream",
     "text": [
      "모델이 변경되고 불만을 제기한 사람 91.4651493598862% \n"
     ]
    }
   ],
   "source": [
    "user_sum = len(user_has_2models)\n",
    "user_prob_sum = len(list(train_problem[train_problem['user_id'].isin(user_has_2models)].user_id.unique()))\n",
    "\n",
    "print(f\"모델이 변경되고 불만을 제기한 사람 {user_prob_sum/user_sum*100}% \")"
   ]
  },
  {
   "cell_type": "markdown",
   "metadata": {},
   "source": [
    "- model_nm 변경이 불만 제기에 많은 영향을 미친다"
   ]
  },
  {
   "cell_type": "markdown",
   "metadata": {},
   "source": [
    "#### model_nm - fwver"
   ]
  },
  {
   "cell_type": "code",
   "execution_count": 37,
   "metadata": {
    "ExecuteTime": {
     "end_time": "2022-06-09T13:49:02.271851Z",
     "start_time": "2022-06-09T13:49:00.977269Z"
    }
   },
   "outputs": [
    {
     "data": {
      "text/html": [
       "<div>\n",
       "<style scoped>\n",
       "    .dataframe tbody tr th:only-of-type {\n",
       "        vertical-align: middle;\n",
       "    }\n",
       "\n",
       "    .dataframe tbody tr th {\n",
       "        vertical-align: top;\n",
       "    }\n",
       "\n",
       "    .dataframe thead th {\n",
       "        text-align: right;\n",
       "    }\n",
       "</style>\n",
       "<table border=\"1\" class=\"dataframe\">\n",
       "  <thead>\n",
       "    <tr style=\"text-align: right;\">\n",
       "      <th></th>\n",
       "      <th>model_nm</th>\n",
       "      <th>fwver</th>\n",
       "    </tr>\n",
       "  </thead>\n",
       "  <tbody>\n",
       "    <tr>\n",
       "      <th>0</th>\n",
       "      <td>model_0</td>\n",
       "      <td>[04.22.1750, 04.22.1778, 04.22.1684, 04.22.166...</td>\n",
       "    </tr>\n",
       "    <tr>\n",
       "      <th>1</th>\n",
       "      <td>model_1</td>\n",
       "      <td>[04.16.3553, 04.16.3571, 04.16.3439, 04.16.356...</td>\n",
       "    </tr>\n",
       "    <tr>\n",
       "      <th>2</th>\n",
       "      <td>model_2</td>\n",
       "      <td>[04.33.1185, 04.33.1261, 04.33.1149, 04.33.117...</td>\n",
       "    </tr>\n",
       "    <tr>\n",
       "      <th>3</th>\n",
       "      <td>model_3</td>\n",
       "      <td>[05.15.2138, 05.15.2120, 05.15.2090, 05.15.310...</td>\n",
       "    </tr>\n",
       "    <tr>\n",
       "      <th>4</th>\n",
       "      <td>model_4</td>\n",
       "      <td>[03.11.1149, 03.11.1167, 03.11.1141]</td>\n",
       "    </tr>\n",
       "    <tr>\n",
       "      <th>5</th>\n",
       "      <td>model_5</td>\n",
       "      <td>[04.82.1684, 04.82.1778, 04.82.1730]</td>\n",
       "    </tr>\n",
       "    <tr>\n",
       "      <th>6</th>\n",
       "      <td>model_6</td>\n",
       "      <td>[10, 8.5.3]</td>\n",
       "    </tr>\n",
       "    <tr>\n",
       "      <th>7</th>\n",
       "      <td>model_7</td>\n",
       "      <td>[05.66.3237, 05.66.3571]</td>\n",
       "    </tr>\n",
       "    <tr>\n",
       "      <th>8</th>\n",
       "      <td>model_8</td>\n",
       "      <td>[04.73.2237, 04.73.2571]</td>\n",
       "    </tr>\n",
       "  </tbody>\n",
       "</table>\n",
       "</div>"
      ],
      "text/plain": [
       "  model_nm                                              fwver\n",
       "0  model_0  [04.22.1750, 04.22.1778, 04.22.1684, 04.22.166...\n",
       "1  model_1  [04.16.3553, 04.16.3571, 04.16.3439, 04.16.356...\n",
       "2  model_2  [04.33.1185, 04.33.1261, 04.33.1149, 04.33.117...\n",
       "3  model_3  [05.15.2138, 05.15.2120, 05.15.2090, 05.15.310...\n",
       "4  model_4               [03.11.1149, 03.11.1167, 03.11.1141]\n",
       "5  model_5               [04.82.1684, 04.82.1778, 04.82.1730]\n",
       "6  model_6                                        [10, 8.5.3]\n",
       "7  model_7                           [05.66.3237, 05.66.3571]\n",
       "8  model_8                           [04.73.2237, 04.73.2571]"
      ]
     },
     "execution_count": 37,
     "metadata": {},
     "output_type": "execute_result"
    }
   ],
   "source": [
    "model_fwver = train_err.groupby('model_nm')['fwver'].unique().to_frame().reset_index()\n",
    "model_fwver"
   ]
  },
  {
   "cell_type": "code",
   "execution_count": 38,
   "metadata": {
    "ExecuteTime": {
     "end_time": "2022-06-09T13:49:02.276717Z",
     "start_time": "2022-06-09T13:49:02.272824Z"
    }
   },
   "outputs": [
    {
     "name": "stdout",
     "output_type": "stream",
     "text": [
      "0 -> \n",
      " ['0', '_', 'd', 'e', 'l', 'm', 'o']\n",
      "1 -> \n",
      " ['1', '_', 'd', 'e', 'l', 'm', 'o']\n",
      "2 -> \n",
      " ['2', '_', 'd', 'e', 'l', 'm', 'o']\n",
      "3 -> \n",
      " ['3', '_', 'd', 'e', 'l', 'm', 'o']\n",
      "4 -> \n",
      " ['4', '_', 'd', 'e', 'l', 'm', 'o']\n",
      "5 -> \n",
      " ['5', '_', 'd', 'e', 'l', 'm', 'o']\n",
      "6 -> \n",
      " ['6', '_', 'd', 'e', 'l', 'm', 'o']\n",
      "7 -> \n",
      " ['7', '_', 'd', 'e', 'l', 'm', 'o']\n",
      "8 -> \n",
      " ['8', '_', 'd', 'e', 'l', 'm', 'o']\n"
     ]
    }
   ],
   "source": [
    "# model_6를 제외하고 모델별로 4번째까지 같은 펌웨어 번호를 사용한다.\n",
    "\n",
    "for nm in range(len(model_fwver.index)):\n",
    "    print(f\"{model_fwver.index[nm]} -> \\n {sorted(model_fwver.iloc[nm][0])}\")"
   ]
  },
  {
   "cell_type": "markdown",
   "metadata": {},
   "source": [
    "- model과 fwver은 관련성이 높다 -> fwver만 사용해도 될지?"
   ]
  },
  {
   "cell_type": "markdown",
   "metadata": {},
   "source": [
    "### fwver 분석"
   ]
  },
  {
   "cell_type": "markdown",
   "metadata": {},
   "source": [
    "#### fwver에 따른 불만율"
   ]
  },
  {
   "cell_type": "code",
   "execution_count": 39,
   "metadata": {
    "ExecuteTime": {
     "end_time": "2022-06-09T13:49:02.371131Z",
     "start_time": "2022-06-09T13:49:02.277690Z"
    }
   },
   "outputs": [],
   "source": [
    "fwver_df = train_err[['user_id', 'fwver']]"
   ]
  },
  {
   "cell_type": "code",
   "execution_count": 40,
   "metadata": {
    "ExecuteTime": {
     "end_time": "2022-06-09T13:49:03.179970Z",
     "start_time": "2022-06-09T13:49:02.372104Z"
    }
   },
   "outputs": [],
   "source": [
    "fwver_df = fwver_df.drop_duplicates(subset=None, keep='first')"
   ]
  },
  {
   "cell_type": "code",
   "execution_count": 41,
   "metadata": {
    "ExecuteTime": {
     "end_time": "2022-06-09T13:49:03.188730Z",
     "start_time": "2022-06-09T13:49:03.180944Z"
    },
    "scrolled": true
   },
   "outputs": [],
   "source": [
    "user_fwver = fwver_df.groupby('fwver')['user_id'].unique().to_frame().reset_index()"
   ]
  },
  {
   "cell_type": "code",
   "execution_count": 42,
   "metadata": {
    "ExecuteTime": {
     "end_time": "2022-06-09T13:49:04.291471Z",
     "start_time": "2022-06-09T13:49:03.189703Z"
    }
   },
   "outputs": [
    {
     "ename": "KeyError",
     "evalue": "'count'",
     "output_type": "error",
     "traceback": [
      "\u001b[1;31m---------------------------------------------------------------------------\u001b[0m",
      "\u001b[1;31mKeyError\u001b[0m                                  Traceback (most recent call last)",
      "File \u001b[1;32m~\\miniforge3\\envs\\fastcampus\\lib\\site-packages\\pandas\\core\\indexes\\base.py:3621\u001b[0m, in \u001b[0;36mIndex.get_loc\u001b[1;34m(self, key, method, tolerance)\u001b[0m\n\u001b[0;32m   3620\u001b[0m \u001b[38;5;28;01mtry\u001b[39;00m:\n\u001b[1;32m-> 3621\u001b[0m     \u001b[38;5;28;01mreturn\u001b[39;00m \u001b[38;5;28;43mself\u001b[39;49m\u001b[38;5;241;43m.\u001b[39;49m\u001b[43m_engine\u001b[49m\u001b[38;5;241;43m.\u001b[39;49m\u001b[43mget_loc\u001b[49m\u001b[43m(\u001b[49m\u001b[43mcasted_key\u001b[49m\u001b[43m)\u001b[49m\n\u001b[0;32m   3622\u001b[0m \u001b[38;5;28;01mexcept\u001b[39;00m \u001b[38;5;167;01mKeyError\u001b[39;00m \u001b[38;5;28;01mas\u001b[39;00m err:\n",
      "File \u001b[1;32m~\\miniforge3\\envs\\fastcampus\\lib\\site-packages\\pandas\\_libs\\index.pyx:136\u001b[0m, in \u001b[0;36mpandas._libs.index.IndexEngine.get_loc\u001b[1;34m()\u001b[0m\n",
      "File \u001b[1;32m~\\miniforge3\\envs\\fastcampus\\lib\\site-packages\\pandas\\_libs\\index.pyx:163\u001b[0m, in \u001b[0;36mpandas._libs.index.IndexEngine.get_loc\u001b[1;34m()\u001b[0m\n",
      "File \u001b[1;32mpandas\\_libs\\hashtable_class_helper.pxi:5198\u001b[0m, in \u001b[0;36mpandas._libs.hashtable.PyObjectHashTable.get_item\u001b[1;34m()\u001b[0m\n",
      "File \u001b[1;32mpandas\\_libs\\hashtable_class_helper.pxi:5206\u001b[0m, in \u001b[0;36mpandas._libs.hashtable.PyObjectHashTable.get_item\u001b[1;34m()\u001b[0m\n",
      "\u001b[1;31mKeyError\u001b[0m: 'count'",
      "\nThe above exception was the direct cause of the following exception:\n",
      "\u001b[1;31mKeyError\u001b[0m                                  Traceback (most recent call last)",
      "Input \u001b[1;32mIn [42]\u001b[0m, in \u001b[0;36m<cell line: 1>\u001b[1;34m()\u001b[0m\n\u001b[0;32m      1\u001b[0m \u001b[38;5;28;01mfor\u001b[39;00m i \u001b[38;5;129;01min\u001b[39;00m \u001b[38;5;28mrange\u001b[39m(\u001b[38;5;241m37\u001b[39m):\n\u001b[1;32m----> 2\u001b[0m     \u001b[43muser_fwver\u001b[49m\u001b[43m[\u001b[49m\u001b[38;5;124;43m'\u001b[39;49m\u001b[38;5;124;43mcount\u001b[39;49m\u001b[38;5;124;43m'\u001b[39;49m\u001b[43m]\u001b[49m[i] \u001b[38;5;241m=\u001b[39m \u001b[38;5;28mlen\u001b[39m(\u001b[38;5;28mlist\u001b[39m(train_problem[train_problem[\u001b[38;5;124m'\u001b[39m\u001b[38;5;124muser_id\u001b[39m\u001b[38;5;124m'\u001b[39m]\u001b[38;5;241m.\u001b[39misin(user_fwver\u001b[38;5;241m.\u001b[39muser_id[i])]\u001b[38;5;241m.\u001b[39muser_id\u001b[38;5;241m.\u001b[39munique()))\n",
      "File \u001b[1;32m~\\miniforge3\\envs\\fastcampus\\lib\\site-packages\\pandas\\core\\frame.py:3505\u001b[0m, in \u001b[0;36mDataFrame.__getitem__\u001b[1;34m(self, key)\u001b[0m\n\u001b[0;32m   3503\u001b[0m \u001b[38;5;28;01mif\u001b[39;00m \u001b[38;5;28mself\u001b[39m\u001b[38;5;241m.\u001b[39mcolumns\u001b[38;5;241m.\u001b[39mnlevels \u001b[38;5;241m>\u001b[39m \u001b[38;5;241m1\u001b[39m:\n\u001b[0;32m   3504\u001b[0m     \u001b[38;5;28;01mreturn\u001b[39;00m \u001b[38;5;28mself\u001b[39m\u001b[38;5;241m.\u001b[39m_getitem_multilevel(key)\n\u001b[1;32m-> 3505\u001b[0m indexer \u001b[38;5;241m=\u001b[39m \u001b[38;5;28;43mself\u001b[39;49m\u001b[38;5;241;43m.\u001b[39;49m\u001b[43mcolumns\u001b[49m\u001b[38;5;241;43m.\u001b[39;49m\u001b[43mget_loc\u001b[49m\u001b[43m(\u001b[49m\u001b[43mkey\u001b[49m\u001b[43m)\u001b[49m\n\u001b[0;32m   3506\u001b[0m \u001b[38;5;28;01mif\u001b[39;00m is_integer(indexer):\n\u001b[0;32m   3507\u001b[0m     indexer \u001b[38;5;241m=\u001b[39m [indexer]\n",
      "File \u001b[1;32m~\\miniforge3\\envs\\fastcampus\\lib\\site-packages\\pandas\\core\\indexes\\base.py:3623\u001b[0m, in \u001b[0;36mIndex.get_loc\u001b[1;34m(self, key, method, tolerance)\u001b[0m\n\u001b[0;32m   3621\u001b[0m     \u001b[38;5;28;01mreturn\u001b[39;00m \u001b[38;5;28mself\u001b[39m\u001b[38;5;241m.\u001b[39m_engine\u001b[38;5;241m.\u001b[39mget_loc(casted_key)\n\u001b[0;32m   3622\u001b[0m \u001b[38;5;28;01mexcept\u001b[39;00m \u001b[38;5;167;01mKeyError\u001b[39;00m \u001b[38;5;28;01mas\u001b[39;00m err:\n\u001b[1;32m-> 3623\u001b[0m     \u001b[38;5;28;01mraise\u001b[39;00m \u001b[38;5;167;01mKeyError\u001b[39;00m(key) \u001b[38;5;28;01mfrom\u001b[39;00m \u001b[38;5;21;01merr\u001b[39;00m\n\u001b[0;32m   3624\u001b[0m \u001b[38;5;28;01mexcept\u001b[39;00m \u001b[38;5;167;01mTypeError\u001b[39;00m:\n\u001b[0;32m   3625\u001b[0m     \u001b[38;5;66;03m# If we have a listlike key, _check_indexing_error will raise\u001b[39;00m\n\u001b[0;32m   3626\u001b[0m     \u001b[38;5;66;03m#  InvalidIndexError. Otherwise we fall through and re-raise\u001b[39;00m\n\u001b[0;32m   3627\u001b[0m     \u001b[38;5;66;03m#  the TypeError.\u001b[39;00m\n\u001b[0;32m   3628\u001b[0m     \u001b[38;5;28mself\u001b[39m\u001b[38;5;241m.\u001b[39m_check_indexing_error(key)\n",
      "\u001b[1;31mKeyError\u001b[0m: 'count'"
     ]
    }
   ],
   "source": [
    "for i in range(37):\n",
    "    user_fwver['count'][i] = len(list(train_problem[train_problem['user_id'].isin(user_fwver.user_id[i])].user_id.unique()))\n"
   ]
  },
  {
   "cell_type": "code",
   "execution_count": null,
   "metadata": {
    "ExecuteTime": {
     "end_time": "2022-06-09T13:49:04.293418Z",
     "start_time": "2022-06-09T13:49:04.293418Z"
    }
   },
   "outputs": [],
   "source": [
    "user_fwver['rate'] = 0"
   ]
  },
  {
   "cell_type": "code",
   "execution_count": null,
   "metadata": {
    "ExecuteTime": {
     "end_time": "2022-06-09T13:49:04.294391Z",
     "start_time": "2022-06-09T13:49:04.294391Z"
    }
   },
   "outputs": [],
   "source": [
    "for i in range(37):\n",
    "        user_fwver['rate'][i] = round(user_fwver['count'][i]/len(user_fwver.user_id[i]) * 100, 2)"
   ]
  },
  {
   "cell_type": "code",
   "execution_count": null,
   "metadata": {
    "ExecuteTime": {
     "end_time": "2022-06-09T13:49:04.294391Z",
     "start_time": "2022-06-09T13:49:04.294391Z"
    },
    "scrolled": true
   },
   "outputs": [],
   "source": [
    "user_fwver"
   ]
  },
  {
   "cell_type": "code",
   "execution_count": null,
   "metadata": {
    "ExecuteTime": {
     "end_time": "2022-06-09T13:49:04.295365Z",
     "start_time": "2022-06-09T13:49:04.295365Z"
    }
   },
   "outputs": [],
   "source": [
    "plt.figure(figsize=(14,8))\n",
    "plt.xticks(rotation=45)\n",
    "sns.barplot(data=user_fwver, x='fwver', y='rate', order=user_fwver.sort_values('rate').fwver)"
   ]
  },
  {
   "cell_type": "markdown",
   "metadata": {},
   "source": [
    "- fwver에 따라 불만율 차이가 많이 난다"
   ]
  },
  {
   "cell_type": "markdown",
   "metadata": {},
   "source": [
    "#### fwver업데이트"
   ]
  },
  {
   "cell_type": "code",
   "execution_count": null,
   "metadata": {
    "ExecuteTime": {
     "end_time": "2022-06-09T13:49:04.296338Z",
     "start_time": "2022-06-09T13:49:04.296338Z"
    }
   },
   "outputs": [],
   "source": [
    "# fwver이 바뀌는 user가 많다. \n",
    "# fwver이 변경되었을 때 불만 제기율 확인\n",
    "# fwver_df 사용\n",
    "fwver_df"
   ]
  },
  {
   "cell_type": "code",
   "execution_count": null,
   "metadata": {
    "ExecuteTime": {
     "end_time": "2022-06-09T13:49:04.297311Z",
     "start_time": "2022-06-09T13:49:04.297311Z"
    }
   },
   "outputs": [],
   "source": [
    "user_fwver_num = fwver_df['user_id'].value_counts()\n",
    "user_has_2fwvers = list(user_sum.loc[user_sum>1].to_frame().index)"
   ]
  },
  {
   "cell_type": "code",
   "execution_count": null,
   "metadata": {
    "ExecuteTime": {
     "end_time": "2022-06-09T13:49:04.298285Z",
     "start_time": "2022-06-09T13:49:04.298285Z"
    }
   },
   "outputs": [],
   "source": [
    "user_sum = len(user_has_2fwvers)\n",
    "user_prob_sum =  len(list(train_problem[train_problem['user_id'].isin(user_has_2fwvers)].user_id.unique()))\n",
    "\n",
    "print(f\"fwver가 변경되고 불만을 제기한 사람 {user_prob_sum/user_sum*100}% \")"
   ]
  },
  {
   "cell_type": "markdown",
   "metadata": {},
   "source": [
    "- fwver이 변경되었을 때 변수가 유의미하게 작용한다."
   ]
  },
  {
   "cell_type": "markdown",
   "metadata": {},
   "source": [
    "### errtype 분석"
   ]
  },
  {
   "cell_type": "markdown",
   "metadata": {},
   "source": [
    "### errcode 분석"
   ]
  },
  {
   "cell_type": "markdown",
   "metadata": {},
   "source": [
    "### Quality 분석"
   ]
  },
  {
   "cell_type": "code",
   "execution_count": null,
   "metadata": {
    "ExecuteTime": {
     "end_time": "2022-06-09T13:49:04.299259Z",
     "start_time": "2022-06-09T13:49:04.299259Z"
    }
   },
   "outputs": [],
   "source": [
    "train_quality.describe()"
   ]
  },
  {
   "cell_type": "markdown",
   "metadata": {},
   "source": [
    "## 2-3. 이상치 검출\n",
    "\n",
    "1) IQR(Inter-Quantile Range)\n",
    "\n",
    "\n",
    "2) Outlier Detection method (e.g. Isolation Forest)"
   ]
  },
  {
   "cell_type": "markdown",
   "metadata": {},
   "source": [
    "## 3. 예측 모델 구현"
   ]
  },
  {
   "cell_type": "code",
   "execution_count": null,
   "metadata": {
    "ExecuteTime": {
     "end_time": "2022-06-09T13:49:04.299800Z",
     "start_time": "2022-06-09T13:49:04.299800Z"
    }
   },
   "outputs": [],
   "source": [
    "# 모델을 불러옵니다\n"
   ]
  },
  {
   "cell_type": "code",
   "execution_count": null,
   "metadata": {
    "ExecuteTime": {
     "end_time": "2022-06-09T13:49:04.300765Z",
     "start_time": "2022-06-09T13:49:04.300765Z"
    }
   },
   "outputs": [],
   "source": [
    "# 학습에 필요한 데이터셋을 만듭니다\n"
   ]
  },
  {
   "cell_type": "code",
   "execution_count": null,
   "metadata": {
    "ExecuteTime": {
     "end_time": "2022-06-09T13:49:04.301739Z",
     "start_time": "2022-06-09T13:49:04.301739Z"
    }
   },
   "outputs": [],
   "source": [
    "# 학습 및 모델 검증을 위해 KFold Cross Validation 기법을 사용합니다.\n"
   ]
  },
  {
   "cell_type": "code",
   "execution_count": null,
   "metadata": {
    "ExecuteTime": {
     "end_time": "2022-06-09T13:49:04.302713Z",
     "start_time": "2022-06-09T13:49:04.301739Z"
    }
   },
   "outputs": [],
   "source": [
    "# training"
   ]
  },
  {
   "cell_type": "code",
   "execution_count": null,
   "metadata": {
    "ExecuteTime": {
     "end_time": "2022-06-09T13:49:04.302713Z",
     "start_time": "2022-06-09T13:49:04.302713Z"
    }
   },
   "outputs": [],
   "source": [
    "# submission 파일 생성"
   ]
  }
 ],
 "metadata": {
  "interpreter": {
   "hash": "d03f6901b6a42dbe3cd1c26aed86af13911a401140e63ddc3b23a4d593814a4d"
  },
  "kernelspec": {
   "display_name": "Python 3 (ipykernel)",
   "language": "python",
   "name": "python3"
  },
  "language_info": {
   "codemirror_mode": {
    "name": "ipython",
    "version": 3
   },
   "file_extension": ".py",
   "mimetype": "text/x-python",
   "name": "python",
   "nbconvert_exporter": "python",
   "pygments_lexer": "ipython3",
   "version": "3.8.13"
  },
  "toc": {
   "base_numbering": 1,
   "nav_menu": {},
   "number_sections": true,
   "sideBar": true,
   "skip_h1_title": false,
   "title_cell": "Table of Contents",
   "title_sidebar": "Contents",
   "toc_cell": false,
   "toc_position": {
    "height": "calc(100% - 180px)",
    "left": "10px",
    "top": "150px",
    "width": "260px"
   },
   "toc_section_display": true,
   "toc_window_display": false
  },
  "varInspector": {
   "cols": {
    "lenName": 16,
    "lenType": 16,
    "lenVar": 40
   },
   "kernels_config": {
    "python": {
     "delete_cmd_postfix": "",
     "delete_cmd_prefix": "del ",
     "library": "var_list.py",
     "varRefreshCmd": "print(var_dic_list())"
    },
    "r": {
     "delete_cmd_postfix": ") ",
     "delete_cmd_prefix": "rm(",
     "library": "var_list.r",
     "varRefreshCmd": "cat(var_dic_list()) "
    }
   },
   "types_to_exclude": [
    "module",
    "function",
    "builtin_function_or_method",
    "instance",
    "_Feature"
   ],
   "window_display": false
  }
 },
 "nbformat": 4,
 "nbformat_minor": 4
}
