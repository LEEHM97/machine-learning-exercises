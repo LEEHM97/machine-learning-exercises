{
 "cells": [
  {
   "cell_type": "markdown",
   "id": "a36f8ff9",
   "metadata": {},
   "source": [
    "## News Dataset 실습\n",
    "\n",
    "1. 데이터셋\n",
    "    - sentiment가 레이블링 되어있는 데이터셋입니다.[참고](https://www.kaggle.com/datasets/ankurzing/sentiment-analysis-for-financial-news)\n",
    "    - 데이터셋을 읽을때 encoding에 주의하세요(아래 코드 참고). 컴퓨터 환경에 따라 다를 수 있습니다.\n",
    "    - 전체 데이터셋은 4846개 뉴스입니다.\n",
    "2. 실습내용\n",
    "    - 다양한 모델을 활용하여 텍스트 분류를 해볼 수 있습니다.\n",
    "    - 다양한 시도를 통해 분류 성능을 높여보세요.(영어데이터 전처리 주의)\n",
    "3. 참고\n",
    "    - 해당 실습은 수강생분들의 현재까지 머신러닝에 대한 이해를 돕기위한 실습입니다.\n",
    "    - 데이터셋이나 코드 등에 문제가 있을경우 말씀 부탁드리겠습니다!"
   ]
  },
  {
   "cell_type": "code",
   "execution_count": 1,
   "id": "3b780e53",
   "metadata": {
    "ExecuteTime": {
     "end_time": "2022-05-31T05:07:09.752055Z",
     "start_time": "2022-05-31T05:07:09.540843Z"
    }
   },
   "outputs": [],
   "source": [
    "import os\n",
    "import pandas as pd"
   ]
  },
  {
   "cell_type": "code",
   "execution_count": 11,
   "id": "1dd5728d",
   "metadata": {
    "ExecuteTime": {
     "end_time": "2022-05-31T06:27:40.061054Z",
     "start_time": "2022-05-31T06:27:40.055214Z"
    }
   },
   "outputs": [],
   "source": [
    "from sklearn.feature_extraction.text import TfidfVectorizer\n",
    "from sklearn.naive_bayes import MultinomialNB\n",
    "from sklearn.pipeline import Pipeline\n",
    "from sklearn.model_selection import train_test_split\n",
    "from sklearn.metrics import classification_report, confusion_matrix, accuracy_score"
   ]
  },
  {
   "cell_type": "markdown",
   "id": "0d91ee6a",
   "metadata": {},
   "source": [
    "### Load dataset"
   ]
  },
  {
   "cell_type": "code",
   "execution_count": 3,
   "id": "c986aa8a",
   "metadata": {
    "ExecuteTime": {
     "end_time": "2022-05-31T05:07:22.316032Z",
     "start_time": "2022-05-31T05:07:22.296565Z"
    }
   },
   "outputs": [
    {
     "name": "stdout",
     "output_type": "stream",
     "text": [
      "(4846, 2)\n"
     ]
    }
   ],
   "source": [
    "df = pd.read_csv(os.path.join('./data/news/all-data.csv'), header=None, names=['label', 'news'], encoding='ISO-8859-1')\n",
    "print(df.shape)"
   ]
  },
  {
   "cell_type": "code",
   "execution_count": 4,
   "id": "53ee6849",
   "metadata": {
    "ExecuteTime": {
     "end_time": "2022-05-31T05:07:26.054980Z",
     "start_time": "2022-05-31T05:07:26.044274Z"
    }
   },
   "outputs": [
    {
     "data": {
      "text/html": [
       "<div>\n",
       "<style scoped>\n",
       "    .dataframe tbody tr th:only-of-type {\n",
       "        vertical-align: middle;\n",
       "    }\n",
       "\n",
       "    .dataframe tbody tr th {\n",
       "        vertical-align: top;\n",
       "    }\n",
       "\n",
       "    .dataframe thead th {\n",
       "        text-align: right;\n",
       "    }\n",
       "</style>\n",
       "<table border=\"1\" class=\"dataframe\">\n",
       "  <thead>\n",
       "    <tr style=\"text-align: right;\">\n",
       "      <th></th>\n",
       "      <th>label</th>\n",
       "      <th>news</th>\n",
       "    </tr>\n",
       "  </thead>\n",
       "  <tbody>\n",
       "    <tr>\n",
       "      <th>0</th>\n",
       "      <td>neutral</td>\n",
       "      <td>According to Gran , the company has no plans t...</td>\n",
       "    </tr>\n",
       "    <tr>\n",
       "      <th>1</th>\n",
       "      <td>neutral</td>\n",
       "      <td>Technopolis plans to develop in stages an area...</td>\n",
       "    </tr>\n",
       "    <tr>\n",
       "      <th>2</th>\n",
       "      <td>negative</td>\n",
       "      <td>The international electronic industry company ...</td>\n",
       "    </tr>\n",
       "    <tr>\n",
       "      <th>3</th>\n",
       "      <td>positive</td>\n",
       "      <td>With the new production plant the company woul...</td>\n",
       "    </tr>\n",
       "    <tr>\n",
       "      <th>4</th>\n",
       "      <td>positive</td>\n",
       "      <td>According to the company 's updated strategy f...</td>\n",
       "    </tr>\n",
       "  </tbody>\n",
       "</table>\n",
       "</div>"
      ],
      "text/plain": [
       "      label                                               news\n",
       "0   neutral  According to Gran , the company has no plans t...\n",
       "1   neutral  Technopolis plans to develop in stages an area...\n",
       "2  negative  The international electronic industry company ...\n",
       "3  positive  With the new production plant the company woul...\n",
       "4  positive  According to the company 's updated strategy f..."
      ]
     },
     "execution_count": 4,
     "metadata": {},
     "output_type": "execute_result"
    }
   ],
   "source": [
    "df.head()"
   ]
  },
  {
   "cell_type": "markdown",
   "id": "78332b3f",
   "metadata": {},
   "source": [
    "### Vectorize sentences"
   ]
  },
  {
   "cell_type": "code",
   "execution_count": 15,
   "id": "eced1ca4",
   "metadata": {
    "ExecuteTime": {
     "end_time": "2022-05-31T06:29:58.227629Z",
     "start_time": "2022-05-31T06:29:58.155603Z"
    }
   },
   "outputs": [
    {
     "data": {
      "text/plain": [
       "((4846, 10070), (4846,))"
      ]
     },
     "execution_count": 15,
     "metadata": {},
     "output_type": "execute_result"
    }
   ],
   "source": [
    "# vectorizer\n",
    "vectorizer = TfidfVectorizer()\n",
    "x = vectorizer.fit_transform(df.news)\n",
    "x.shape, df.label.shape"
   ]
  },
  {
   "cell_type": "code",
   "execution_count": 18,
   "id": "adcd36bb",
   "metadata": {
    "ExecuteTime": {
     "end_time": "2022-05-31T06:31:12.087973Z",
     "start_time": "2022-05-31T06:31:12.083107Z"
    }
   },
   "outputs": [],
   "source": [
    "train_x, test_x, train_y, test_y = train_test_split(x, df[\"label\"], test_size=0.2, \n",
    "                                                    random_state=1234)"
   ]
  },
  {
   "cell_type": "markdown",
   "id": "a7e9ff5d",
   "metadata": {},
   "source": [
    "### Train model and Evaluate"
   ]
  },
  {
   "cell_type": "code",
   "execution_count": 39,
   "id": "1728a652",
   "metadata": {
    "ExecuteTime": {
     "end_time": "2022-05-31T06:35:13.302457Z",
     "start_time": "2022-05-31T06:35:13.291749Z"
    }
   },
   "outputs": [
    {
     "data": {
      "text/plain": [
       "MultinomialNB(alpha=1e-10)"
      ]
     },
     "execution_count": 39,
     "metadata": {},
     "output_type": "execute_result"
    }
   ],
   "source": [
    "model = MultinomialNB(alpha=0.0000000001)\n",
    "model.fit(train_x, train_y)"
   ]
  },
  {
   "cell_type": "code",
   "execution_count": 40,
   "id": "43317854",
   "metadata": {
    "ExecuteTime": {
     "end_time": "2022-05-31T06:35:13.521456Z",
     "start_time": "2022-05-31T06:35:13.517563Z"
    }
   },
   "outputs": [],
   "source": [
    "pred = model.predict(test_x)"
   ]
  },
  {
   "cell_type": "code",
   "execution_count": 41,
   "id": "fe30c965",
   "metadata": {
    "ExecuteTime": {
     "end_time": "2022-05-31T06:35:13.872868Z",
     "start_time": "2022-05-31T06:35:13.868002Z"
    }
   },
   "outputs": [
    {
     "data": {
      "text/plain": [
       "0.6752577319587629"
      ]
     },
     "execution_count": 41,
     "metadata": {},
     "output_type": "execute_result"
    }
   ],
   "source": [
    "accuracy_score(pred, test_y)"
   ]
  },
  {
   "cell_type": "code",
   "execution_count": 42,
   "id": "161dcda6",
   "metadata": {
    "ExecuteTime": {
     "end_time": "2022-05-31T06:35:24.415017Z",
     "start_time": "2022-05-31T06:35:24.410150Z"
    }
   },
   "outputs": [
    {
     "data": {
      "text/plain": [
       "array([[ 65,  23,  33],\n",
       "       [ 40, 468, 134],\n",
       "       [ 19,  66, 122]], dtype=int64)"
      ]
     },
     "execution_count": 42,
     "metadata": {},
     "output_type": "execute_result"
    }
   ],
   "source": [
    "confusion_matrix(pred, test_y)"
   ]
  },
  {
   "cell_type": "code",
   "execution_count": 26,
   "id": "5a3639ac",
   "metadata": {
    "ExecuteTime": {
     "end_time": "2022-05-31T06:33:24.418240Z",
     "start_time": "2022-05-31T06:33:24.403640Z"
    }
   },
   "outputs": [
    {
     "name": "stdout",
     "output_type": "stream",
     "text": [
      "              precision    recall  f1-score   support\n",
      "\n",
      "    negative       1.00      0.01      0.02       124\n",
      "     neutral       0.67      0.99      0.80       557\n",
      "    positive       0.63      0.32      0.42       289\n",
      "\n",
      "    accuracy                           0.66       970\n",
      "   macro avg       0.77      0.44      0.41       970\n",
      "weighted avg       0.70      0.66      0.58       970\n",
      "\n"
     ]
    }
   ],
   "source": [
    "print(classification_report(test_y, pred))"
   ]
  }
 ],
 "metadata": {
  "kernelspec": {
   "display_name": "Python 3 (ipykernel)",
   "language": "python",
   "name": "python3"
  },
  "language_info": {
   "codemirror_mode": {
    "name": "ipython",
    "version": 3
   },
   "file_extension": ".py",
   "mimetype": "text/x-python",
   "name": "python",
   "nbconvert_exporter": "python",
   "pygments_lexer": "ipython3",
   "version": "3.8.13"
  },
  "toc": {
   "base_numbering": 1,
   "nav_menu": {},
   "number_sections": true,
   "sideBar": true,
   "skip_h1_title": false,
   "title_cell": "Table of Contents",
   "title_sidebar": "Contents",
   "toc_cell": false,
   "toc_position": {},
   "toc_section_display": true,
   "toc_window_display": false
  },
  "varInspector": {
   "cols": {
    "lenName": 16,
    "lenType": 16,
    "lenVar": 40
   },
   "kernels_config": {
    "python": {
     "delete_cmd_postfix": "",
     "delete_cmd_prefix": "del ",
     "library": "var_list.py",
     "varRefreshCmd": "print(var_dic_list())"
    },
    "r": {
     "delete_cmd_postfix": ") ",
     "delete_cmd_prefix": "rm(",
     "library": "var_list.r",
     "varRefreshCmd": "cat(var_dic_list()) "
    }
   },
   "types_to_exclude": [
    "module",
    "function",
    "builtin_function_or_method",
    "instance",
    "_Feature"
   ],
   "window_display": false
  }
 },
 "nbformat": 4,
 "nbformat_minor": 5
}
