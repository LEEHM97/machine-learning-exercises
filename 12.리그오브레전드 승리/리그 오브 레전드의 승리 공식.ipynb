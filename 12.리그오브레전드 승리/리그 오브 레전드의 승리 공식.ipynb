{
 "cells": [
  {
   "cell_type": "markdown",
   "metadata": {
    "id": "NqqLNJZjfi8U"
   },
   "source": [
    "# 주제 : 데이터로 알아보는 리그 오브 레전드의 승리 공식\n",
    "----------\n",
    "\n",
    "    \n",
    "## 데이터 소개\n",
    "    - 이번 주제는 League of Legends Diamond Ranked Games (10 min) 데이터셋을 사용합니다.\n",
    "    \n",
    "    - 다음 1개의 csv 파일을 사용합니다.\n",
    "    high_diamond_ranked_10min.csv\n",
    "    \n",
    "    - 각 파일의 컬럼은 아래와 같습니다.\n",
    "    gameId: 게임 판의 고유 ID\n",
    "    blueWins: 블루팀의 승리 여부 (0: 패배, 1: 승리)\n",
    "    xxxWardsPlaced: xxx팀에서 설치한 와드의 수 \n",
    "    xxxWardsDestroyed: xxx팀에서 파괴한 와드의 수\n",
    "    xxxFirstBlood: xxx팀의 첫번째 킬 달성 여부\n",
    "    xxxKills: xxx팀의 킬 수\n",
    "    xxxDeaths: xxx팀의 죽음 수\n",
    "    xxxAssists: xxx팀의 어시스트 수\n",
    "    xxxEliteMonsters: xxx팀이 죽인 엘리트 몬스터 수\n",
    "    xxxDragons: xxx팀이 죽인 용의 수\n",
    "    xxxHeralds: xxx팀이 죽인 전령의 수\n",
    "    xxxTowersDestroyed: xxx팀이 파괴한 탑의 수\n",
    "    xxxTotalGold: xxx팀의 전체 획득 골드\n",
    "    xxxAvgLevel: xxx팀의 평균 레벨\n",
    "    xxxTotalExperience: xxx팀의 총 경험치 획득량\n",
    "    xxxTotalMinionsKilled: xxx팀의 총 미니언 킬 수\n",
    "    xxxTotalJungleMinionsKilled: xxx팀의 총 정글 미니언 킬 수\n",
    "    xxxGoldDiff: xxx팀과 다른 팀 간의 골드 획득량 차이\n",
    "    xxxExperienceDiff: xxx팀과 다른 팀과의 경험치 획득량 차이\n",
    "    xxxCSPerMin: xxx팀의 분당 CS 스코어\n",
    "    xxxGoldPerMin: xxx팀의 분당 골드 획득량\n",
    "      \n",
    "    \n",
    "    \n",
    "- 데이터 출처: https://www.kaggle.com/bobbyscience/league-of-legends-diamond-ranked-games-10-min\n",
    "\n",
    "## 최종 목표\n",
    "    - 일상에서 볼 수 있는 데이터의 활용\n",
    "    - 데이터 시각화를 통한 인사이트 습득 방법의 이해\n",
    "    - Scikit-learn 기반의 모델 학습 방법 습득\n",
    "    - 학습된 모델로부터 인사이트 습득 방법 이해\n",
    "\n",
    "- 출제자 : 신제용 강사\n",
    "---"
   ]
  },
  {
   "cell_type": "markdown",
   "metadata": {
    "id": "ODJVmYvIP3x-"
   },
   "source": [
    "## Step 0. 리그 오브 레전드 데이터셋"
   ]
  },
  {
   "cell_type": "markdown",
   "metadata": {
    "id": "c0iKTnLNsraM"
   },
   "source": [
    "### E-스포츠와 리그 오브 레전드\n"
   ]
  },
  {
   "cell_type": "markdown",
   "metadata": {
    "id": "cxZwPnfms0-9"
   },
   "source": [
    "### 리그 오브 레전드 데이터셋에 관하여\n"
   ]
  },
  {
   "cell_type": "markdown",
   "metadata": {
    "id": "IRssoNrgP7So"
   },
   "source": [
    "## Step 1. 데이터셋 준비하기"
   ]
  },
  {
   "cell_type": "code",
   "execution_count": 1,
   "metadata": {
    "ExecuteTime": {
     "end_time": "2022-06-21T06:37:58.847209Z",
     "start_time": "2022-06-21T06:37:57.884421Z"
    },
    "id": "g49RuFGrBvt7"
   },
   "outputs": [],
   "source": [
    "import pandas as pd\n",
    "import numpy as np\n",
    "import matplotlib.pyplot as plt\n",
    "import seaborn as sns"
   ]
  },
  {
   "cell_type": "markdown",
   "metadata": {
    "id": "paInbv8Ys-Qy"
   },
   "source": [
    "### 문제 1. Colab Notebook에 Kaggle API 세팅하기\n"
   ]
  },
  {
   "cell_type": "code",
   "execution_count": 2,
   "metadata": {
    "ExecuteTime": {
     "end_time": "2022-06-21T06:37:58.863156Z",
     "start_time": "2022-06-21T06:37:58.848203Z"
    },
    "id": "RRXGYV60B7FX"
   },
   "outputs": [],
   "source": [
    "import os"
   ]
  },
  {
   "cell_type": "code",
   "execution_count": 3,
   "metadata": {
    "ExecuteTime": {
     "end_time": "2022-06-21T06:37:58.879202Z",
     "start_time": "2022-06-21T06:37:58.864149Z"
    },
    "id": "mMKFOC0OBtHO"
   },
   "outputs": [],
   "source": [
    "# os.environ을 이용하여 Kaggle API Username, Key 세팅하기\n",
    "os.environ['KAGGLE_USERNAME'] = \"leehyunmin\"\n",
    "os.environ['KAGGLE_KEY'] = \"554531d31173c6ef61b6036ded26d311\""
   ]
  },
  {
   "cell_type": "markdown",
   "metadata": {
    "id": "zvbeoB_WtBi-"
   },
   "source": [
    "### 문제 2. 데이터 다운로드 및 압축 해제하기\n"
   ]
  },
  {
   "cell_type": "code",
   "execution_count": 4,
   "metadata": {
    "ExecuteTime": {
     "end_time": "2022-06-21T06:37:59.831745Z",
     "start_time": "2022-06-21T06:37:58.880196Z"
    },
    "id": "JSblp2NsCGbh"
   },
   "outputs": [
    {
     "name": "stdout",
     "output_type": "stream",
     "text": [
      "league-of-legends-diamond-ranked-games-10-min.zip: Skipping, found more recently modified local copy (use --force to force download)\n"
     ]
    }
   ],
   "source": [
    "# Linux 명령어로 Kaggle API를 이용하여 데이터셋 다운로드하기 (!kaggle ~)\n",
    "# Linux 명령어로 압축 해제하기\n",
    "!kaggle datasets download -d bobbyscience/league-of-legends-diamond-ranked-games-10-min"
   ]
  },
  {
   "cell_type": "code",
   "execution_count": 5,
   "metadata": {
    "ExecuteTime": {
     "end_time": "2022-06-21T06:37:59.846717Z",
     "start_time": "2022-06-21T06:37:59.832742Z"
    }
   },
   "outputs": [],
   "source": [
    "import zipfile\n",
    "\n",
    "with zipfile.ZipFile('league-of-legends-diamond-ranked-games-10-min.zip','r') as zip_ref:\n",
    "    zip_ref.extractall()"
   ]
  },
  {
   "cell_type": "markdown",
   "metadata": {
    "id": "aJ34SovLtFI8"
   },
   "source": [
    "### 문제 3. Pandas 라이브러리로 csv파일 읽어들이기\n"
   ]
  },
  {
   "cell_type": "code",
   "execution_count": 6,
   "metadata": {
    "ExecuteTime": {
     "end_time": "2022-06-21T06:37:59.892580Z",
     "start_time": "2022-06-21T06:37:59.847711Z"
    },
    "id": "RnJv-4YwCMSx"
   },
   "outputs": [
    {
     "data": {
      "text/html": [
       "<div>\n",
       "<style scoped>\n",
       "    .dataframe tbody tr th:only-of-type {\n",
       "        vertical-align: middle;\n",
       "    }\n",
       "\n",
       "    .dataframe tbody tr th {\n",
       "        vertical-align: top;\n",
       "    }\n",
       "\n",
       "    .dataframe thead th {\n",
       "        text-align: right;\n",
       "    }\n",
       "</style>\n",
       "<table border=\"1\" class=\"dataframe\">\n",
       "  <thead>\n",
       "    <tr style=\"text-align: right;\">\n",
       "      <th></th>\n",
       "      <th>gameId</th>\n",
       "      <th>blueWins</th>\n",
       "      <th>blueWardsPlaced</th>\n",
       "      <th>blueWardsDestroyed</th>\n",
       "      <th>blueFirstBlood</th>\n",
       "      <th>blueKills</th>\n",
       "      <th>blueDeaths</th>\n",
       "      <th>blueAssists</th>\n",
       "      <th>blueEliteMonsters</th>\n",
       "      <th>blueDragons</th>\n",
       "      <th>...</th>\n",
       "      <th>redTowersDestroyed</th>\n",
       "      <th>redTotalGold</th>\n",
       "      <th>redAvgLevel</th>\n",
       "      <th>redTotalExperience</th>\n",
       "      <th>redTotalMinionsKilled</th>\n",
       "      <th>redTotalJungleMinionsKilled</th>\n",
       "      <th>redGoldDiff</th>\n",
       "      <th>redExperienceDiff</th>\n",
       "      <th>redCSPerMin</th>\n",
       "      <th>redGoldPerMin</th>\n",
       "    </tr>\n",
       "  </thead>\n",
       "  <tbody>\n",
       "    <tr>\n",
       "      <th>0</th>\n",
       "      <td>4519157822</td>\n",
       "      <td>0</td>\n",
       "      <td>28</td>\n",
       "      <td>2</td>\n",
       "      <td>1</td>\n",
       "      <td>9</td>\n",
       "      <td>6</td>\n",
       "      <td>11</td>\n",
       "      <td>0</td>\n",
       "      <td>0</td>\n",
       "      <td>...</td>\n",
       "      <td>0</td>\n",
       "      <td>16567</td>\n",
       "      <td>6.8</td>\n",
       "      <td>17047</td>\n",
       "      <td>197</td>\n",
       "      <td>55</td>\n",
       "      <td>-643</td>\n",
       "      <td>8</td>\n",
       "      <td>19.7</td>\n",
       "      <td>1656.7</td>\n",
       "    </tr>\n",
       "    <tr>\n",
       "      <th>1</th>\n",
       "      <td>4523371949</td>\n",
       "      <td>0</td>\n",
       "      <td>12</td>\n",
       "      <td>1</td>\n",
       "      <td>0</td>\n",
       "      <td>5</td>\n",
       "      <td>5</td>\n",
       "      <td>5</td>\n",
       "      <td>0</td>\n",
       "      <td>0</td>\n",
       "      <td>...</td>\n",
       "      <td>1</td>\n",
       "      <td>17620</td>\n",
       "      <td>6.8</td>\n",
       "      <td>17438</td>\n",
       "      <td>240</td>\n",
       "      <td>52</td>\n",
       "      <td>2908</td>\n",
       "      <td>1173</td>\n",
       "      <td>24.0</td>\n",
       "      <td>1762.0</td>\n",
       "    </tr>\n",
       "    <tr>\n",
       "      <th>2</th>\n",
       "      <td>4521474530</td>\n",
       "      <td>0</td>\n",
       "      <td>15</td>\n",
       "      <td>0</td>\n",
       "      <td>0</td>\n",
       "      <td>7</td>\n",
       "      <td>11</td>\n",
       "      <td>4</td>\n",
       "      <td>1</td>\n",
       "      <td>1</td>\n",
       "      <td>...</td>\n",
       "      <td>0</td>\n",
       "      <td>17285</td>\n",
       "      <td>6.8</td>\n",
       "      <td>17254</td>\n",
       "      <td>203</td>\n",
       "      <td>28</td>\n",
       "      <td>1172</td>\n",
       "      <td>1033</td>\n",
       "      <td>20.3</td>\n",
       "      <td>1728.5</td>\n",
       "    </tr>\n",
       "    <tr>\n",
       "      <th>3</th>\n",
       "      <td>4524384067</td>\n",
       "      <td>0</td>\n",
       "      <td>43</td>\n",
       "      <td>1</td>\n",
       "      <td>0</td>\n",
       "      <td>4</td>\n",
       "      <td>5</td>\n",
       "      <td>5</td>\n",
       "      <td>1</td>\n",
       "      <td>0</td>\n",
       "      <td>...</td>\n",
       "      <td>0</td>\n",
       "      <td>16478</td>\n",
       "      <td>7.0</td>\n",
       "      <td>17961</td>\n",
       "      <td>235</td>\n",
       "      <td>47</td>\n",
       "      <td>1321</td>\n",
       "      <td>7</td>\n",
       "      <td>23.5</td>\n",
       "      <td>1647.8</td>\n",
       "    </tr>\n",
       "    <tr>\n",
       "      <th>4</th>\n",
       "      <td>4436033771</td>\n",
       "      <td>0</td>\n",
       "      <td>75</td>\n",
       "      <td>4</td>\n",
       "      <td>0</td>\n",
       "      <td>6</td>\n",
       "      <td>6</td>\n",
       "      <td>6</td>\n",
       "      <td>0</td>\n",
       "      <td>0</td>\n",
       "      <td>...</td>\n",
       "      <td>0</td>\n",
       "      <td>17404</td>\n",
       "      <td>7.0</td>\n",
       "      <td>18313</td>\n",
       "      <td>225</td>\n",
       "      <td>67</td>\n",
       "      <td>1004</td>\n",
       "      <td>-230</td>\n",
       "      <td>22.5</td>\n",
       "      <td>1740.4</td>\n",
       "    </tr>\n",
       "  </tbody>\n",
       "</table>\n",
       "<p>5 rows × 40 columns</p>\n",
       "</div>"
      ],
      "text/plain": [
       "       gameId  blueWins  blueWardsPlaced  blueWardsDestroyed  blueFirstBlood  \\\n",
       "0  4519157822         0               28                   2               1   \n",
       "1  4523371949         0               12                   1               0   \n",
       "2  4521474530         0               15                   0               0   \n",
       "3  4524384067         0               43                   1               0   \n",
       "4  4436033771         0               75                   4               0   \n",
       "\n",
       "   blueKills  blueDeaths  blueAssists  blueEliteMonsters  blueDragons  ...  \\\n",
       "0          9           6           11                  0            0  ...   \n",
       "1          5           5            5                  0            0  ...   \n",
       "2          7          11            4                  1            1  ...   \n",
       "3          4           5            5                  1            0  ...   \n",
       "4          6           6            6                  0            0  ...   \n",
       "\n",
       "   redTowersDestroyed  redTotalGold  redAvgLevel  redTotalExperience  \\\n",
       "0                   0         16567          6.8               17047   \n",
       "1                   1         17620          6.8               17438   \n",
       "2                   0         17285          6.8               17254   \n",
       "3                   0         16478          7.0               17961   \n",
       "4                   0         17404          7.0               18313   \n",
       "\n",
       "   redTotalMinionsKilled  redTotalJungleMinionsKilled  redGoldDiff  \\\n",
       "0                    197                           55         -643   \n",
       "1                    240                           52         2908   \n",
       "2                    203                           28         1172   \n",
       "3                    235                           47         1321   \n",
       "4                    225                           67         1004   \n",
       "\n",
       "   redExperienceDiff  redCSPerMin  redGoldPerMin  \n",
       "0                  8         19.7         1656.7  \n",
       "1               1173         24.0         1762.0  \n",
       "2               1033         20.3         1728.5  \n",
       "3                  7         23.5         1647.8  \n",
       "4               -230         22.5         1740.4  \n",
       "\n",
       "[5 rows x 40 columns]"
      ]
     },
     "execution_count": 6,
     "metadata": {},
     "output_type": "execute_result"
    }
   ],
   "source": [
    "# pd.read_csv()로 csv파일 읽어들이기\n",
    "df = pd.read_csv('high_diamond_ranked_10min.csv')\n",
    "df.head()"
   ]
  },
  {
   "cell_type": "markdown",
   "metadata": {
    "id": "9L3BNVM7tHN5"
   },
   "source": [
    "## Step 2. EDA 및 데이터 기초 통계 분석\n"
   ]
  },
  {
   "cell_type": "markdown",
   "metadata": {
    "id": "HyFm33tNtVn7"
   },
   "source": [
    "### 문제 4. 데이터프레임의 각 컬럼 분석하기\n"
   ]
  },
  {
   "cell_type": "code",
   "execution_count": 7,
   "metadata": {
    "ExecuteTime": {
     "end_time": "2022-06-21T06:37:59.907578Z",
     "start_time": "2022-06-21T06:37:59.893576Z"
    }
   },
   "outputs": [],
   "source": [
    "pd.options.display.max_columns = 40"
   ]
  },
  {
   "cell_type": "code",
   "execution_count": 8,
   "metadata": {
    "ExecuteTime": {
     "end_time": "2022-06-21T06:37:59.954445Z",
     "start_time": "2022-06-21T06:37:59.908575Z"
    },
    "id": "YcR9BX23DIFW"
   },
   "outputs": [
    {
     "name": "stdout",
     "output_type": "stream",
     "text": [
      "<class 'pandas.core.frame.DataFrame'>\n",
      "RangeIndex: 9879 entries, 0 to 9878\n",
      "Data columns (total 40 columns):\n",
      " #   Column                        Non-Null Count  Dtype  \n",
      "---  ------                        --------------  -----  \n",
      " 0   gameId                        9879 non-null   int64  \n",
      " 1   blueWins                      9879 non-null   int64  \n",
      " 2   blueWardsPlaced               9879 non-null   int64  \n",
      " 3   blueWardsDestroyed            9879 non-null   int64  \n",
      " 4   blueFirstBlood                9879 non-null   int64  \n",
      " 5   blueKills                     9879 non-null   int64  \n",
      " 6   blueDeaths                    9879 non-null   int64  \n",
      " 7   blueAssists                   9879 non-null   int64  \n",
      " 8   blueEliteMonsters             9879 non-null   int64  \n",
      " 9   blueDragons                   9879 non-null   int64  \n",
      " 10  blueHeralds                   9879 non-null   int64  \n",
      " 11  blueTowersDestroyed           9879 non-null   int64  \n",
      " 12  blueTotalGold                 9879 non-null   int64  \n",
      " 13  blueAvgLevel                  9879 non-null   float64\n",
      " 14  blueTotalExperience           9879 non-null   int64  \n",
      " 15  blueTotalMinionsKilled        9879 non-null   int64  \n",
      " 16  blueTotalJungleMinionsKilled  9879 non-null   int64  \n",
      " 17  blueGoldDiff                  9879 non-null   int64  \n",
      " 18  blueExperienceDiff            9879 non-null   int64  \n",
      " 19  blueCSPerMin                  9879 non-null   float64\n",
      " 20  blueGoldPerMin                9879 non-null   float64\n",
      " 21  redWardsPlaced                9879 non-null   int64  \n",
      " 22  redWardsDestroyed             9879 non-null   int64  \n",
      " 23  redFirstBlood                 9879 non-null   int64  \n",
      " 24  redKills                      9879 non-null   int64  \n",
      " 25  redDeaths                     9879 non-null   int64  \n",
      " 26  redAssists                    9879 non-null   int64  \n",
      " 27  redEliteMonsters              9879 non-null   int64  \n",
      " 28  redDragons                    9879 non-null   int64  \n",
      " 29  redHeralds                    9879 non-null   int64  \n",
      " 30  redTowersDestroyed            9879 non-null   int64  \n",
      " 31  redTotalGold                  9879 non-null   int64  \n",
      " 32  redAvgLevel                   9879 non-null   float64\n",
      " 33  redTotalExperience            9879 non-null   int64  \n",
      " 34  redTotalMinionsKilled         9879 non-null   int64  \n",
      " 35  redTotalJungleMinionsKilled   9879 non-null   int64  \n",
      " 36  redGoldDiff                   9879 non-null   int64  \n",
      " 37  redExperienceDiff             9879 non-null   int64  \n",
      " 38  redCSPerMin                   9879 non-null   float64\n",
      " 39  redGoldPerMin                 9879 non-null   float64\n",
      "dtypes: float64(6), int64(34)\n",
      "memory usage: 3.0 MB\n"
     ]
    }
   ],
   "source": [
    "# DataFrame에서 제공하는 메소드를 이용하여 컬럼 분석하기 (head(), info(), describe())\n",
    "df.info()"
   ]
  },
  {
   "cell_type": "code",
   "execution_count": 9,
   "metadata": {
    "ExecuteTime": {
     "end_time": "2022-06-21T06:38:00.017238Z",
     "start_time": "2022-06-21T06:37:59.955443Z"
    }
   },
   "outputs": [
    {
     "data": {
      "text/html": [
       "<div>\n",
       "<style scoped>\n",
       "    .dataframe tbody tr th:only-of-type {\n",
       "        vertical-align: middle;\n",
       "    }\n",
       "\n",
       "    .dataframe tbody tr th {\n",
       "        vertical-align: top;\n",
       "    }\n",
       "\n",
       "    .dataframe thead th {\n",
       "        text-align: right;\n",
       "    }\n",
       "</style>\n",
       "<table border=\"1\" class=\"dataframe\">\n",
       "  <thead>\n",
       "    <tr style=\"text-align: right;\">\n",
       "      <th></th>\n",
       "      <th>gameId</th>\n",
       "      <th>blueWins</th>\n",
       "      <th>blueWardsPlaced</th>\n",
       "      <th>blueWardsDestroyed</th>\n",
       "      <th>blueFirstBlood</th>\n",
       "      <th>blueKills</th>\n",
       "      <th>blueDeaths</th>\n",
       "      <th>blueAssists</th>\n",
       "      <th>blueEliteMonsters</th>\n",
       "      <th>blueDragons</th>\n",
       "      <th>blueHeralds</th>\n",
       "      <th>blueTowersDestroyed</th>\n",
       "      <th>blueTotalGold</th>\n",
       "      <th>blueAvgLevel</th>\n",
       "      <th>blueTotalExperience</th>\n",
       "      <th>blueTotalMinionsKilled</th>\n",
       "      <th>blueTotalJungleMinionsKilled</th>\n",
       "      <th>blueGoldDiff</th>\n",
       "      <th>blueExperienceDiff</th>\n",
       "      <th>blueCSPerMin</th>\n",
       "      <th>blueGoldPerMin</th>\n",
       "      <th>redWardsPlaced</th>\n",
       "      <th>redWardsDestroyed</th>\n",
       "      <th>redFirstBlood</th>\n",
       "      <th>redKills</th>\n",
       "      <th>redDeaths</th>\n",
       "      <th>redAssists</th>\n",
       "      <th>redEliteMonsters</th>\n",
       "      <th>redDragons</th>\n",
       "      <th>redHeralds</th>\n",
       "      <th>redTowersDestroyed</th>\n",
       "      <th>redTotalGold</th>\n",
       "      <th>redAvgLevel</th>\n",
       "      <th>redTotalExperience</th>\n",
       "      <th>redTotalMinionsKilled</th>\n",
       "      <th>redTotalJungleMinionsKilled</th>\n",
       "      <th>redGoldDiff</th>\n",
       "      <th>redExperienceDiff</th>\n",
       "      <th>redCSPerMin</th>\n",
       "      <th>redGoldPerMin</th>\n",
       "    </tr>\n",
       "  </thead>\n",
       "  <tbody>\n",
       "    <tr>\n",
       "      <th>count</th>\n",
       "      <td>9.879000e+03</td>\n",
       "      <td>9879.000000</td>\n",
       "      <td>9879.000000</td>\n",
       "      <td>9879.000000</td>\n",
       "      <td>9879.000000</td>\n",
       "      <td>9879.000000</td>\n",
       "      <td>9879.000000</td>\n",
       "      <td>9879.000000</td>\n",
       "      <td>9879.000000</td>\n",
       "      <td>9879.000000</td>\n",
       "      <td>9879.000000</td>\n",
       "      <td>9879.000000</td>\n",
       "      <td>9879.000000</td>\n",
       "      <td>9879.000000</td>\n",
       "      <td>9879.000000</td>\n",
       "      <td>9879.000000</td>\n",
       "      <td>9879.000000</td>\n",
       "      <td>9879.000000</td>\n",
       "      <td>9879.000000</td>\n",
       "      <td>9879.000000</td>\n",
       "      <td>9879.000000</td>\n",
       "      <td>9879.000000</td>\n",
       "      <td>9879.000000</td>\n",
       "      <td>9879.000000</td>\n",
       "      <td>9879.000000</td>\n",
       "      <td>9879.000000</td>\n",
       "      <td>9879.000000</td>\n",
       "      <td>9879.000000</td>\n",
       "      <td>9879.000000</td>\n",
       "      <td>9879.000000</td>\n",
       "      <td>9879.000000</td>\n",
       "      <td>9879.000000</td>\n",
       "      <td>9879.000000</td>\n",
       "      <td>9879.000000</td>\n",
       "      <td>9879.000000</td>\n",
       "      <td>9879.000000</td>\n",
       "      <td>9879.000000</td>\n",
       "      <td>9879.000000</td>\n",
       "      <td>9879.000000</td>\n",
       "      <td>9879.000000</td>\n",
       "    </tr>\n",
       "    <tr>\n",
       "      <th>mean</th>\n",
       "      <td>4.500084e+09</td>\n",
       "      <td>0.499038</td>\n",
       "      <td>22.288288</td>\n",
       "      <td>2.824881</td>\n",
       "      <td>0.504808</td>\n",
       "      <td>6.183925</td>\n",
       "      <td>6.137666</td>\n",
       "      <td>6.645106</td>\n",
       "      <td>0.549954</td>\n",
       "      <td>0.361980</td>\n",
       "      <td>0.187974</td>\n",
       "      <td>0.051422</td>\n",
       "      <td>16503.455512</td>\n",
       "      <td>6.916004</td>\n",
       "      <td>17928.110133</td>\n",
       "      <td>216.699565</td>\n",
       "      <td>50.509667</td>\n",
       "      <td>14.414111</td>\n",
       "      <td>-33.620306</td>\n",
       "      <td>21.669956</td>\n",
       "      <td>1650.345551</td>\n",
       "      <td>22.367952</td>\n",
       "      <td>2.723150</td>\n",
       "      <td>0.495192</td>\n",
       "      <td>6.137666</td>\n",
       "      <td>6.183925</td>\n",
       "      <td>6.662112</td>\n",
       "      <td>0.573135</td>\n",
       "      <td>0.413098</td>\n",
       "      <td>0.160036</td>\n",
       "      <td>0.043021</td>\n",
       "      <td>16489.041401</td>\n",
       "      <td>6.925316</td>\n",
       "      <td>17961.730438</td>\n",
       "      <td>217.349226</td>\n",
       "      <td>51.313088</td>\n",
       "      <td>-14.414111</td>\n",
       "      <td>33.620306</td>\n",
       "      <td>21.734923</td>\n",
       "      <td>1648.904140</td>\n",
       "    </tr>\n",
       "    <tr>\n",
       "      <th>std</th>\n",
       "      <td>2.757328e+07</td>\n",
       "      <td>0.500024</td>\n",
       "      <td>18.019177</td>\n",
       "      <td>2.174998</td>\n",
       "      <td>0.500002</td>\n",
       "      <td>3.011028</td>\n",
       "      <td>2.933818</td>\n",
       "      <td>4.064520</td>\n",
       "      <td>0.625527</td>\n",
       "      <td>0.480597</td>\n",
       "      <td>0.390712</td>\n",
       "      <td>0.244369</td>\n",
       "      <td>1535.446636</td>\n",
       "      <td>0.305146</td>\n",
       "      <td>1200.523764</td>\n",
       "      <td>21.858437</td>\n",
       "      <td>9.898282</td>\n",
       "      <td>2453.349179</td>\n",
       "      <td>1920.370438</td>\n",
       "      <td>2.185844</td>\n",
       "      <td>153.544664</td>\n",
       "      <td>18.457427</td>\n",
       "      <td>2.138356</td>\n",
       "      <td>0.500002</td>\n",
       "      <td>2.933818</td>\n",
       "      <td>3.011028</td>\n",
       "      <td>4.060612</td>\n",
       "      <td>0.626482</td>\n",
       "      <td>0.492415</td>\n",
       "      <td>0.366658</td>\n",
       "      <td>0.216900</td>\n",
       "      <td>1490.888406</td>\n",
       "      <td>0.305311</td>\n",
       "      <td>1198.583912</td>\n",
       "      <td>21.911668</td>\n",
       "      <td>10.027885</td>\n",
       "      <td>2453.349179</td>\n",
       "      <td>1920.370438</td>\n",
       "      <td>2.191167</td>\n",
       "      <td>149.088841</td>\n",
       "    </tr>\n",
       "    <tr>\n",
       "      <th>min</th>\n",
       "      <td>4.295358e+09</td>\n",
       "      <td>0.000000</td>\n",
       "      <td>5.000000</td>\n",
       "      <td>0.000000</td>\n",
       "      <td>0.000000</td>\n",
       "      <td>0.000000</td>\n",
       "      <td>0.000000</td>\n",
       "      <td>0.000000</td>\n",
       "      <td>0.000000</td>\n",
       "      <td>0.000000</td>\n",
       "      <td>0.000000</td>\n",
       "      <td>0.000000</td>\n",
       "      <td>10730.000000</td>\n",
       "      <td>4.600000</td>\n",
       "      <td>10098.000000</td>\n",
       "      <td>90.000000</td>\n",
       "      <td>0.000000</td>\n",
       "      <td>-10830.000000</td>\n",
       "      <td>-9333.000000</td>\n",
       "      <td>9.000000</td>\n",
       "      <td>1073.000000</td>\n",
       "      <td>6.000000</td>\n",
       "      <td>0.000000</td>\n",
       "      <td>0.000000</td>\n",
       "      <td>0.000000</td>\n",
       "      <td>0.000000</td>\n",
       "      <td>0.000000</td>\n",
       "      <td>0.000000</td>\n",
       "      <td>0.000000</td>\n",
       "      <td>0.000000</td>\n",
       "      <td>0.000000</td>\n",
       "      <td>11212.000000</td>\n",
       "      <td>4.800000</td>\n",
       "      <td>10465.000000</td>\n",
       "      <td>107.000000</td>\n",
       "      <td>4.000000</td>\n",
       "      <td>-11467.000000</td>\n",
       "      <td>-8348.000000</td>\n",
       "      <td>10.700000</td>\n",
       "      <td>1121.200000</td>\n",
       "    </tr>\n",
       "    <tr>\n",
       "      <th>25%</th>\n",
       "      <td>4.483301e+09</td>\n",
       "      <td>0.000000</td>\n",
       "      <td>14.000000</td>\n",
       "      <td>1.000000</td>\n",
       "      <td>0.000000</td>\n",
       "      <td>4.000000</td>\n",
       "      <td>4.000000</td>\n",
       "      <td>4.000000</td>\n",
       "      <td>0.000000</td>\n",
       "      <td>0.000000</td>\n",
       "      <td>0.000000</td>\n",
       "      <td>0.000000</td>\n",
       "      <td>15415.500000</td>\n",
       "      <td>6.800000</td>\n",
       "      <td>17168.000000</td>\n",
       "      <td>202.000000</td>\n",
       "      <td>44.000000</td>\n",
       "      <td>-1585.500000</td>\n",
       "      <td>-1290.500000</td>\n",
       "      <td>20.200000</td>\n",
       "      <td>1541.550000</td>\n",
       "      <td>14.000000</td>\n",
       "      <td>1.000000</td>\n",
       "      <td>0.000000</td>\n",
       "      <td>4.000000</td>\n",
       "      <td>4.000000</td>\n",
       "      <td>4.000000</td>\n",
       "      <td>0.000000</td>\n",
       "      <td>0.000000</td>\n",
       "      <td>0.000000</td>\n",
       "      <td>0.000000</td>\n",
       "      <td>15427.500000</td>\n",
       "      <td>6.800000</td>\n",
       "      <td>17209.500000</td>\n",
       "      <td>203.000000</td>\n",
       "      <td>44.000000</td>\n",
       "      <td>-1596.000000</td>\n",
       "      <td>-1212.000000</td>\n",
       "      <td>20.300000</td>\n",
       "      <td>1542.750000</td>\n",
       "    </tr>\n",
       "    <tr>\n",
       "      <th>50%</th>\n",
       "      <td>4.510920e+09</td>\n",
       "      <td>0.000000</td>\n",
       "      <td>16.000000</td>\n",
       "      <td>3.000000</td>\n",
       "      <td>1.000000</td>\n",
       "      <td>6.000000</td>\n",
       "      <td>6.000000</td>\n",
       "      <td>6.000000</td>\n",
       "      <td>0.000000</td>\n",
       "      <td>0.000000</td>\n",
       "      <td>0.000000</td>\n",
       "      <td>0.000000</td>\n",
       "      <td>16398.000000</td>\n",
       "      <td>7.000000</td>\n",
       "      <td>17951.000000</td>\n",
       "      <td>218.000000</td>\n",
       "      <td>50.000000</td>\n",
       "      <td>14.000000</td>\n",
       "      <td>-28.000000</td>\n",
       "      <td>21.800000</td>\n",
       "      <td>1639.800000</td>\n",
       "      <td>16.000000</td>\n",
       "      <td>2.000000</td>\n",
       "      <td>0.000000</td>\n",
       "      <td>6.000000</td>\n",
       "      <td>6.000000</td>\n",
       "      <td>6.000000</td>\n",
       "      <td>0.000000</td>\n",
       "      <td>0.000000</td>\n",
       "      <td>0.000000</td>\n",
       "      <td>0.000000</td>\n",
       "      <td>16378.000000</td>\n",
       "      <td>7.000000</td>\n",
       "      <td>17974.000000</td>\n",
       "      <td>218.000000</td>\n",
       "      <td>51.000000</td>\n",
       "      <td>-14.000000</td>\n",
       "      <td>28.000000</td>\n",
       "      <td>21.800000</td>\n",
       "      <td>1637.800000</td>\n",
       "    </tr>\n",
       "    <tr>\n",
       "      <th>75%</th>\n",
       "      <td>4.521733e+09</td>\n",
       "      <td>1.000000</td>\n",
       "      <td>20.000000</td>\n",
       "      <td>4.000000</td>\n",
       "      <td>1.000000</td>\n",
       "      <td>8.000000</td>\n",
       "      <td>8.000000</td>\n",
       "      <td>9.000000</td>\n",
       "      <td>1.000000</td>\n",
       "      <td>1.000000</td>\n",
       "      <td>0.000000</td>\n",
       "      <td>0.000000</td>\n",
       "      <td>17459.000000</td>\n",
       "      <td>7.200000</td>\n",
       "      <td>18724.000000</td>\n",
       "      <td>232.000000</td>\n",
       "      <td>56.000000</td>\n",
       "      <td>1596.000000</td>\n",
       "      <td>1212.000000</td>\n",
       "      <td>23.200000</td>\n",
       "      <td>1745.900000</td>\n",
       "      <td>20.000000</td>\n",
       "      <td>4.000000</td>\n",
       "      <td>1.000000</td>\n",
       "      <td>8.000000</td>\n",
       "      <td>8.000000</td>\n",
       "      <td>9.000000</td>\n",
       "      <td>1.000000</td>\n",
       "      <td>1.000000</td>\n",
       "      <td>0.000000</td>\n",
       "      <td>0.000000</td>\n",
       "      <td>17418.500000</td>\n",
       "      <td>7.200000</td>\n",
       "      <td>18764.500000</td>\n",
       "      <td>233.000000</td>\n",
       "      <td>57.000000</td>\n",
       "      <td>1585.500000</td>\n",
       "      <td>1290.500000</td>\n",
       "      <td>23.300000</td>\n",
       "      <td>1741.850000</td>\n",
       "    </tr>\n",
       "    <tr>\n",
       "      <th>max</th>\n",
       "      <td>4.527991e+09</td>\n",
       "      <td>1.000000</td>\n",
       "      <td>250.000000</td>\n",
       "      <td>27.000000</td>\n",
       "      <td>1.000000</td>\n",
       "      <td>22.000000</td>\n",
       "      <td>22.000000</td>\n",
       "      <td>29.000000</td>\n",
       "      <td>2.000000</td>\n",
       "      <td>1.000000</td>\n",
       "      <td>1.000000</td>\n",
       "      <td>4.000000</td>\n",
       "      <td>23701.000000</td>\n",
       "      <td>8.000000</td>\n",
       "      <td>22224.000000</td>\n",
       "      <td>283.000000</td>\n",
       "      <td>92.000000</td>\n",
       "      <td>11467.000000</td>\n",
       "      <td>8348.000000</td>\n",
       "      <td>28.300000</td>\n",
       "      <td>2370.100000</td>\n",
       "      <td>276.000000</td>\n",
       "      <td>24.000000</td>\n",
       "      <td>1.000000</td>\n",
       "      <td>22.000000</td>\n",
       "      <td>22.000000</td>\n",
       "      <td>28.000000</td>\n",
       "      <td>2.000000</td>\n",
       "      <td>1.000000</td>\n",
       "      <td>1.000000</td>\n",
       "      <td>2.000000</td>\n",
       "      <td>22732.000000</td>\n",
       "      <td>8.200000</td>\n",
       "      <td>22269.000000</td>\n",
       "      <td>289.000000</td>\n",
       "      <td>92.000000</td>\n",
       "      <td>10830.000000</td>\n",
       "      <td>9333.000000</td>\n",
       "      <td>28.900000</td>\n",
       "      <td>2273.200000</td>\n",
       "    </tr>\n",
       "  </tbody>\n",
       "</table>\n",
       "</div>"
      ],
      "text/plain": [
       "             gameId     blueWins  blueWardsPlaced  blueWardsDestroyed  \\\n",
       "count  9.879000e+03  9879.000000      9879.000000         9879.000000   \n",
       "mean   4.500084e+09     0.499038        22.288288            2.824881   \n",
       "std    2.757328e+07     0.500024        18.019177            2.174998   \n",
       "min    4.295358e+09     0.000000         5.000000            0.000000   \n",
       "25%    4.483301e+09     0.000000        14.000000            1.000000   \n",
       "50%    4.510920e+09     0.000000        16.000000            3.000000   \n",
       "75%    4.521733e+09     1.000000        20.000000            4.000000   \n",
       "max    4.527991e+09     1.000000       250.000000           27.000000   \n",
       "\n",
       "       blueFirstBlood    blueKills   blueDeaths  blueAssists  \\\n",
       "count     9879.000000  9879.000000  9879.000000  9879.000000   \n",
       "mean         0.504808     6.183925     6.137666     6.645106   \n",
       "std          0.500002     3.011028     2.933818     4.064520   \n",
       "min          0.000000     0.000000     0.000000     0.000000   \n",
       "25%          0.000000     4.000000     4.000000     4.000000   \n",
       "50%          1.000000     6.000000     6.000000     6.000000   \n",
       "75%          1.000000     8.000000     8.000000     9.000000   \n",
       "max          1.000000    22.000000    22.000000    29.000000   \n",
       "\n",
       "       blueEliteMonsters  blueDragons  blueHeralds  blueTowersDestroyed  \\\n",
       "count        9879.000000  9879.000000  9879.000000          9879.000000   \n",
       "mean            0.549954     0.361980     0.187974             0.051422   \n",
       "std             0.625527     0.480597     0.390712             0.244369   \n",
       "min             0.000000     0.000000     0.000000             0.000000   \n",
       "25%             0.000000     0.000000     0.000000             0.000000   \n",
       "50%             0.000000     0.000000     0.000000             0.000000   \n",
       "75%             1.000000     1.000000     0.000000             0.000000   \n",
       "max             2.000000     1.000000     1.000000             4.000000   \n",
       "\n",
       "       blueTotalGold  blueAvgLevel  blueTotalExperience  \\\n",
       "count    9879.000000   9879.000000          9879.000000   \n",
       "mean    16503.455512      6.916004         17928.110133   \n",
       "std      1535.446636      0.305146          1200.523764   \n",
       "min     10730.000000      4.600000         10098.000000   \n",
       "25%     15415.500000      6.800000         17168.000000   \n",
       "50%     16398.000000      7.000000         17951.000000   \n",
       "75%     17459.000000      7.200000         18724.000000   \n",
       "max     23701.000000      8.000000         22224.000000   \n",
       "\n",
       "       blueTotalMinionsKilled  blueTotalJungleMinionsKilled  blueGoldDiff  \\\n",
       "count             9879.000000                   9879.000000   9879.000000   \n",
       "mean               216.699565                     50.509667     14.414111   \n",
       "std                 21.858437                      9.898282   2453.349179   \n",
       "min                 90.000000                      0.000000 -10830.000000   \n",
       "25%                202.000000                     44.000000  -1585.500000   \n",
       "50%                218.000000                     50.000000     14.000000   \n",
       "75%                232.000000                     56.000000   1596.000000   \n",
       "max                283.000000                     92.000000  11467.000000   \n",
       "\n",
       "       blueExperienceDiff  blueCSPerMin  blueGoldPerMin  redWardsPlaced  \\\n",
       "count         9879.000000   9879.000000     9879.000000     9879.000000   \n",
       "mean           -33.620306     21.669956     1650.345551       22.367952   \n",
       "std           1920.370438      2.185844      153.544664       18.457427   \n",
       "min          -9333.000000      9.000000     1073.000000        6.000000   \n",
       "25%          -1290.500000     20.200000     1541.550000       14.000000   \n",
       "50%            -28.000000     21.800000     1639.800000       16.000000   \n",
       "75%           1212.000000     23.200000     1745.900000       20.000000   \n",
       "max           8348.000000     28.300000     2370.100000      276.000000   \n",
       "\n",
       "       redWardsDestroyed  redFirstBlood     redKills    redDeaths  \\\n",
       "count        9879.000000    9879.000000  9879.000000  9879.000000   \n",
       "mean            2.723150       0.495192     6.137666     6.183925   \n",
       "std             2.138356       0.500002     2.933818     3.011028   \n",
       "min             0.000000       0.000000     0.000000     0.000000   \n",
       "25%             1.000000       0.000000     4.000000     4.000000   \n",
       "50%             2.000000       0.000000     6.000000     6.000000   \n",
       "75%             4.000000       1.000000     8.000000     8.000000   \n",
       "max            24.000000       1.000000    22.000000    22.000000   \n",
       "\n",
       "        redAssists  redEliteMonsters   redDragons   redHeralds  \\\n",
       "count  9879.000000       9879.000000  9879.000000  9879.000000   \n",
       "mean      6.662112          0.573135     0.413098     0.160036   \n",
       "std       4.060612          0.626482     0.492415     0.366658   \n",
       "min       0.000000          0.000000     0.000000     0.000000   \n",
       "25%       4.000000          0.000000     0.000000     0.000000   \n",
       "50%       6.000000          0.000000     0.000000     0.000000   \n",
       "75%       9.000000          1.000000     1.000000     0.000000   \n",
       "max      28.000000          2.000000     1.000000     1.000000   \n",
       "\n",
       "       redTowersDestroyed  redTotalGold  redAvgLevel  redTotalExperience  \\\n",
       "count         9879.000000   9879.000000  9879.000000         9879.000000   \n",
       "mean             0.043021  16489.041401     6.925316        17961.730438   \n",
       "std              0.216900   1490.888406     0.305311         1198.583912   \n",
       "min              0.000000  11212.000000     4.800000        10465.000000   \n",
       "25%              0.000000  15427.500000     6.800000        17209.500000   \n",
       "50%              0.000000  16378.000000     7.000000        17974.000000   \n",
       "75%              0.000000  17418.500000     7.200000        18764.500000   \n",
       "max              2.000000  22732.000000     8.200000        22269.000000   \n",
       "\n",
       "       redTotalMinionsKilled  redTotalJungleMinionsKilled   redGoldDiff  \\\n",
       "count            9879.000000                  9879.000000   9879.000000   \n",
       "mean              217.349226                    51.313088    -14.414111   \n",
       "std                21.911668                    10.027885   2453.349179   \n",
       "min               107.000000                     4.000000 -11467.000000   \n",
       "25%               203.000000                    44.000000  -1596.000000   \n",
       "50%               218.000000                    51.000000    -14.000000   \n",
       "75%               233.000000                    57.000000   1585.500000   \n",
       "max               289.000000                    92.000000  10830.000000   \n",
       "\n",
       "       redExperienceDiff  redCSPerMin  redGoldPerMin  \n",
       "count        9879.000000  9879.000000    9879.000000  \n",
       "mean           33.620306    21.734923    1648.904140  \n",
       "std          1920.370438     2.191167     149.088841  \n",
       "min         -8348.000000    10.700000    1121.200000  \n",
       "25%         -1212.000000    20.300000    1542.750000  \n",
       "50%            28.000000    21.800000    1637.800000  \n",
       "75%          1290.500000    23.300000    1741.850000  \n",
       "max          9333.000000    28.900000    2273.200000  "
      ]
     },
     "execution_count": 9,
     "metadata": {},
     "output_type": "execute_result"
    }
   ],
   "source": [
    "df.describe()"
   ]
  },
  {
   "cell_type": "markdown",
   "metadata": {
    "id": "HGHvPwkNtXgj"
   },
   "source": [
    "### 문제 5. 각 컬럼의 Correlation 히트맵으로 시각화하기\n"
   ]
  },
  {
   "cell_type": "code",
   "execution_count": 10,
   "metadata": {
    "ExecuteTime": {
     "end_time": "2022-06-21T06:38:00.361629Z",
     "start_time": "2022-06-21T06:38:00.019229Z"
    },
    "id": "GZXSBFPyDh6R"
   },
   "outputs": [
    {
     "data": {
      "text/plain": [
       "<AxesSubplot:>"
      ]
     },
     "execution_count": 10,
     "metadata": {},
     "output_type": "execute_result"
    },
    {
     "data": {
      "image/png": "[encoded data removed]",
      "text/plain": [
       "<Figure size 432x864 with 2 Axes>"
      ]
     },
     "metadata": {
      "needs_background": "light"
     },
     "output_type": "display_data"
    }
   ],
   "source": [
    "# DataFrame의 corr() 메소드와 Seaborn의 heatmap() 메소드를 이용하여 Pearson's correlation 시각화하기\n",
    "\n",
    "plt.figure(figsize=(6,12))\n",
    "sns.heatmap(df.corr()[['blueWins']], annot=True)"
   ]
  },
  {
   "cell_type": "markdown",
   "metadata": {
    "id": "KywGh9sjtYl9"
   },
   "source": [
    "### 문제 6. 각 컬럼과 승리 여부의 관계 시각화하기\n"
   ]
  },
  {
   "cell_type": "code",
   "execution_count": 11,
   "metadata": {
    "ExecuteTime": {
     "end_time": "2022-06-21T06:38:00.376610Z",
     "start_time": "2022-06-21T06:38:00.362626Z"
    }
   },
   "outputs": [
    {
     "data": {
      "text/plain": [
       "Index(['gameId', 'blueWins', 'blueWardsPlaced', 'blueWardsDestroyed',\n",
       "       'blueFirstBlood', 'blueKills', 'blueDeaths', 'blueAssists',\n",
       "       'blueEliteMonsters', 'blueDragons', 'blueHeralds',\n",
       "       'blueTowersDestroyed', 'blueTotalGold', 'blueAvgLevel',\n",
       "       'blueTotalExperience', 'blueTotalMinionsKilled',\n",
       "       'blueTotalJungleMinionsKilled', 'blueGoldDiff', 'blueExperienceDiff',\n",
       "       'blueCSPerMin', 'blueGoldPerMin', 'redWardsPlaced', 'redWardsDestroyed',\n",
       "       'redFirstBlood', 'redKills', 'redDeaths', 'redAssists',\n",
       "       'redEliteMonsters', 'redDragons', 'redHeralds', 'redTowersDestroyed',\n",
       "       'redTotalGold', 'redAvgLevel', 'redTotalExperience',\n",
       "       'redTotalMinionsKilled', 'redTotalJungleMinionsKilled', 'redGoldDiff',\n",
       "       'redExperienceDiff', 'redCSPerMin', 'redGoldPerMin'],\n",
       "      dtype='object')"
      ]
     },
     "execution_count": 11,
     "metadata": {},
     "output_type": "execute_result"
    }
   ],
   "source": [
    "df.columns"
   ]
  },
  {
   "cell_type": "code",
   "execution_count": 12,
   "metadata": {
    "ExecuteTime": {
     "end_time": "2022-06-21T06:38:00.837108Z",
     "start_time": "2022-06-21T06:38:00.377607Z"
    },
    "id": "TqXkwW8JDxhH"
   },
   "outputs": [
    {
     "data": {
      "text/plain": [
       "<AxesSubplot:xlabel='blueGoldDiff', ylabel='Count'>"
      ]
     },
     "execution_count": 12,
     "metadata": {},
     "output_type": "execute_result"
    },
    {
     "data": {
      "image/png": "[encoded data removed]",
      "text/plain": [
       "<Figure size 720x432 with 1 Axes>"
      ]
     },
     "metadata": {
      "needs_background": "light"
     },
     "output_type": "display_data"
    }
   ],
   "source": [
    "# numerical feature 분석\n",
    "\n",
    "plt.figure(figsize=(10,6))\n",
    "sns.histplot(data=df, x='blueGoldDiff', hue='blueWins', palette='RdBu', kde=True)"
   ]
  },
  {
   "cell_type": "code",
   "execution_count": 13,
   "metadata": {
    "ExecuteTime": {
     "end_time": "2022-06-21T06:38:00.980632Z",
     "start_time": "2022-06-21T06:38:00.838114Z"
    }
   },
   "outputs": [
    {
     "data": {
      "text/plain": [
       "<AxesSubplot:xlabel='blueKills', ylabel='Count'>"
      ]
     },
     "execution_count": 13,
     "metadata": {},
     "output_type": "execute_result"
    },
    {
     "data": {
      "image/png": "[encoded data removed]",
      "text/plain": [
       "<Figure size 432x288 with 1 Axes>"
      ]
     },
     "metadata": {
      "needs_background": "light"
     },
     "output_type": "display_data"
    }
   ],
   "source": [
    "sns.histplot(data=df, x='blueKills', hue='blueWins', palette='RdBu', kde=True, bins=8)"
   ]
  },
  {
   "cell_type": "code",
   "execution_count": 14,
   "metadata": {
    "ExecuteTime": {
     "end_time": "2022-06-21T06:38:01.330462Z",
     "start_time": "2022-06-21T06:38:00.980632Z"
    }
   },
   "outputs": [
    {
     "data": {
      "text/plain": [
       "<seaborn.axisgrid.JointGrid at 0x16bf02e8340>"
      ]
     },
     "execution_count": 14,
     "metadata": {},
     "output_type": "execute_result"
    },
    {
     "data": {
      "image/png": "[encoded data removed]",
      "text/plain": [
       "<Figure size 432x432 with 3 Axes>"
      ]
     },
     "metadata": {
      "needs_background": "light"
     },
     "output_type": "display_data"
    }
   ],
   "source": [
    "# 상관관계가 많이 높진 않아 두 컬럼 모두 사용해도 좋을 것 같다.\n",
    "\n",
    "sns.jointplot(x='blueKills', y='blueGoldDiff', data=df, hue='blueWins')"
   ]
  },
  {
   "cell_type": "code",
   "execution_count": 15,
   "metadata": {
    "ExecuteTime": {
     "end_time": "2022-06-21T06:38:01.692421Z",
     "start_time": "2022-06-21T06:38:01.331459Z"
    }
   },
   "outputs": [
    {
     "data": {
      "text/plain": [
       "<seaborn.axisgrid.JointGrid at 0x16bf21e2b80>"
      ]
     },
     "execution_count": 15,
     "metadata": {},
     "output_type": "execute_result"
    },
    {
     "data": {
      "image/png": "[encoded data removed]",
      "text/plain": [
       "<Figure size 432x432 with 3 Axes>"
      ]
     },
     "metadata": {
      "needs_background": "light"
     },
     "output_type": "display_data"
    }
   ],
   "source": [
    "# 상관성이 매우 높다\n",
    "\n",
    "sns.jointplot(x='blueExperienceDiff', y='blueGoldDiff', data=df, hue='blueWins')"
   ]
  },
  {
   "cell_type": "code",
   "execution_count": 16,
   "metadata": {
    "ExecuteTime": {
     "end_time": "2022-06-21T06:38:02.084037Z",
     "start_time": "2022-06-21T06:38:01.693418Z"
    }
   },
   "outputs": [
    {
     "data": {
      "text/plain": [
       "<seaborn.axisgrid.JointGrid at 0x16bf22b9b50>"
      ]
     },
     "execution_count": 16,
     "metadata": {},
     "output_type": "execute_result"
    },
    {
     "data": {
      "image/png": "[encoded data removed]",
      "text/plain": [
       "<Figure size 432x432 with 3 Axes>"
      ]
     },
     "metadata": {
      "needs_background": "light"
     },
     "output_type": "display_data"
    }
   ],
   "source": [
    "sns.jointplot(x='redGoldDiff', y='blueGoldDiff', data=df, hue='blueWins')"
   ]
  },
  {
   "cell_type": "code",
   "execution_count": 17,
   "metadata": {
    "ExecuteTime": {
     "end_time": "2022-06-21T06:38:02.098677Z",
     "start_time": "2022-06-21T06:38:02.084684Z"
    }
   },
   "outputs": [],
   "source": [
    "# categorical feature 분석\n",
    "# 승패와 상관관계가 높은 feature 위주로 확인"
   ]
  },
  {
   "cell_type": "code",
   "execution_count": 18,
   "metadata": {
    "ExecuteTime": {
     "end_time": "2022-06-21T06:38:02.177464Z",
     "start_time": "2022-06-21T06:38:02.099676Z"
    }
   },
   "outputs": [
    {
     "data": {
      "text/plain": [
       "<AxesSubplot:xlabel='blueDragons', ylabel='count'>"
      ]
     },
     "execution_count": 18,
     "metadata": {},
     "output_type": "execute_result"
    },
    {
     "data": {
      "image/png": "[encoded data removed]",
      "text/plain": [
       "<Figure size 432x288 with 1 Axes>"
      ]
     },
     "metadata": {
      "needs_background": "light"
     },
     "output_type": "display_data"
    }
   ],
   "source": [
    "# blue가 드래곤을 잡지 못한 경우가 더 많이 있다. \n",
    "# blue가 드래곤을 잡았을 때 승리 횟수가 많다.\n",
    "\n",
    "sns.countplot(data=df, x='blueDragons', hue='blueWins', palette='RdBu')"
   ]
  },
  {
   "cell_type": "code",
   "execution_count": 19,
   "metadata": {
    "ExecuteTime": {
     "end_time": "2022-06-21T06:38:02.256866Z",
     "start_time": "2022-06-21T06:38:02.178462Z"
    }
   },
   "outputs": [
    {
     "data": {
      "text/plain": [
       "<AxesSubplot:xlabel='redDragons', ylabel='count'>"
      ]
     },
     "execution_count": 19,
     "metadata": {},
     "output_type": "execute_result"
    },
    {
     "data": {
      "image/png": "[encoded data removed]",
      "text/plain": [
       "<Figure size 432x288 with 1 Axes>"
      ]
     },
     "metadata": {
      "needs_background": "light"
     },
     "output_type": "display_data"
    }
   ],
   "source": [
    "sns.countplot(data=df, x='redDragons', hue='blueWins', palette='RdBu')"
   ]
  },
  {
   "cell_type": "code",
   "execution_count": 20,
   "metadata": {
    "ExecuteTime": {
     "end_time": "2022-06-21T06:38:02.320038Z",
     "start_time": "2022-06-21T06:38:02.257867Z"
    }
   },
   "outputs": [
    {
     "data": {
      "text/plain": [
       "<AxesSubplot:xlabel='blueFirstBlood', ylabel='count'>"
      ]
     },
     "execution_count": 20,
     "metadata": {},
     "output_type": "execute_result"
    },
    {
     "data": {
      "image/png": "[encoded data removed]",
      "text/plain": [
       "<Figure size 432x288 with 1 Axes>"
      ]
     },
     "metadata": {
      "needs_background": "light"
     },
     "output_type": "display_data"
    }
   ],
   "source": [
    "sns.countplot(data=df, x='blueFirstBlood', hue='blueWins', palette='RdBu')"
   ]
  },
  {
   "cell_type": "markdown",
   "metadata": {
    "id": "GD18QuastZy8"
   },
   "source": [
    "## Step 3. 모델 학습을 위한 데이터 전처리\n"
   ]
  },
  {
   "cell_type": "markdown",
   "metadata": {
    "id": "Dev2yLeMta85"
   },
   "source": [
    "### 문제 7. StandardScaler를 이용해 수치형 데이터 표준화하기\n"
   ]
  },
  {
   "cell_type": "code",
   "execution_count": 21,
   "metadata": {
    "ExecuteTime": {
     "end_time": "2022-06-21T06:38:02.367880Z",
     "start_time": "2022-06-21T06:38:02.320038Z"
    },
    "executionInfo": {
     "elapsed": 1611,
     "status": "ok",
     "timestamp": 1609350585459,
     "user": {
      "displayName": "신제용",
      "photoUrl": "https://lh3.googleusercontent.com/a-/AOh14GiqoXzq2BqHV7vmhSsxVY0rMbUEsZ9tl6uaOUIreunLJzXSkRxysW7iPX4WdZ25vGw26T450Ehu3xfGCE-Ib5R14ys1gn3mNgIcjlMBXqNUtbovVxVZfwmApmoBl6Upq7CMbqcTj5SHMU3rmCv2wfPdm81Wvd6IA1pNBFbNZKGotTXxoN9RD41C67Nx6leBbrcgTzVKyGC6FmfS8sKm5MTiFctvD__Db1pqDqJ6mmSJjwTUhEc4Ro0i0CA5zYFzX27XNzm2Ewjc3qjHBzJurfUR2Iv2XMKF1ZyKbbp7i9XQZv4c_U1VgKNXKHCZMzlHrjsen7BYglD17uh575sp6g7au7HNsoiyJJEAOXP0k3_ahNaIr5fKcnQ3kaWmUbmiXAc4XAst_PPs7mFo8DSaIIhk1b9tjNvLxxS1MPlS5jPbdwZBIfF-mdZvS-aGYdoNqWIcmZYGWSH6ORi4MzUTBrbjisiFTo-0Q2fKu8NeFkxvx9iu1NovvC5650mVbPj9JCj9aVZ818GsTg7sM0v_33yU2gVN6Op-zNaRfGA2vqiFRxHlwA6D6cAaAfc7IQWcyD7VUxkKY_hnCWW3iCx-kp8YiEnSD6D9u8MEpOkjdUz6IpvP_S3qlTk3HcUmRiOLTWObMqWFSfqsXRXWjLoFovkOFt5BFG2ol-j1KVy_QRd69yGH4QtACy3daBB-I5QMuFYc1lqMml3D5KgLF2d6iG8z0y3i9aqkyiFaNjztvukMhI5jcuzD3ozlKM7jiMtydGw73A=s64",
      "userId": "05573267030229507438"
     },
     "user_tz": -540
    },
    "id": "_k_SDCh5xMgD"
   },
   "outputs": [],
   "source": [
    "from sklearn.preprocessing import StandardScaler"
   ]
  },
  {
   "cell_type": "code",
   "execution_count": 22,
   "metadata": {
    "ExecuteTime": {
     "end_time": "2022-06-21T06:38:02.383175Z",
     "start_time": "2022-06-21T06:38:02.368873Z"
    }
   },
   "outputs": [
    {
     "data": {
      "text/plain": [
       "Index(['gameId', 'blueWins', 'blueWardsPlaced', 'blueWardsDestroyed',\n",
       "       'blueFirstBlood', 'blueKills', 'blueDeaths', 'blueAssists',\n",
       "       'blueEliteMonsters', 'blueDragons', 'blueHeralds',\n",
       "       'blueTowersDestroyed', 'blueTotalGold', 'blueAvgLevel',\n",
       "       'blueTotalExperience', 'blueTotalMinionsKilled',\n",
       "       'blueTotalJungleMinionsKilled', 'blueGoldDiff', 'blueExperienceDiff',\n",
       "       'blueCSPerMin', 'blueGoldPerMin', 'redWardsPlaced', 'redWardsDestroyed',\n",
       "       'redFirstBlood', 'redKills', 'redDeaths', 'redAssists',\n",
       "       'redEliteMonsters', 'redDragons', 'redHeralds', 'redTowersDestroyed',\n",
       "       'redTotalGold', 'redAvgLevel', 'redTotalExperience',\n",
       "       'redTotalMinionsKilled', 'redTotalJungleMinionsKilled', 'redGoldDiff',\n",
       "       'redExperienceDiff', 'redCSPerMin', 'redGoldPerMin'],\n",
       "      dtype='object')"
      ]
     },
     "execution_count": 22,
     "metadata": {},
     "output_type": "execute_result"
    }
   ],
   "source": [
    "df.columns"
   ]
  },
  {
   "cell_type": "code",
   "execution_count": 23,
   "metadata": {
    "ExecuteTime": {
     "end_time": "2022-06-21T06:38:02.398128Z",
     "start_time": "2022-06-21T06:38:02.384175Z"
    }
   },
   "outputs": [],
   "source": [
    "# 상관관계가 높은 column drop\n",
    "df.drop(['gameId', 'redFirstBlood', 'redKills', 'redDeaths', \n",
    "         'redTotalGold', 'redTotalExperience',\n",
    "         'redGoldDiff', 'redExperienceDiff'], axis=1, inplace=True)"
   ]
  },
  {
   "cell_type": "code",
   "execution_count": 24,
   "metadata": {
    "ExecuteTime": {
     "end_time": "2022-06-21T06:38:02.414128Z",
     "start_time": "2022-06-21T06:38:02.399125Z"
    }
   },
   "outputs": [
    {
     "data": {
      "text/plain": [
       "Index(['blueWins', 'blueWardsPlaced', 'blueWardsDestroyed', 'blueFirstBlood',\n",
       "       'blueKills', 'blueDeaths', 'blueAssists', 'blueEliteMonsters',\n",
       "       'blueDragons', 'blueHeralds', 'blueTowersDestroyed', 'blueTotalGold',\n",
       "       'blueAvgLevel', 'blueTotalExperience', 'blueTotalMinionsKilled',\n",
       "       'blueTotalJungleMinionsKilled', 'blueGoldDiff', 'blueExperienceDiff',\n",
       "       'blueCSPerMin', 'blueGoldPerMin', 'redWardsPlaced', 'redWardsDestroyed',\n",
       "       'redAssists', 'redEliteMonsters', 'redDragons', 'redHeralds',\n",
       "       'redTowersDestroyed', 'redAvgLevel', 'redTotalMinionsKilled',\n",
       "       'redTotalJungleMinionsKilled', 'redCSPerMin', 'redGoldPerMin'],\n",
       "      dtype='object')"
      ]
     },
     "execution_count": 24,
     "metadata": {},
     "output_type": "execute_result"
    }
   ],
   "source": [
    "df.columns"
   ]
  },
  {
   "cell_type": "code",
   "execution_count": 25,
   "metadata": {
    "ExecuteTime": {
     "end_time": "2022-06-21T06:38:02.430074Z",
     "start_time": "2022-06-21T06:38:02.415122Z"
    },
    "id": "W3EO22NCE3wG"
   },
   "outputs": [],
   "source": [
    "# StandardScaler를 이용해 수치형 데이터를 표준화하기\n",
    "# Hint) Multicollinearity를 피하기 위해 불필요한 컬럼은 drop한다.\n",
    "\n",
    "X_num = df[['blueWardsPlaced', 'blueWardsDestroyed',\n",
    "       'blueKills', 'blueDeaths', 'blueAssists', 'blueEliteMonsters',\n",
    "       'blueTowersDestroyed', 'blueTotalGold',\n",
    "       'blueAvgLevel', 'blueTotalExperience', 'blueTotalMinionsKilled',\n",
    "       'blueTotalJungleMinionsKilled', 'blueGoldDiff', 'blueExperienceDiff',\n",
    "       'blueCSPerMin', 'blueGoldPerMin', 'redWardsPlaced', 'redWardsDestroyed',\n",
    "       'redAssists', 'redEliteMonsters',\n",
    "       'redTowersDestroyed', 'redAvgLevel', 'redTotalMinionsKilled',\n",
    "       'redTotalJungleMinionsKilled', 'redCSPerMin', 'redGoldPerMin']]\n",
    "X_cat = df[['blueFirstBlood', 'blueDragons', 'blueHeralds', 'redDragons', 'redHeralds']]\n",
    "\n",
    "scaler = StandardScaler()\n",
    "scaler.fit(X_num)\n",
    "X_scaled = scaler.transform(X_num)\n",
    "X_scaled = pd.DataFrame(X_scaled, index=X_num.index, columns=X_num.columns)\n",
    "\n",
    "\n",
    "X = pd.concat([X_scaled, X_cat], axis=1)\n",
    "y = df['blueWins']"
   ]
  },
  {
   "cell_type": "code",
   "execution_count": 26,
   "metadata": {
    "ExecuteTime": {
     "end_time": "2022-06-21T06:38:02.460968Z",
     "start_time": "2022-06-21T06:38:02.431068Z"
    }
   },
   "outputs": [
    {
     "data": {
      "text/html": [
       "<div>\n",
       "<style scoped>\n",
       "    .dataframe tbody tr th:only-of-type {\n",
       "        vertical-align: middle;\n",
       "    }\n",
       "\n",
       "    .dataframe tbody tr th {\n",
       "        vertical-align: top;\n",
       "    }\n",
       "\n",
       "    .dataframe thead th {\n",
       "        text-align: right;\n",
       "    }\n",
       "</style>\n",
       "<table border=\"1\" class=\"dataframe\">\n",
       "  <thead>\n",
       "    <tr style=\"text-align: right;\">\n",
       "      <th></th>\n",
       "      <th>blueWardsPlaced</th>\n",
       "      <th>blueWardsDestroyed</th>\n",
       "      <th>blueKills</th>\n",
       "      <th>blueDeaths</th>\n",
       "      <th>blueAssists</th>\n",
       "      <th>blueEliteMonsters</th>\n",
       "      <th>blueTowersDestroyed</th>\n",
       "      <th>blueTotalGold</th>\n",
       "      <th>blueAvgLevel</th>\n",
       "      <th>blueTotalExperience</th>\n",
       "      <th>blueTotalMinionsKilled</th>\n",
       "      <th>blueTotalJungleMinionsKilled</th>\n",
       "      <th>blueGoldDiff</th>\n",
       "      <th>blueExperienceDiff</th>\n",
       "      <th>blueCSPerMin</th>\n",
       "      <th>blueGoldPerMin</th>\n",
       "      <th>redWardsPlaced</th>\n",
       "      <th>redWardsDestroyed</th>\n",
       "      <th>redAssists</th>\n",
       "      <th>redEliteMonsters</th>\n",
       "      <th>redTowersDestroyed</th>\n",
       "      <th>redAvgLevel</th>\n",
       "      <th>redTotalMinionsKilled</th>\n",
       "      <th>redTotalJungleMinionsKilled</th>\n",
       "      <th>redCSPerMin</th>\n",
       "      <th>redGoldPerMin</th>\n",
       "      <th>blueFirstBlood</th>\n",
       "      <th>blueDragons</th>\n",
       "      <th>blueHeralds</th>\n",
       "      <th>redDragons</th>\n",
       "      <th>redHeralds</th>\n",
       "    </tr>\n",
       "  </thead>\n",
       "  <tbody>\n",
       "    <tr>\n",
       "      <th>0</th>\n",
       "      <td>0.316996</td>\n",
       "      <td>-0.379275</td>\n",
       "      <td>0.935301</td>\n",
       "      <td>-0.046926</td>\n",
       "      <td>1.071495</td>\n",
       "      <td>-0.879231</td>\n",
       "      <td>-0.210439</td>\n",
       "      <td>0.460179</td>\n",
       "      <td>-1.035635</td>\n",
       "      <td>-0.740639</td>\n",
       "      <td>-0.992782</td>\n",
       "      <td>-1.465951</td>\n",
       "      <td>0.256228</td>\n",
       "      <td>0.013342</td>\n",
       "      <td>-0.992782</td>\n",
       "      <td>0.460179</td>\n",
       "      <td>-0.399207</td>\n",
       "      <td>1.532493</td>\n",
       "      <td>0.329496</td>\n",
       "      <td>-0.914893</td>\n",
       "      <td>-0.198353</td>\n",
       "      <td>-0.410475</td>\n",
       "      <td>-0.928741</td>\n",
       "      <td>0.367685</td>\n",
       "      <td>-0.928741</td>\n",
       "      <td>0.052293</td>\n",
       "      <td>1</td>\n",
       "      <td>0</td>\n",
       "      <td>0</td>\n",
       "      <td>0</td>\n",
       "      <td>0</td>\n",
       "    </tr>\n",
       "    <tr>\n",
       "      <th>1</th>\n",
       "      <td>-0.570992</td>\n",
       "      <td>-0.839069</td>\n",
       "      <td>-0.393216</td>\n",
       "      <td>-0.387796</td>\n",
       "      <td>-0.404768</td>\n",
       "      <td>-0.879231</td>\n",
       "      <td>-0.210439</td>\n",
       "      <td>-1.166792</td>\n",
       "      <td>-1.035635</td>\n",
       "      <td>-1.385391</td>\n",
       "      <td>-1.953558</td>\n",
       "      <td>-0.758722</td>\n",
       "      <td>-1.191254</td>\n",
       "      <td>-0.593342</td>\n",
       "      <td>-1.953558</td>\n",
       "      <td>-1.166792</td>\n",
       "      <td>-0.561751</td>\n",
       "      <td>-0.805870</td>\n",
       "      <td>-1.148188</td>\n",
       "      <td>2.277700</td>\n",
       "      <td>4.412301</td>\n",
       "      <td>-0.410475</td>\n",
       "      <td>1.033784</td>\n",
       "      <td>0.068504</td>\n",
       "      <td>1.033784</td>\n",
       "      <td>0.758619</td>\n",
       "      <td>0</td>\n",
       "      <td>0</td>\n",
       "      <td>0</td>\n",
       "      <td>1</td>\n",
       "      <td>1</td>\n",
       "    </tr>\n",
       "    <tr>\n",
       "      <th>2</th>\n",
       "      <td>-0.404494</td>\n",
       "      <td>-1.298863</td>\n",
       "      <td>0.271042</td>\n",
       "      <td>1.657424</td>\n",
       "      <td>-0.650812</td>\n",
       "      <td>0.719503</td>\n",
       "      <td>-0.210439</td>\n",
       "      <td>-0.254307</td>\n",
       "      <td>-1.691092</td>\n",
       "      <td>-1.422043</td>\n",
       "      <td>-1.404543</td>\n",
       "      <td>-0.455624</td>\n",
       "      <td>-0.483614</td>\n",
       "      <td>-0.520436</td>\n",
       "      <td>-1.404543</td>\n",
       "      <td>-0.254307</td>\n",
       "      <td>-0.399207</td>\n",
       "      <td>0.129475</td>\n",
       "      <td>1.807181</td>\n",
       "      <td>-0.914893</td>\n",
       "      <td>-0.198353</td>\n",
       "      <td>-0.410475</td>\n",
       "      <td>-0.654900</td>\n",
       "      <td>-2.324944</td>\n",
       "      <td>-0.654900</td>\n",
       "      <td>0.533909</td>\n",
       "      <td>0</td>\n",
       "      <td>1</td>\n",
       "      <td>0</td>\n",
       "      <td>0</td>\n",
       "      <td>0</td>\n",
       "    </tr>\n",
       "    <tr>\n",
       "      <th>3</th>\n",
       "      <td>1.149484</td>\n",
       "      <td>-0.839069</td>\n",
       "      <td>-0.725346</td>\n",
       "      <td>-0.387796</td>\n",
       "      <td>-0.404768</td>\n",
       "      <td>0.719503</td>\n",
       "      <td>-0.210439</td>\n",
       "      <td>-0.876959</td>\n",
       "      <td>0.275280</td>\n",
       "      <td>0.021567</td>\n",
       "      <td>-0.718275</td>\n",
       "      <td>0.453671</td>\n",
       "      <td>-0.544350</td>\n",
       "      <td>0.013863</td>\n",
       "      <td>-0.718275</td>\n",
       "      <td>-0.876959</td>\n",
       "      <td>-0.399207</td>\n",
       "      <td>-0.338198</td>\n",
       "      <td>0.822058</td>\n",
       "      <td>-0.914893</td>\n",
       "      <td>-0.198353</td>\n",
       "      <td>0.244627</td>\n",
       "      <td>0.805583</td>\n",
       "      <td>-0.430131</td>\n",
       "      <td>0.805583</td>\n",
       "      <td>-0.007406</td>\n",
       "      <td>0</td>\n",
       "      <td>0</td>\n",
       "      <td>1</td>\n",
       "      <td>0</td>\n",
       "      <td>0</td>\n",
       "    </tr>\n",
       "    <tr>\n",
       "      <th>4</th>\n",
       "      <td>2.925460</td>\n",
       "      <td>0.540312</td>\n",
       "      <td>-0.061087</td>\n",
       "      <td>-0.046926</td>\n",
       "      <td>-0.158724</td>\n",
       "      <td>-0.879231</td>\n",
       "      <td>-0.210439</td>\n",
       "      <td>-0.067382</td>\n",
       "      <td>0.275280</td>\n",
       "      <td>0.512211</td>\n",
       "      <td>-0.306513</td>\n",
       "      <td>0.655736</td>\n",
       "      <td>-0.415133</td>\n",
       "      <td>0.137283</td>\n",
       "      <td>-0.306513</td>\n",
       "      <td>-0.067382</td>\n",
       "      <td>-0.290844</td>\n",
       "      <td>-0.338198</td>\n",
       "      <td>0.083215</td>\n",
       "      <td>0.681403</td>\n",
       "      <td>-0.198353</td>\n",
       "      <td>0.244627</td>\n",
       "      <td>0.349182</td>\n",
       "      <td>1.564408</td>\n",
       "      <td>0.349182</td>\n",
       "      <td>0.613731</td>\n",
       "      <td>0</td>\n",
       "      <td>0</td>\n",
       "      <td>0</td>\n",
       "      <td>1</td>\n",
       "      <td>0</td>\n",
       "    </tr>\n",
       "    <tr>\n",
       "      <th>...</th>\n",
       "      <td>...</td>\n",
       "      <td>...</td>\n",
       "      <td>...</td>\n",
       "      <td>...</td>\n",
       "      <td>...</td>\n",
       "      <td>...</td>\n",
       "      <td>...</td>\n",
       "      <td>...</td>\n",
       "      <td>...</td>\n",
       "      <td>...</td>\n",
       "      <td>...</td>\n",
       "      <td>...</td>\n",
       "      <td>...</td>\n",
       "      <td>...</td>\n",
       "      <td>...</td>\n",
       "      <td>...</td>\n",
       "      <td>...</td>\n",
       "      <td>...</td>\n",
       "      <td>...</td>\n",
       "      <td>...</td>\n",
       "      <td>...</td>\n",
       "      <td>...</td>\n",
       "      <td>...</td>\n",
       "      <td>...</td>\n",
       "      <td>...</td>\n",
       "      <td>...</td>\n",
       "      <td>...</td>\n",
       "      <td>...</td>\n",
       "      <td>...</td>\n",
       "      <td>...</td>\n",
       "      <td>...</td>\n",
       "    </tr>\n",
       "    <tr>\n",
       "      <th>9874</th>\n",
       "      <td>-0.293496</td>\n",
       "      <td>-0.379275</td>\n",
       "      <td>0.271042</td>\n",
       "      <td>-0.728666</td>\n",
       "      <td>-0.404768</td>\n",
       "      <td>0.719503</td>\n",
       "      <td>-0.210439</td>\n",
       "      <td>0.821656</td>\n",
       "      <td>0.930738</td>\n",
       "      <td>0.865408</td>\n",
       "      <td>-0.260762</td>\n",
       "      <td>1.868129</td>\n",
       "      <td>1.020936</td>\n",
       "      <td>1.303263</td>\n",
       "      <td>-0.260762</td>\n",
       "      <td>0.821656</td>\n",
       "      <td>1.280419</td>\n",
       "      <td>0.129475</td>\n",
       "      <td>0.083215</td>\n",
       "      <td>-0.914893</td>\n",
       "      <td>-0.198353</td>\n",
       "      <td>-0.410475</td>\n",
       "      <td>0.531742</td>\n",
       "      <td>-1.726582</td>\n",
       "      <td>0.531742</td>\n",
       "      <td>-0.833801</td>\n",
       "      <td>1</td>\n",
       "      <td>1</td>\n",
       "      <td>0</td>\n",
       "      <td>0</td>\n",
       "      <td>0</td>\n",
       "    </tr>\n",
       "    <tr>\n",
       "      <th>9875</th>\n",
       "      <td>1.759976</td>\n",
       "      <td>-1.298863</td>\n",
       "      <td>-0.061087</td>\n",
       "      <td>-0.728666</td>\n",
       "      <td>0.333364</td>\n",
       "      <td>0.719503</td>\n",
       "      <td>-0.210439</td>\n",
       "      <td>-0.172894</td>\n",
       "      <td>0.930738</td>\n",
       "      <td>1.105315</td>\n",
       "      <td>0.745765</td>\n",
       "      <td>-0.253559</td>\n",
       "      <td>0.312888</td>\n",
       "      <td>0.479942</td>\n",
       "      <td>0.745765</td>\n",
       "      <td>-0.172894</td>\n",
       "      <td>-0.561751</td>\n",
       "      <td>8.547582</td>\n",
       "      <td>-0.901908</td>\n",
       "      <td>-0.914893</td>\n",
       "      <td>-0.198353</td>\n",
       "      <td>0.244627</td>\n",
       "      <td>-0.517980</td>\n",
       "      <td>0.467412</td>\n",
       "      <td>-0.517980</td>\n",
       "      <td>-0.692938</td>\n",
       "      <td>0</td>\n",
       "      <td>1</td>\n",
       "      <td>0</td>\n",
       "      <td>0</td>\n",
       "      <td>0</td>\n",
       "    </tr>\n",
       "    <tr>\n",
       "      <th>9876</th>\n",
       "      <td>0.039499</td>\n",
       "      <td>-0.839069</td>\n",
       "      <td>-0.061087</td>\n",
       "      <td>0.293944</td>\n",
       "      <td>-0.404768</td>\n",
       "      <td>-0.879231</td>\n",
       "      <td>-0.210439</td>\n",
       "      <td>-0.391082</td>\n",
       "      <td>0.275280</td>\n",
       "      <td>0.086541</td>\n",
       "      <td>-0.306513</td>\n",
       "      <td>-0.556657</td>\n",
       "      <td>-0.990702</td>\n",
       "      <td>-0.959957</td>\n",
       "      <td>-0.306513</td>\n",
       "      <td>-0.391082</td>\n",
       "      <td>-0.453388</td>\n",
       "      <td>-1.273543</td>\n",
       "      <td>1.068338</td>\n",
       "      <td>0.681403</td>\n",
       "      <td>-0.198353</td>\n",
       "      <td>1.554831</td>\n",
       "      <td>1.992226</td>\n",
       "      <td>0.866319</td>\n",
       "      <td>1.992226</td>\n",
       "      <td>1.227490</td>\n",
       "      <td>0</td>\n",
       "      <td>0</td>\n",
       "      <td>0</td>\n",
       "      <td>1</td>\n",
       "      <td>0</td>\n",
       "    </tr>\n",
       "    <tr>\n",
       "      <th>9877</th>\n",
       "      <td>-0.459994</td>\n",
       "      <td>0.540312</td>\n",
       "      <td>-1.389604</td>\n",
       "      <td>-1.069536</td>\n",
       "      <td>-0.896856</td>\n",
       "      <td>0.719503</td>\n",
       "      <td>-0.210439</td>\n",
       "      <td>-1.331573</td>\n",
       "      <td>-1.035635</td>\n",
       "      <td>-0.582367</td>\n",
       "      <td>0.334004</td>\n",
       "      <td>-0.253559</td>\n",
       "      <td>-0.347874</td>\n",
       "      <td>-0.547516</td>\n",
       "      <td>0.334004</td>\n",
       "      <td>-1.331573</td>\n",
       "      <td>2.364049</td>\n",
       "      <td>0.597148</td>\n",
       "      <td>-1.394469</td>\n",
       "      <td>-0.914893</td>\n",
       "      <td>-0.198353</td>\n",
       "      <td>0.899729</td>\n",
       "      <td>1.353264</td>\n",
       "      <td>-1.128220</td>\n",
       "      <td>1.353264</td>\n",
       "      <td>-0.798921</td>\n",
       "      <td>1</td>\n",
       "      <td>1</td>\n",
       "      <td>0</td>\n",
       "      <td>0</td>\n",
       "      <td>0</td>\n",
       "    </tr>\n",
       "    <tr>\n",
       "      <th>9878</th>\n",
       "      <td>-0.237997</td>\n",
       "      <td>-1.298863</td>\n",
       "      <td>-0.061087</td>\n",
       "      <td>-0.046926</td>\n",
       "      <td>-0.404768</td>\n",
       "      <td>-0.879231</td>\n",
       "      <td>-0.210439</td>\n",
       "      <td>-0.154657</td>\n",
       "      <td>0.275280</td>\n",
       "      <td>-0.505730</td>\n",
       "      <td>-0.443767</td>\n",
       "      <td>-0.657690</td>\n",
       "      <td>0.371994</td>\n",
       "      <td>-0.012696</td>\n",
       "      <td>-0.443767</td>\n",
       "      <td>-0.154657</td>\n",
       "      <td>-0.724295</td>\n",
       "      <td>-0.338198</td>\n",
       "      <td>-0.655627</td>\n",
       "      <td>0.681403</td>\n",
       "      <td>-0.198353</td>\n",
       "      <td>-0.410475</td>\n",
       "      <td>-0.746180</td>\n",
       "      <td>-0.529858</td>\n",
       "      <td>-0.746180</td>\n",
       "      <td>-0.771419</td>\n",
       "      <td>1</td>\n",
       "      <td>0</td>\n",
       "      <td>0</td>\n",
       "      <td>1</td>\n",
       "      <td>0</td>\n",
       "    </tr>\n",
       "  </tbody>\n",
       "</table>\n",
       "<p>9879 rows × 31 columns</p>\n",
       "</div>"
      ],
      "text/plain": [
       "      blueWardsPlaced  blueWardsDestroyed  blueKills  blueDeaths  blueAssists  \\\n",
       "0            0.316996           -0.379275   0.935301   -0.046926     1.071495   \n",
       "1           -0.570992           -0.839069  -0.393216   -0.387796    -0.404768   \n",
       "2           -0.404494           -1.298863   0.271042    1.657424    -0.650812   \n",
       "3            1.149484           -0.839069  -0.725346   -0.387796    -0.404768   \n",
       "4            2.925460            0.540312  -0.061087   -0.046926    -0.158724   \n",
       "...               ...                 ...        ...         ...          ...   \n",
       "9874        -0.293496           -0.379275   0.271042   -0.728666    -0.404768   \n",
       "9875         1.759976           -1.298863  -0.061087   -0.728666     0.333364   \n",
       "9876         0.039499           -0.839069  -0.061087    0.293944    -0.404768   \n",
       "9877        -0.459994            0.540312  -1.389604   -1.069536    -0.896856   \n",
       "9878        -0.237997           -1.298863  -0.061087   -0.046926    -0.404768   \n",
       "\n",
       "      blueEliteMonsters  blueTowersDestroyed  blueTotalGold  blueAvgLevel  \\\n",
       "0             -0.879231            -0.210439       0.460179     -1.035635   \n",
       "1             -0.879231            -0.210439      -1.166792     -1.035635   \n",
       "2              0.719503            -0.210439      -0.254307     -1.691092   \n",
       "3              0.719503            -0.210439      -0.876959      0.275280   \n",
       "4             -0.879231            -0.210439      -0.067382      0.275280   \n",
       "...                 ...                  ...            ...           ...   \n",
       "9874           0.719503            -0.210439       0.821656      0.930738   \n",
       "9875           0.719503            -0.210439      -0.172894      0.930738   \n",
       "9876          -0.879231            -0.210439      -0.391082      0.275280   \n",
       "9877           0.719503            -0.210439      -1.331573     -1.035635   \n",
       "9878          -0.879231            -0.210439      -0.154657      0.275280   \n",
       "\n",
       "      blueTotalExperience  blueTotalMinionsKilled  \\\n",
       "0               -0.740639               -0.992782   \n",
       "1               -1.385391               -1.953558   \n",
       "2               -1.422043               -1.404543   \n",
       "3                0.021567               -0.718275   \n",
       "4                0.512211               -0.306513   \n",
       "...                   ...                     ...   \n",
       "9874             0.865408               -0.260762   \n",
       "9875             1.105315                0.745765   \n",
       "9876             0.086541               -0.306513   \n",
       "9877            -0.582367                0.334004   \n",
       "9878            -0.505730               -0.443767   \n",
       "\n",
       "      blueTotalJungleMinionsKilled  blueGoldDiff  blueExperienceDiff  \\\n",
       "0                        -1.465951      0.256228            0.013342   \n",
       "1                        -0.758722     -1.191254           -0.593342   \n",
       "2                        -0.455624     -0.483614           -0.520436   \n",
       "3                         0.453671     -0.544350            0.013863   \n",
       "4                         0.655736     -0.415133            0.137283   \n",
       "...                            ...           ...                 ...   \n",
       "9874                      1.868129      1.020936            1.303263   \n",
       "9875                     -0.253559      0.312888            0.479942   \n",
       "9876                     -0.556657     -0.990702           -0.959957   \n",
       "9877                     -0.253559     -0.347874           -0.547516   \n",
       "9878                     -0.657690      0.371994           -0.012696   \n",
       "\n",
       "      blueCSPerMin  blueGoldPerMin  redWardsPlaced  redWardsDestroyed  \\\n",
       "0        -0.992782        0.460179       -0.399207           1.532493   \n",
       "1        -1.953558       -1.166792       -0.561751          -0.805870   \n",
       "2        -1.404543       -0.254307       -0.399207           0.129475   \n",
       "3        -0.718275       -0.876959       -0.399207          -0.338198   \n",
       "4        -0.306513       -0.067382       -0.290844          -0.338198   \n",
       "...            ...             ...             ...                ...   \n",
       "9874     -0.260762        0.821656        1.280419           0.129475   \n",
       "9875      0.745765       -0.172894       -0.561751           8.547582   \n",
       "9876     -0.306513       -0.391082       -0.453388          -1.273543   \n",
       "9877      0.334004       -1.331573        2.364049           0.597148   \n",
       "9878     -0.443767       -0.154657       -0.724295          -0.338198   \n",
       "\n",
       "      redAssists  redEliteMonsters  redTowersDestroyed  redAvgLevel  \\\n",
       "0       0.329496         -0.914893           -0.198353    -0.410475   \n",
       "1      -1.148188          2.277700            4.412301    -0.410475   \n",
       "2       1.807181         -0.914893           -0.198353    -0.410475   \n",
       "3       0.822058         -0.914893           -0.198353     0.244627   \n",
       "4       0.083215          0.681403           -0.198353     0.244627   \n",
       "...          ...               ...                 ...          ...   \n",
       "9874    0.083215         -0.914893           -0.198353    -0.410475   \n",
       "9875   -0.901908         -0.914893           -0.198353     0.244627   \n",
       "9876    1.068338          0.681403           -0.198353     1.554831   \n",
       "9877   -1.394469         -0.914893           -0.198353     0.899729   \n",
       "9878   -0.655627          0.681403           -0.198353    -0.410475   \n",
       "\n",
       "      redTotalMinionsKilled  redTotalJungleMinionsKilled  redCSPerMin  \\\n",
       "0                 -0.928741                     0.367685    -0.928741   \n",
       "1                  1.033784                     0.068504     1.033784   \n",
       "2                 -0.654900                    -2.324944    -0.654900   \n",
       "3                  0.805583                    -0.430131     0.805583   \n",
       "4                  0.349182                     1.564408     0.349182   \n",
       "...                     ...                          ...          ...   \n",
       "9874               0.531742                    -1.726582     0.531742   \n",
       "9875              -0.517980                     0.467412    -0.517980   \n",
       "9876               1.992226                     0.866319     1.992226   \n",
       "9877               1.353264                    -1.128220     1.353264   \n",
       "9878              -0.746180                    -0.529858    -0.746180   \n",
       "\n",
       "      redGoldPerMin  blueFirstBlood  blueDragons  blueHeralds  redDragons  \\\n",
       "0          0.052293               1            0            0           0   \n",
       "1          0.758619               0            0            0           1   \n",
       "2          0.533909               0            1            0           0   \n",
       "3         -0.007406               0            0            1           0   \n",
       "4          0.613731               0            0            0           1   \n",
       "...             ...             ...          ...          ...         ...   \n",
       "9874      -0.833801               1            1            0           0   \n",
       "9875      -0.692938               0            1            0           0   \n",
       "9876       1.227490               0            0            0           1   \n",
       "9877      -0.798921               1            1            0           0   \n",
       "9878      -0.771419               1            0            0           1   \n",
       "\n",
       "      redHeralds  \n",
       "0              0  \n",
       "1              1  \n",
       "2              0  \n",
       "3              0  \n",
       "4              0  \n",
       "...          ...  \n",
       "9874           0  \n",
       "9875           0  \n",
       "9876           0  \n",
       "9877           0  \n",
       "9878           0  \n",
       "\n",
       "[9879 rows x 31 columns]"
      ]
     },
     "execution_count": 26,
     "metadata": {},
     "output_type": "execute_result"
    }
   ],
   "source": [
    "X"
   ]
  },
  {
   "cell_type": "markdown",
   "metadata": {
    "id": "x93Tb6lptcA2"
   },
   "source": [
    "### 문제 8. 학습데이터와 테스트데이터 분리하기\n"
   ]
  },
  {
   "cell_type": "code",
   "execution_count": 27,
   "metadata": {
    "ExecuteTime": {
     "end_time": "2022-06-21T06:38:02.492921Z",
     "start_time": "2022-06-21T06:38:02.461965Z"
    },
    "id": "C9kMQI8SEche"
   },
   "outputs": [],
   "source": [
    "from sklearn.model_selection import train_test_split"
   ]
  },
  {
   "cell_type": "code",
   "execution_count": 28,
   "metadata": {
    "ExecuteTime": {
     "end_time": "2022-06-21T06:38:02.508820Z",
     "start_time": "2022-06-21T06:38:02.495912Z"
    },
    "id": "F07QjOFwFNEw"
   },
   "outputs": [
    {
     "name": "stdout",
     "output_type": "stream",
     "text": [
      "(6915, 31) (2964, 31) (6915,) (2964,)\n"
     ]
    }
   ],
   "source": [
    "# train_test_split() 함수로 학습 데이터와 테스트 데이터 분리하기\n",
    "X_train, X_test, y_train, y_test = train_test_split(X, y, test_size=0.3, random_state=1)\n",
    "print(X_train.shape, X_test.shape, y_train.shape, y_test.shape)"
   ]
  },
  {
   "cell_type": "markdown",
   "metadata": {
    "id": "DTqb-HqPtc4I"
   },
   "source": [
    "## Step 4. Classification 모델 학습하기\n"
   ]
  },
  {
   "cell_type": "markdown",
   "metadata": {
    "id": "Ckexl202tmZI"
   },
   "source": [
    "### 문제 9. Logistic Regression 모델 생성/학습하기\n"
   ]
  },
  {
   "cell_type": "code",
   "execution_count": 29,
   "metadata": {
    "ExecuteTime": {
     "end_time": "2022-06-21T06:38:02.538803Z",
     "start_time": "2022-06-21T06:38:02.509818Z"
    },
    "id": "2Wt_0AdNFfbN"
   },
   "outputs": [],
   "source": [
    "from sklearn.linear_model import LogisticRegression"
   ]
  },
  {
   "cell_type": "code",
   "execution_count": 30,
   "metadata": {
    "ExecuteTime": {
     "end_time": "2022-06-21T06:38:02.570727Z",
     "start_time": "2022-06-21T06:38:02.539803Z"
    },
    "id": "1lM57a_8Fdbh"
   },
   "outputs": [
    {
     "data": {
      "text/plain": [
       "LogisticRegression()"
      ]
     },
     "execution_count": 30,
     "metadata": {},
     "output_type": "execute_result"
    }
   ],
   "source": [
    "# LogisticRegression 모델 생성/학습\n",
    "model_lr = LogisticRegression()\n",
    "model_lr.fit(X_train, y_train)"
   ]
  },
  {
   "cell_type": "markdown",
   "metadata": {
    "id": "APOI7Hc9tnvr"
   },
   "source": [
    "### 문제 10. 모델 학습 결과 평가하기\n"
   ]
  },
  {
   "cell_type": "code",
   "execution_count": 31,
   "metadata": {
    "ExecuteTime": {
     "end_time": "2022-06-21T06:38:02.586110Z",
     "start_time": "2022-06-21T06:38:02.571728Z"
    },
    "id": "2lIoyMjFFrif"
   },
   "outputs": [],
   "source": [
    "from sklearn.metrics import classification_report"
   ]
  },
  {
   "cell_type": "code",
   "execution_count": 32,
   "metadata": {
    "ExecuteTime": {
     "end_time": "2022-06-21T06:38:02.601401Z",
     "start_time": "2022-06-21T06:38:02.587102Z"
    },
    "id": "1dD9JnN-FnpC"
   },
   "outputs": [
    {
     "name": "stdout",
     "output_type": "stream",
     "text": [
      "              precision    recall  f1-score   support\n",
      "\n",
      "           0       0.74      0.75      0.74      1469\n",
      "           1       0.75      0.74      0.74      1495\n",
      "\n",
      "    accuracy                           0.74      2964\n",
      "   macro avg       0.74      0.74      0.74      2964\n",
      "weighted avg       0.74      0.74      0.74      2964\n",
      "\n"
     ]
    }
   ],
   "source": [
    "# Predict를 수행하고 classification_report() 결과 출력하기\n",
    "pred = model_lr.predict(X_test)\n",
    "print(classification_report(y_test, pred))"
   ]
  },
  {
   "cell_type": "markdown",
   "metadata": {
    "id": "xTRTOLTNto3h"
   },
   "source": [
    "### 문제 11. XGBoost 모델 생성/학습하기\n"
   ]
  },
  {
   "cell_type": "code",
   "execution_count": 33,
   "metadata": {
    "ExecuteTime": {
     "end_time": "2022-06-21T06:38:02.662201Z",
     "start_time": "2022-06-21T06:38:02.602402Z"
    },
    "id": "ow28ZRL4F7D5"
   },
   "outputs": [
    {
     "name": "stderr",
     "output_type": "stream",
     "text": [
      "C:\\Users\\gmlkd\\miniforge3\\envs\\fastcampus\\lib\\site-packages\\xgboost\\compat.py:36: FutureWarning: pandas.Int64Index is deprecated and will be removed from pandas in a future version. Use pandas.Index with the appropriate dtype instead.\n",
      "  from pandas import MultiIndex, Int64Index\n"
     ]
    }
   ],
   "source": [
    "from xgboost import XGBClassifier"
   ]
  },
  {
   "cell_type": "code",
   "execution_count": 34,
   "metadata": {
    "ExecuteTime": {
     "end_time": "2022-06-21T06:38:02.941267Z",
     "start_time": "2022-06-21T06:38:02.663198Z"
    },
    "id": "LSSNqFUrGM6R"
   },
   "outputs": [
    {
     "name": "stdout",
     "output_type": "stream",
     "text": [
      "[15:38:02] WARNING: D:\\bld\\xgboost-split_1645118015404\\work\\src\\learner.cc:1115: Starting in XGBoost 1.3.0, the default evaluation metric used with the objective 'binary:logistic' was changed from 'error' to 'logloss'. Explicitly set eval_metric if you'd like to restore the old behavior.\n"
     ]
    },
    {
     "name": "stderr",
     "output_type": "stream",
     "text": [
      "C:\\Users\\gmlkd\\miniforge3\\envs\\fastcampus\\lib\\site-packages\\xgboost\\sklearn.py:1224: UserWarning: The use of label encoder in XGBClassifier is deprecated and will be removed in a future release. To remove this warning, do the following: 1) Pass option use_label_encoder=False when constructing XGBClassifier object; and 2) Encode your labels (y) as integers starting with 0, i.e. 0, 1, 2, ..., [num_class - 1].\n",
      "  warnings.warn(label_encoder_deprecation_msg, UserWarning)\n",
      "C:\\Users\\gmlkd\\miniforge3\\envs\\fastcampus\\lib\\site-packages\\xgboost\\data.py:262: FutureWarning: pandas.Int64Index is deprecated and will be removed from pandas in a future version. Use pandas.Index with the appropriate dtype instead.\n",
      "  elif isinstance(data.columns, (pd.Int64Index, pd.RangeIndex)):\n"
     ]
    },
    {
     "data": {
      "text/plain": [
       "XGBClassifier(base_score=0.5, booster='gbtree', colsample_bylevel=1,\n",
       "              colsample_bynode=1, colsample_bytree=1, enable_categorical=False,\n",
       "              gamma=0, gpu_id=-1, importance_type=None,\n",
       "              interaction_constraints='', learning_rate=0.300000012,\n",
       "              max_delta_step=0, max_depth=6, min_child_weight=1, missing=nan,\n",
       "              monotone_constraints='()', n_estimators=100, n_jobs=12,\n",
       "              num_parallel_tree=1, predictor='auto', random_state=0,\n",
       "              reg_alpha=0, reg_lambda=1, scale_pos_weight=1, subsample=1,\n",
       "              tree_method='exact', validate_parameters=1, verbosity=None)"
      ]
     },
     "execution_count": 34,
     "metadata": {},
     "output_type": "execute_result"
    }
   ],
   "source": [
    "# XGBClassifier 모델 생성/학습\n",
    "model_xgb = XGBClassifier()\n",
    "model_xgb.fit(X_train, y_train)"
   ]
  },
  {
   "cell_type": "markdown",
   "metadata": {
    "id": "kAisZoSEtp35"
   },
   "source": [
    "### 문제 12. 모델 학습 결과 평가하기\n"
   ]
  },
  {
   "cell_type": "code",
   "execution_count": 38,
   "metadata": {
    "ExecuteTime": {
     "end_time": "2022-06-21T06:38:50.294328Z",
     "start_time": "2022-06-21T06:38:50.273399Z"
    },
    "id": "WLnyYNJwGRgd"
   },
   "outputs": [
    {
     "name": "stdout",
     "output_type": "stream",
     "text": [
      "              precision    recall  f1-score   support\n",
      "\n",
      "           0       0.72      0.72      0.72      1469\n",
      "           1       0.72      0.73      0.73      1495\n",
      "\n",
      "    accuracy                           0.72      2964\n",
      "   macro avg       0.72      0.72      0.72      2964\n",
      "weighted avg       0.72      0.72      0.72      2964\n",
      "\n"
     ]
    },
    {
     "name": "stderr",
     "output_type": "stream",
     "text": [
      "C:\\Users\\gmlkd\\miniforge3\\envs\\fastcampus\\lib\\site-packages\\xgboost\\data.py:262: FutureWarning: pandas.Int64Index is deprecated and will be removed from pandas in a future version. Use pandas.Index with the appropriate dtype instead.\n",
      "  elif isinstance(data.columns, (pd.Int64Index, pd.RangeIndex)):\n"
     ]
    }
   ],
   "source": [
    "# Predict를 수행하고 classification_report() 결과 출력하기\n",
    "pred = model_xgb.predict(X_test)\n",
    "print(classification_report(y_test, pred))"
   ]
  },
  {
   "cell_type": "markdown",
   "metadata": {
    "id": "7icVVlSwtr53"
   },
   "source": [
    "## Step5 모델 학습 결과 심화 분석하기\n"
   ]
  },
  {
   "cell_type": "markdown",
   "metadata": {
    "id": "LmaEIOOItvJa"
   },
   "source": [
    "### 문제 13. Logistic Regression 모델 계수로 상관성 파악하기"
   ]
  },
  {
   "cell_type": "code",
   "execution_count": 44,
   "metadata": {
    "ExecuteTime": {
     "end_time": "2022-06-21T06:44:51.451018Z",
     "start_time": "2022-06-21T06:44:51.303538Z"
    },
    "id": "BUIXk9RNGnRa"
   },
   "outputs": [
    {
     "data": {
      "image/png": "[encoded data removed]",
      "text/plain": [
       "<Figure size 864x432 with 1 Axes>"
      ]
     },
     "metadata": {
      "needs_background": "light"
     },
     "output_type": "display_data"
    }
   ],
   "source": [
    "# Logistic Regression 모델의 coef_ 속성을 plot하기\n",
    "model_coef = pd.DataFrame(data=model_lr.coef_[0], index=X.columns, columns=['Model Coefficient'])\n",
    "model_coef.sort_values(by='Model Coefficient', ascending=False, inplace=True)\n",
    "\n",
    "plt.figure(figsize=(12,6))\n",
    "plt.bar(model_coef.index, model_coef['Model Coefficient'])\n",
    "plt.grid()\n",
    "plt.xticks(rotation=90)\n",
    "plt.show()"
   ]
  },
  {
   "cell_type": "markdown",
   "metadata": {
    "id": "5yIbQKjktuwg"
   },
   "source": [
    "### 문제 14. XGBoost 모델로 특징의 중요도 확인하기"
   ]
  },
  {
   "cell_type": "code",
   "execution_count": 45,
   "metadata": {
    "ExecuteTime": {
     "end_time": "2022-06-21T06:45:33.481096Z",
     "start_time": "2022-06-21T06:45:33.329599Z"
    },
    "id": "3bY4SZZ4HBdN"
   },
   "outputs": [
    {
     "data": {
      "text/plain": [
       "<BarContainer object of 31 artists>"
      ]
     },
     "execution_count": 45,
     "metadata": {},
     "output_type": "execute_result"
    },
    {
     "data": {
      "image/png": "[encoded data removed]",
      "text/plain": [
       "<Figure size 720x720 with 1 Axes>"
      ]
     },
     "metadata": {
      "needs_background": "light"
     },
     "output_type": "display_data"
    }
   ],
   "source": [
    "# XGBoost 모델의 feature_importances_ 속성을 plot하기\n",
    "plt.figure(figsize=(10,10))\n",
    "plt.barh(X.columns, model_xgb.feature_importances_)\n",
    "\n"
   ]
  }
 ],
 "metadata": {
  "colab": {
   "collapsed_sections": [],
   "name": "1-3. 롤 좀 하니? '이것'만 하면 무조건 이긴다! - 데이터로 알아보는 리그 오브 레전드의 승리 공식",
   "provenance": [
    {
     "file_id": "1j79f83Q3TPyjwsbNx2fy_Dt-J37MVNvZ",
     "timestamp": 1605597047726
    },
    {
     "file_id": "1QiLPv5TzBrE7Lb-X4fMq7KHePTq0Em2L",
     "timestamp": 1605593695308
    },
    {
     "file_id": "1Ot6dlC7E_dqo8XOgyTA03SKSqFcvkCdO",
     "timestamp": 1605087778098
    },
    {
     "file_id": "1cS2OjWOehEb97E7763rQ_LrzQIK34Kd-",
     "timestamp": 1604921871166
    },
    {
     "file_id": "1g7SaVjG6EvBPvIH4ADG2RA3qN8v521d1",
     "timestamp": 1604886286018
    }
   ]
  },
  "kernelspec": {
   "display_name": "Python 3 (ipykernel)",
   "language": "python",
   "name": "python3"
  },
  "language_info": {
   "codemirror_mode": {
    "name": "ipython",
    "version": 3
   },
   "file_extension": ".py",
   "mimetype": "text/x-python",
   "name": "python",
   "nbconvert_exporter": "python",
   "pygments_lexer": "ipython3",
   "version": "3.8.13"
  },
  "toc": {
   "base_numbering": 1,
   "nav_menu": {},
   "number_sections": true,
   "sideBar": true,
   "skip_h1_title": false,
   "title_cell": "Table of Contents",
   "title_sidebar": "Contents",
   "toc_cell": false,
   "toc_position": {},
   "toc_section_display": true,
   "toc_window_display": false
  },
  "varInspector": {
   "cols": {
    "lenName": 16,
    "lenType": 16,
    "lenVar": 40
   },
   "kernels_config": {
    "python": {
     "delete_cmd_postfix": "",
     "delete_cmd_prefix": "del ",
     "library": "var_list.py",
     "varRefreshCmd": "print(var_dic_list())"
    },
    "r": {
     "delete_cmd_postfix": ") ",
     "delete_cmd_prefix": "rm(",
     "library": "var_list.r",
     "varRefreshCmd": "cat(var_dic_list()) "
    }
   },
   "types_to_exclude": [
    "module",
    "function",
    "builtin_function_or_method",
    "instance",
    "_Feature"
   ],
   "window_display": false
  }
 },
 "nbformat": 4,
 "nbformat_minor": 1
}
