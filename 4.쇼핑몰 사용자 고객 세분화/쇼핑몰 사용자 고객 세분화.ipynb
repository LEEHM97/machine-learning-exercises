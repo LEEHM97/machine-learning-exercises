{
 "cells": [
  {
   "cell_type": "markdown",
   "id": "wicked-punch",
   "metadata": {
    "id": "wicked-punch"
   },
   "source": [
    "## 쇼핑몰 사용자 고객 세분화 실습\n",
    "\n",
    "- 해당 데이터를 고객 단위로 묶어야 합니다.\n",
    "\n",
    "\n",
    "- 데이터를 정제해서, 월별/고객별로 재정렬이 필요합니다. (aggregation)\n",
    "\n",
    "\n",
    "- row가 고객별 데이터로 묶이고 난 다음, 고객들을 유형별로 나눠봅니다.\n",
    "\n",
    "\n",
    "- 여러 가지 클러스터링 알고리즘을 사용하여, 결과를 테스트해봅니다.\n",
    "\n",
    "\n",
    "- 클러스터링을 위한 전처리부터, 평가까지 모든 항목을 하나하나 살펴보면서 데이터를 뜯어봅니다."
   ]
  },
  {
   "cell_type": "markdown",
   "id": "second-release",
   "metadata": {
    "id": "second-release"
   },
   "source": [
    "### Data Description\n",
    "\n",
    "Source : https://www.kaggle.com/c/instacart-market-basket-analysis"
   ]
  },
  {
   "cell_type": "markdown",
   "id": "lonely-encoding",
   "metadata": {
    "id": "lonely-encoding"
   },
   "source": [
    "### 1. 데이터 불러오기 "
   ]
  },
  {
   "cell_type": "code",
   "execution_count": 2,
   "id": "bibliographic-satellite",
   "metadata": {
    "ExecuteTime": {
     "end_time": "2022-05-30T05:21:48.317808Z",
     "start_time": "2022-05-30T05:21:42.783680Z"
    },
    "id": "bibliographic-satellite"
   },
   "outputs": [],
   "source": [
    "# instacart 데이터를 모두 불러옵니다.\n",
    "import numpy as np\n",
    "import pandas as pd\n",
    "import matplotlib.pyplot as plt\n",
    "import seaborn as sns\n",
    "\n",
    "base_path = \"C:/Users/gmlkd/data/instacart-market-basket-analysis/\"\n",
    "\n",
    "aisles = pd.read_csv(base_path+\"aisles.csv\")\n",
    "departments = pd.read_csv(base_path+\"departments.csv\")\n",
    "prior = pd.read_csv(base_path+\"order_products__prior.csv\")\n",
    "train = pd.read_csv(base_path+\"order_products__train.csv\")\n",
    "orders = pd.read_csv(base_path+\"orders.csv\")\n",
    "products = pd.read_csv(base_path+\"products.csv\")"
   ]
  },
  {
   "cell_type": "code",
   "execution_count": 3,
   "id": "2c468c62",
   "metadata": {
    "ExecuteTime": {
     "end_time": "2022-05-30T05:22:24.204315Z",
     "start_time": "2022-05-30T05:22:24.187371Z"
    },
    "id": "2c468c62"
   },
   "outputs": [
    {
     "name": "stdout",
     "output_type": "stream",
     "text": [
      "(134, 2) (21, 2) (32434489, 4) (1384617, 4) (3421083, 7) (49688, 4)\n"
     ]
    }
   ],
   "source": [
    "# 불러온 모든 테이블을 합칩니다.\n",
    "print(aisles.shape, departments.shape, prior.shape, train.shape, orders.shape, products.shape)"
   ]
  },
  {
   "cell_type": "code",
   "execution_count": 11,
   "id": "da39275d",
   "metadata": {
    "ExecuteTime": {
     "end_time": "2022-05-30T06:34:06.746464Z",
     "start_time": "2022-05-30T06:34:06.726530Z"
    }
   },
   "outputs": [
    {
     "data": {
      "text/html": [
       "<div>\n",
       "<style scoped>\n",
       "    .dataframe tbody tr th:only-of-type {\n",
       "        vertical-align: middle;\n",
       "    }\n",
       "\n",
       "    .dataframe tbody tr th {\n",
       "        vertical-align: top;\n",
       "    }\n",
       "\n",
       "    .dataframe thead th {\n",
       "        text-align: right;\n",
       "    }\n",
       "</style>\n",
       "<table border=\"1\" class=\"dataframe\">\n",
       "  <thead>\n",
       "    <tr style=\"text-align: right;\">\n",
       "      <th></th>\n",
       "      <th>order_id</th>\n",
       "      <th>product_id</th>\n",
       "      <th>add_to_cart_order</th>\n",
       "      <th>reordered</th>\n",
       "    </tr>\n",
       "  </thead>\n",
       "  <tbody>\n",
       "    <tr>\n",
       "      <th>0</th>\n",
       "      <td>2</td>\n",
       "      <td>33120</td>\n",
       "      <td>1</td>\n",
       "      <td>1</td>\n",
       "    </tr>\n",
       "    <tr>\n",
       "      <th>1</th>\n",
       "      <td>2</td>\n",
       "      <td>28985</td>\n",
       "      <td>2</td>\n",
       "      <td>1</td>\n",
       "    </tr>\n",
       "    <tr>\n",
       "      <th>2</th>\n",
       "      <td>2</td>\n",
       "      <td>9327</td>\n",
       "      <td>3</td>\n",
       "      <td>0</td>\n",
       "    </tr>\n",
       "    <tr>\n",
       "      <th>3</th>\n",
       "      <td>2</td>\n",
       "      <td>45918</td>\n",
       "      <td>4</td>\n",
       "      <td>1</td>\n",
       "    </tr>\n",
       "    <tr>\n",
       "      <th>4</th>\n",
       "      <td>2</td>\n",
       "      <td>30035</td>\n",
       "      <td>5</td>\n",
       "      <td>0</td>\n",
       "    </tr>\n",
       "  </tbody>\n",
       "</table>\n",
       "</div>"
      ],
      "text/plain": [
       "   order_id  product_id  add_to_cart_order  reordered\n",
       "0         2       33120                  1          1\n",
       "1         2       28985                  2          1\n",
       "2         2        9327                  3          0\n",
       "3         2       45918                  4          1\n",
       "4         2       30035                  5          0"
      ]
     },
     "execution_count": 11,
     "metadata": {},
     "output_type": "execute_result"
    }
   ],
   "source": [
    "prior.head()"
   ]
  },
  {
   "cell_type": "code",
   "execution_count": 12,
   "id": "abdbb1ae",
   "metadata": {
    "ExecuteTime": {
     "end_time": "2022-05-30T06:35:24.862156Z",
     "start_time": "2022-05-30T06:35:24.842221Z"
    }
   },
   "outputs": [
    {
     "data": {
      "text/html": [
       "<div>\n",
       "<style scoped>\n",
       "    .dataframe tbody tr th:only-of-type {\n",
       "        vertical-align: middle;\n",
       "    }\n",
       "\n",
       "    .dataframe tbody tr th {\n",
       "        vertical-align: top;\n",
       "    }\n",
       "\n",
       "    .dataframe thead th {\n",
       "        text-align: right;\n",
       "    }\n",
       "</style>\n",
       "<table border=\"1\" class=\"dataframe\">\n",
       "  <thead>\n",
       "    <tr style=\"text-align: right;\">\n",
       "      <th></th>\n",
       "      <th>order_id</th>\n",
       "      <th>product_id</th>\n",
       "      <th>add_to_cart_order</th>\n",
       "      <th>reordered</th>\n",
       "    </tr>\n",
       "  </thead>\n",
       "  <tbody>\n",
       "    <tr>\n",
       "      <th>0</th>\n",
       "      <td>2</td>\n",
       "      <td>33120</td>\n",
       "      <td>1</td>\n",
       "      <td>1</td>\n",
       "    </tr>\n",
       "    <tr>\n",
       "      <th>1</th>\n",
       "      <td>2</td>\n",
       "      <td>28985</td>\n",
       "      <td>2</td>\n",
       "      <td>1</td>\n",
       "    </tr>\n",
       "    <tr>\n",
       "      <th>2</th>\n",
       "      <td>2</td>\n",
       "      <td>9327</td>\n",
       "      <td>3</td>\n",
       "      <td>0</td>\n",
       "    </tr>\n",
       "    <tr>\n",
       "      <th>3</th>\n",
       "      <td>2</td>\n",
       "      <td>45918</td>\n",
       "      <td>4</td>\n",
       "      <td>1</td>\n",
       "    </tr>\n",
       "    <tr>\n",
       "      <th>4</th>\n",
       "      <td>2</td>\n",
       "      <td>30035</td>\n",
       "      <td>5</td>\n",
       "      <td>0</td>\n",
       "    </tr>\n",
       "    <tr>\n",
       "      <th>...</th>\n",
       "      <td>...</td>\n",
       "      <td>...</td>\n",
       "      <td>...</td>\n",
       "      <td>...</td>\n",
       "    </tr>\n",
       "    <tr>\n",
       "      <th>9995</th>\n",
       "      <td>1022</td>\n",
       "      <td>21903</td>\n",
       "      <td>1</td>\n",
       "      <td>1</td>\n",
       "    </tr>\n",
       "    <tr>\n",
       "      <th>9996</th>\n",
       "      <td>1022</td>\n",
       "      <td>38689</td>\n",
       "      <td>2</td>\n",
       "      <td>1</td>\n",
       "    </tr>\n",
       "    <tr>\n",
       "      <th>9997</th>\n",
       "      <td>1022</td>\n",
       "      <td>30391</td>\n",
       "      <td>3</td>\n",
       "      <td>1</td>\n",
       "    </tr>\n",
       "    <tr>\n",
       "      <th>9998</th>\n",
       "      <td>1022</td>\n",
       "      <td>18670</td>\n",
       "      <td>4</td>\n",
       "      <td>1</td>\n",
       "    </tr>\n",
       "    <tr>\n",
       "      <th>9999</th>\n",
       "      <td>1022</td>\n",
       "      <td>10761</td>\n",
       "      <td>5</td>\n",
       "      <td>1</td>\n",
       "    </tr>\n",
       "  </tbody>\n",
       "</table>\n",
       "<p>10000 rows × 4 columns</p>\n",
       "</div>"
      ],
      "text/plain": [
       "      order_id  product_id  add_to_cart_order  reordered\n",
       "0            2       33120                  1          1\n",
       "1            2       28985                  2          1\n",
       "2            2        9327                  3          0\n",
       "3            2       45918                  4          1\n",
       "4            2       30035                  5          0\n",
       "...        ...         ...                ...        ...\n",
       "9995      1022       21903                  1          1\n",
       "9996      1022       38689                  2          1\n",
       "9997      1022       30391                  3          1\n",
       "9998      1022       18670                  4          1\n",
       "9999      1022       10761                  5          1\n",
       "\n",
       "[10000 rows x 4 columns]"
      ]
     },
     "execution_count": 12,
     "metadata": {},
     "output_type": "execute_result"
    }
   ],
   "source": [
    "prior_sample = prior[:10000]\n",
    "prior_sample"
   ]
  },
  {
   "cell_type": "code",
   "execution_count": 16,
   "id": "2325b475",
   "metadata": {
    "ExecuteTime": {
     "end_time": "2022-05-30T06:37:57.621838Z",
     "start_time": "2022-05-30T06:37:57.224903Z"
    }
   },
   "outputs": [
    {
     "data": {
      "text/html": [
       "<div>\n",
       "<style scoped>\n",
       "    .dataframe tbody tr th:only-of-type {\n",
       "        vertical-align: middle;\n",
       "    }\n",
       "\n",
       "    .dataframe tbody tr th {\n",
       "        vertical-align: top;\n",
       "    }\n",
       "\n",
       "    .dataframe thead th {\n",
       "        text-align: right;\n",
       "    }\n",
       "</style>\n",
       "<table border=\"1\" class=\"dataframe\">\n",
       "  <thead>\n",
       "    <tr style=\"text-align: right;\">\n",
       "      <th></th>\n",
       "      <th>order_id</th>\n",
       "      <th>user_id</th>\n",
       "      <th>eval_set</th>\n",
       "      <th>order_number</th>\n",
       "      <th>order_dow</th>\n",
       "      <th>order_hour_of_day</th>\n",
       "      <th>days_since_prior_order</th>\n",
       "      <th>product_id</th>\n",
       "      <th>add_to_cart_order</th>\n",
       "      <th>reordered</th>\n",
       "      <th>product_name</th>\n",
       "      <th>aisle_id</th>\n",
       "      <th>department_id</th>\n",
       "      <th>aisle</th>\n",
       "      <th>department</th>\n",
       "    </tr>\n",
       "  </thead>\n",
       "  <tbody>\n",
       "    <tr>\n",
       "      <th>0</th>\n",
       "      <td>40</td>\n",
       "      <td>382</td>\n",
       "      <td>prior</td>\n",
       "      <td>29</td>\n",
       "      <td>1</td>\n",
       "      <td>15</td>\n",
       "      <td>23.0</td>\n",
       "      <td>10070</td>\n",
       "      <td>1</td>\n",
       "      <td>1</td>\n",
       "      <td>Organic 1% Low Fat Milk</td>\n",
       "      <td>84</td>\n",
       "      <td>16</td>\n",
       "      <td>milk</td>\n",
       "      <td>dairy eggs</td>\n",
       "    </tr>\n",
       "    <tr>\n",
       "      <th>1</th>\n",
       "      <td>235</td>\n",
       "      <td>58701</td>\n",
       "      <td>prior</td>\n",
       "      <td>20</td>\n",
       "      <td>5</td>\n",
       "      <td>9</td>\n",
       "      <td>9.0</td>\n",
       "      <td>10070</td>\n",
       "      <td>7</td>\n",
       "      <td>1</td>\n",
       "      <td>Organic 1% Low Fat Milk</td>\n",
       "      <td>84</td>\n",
       "      <td>16</td>\n",
       "      <td>milk</td>\n",
       "      <td>dairy eggs</td>\n",
       "    </tr>\n",
       "    <tr>\n",
       "      <th>2</th>\n",
       "      <td>581</td>\n",
       "      <td>76141</td>\n",
       "      <td>prior</td>\n",
       "      <td>3</td>\n",
       "      <td>6</td>\n",
       "      <td>17</td>\n",
       "      <td>7.0</td>\n",
       "      <td>10070</td>\n",
       "      <td>3</td>\n",
       "      <td>0</td>\n",
       "      <td>Organic 1% Low Fat Milk</td>\n",
       "      <td>84</td>\n",
       "      <td>16</td>\n",
       "      <td>milk</td>\n",
       "      <td>dairy eggs</td>\n",
       "    </tr>\n",
       "    <tr>\n",
       "      <th>3</th>\n",
       "      <td>649</td>\n",
       "      <td>135836</td>\n",
       "      <td>prior</td>\n",
       "      <td>1</td>\n",
       "      <td>4</td>\n",
       "      <td>7</td>\n",
       "      <td>NaN</td>\n",
       "      <td>10070</td>\n",
       "      <td>1</td>\n",
       "      <td>0</td>\n",
       "      <td>Organic 1% Low Fat Milk</td>\n",
       "      <td>84</td>\n",
       "      <td>16</td>\n",
       "      <td>milk</td>\n",
       "      <td>dairy eggs</td>\n",
       "    </tr>\n",
       "    <tr>\n",
       "      <th>4</th>\n",
       "      <td>40</td>\n",
       "      <td>382</td>\n",
       "      <td>prior</td>\n",
       "      <td>29</td>\n",
       "      <td>1</td>\n",
       "      <td>15</td>\n",
       "      <td>23.0</td>\n",
       "      <td>34866</td>\n",
       "      <td>4</td>\n",
       "      <td>1</td>\n",
       "      <td>Chocolate Milk 1% Milkfat</td>\n",
       "      <td>84</td>\n",
       "      <td>16</td>\n",
       "      <td>milk</td>\n",
       "      <td>dairy eggs</td>\n",
       "    </tr>\n",
       "    <tr>\n",
       "      <th>...</th>\n",
       "      <td>...</td>\n",
       "      <td>...</td>\n",
       "      <td>...</td>\n",
       "      <td>...</td>\n",
       "      <td>...</td>\n",
       "      <td>...</td>\n",
       "      <td>...</td>\n",
       "      <td>...</td>\n",
       "      <td>...</td>\n",
       "      <td>...</td>\n",
       "      <td>...</td>\n",
       "      <td>...</td>\n",
       "      <td>...</td>\n",
       "      <td>...</td>\n",
       "      <td>...</td>\n",
       "    </tr>\n",
       "    <tr>\n",
       "      <th>9995</th>\n",
       "      <td>152</td>\n",
       "      <td>103040</td>\n",
       "      <td>prior</td>\n",
       "      <td>12</td>\n",
       "      <td>1</td>\n",
       "      <td>10</td>\n",
       "      <td>7.0</td>\n",
       "      <td>5161</td>\n",
       "      <td>3</td>\n",
       "      <td>1</td>\n",
       "      <td>Dried Mango</td>\n",
       "      <td>18</td>\n",
       "      <td>10</td>\n",
       "      <td>bulk dried fruits vegetables</td>\n",
       "      <td>bulk</td>\n",
       "    </tr>\n",
       "    <tr>\n",
       "      <th>9996</th>\n",
       "      <td>959</td>\n",
       "      <td>119941</td>\n",
       "      <td>prior</td>\n",
       "      <td>2</td>\n",
       "      <td>6</td>\n",
       "      <td>13</td>\n",
       "      <td>21.0</td>\n",
       "      <td>5161</td>\n",
       "      <td>3</td>\n",
       "      <td>1</td>\n",
       "      <td>Dried Mango</td>\n",
       "      <td>18</td>\n",
       "      <td>10</td>\n",
       "      <td>bulk dried fruits vegetables</td>\n",
       "      <td>bulk</td>\n",
       "    </tr>\n",
       "    <tr>\n",
       "      <th>9997</th>\n",
       "      <td>400</td>\n",
       "      <td>180454</td>\n",
       "      <td>prior</td>\n",
       "      <td>32</td>\n",
       "      <td>0</td>\n",
       "      <td>8</td>\n",
       "      <td>8.0</td>\n",
       "      <td>5161</td>\n",
       "      <td>3</td>\n",
       "      <td>1</td>\n",
       "      <td>Dried Mango</td>\n",
       "      <td>18</td>\n",
       "      <td>10</td>\n",
       "      <td>bulk dried fruits vegetables</td>\n",
       "      <td>bulk</td>\n",
       "    </tr>\n",
       "    <tr>\n",
       "      <th>9998</th>\n",
       "      <td>18</td>\n",
       "      <td>118860</td>\n",
       "      <td>prior</td>\n",
       "      <td>3</td>\n",
       "      <td>4</td>\n",
       "      <td>20</td>\n",
       "      <td>6.0</td>\n",
       "      <td>1000</td>\n",
       "      <td>3</td>\n",
       "      <td>0</td>\n",
       "      <td>Apricots</td>\n",
       "      <td>18</td>\n",
       "      <td>10</td>\n",
       "      <td>bulk dried fruits vegetables</td>\n",
       "      <td>bulk</td>\n",
       "    </tr>\n",
       "    <tr>\n",
       "      <th>9999</th>\n",
       "      <td>75</td>\n",
       "      <td>106387</td>\n",
       "      <td>prior</td>\n",
       "      <td>1</td>\n",
       "      <td>5</td>\n",
       "      <td>19</td>\n",
       "      <td>NaN</td>\n",
       "      <td>10915</td>\n",
       "      <td>3</td>\n",
       "      <td>0</td>\n",
       "      <td>Organic Short Brown Sprouted Rice</td>\n",
       "      <td>68</td>\n",
       "      <td>10</td>\n",
       "      <td>bulk grains rice dried goods</td>\n",
       "      <td>bulk</td>\n",
       "    </tr>\n",
       "  </tbody>\n",
       "</table>\n",
       "<p>10000 rows × 15 columns</p>\n",
       "</div>"
      ],
      "text/plain": [
       "      order_id  user_id eval_set  order_number  order_dow  order_hour_of_day  \\\n",
       "0           40      382    prior            29          1                 15   \n",
       "1          235    58701    prior            20          5                  9   \n",
       "2          581    76141    prior             3          6                 17   \n",
       "3          649   135836    prior             1          4                  7   \n",
       "4           40      382    prior            29          1                 15   \n",
       "...        ...      ...      ...           ...        ...                ...   \n",
       "9995       152   103040    prior            12          1                 10   \n",
       "9996       959   119941    prior             2          6                 13   \n",
       "9997       400   180454    prior            32          0                  8   \n",
       "9998        18   118860    prior             3          4                 20   \n",
       "9999        75   106387    prior             1          5                 19   \n",
       "\n",
       "      days_since_prior_order  product_id  add_to_cart_order  reordered  \\\n",
       "0                       23.0       10070                  1          1   \n",
       "1                        9.0       10070                  7          1   \n",
       "2                        7.0       10070                  3          0   \n",
       "3                        NaN       10070                  1          0   \n",
       "4                       23.0       34866                  4          1   \n",
       "...                      ...         ...                ...        ...   \n",
       "9995                     7.0        5161                  3          1   \n",
       "9996                    21.0        5161                  3          1   \n",
       "9997                     8.0        5161                  3          1   \n",
       "9998                     6.0        1000                  3          0   \n",
       "9999                     NaN       10915                  3          0   \n",
       "\n",
       "                           product_name  aisle_id  department_id  \\\n",
       "0               Organic 1% Low Fat Milk        84             16   \n",
       "1               Organic 1% Low Fat Milk        84             16   \n",
       "2               Organic 1% Low Fat Milk        84             16   \n",
       "3               Organic 1% Low Fat Milk        84             16   \n",
       "4             Chocolate Milk 1% Milkfat        84             16   \n",
       "...                                 ...       ...            ...   \n",
       "9995                        Dried Mango        18             10   \n",
       "9996                        Dried Mango        18             10   \n",
       "9997                        Dried Mango        18             10   \n",
       "9998                           Apricots        18             10   \n",
       "9999  Organic Short Brown Sprouted Rice        68             10   \n",
       "\n",
       "                             aisle  department  \n",
       "0                             milk  dairy eggs  \n",
       "1                             milk  dairy eggs  \n",
       "2                             milk  dairy eggs  \n",
       "3                             milk  dairy eggs  \n",
       "4                             milk  dairy eggs  \n",
       "...                            ...         ...  \n",
       "9995  bulk dried fruits vegetables        bulk  \n",
       "9996  bulk dried fruits vegetables        bulk  \n",
       "9997  bulk dried fruits vegetables        bulk  \n",
       "9998  bulk dried fruits vegetables        bulk  \n",
       "9999  bulk grains rice dried goods        bulk  \n",
       "\n",
       "[10000 rows x 15 columns]"
      ]
     },
     "execution_count": 16,
     "metadata": {},
     "output_type": "execute_result"
    }
   ],
   "source": [
    "# prior_sample과 orders 합치기\n",
    "temp = pd.merge(orders, prior_sample, on=\"order_id\")\n",
    "temp = pd.merge(temp, products, on=\"product_id\")\n",
    "temp = pd.merge(temp, aisles, on=\"aisle_id\")\n",
    "temp = pd.merge(temp, departments, on=\"department_id\")\n",
    "temp"
   ]
  },
  {
   "cell_type": "markdown",
   "id": "GcnamoqwDRIN",
   "metadata": {
    "id": "GcnamoqwDRIN"
   },
   "source": [
    "### 2. EDA"
   ]
  },
  {
   "cell_type": "code",
   "execution_count": 23,
   "id": "42f61f48",
   "metadata": {
    "ExecuteTime": {
     "end_time": "2022-05-30T06:48:40.524858Z",
     "start_time": "2022-05-30T06:48:40.519875Z"
    },
    "id": "42f61f48"
   },
   "outputs": [
    {
     "data": {
      "text/plain": [
       "12    903\n",
       "13    821\n",
       "9     818\n",
       "16    815\n",
       "10    813\n",
       "11    793\n",
       "15    775\n",
       "17    771\n",
       "14    706\n",
       "8     601\n",
       "18    546\n",
       "20    373\n",
       "19    335\n",
       "7     231\n",
       "22    175\n",
       "21    172\n",
       "23    134\n",
       "6      95\n",
       "0      76\n",
       "1      26\n",
       "4      16\n",
       "2       5\n",
       "Name: order_hour_of_day, dtype: int64"
      ]
     },
     "execution_count": 23,
     "metadata": {},
     "output_type": "execute_result"
    }
   ],
   "source": [
    "# 10만개의 거래내역에 대해서 각 물품을 얼마나 샀을까?\n",
    "# temp.user_id.value_counts()\n",
    "# temp.product_name.value_counts()\n",
    "# temp.aisle.value_counts()\n",
    "# temp.department.value_counts()\n",
    "# temp.order_dow.value_counts()\n",
    "temp.order_hour_of_day.value_counts()"
   ]
  },
  {
   "cell_type": "markdown",
   "id": "alone-respondent",
   "metadata": {
    "id": "alone-respondent"
   },
   "source": [
    "### 3. 데이터 전처리\n",
    "\n",
    "- 데이터를 transaction 단위로 변경합니다.\n",
    "\n",
    "- 각자의 방법대로 데이터의 단위를 정해봅시다.\n",
    "\n",
    "\n",
    "> User 단위로 어떤 물품을 구매했는지의 정보만 가지는 feature vector로 변환한다. e.g. pd.crosstab, CountVectorizer"
   ]
  },
  {
   "cell_type": "code",
   "execution_count": null,
   "id": "false-month",
   "metadata": {
    "id": "false-month"
   },
   "outputs": [],
   "source": [
    "# transaction 단위로 변경하고, User당 정보로 변환하는 과정까지 마무리합니다.\n"
   ]
  },
  {
   "cell_type": "markdown",
   "id": "crazy-lobby",
   "metadata": {
    "id": "crazy-lobby"
   },
   "source": [
    "### 4. 클러스터링 모델 적용하기\n",
    "\n",
    "- 사용하는 클러스터링 모델은 KMeans로 합니다.\n",
    "\n",
    "(원하시면 AgglomerativeClustering, DBSCAN, SpectralClustering을 사용해보셔도 됩니다. 단, 시간이 매우매우 오래 걸릴수 있으니 주의하세요..)\n",
    "\n",
    "**[K-Means]**\n",
    "\n",
    "- Elbow method를 이용하여 최적의 K값을 찾아보세요.\n",
    "\n",
    "\n",
    "- sparse한 특징을 가지는 데이터를 클러스터링 하기 위해서는 어떤 기법을 사용해야 할까요?\n",
    "\n",
    "\n",
    "- 클러스터링 결과를 시각화해보고, 실루엣 지수도 계산해봅시다."
   ]
  },
  {
   "cell_type": "code",
   "execution_count": null,
   "id": "dJ7d3caU5L_v",
   "metadata": {
    "id": "dJ7d3caU5L_v"
   },
   "outputs": [],
   "source": [
    "# data setting\n"
   ]
  },
  {
   "cell_type": "code",
   "execution_count": null,
   "id": "8fcc8663",
   "metadata": {
    "id": "8fcc8663"
   },
   "outputs": [],
   "source": [
    "# tSNE : 시각화용도의 차원감소 기법. (2차원으로 변환해주는 기법)\n"
   ]
  },
  {
   "cell_type": "code",
   "execution_count": null,
   "id": "uAYkNt7W74WH",
   "metadata": {
    "id": "uAYkNt7W74WH"
   },
   "outputs": [],
   "source": [
    "plt.figure(figsize=(8, 8))\n",
    "plt.scatter(tsne_data[:, 0], tsne_data[:, 1], s=10, c='y')\n",
    "plt.show()"
   ]
  },
  {
   "cell_type": "code",
   "execution_count": null,
   "id": "27929e11",
   "metadata": {
    "id": "27929e11"
   },
   "outputs": [],
   "source": [
    "# elbow method\n"
   ]
  },
  {
   "cell_type": "code",
   "execution_count": null,
   "id": "arctic-ceremony",
   "metadata": {
    "id": "arctic-ceremony"
   },
   "outputs": [],
   "source": [
    "# K-means를 돌려봅시다.\n"
   ]
  },
  {
   "cell_type": "code",
   "execution_count": null,
   "id": "fY4QjCgWlL_K",
   "metadata": {
    "id": "fY4QjCgWlL_K"
   },
   "outputs": [],
   "source": [
    "# 최적의 K는 어떻게 구할까요?\n",
    "# Elbow method : 정해진 K에 대해서 SSE를 계산한 다음, SSE가 가장 많이 꺾이는 K(elbow)가 optimal K라고 판단하는 방법.\n",
    "\n",
    "plt.figure(figsize=(8, 6))\n",
    "plt.title(\"Find optimal K with elbow method\", fontsize=14)\n",
    "plt.xlabel(\"Number of Clusters(K)\", fontsize=10)\n",
    "plt.ylabel(\"SSE\", fontsize=10)\n",
    "plt.plot(range(2, 21), sse)\n",
    "plt.show()"
   ]
  },
  {
   "cell_type": "code",
   "execution_count": null,
   "id": "UdvnArrdmcHd",
   "metadata": {
    "id": "UdvnArrdmcHd"
   },
   "outputs": [],
   "source": [
    "# Silhouette score : 같은 클러스터에 속하는 데이터중 가장 먼 데이터와의 거리와 다른 클러스터에 속하는 데이터 중 가장 가까운 데이터와의 거리 비율을 계산한 지표. [-1, 1]\n",
    "# Reference : https://en.wikipedia.org/wiki/Silhouette_(clustering)\n",
    "\n",
    "plt.figure(figsize=(8, 6))\n",
    "plt.title(\"Find optimal K with silhouette score\", fontsize=14)\n",
    "plt.xlabel(\"Number of Clusters(K)\", fontsize=10)\n",
    "plt.ylabel(\"Silhouette Score\", fontsize=10)\n",
    "plt.plot(range(2, 21), silhouettes)\n",
    "plt.show()"
   ]
  },
  {
   "cell_type": "code",
   "execution_count": null,
   "id": "Ubkfw6Fc_gO9",
   "metadata": {
    "id": "Ubkfw6Fc_gO9"
   },
   "outputs": [],
   "source": [
    "plt.figure(figsize=(8, 8))\n",
    "plt.scatter(tsne_data[:, 0], tsne_data[:, 1], s=10, TODO, cmap=\"Set2\")\n",
    "plt.show()"
   ]
  },
  {
   "cell_type": "code",
   "execution_count": null,
   "id": "e4c74ac8",
   "metadata": {
    "id": "e4c74ac8"
   },
   "outputs": [],
   "source": [
    "# silhouette score with optimal K\n"
   ]
  }
 ],
 "metadata": {
  "accelerator": "GPU",
  "colab": {
   "collapsed_sections": [],
   "name": "Chapter.05 Clustering-06. Mini PJT. 쇼핑몰 사용자 고객 세분화(실습).ipynb",
   "provenance": []
  },
  "kernelspec": {
   "display_name": "Python 3 (ipykernel)",
   "language": "python",
   "name": "python3"
  },
  "language_info": {
   "codemirror_mode": {
    "name": "ipython",
    "version": 3
   },
   "file_extension": ".py",
   "mimetype": "text/x-python",
   "name": "python",
   "nbconvert_exporter": "python",
   "pygments_lexer": "ipython3",
   "version": "3.8.13"
  },
  "toc": {
   "base_numbering": 1,
   "nav_menu": {},
   "number_sections": true,
   "sideBar": true,
   "skip_h1_title": false,
   "title_cell": "Table of Contents",
   "title_sidebar": "Contents",
   "toc_cell": false,
   "toc_position": {},
   "toc_section_display": true,
   "toc_window_display": false
  },
  "varInspector": {
   "cols": {
    "lenName": 16,
    "lenType": 16,
    "lenVar": 40
   },
   "kernels_config": {
    "python": {
     "delete_cmd_postfix": "",
     "delete_cmd_prefix": "del ",
     "library": "var_list.py",
     "varRefreshCmd": "print(var_dic_list())"
    },
    "r": {
     "delete_cmd_postfix": ") ",
     "delete_cmd_prefix": "rm(",
     "library": "var_list.r",
     "varRefreshCmd": "cat(var_dic_list()) "
    }
   },
   "types_to_exclude": [
    "module",
    "function",
    "builtin_function_or_method",
    "instance",
    "_Feature"
   ],
   "window_display": false
  }
 },
 "nbformat": 4,
 "nbformat_minor": 5
}
