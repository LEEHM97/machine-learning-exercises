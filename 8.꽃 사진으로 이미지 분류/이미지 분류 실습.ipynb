{
 "cells": [
  {
   "cell_type": "markdown",
   "id": "8c0a31c5",
   "metadata": {},
   "source": [
    "## Flowers Dataset 실습\n",
    "\n",
    "1. 데이터셋\n",
    "    - [링크](https://www.kaggle.com/datasets/aksha05/flower-image-dataset)를 참고하여 아래 코드를 구성하였습니다.\n",
    "    - 데이터셋은 총 733개 이미지를 갖고 있습니다.\n",
    "    - 학습셋 586개 이미지, 테스트셋 147개 이미지입니다.\n",
    "\n",
    "2. 실습내용\n",
    "    - 아래 예시코드를 참고하여 이미지 분류 성능을 높이는 실습입니다.\n",
    "    - 아래 예시는 간단하게 폴더에서 이미지 파일을 읽어와서 숫자로 변경하고, 해당 숫자를 이용하여 SVM 기본 모델을 학습했습니다. 정확도는 약 14%로 매우 저조합니다.\n",
    "    - 아래 내용을 참고하여 다양한 시도(모델 변경, 이미지 features 전처리 등)를 하여 모델 성능을 높여보세요!\n",
    "\n",
    "3. 참고\n",
    "    - 해당 실습은 수강생분들의 현재까지 머신러닝에 대한 이해를 돕기위한 실습입니다.\n",
    "    - 데이터셋이나 코드 등에 문제가 있을경우 말씀 부탁드리겠습니다! "
   ]
  },
  {
   "cell_type": "code",
   "execution_count": null,
   "id": "a3bc4719",
   "metadata": {},
   "outputs": [],
   "source": [
    "# !pip install --upgrade pip\n",
    "# !pip install tqdm"
   ]
  },
  {
   "cell_type": "code",
   "execution_count": null,
   "id": "deaefb3f",
   "metadata": {},
   "outputs": [],
   "source": [
    "import os\n",
    "from tqdm import tqdm\n",
    "import pandas as pd\n",
    "import numpy as np\n",
    "from PIL import Image\n",
    "\n",
    "from sklearn.preprocessing import LabelEncoder\n",
    "from sklearn.model_selection import train_test_split\n",
    "from sklearn.metrics import accuracy_score, classification_report, confusion_matrix\n",
    "from sklearn.svm import SVC"
   ]
  },
  {
   "cell_type": "markdown",
   "id": "a72f2a42",
   "metadata": {},
   "source": [
    "### Load dataset"
   ]
  },
  {
   "cell_type": "code",
   "execution_count": null,
   "id": "044c0691",
   "metadata": {},
   "outputs": [],
   "source": [
    "list_of_files = []\n",
    "for filename in os.listdir('./data/flowers'):\n",
    "    flower_name = filename.split('_')[0]\n",
    "    filepath = os.path.join('./data/flowers', filename)\n",
    "    \n",
    "    list_of_files.append((flower_name, filepath))"
   ]
  },
  {
   "cell_type": "code",
   "execution_count": null,
   "id": "81703435",
   "metadata": {},
   "outputs": [],
   "source": [
    "print(len(list_of_files))"
   ]
  },
  {
   "cell_type": "code",
   "execution_count": null,
   "id": "f02f317c",
   "metadata": {},
   "outputs": [],
   "source": [
    "df = pd.DataFrame(data=list_of_files, columns=['label', 'filepath'])\n",
    "print(df.head())"
   ]
  },
  {
   "cell_type": "code",
   "execution_count": null,
   "id": "25c1ff23",
   "metadata": {},
   "outputs": [],
   "source": [
    "train_x, test_x, original_train_y, original_test_y = train_test_split(df['filepath'].values, df['label'].values, \n",
    "                                                                      test_size=0.2)"
   ]
  },
  {
   "cell_type": "code",
   "execution_count": null,
   "id": "aefcb1d3",
   "metadata": {},
   "outputs": [],
   "source": [
    "def convert_img_to_arr(filepath):\n",
    "    img = np.array(Image.open(filepath))\n",
    "    resize_img = np.resize(img, (10, 10, 3) )\n",
    "    resize_img = resize_img.astype('float32')\n",
    "    resize_img /= 255\n",
    "    \n",
    "    return resize_img"
   ]
  },
  {
   "cell_type": "code",
   "execution_count": null,
   "id": "c651f30c",
   "metadata": {},
   "outputs": [],
   "source": [
    "train_x = [convert_img_to_arr(x).reshape(-1, 10 * 10 * 3) for x in tqdm(train_x)]\n",
    "test_x = [convert_img_to_arr(x).reshape(-1, 10 * 10 * 3) for x in tqdm(test_x)]"
   ]
  },
  {
   "cell_type": "code",
   "execution_count": null,
   "id": "93214ea4",
   "metadata": {},
   "outputs": [],
   "source": [
    "train_x = [item for sublist in train_x for item in sublist]\n",
    "test_x = [item for sublist in test_x for item in sublist]"
   ]
  },
  {
   "cell_type": "code",
   "execution_count": null,
   "id": "e04495f7",
   "metadata": {},
   "outputs": [],
   "source": [
    "labelencoder = LabelEncoder()\n",
    "train_y = labelencoder.fit_transform(original_train_y)\n",
    "test_y = labelencoder.fit_transform(original_test_y)"
   ]
  },
  {
   "cell_type": "code",
   "execution_count": null,
   "id": "a118ef28",
   "metadata": {},
   "outputs": [],
   "source": [
    "len(train_x), len(test_x)"
   ]
  },
  {
   "cell_type": "code",
   "execution_count": null,
   "id": "6a66a12a",
   "metadata": {},
   "outputs": [],
   "source": [
    "len(train_x[0]), len(test_x[0])"
   ]
  },
  {
   "cell_type": "markdown",
   "id": "70a26a1a",
   "metadata": {},
   "source": [
    "### Train model and Evaluate"
   ]
  },
  {
   "cell_type": "code",
   "execution_count": null,
   "id": "973f19b8",
   "metadata": {},
   "outputs": [],
   "source": [
    "model = SVC(kernel='rbf', verbose=True)\n",
    "model.fit(train_x, train_y)"
   ]
  },
  {
   "cell_type": "code",
   "execution_count": null,
   "id": "ffcc74c3",
   "metadata": {},
   "outputs": [],
   "source": [
    "pred = model.predict(test_x)"
   ]
  },
  {
   "cell_type": "code",
   "execution_count": null,
   "id": "dec7677c",
   "metadata": {},
   "outputs": [],
   "source": [
    "accuracy_score(test_y, pred)"
   ]
  },
  {
   "cell_type": "code",
   "execution_count": null,
   "id": "4b884699",
   "metadata": {},
   "outputs": [],
   "source": [
    "confusion_matrix(test_y, pred)"
   ]
  },
  {
   "cell_type": "code",
   "execution_count": null,
   "id": "086419e9",
   "metadata": {},
   "outputs": [],
   "source": []
  }
 ],
 "metadata": {
  "kernelspec": {
   "display_name": "Python 3 (ipykernel)",
   "language": "python",
   "name": "python3"
  },
  "language_info": {
   "codemirror_mode": {
    "name": "ipython",
    "version": 3
   },
   "file_extension": ".py",
   "mimetype": "text/x-python",
   "name": "python",
   "nbconvert_exporter": "python",
   "pygments_lexer": "ipython3",
   "version": "3.7.12"
  }
 },
 "nbformat": 4,
 "nbformat_minor": 5
}
