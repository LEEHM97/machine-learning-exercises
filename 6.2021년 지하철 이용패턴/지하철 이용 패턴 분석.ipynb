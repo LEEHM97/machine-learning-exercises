{
 "cells": [
  {
   "cell_type": "markdown",
   "id": "wicked-punch",
   "metadata": {
    "id": "wicked-punch"
   },
   "source": [
    "## 2021년 지하철 이용 패턴 분석\n",
    "\n",
    "`(클러스터링 Task)`"
   ]
  },
  {
   "cell_type": "markdown",
   "id": "second-release",
   "metadata": {
    "id": "second-release"
   },
   "source": [
    "- ML project를 위해서 사용하는 템플릿 코드를 만듭니다.\n",
    "\n",
    "1. **필요한 라이브러리와 데이터를 불러옵니다.**\n",
    "\n",
    "\n",
    "2. **EDA를 수행합니다.** 이 때 EDA의 목적은 풀어야하는 문제를 위해서 수행됩니다.\n",
    "\n",
    "\n",
    "3. **전처리를 수행합니다.** 이 때 중요한건 **feature engineering**을 어떻게 하느냐 입니다.\n",
    "\n",
    "\n",
    "4. **학습을 진행합니다.** 어떤 모델을 사용하여 학습할지 정합니다. 클러스터링 모델은 상황에 따라 여러가지 변수가 있으니, EDA 결과를 잘 보고 모델을 고르시면 됩니다.\n",
    "\n",
    "\n",
    "5. **정량 평가을 진행합니다.** elbow method, silhouette score등을 사용해서 optimal number of cluster나, threshold를 찾아보세요.\n",
    "\n",
    "\n",
    "6. **정성 평가를 진행합니다.** 분석 결과의 시각화된 정보나, 클러스터별 요약 정보를 정의해서 확인해보세요. 클러스터링은 결과 해석이 무엇보다 중요합니다!"
   ]
  },
  {
   "cell_type": "markdown",
   "id": "lonely-encoding",
   "metadata": {
    "id": "lonely-encoding"
   },
   "source": [
    "### 1. 데이터 불러오기 "
   ]
  },
  {
   "cell_type": "code",
   "execution_count": 15,
   "id": "bibliographic-satellite",
   "metadata": {
    "ExecuteTime": {
     "end_time": "2022-05-31T04:52:31.547695Z",
     "start_time": "2022-05-31T04:52:31.051096Z"
    },
    "id": "bibliographic-satellite"
   },
   "outputs": [],
   "source": [
    "# 데이터와 필요한 라이브러리를 불러오세요.\n",
    "import numpy as np\n",
    "import pandas as pd\n",
    "import matplotlib.pyplot as plt\n",
    "import seaborn as sns\n",
    "from sklearn.cluster import KMeans\n",
    "from sklearn.cluster import DBSCAN\n",
    "from sklearn.cluster import SpectralClustering\n",
    "from sklearn.metrics import silhouette_score\n",
    "\n",
    "df = pd.read_excel(\"C:/Users/gmlkd/data/2021년 11월  교통카드 통계자료.xls\", \n",
    "                   sheet_name='지하철 시간대별 이용현황')\n",
    "                   "
   ]
  },
  {
   "cell_type": "code",
   "execution_count": 19,
   "id": "a5fcc1b1",
   "metadata": {
    "ExecuteTime": {
     "end_time": "2022-05-31T04:56:36.662022Z",
     "start_time": "2022-05-31T04:56:36.644499Z"
    }
   },
   "outputs": [
    {
     "data": {
      "text/html": [
       "<div>\n",
       "<style scoped>\n",
       "    .dataframe tbody tr th:only-of-type {\n",
       "        vertical-align: middle;\n",
       "    }\n",
       "\n",
       "    .dataframe tbody tr th {\n",
       "        vertical-align: top;\n",
       "    }\n",
       "\n",
       "    .dataframe thead th {\n",
       "        text-align: right;\n",
       "    }\n",
       "</style>\n",
       "<table border=\"1\" class=\"dataframe\">\n",
       "  <thead>\n",
       "    <tr style=\"text-align: right;\">\n",
       "      <th></th>\n",
       "      <th>사용월</th>\n",
       "      <th>호선명</th>\n",
       "      <th>역ID</th>\n",
       "      <th>지하철역</th>\n",
       "      <th>04:00:00~04:59:59</th>\n",
       "      <th>Unnamed: 5</th>\n",
       "      <th>05:00:00~05:59:59</th>\n",
       "      <th>Unnamed: 7</th>\n",
       "      <th>06:00:00~06:59:59</th>\n",
       "      <th>Unnamed: 9</th>\n",
       "      <th>...</th>\n",
       "      <th>Unnamed: 43</th>\n",
       "      <th>00:00:00~00:59:59</th>\n",
       "      <th>Unnamed: 45</th>\n",
       "      <th>01:00:00~01:59:59</th>\n",
       "      <th>Unnamed: 47</th>\n",
       "      <th>02:00:00~02:59:59</th>\n",
       "      <th>Unnamed: 49</th>\n",
       "      <th>03:00:00~03:59:59</th>\n",
       "      <th>Unnamed: 51</th>\n",
       "      <th>작업일시</th>\n",
       "    </tr>\n",
       "  </thead>\n",
       "  <tbody>\n",
       "    <tr>\n",
       "      <th>0</th>\n",
       "      <td>NaN</td>\n",
       "      <td>NaN</td>\n",
       "      <td>NaN</td>\n",
       "      <td>NaN</td>\n",
       "      <td>승차</td>\n",
       "      <td>하차</td>\n",
       "      <td>승차</td>\n",
       "      <td>하차</td>\n",
       "      <td>승차</td>\n",
       "      <td>하차</td>\n",
       "      <td>...</td>\n",
       "      <td>하차</td>\n",
       "      <td>승차</td>\n",
       "      <td>하차</td>\n",
       "      <td>승차</td>\n",
       "      <td>하차</td>\n",
       "      <td>승차</td>\n",
       "      <td>하차</td>\n",
       "      <td>승차</td>\n",
       "      <td>하차</td>\n",
       "      <td>NaN</td>\n",
       "    </tr>\n",
       "    <tr>\n",
       "      <th>1</th>\n",
       "      <td>2021-11</td>\n",
       "      <td>1호선</td>\n",
       "      <td>1.0</td>\n",
       "      <td>서울역</td>\n",
       "      <td>630</td>\n",
       "      <td>11</td>\n",
       "      <td>8,985</td>\n",
       "      <td>7,058</td>\n",
       "      <td>12,028</td>\n",
       "      <td>40,803</td>\n",
       "      <td>...</td>\n",
       "      <td>12,360</td>\n",
       "      <td>101</td>\n",
       "      <td>1,257</td>\n",
       "      <td>1</td>\n",
       "      <td>3</td>\n",
       "      <td>2</td>\n",
       "      <td>2</td>\n",
       "      <td>0</td>\n",
       "      <td>0</td>\n",
       "      <td>2021-12-03 10:49:10</td>\n",
       "    </tr>\n",
       "    <tr>\n",
       "      <th>2</th>\n",
       "      <td>2021-11</td>\n",
       "      <td>1호선</td>\n",
       "      <td>10.0</td>\n",
       "      <td>동묘앞</td>\n",
       "      <td>141</td>\n",
       "      <td>1</td>\n",
       "      <td>2,570</td>\n",
       "      <td>907</td>\n",
       "      <td>3,387</td>\n",
       "      <td>4,074</td>\n",
       "      <td>...</td>\n",
       "      <td>2,974</td>\n",
       "      <td>8</td>\n",
       "      <td>2,017</td>\n",
       "      <td>0</td>\n",
       "      <td>2</td>\n",
       "      <td>0</td>\n",
       "      <td>0</td>\n",
       "      <td>0</td>\n",
       "      <td>0</td>\n",
       "      <td>2021-12-03 10:49:10</td>\n",
       "    </tr>\n",
       "    <tr>\n",
       "      <th>3</th>\n",
       "      <td>2021-11</td>\n",
       "      <td>1호선</td>\n",
       "      <td>2.0</td>\n",
       "      <td>시청</td>\n",
       "      <td>30</td>\n",
       "      <td>0</td>\n",
       "      <td>2,006</td>\n",
       "      <td>4,859</td>\n",
       "      <td>2,980</td>\n",
       "      <td>19,785</td>\n",
       "      <td>...</td>\n",
       "      <td>2,196</td>\n",
       "      <td>65</td>\n",
       "      <td>309</td>\n",
       "      <td>0</td>\n",
       "      <td>0</td>\n",
       "      <td>0</td>\n",
       "      <td>0</td>\n",
       "      <td>0</td>\n",
       "      <td>0</td>\n",
       "      <td>2021-12-03 10:49:10</td>\n",
       "    </tr>\n",
       "    <tr>\n",
       "      <th>4</th>\n",
       "      <td>2021-11</td>\n",
       "      <td>1호선</td>\n",
       "      <td>3.0</td>\n",
       "      <td>종각</td>\n",
       "      <td>118</td>\n",
       "      <td>1</td>\n",
       "      <td>2,639</td>\n",
       "      <td>3,960</td>\n",
       "      <td>3,158</td>\n",
       "      <td>20,401</td>\n",
       "      <td>...</td>\n",
       "      <td>2,786</td>\n",
       "      <td>212</td>\n",
       "      <td>321</td>\n",
       "      <td>0</td>\n",
       "      <td>0</td>\n",
       "      <td>0</td>\n",
       "      <td>0</td>\n",
       "      <td>0</td>\n",
       "      <td>0</td>\n",
       "      <td>2021-12-03 10:49:10</td>\n",
       "    </tr>\n",
       "    <tr>\n",
       "      <th>...</th>\n",
       "      <td>...</td>\n",
       "      <td>...</td>\n",
       "      <td>...</td>\n",
       "      <td>...</td>\n",
       "      <td>...</td>\n",
       "      <td>...</td>\n",
       "      <td>...</td>\n",
       "      <td>...</td>\n",
       "      <td>...</td>\n",
       "      <td>...</td>\n",
       "      <td>...</td>\n",
       "      <td>...</td>\n",
       "      <td>...</td>\n",
       "      <td>...</td>\n",
       "      <td>...</td>\n",
       "      <td>...</td>\n",
       "      <td>...</td>\n",
       "      <td>...</td>\n",
       "      <td>...</td>\n",
       "      <td>...</td>\n",
       "      <td>...</td>\n",
       "    </tr>\n",
       "    <tr>\n",
       "      <th>605</th>\n",
       "      <td>2021-11</td>\n",
       "      <td>우이신설선</td>\n",
       "      <td>721.0</td>\n",
       "      <td>북한산보국문</td>\n",
       "      <td>3</td>\n",
       "      <td>0</td>\n",
       "      <td>1,954</td>\n",
       "      <td>501</td>\n",
       "      <td>6,236</td>\n",
       "      <td>2,314</td>\n",
       "      <td>...</td>\n",
       "      <td>5,016</td>\n",
       "      <td>0</td>\n",
       "      <td>0</td>\n",
       "      <td>0</td>\n",
       "      <td>0</td>\n",
       "      <td>0</td>\n",
       "      <td>0</td>\n",
       "      <td>0</td>\n",
       "      <td>0</td>\n",
       "      <td>2021-12-03 10:49:10</td>\n",
       "    </tr>\n",
       "    <tr>\n",
       "      <th>606</th>\n",
       "      <td>2021-11</td>\n",
       "      <td>우이신설선</td>\n",
       "      <td>722.0</td>\n",
       "      <td>정릉</td>\n",
       "      <td>2</td>\n",
       "      <td>2</td>\n",
       "      <td>1,948</td>\n",
       "      <td>443</td>\n",
       "      <td>5,096</td>\n",
       "      <td>1,819</td>\n",
       "      <td>...</td>\n",
       "      <td>2,544</td>\n",
       "      <td>0</td>\n",
       "      <td>1</td>\n",
       "      <td>0</td>\n",
       "      <td>0</td>\n",
       "      <td>0</td>\n",
       "      <td>0</td>\n",
       "      <td>0</td>\n",
       "      <td>0</td>\n",
       "      <td>2021-12-03 10:49:10</td>\n",
       "    </tr>\n",
       "    <tr>\n",
       "      <th>607</th>\n",
       "      <td>2021-11</td>\n",
       "      <td>우이신설선</td>\n",
       "      <td>723.0</td>\n",
       "      <td>성신여대입구(돈암)</td>\n",
       "      <td>1</td>\n",
       "      <td>0</td>\n",
       "      <td>749</td>\n",
       "      <td>448</td>\n",
       "      <td>971</td>\n",
       "      <td>1,239</td>\n",
       "      <td>...</td>\n",
       "      <td>1,479</td>\n",
       "      <td>1</td>\n",
       "      <td>0</td>\n",
       "      <td>0</td>\n",
       "      <td>0</td>\n",
       "      <td>0</td>\n",
       "      <td>0</td>\n",
       "      <td>0</td>\n",
       "      <td>0</td>\n",
       "      <td>2021-12-03 10:49:10</td>\n",
       "    </tr>\n",
       "    <tr>\n",
       "      <th>608</th>\n",
       "      <td>2021-11</td>\n",
       "      <td>우이신설선</td>\n",
       "      <td>724.0</td>\n",
       "      <td>보문</td>\n",
       "      <td>1</td>\n",
       "      <td>0</td>\n",
       "      <td>440</td>\n",
       "      <td>184</td>\n",
       "      <td>851</td>\n",
       "      <td>1,345</td>\n",
       "      <td>...</td>\n",
       "      <td>822</td>\n",
       "      <td>2</td>\n",
       "      <td>31</td>\n",
       "      <td>0</td>\n",
       "      <td>0</td>\n",
       "      <td>0</td>\n",
       "      <td>0</td>\n",
       "      <td>0</td>\n",
       "      <td>0</td>\n",
       "      <td>2021-12-03 10:49:10</td>\n",
       "    </tr>\n",
       "    <tr>\n",
       "      <th>609</th>\n",
       "      <td>2021-11</td>\n",
       "      <td>우이신설선</td>\n",
       "      <td>725.0</td>\n",
       "      <td>신설동</td>\n",
       "      <td>73</td>\n",
       "      <td>1</td>\n",
       "      <td>865</td>\n",
       "      <td>829</td>\n",
       "      <td>917</td>\n",
       "      <td>2,033</td>\n",
       "      <td>...</td>\n",
       "      <td>527</td>\n",
       "      <td>1</td>\n",
       "      <td>131</td>\n",
       "      <td>0</td>\n",
       "      <td>0</td>\n",
       "      <td>0</td>\n",
       "      <td>0</td>\n",
       "      <td>0</td>\n",
       "      <td>0</td>\n",
       "      <td>2021-12-03 10:49:10</td>\n",
       "    </tr>\n",
       "  </tbody>\n",
       "</table>\n",
       "<p>610 rows × 53 columns</p>\n",
       "</div>"
      ],
      "text/plain": [
       "         사용월    호선명    역ID        지하철역 04:00:00~04:59:59 Unnamed: 5  \\\n",
       "0        NaN    NaN    NaN         NaN                승차         하차   \n",
       "1    2021-11    1호선    1.0         서울역               630         11   \n",
       "2    2021-11    1호선   10.0         동묘앞               141          1   \n",
       "3    2021-11    1호선    2.0          시청                30          0   \n",
       "4    2021-11    1호선    3.0          종각               118          1   \n",
       "..       ...    ...    ...         ...               ...        ...   \n",
       "605  2021-11  우이신설선  721.0      북한산보국문                 3          0   \n",
       "606  2021-11  우이신설선  722.0          정릉                 2          2   \n",
       "607  2021-11  우이신설선  723.0  성신여대입구(돈암)                 1          0   \n",
       "608  2021-11  우이신설선  724.0          보문                 1          0   \n",
       "609  2021-11  우이신설선  725.0         신설동                73          1   \n",
       "\n",
       "    05:00:00~05:59:59 Unnamed: 7 06:00:00~06:59:59 Unnamed: 9  ...  \\\n",
       "0                  승차         하차                승차         하차  ...   \n",
       "1               8,985      7,058            12,028     40,803  ...   \n",
       "2               2,570        907             3,387      4,074  ...   \n",
       "3               2,006      4,859             2,980     19,785  ...   \n",
       "4               2,639      3,960             3,158     20,401  ...   \n",
       "..                ...        ...               ...        ...  ...   \n",
       "605             1,954        501             6,236      2,314  ...   \n",
       "606             1,948        443             5,096      1,819  ...   \n",
       "607               749        448               971      1,239  ...   \n",
       "608               440        184               851      1,345  ...   \n",
       "609               865        829               917      2,033  ...   \n",
       "\n",
       "    Unnamed: 43 00:00:00~00:59:59 Unnamed: 45 01:00:00~01:59:59 Unnamed: 47  \\\n",
       "0            하차                승차          하차                승차          하차   \n",
       "1        12,360               101       1,257                 1           3   \n",
       "2         2,974                 8       2,017                 0           2   \n",
       "3         2,196                65         309                 0           0   \n",
       "4         2,786               212         321                 0           0   \n",
       "..          ...               ...         ...               ...         ...   \n",
       "605       5,016                 0           0                 0           0   \n",
       "606       2,544                 0           1                 0           0   \n",
       "607       1,479                 1           0                 0           0   \n",
       "608         822                 2          31                 0           0   \n",
       "609         527                 1         131                 0           0   \n",
       "\n",
       "    02:00:00~02:59:59 Unnamed: 49 03:00:00~03:59:59 Unnamed: 51  \\\n",
       "0                  승차          하차                승차          하차   \n",
       "1                   2           2                 0           0   \n",
       "2                   0           0                 0           0   \n",
       "3                   0           0                 0           0   \n",
       "4                   0           0                 0           0   \n",
       "..                ...         ...               ...         ...   \n",
       "605                 0           0                 0           0   \n",
       "606                 0           0                 0           0   \n",
       "607                 0           0                 0           0   \n",
       "608                 0           0                 0           0   \n",
       "609                 0           0                 0           0   \n",
       "\n",
       "                    작업일시  \n",
       "0                    NaN  \n",
       "1    2021-12-03 10:49:10  \n",
       "2    2021-12-03 10:49:10  \n",
       "3    2021-12-03 10:49:10  \n",
       "4    2021-12-03 10:49:10  \n",
       "..                   ...  \n",
       "605  2021-12-03 10:49:10  \n",
       "606  2021-12-03 10:49:10  \n",
       "607  2021-12-03 10:49:10  \n",
       "608  2021-12-03 10:49:10  \n",
       "609  2021-12-03 10:49:10  \n",
       "\n",
       "[610 rows x 53 columns]"
      ]
     },
     "execution_count": 19,
     "metadata": {},
     "output_type": "execute_result"
    }
   ],
   "source": [
    "df"
   ]
  },
  {
   "cell_type": "markdown",
   "id": "alone-respondent",
   "metadata": {
    "id": "alone-respondent"
   },
   "source": [
    "### 2. EDA\n",
    "\n",
    "- 데이터에서 찾아야 하는 기초적인 내용들을 확인합니다.\n",
    "\n",
    "- 클러스터링에서는 데이터 단위(row)를 잘 정의하는 것이 제일 중요합니다. Customer segmentation할 때를 떠올려보세요.\n",
    "\n",
    "\n",
    "- class imbalance, target distribution, outlier, correlation을 확인합니다."
   ]
  },
  {
   "cell_type": "code",
   "execution_count": null,
   "id": "false-month",
   "metadata": {
    "id": "false-month"
   },
   "outputs": [],
   "source": [
    "# EDA를 수행합니다.\n"
   ]
  },
  {
   "cell_type": "markdown",
   "id": "9dbb8802",
   "metadata": {
    "id": "9dbb8802"
   },
   "source": [
    "### 3. 전처리"
   ]
  },
  {
   "cell_type": "markdown",
   "id": "b79a6f0a",
   "metadata": {
    "id": "b79a6f0a"
   },
   "source": [
    "#### 결측치 처리"
   ]
  },
  {
   "cell_type": "code",
   "execution_count": null,
   "id": "bbafdcd0",
   "metadata": {
    "id": "bbafdcd0"
   },
   "outputs": [],
   "source": [
    "# 결측치가 있는 column\n"
   ]
  },
  {
   "cell_type": "code",
   "execution_count": null,
   "id": "c4d33e12",
   "metadata": {
    "id": "c4d33e12",
    "scrolled": true
   },
   "outputs": [],
   "source": [
    "# 중복정보가 있는 column 제거하기 위해 상관계수를 확인해봅니다.\n",
    "correlated_features = "
   ]
  },
  {
   "cell_type": "markdown",
   "id": "0b757dc0",
   "metadata": {
    "id": "0b757dc0"
   },
   "source": [
    "#### 다중공선성 처리"
   ]
  },
  {
   "cell_type": "code",
   "execution_count": null,
   "id": "702d47e9",
   "metadata": {
    "id": "702d47e9"
   },
   "outputs": [],
   "source": [
    "# 상관계수가 threshold(e.g. 0.8)를 넘기는 feature들을 제거합니다.\n",
    "threshold = "
   ]
  },
  {
   "cell_type": "markdown",
   "id": "JdO_MINum6pR",
   "metadata": {
    "id": "JdO_MINum6pR"
   },
   "source": [
    "#### Encoding Categorical Features"
   ]
  },
  {
   "cell_type": "code",
   "execution_count": null,
   "id": "tNT9eZB0nAmq",
   "metadata": {
    "id": "tNT9eZB0nAmq"
   },
   "outputs": [],
   "source": [
    "# dtype이 object인 변수들 처리.\n"
   ]
  },
  {
   "cell_type": "markdown",
   "id": "606493f0",
   "metadata": {
    "id": "606493f0"
   },
   "source": [
    "#### feature extraction\n",
    "\n",
    "- 차원의 저주를 해결하거나, 데이터의 feature 조합을 이용하는 새로운 feature를 생성할 때, PCA를 사용합니다.\n",
    "\n",
    "- 분석에 사용할 feature를 선택하는 과정도 포함합니다."
   ]
  },
  {
   "cell_type": "code",
   "execution_count": null,
   "id": "4a137c94",
   "metadata": {
    "id": "4a137c94"
   },
   "outputs": [],
   "source": [
    "# PCA 적용\n",
    "from sklearn.decomposition import PCA\n",
    "\n",
    "if feature_reducing:\n",
    "    pca = PCA(n_components=0.9) # PCA(n_components=6)\n",
    "    pca_data = pca.fit_transform(X)"
   ]
  },
  {
   "cell_type": "markdown",
   "id": "crazy-lobby",
   "metadata": {
    "id": "crazy-lobby"
   },
   "source": [
    "### 4. 학습하기\n",
    "\n",
    "- 데이터가 많다면 KMeans나 MiniBatchKMeans를 추천합니다.\n",
    "\n",
    "- 데이터가 적은데 성능을 높이고 싶다면 SpectralClustering을 추천합니다.\n",
    "\n",
    "- 데이터가 적은데, 클러스터 개수를 적절하게 고르지 못하겠다면 AgglomerativeClustering이나 DBSCAN을 추천합니다.\n",
    "\n",
    "\n",
    "**[K-Means]**\n",
    "\n",
    "- Elbow method를 이용하여 최적의 K값을 찾아보세요.\n",
    "\n",
    "\n",
    "- sparse한 특징을 가지는 데이터를 클러스터링 하기 위해서는 어떤 기법을 사용해야 할까요?\n",
    "\n",
    "\n",
    "- 클러스터링 결과를 시각화해보고, 실루엣 지수도 계산해봅시다.\n",
    "\n",
    "\n",
    "\n",
    "**[Hierarchical Clustering]**\n",
    "\n",
    "- 클러스터 개수를 4로 지정하고, linkage와 affinity를 바꿔가면서 실험해보세요.\n",
    "\n",
    "\n",
    "- 어떤 linkage와 affinity를 쓸지 고민하려면, 어떤 방법을 사용해보면 좋을까요?\n",
    "\n",
    "\n",
    "- dendrogram을 그려보세요. 결과가 잘 나왔나요?\n",
    "\n",
    "\n",
    "\n",
    "**[\bDBSCAN]**\n",
    "\n",
    "- MinPts와 Eps를 잘 조절해보세요. 밀도를 알맞게 조절하는게 제일 중요합니다.\n",
    "\n",
    "\n",
    "- Outlier로 나온 데이터들은 어떻게 하는 것이 좋을까요?\n",
    "\n",
    "\n",
    "\n",
    "**[\bSpectral Clustering]**\n",
    "\n",
    "- 클러스터 개수를 K-means와 같게 지정하고, K-means와 성능을 비교해보세요.\n",
    "\n",
    "\n",
    "- n_components는 몇 차원 공간으로 embedding할지를 정합니다. 5, 10, 20을 테스트해보세요. (무조건 이게 좋다는건 아닙니다.)\n"
   ]
  },
  {
   "cell_type": "code",
   "execution_count": null,
   "id": "arctic-ceremony",
   "metadata": {
    "id": "arctic-ceremony"
   },
   "outputs": [],
   "source": [
    "# 사용할 클러스터링 모델을 불러와서 학습시켜 봅니다.\n"
   ]
  },
  {
   "cell_type": "markdown",
   "id": "gjyD69mjb584",
   "metadata": {
    "id": "gjyD69mjb584"
   },
   "source": [
    "### 5. 정량 평가\n",
    "\n",
    "- elbow method, perplexity, silhouette score 등 다양한 평가 지표를 찾아서 사용해보세요!"
   ]
  },
  {
   "cell_type": "code",
   "execution_count": null,
   "id": "FBGHmx1wb2zY",
   "metadata": {
    "id": "FBGHmx1wb2zY"
   },
   "outputs": [],
   "source": [
    "# optimal K는 어떻게 찾을까요?\n"
   ]
  },
  {
   "cell_type": "markdown",
   "id": "ytqpnvFTcC5O",
   "metadata": {
    "id": "ytqpnvFTcC5O"
   },
   "source": [
    "### 6. 정성 평가\n",
    "\n",
    "- 결과를 해석하는 것이 unsupervised learning에서 굉장히 중요합니다.\n",
    "\n",
    "- 클러스터링 결과를 시각화해보세요. (tSNE)\n",
    "\n",
    "- 만들어진 클러스터 별 요약 정보를 확인해보세요.\n",
    "\n",
    "- 우리의 분석 결과가 reasonable한가요?"
   ]
  },
  {
   "cell_type": "code",
   "execution_count": null,
   "id": "VDRXESVGcOl0",
   "metadata": {
    "id": "VDRXESVGcOl0"
   },
   "outputs": [],
   "source": [
    "# 시각화\n",
    "from sklearn.manifold TSNE\n",
    "\n",
    "tsne = TSNE(n_components=2)\n",
    "tsne_data = tsne.fit_transform(X)\n",
    "\n"
   ]
  },
  {
   "cell_type": "code",
   "execution_count": null,
   "id": "fPF9NIaWcWZT",
   "metadata": {
    "id": "fPF9NIaWcWZT"
   },
   "outputs": [],
   "source": [
    "# 클러스터 별 요약정보 생성 및 출력\n"
   ]
  }
 ],
 "metadata": {
  "colab": {
   "collapsed_sections": [],
   "name": "Chapter.06 실전 머신러닝 프로젝트_Template Code2.ipynb",
   "provenance": []
  },
  "kernelspec": {
   "display_name": "Python 3 (ipykernel)",
   "language": "python",
   "name": "python3"
  },
  "language_info": {
   "codemirror_mode": {
    "name": "ipython",
    "version": 3
   },
   "file_extension": ".py",
   "mimetype": "text/x-python",
   "name": "python",
   "nbconvert_exporter": "python",
   "pygments_lexer": "ipython3",
   "version": "3.8.13"
  },
  "toc": {
   "base_numbering": 1,
   "nav_menu": {},
   "number_sections": true,
   "sideBar": true,
   "skip_h1_title": false,
   "title_cell": "Table of Contents",
   "title_sidebar": "Contents",
   "toc_cell": false,
   "toc_position": {},
   "toc_section_display": true,
   "toc_window_display": false
  },
  "varInspector": {
   "cols": {
    "lenName": 16,
    "lenType": 16,
    "lenVar": 40
   },
   "kernels_config": {
    "python": {
     "delete_cmd_postfix": "",
     "delete_cmd_prefix": "del ",
     "library": "var_list.py",
     "varRefreshCmd": "print(var_dic_list())"
    },
    "r": {
     "delete_cmd_postfix": ") ",
     "delete_cmd_prefix": "rm(",
     "library": "var_list.r",
     "varRefreshCmd": "cat(var_dic_list()) "
    }
   },
   "types_to_exclude": [
    "module",
    "function",
    "builtin_function_or_method",
    "instance",
    "_Feature"
   ],
   "window_display": false
  }
 },
 "nbformat": 4,
 "nbformat_minor": 5
}
